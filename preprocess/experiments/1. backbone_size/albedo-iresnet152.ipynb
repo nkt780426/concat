{
 "cells": [
  {
   "cell_type": "code",
   "execution_count": 1,
   "metadata": {
    "_cell_guid": "b1076dfc-b9ad-4769-8c92-a6c4dae69d19",
    "_uuid": "8f2839f25d086af736a60e9eeb907d3b93b6e0e5",
    "execution": {
     "iopub.execute_input": "2024-12-12T09:43:27.735752Z",
     "iopub.status.busy": "2024-12-12T09:43:27.735385Z",
     "iopub.status.idle": "2024-12-12T09:43:34.092010Z",
     "shell.execute_reply": "2024-12-12T09:43:34.091044Z",
     "shell.execute_reply.started": "2024-12-12T09:43:27.735721Z"
    },
    "trusted": true
   },
   "outputs": [
    {
     "name": "stdout",
     "output_type": "stream",
     "text": [
      "Cloning into 'Bachelor-s-Project'...\n",
      "remote: Enumerating objects: 603, done.\u001b[K\n",
      "remote: Counting objects: 100% (280/280), done.\u001b[K\n",
      "remote: Compressing objects: 100% (213/213), done.\u001b[K\n",
      "remote: Total 603 (delta 76), reused 265 (delta 62), pack-reused 323 (from 1)\u001b[K\n",
      "Receiving objects: 100% (603/603), 129.13 MiB | 38.84 MiB/s, done.\n",
      "Resolving deltas: 100% (77/77), done.\n"
     ]
    }
   ],
   "source": [
    "!git clone https://github.com/nkt780426/Bachelor-s-Project.git"
   ]
  },
  {
   "cell_type": "code",
   "execution_count": 2,
   "metadata": {
    "execution": {
     "iopub.execute_input": "2024-12-12T09:43:34.094045Z",
     "iopub.status.busy": "2024-12-12T09:43:34.093741Z",
     "iopub.status.idle": "2024-12-12T09:43:35.099342Z",
     "shell.execute_reply": "2024-12-12T09:43:35.098339Z",
     "shell.execute_reply.started": "2024-12-12T09:43:34.094017Z"
    },
    "trusted": true
   },
   "outputs": [],
   "source": [
    "!mv Bachelor-s-Project/going_modular ."
   ]
  },
  {
   "cell_type": "code",
   "execution_count": 1,
   "metadata": {
    "execution": {
     "iopub.execute_input": "2024-12-12T09:43:35.525178Z",
     "iopub.status.busy": "2024-12-12T09:43:35.524849Z",
     "iopub.status.idle": "2024-12-12T09:43:47.676526Z",
     "shell.execute_reply": "2024-12-12T09:43:47.675573Z",
     "shell.execute_reply.started": "2024-12-12T09:43:35.525151Z"
    },
    "trusted": true
   },
   "outputs": [],
   "source": [
    "import os\n",
    "\n",
    "import torch\n",
    "from torchinfo import summary\n",
    "from torch.optim.lr_scheduler import CosineAnnealingWarmRestarts\n",
    "\n",
    "from going_modular.dataloader.magface import create_magface_dataloader\n",
    "from going_modular.model.MagFaceRecognition import MagFaceRecognition\n",
    "from going_modular.train_eval.train import fit\n",
    "from going_modular.loss.MagLoss import MagLoss\n",
    "from going_modular.utils.MultiMetricEarlyStopping import MultiMetricEarlyStopping\n",
    "from going_modular.utils.ModelCheckPoint import ModelCheckpoint\n",
    "\n",
    "device = \"cuda\" if torch.cuda.is_available() else \"cpu\"\n",
    "os.environ[\"PYTORCH_CUDA_ALLOC_CONF\"] = \"expandable_segments:True\""
   ]
  },
  {
   "cell_type": "code",
   "execution_count": 2,
   "metadata": {
    "execution": {
     "iopub.execute_input": "2024-12-12T09:43:47.679110Z",
     "iopub.status.busy": "2024-12-12T09:43:47.678420Z",
     "iopub.status.idle": "2024-12-12T09:43:47.689272Z",
     "shell.execute_reply": "2024-12-12T09:43:47.688402Z",
     "shell.execute_reply.started": "2024-12-12T09:43:47.679069Z"
    },
    "trusted": true
   },
   "outputs": [
    {
     "data": {
      "text/plain": [
       "'cuda'"
      ]
     },
     "execution_count": 2,
     "metadata": {},
     "output_type": "execute_result"
    }
   ],
   "source": [
    "device"
   ]
  },
  {
   "cell_type": "code",
   "execution_count": 3,
   "metadata": {
    "execution": {
     "iopub.execute_input": "2024-12-12T09:43:47.690520Z",
     "iopub.status.busy": "2024-12-12T09:43:47.690185Z",
     "iopub.status.idle": "2024-12-12T09:43:47.725630Z",
     "shell.execute_reply": "2024-12-12T09:43:47.724763Z",
     "shell.execute_reply.started": "2024-12-12T09:43:47.690463Z"
    },
    "trusted": true
   },
   "outputs": [
    {
     "ename": "FileNotFoundError",
     "evalue": "[Errno 2] No such file or directory: '/kaggle/input/albedo/Dataset/Albedo/train'",
     "output_type": "error",
     "traceback": [
      "\u001b[0;31m---------------------------------------------------------------------------\u001b[0m",
      "\u001b[0;31mFileNotFoundError\u001b[0m                         Traceback (most recent call last)",
      "Cell \u001b[0;32mIn[3], line 13\u001b[0m\n\u001b[1;32m      1\u001b[0m CONFIGURATION \u001b[38;5;241m=\u001b[39m {\n\u001b[1;32m      2\u001b[0m     \u001b[38;5;66;03m# Thư mục\u001b[39;00m\n\u001b[1;32m      3\u001b[0m     \u001b[38;5;124m'\u001b[39m\u001b[38;5;124mtype\u001b[39m\u001b[38;5;124m'\u001b[39m: \u001b[38;5;124m'\u001b[39m\u001b[38;5;124malbedo\u001b[39m\u001b[38;5;124m'\u001b[39m,\n\u001b[1;32m      4\u001b[0m     \u001b[38;5;124m'\u001b[39m\u001b[38;5;124mtrain_dir\u001b[39m\u001b[38;5;124m'\u001b[39m: \u001b[38;5;124m'\u001b[39m\u001b[38;5;124m/kaggle/input/albedo/Dataset/Albedo/train\u001b[39m\u001b[38;5;124m'\u001b[39m,\n\u001b[1;32m      5\u001b[0m     \u001b[38;5;124m'\u001b[39m\u001b[38;5;124mtest_dir\u001b[39m\u001b[38;5;124m'\u001b[39m: \u001b[38;5;124m'\u001b[39m\u001b[38;5;124m/kaggle/input/albedo/Dataset/Albedo/test\u001b[39m\u001b[38;5;124m'\u001b[39m,\n\u001b[1;32m      6\u001b[0m     \n\u001b[1;32m      7\u001b[0m     \u001b[38;5;66;03m# Cấu hình train\u001b[39;00m\n\u001b[1;32m      8\u001b[0m     \u001b[38;5;124m'\u001b[39m\u001b[38;5;124mbackbone\u001b[39m\u001b[38;5;124m'\u001b[39m: \u001b[38;5;124m'\u001b[39m\u001b[38;5;124miresnet152\u001b[39m\u001b[38;5;124m'\u001b[39m,\n\u001b[1;32m      9\u001b[0m     \u001b[38;5;124m'\u001b[39m\u001b[38;5;124mepochs\u001b[39m\u001b[38;5;124m'\u001b[39m: \u001b[38;5;241m2000\u001b[39m,\n\u001b[1;32m     10\u001b[0m     \u001b[38;5;124m'\u001b[39m\u001b[38;5;124mnum_workers\u001b[39m\u001b[38;5;124m'\u001b[39m: \u001b[38;5;241m4\u001b[39m,\n\u001b[1;32m     11\u001b[0m     \u001b[38;5;124m'\u001b[39m\u001b[38;5;124mbatch_size\u001b[39m\u001b[38;5;124m'\u001b[39m: \u001b[38;5;241m16\u001b[39m,\n\u001b[1;32m     12\u001b[0m     \u001b[38;5;124m'\u001b[39m\u001b[38;5;124mimage_size\u001b[39m\u001b[38;5;124m'\u001b[39m: \u001b[38;5;241m224\u001b[39m,\n\u001b[0;32m---> 13\u001b[0m     \u001b[38;5;124m'\u001b[39m\u001b[38;5;124mnum_class\u001b[39m\u001b[38;5;124m'\u001b[39m: \u001b[38;5;28mlen\u001b[39m(\u001b[43mos\u001b[49m\u001b[38;5;241;43m.\u001b[39;49m\u001b[43mlistdir\u001b[49m\u001b[43m(\u001b[49m\u001b[38;5;124;43m'\u001b[39;49m\u001b[38;5;124;43m/kaggle/input/albedo/Dataset/Albedo/train\u001b[39;49m\u001b[38;5;124;43m'\u001b[39;49m\u001b[43m)\u001b[49m),\n\u001b[1;32m     14\u001b[0m     \u001b[38;5;124m'\u001b[39m\u001b[38;5;124membedding_size\u001b[39m\u001b[38;5;124m'\u001b[39m: \u001b[38;5;241m512\u001b[39m,\n\u001b[1;32m     15\u001b[0m     \n\u001b[1;32m     16\u001b[0m     \u001b[38;5;124m'\u001b[39m\u001b[38;5;124mlearning_rate\u001b[39m\u001b[38;5;124m'\u001b[39m: \u001b[38;5;241m0.1\u001b[39m,\n\u001b[1;32m     17\u001b[0m     \u001b[38;5;124m'\u001b[39m\u001b[38;5;124mweight_decay\u001b[39m\u001b[38;5;124m'\u001b[39m: \u001b[38;5;241m5e-4\u001b[39m,\n\u001b[1;32m     18\u001b[0m     \u001b[38;5;124m'\u001b[39m\u001b[38;5;124mmomentum\u001b[39m\u001b[38;5;124m'\u001b[39m: \u001b[38;5;241m0.9\u001b[39m,\n\u001b[1;32m     19\u001b[0m     \u001b[38;5;124m'\u001b[39m\u001b[38;5;124malpha\u001b[39m\u001b[38;5;124m'\u001b[39m: \u001b[38;5;241m0.9\u001b[39m,\n\u001b[1;32m     20\u001b[0m     \n\u001b[1;32m     21\u001b[0m     \u001b[38;5;66;03m# Hàm m(ai) giúp thay đổi ai từ 0.25 đến 1.6\u001b[39;00m\n\u001b[1;32m     22\u001b[0m     \u001b[38;5;124m'\u001b[39m\u001b[38;5;124mscale\u001b[39m\u001b[38;5;124m'\u001b[39m: \u001b[38;5;241m64\u001b[39m,\n\u001b[1;32m     23\u001b[0m     \u001b[38;5;124m'\u001b[39m\u001b[38;5;124mlambda_g\u001b[39m\u001b[38;5;124m'\u001b[39m: \u001b[38;5;241m20\u001b[39m,\n\u001b[1;32m     24\u001b[0m     \u001b[38;5;124m'\u001b[39m\u001b[38;5;124ml_margin\u001b[39m\u001b[38;5;124m'\u001b[39m: \u001b[38;5;241m0.45\u001b[39m, \n\u001b[1;32m     25\u001b[0m     \u001b[38;5;124m'\u001b[39m\u001b[38;5;124mu_margin\u001b[39m\u001b[38;5;124m'\u001b[39m: \u001b[38;5;241m0.8\u001b[39m,\n\u001b[1;32m     26\u001b[0m     \u001b[38;5;124m'\u001b[39m\u001b[38;5;124ml_a\u001b[39m\u001b[38;5;124m'\u001b[39m: \u001b[38;5;241m10\u001b[39m, \n\u001b[1;32m     27\u001b[0m     \u001b[38;5;124m'\u001b[39m\u001b[38;5;124mu_a\u001b[39m\u001b[38;5;124m'\u001b[39m: \u001b[38;5;241m110\u001b[39m,\n\u001b[1;32m     28\u001b[0m }\n",
      "\u001b[0;31mFileNotFoundError\u001b[0m: [Errno 2] No such file or directory: '/kaggle/input/albedo/Dataset/Albedo/train'"
     ]
    }
   ],
   "source": [
    "CONFIGURATION = {\n",
    "    # Thư mục\n",
    "    'type': 'albedo',\n",
    "    'train_dir': '/kaggle/input/albedo/Dataset/Albedo/train',\n",
    "    'test_dir': '/kaggle/input/albedo/Dataset/Albedo/test',\n",
    "    \n",
    "    # Cấu hình train\n",
    "    'backbone': 'iresnet152',\n",
    "    'epochs': 2000,\n",
    "    'num_workers': 4,\n",
    "    'batch_size': 16,\n",
    "    'image_size': 224,\n",
    "    'num_class': len(os.listdir('/kaggle/input/albedo/Dataset/Albedo/train')),\n",
    "    'embedding_size': 512,\n",
    "    \n",
    "    'learning_rate': 0.1,\n",
    "    'weight_decay': 5e-4,\n",
    "    'momentum': 0.9,\n",
    "    'alpha': 0.9,\n",
    "    \n",
    "    # Hàm m(ai) giúp thay đổi ai từ 0.25 đến 1.6\n",
    "    'scale': 64,\n",
    "    'lambda_g': 20,\n",
    "    'l_margin': 0.45, \n",
    "    'u_margin': 0.8,\n",
    "    'l_a': 10, \n",
    "    'u_a': 110,\n",
    "}"
   ]
  },
  {
   "cell_type": "code",
   "execution_count": 6,
   "metadata": {
    "execution": {
     "iopub.execute_input": "2024-12-12T09:43:47.727993Z",
     "iopub.status.busy": "2024-12-12T09:43:47.727654Z",
     "iopub.status.idle": "2024-12-12T09:43:47.734695Z",
     "shell.execute_reply": "2024-12-12T09:43:47.733899Z",
     "shell.execute_reply.started": "2024-12-12T09:43:47.727958Z"
    },
    "trusted": true
   },
   "outputs": [
    {
     "data": {
      "text/plain": [
       "<torch._C.Generator at 0x7840df160ed0>"
      ]
     },
     "execution_count": 6,
     "metadata": {},
     "output_type": "execute_result"
    }
   ],
   "source": [
    "# Đặt seed toàn cục\n",
    "seed = 42\n",
    "torch.manual_seed(seed)"
   ]
  },
  {
   "cell_type": "code",
   "execution_count": 7,
   "metadata": {
    "execution": {
     "iopub.execute_input": "2024-12-12T09:43:47.735843Z",
     "iopub.status.busy": "2024-12-12T09:43:47.735540Z",
     "iopub.status.idle": "2024-12-12T09:43:49.632122Z",
     "shell.execute_reply": "2024-12-12T09:43:49.631124Z",
     "shell.execute_reply.started": "2024-12-12T09:43:47.735809Z"
    },
    "trusted": true
   },
   "outputs": [],
   "source": [
    "train_dataloader, val_dataloader = create_magface_dataloader(CONFIGURATION, None, None)"
   ]
  },
  {
   "cell_type": "code",
   "execution_count": 8,
   "metadata": {
    "execution": {
     "iopub.execute_input": "2024-12-12T09:43:49.633784Z",
     "iopub.status.busy": "2024-12-12T09:43:49.633386Z",
     "iopub.status.idle": "2024-12-12T09:43:51.926181Z",
     "shell.execute_reply": "2024-12-12T09:43:51.925221Z",
     "shell.execute_reply.started": "2024-12-12T09:43:49.633747Z"
    },
    "trusted": true
   },
   "outputs": [],
   "source": [
    "model = MagFaceRecognition(CONFIGURATION).to(device)\n",
    "criterion = MagLoss(conf = CONFIGURATION)\n",
    "optimizer = torch.optim.Adam(model.parameters(), lr=CONFIGURATION['learning_rate'])\n",
    "scheduler = CosineAnnealingWarmRestarts(optimizer, T_0=40, T_mult=1, eta_min=1e-6)\n",
    "checkpoint_path = os.path.abspath('checkpoint/magface/albedo/' + CONFIGURATION['backbone'] + '/models/checkpoint.pth')\n",
    "modle_checkpoint = ModelCheckpoint(filepath=checkpoint_path, verbose=1)\n",
    "earlystop_dir = os.path.abspath('checkpoint/magface/albedo/' + CONFIGURATION['backbone'] + '/models')\n",
    "early_stopping = MultiMetricEarlyStopping(\n",
    "    monitor_keys=['val_euclidean_accuracy', 'val_cosine_accuracy', 'val_auc_euclidean', 'val_auc_cosine'],\n",
    "    patience=40,\n",
    "    mode='max',\n",
    "    verbose=1,\n",
    "    save_dir=earlystop_dir,\n",
    "    start_from_epoch=60\n",
    ")            "
   ]
  },
  {
   "cell_type": "code",
   "execution_count": 9,
   "metadata": {
    "execution": {
     "iopub.execute_input": "2024-12-12T09:44:03.133859Z",
     "iopub.status.busy": "2024-12-12T09:44:03.132530Z",
     "iopub.status.idle": "2024-12-12T10:31:03.022358Z",
     "shell.execute_reply": "2024-12-12T10:31:03.020584Z",
     "shell.execute_reply.started": "2024-12-12T09:44:03.133811Z"
    },
    "trusted": true
   },
   "outputs": [
    {
     "name": "stderr",
     "output_type": "stream",
     "text": [
      "/opt/conda/lib/python3.10/multiprocessing/popen_fork.py:66: RuntimeWarning: os.fork() was called. os.fork() is incompatible with multithreaded code, and JAX is multithreaded, so this will likely lead to a deadlock.\n",
      "  self.pid = os.fork()\n",
      "/opt/conda/lib/python3.10/multiprocessing/popen_fork.py:66: RuntimeWarning: os.fork() was called. os.fork() is incompatible with multithreaded code, and JAX is multithreaded, so this will likely lead to a deadlock.\n",
      "  self.pid = os.fork()\n",
      "/opt/conda/lib/python3.10/multiprocessing/popen_fork.py:66: RuntimeWarning: os.fork() was called. os.fork() is incompatible with multithreaded code, and JAX is multithreaded, so this will likely lead to a deadlock.\n",
      "  self.pid = os.fork()\n",
      "/opt/conda/lib/python3.10/multiprocessing/popen_fork.py:66: RuntimeWarning: os.fork() was called. os.fork() is incompatible with multithreaded code, and JAX is multithreaded, so this will likely lead to a deadlock.\n",
      "  self.pid = os.fork()\n"
     ]
    },
    {
     "name": "stdout",
     "output_type": "stream",
     "text": [
      "Epoch 1:\n",
      "\ttrain: loss 3.890 | loss id   3.87 | top_1_acc 0.0052 | top_5_acc 0.0224 | acc_eu: 0.506 | acc_cos: 0.880 | auc_eu: 0.589 | auc_cos: 0.500\n",
      "\tval: acc_eu: 0.745 | acc_cos: 0.897 | auc_eu: 0.631 | auc_cos: 0.479\n",
      "\u001b[36m\tSaving model to /kaggle/working/checkpoint/magface/albedo/iresnet152/models/checkpoint.pth\u001b[0m\n"
     ]
    },
    {
     "name": "stderr",
     "output_type": "stream",
     "text": [
      "/opt/conda/lib/python3.10/multiprocessing/popen_fork.py:66: RuntimeWarning: os.fork() was called. os.fork() is incompatible with multithreaded code, and JAX is multithreaded, so this will likely lead to a deadlock.\n",
      "  self.pid = os.fork()\n",
      "/opt/conda/lib/python3.10/multiprocessing/popen_fork.py:66: RuntimeWarning: os.fork() was called. os.fork() is incompatible with multithreaded code, and JAX is multithreaded, so this will likely lead to a deadlock.\n",
      "  self.pid = os.fork()\n",
      "/opt/conda/lib/python3.10/multiprocessing/popen_fork.py:66: RuntimeWarning: os.fork() was called. os.fork() is incompatible with multithreaded code, and JAX is multithreaded, so this will likely lead to a deadlock.\n",
      "  self.pid = os.fork()\n",
      "/opt/conda/lib/python3.10/multiprocessing/popen_fork.py:66: RuntimeWarning: os.fork() was called. os.fork() is incompatible with multithreaded code, and JAX is multithreaded, so this will likely lead to a deadlock.\n",
      "  self.pid = os.fork()\n"
     ]
    },
    {
     "name": "stdout",
     "output_type": "stream",
     "text": [
      "Epoch 2:\n",
      "\ttrain: loss 3.831 | loss id   3.81 | top_1_acc 0.0060 | top_5_acc 0.0306 | acc_eu: 0.758 | acc_cos: 0.400 | auc_eu: 0.577 | auc_cos: 0.578\n",
      "\tval: acc_eu: 0.787 | acc_cos: 0.370 | auc_eu: 0.586 | auc_cos: 0.585\n",
      "\u001b[36m\tSaving model to /kaggle/working/checkpoint/magface/albedo/iresnet152/models/checkpoint.pth\u001b[0m\n"
     ]
    },
    {
     "name": "stderr",
     "output_type": "stream",
     "text": [
      "/opt/conda/lib/python3.10/multiprocessing/popen_fork.py:66: RuntimeWarning: os.fork() was called. os.fork() is incompatible with multithreaded code, and JAX is multithreaded, so this will likely lead to a deadlock.\n",
      "  self.pid = os.fork()\n",
      "/opt/conda/lib/python3.10/multiprocessing/popen_fork.py:66: RuntimeWarning: os.fork() was called. os.fork() is incompatible with multithreaded code, and JAX is multithreaded, so this will likely lead to a deadlock.\n",
      "  self.pid = os.fork()\n",
      "/opt/conda/lib/python3.10/multiprocessing/popen_fork.py:66: RuntimeWarning: os.fork() was called. os.fork() is incompatible with multithreaded code, and JAX is multithreaded, so this will likely lead to a deadlock.\n",
      "  self.pid = os.fork()\n",
      "/opt/conda/lib/python3.10/multiprocessing/popen_fork.py:66: RuntimeWarning: os.fork() was called. os.fork() is incompatible with multithreaded code, and JAX is multithreaded, so this will likely lead to a deadlock.\n",
      "  self.pid = os.fork()\n"
     ]
    },
    {
     "name": "stdout",
     "output_type": "stream",
     "text": [
      "Epoch 3:\n",
      "\ttrain: loss 3.539 | loss id   3.52 | top_1_acc 0.0037 | top_5_acc 0.0247 | acc_eu: 0.729 | acc_cos: 0.332 | auc_eu: 0.573 | auc_cos: 0.534\n",
      "\tval: acc_eu: 0.710 | acc_cos: 0.360 | auc_eu: 0.588 | auc_cos: 0.543\n",
      "\u001b[36m\tSaving model to /kaggle/working/checkpoint/magface/albedo/iresnet152/models/checkpoint.pth\u001b[0m\n"
     ]
    },
    {
     "name": "stderr",
     "output_type": "stream",
     "text": [
      "/opt/conda/lib/python3.10/multiprocessing/popen_fork.py:66: RuntimeWarning: os.fork() was called. os.fork() is incompatible with multithreaded code, and JAX is multithreaded, so this will likely lead to a deadlock.\n",
      "  self.pid = os.fork()\n",
      "/opt/conda/lib/python3.10/multiprocessing/popen_fork.py:66: RuntimeWarning: os.fork() was called. os.fork() is incompatible with multithreaded code, and JAX is multithreaded, so this will likely lead to a deadlock.\n",
      "  self.pid = os.fork()\n",
      "/opt/conda/lib/python3.10/multiprocessing/popen_fork.py:66: RuntimeWarning: os.fork() was called. os.fork() is incompatible with multithreaded code, and JAX is multithreaded, so this will likely lead to a deadlock.\n",
      "  self.pid = os.fork()\n",
      "/opt/conda/lib/python3.10/multiprocessing/popen_fork.py:66: RuntimeWarning: os.fork() was called. os.fork() is incompatible with multithreaded code, and JAX is multithreaded, so this will likely lead to a deadlock.\n",
      "  self.pid = os.fork()\n"
     ]
    },
    {
     "name": "stdout",
     "output_type": "stream",
     "text": [
      "Epoch 4:\n",
      "\ttrain: loss 2.739 | loss id   2.72 | top_1_acc 0.0037 | top_5_acc 0.0277 | acc_eu: 0.731 | acc_cos: 0.170 | auc_eu: 0.576 | auc_cos: 0.528\n",
      "\tval: acc_eu: 0.531 | acc_cos: 0.730 | auc_eu: 0.584 | auc_cos: 0.544\n",
      "\u001b[36m\tSaving model to /kaggle/working/checkpoint/magface/albedo/iresnet152/models/checkpoint.pth\u001b[0m\n"
     ]
    },
    {
     "name": "stderr",
     "output_type": "stream",
     "text": [
      "/opt/conda/lib/python3.10/multiprocessing/popen_fork.py:66: RuntimeWarning: os.fork() was called. os.fork() is incompatible with multithreaded code, and JAX is multithreaded, so this will likely lead to a deadlock.\n",
      "  self.pid = os.fork()\n",
      "/opt/conda/lib/python3.10/multiprocessing/popen_fork.py:66: RuntimeWarning: os.fork() was called. os.fork() is incompatible with multithreaded code, and JAX is multithreaded, so this will likely lead to a deadlock.\n",
      "  self.pid = os.fork()\n",
      "/opt/conda/lib/python3.10/multiprocessing/popen_fork.py:66: RuntimeWarning: os.fork() was called. os.fork() is incompatible with multithreaded code, and JAX is multithreaded, so this will likely lead to a deadlock.\n",
      "  self.pid = os.fork()\n",
      "/opt/conda/lib/python3.10/multiprocessing/popen_fork.py:66: RuntimeWarning: os.fork() was called. os.fork() is incompatible with multithreaded code, and JAX is multithreaded, so this will likely lead to a deadlock.\n",
      "  self.pid = os.fork()\n"
     ]
    },
    {
     "name": "stdout",
     "output_type": "stream",
     "text": [
      "Epoch 5:\n",
      "\ttrain: loss 1.976 | loss id   1.95 | top_1_acc 0.0105 | top_5_acc 0.0336 | acc_eu: 0.764 | acc_cos: 0.170 | auc_eu: 0.575 | auc_cos: 0.516\n",
      "\tval: acc_eu: 0.521 | acc_cos: 0.329 | auc_eu: 0.589 | auc_cos: 0.511\n",
      "\u001b[36m\tSaving model to /kaggle/working/checkpoint/magface/albedo/iresnet152/models/checkpoint.pth\u001b[0m\n"
     ]
    },
    {
     "name": "stderr",
     "output_type": "stream",
     "text": [
      "/opt/conda/lib/python3.10/multiprocessing/popen_fork.py:66: RuntimeWarning: os.fork() was called. os.fork() is incompatible with multithreaded code, and JAX is multithreaded, so this will likely lead to a deadlock.\n",
      "  self.pid = os.fork()\n",
      "/opt/conda/lib/python3.10/multiprocessing/popen_fork.py:66: RuntimeWarning: os.fork() was called. os.fork() is incompatible with multithreaded code, and JAX is multithreaded, so this will likely lead to a deadlock.\n",
      "  self.pid = os.fork()\n",
      "/opt/conda/lib/python3.10/multiprocessing/popen_fork.py:66: RuntimeWarning: os.fork() was called. os.fork() is incompatible with multithreaded code, and JAX is multithreaded, so this will likely lead to a deadlock.\n",
      "  self.pid = os.fork()\n",
      "/opt/conda/lib/python3.10/multiprocessing/popen_fork.py:66: RuntimeWarning: os.fork() was called. os.fork() is incompatible with multithreaded code, and JAX is multithreaded, so this will likely lead to a deadlock.\n",
      "  self.pid = os.fork()\n"
     ]
    },
    {
     "name": "stdout",
     "output_type": "stream",
     "text": [
      "Epoch 6:\n",
      "\ttrain: loss 1.861 | loss id   1.84 | top_1_acc 0.0030 | top_5_acc 0.0277 | acc_eu: 0.478 | acc_cos: 0.394 | auc_eu: 0.576 | auc_cos: 0.530\n",
      "\tval: acc_eu: 0.531 | acc_cos: 0.795 | auc_eu: 0.592 | auc_cos: 0.555\n",
      "\u001b[36m\tSaving model to /kaggle/working/checkpoint/magface/albedo/iresnet152/models/checkpoint.pth\u001b[0m\n"
     ]
    },
    {
     "name": "stderr",
     "output_type": "stream",
     "text": [
      "/opt/conda/lib/python3.10/multiprocessing/popen_fork.py:66: RuntimeWarning: os.fork() was called. os.fork() is incompatible with multithreaded code, and JAX is multithreaded, so this will likely lead to a deadlock.\n",
      "  self.pid = os.fork()\n",
      "/opt/conda/lib/python3.10/multiprocessing/popen_fork.py:66: RuntimeWarning: os.fork() was called. os.fork() is incompatible with multithreaded code, and JAX is multithreaded, so this will likely lead to a deadlock.\n",
      "  self.pid = os.fork()\n",
      "/opt/conda/lib/python3.10/multiprocessing/popen_fork.py:66: RuntimeWarning: os.fork() was called. os.fork() is incompatible with multithreaded code, and JAX is multithreaded, so this will likely lead to a deadlock.\n",
      "  self.pid = os.fork()\n",
      "/opt/conda/lib/python3.10/multiprocessing/popen_fork.py:66: RuntimeWarning: os.fork() was called. os.fork() is incompatible with multithreaded code, and JAX is multithreaded, so this will likely lead to a deadlock.\n",
      "  self.pid = os.fork()\n"
     ]
    },
    {
     "name": "stdout",
     "output_type": "stream",
     "text": [
      "Epoch 7:\n",
      "\ttrain: loss 1.833 | loss id   1.81 | top_1_acc 0.0060 | top_5_acc 0.0314 | acc_eu: 0.696 | acc_cos: 0.692 | auc_eu: 0.576 | auc_cos: 0.531\n",
      "\tval: acc_eu: 0.687 | acc_cos: 0.177 | auc_eu: 0.583 | auc_cos: 0.517\n",
      "\u001b[36m\tSaving model to /kaggle/working/checkpoint/magface/albedo/iresnet152/models/checkpoint.pth\u001b[0m\n"
     ]
    },
    {
     "name": "stderr",
     "output_type": "stream",
     "text": [
      "/opt/conda/lib/python3.10/multiprocessing/popen_fork.py:66: RuntimeWarning: os.fork() was called. os.fork() is incompatible with multithreaded code, and JAX is multithreaded, so this will likely lead to a deadlock.\n",
      "  self.pid = os.fork()\n",
      "/opt/conda/lib/python3.10/multiprocessing/popen_fork.py:66: RuntimeWarning: os.fork() was called. os.fork() is incompatible with multithreaded code, and JAX is multithreaded, so this will likely lead to a deadlock.\n",
      "  self.pid = os.fork()\n",
      "/opt/conda/lib/python3.10/multiprocessing/popen_fork.py:66: RuntimeWarning: os.fork() was called. os.fork() is incompatible with multithreaded code, and JAX is multithreaded, so this will likely lead to a deadlock.\n",
      "  self.pid = os.fork()\n",
      "/opt/conda/lib/python3.10/multiprocessing/popen_fork.py:66: RuntimeWarning: os.fork() was called. os.fork() is incompatible with multithreaded code, and JAX is multithreaded, so this will likely lead to a deadlock.\n",
      "  self.pid = os.fork()\n"
     ]
    },
    {
     "name": "stdout",
     "output_type": "stream",
     "text": [
      "Epoch 8:\n",
      "\ttrain: loss 1.816 | loss id   1.79 | top_1_acc 0.0022 | top_5_acc 0.0247 | acc_eu: 0.682 | acc_cos: 0.172 | auc_eu: 0.577 | auc_cos: 0.526\n",
      "\tval: acc_eu: 0.399 | acc_cos: 0.731 | auc_eu: 0.583 | auc_cos: 0.554\n",
      "\u001b[36m\tSaving model to /kaggle/working/checkpoint/magface/albedo/iresnet152/models/checkpoint.pth\u001b[0m\n"
     ]
    },
    {
     "name": "stderr",
     "output_type": "stream",
     "text": [
      "/opt/conda/lib/python3.10/multiprocessing/popen_fork.py:66: RuntimeWarning: os.fork() was called. os.fork() is incompatible with multithreaded code, and JAX is multithreaded, so this will likely lead to a deadlock.\n",
      "  self.pid = os.fork()\n",
      "/opt/conda/lib/python3.10/multiprocessing/popen_fork.py:66: RuntimeWarning: os.fork() was called. os.fork() is incompatible with multithreaded code, and JAX is multithreaded, so this will likely lead to a deadlock.\n",
      "  self.pid = os.fork()\n",
      "/opt/conda/lib/python3.10/multiprocessing/popen_fork.py:66: RuntimeWarning: os.fork() was called. os.fork() is incompatible with multithreaded code, and JAX is multithreaded, so this will likely lead to a deadlock.\n",
      "  self.pid = os.fork()\n",
      "/opt/conda/lib/python3.10/multiprocessing/popen_fork.py:66: RuntimeWarning: os.fork() was called. os.fork() is incompatible with multithreaded code, and JAX is multithreaded, so this will likely lead to a deadlock.\n",
      "  self.pid = os.fork()\n"
     ]
    },
    {
     "name": "stdout",
     "output_type": "stream",
     "text": [
      "Epoch 9:\n",
      "\ttrain: loss 1.796 | loss id   1.77 | top_1_acc 0.0112 | top_5_acc 0.0321 | acc_eu: 0.685 | acc_cos: 0.159 | auc_eu: 0.576 | auc_cos: 0.525\n",
      "\tval: acc_eu: 0.502 | acc_cos: 0.311 | auc_eu: 0.585 | auc_cos: 0.551\n",
      "\u001b[36m\tSaving model to /kaggle/working/checkpoint/magface/albedo/iresnet152/models/checkpoint.pth\u001b[0m\n"
     ]
    },
    {
     "name": "stderr",
     "output_type": "stream",
     "text": [
      "/opt/conda/lib/python3.10/multiprocessing/popen_fork.py:66: RuntimeWarning: os.fork() was called. os.fork() is incompatible with multithreaded code, and JAX is multithreaded, so this will likely lead to a deadlock.\n",
      "  self.pid = os.fork()\n",
      "/opt/conda/lib/python3.10/multiprocessing/popen_fork.py:66: RuntimeWarning: os.fork() was called. os.fork() is incompatible with multithreaded code, and JAX is multithreaded, so this will likely lead to a deadlock.\n",
      "  self.pid = os.fork()\n",
      "/opt/conda/lib/python3.10/multiprocessing/popen_fork.py:66: RuntimeWarning: os.fork() was called. os.fork() is incompatible with multithreaded code, and JAX is multithreaded, so this will likely lead to a deadlock.\n",
      "  self.pid = os.fork()\n",
      "/opt/conda/lib/python3.10/multiprocessing/popen_fork.py:66: RuntimeWarning: os.fork() was called. os.fork() is incompatible with multithreaded code, and JAX is multithreaded, so this will likely lead to a deadlock.\n",
      "  self.pid = os.fork()\n"
     ]
    },
    {
     "name": "stdout",
     "output_type": "stream",
     "text": [
      "Epoch 10:\n",
      "\ttrain: loss 1.778 | loss id   1.75 | top_1_acc 0.0037 | top_5_acc 0.0321 | acc_eu: 0.481 | acc_cos: 0.160 | auc_eu: 0.577 | auc_cos: 0.518\n",
      "\tval: acc_eu: 0.734 | acc_cos: 0.183 | auc_eu: 0.592 | auc_cos: 0.531\n",
      "\u001b[36m\tSaving model to /kaggle/working/checkpoint/magface/albedo/iresnet152/models/checkpoint.pth\u001b[0m\n"
     ]
    },
    {
     "name": "stderr",
     "output_type": "stream",
     "text": [
      "/opt/conda/lib/python3.10/multiprocessing/popen_fork.py:66: RuntimeWarning: os.fork() was called. os.fork() is incompatible with multithreaded code, and JAX is multithreaded, so this will likely lead to a deadlock.\n",
      "  self.pid = os.fork()\n",
      "/opt/conda/lib/python3.10/multiprocessing/popen_fork.py:66: RuntimeWarning: os.fork() was called. os.fork() is incompatible with multithreaded code, and JAX is multithreaded, so this will likely lead to a deadlock.\n",
      "  self.pid = os.fork()\n",
      "/opt/conda/lib/python3.10/multiprocessing/popen_fork.py:66: RuntimeWarning: os.fork() was called. os.fork() is incompatible with multithreaded code, and JAX is multithreaded, so this will likely lead to a deadlock.\n",
      "  self.pid = os.fork()\n",
      "/opt/conda/lib/python3.10/multiprocessing/popen_fork.py:66: RuntimeWarning: os.fork() was called. os.fork() is incompatible with multithreaded code, and JAX is multithreaded, so this will likely lead to a deadlock.\n",
      "  self.pid = os.fork()\n"
     ]
    },
    {
     "name": "stdout",
     "output_type": "stream",
     "text": [
      "Epoch 11:\n",
      "\ttrain: loss 1.765 | loss id   1.74 | top_1_acc 0.0030 | top_5_acc 0.0254 | acc_eu: 0.731 | acc_cos: 0.376 | auc_eu: 0.576 | auc_cos: 0.533\n",
      "\tval: acc_eu: 0.668 | acc_cos: 0.520 | auc_eu: 0.591 | auc_cos: 0.548\n",
      "\u001b[36m\tSaving model to /kaggle/working/checkpoint/magface/albedo/iresnet152/models/checkpoint.pth\u001b[0m\n"
     ]
    },
    {
     "name": "stderr",
     "output_type": "stream",
     "text": [
      "/opt/conda/lib/python3.10/multiprocessing/popen_fork.py:66: RuntimeWarning: os.fork() was called. os.fork() is incompatible with multithreaded code, and JAX is multithreaded, so this will likely lead to a deadlock.\n",
      "  self.pid = os.fork()\n",
      "/opt/conda/lib/python3.10/multiprocessing/popen_fork.py:66: RuntimeWarning: os.fork() was called. os.fork() is incompatible with multithreaded code, and JAX is multithreaded, so this will likely lead to a deadlock.\n",
      "  self.pid = os.fork()\n",
      "/opt/conda/lib/python3.10/multiprocessing/popen_fork.py:66: RuntimeWarning: os.fork() was called. os.fork() is incompatible with multithreaded code, and JAX is multithreaded, so this will likely lead to a deadlock.\n",
      "  self.pid = os.fork()\n",
      "/opt/conda/lib/python3.10/multiprocessing/popen_fork.py:66: RuntimeWarning: os.fork() was called. os.fork() is incompatible with multithreaded code, and JAX is multithreaded, so this will likely lead to a deadlock.\n",
      "  self.pid = os.fork()\n"
     ]
    },
    {
     "name": "stdout",
     "output_type": "stream",
     "text": [
      "Epoch 12:\n",
      "\ttrain: loss 1.771 | loss id   1.75 | top_1_acc 0.0067 | top_5_acc 0.0254 | acc_eu: 0.476 | acc_cos: 0.343 | auc_eu: 0.576 | auc_cos: 0.536\n",
      "\tval: acc_eu: 0.444 | acc_cos: 0.167 | auc_eu: 0.591 | auc_cos: 0.531\n",
      "\u001b[36m\tSaving model to /kaggle/working/checkpoint/magface/albedo/iresnet152/models/checkpoint.pth\u001b[0m\n"
     ]
    },
    {
     "name": "stderr",
     "output_type": "stream",
     "text": [
      "/opt/conda/lib/python3.10/multiprocessing/popen_fork.py:66: RuntimeWarning: os.fork() was called. os.fork() is incompatible with multithreaded code, and JAX is multithreaded, so this will likely lead to a deadlock.\n",
      "  self.pid = os.fork()\n",
      "/opt/conda/lib/python3.10/multiprocessing/popen_fork.py:66: RuntimeWarning: os.fork() was called. os.fork() is incompatible with multithreaded code, and JAX is multithreaded, so this will likely lead to a deadlock.\n",
      "  self.pid = os.fork()\n",
      "/opt/conda/lib/python3.10/multiprocessing/popen_fork.py:66: RuntimeWarning: os.fork() was called. os.fork() is incompatible with multithreaded code, and JAX is multithreaded, so this will likely lead to a deadlock.\n",
      "  self.pid = os.fork()\n",
      "/opt/conda/lib/python3.10/multiprocessing/popen_fork.py:66: RuntimeWarning: os.fork() was called. os.fork() is incompatible with multithreaded code, and JAX is multithreaded, so this will likely lead to a deadlock.\n",
      "  self.pid = os.fork()\n"
     ]
    },
    {
     "name": "stdout",
     "output_type": "stream",
     "text": [
      "Epoch 13:\n",
      "\ttrain: loss 1.757 | loss id   1.73 | top_1_acc 0.0045 | top_5_acc 0.0247 | acc_eu: 0.656 | acc_cos: 0.238 | auc_eu: 0.579 | auc_cos: 0.526\n",
      "\tval: acc_eu: 0.463 | acc_cos: 0.240 | auc_eu: 0.581 | auc_cos: 0.514\n",
      "\u001b[36m\tSaving model to /kaggle/working/checkpoint/magface/albedo/iresnet152/models/checkpoint.pth\u001b[0m\n"
     ]
    },
    {
     "name": "stderr",
     "output_type": "stream",
     "text": [
      "/opt/conda/lib/python3.10/multiprocessing/popen_fork.py:66: RuntimeWarning: os.fork() was called. os.fork() is incompatible with multithreaded code, and JAX is multithreaded, so this will likely lead to a deadlock.\n",
      "  self.pid = os.fork()\n",
      "/opt/conda/lib/python3.10/multiprocessing/popen_fork.py:66: RuntimeWarning: os.fork() was called. os.fork() is incompatible with multithreaded code, and JAX is multithreaded, so this will likely lead to a deadlock.\n",
      "  self.pid = os.fork()\n",
      "/opt/conda/lib/python3.10/multiprocessing/popen_fork.py:66: RuntimeWarning: os.fork() was called. os.fork() is incompatible with multithreaded code, and JAX is multithreaded, so this will likely lead to a deadlock.\n",
      "  self.pid = os.fork()\n",
      "/opt/conda/lib/python3.10/multiprocessing/popen_fork.py:66: RuntimeWarning: os.fork() was called. os.fork() is incompatible with multithreaded code, and JAX is multithreaded, so this will likely lead to a deadlock.\n",
      "  self.pid = os.fork()\n"
     ]
    },
    {
     "name": "stdout",
     "output_type": "stream",
     "text": [
      "Epoch 14:\n",
      "\ttrain: loss 1.761 | loss id   1.74 | top_1_acc 0.0060 | top_5_acc 0.0336 | acc_eu: 0.486 | acc_cos: 0.265 | auc_eu: 0.578 | auc_cos: 0.525\n",
      "\tval: acc_eu: 0.423 | acc_cos: 0.149 | auc_eu: 0.588 | auc_cos: 0.500\n",
      "\u001b[36m\tSaving model to /kaggle/working/checkpoint/magface/albedo/iresnet152/models/checkpoint.pth\u001b[0m\n"
     ]
    },
    {
     "name": "stderr",
     "output_type": "stream",
     "text": [
      "/opt/conda/lib/python3.10/multiprocessing/popen_fork.py:66: RuntimeWarning: os.fork() was called. os.fork() is incompatible with multithreaded code, and JAX is multithreaded, so this will likely lead to a deadlock.\n",
      "  self.pid = os.fork()\n",
      "/opt/conda/lib/python3.10/multiprocessing/popen_fork.py:66: RuntimeWarning: os.fork() was called. os.fork() is incompatible with multithreaded code, and JAX is multithreaded, so this will likely lead to a deadlock.\n",
      "  self.pid = os.fork()\n",
      "/opt/conda/lib/python3.10/multiprocessing/popen_fork.py:66: RuntimeWarning: os.fork() was called. os.fork() is incompatible with multithreaded code, and JAX is multithreaded, so this will likely lead to a deadlock.\n",
      "  self.pid = os.fork()\n",
      "/opt/conda/lib/python3.10/multiprocessing/popen_fork.py:66: RuntimeWarning: os.fork() was called. os.fork() is incompatible with multithreaded code, and JAX is multithreaded, so this will likely lead to a deadlock.\n",
      "  self.pid = os.fork()\n"
     ]
    },
    {
     "name": "stdout",
     "output_type": "stream",
     "text": [
      "Epoch 15:\n",
      "\ttrain: loss 1.745 | loss id   1.72 | top_1_acc 0.0052 | top_5_acc 0.0224 | acc_eu: 0.683 | acc_cos: 0.226 | auc_eu: 0.579 | auc_cos: 0.524\n",
      "\tval: acc_eu: 0.667 | acc_cos: 0.098 | auc_eu: 0.578 | auc_cos: 0.507\n",
      "\u001b[36m\tSaving model to /kaggle/working/checkpoint/magface/albedo/iresnet152/models/checkpoint.pth\u001b[0m\n"
     ]
    },
    {
     "name": "stderr",
     "output_type": "stream",
     "text": [
      "/opt/conda/lib/python3.10/multiprocessing/popen_fork.py:66: RuntimeWarning: os.fork() was called. os.fork() is incompatible with multithreaded code, and JAX is multithreaded, so this will likely lead to a deadlock.\n",
      "  self.pid = os.fork()\n",
      "/opt/conda/lib/python3.10/multiprocessing/popen_fork.py:66: RuntimeWarning: os.fork() was called. os.fork() is incompatible with multithreaded code, and JAX is multithreaded, so this will likely lead to a deadlock.\n",
      "  self.pid = os.fork()\n",
      "/opt/conda/lib/python3.10/multiprocessing/popen_fork.py:66: RuntimeWarning: os.fork() was called. os.fork() is incompatible with multithreaded code, and JAX is multithreaded, so this will likely lead to a deadlock.\n",
      "  self.pid = os.fork()\n",
      "/opt/conda/lib/python3.10/multiprocessing/popen_fork.py:66: RuntimeWarning: os.fork() was called. os.fork() is incompatible with multithreaded code, and JAX is multithreaded, so this will likely lead to a deadlock.\n",
      "  self.pid = os.fork()\n"
     ]
    },
    {
     "name": "stdout",
     "output_type": "stream",
     "text": [
      "Epoch 16:\n",
      "\ttrain: loss 1.742 | loss id   1.72 | top_1_acc 0.0052 | top_5_acc 0.0284 | acc_eu: 0.486 | acc_cos: 0.229 | auc_eu: 0.580 | auc_cos: 0.514\n",
      "\tval: acc_eu: 0.400 | acc_cos: 0.243 | auc_eu: 0.590 | auc_cos: 0.522\n",
      "\u001b[36m\tSaving model to /kaggle/working/checkpoint/magface/albedo/iresnet152/models/checkpoint.pth\u001b[0m\n"
     ]
    },
    {
     "name": "stderr",
     "output_type": "stream",
     "text": [
      "/opt/conda/lib/python3.10/multiprocessing/popen_fork.py:66: RuntimeWarning: os.fork() was called. os.fork() is incompatible with multithreaded code, and JAX is multithreaded, so this will likely lead to a deadlock.\n",
      "  self.pid = os.fork()\n",
      "/opt/conda/lib/python3.10/multiprocessing/popen_fork.py:66: RuntimeWarning: os.fork() was called. os.fork() is incompatible with multithreaded code, and JAX is multithreaded, so this will likely lead to a deadlock.\n",
      "  self.pid = os.fork()\n",
      "/opt/conda/lib/python3.10/multiprocessing/popen_fork.py:66: RuntimeWarning: os.fork() was called. os.fork() is incompatible with multithreaded code, and JAX is multithreaded, so this will likely lead to a deadlock.\n",
      "  self.pid = os.fork()\n",
      "/opt/conda/lib/python3.10/multiprocessing/popen_fork.py:66: RuntimeWarning: os.fork() was called. os.fork() is incompatible with multithreaded code, and JAX is multithreaded, so this will likely lead to a deadlock.\n",
      "  self.pid = os.fork()\n"
     ]
    },
    {
     "name": "stdout",
     "output_type": "stream",
     "text": [
      "Epoch 17:\n",
      "\ttrain: loss 1.739 | loss id   1.72 | top_1_acc 0.0052 | top_5_acc 0.0306 | acc_eu: 0.480 | acc_cos: 0.296 | auc_eu: 0.579 | auc_cos: 0.529\n",
      "\tval: acc_eu: 0.752 | acc_cos: 0.328 | auc_eu: 0.584 | auc_cos: 0.552\n",
      "\u001b[36m\tSaving model to /kaggle/working/checkpoint/magface/albedo/iresnet152/models/checkpoint.pth\u001b[0m\n"
     ]
    },
    {
     "name": "stderr",
     "output_type": "stream",
     "text": [
      "/opt/conda/lib/python3.10/multiprocessing/popen_fork.py:66: RuntimeWarning: os.fork() was called. os.fork() is incompatible with multithreaded code, and JAX is multithreaded, so this will likely lead to a deadlock.\n",
      "  self.pid = os.fork()\n",
      "/opt/conda/lib/python3.10/multiprocessing/popen_fork.py:66: RuntimeWarning: os.fork() was called. os.fork() is incompatible with multithreaded code, and JAX is multithreaded, so this will likely lead to a deadlock.\n",
      "  self.pid = os.fork()\n",
      "/opt/conda/lib/python3.10/multiprocessing/popen_fork.py:66: RuntimeWarning: os.fork() was called. os.fork() is incompatible with multithreaded code, and JAX is multithreaded, so this will likely lead to a deadlock.\n",
      "  self.pid = os.fork()\n",
      "/opt/conda/lib/python3.10/multiprocessing/popen_fork.py:66: RuntimeWarning: os.fork() was called. os.fork() is incompatible with multithreaded code, and JAX is multithreaded, so this will likely lead to a deadlock.\n",
      "  self.pid = os.fork()\n"
     ]
    },
    {
     "name": "stdout",
     "output_type": "stream",
     "text": [
      "Epoch 18:\n",
      "\ttrain: loss 1.738 | loss id   1.72 | top_1_acc 0.0060 | top_5_acc 0.0209 | acc_eu: 0.488 | acc_cos: 0.205 | auc_eu: 0.577 | auc_cos: 0.521\n",
      "\tval: acc_eu: 0.814 | acc_cos: 0.736 | auc_eu: 0.583 | auc_cos: 0.541\n",
      "\u001b[36m\tSaving model to /kaggle/working/checkpoint/magface/albedo/iresnet152/models/checkpoint.pth\u001b[0m\n"
     ]
    },
    {
     "name": "stderr",
     "output_type": "stream",
     "text": [
      "/opt/conda/lib/python3.10/multiprocessing/popen_fork.py:66: RuntimeWarning: os.fork() was called. os.fork() is incompatible with multithreaded code, and JAX is multithreaded, so this will likely lead to a deadlock.\n",
      "  self.pid = os.fork()\n",
      "/opt/conda/lib/python3.10/multiprocessing/popen_fork.py:66: RuntimeWarning: os.fork() was called. os.fork() is incompatible with multithreaded code, and JAX is multithreaded, so this will likely lead to a deadlock.\n",
      "  self.pid = os.fork()\n",
      "/opt/conda/lib/python3.10/multiprocessing/popen_fork.py:66: RuntimeWarning: os.fork() was called. os.fork() is incompatible with multithreaded code, and JAX is multithreaded, so this will likely lead to a deadlock.\n",
      "  self.pid = os.fork()\n",
      "/opt/conda/lib/python3.10/multiprocessing/popen_fork.py:66: RuntimeWarning: os.fork() was called. os.fork() is incompatible with multithreaded code, and JAX is multithreaded, so this will likely lead to a deadlock.\n",
      "  self.pid = os.fork()\n"
     ]
    },
    {
     "name": "stdout",
     "output_type": "stream",
     "text": [
      "Epoch 19:\n",
      "\ttrain: loss 1.741 | loss id   1.72 | top_1_acc 0.0075 | top_5_acc 0.0351 | acc_eu: 0.666 | acc_cos: 0.123 | auc_eu: 0.579 | auc_cos: 0.516\n",
      "\tval: acc_eu: 0.496 | acc_cos: 0.111 | auc_eu: 0.586 | auc_cos: 0.505\n",
      "\u001b[36m\tSaving model to /kaggle/working/checkpoint/magface/albedo/iresnet152/models/checkpoint.pth\u001b[0m\n"
     ]
    },
    {
     "name": "stderr",
     "output_type": "stream",
     "text": [
      "/opt/conda/lib/python3.10/multiprocessing/popen_fork.py:66: RuntimeWarning: os.fork() was called. os.fork() is incompatible with multithreaded code, and JAX is multithreaded, so this will likely lead to a deadlock.\n",
      "  self.pid = os.fork()\n",
      "/opt/conda/lib/python3.10/multiprocessing/popen_fork.py:66: RuntimeWarning: os.fork() was called. os.fork() is incompatible with multithreaded code, and JAX is multithreaded, so this will likely lead to a deadlock.\n",
      "  self.pid = os.fork()\n",
      "/opt/conda/lib/python3.10/multiprocessing/popen_fork.py:66: RuntimeWarning: os.fork() was called. os.fork() is incompatible with multithreaded code, and JAX is multithreaded, so this will likely lead to a deadlock.\n",
      "  self.pid = os.fork()\n",
      "/opt/conda/lib/python3.10/multiprocessing/popen_fork.py:66: RuntimeWarning: os.fork() was called. os.fork() is incompatible with multithreaded code, and JAX is multithreaded, so this will likely lead to a deadlock.\n",
      "  self.pid = os.fork()\n"
     ]
    },
    {
     "name": "stdout",
     "output_type": "stream",
     "text": [
      "Epoch 20:\n",
      "\ttrain: loss 1.723 | loss id   1.70 | top_1_acc 0.0030 | top_5_acc 0.0209 | acc_eu: 0.677 | acc_cos: 0.702 | auc_eu: 0.581 | auc_cos: 0.524\n",
      "\tval: acc_eu: 0.615 | acc_cos: 0.180 | auc_eu: 0.595 | auc_cos: 0.520\n",
      "\u001b[36m\tSaving model to /kaggle/working/checkpoint/magface/albedo/iresnet152/models/checkpoint.pth\u001b[0m\n"
     ]
    },
    {
     "name": "stderr",
     "output_type": "stream",
     "text": [
      "/opt/conda/lib/python3.10/multiprocessing/popen_fork.py:66: RuntimeWarning: os.fork() was called. os.fork() is incompatible with multithreaded code, and JAX is multithreaded, so this will likely lead to a deadlock.\n",
      "  self.pid = os.fork()\n",
      "/opt/conda/lib/python3.10/multiprocessing/popen_fork.py:66: RuntimeWarning: os.fork() was called. os.fork() is incompatible with multithreaded code, and JAX is multithreaded, so this will likely lead to a deadlock.\n",
      "  self.pid = os.fork()\n",
      "/opt/conda/lib/python3.10/multiprocessing/popen_fork.py:66: RuntimeWarning: os.fork() was called. os.fork() is incompatible with multithreaded code, and JAX is multithreaded, so this will likely lead to a deadlock.\n",
      "  self.pid = os.fork()\n",
      "/opt/conda/lib/python3.10/multiprocessing/popen_fork.py:66: RuntimeWarning: os.fork() was called. os.fork() is incompatible with multithreaded code, and JAX is multithreaded, so this will likely lead to a deadlock.\n",
      "  self.pid = os.fork()\n"
     ]
    },
    {
     "name": "stdout",
     "output_type": "stream",
     "text": [
      "Epoch 21:\n",
      "\ttrain: loss 1.735 | loss id   1.71 | top_1_acc 0.0060 | top_5_acc 0.0277 | acc_eu: 0.711 | acc_cos: 0.217 | auc_eu: 0.578 | auc_cos: 0.511\n",
      "\tval: acc_eu: 0.421 | acc_cos: 0.209 | auc_eu: 0.589 | auc_cos: 0.505\n",
      "\u001b[36m\tSaving model to /kaggle/working/checkpoint/magface/albedo/iresnet152/models/checkpoint.pth\u001b[0m\n"
     ]
    },
    {
     "name": "stderr",
     "output_type": "stream",
     "text": [
      "/opt/conda/lib/python3.10/multiprocessing/popen_fork.py:66: RuntimeWarning: os.fork() was called. os.fork() is incompatible with multithreaded code, and JAX is multithreaded, so this will likely lead to a deadlock.\n",
      "  self.pid = os.fork()\n",
      "/opt/conda/lib/python3.10/multiprocessing/popen_fork.py:66: RuntimeWarning: os.fork() was called. os.fork() is incompatible with multithreaded code, and JAX is multithreaded, so this will likely lead to a deadlock.\n",
      "  self.pid = os.fork()\n",
      "/opt/conda/lib/python3.10/multiprocessing/popen_fork.py:66: RuntimeWarning: os.fork() was called. os.fork() is incompatible with multithreaded code, and JAX is multithreaded, so this will likely lead to a deadlock.\n",
      "  self.pid = os.fork()\n",
      "/opt/conda/lib/python3.10/multiprocessing/popen_fork.py:66: RuntimeWarning: os.fork() was called. os.fork() is incompatible with multithreaded code, and JAX is multithreaded, so this will likely lead to a deadlock.\n",
      "  self.pid = os.fork()\n"
     ]
    },
    {
     "name": "stdout",
     "output_type": "stream",
     "text": [
      "Epoch 22:\n",
      "\ttrain: loss 1.725 | loss id   1.70 | top_1_acc 0.0052 | top_5_acc 0.0284 | acc_eu: 0.674 | acc_cos: 0.185 | auc_eu: 0.579 | auc_cos: 0.513\n",
      "\tval: acc_eu: 0.503 | acc_cos: 0.121 | auc_eu: 0.591 | auc_cos: 0.499\n",
      "\u001b[36m\tSaving model to /kaggle/working/checkpoint/magface/albedo/iresnet152/models/checkpoint.pth\u001b[0m\n"
     ]
    },
    {
     "name": "stderr",
     "output_type": "stream",
     "text": [
      "/opt/conda/lib/python3.10/multiprocessing/popen_fork.py:66: RuntimeWarning: os.fork() was called. os.fork() is incompatible with multithreaded code, and JAX is multithreaded, so this will likely lead to a deadlock.\n",
      "  self.pid = os.fork()\n",
      "/opt/conda/lib/python3.10/multiprocessing/popen_fork.py:66: RuntimeWarning: os.fork() was called. os.fork() is incompatible with multithreaded code, and JAX is multithreaded, so this will likely lead to a deadlock.\n",
      "  self.pid = os.fork()\n",
      "/opt/conda/lib/python3.10/multiprocessing/popen_fork.py:66: RuntimeWarning: os.fork() was called. os.fork() is incompatible with multithreaded code, and JAX is multithreaded, so this will likely lead to a deadlock.\n",
      "  self.pid = os.fork()\n",
      "/opt/conda/lib/python3.10/multiprocessing/popen_fork.py:66: RuntimeWarning: os.fork() was called. os.fork() is incompatible with multithreaded code, and JAX is multithreaded, so this will likely lead to a deadlock.\n",
      "  self.pid = os.fork()\n"
     ]
    },
    {
     "name": "stdout",
     "output_type": "stream",
     "text": [
      "Epoch 23:\n",
      "\ttrain: loss 1.723 | loss id   1.70 | top_1_acc 0.0075 | top_5_acc 0.0224 | acc_eu: 0.665 | acc_cos: 0.113 | auc_eu: 0.578 | auc_cos: 0.517\n",
      "\tval: acc_eu: 0.414 | acc_cos: 0.090 | auc_eu: 0.590 | auc_cos: 0.517\n",
      "\u001b[36m\tSaving model to /kaggle/working/checkpoint/magface/albedo/iresnet152/models/checkpoint.pth\u001b[0m\n"
     ]
    },
    {
     "name": "stderr",
     "output_type": "stream",
     "text": [
      "/opt/conda/lib/python3.10/multiprocessing/popen_fork.py:66: RuntimeWarning: os.fork() was called. os.fork() is incompatible with multithreaded code, and JAX is multithreaded, so this will likely lead to a deadlock.\n",
      "  self.pid = os.fork()\n",
      "/opt/conda/lib/python3.10/multiprocessing/popen_fork.py:66: RuntimeWarning: os.fork() was called. os.fork() is incompatible with multithreaded code, and JAX is multithreaded, so this will likely lead to a deadlock.\n",
      "  self.pid = os.fork()\n",
      "/opt/conda/lib/python3.10/multiprocessing/popen_fork.py:66: RuntimeWarning: os.fork() was called. os.fork() is incompatible with multithreaded code, and JAX is multithreaded, so this will likely lead to a deadlock.\n",
      "  self.pid = os.fork()\n",
      "/opt/conda/lib/python3.10/multiprocessing/popen_fork.py:66: RuntimeWarning: os.fork() was called. os.fork() is incompatible with multithreaded code, and JAX is multithreaded, so this will likely lead to a deadlock.\n",
      "  self.pid = os.fork()\n"
     ]
    },
    {
     "name": "stdout",
     "output_type": "stream",
     "text": [
      "Epoch 24:\n",
      "\ttrain: loss 1.722 | loss id   1.70 | top_1_acc 0.0022 | top_5_acc 0.0254 | acc_eu: 0.714 | acc_cos: 0.751 | auc_eu: 0.578 | auc_cos: 0.518\n",
      "\tval: acc_eu: 0.494 | acc_cos: 0.094 | auc_eu: 0.587 | auc_cos: 0.511\n",
      "\u001b[36m\tSaving model to /kaggle/working/checkpoint/magface/albedo/iresnet152/models/checkpoint.pth\u001b[0m\n"
     ]
    },
    {
     "name": "stderr",
     "output_type": "stream",
     "text": [
      "/opt/conda/lib/python3.10/multiprocessing/popen_fork.py:66: RuntimeWarning: os.fork() was called. os.fork() is incompatible with multithreaded code, and JAX is multithreaded, so this will likely lead to a deadlock.\n",
      "  self.pid = os.fork()\n",
      "/opt/conda/lib/python3.10/multiprocessing/popen_fork.py:66: RuntimeWarning: os.fork() was called. os.fork() is incompatible with multithreaded code, and JAX is multithreaded, so this will likely lead to a deadlock.\n",
      "  self.pid = os.fork()\n",
      "/opt/conda/lib/python3.10/multiprocessing/popen_fork.py:66: RuntimeWarning: os.fork() was called. os.fork() is incompatible with multithreaded code, and JAX is multithreaded, so this will likely lead to a deadlock.\n",
      "  self.pid = os.fork()\n",
      "/opt/conda/lib/python3.10/multiprocessing/popen_fork.py:66: RuntimeWarning: os.fork() was called. os.fork() is incompatible with multithreaded code, and JAX is multithreaded, so this will likely lead to a deadlock.\n",
      "  self.pid = os.fork()\n"
     ]
    },
    {
     "name": "stdout",
     "output_type": "stream",
     "text": [
      "Epoch 25:\n",
      "\ttrain: loss 1.721 | loss id   1.70 | top_1_acc 0.0067 | top_5_acc 0.0247 | acc_eu: 0.476 | acc_cos: 0.334 | auc_eu: 0.577 | auc_cos: 0.528\n",
      "\tval: acc_eu: 0.431 | acc_cos: 0.122 | auc_eu: 0.590 | auc_cos: 0.505\n",
      "\u001b[36m\tSaving model to /kaggle/working/checkpoint/magface/albedo/iresnet152/models/checkpoint.pth\u001b[0m\n"
     ]
    },
    {
     "name": "stderr",
     "output_type": "stream",
     "text": [
      "/opt/conda/lib/python3.10/multiprocessing/popen_fork.py:66: RuntimeWarning: os.fork() was called. os.fork() is incompatible with multithreaded code, and JAX is multithreaded, so this will likely lead to a deadlock.\n",
      "  self.pid = os.fork()\n",
      "/opt/conda/lib/python3.10/multiprocessing/popen_fork.py:66: RuntimeWarning: os.fork() was called. os.fork() is incompatible with multithreaded code, and JAX is multithreaded, so this will likely lead to a deadlock.\n",
      "  self.pid = os.fork()\n",
      "/opt/conda/lib/python3.10/multiprocessing/popen_fork.py:66: RuntimeWarning: os.fork() was called. os.fork() is incompatible with multithreaded code, and JAX is multithreaded, so this will likely lead to a deadlock.\n",
      "  self.pid = os.fork()\n",
      "/opt/conda/lib/python3.10/multiprocessing/popen_fork.py:66: RuntimeWarning: os.fork() was called. os.fork() is incompatible with multithreaded code, and JAX is multithreaded, so this will likely lead to a deadlock.\n",
      "  self.pid = os.fork()\n"
     ]
    },
    {
     "name": "stdout",
     "output_type": "stream",
     "text": [
      "Epoch 26:\n",
      "\ttrain: loss 1.713 | loss id   1.69 | top_1_acc 0.0037 | top_5_acc 0.0321 | acc_eu: 0.469 | acc_cos: 0.627 | auc_eu: 0.579 | auc_cos: 0.531\n",
      "\tval: acc_eu: 0.428 | acc_cos: 0.371 | auc_eu: 0.588 | auc_cos: 0.563\n",
      "\u001b[36m\tSaving model to /kaggle/working/checkpoint/magface/albedo/iresnet152/models/checkpoint.pth\u001b[0m\n"
     ]
    },
    {
     "name": "stderr",
     "output_type": "stream",
     "text": [
      "/opt/conda/lib/python3.10/multiprocessing/popen_fork.py:66: RuntimeWarning: os.fork() was called. os.fork() is incompatible with multithreaded code, and JAX is multithreaded, so this will likely lead to a deadlock.\n",
      "  self.pid = os.fork()\n",
      "/opt/conda/lib/python3.10/multiprocessing/popen_fork.py:66: RuntimeWarning: os.fork() was called. os.fork() is incompatible with multithreaded code, and JAX is multithreaded, so this will likely lead to a deadlock.\n",
      "  self.pid = os.fork()\n",
      "/opt/conda/lib/python3.10/multiprocessing/popen_fork.py:66: RuntimeWarning: os.fork() was called. os.fork() is incompatible with multithreaded code, and JAX is multithreaded, so this will likely lead to a deadlock.\n",
      "  self.pid = os.fork()\n",
      "/opt/conda/lib/python3.10/multiprocessing/popen_fork.py:66: RuntimeWarning: os.fork() was called. os.fork() is incompatible with multithreaded code, and JAX is multithreaded, so this will likely lead to a deadlock.\n",
      "  self.pid = os.fork()\n"
     ]
    },
    {
     "name": "stdout",
     "output_type": "stream",
     "text": [
      "Epoch 27:\n",
      "\ttrain: loss 1.716 | loss id   1.69 | top_1_acc 0.0067 | top_5_acc 0.0254 | acc_eu: 0.471 | acc_cos: 0.458 | auc_eu: 0.578 | auc_cos: 0.525\n",
      "\tval: acc_eu: 0.435 | acc_cos: 0.086 | auc_eu: 0.588 | auc_cos: 0.479\n",
      "\u001b[36m\tSaving model to /kaggle/working/checkpoint/magface/albedo/iresnet152/models/checkpoint.pth\u001b[0m\n"
     ]
    },
    {
     "name": "stderr",
     "output_type": "stream",
     "text": [
      "/opt/conda/lib/python3.10/multiprocessing/popen_fork.py:66: RuntimeWarning: os.fork() was called. os.fork() is incompatible with multithreaded code, and JAX is multithreaded, so this will likely lead to a deadlock.\n",
      "  self.pid = os.fork()\n",
      "/opt/conda/lib/python3.10/multiprocessing/popen_fork.py:66: RuntimeWarning: os.fork() was called. os.fork() is incompatible with multithreaded code, and JAX is multithreaded, so this will likely lead to a deadlock.\n",
      "  self.pid = os.fork()\n",
      "/opt/conda/lib/python3.10/multiprocessing/popen_fork.py:66: RuntimeWarning: os.fork() was called. os.fork() is incompatible with multithreaded code, and JAX is multithreaded, so this will likely lead to a deadlock.\n",
      "  self.pid = os.fork()\n",
      "/opt/conda/lib/python3.10/multiprocessing/popen_fork.py:66: RuntimeWarning: os.fork() was called. os.fork() is incompatible with multithreaded code, and JAX is multithreaded, so this will likely lead to a deadlock.\n",
      "  self.pid = os.fork()\n"
     ]
    },
    {
     "name": "stdout",
     "output_type": "stream",
     "text": [
      "Epoch 28:\n",
      "\ttrain: loss 1.717 | loss id   1.69 | top_1_acc 0.0052 | top_5_acc 0.0247 | acc_eu: 0.459 | acc_cos: 0.195 | auc_eu: 0.579 | auc_cos: 0.517\n",
      "\tval: acc_eu: 0.428 | acc_cos: 0.228 | auc_eu: 0.593 | auc_cos: 0.505\n",
      "\u001b[36m\tSaving model to /kaggle/working/checkpoint/magface/albedo/iresnet152/models/checkpoint.pth\u001b[0m\n"
     ]
    },
    {
     "name": "stderr",
     "output_type": "stream",
     "text": [
      "/opt/conda/lib/python3.10/multiprocessing/popen_fork.py:66: RuntimeWarning: os.fork() was called. os.fork() is incompatible with multithreaded code, and JAX is multithreaded, so this will likely lead to a deadlock.\n",
      "  self.pid = os.fork()\n",
      "/opt/conda/lib/python3.10/multiprocessing/popen_fork.py:66: RuntimeWarning: os.fork() was called. os.fork() is incompatible with multithreaded code, and JAX is multithreaded, so this will likely lead to a deadlock.\n",
      "  self.pid = os.fork()\n",
      "/opt/conda/lib/python3.10/multiprocessing/popen_fork.py:66: RuntimeWarning: os.fork() was called. os.fork() is incompatible with multithreaded code, and JAX is multithreaded, so this will likely lead to a deadlock.\n",
      "  self.pid = os.fork()\n",
      "/opt/conda/lib/python3.10/multiprocessing/popen_fork.py:66: RuntimeWarning: os.fork() was called. os.fork() is incompatible with multithreaded code, and JAX is multithreaded, so this will likely lead to a deadlock.\n",
      "  self.pid = os.fork()\n"
     ]
    },
    {
     "name": "stdout",
     "output_type": "stream",
     "text": [
      "Epoch 29:\n",
      "\ttrain: loss 1.713 | loss id   1.69 | top_1_acc 0.0037 | top_5_acc 0.0217 | acc_eu: 0.694 | acc_cos: 0.114 | auc_eu: 0.577 | auc_cos: 0.513\n",
      "\tval: acc_eu: 0.429 | acc_cos: 0.505 | auc_eu: 0.591 | auc_cos: 0.531\n",
      "\u001b[36m\tSaving model to /kaggle/working/checkpoint/magface/albedo/iresnet152/models/checkpoint.pth\u001b[0m\n"
     ]
    },
    {
     "name": "stderr",
     "output_type": "stream",
     "text": [
      "/opt/conda/lib/python3.10/multiprocessing/popen_fork.py:66: RuntimeWarning: os.fork() was called. os.fork() is incompatible with multithreaded code, and JAX is multithreaded, so this will likely lead to a deadlock.\n",
      "  self.pid = os.fork()\n",
      "/opt/conda/lib/python3.10/multiprocessing/popen_fork.py:66: RuntimeWarning: os.fork() was called. os.fork() is incompatible with multithreaded code, and JAX is multithreaded, so this will likely lead to a deadlock.\n",
      "  self.pid = os.fork()\n",
      "/opt/conda/lib/python3.10/multiprocessing/popen_fork.py:66: RuntimeWarning: os.fork() was called. os.fork() is incompatible with multithreaded code, and JAX is multithreaded, so this will likely lead to a deadlock.\n",
      "  self.pid = os.fork()\n",
      "/opt/conda/lib/python3.10/multiprocessing/popen_fork.py:66: RuntimeWarning: os.fork() was called. os.fork() is incompatible with multithreaded code, and JAX is multithreaded, so this will likely lead to a deadlock.\n",
      "  self.pid = os.fork()\n"
     ]
    },
    {
     "name": "stdout",
     "output_type": "stream",
     "text": [
      "Epoch 30:\n",
      "\ttrain: loss 1.719 | loss id   1.70 | top_1_acc 0.0052 | top_5_acc 0.0232 | acc_eu: 0.488 | acc_cos: 0.121 | auc_eu: 0.577 | auc_cos: 0.519\n",
      "\tval: acc_eu: 0.427 | acc_cos: 0.180 | auc_eu: 0.600 | auc_cos: 0.496\n",
      "\u001b[36m\tSaving model to /kaggle/working/checkpoint/magface/albedo/iresnet152/models/checkpoint.pth\u001b[0m\n"
     ]
    },
    {
     "name": "stderr",
     "output_type": "stream",
     "text": [
      "/opt/conda/lib/python3.10/multiprocessing/popen_fork.py:66: RuntimeWarning: os.fork() was called. os.fork() is incompatible with multithreaded code, and JAX is multithreaded, so this will likely lead to a deadlock.\n",
      "  self.pid = os.fork()\n",
      "/opt/conda/lib/python3.10/multiprocessing/popen_fork.py:66: RuntimeWarning: os.fork() was called. os.fork() is incompatible with multithreaded code, and JAX is multithreaded, so this will likely lead to a deadlock.\n",
      "  self.pid = os.fork()\n",
      "/opt/conda/lib/python3.10/multiprocessing/popen_fork.py:66: RuntimeWarning: os.fork() was called. os.fork() is incompatible with multithreaded code, and JAX is multithreaded, so this will likely lead to a deadlock.\n",
      "  self.pid = os.fork()\n",
      "/opt/conda/lib/python3.10/multiprocessing/popen_fork.py:66: RuntimeWarning: os.fork() was called. os.fork() is incompatible with multithreaded code, and JAX is multithreaded, so this will likely lead to a deadlock.\n",
      "  self.pid = os.fork()\n"
     ]
    },
    {
     "name": "stdout",
     "output_type": "stream",
     "text": [
      "Epoch 31:\n",
      "\ttrain: loss 1.710 | loss id   1.69 | top_1_acc 0.0045 | top_5_acc 0.0217 | acc_eu: 0.472 | acc_cos: 0.130 | auc_eu: 0.578 | auc_cos: 0.508\n",
      "\tval: acc_eu: 0.416 | acc_cos: 0.142 | auc_eu: 0.595 | auc_cos: 0.482\n",
      "\u001b[36m\tSaving model to /kaggle/working/checkpoint/magface/albedo/iresnet152/models/checkpoint.pth\u001b[0m\n"
     ]
    },
    {
     "name": "stderr",
     "output_type": "stream",
     "text": [
      "/opt/conda/lib/python3.10/multiprocessing/popen_fork.py:66: RuntimeWarning: os.fork() was called. os.fork() is incompatible with multithreaded code, and JAX is multithreaded, so this will likely lead to a deadlock.\n",
      "  self.pid = os.fork()\n",
      "/opt/conda/lib/python3.10/multiprocessing/popen_fork.py:66: RuntimeWarning: os.fork() was called. os.fork() is incompatible with multithreaded code, and JAX is multithreaded, so this will likely lead to a deadlock.\n",
      "  self.pid = os.fork()\n",
      "/opt/conda/lib/python3.10/multiprocessing/popen_fork.py:66: RuntimeWarning: os.fork() was called. os.fork() is incompatible with multithreaded code, and JAX is multithreaded, so this will likely lead to a deadlock.\n",
      "  self.pid = os.fork()\n",
      "/opt/conda/lib/python3.10/multiprocessing/popen_fork.py:66: RuntimeWarning: os.fork() was called. os.fork() is incompatible with multithreaded code, and JAX is multithreaded, so this will likely lead to a deadlock.\n",
      "  self.pid = os.fork()\n"
     ]
    },
    {
     "name": "stdout",
     "output_type": "stream",
     "text": [
      "Epoch 32:\n",
      "\ttrain: loss 1.704 | loss id   1.68 | top_1_acc 0.0090 | top_5_acc 0.0321 | acc_eu: 0.592 | acc_cos: 0.349 | auc_eu: 0.579 | auc_cos: 0.524\n",
      "\tval: acc_eu: 0.788 | acc_cos: 0.828 | auc_eu: 0.593 | auc_cos: 0.503\n",
      "\u001b[36m\tSaving model to /kaggle/working/checkpoint/magface/albedo/iresnet152/models/checkpoint.pth\u001b[0m\n"
     ]
    },
    {
     "name": "stderr",
     "output_type": "stream",
     "text": [
      "/opt/conda/lib/python3.10/multiprocessing/popen_fork.py:66: RuntimeWarning: os.fork() was called. os.fork() is incompatible with multithreaded code, and JAX is multithreaded, so this will likely lead to a deadlock.\n",
      "  self.pid = os.fork()\n",
      "/opt/conda/lib/python3.10/multiprocessing/popen_fork.py:66: RuntimeWarning: os.fork() was called. os.fork() is incompatible with multithreaded code, and JAX is multithreaded, so this will likely lead to a deadlock.\n",
      "  self.pid = os.fork()\n",
      "/opt/conda/lib/python3.10/multiprocessing/popen_fork.py:66: RuntimeWarning: os.fork() was called. os.fork() is incompatible with multithreaded code, and JAX is multithreaded, so this will likely lead to a deadlock.\n",
      "  self.pid = os.fork()\n",
      "/opt/conda/lib/python3.10/multiprocessing/popen_fork.py:66: RuntimeWarning: os.fork() was called. os.fork() is incompatible with multithreaded code, and JAX is multithreaded, so this will likely lead to a deadlock.\n",
      "  self.pid = os.fork()\n"
     ]
    },
    {
     "name": "stdout",
     "output_type": "stream",
     "text": [
      "Epoch 33:\n",
      "\ttrain: loss 1.706 | loss id   1.68 | top_1_acc 0.0052 | top_5_acc 0.0299 | acc_eu: 0.598 | acc_cos: 0.369 | auc_eu: 0.568 | auc_cos: 0.519\n",
      "\tval: acc_eu: 0.646 | acc_cos: 0.214 | auc_eu: 0.590 | auc_cos: 0.539\n",
      "\u001b[36m\tSaving model to /kaggle/working/checkpoint/magface/albedo/iresnet152/models/checkpoint.pth\u001b[0m\n"
     ]
    },
    {
     "name": "stderr",
     "output_type": "stream",
     "text": [
      "/opt/conda/lib/python3.10/multiprocessing/popen_fork.py:66: RuntimeWarning: os.fork() was called. os.fork() is incompatible with multithreaded code, and JAX is multithreaded, so this will likely lead to a deadlock.\n",
      "  self.pid = os.fork()\n",
      "/opt/conda/lib/python3.10/multiprocessing/popen_fork.py:66: RuntimeWarning: os.fork() was called. os.fork() is incompatible with multithreaded code, and JAX is multithreaded, so this will likely lead to a deadlock.\n",
      "  self.pid = os.fork()\n",
      "/opt/conda/lib/python3.10/multiprocessing/popen_fork.py:66: RuntimeWarning: os.fork() was called. os.fork() is incompatible with multithreaded code, and JAX is multithreaded, so this will likely lead to a deadlock.\n",
      "  self.pid = os.fork()\n",
      "/opt/conda/lib/python3.10/multiprocessing/popen_fork.py:66: RuntimeWarning: os.fork() was called. os.fork() is incompatible with multithreaded code, and JAX is multithreaded, so this will likely lead to a deadlock.\n",
      "  self.pid = os.fork()\n"
     ]
    },
    {
     "name": "stdout",
     "output_type": "stream",
     "text": [
      "Epoch 34:\n",
      "\ttrain: loss 1.709 | loss id   1.69 | top_1_acc 0.0052 | top_5_acc 0.0284 | acc_eu: 0.628 | acc_cos: 0.234 | auc_eu: 0.567 | auc_cos: 0.519\n",
      "\tval: acc_eu: 0.631 | acc_cos: 0.261 | auc_eu: 0.583 | auc_cos: 0.550\n",
      "\u001b[36m\tSaving model to /kaggle/working/checkpoint/magface/albedo/iresnet152/models/checkpoint.pth\u001b[0m\n"
     ]
    },
    {
     "name": "stderr",
     "output_type": "stream",
     "text": [
      "/opt/conda/lib/python3.10/multiprocessing/popen_fork.py:66: RuntimeWarning: os.fork() was called. os.fork() is incompatible with multithreaded code, and JAX is multithreaded, so this will likely lead to a deadlock.\n",
      "  self.pid = os.fork()\n",
      "/opt/conda/lib/python3.10/multiprocessing/popen_fork.py:66: RuntimeWarning: os.fork() was called. os.fork() is incompatible with multithreaded code, and JAX is multithreaded, so this will likely lead to a deadlock.\n",
      "  self.pid = os.fork()\n",
      "/opt/conda/lib/python3.10/multiprocessing/popen_fork.py:66: RuntimeWarning: os.fork() was called. os.fork() is incompatible with multithreaded code, and JAX is multithreaded, so this will likely lead to a deadlock.\n",
      "  self.pid = os.fork()\n",
      "/opt/conda/lib/python3.10/multiprocessing/popen_fork.py:66: RuntimeWarning: os.fork() was called. os.fork() is incompatible with multithreaded code, and JAX is multithreaded, so this will likely lead to a deadlock.\n",
      "  self.pid = os.fork()\n"
     ]
    },
    {
     "name": "stdout",
     "output_type": "stream",
     "text": [
      "Epoch 35:\n",
      "\ttrain: loss 1.695 | loss id   1.67 | top_1_acc 0.0037 | top_5_acc 0.0277 | acc_eu: 0.587 | acc_cos: 0.121 | auc_eu: 0.575 | auc_cos: 0.515\n",
      "\tval: acc_eu: 0.644 | acc_cos: 0.271 | auc_eu: 0.596 | auc_cos: 0.524\n",
      "\u001b[36m\tSaving model to /kaggle/working/checkpoint/magface/albedo/iresnet152/models/checkpoint.pth\u001b[0m\n"
     ]
    },
    {
     "name": "stderr",
     "output_type": "stream",
     "text": [
      "/opt/conda/lib/python3.10/multiprocessing/popen_fork.py:66: RuntimeWarning: os.fork() was called. os.fork() is incompatible with multithreaded code, and JAX is multithreaded, so this will likely lead to a deadlock.\n",
      "  self.pid = os.fork()\n",
      "/opt/conda/lib/python3.10/multiprocessing/popen_fork.py:66: RuntimeWarning: os.fork() was called. os.fork() is incompatible with multithreaded code, and JAX is multithreaded, so this will likely lead to a deadlock.\n",
      "  self.pid = os.fork()\n"
     ]
    },
    {
     "ename": "KeyboardInterrupt",
     "evalue": "",
     "output_type": "error",
     "traceback": [
      "\u001b[0;31m---------------------------------------------------------------------------\u001b[0m",
      "\u001b[0;31mKeyboardInterrupt\u001b[0m                         Traceback (most recent call last)",
      "Cell \u001b[0;32mIn[9], line 1\u001b[0m\n\u001b[0;32m----> 1\u001b[0m \u001b[43mfit\u001b[49m\u001b[43m(\u001b[49m\u001b[43mCONFIGURATION\u001b[49m\u001b[43m,\u001b[49m\u001b[43m \u001b[49m\u001b[38;5;241;43m0\u001b[39;49m\u001b[43m,\u001b[49m\u001b[43m \u001b[49m\u001b[43mmodel\u001b[49m\u001b[43m,\u001b[49m\u001b[43m \u001b[49m\u001b[43mdevice\u001b[49m\u001b[43m,\u001b[49m\u001b[43m \u001b[49m\u001b[43mtrain_dataloader\u001b[49m\u001b[43m,\u001b[49m\u001b[43m \u001b[49m\u001b[43mval_dataloader\u001b[49m\u001b[43m,\u001b[49m\u001b[43m \u001b[49m\u001b[43mcriterion\u001b[49m\u001b[43m,\u001b[49m\u001b[43m \u001b[49m\u001b[43moptimizer\u001b[49m\u001b[43m,\u001b[49m\u001b[43m \u001b[49m\u001b[43mscheduler\u001b[49m\u001b[43m,\u001b[49m\u001b[43m \u001b[49m\u001b[43mearly_stopping\u001b[49m\u001b[43m,\u001b[49m\u001b[43m \u001b[49m\u001b[43mmodle_checkpoint\u001b[49m\u001b[43m)\u001b[49m\n",
      "File \u001b[0;32m/kaggle/working/going_modular/train_eval/train.py:56\u001b[0m, in \u001b[0;36mfit\u001b[0;34m(conf, start_epoch, model, device, train_dataloader, val_dataloader, criterion, optimizer, scheduler, early_stopping, model_checkpoint)\u001b[0m\n\u001b[1;32m     54\u001b[0m loss_id, loss_g \u001b[38;5;241m=\u001b[39m criterion(logits, target, x_norm)\n\u001b[1;32m     55\u001b[0m loss \u001b[38;5;241m=\u001b[39m loss_id \u001b[38;5;241m+\u001b[39m loss_g\n\u001b[0;32m---> 56\u001b[0m acc1, acc5 \u001b[38;5;241m=\u001b[39m \u001b[43mtrain_id_accuracy\u001b[49m\u001b[43m(\u001b[49m\u001b[43mlogits\u001b[49m\u001b[43m[\u001b[49m\u001b[38;5;241;43m0\u001b[39;49m\u001b[43m]\u001b[49m\u001b[43m,\u001b[49m\u001b[43m \u001b[49m\u001b[43mtarget\u001b[49m\u001b[43m)\u001b[49m\n\u001b[1;32m     58\u001b[0m \u001b[38;5;66;03m# update metric\u001b[39;00m\n\u001b[1;32m     59\u001b[0m batch_size \u001b[38;5;241m=\u001b[39m \u001b[38;5;28minput\u001b[39m\u001b[38;5;241m.\u001b[39msize(\u001b[38;5;241m0\u001b[39m)\n",
      "File \u001b[0;32m/kaggle/working/going_modular/train_eval/train_id_acc.py:9\u001b[0m, in \u001b[0;36mtrain_id_accuracy\u001b[0;34m(predict, target)\u001b[0m\n\u001b[1;32m      6\u001b[0m pred \u001b[38;5;241m=\u001b[39m pred\u001b[38;5;241m.\u001b[39mt()\n\u001b[1;32m      7\u001b[0m correct \u001b[38;5;241m=\u001b[39m pred\u001b[38;5;241m.\u001b[39meq(target\u001b[38;5;241m.\u001b[39mview(\u001b[38;5;241m1\u001b[39m, \u001b[38;5;241m-\u001b[39m\u001b[38;5;241m1\u001b[39m)\u001b[38;5;241m.\u001b[39mexpand_as(pred))\n\u001b[0;32m----> 9\u001b[0m correct_1 \u001b[38;5;241m=\u001b[39m \u001b[43mcorrect\u001b[49m\u001b[43m[\u001b[49m\u001b[43m:\u001b[49m\u001b[38;5;241;43m1\u001b[39;49m\u001b[43m]\u001b[49m\u001b[38;5;241;43m.\u001b[39;49m\u001b[43mcontiguous\u001b[49m\u001b[43m(\u001b[49m\u001b[43m)\u001b[49m\u001b[38;5;241;43m.\u001b[39;49m\u001b[43mview\u001b[49m\u001b[43m(\u001b[49m\u001b[38;5;241;43m-\u001b[39;49m\u001b[38;5;241;43m1\u001b[39;49m\u001b[43m)\u001b[49m\u001b[38;5;241;43m.\u001b[39;49m\u001b[43mfloat\u001b[49m\u001b[43m(\u001b[49m\u001b[43m)\u001b[49m\u001b[38;5;241;43m.\u001b[39;49m\u001b[43msum\u001b[49m\u001b[43m(\u001b[49m\u001b[38;5;241;43m0\u001b[39;49m\u001b[43m,\u001b[49m\u001b[43m \u001b[49m\u001b[43mkeepdim\u001b[49m\u001b[38;5;241;43m=\u001b[39;49m\u001b[38;5;28;43;01mTrue\u001b[39;49;00m\u001b[43m)\u001b[49m\u001b[38;5;241;43m.\u001b[39;49m\u001b[43mitem\u001b[49m\u001b[43m(\u001b[49m\u001b[43m)\u001b[49m\n\u001b[1;32m     10\u001b[0m correct_5 \u001b[38;5;241m=\u001b[39m correct[:\u001b[38;5;241m5\u001b[39m]\u001b[38;5;241m.\u001b[39mcontiguous()\u001b[38;5;241m.\u001b[39mview(\u001b[38;5;241m-\u001b[39m\u001b[38;5;241m1\u001b[39m)\u001b[38;5;241m.\u001b[39mfloat()\u001b[38;5;241m.\u001b[39msum(\u001b[38;5;241m0\u001b[39m, keepdim\u001b[38;5;241m=\u001b[39m\u001b[38;5;28;01mTrue\u001b[39;00m)\u001b[38;5;241m.\u001b[39mitem()\n\u001b[1;32m     11\u001b[0m \u001b[38;5;28;01mreturn\u001b[39;00m correct_1, correct_5\n",
      "\u001b[0;31mKeyboardInterrupt\u001b[0m: "
     ]
    }
   ],
   "source": [
    "fit(CONFIGURATION, 0, model, device, train_dataloader, val_dataloader, criterion, optimizer, scheduler, early_stopping, modle_checkpoint)"
   ]
  },
  {
   "cell_type": "code",
   "execution_count": 10,
   "metadata": {
    "execution": {
     "iopub.execute_input": "2024-12-12T10:36:25.637323Z",
     "iopub.status.busy": "2024-12-12T10:36:25.636998Z",
     "iopub.status.idle": "2024-12-12T10:36:41.318750Z",
     "shell.execute_reply": "2024-12-12T10:36:41.317565Z",
     "shell.execute_reply.started": "2024-12-12T10:36:25.637294Z"
    },
    "trusted": true
   },
   "outputs": [
    {
     "name": "stderr",
     "output_type": "stream",
     "text": [
      "/opt/conda/lib/python3.10/pty.py:89: RuntimeWarning: os.fork() was called. os.fork() is incompatible with multithreaded code, and JAX is multithreaded, so this will likely lead to a deadlock.\n",
      "  pid, fd = os.forkpty()\n"
     ]
    },
    {
     "name": "stdout",
     "output_type": "stream",
     "text": [
      "  adding: kaggle/working/checkpoint/ (stored 0%)\n",
      "  adding: kaggle/working/checkpoint/magface/ (stored 0%)\n",
      "  adding: kaggle/working/checkpoint/magface/albedo/ (stored 0%)\n",
      "  adding: kaggle/working/checkpoint/magface/albedo/iresnet152/ (stored 0%)\n",
      "  adding: kaggle/working/checkpoint/magface/albedo/iresnet152/models/ (stored 0%)\n",
      "  adding: kaggle/working/checkpoint/magface/albedo/iresnet152/models/checkpoint.pth (deflated 12%)\n",
      "  adding: kaggle/working/checkpoint/magface/albedo/iresnet152/logs/ (stored 0%)\n",
      "  adding: kaggle/working/checkpoint/magface/albedo/iresnet152/logs/AUC_cosine_val/ (stored 0%)\n",
      "  adding: kaggle/working/checkpoint/magface/albedo/iresnet152/logs/AUC_cosine_val/events.out.tfevents.1733996725.812a441182f3.23.10 (deflated 57%)\n",
      "  adding: kaggle/working/checkpoint/magface/albedo/iresnet152/logs/AUC_euclidean_train/ (stored 0%)\n",
      "  adding: kaggle/working/checkpoint/magface/albedo/iresnet152/logs/AUC_euclidean_train/events.out.tfevents.1733996725.812a441182f3.23.7 (deflated 59%)\n",
      "  adding: kaggle/working/checkpoint/magface/albedo/iresnet152/logs/Cosine_Accuracy_train/ (stored 0%)\n",
      "  adding: kaggle/working/checkpoint/magface/albedo/iresnet152/logs/Cosine_Accuracy_train/events.out.tfevents.1733996725.812a441182f3.23.5 (deflated 60%)\n",
      "  adding: kaggle/working/checkpoint/magface/albedo/iresnet152/logs/Euclidean_Accuracy_train/ (stored 0%)\n",
      "  adding: kaggle/working/checkpoint/magface/albedo/iresnet152/logs/Euclidean_Accuracy_train/events.out.tfevents.1733996725.812a441182f3.23.3 (deflated 62%)\n",
      "  adding: kaggle/working/checkpoint/magface/albedo/iresnet152/logs/Euclidean_Accuracy_val/ (stored 0%)\n",
      "  adding: kaggle/working/checkpoint/magface/albedo/iresnet152/logs/Euclidean_Accuracy_val/events.out.tfevents.1733996725.812a441182f3.23.4 (deflated 62%)\n",
      "  adding: kaggle/working/checkpoint/magface/albedo/iresnet152/logs/AUC_euclidean_val/ (stored 0%)\n",
      "  adding: kaggle/working/checkpoint/magface/albedo/iresnet152/logs/AUC_euclidean_val/events.out.tfevents.1733996725.812a441182f3.23.8 (deflated 60%)\n",
      "  adding: kaggle/working/checkpoint/magface/albedo/iresnet152/logs/Train_accuracy_id_top_1/ (stored 0%)\n",
      "  adding: kaggle/working/checkpoint/magface/albedo/iresnet152/logs/Train_accuracy_id_top_1/events.out.tfevents.1733996725.812a441182f3.23.1 (deflated 65%)\n",
      "  adding: kaggle/working/checkpoint/magface/albedo/iresnet152/logs/Train_accuracy_id_top_5/ (stored 0%)\n",
      "  adding: kaggle/working/checkpoint/magface/albedo/iresnet152/logs/Train_accuracy_id_top_5/events.out.tfevents.1733996725.812a441182f3.23.2 (deflated 65%)\n",
      "  adding: kaggle/working/checkpoint/magface/albedo/iresnet152/logs/events.out.tfevents.1733996643.812a441182f3.23.0 (deflated 63%)\n",
      "  adding: kaggle/working/checkpoint/magface/albedo/iresnet152/logs/Cosine_Accuracy_val/ (stored 0%)\n",
      "  adding: kaggle/working/checkpoint/magface/albedo/iresnet152/logs/Cosine_Accuracy_val/events.out.tfevents.1733996725.812a441182f3.23.6 (deflated 60%)\n",
      "  adding: kaggle/working/checkpoint/magface/albedo/iresnet152/logs/AUC_cosine_train/ (stored 0%)\n",
      "  adding: kaggle/working/checkpoint/magface/albedo/iresnet152/logs/AUC_cosine_train/events.out.tfevents.1733996725.812a441182f3.23.9 (deflated 58%)\n"
     ]
    }
   ],
   "source": [
    "!zip -r /kaggle/working/checkpoint.zip /kaggle/working/checkpoint"
   ]
  },
  {
   "cell_type": "code",
   "execution_count": 5,
   "metadata": {
    "trusted": true
   },
   "outputs": [
    {
     "name": "stdout",
     "output_type": "stream",
     "text": [
      "The tensorboard extension is already loaded. To reload it, use:\n",
      "  %reload_ext tensorboard\n"
     ]
    },
    {
     "data": {
      "text/plain": [
       "Reusing TensorBoard on port 6006 (pid 10003), started 0:00:05 ago. (Use '!kill 10003' to kill it.)"
      ]
     },
     "metadata": {},
     "output_type": "display_data"
    },
    {
     "data": {
      "text/html": [
       "\n",
       "      <iframe id=\"tensorboard-frame-2e53f238a372a87d\" width=\"100%\" height=\"800\" frameborder=\"0\">\n",
       "      </iframe>\n",
       "      <script>\n",
       "        (function() {\n",
       "          const frame = document.getElementById(\"tensorboard-frame-2e53f238a372a87d\");\n",
       "          const url = new URL(\"http://localhost\");\n",
       "          const port = 6006;\n",
       "          if (port) {\n",
       "            url.port = port;\n",
       "          }\n",
       "          frame.src = url;\n",
       "        })();\n",
       "      </script>\n",
       "    "
      ],
      "text/plain": [
       "<IPython.core.display.HTML object>"
      ]
     },
     "metadata": {},
     "output_type": "display_data"
    }
   ],
   "source": [
    "%load_ext tensorboard\n",
    "%tensorboard --logdir checkpoint/magface/albedo/iresnet152/logs"
   ]
  },
  {
   "cell_type": "code",
   "execution_count": null,
   "metadata": {},
   "outputs": [],
   "source": []
  }
 ],
 "metadata": {
  "kaggle": {
   "accelerator": "gpu",
   "dataSources": [
    {
     "datasetId": 6280117,
     "sourceId": 10173110,
     "sourceType": "datasetVersion"
    }
   ],
   "dockerImageVersionId": 30804,
   "isGpuEnabled": true,
   "isInternetEnabled": true,
   "language": "python",
   "sourceType": "notebook"
  },
  "kernelspec": {
   "display_name": "torch",
   "language": "python",
   "name": "python3"
  },
  "language_info": {
   "codemirror_mode": {
    "name": "ipython",
    "version": 3
   },
   "file_extension": ".py",
   "mimetype": "text/x-python",
   "name": "python",
   "nbconvert_exporter": "python",
   "pygments_lexer": "ipython3",
   "version": "3.10.12"
  }
 },
 "nbformat": 4,
 "nbformat_minor": 4
}
