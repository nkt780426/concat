{
 "cells": [
  {
   "cell_type": "code",
   "execution_count": 1,
   "id": "1d797b08",
   "metadata": {
    "_cell_guid": "b1076dfc-b9ad-4769-8c92-a6c4dae69d19",
    "_uuid": "8f2839f25d086af736a60e9eeb907d3b93b6e0e5",
    "execution": {
     "iopub.execute_input": "2024-12-19T17:16:14.092926Z",
     "iopub.status.busy": "2024-12-19T17:16:14.092566Z",
     "iopub.status.idle": "2024-12-19T17:16:17.270721Z",
     "shell.execute_reply": "2024-12-19T17:16:17.269626Z"
    },
    "papermill": {
     "duration": 3.183487,
     "end_time": "2024-12-19T17:16:17.272402",
     "exception": false,
     "start_time": "2024-12-19T17:16:14.088915",
     "status": "completed"
    },
    "tags": []
   },
   "outputs": [
    {
     "name": "stdout",
     "output_type": "stream",
     "text": [
      "Cloning into 'Bachelor-s-Project'...\r\n"
     ]
    },
    {
     "name": "stdout",
     "output_type": "stream",
     "text": [
      "remote: Enumerating objects: 524, done.\u001b[K\r\n",
      "remote: Counting objects:   0% (1/116)\u001b[K\r",
      "remote: Counting objects:   1% (2/116)\u001b[K\r",
      "remote: Counting objects:   2% (3/116)\u001b[K\r",
      "remote: Counting objects:   3% (4/116)\u001b[K\r",
      "remote: Counting objects:   4% (5/116)\u001b[K\r",
      "remote: Counting objects:   5% (6/116)\u001b[K\r",
      "remote: Counting objects:   6% (7/116)\u001b[K\r",
      "remote: Counting objects:   7% (9/116)\u001b[K\r",
      "remote: Counting objects:   8% (10/116)\u001b[K\r",
      "remote: Counting objects:   9% (11/116)\u001b[K\r",
      "remote: Counting objects:  10% (12/116)\u001b[K\r",
      "remote: Counting objects:  11% (13/116)\u001b[K\r",
      "remote: Counting objects:  12% (14/116)\u001b[K\r",
      "remote: Counting objects:  13% (16/116)\u001b[K\r",
      "remote: Counting objects:  14% (17/116)\u001b[K\r",
      "remote: Counting objects:  15% (18/116)\u001b[K\r",
      "remote: Counting objects:  16% (19/116)\u001b[K\r",
      "remote: Counting objects:  17% (20/116)\u001b[K\r",
      "remote: Counting objects:  18% (21/116)\u001b[K\r",
      "remote: Counting objects:  19% (23/116)\u001b[K\r",
      "remote: Counting objects:  20% (24/116)\u001b[K\r",
      "remote: Counting objects:  21% (25/116)\u001b[K\r",
      "remote: Counting objects:  22% (26/116)\u001b[K\r",
      "remote: Counting objects:  23% (27/116)\u001b[K\r",
      "remote: Counting objects:  24% (28/116)\u001b[K\r",
      "remote: Counting objects:  25% (29/116)\u001b[K\r",
      "remote: Counting objects:  26% (31/116)\u001b[K\r",
      "remote: Counting objects:  27% (32/116)\u001b[K\r",
      "remote: Counting objects:  28% (33/116)\u001b[K\r",
      "remote: Counting objects:  29% (34/116)\u001b[K\r",
      "remote: Counting objects:  30% (35/116)\u001b[K\r",
      "remote: Counting objects:  31% (36/116)\u001b[K\r",
      "remote: Counting objects:  32% (38/116)\u001b[K\r",
      "remote: Counting objects:  33% (39/116)\u001b[K\r",
      "remote: Counting objects:  34% (40/116)\u001b[K\r",
      "remote: Counting objects:  35% (41/116)\u001b[K\r",
      "remote: Counting objects:  36% (42/116)\u001b[K\r",
      "remote: Counting objects:  37% (43/116)\u001b[K\r",
      "remote: Counting objects:  38% (45/116)\u001b[K\r",
      "remote: Counting objects:  39% (46/116)\u001b[K\r",
      "remote: Counting objects:  40% (47/116)\u001b[K\r",
      "remote: Counting objects:  41% (48/116)\u001b[K\r",
      "remote: Counting objects:  42% (49/116)\u001b[K\r",
      "remote: Counting objects:  43% (50/116)\u001b[K\r",
      "remote: Counting objects:  44% (52/116)\u001b[K\r",
      "remote: Counting objects:  45% (53/116)\u001b[K\r",
      "remote: Counting objects:  46% (54/116)\u001b[K\r",
      "remote: Counting objects:  47% (55/116)\u001b[K\r",
      "remote: Counting objects:  48% (56/116)\u001b[K\r",
      "remote: Counting objects:  49% (57/116)\u001b[K\r",
      "remote: Counting objects:  50% (58/116)\u001b[K\r",
      "remote: Counting objects:  51% (60/116)\u001b[K\r",
      "remote: Counting objects:  52% (61/116)\u001b[K\r",
      "remote: Counting objects:  53% (62/116)\u001b[K\r",
      "remote: Counting objects:  54% (63/116)\u001b[K\r",
      "remote: Counting objects:  55% (64/116)\u001b[K\r",
      "remote: Counting objects:  56% (65/116)\u001b[K\r",
      "remote: Counting objects:  57% (67/116)\u001b[K\r",
      "remote: Counting objects:  58% (68/116)\u001b[K\r",
      "remote: Counting objects:  59% (69/116)\u001b[K\r",
      "remote: Counting objects:  60% (70/116)\u001b[K\r",
      "remote: Counting objects:  61% (71/116)\u001b[K\r",
      "remote: Counting objects:  62% (72/116)\u001b[K\r",
      "remote: Counting objects:  63% (74/116)\u001b[K\r",
      "remote: Counting objects:  64% (75/116)\u001b[K\r",
      "remote: Counting objects:  65% (76/116)\u001b[K\r",
      "remote: Counting objects:  66% (77/116)\u001b[K\r",
      "remote: Counting objects:  67% (78/116)\u001b[K\r",
      "remote: Counting objects:  68% (79/116)\u001b[K\r",
      "remote: Counting objects:  69% (81/116)\u001b[K\r",
      "remote: Counting objects:  70% (82/116)\u001b[K\r",
      "remote: Counting objects:  71% (83/116)\u001b[K\r",
      "remote: Counting objects:  72% (84/116)\u001b[K\r",
      "remote: Counting objects:  73% (85/116)\u001b[K\r",
      "remote: Counting objects:  74% (86/116)\u001b[K\r",
      "remote: Counting objects:  75% (87/116)\u001b[K\r",
      "remote: Counting objects:  76% (89/116)\u001b[K\r",
      "remote: Counting objects:  77% (90/116)\u001b[K\r",
      "remote: Counting objects:  78% (91/116)\u001b[K\r",
      "remote: Counting objects:  79% (92/116)\u001b[K\r",
      "remote: Counting objects:  80% (93/116)\u001b[K\r",
      "remote: Counting objects:  81% (94/116)\u001b[K\r",
      "remote: Counting objects:  82% (96/116)\u001b[K\r",
      "remote: Counting objects:  83% (97/116)\u001b[K\r",
      "remote: Counting objects:  84% (98/116)\u001b[K\r",
      "remote: Counting objects:  85% (99/116)\u001b[K\r",
      "remote: Counting objects:  86% (100/116)\u001b[K\r",
      "remote: Counting objects:  87% (101/116)\u001b[K\r",
      "remote: Counting objects:  88% (103/116)\u001b[K\r",
      "remote: Counting objects:  89% (104/116)\u001b[K\r",
      "remote: Counting objects:  90% (105/116)\u001b[K\r",
      "remote: Counting objects:  91% (106/116)\u001b[K\r",
      "remote: Counting objects:  92% (107/116)\u001b[K\r",
      "remote: Counting objects:  93% (108/116)\u001b[K\r",
      "remote: Counting objects:  94% (110/116)\u001b[K\r",
      "remote: Counting objects:  95% (111/116)\u001b[K\r",
      "remote: Counting objects:  96% (112/116)\u001b[K\r",
      "remote: Counting objects:  97% (113/116)\u001b[K\r",
      "remote: Counting objects:  98% (114/116)\u001b[K\r",
      "remote: Counting objects:  99% (115/116)\u001b[K\r",
      "remote: Counting objects: 100% (116/116)\u001b[K\r",
      "remote: Counting objects: 100% (116/116), done.\u001b[K\r\n"
     ]
    },
    {
     "name": "stdout",
     "output_type": "stream",
     "text": [
      "remote: Compressing objects:   1% (1/84)\u001b[K\r",
      "remote: Compressing objects:   2% (2/84)\u001b[K\r",
      "remote: Compressing objects:   3% (3/84)\u001b[K\r",
      "remote: Compressing objects:   4% (4/84)\u001b[K\r",
      "remote: Compressing objects:   5% (5/84)\u001b[K\r",
      "remote: Compressing objects:   7% (6/84)\u001b[K\r",
      "remote: Compressing objects:   8% (7/84)\u001b[K\r",
      "remote: Compressing objects:   9% (8/84)\u001b[K\r",
      "remote: Compressing objects:  10% (9/84)\u001b[K\r",
      "remote: Compressing objects:  11% (10/84)\u001b[K\r",
      "remote: Compressing objects:  13% (11/84)\u001b[K\r",
      "remote: Compressing objects:  14% (12/84)\u001b[K\r",
      "remote: Compressing objects:  15% (13/84)\u001b[K\r",
      "remote: Compressing objects:  16% (14/84)\u001b[K\r",
      "remote: Compressing objects:  17% (15/84)\u001b[K\r",
      "remote: Compressing objects:  19% (16/84)\u001b[K\r",
      "remote: Compressing objects:  20% (17/84)\u001b[K\r",
      "remote: Compressing objects:  21% (18/84)\u001b[K\r",
      "remote: Compressing objects:  22% (19/84)\u001b[K\r",
      "remote: Compressing objects:  23% (20/84)\u001b[K\r",
      "remote: Compressing objects:  25% (21/84)\u001b[K\r",
      "remote: Compressing objects:  26% (22/84)\u001b[K\r",
      "remote: Compressing objects:  27% (23/84)\u001b[K\r",
      "remote: Compressing objects:  28% (24/84)\u001b[K\r",
      "remote: Compressing objects:  29% (25/84)\u001b[K\r",
      "remote: Compressing objects:  30% (26/84)\u001b[K\r",
      "remote: Compressing objects:  32% (27/84)\u001b[K\r",
      "remote: Compressing objects:  33% (28/84)\u001b[K\r",
      "remote: Compressing objects:  34% (29/84)\u001b[K\r",
      "remote: Compressing objects:  35% (30/84)\u001b[K\r",
      "remote: Compressing objects:  36% (31/84)\u001b[K\r",
      "remote: Compressing objects:  38% (32/84)\u001b[K\r",
      "remote: Compressing objects:  39% (33/84)\u001b[K\r",
      "remote: Compressing objects:  40% (34/84)\u001b[K\r",
      "remote: Compressing objects:  41% (35/84)\u001b[K\r",
      "remote: Compressing objects:  42% (36/84)\u001b[K\r",
      "remote: Compressing objects:  44% (37/84)\u001b[K\r",
      "remote: Compressing objects:  45% (38/84)\u001b[K\r",
      "remote: Compressing objects:  46% (39/84)\u001b[K\r",
      "remote: Compressing objects:  47% (40/84)\u001b[K\r",
      "remote: Compressing objects:  48% (41/84)\u001b[K\r",
      "remote: Compressing objects:  50% (42/84)\u001b[K\r",
      "remote: Compressing objects:  51% (43/84)\u001b[K\r",
      "remote: Compressing objects:  52% (44/84)\u001b[K\r",
      "remote: Compressing objects:  53% (45/84)\u001b[K\r",
      "remote: Compressing objects:  54% (46/84)\u001b[K\r",
      "remote: Compressing objects:  55% (47/84)\u001b[K\r",
      "remote: Compressing objects:  57% (48/84)\u001b[K\r",
      "remote: Compressing objects:  58% (49/84)\u001b[K\r",
      "remote: Compressing objects:  59% (50/84)\u001b[K\r",
      "remote: Compressing objects:  60% (51/84)\u001b[K\r",
      "remote: Compressing objects:  61% (52/84)\u001b[K\r",
      "remote: Compressing objects:  63% (53/84)\u001b[K\r",
      "remote: Compressing objects:  64% (54/84)\u001b[K\r",
      "remote: Compressing objects:  65% (55/84)\u001b[K\r",
      "remote: Compressing objects:  66% (56/84)\u001b[K\r",
      "remote: Compressing objects:  67% (57/84)\u001b[K\r",
      "remote: Compressing objects:  69% (58/84)\u001b[K\r",
      "remote: Compressing objects:  70% (59/84)\u001b[K\r",
      "remote: Compressing objects:  71% (60/84)\u001b[K\r",
      "remote: Compressing objects:  72% (61/84)\u001b[K\r",
      "remote: Compressing objects:  73% (62/84)\u001b[K\r",
      "remote: Compressing objects:  75% (63/84)\u001b[K\r",
      "remote: Compressing objects:  76% (64/84)\u001b[K\r",
      "remote: Compressing objects:  77% (65/84)\u001b[K\r",
      "remote: Compressing objects:  78% (66/84)\u001b[K\r",
      "remote: Compressing objects:  79% (67/84)\u001b[K\r",
      "remote: Compressing objects:  80% (68/84)\u001b[K\r",
      "remote: Compressing objects:  82% (69/84)\u001b[K\r",
      "remote: Compressing objects:  83% (70/84)\u001b[K\r",
      "remote: Compressing objects:  84% (71/84)\u001b[K\r",
      "remote: Compressing objects:  85% (72/84)\u001b[K\r",
      "remote: Compressing objects:  86% (73/84)\u001b[K\r",
      "remote: Compressing objects:  88% (74/84)\u001b[K\r",
      "remote: Compressing objects:  89% (75/84)\u001b[K\r",
      "remote: Compressing objects:  90% (76/84)\u001b[K\r",
      "remote: Compressing objects:  91% (77/84)\u001b[K\r",
      "remote: Compressing objects:  92% (78/84)\u001b[K\r",
      "remote: Compressing objects:  94% (79/84)\u001b[K\r",
      "remote: Compressing objects:  95% (80/84)\u001b[K\r",
      "remote: Compressing objects:  96% (81/84)\u001b[K\r",
      "remote: Compressing objects:  97% (82/84)\u001b[K\r",
      "remote: Compressing objects:  98% (83/84)\u001b[K\r",
      "remote: Compressing objects: 100% (84/84)\u001b[K\r",
      "remote: Compressing objects: 100% (84/84), done.\u001b[K\r\n",
      "Receiving objects:   0% (1/524)\r",
      "Receiving objects:   1% (6/524)\r",
      "Receiving objects:   2% (11/524)\r"
     ]
    },
    {
     "name": "stdout",
     "output_type": "stream",
     "text": [
      "Receiving objects:   3% (16/524)\r",
      "Receiving objects:   4% (21/524)\r",
      "Receiving objects:   5% (27/524)\r",
      "Receiving objects:   6% (32/524)\r",
      "Receiving objects:   7% (37/524)\r"
     ]
    },
    {
     "name": "stdout",
     "output_type": "stream",
     "text": [
      "Receiving objects:   8% (42/524)\r",
      "Receiving objects:   9% (48/524)\r"
     ]
    },
    {
     "name": "stdout",
     "output_type": "stream",
     "text": [
      "Receiving objects:  10% (53/524)\r",
      "Receiving objects:  11% (58/524), 20.26 MiB | 40.51 MiB/s\r",
      "Receiving objects:  12% (63/524), 20.26 MiB | 40.51 MiB/s\r",
      "Receiving objects:  13% (69/524), 20.26 MiB | 40.51 MiB/s\r",
      "Receiving objects:  14% (74/524), 20.26 MiB | 40.51 MiB/s\r",
      "Receiving objects:  15% (79/524), 20.26 MiB | 40.51 MiB/s\r"
     ]
    },
    {
     "name": "stdout",
     "output_type": "stream",
     "text": [
      "Receiving objects:  16% (84/524), 20.26 MiB | 40.51 MiB/s\r",
      "Receiving objects:  17% (90/524), 20.26 MiB | 40.51 MiB/s\r"
     ]
    },
    {
     "name": "stdout",
     "output_type": "stream",
     "text": [
      "Receiving objects:  18% (95/524), 20.26 MiB | 40.51 MiB/s\r",
      "Receiving objects:  19% (100/524), 20.26 MiB | 40.51 MiB/s\r"
     ]
    },
    {
     "name": "stdout",
     "output_type": "stream",
     "text": [
      "Receiving objects:  20% (105/524), 20.26 MiB | 40.51 MiB/s\r"
     ]
    },
    {
     "name": "stdout",
     "output_type": "stream",
     "text": [
      "Receiving objects:  21% (111/524), 20.26 MiB | 40.51 MiB/s\r",
      "Receiving objects:  22% (116/524), 20.26 MiB | 40.51 MiB/s\r"
     ]
    },
    {
     "name": "stdout",
     "output_type": "stream",
     "text": [
      "Receiving objects:  23% (121/524), 20.26 MiB | 40.51 MiB/s\r"
     ]
    },
    {
     "name": "stdout",
     "output_type": "stream",
     "text": [
      "Receiving objects:  24% (126/524), 20.26 MiB | 40.51 MiB/s\r",
      "Receiving objects:  25% (131/524), 20.26 MiB | 40.51 MiB/s\r",
      "Receiving objects:  26% (137/524), 20.26 MiB | 40.51 MiB/s\r"
     ]
    },
    {
     "name": "stdout",
     "output_type": "stream",
     "text": [
      "Receiving objects:  27% (142/524), 20.26 MiB | 40.51 MiB/s\r"
     ]
    },
    {
     "name": "stdout",
     "output_type": "stream",
     "text": [
      "Receiving objects:  28% (147/524), 20.26 MiB | 40.51 MiB/s\r",
      "Receiving objects:  29% (152/524), 20.26 MiB | 40.51 MiB/s\r"
     ]
    },
    {
     "name": "stdout",
     "output_type": "stream",
     "text": [
      "Receiving objects:  30% (158/524), 20.26 MiB | 40.51 MiB/s\r",
      "Receiving objects:  30% (160/524), 20.26 MiB | 40.51 MiB/s\r"
     ]
    },
    {
     "name": "stdout",
     "output_type": "stream",
     "text": [
      "Receiving objects:  31% (163/524), 47.69 MiB | 47.68 MiB/s\r"
     ]
    },
    {
     "name": "stdout",
     "output_type": "stream",
     "text": [
      "Receiving objects:  32% (168/524), 47.69 MiB | 47.68 MiB/s\r",
      "Receiving objects:  33% (173/524), 47.69 MiB | 47.68 MiB/s\r"
     ]
    },
    {
     "name": "stdout",
     "output_type": "stream",
     "text": [
      "Receiving objects:  34% (179/524), 47.69 MiB | 47.68 MiB/s\r",
      "Receiving objects:  35% (184/524), 47.69 MiB | 47.68 MiB/s\r",
      "Receiving objects:  36% (189/524), 47.69 MiB | 47.68 MiB/s\r",
      "Receiving objects:  37% (194/524), 47.69 MiB | 47.68 MiB/s\r",
      "Receiving objects:  38% (200/524), 47.69 MiB | 47.68 MiB/s\r"
     ]
    },
    {
     "name": "stdout",
     "output_type": "stream",
     "text": [
      "Receiving objects:  39% (205/524), 47.69 MiB | 47.68 MiB/s\r",
      "Receiving objects:  40% (210/524), 47.69 MiB | 47.68 MiB/s\r",
      "Receiving objects:  41% (215/524), 47.69 MiB | 47.68 MiB/s\r",
      "Receiving objects:  42% (221/524), 47.69 MiB | 47.68 MiB/s\r"
     ]
    },
    {
     "name": "stdout",
     "output_type": "stream",
     "text": [
      "Receiving objects:  43% (226/524), 47.69 MiB | 47.68 MiB/s\r",
      "Receiving objects:  44% (231/524), 47.69 MiB | 47.68 MiB/s\r",
      "Receiving objects:  45% (236/524), 47.69 MiB | 47.68 MiB/s\r"
     ]
    },
    {
     "name": "stdout",
     "output_type": "stream",
     "text": [
      "Receiving objects:  46% (242/524), 47.69 MiB | 47.68 MiB/s\r",
      "Receiving objects:  47% (247/524), 47.69 MiB | 47.68 MiB/s\r"
     ]
    },
    {
     "name": "stdout",
     "output_type": "stream",
     "text": [
      "Receiving objects:  48% (252/524), 47.69 MiB | 47.68 MiB/s\r",
      "Receiving objects:  49% (257/524), 47.69 MiB | 47.68 MiB/s\r",
      "Receiving objects:  50% (262/524), 47.69 MiB | 47.68 MiB/s\r",
      "Receiving objects:  51% (268/524), 47.69 MiB | 47.68 MiB/s\r",
      "Receiving objects:  52% (273/524), 47.69 MiB | 47.68 MiB/s\r",
      "Receiving objects:  53% (278/524), 47.69 MiB | 47.68 MiB/s\r",
      "Receiving objects:  54% (283/524), 47.69 MiB | 47.68 MiB/s\r"
     ]
    },
    {
     "name": "stdout",
     "output_type": "stream",
     "text": [
      "Receiving objects:  55% (289/524), 47.69 MiB | 47.68 MiB/s\r",
      "Receiving objects:  56% (294/524), 47.69 MiB | 47.68 MiB/s\r",
      "Receiving objects:  57% (299/524), 47.69 MiB | 47.68 MiB/s\r",
      "Receiving objects:  58% (304/524), 47.69 MiB | 47.68 MiB/s\r",
      "Receiving objects:  59% (310/524), 47.69 MiB | 47.68 MiB/s\r",
      "Receiving objects:  60% (315/524), 47.69 MiB | 47.68 MiB/s\r",
      "Receiving objects:  61% (320/524), 47.69 MiB | 47.68 MiB/s\r",
      "Receiving objects:  62% (325/524), 47.69 MiB | 47.68 MiB/s\r",
      "Receiving objects:  63% (331/524), 47.69 MiB | 47.68 MiB/s\r",
      "Receiving objects:  64% (336/524), 47.69 MiB | 47.68 MiB/s\r"
     ]
    },
    {
     "name": "stdout",
     "output_type": "stream",
     "text": [
      "Receiving objects:  65% (341/524), 47.69 MiB | 47.68 MiB/s\r",
      "Receiving objects:  66% (346/524), 47.69 MiB | 47.68 MiB/s\r",
      "Receiving objects:  67% (352/524), 47.69 MiB | 47.68 MiB/s\r",
      "Receiving objects:  68% (357/524), 47.69 MiB | 47.68 MiB/s\r",
      "Receiving objects:  69% (362/524), 47.69 MiB | 47.68 MiB/s\r"
     ]
    },
    {
     "name": "stdout",
     "output_type": "stream",
     "text": [
      "Receiving objects:  70% (367/524), 47.69 MiB | 47.68 MiB/s\r",
      "Receiving objects:  71% (373/524), 47.69 MiB | 47.68 MiB/s\r",
      "Receiving objects:  72% (378/524), 47.69 MiB | 47.68 MiB/s\r",
      "Receiving objects:  73% (383/524), 47.69 MiB | 47.68 MiB/s\r",
      "Receiving objects:  74% (388/524), 47.69 MiB | 47.68 MiB/s\r",
      "Receiving objects:  75% (393/524), 47.69 MiB | 47.68 MiB/s\r",
      "Receiving objects:  76% (399/524), 72.24 MiB | 48.18 MiB/s\r"
     ]
    },
    {
     "name": "stdout",
     "output_type": "stream",
     "text": [
      "Receiving objects:  77% (404/524), 72.24 MiB | 48.18 MiB/s\r"
     ]
    },
    {
     "name": "stdout",
     "output_type": "stream",
     "text": [
      "Receiving objects:  78% (409/524), 72.24 MiB | 48.18 MiB/s\r",
      "Receiving objects:  79% (414/524), 72.24 MiB | 48.18 MiB/s\r",
      "Receiving objects:  80% (420/524), 72.24 MiB | 48.18 MiB/s\r",
      "Receiving objects:  81% (425/524), 72.24 MiB | 48.18 MiB/s\r",
      "Receiving objects:  82% (430/524), 72.24 MiB | 48.18 MiB/s\r",
      "Receiving objects:  83% (435/524), 72.24 MiB | 48.18 MiB/s\r",
      "Receiving objects:  84% (441/524), 72.24 MiB | 48.18 MiB/s\r",
      "Receiving objects:  85% (446/524), 72.24 MiB | 48.18 MiB/s\r",
      "Receiving objects:  86% (451/524), 72.24 MiB | 48.18 MiB/s\r",
      "Receiving objects:  87% (456/524), 72.24 MiB | 48.18 MiB/s\r",
      "Receiving objects:  88% (462/524), 72.24 MiB | 48.18 MiB/s\r",
      "Receiving objects:  89% (467/524), 72.24 MiB | 48.18 MiB/s\r",
      "Receiving objects:  90% (472/524), 72.24 MiB | 48.18 MiB/s\r",
      "Receiving objects:  91% (477/524), 72.24 MiB | 48.18 MiB/s\r",
      "Receiving objects:  92% (483/524), 72.24 MiB | 48.18 MiB/s\r",
      "Receiving objects:  93% (488/524), 72.24 MiB | 48.18 MiB/s\r",
      "Receiving objects:  94% (493/524), 72.24 MiB | 48.18 MiB/s\r",
      "Receiving objects:  95% (498/524), 72.24 MiB | 48.18 MiB/s\r",
      "Receiving objects:  96% (504/524), 72.24 MiB | 48.18 MiB/s\r",
      "Receiving objects:  97% (509/524), 72.24 MiB | 48.18 MiB/s\r"
     ]
    },
    {
     "name": "stdout",
     "output_type": "stream",
     "text": [
      "remote: Total 524 (delta 24), reused 88 (delta 23), pack-reused 408 (from 1)\u001b[K\r\n",
      "Receiving objects:  98% (514/524), 72.24 MiB | 48.18 MiB/s\r",
      "Receiving objects:  99% (519/524), 72.24 MiB | 48.18 MiB/s\r",
      "Receiving objects: 100% (524/524), 72.24 MiB | 48.18 MiB/s\r",
      "Receiving objects: 100% (524/524), 76.95 MiB | 47.38 MiB/s, done.\r\n",
      "Resolving deltas:   0% (0/25)\r",
      "Resolving deltas:   4% (1/25)\r",
      "Resolving deltas:   8% (2/25)\r",
      "Resolving deltas:  12% (3/25)\r",
      "Resolving deltas:  16% (4/25)\r",
      "Resolving deltas:  20% (5/25)\r",
      "Resolving deltas:  24% (6/25)\r",
      "Resolving deltas:  28% (7/25)\r",
      "Resolving deltas:  32% (8/25)\r",
      "Resolving deltas:  36% (9/25)\r",
      "Resolving deltas:  40% (10/25)\r",
      "Resolving deltas:  44% (11/25)\r",
      "Resolving deltas:  48% (12/25)\r",
      "Resolving deltas:  52% (13/25)\r",
      "Resolving deltas:  56% (14/25)\r",
      "Resolving deltas:  60% (15/25)\r",
      "Resolving deltas:  64% (16/25)\r",
      "Resolving deltas:  68% (17/25)\r",
      "Resolving deltas:  72% (18/25)\r",
      "Resolving deltas:  76% (19/25)\r",
      "Resolving deltas:  80% (20/25)\r",
      "Resolving deltas:  84% (21/25)\r",
      "Resolving deltas:  88% (22/25)\r",
      "Resolving deltas:  92% (23/25)\r",
      "Resolving deltas:  96% (24/25)\r",
      "Resolving deltas: 100% (25/25)\r",
      "Resolving deltas: 100% (25/25), done.\r\n"
     ]
    }
   ],
   "source": [
    "!git clone https://github.com/nkt780426/Bachelor-s-Project.git"
   ]
  },
  {
   "cell_type": "code",
   "execution_count": 2,
   "id": "6a86e16e",
   "metadata": {
    "execution": {
     "iopub.execute_input": "2024-12-19T17:16:17.280897Z",
     "iopub.status.busy": "2024-12-19T17:16:17.280614Z",
     "iopub.status.idle": "2024-12-19T17:16:17.398320Z",
     "shell.execute_reply": "2024-12-19T17:16:17.397239Z"
    },
    "papermill": {
     "duration": 0.123167,
     "end_time": "2024-12-19T17:16:17.399658",
     "exception": false,
     "start_time": "2024-12-19T17:16:17.276491",
     "status": "completed"
    },
    "tags": []
   },
   "outputs": [],
   "source": [
    "!mv Bachelor-s-Project/going_modular ."
   ]
  },
  {
   "cell_type": "code",
   "execution_count": 3,
   "id": "30fdc591",
   "metadata": {
    "execution": {
     "iopub.execute_input": "2024-12-19T17:16:17.407440Z",
     "iopub.status.busy": "2024-12-19T17:16:17.407186Z",
     "iopub.status.idle": "2024-12-19T17:16:17.524502Z",
     "shell.execute_reply": "2024-12-19T17:16:17.523612Z"
    },
    "papermill": {
     "duration": 0.122985,
     "end_time": "2024-12-19T17:16:17.526164",
     "exception": false,
     "start_time": "2024-12-19T17:16:17.403179",
     "status": "completed"
    },
    "tags": []
   },
   "outputs": [
    {
     "name": "stdout",
     "output_type": "stream",
     "text": [
      "total 52\r\n",
      "drwxr-xr-x 4 root root  4096 Dec 19 17:16 .\r\n",
      "drwxr-xr-x 6 root root  4096 Dec 19 17:16 ..\r\n",
      "drwxr-xr-x 5 root root  4096 Dec 19 17:16 Bachelor-s-Project\r\n",
      "drwxr-xr-x 7 root root  4096 Dec 19 17:16 going_modular\r\n",
      "---------- 1 root root 33488 Dec 19 17:16 __notebook__.ipynb\r\n"
     ]
    }
   ],
   "source": [
    "!ls -la"
   ]
  },
  {
   "cell_type": "code",
   "execution_count": 4,
   "id": "b19c396c",
   "metadata": {
    "execution": {
     "iopub.execute_input": "2024-12-19T17:16:17.535225Z",
     "iopub.status.busy": "2024-12-19T17:16:17.534906Z",
     "iopub.status.idle": "2024-12-19T17:16:17.538462Z",
     "shell.execute_reply": "2024-12-19T17:16:17.537668Z"
    },
    "papermill": {
     "duration": 0.009701,
     "end_time": "2024-12-19T17:16:17.539795",
     "exception": false,
     "start_time": "2024-12-19T17:16:17.530094",
     "status": "completed"
    },
    "tags": []
   },
   "outputs": [],
   "source": [
    "# !rm -rf checkpoint/"
   ]
  },
  {
   "cell_type": "code",
   "execution_count": 5,
   "id": "94b8b3a3",
   "metadata": {
    "execution": {
     "iopub.execute_input": "2024-12-19T17:16:17.548248Z",
     "iopub.status.busy": "2024-12-19T17:16:17.548036Z",
     "iopub.status.idle": "2024-12-19T17:16:17.550884Z",
     "shell.execute_reply": "2024-12-19T17:16:17.550232Z"
    },
    "papermill": {
     "duration": 0.00828,
     "end_time": "2024-12-19T17:16:17.552054",
     "exception": false,
     "start_time": "2024-12-19T17:16:17.543774",
     "status": "completed"
    },
    "tags": []
   },
   "outputs": [],
   "source": [
    "# !rm -rf going_modular"
   ]
  },
  {
   "cell_type": "code",
   "execution_count": 6,
   "id": "cc79a060",
   "metadata": {
    "execution": {
     "iopub.execute_input": "2024-12-19T17:16:17.559938Z",
     "iopub.status.busy": "2024-12-19T17:16:17.559705Z",
     "iopub.status.idle": "2024-12-19T17:16:33.920646Z",
     "shell.execute_reply": "2024-12-19T17:16:33.919892Z"
    },
    "papermill": {
     "duration": 16.366631,
     "end_time": "2024-12-19T17:16:33.922200",
     "exception": false,
     "start_time": "2024-12-19T17:16:17.555569",
     "status": "completed"
    },
    "tags": []
   },
   "outputs": [
    {
     "name": "stdout",
     "output_type": "stream",
     "text": [
      "cuda\n"
     ]
    }
   ],
   "source": [
    "import warnings\n",
    "warnings.filterwarnings(\"ignore\")\n",
    "\n",
    "import torch\n",
    "from torchvision import transforms\n",
    "from torch.utils.data import DataLoader\n",
    "from torch.optim import Adam\n",
    "from torch.optim.lr_scheduler import CosineAnnealingWarmRestarts\n",
    "import albumentations as A\n",
    "\n",
    "\n",
    "from going_modular.model.TripletFaceRecognition import EmbeddingNet, TripletNet\n",
    "from going_modular.dataloader.triplet import TripletDataset\n",
    "from going_modular.loss.TripletLoss import TripletLoss\n",
    "from going_modular.train_eval.triplet.train import fit\n",
    "from going_modular.dataloader.triplet import CustomExrDataset\n",
    "from going_modular.utils.MultiMetricEarlyStopping import MultiMetricEarlyStopping\n",
    "from going_modular.utils.ModelCheckPoint import ModelCheckpoint\n",
    "from going_modular.utils.transforms import RandomResizedCropRect, GaussianNoise\n",
    "\n",
    "import os\n",
    "\n",
    "device = \"cuda\" if torch.cuda.is_available() else \"cpu\"\n",
    "print(device)\n",
    "os.environ[\"PYTORCH_CUDA_ALLOC_CONF\"] = \"expandable_segments:True\"\n",
    "\n",
    "# Đặt seed toàn cục\n",
    "seed = 42\n",
    "torch.manual_seed(seed)\n",
    "\n",
    "CONFIGURATION = {\n",
    "    # Thư mục\n",
    "    'type': 'albedo',\n",
    "    'train_dir': '/kaggle/input/hoangvn-3dfacerecognition/Albedo/train',\n",
    "    'test_dir': '/kaggle/input/hoangvn-3dfacerecognition/Albedo/test',\n",
    "    \n",
    "    # Cấu hình train\n",
    "    'epochs': 500,\n",
    "    'num_workers': 4,\n",
    "    'batch_size': 16,\n",
    "    'image_size': 256,\n",
    "    'embedding_size': 512,\n",
    "    \n",
    "    'start_lr': 1e-4,\n",
    "    'weight_decay': 5e-4,\n",
    "    'momentum': 0.9,\n",
    "    'alpha': 0.9,\n",
    "    \n",
    "    # triplet\n",
    "    'margin': 1.,\n",
    "}\n",
    "\n",
    "train_transform = A.Compose([\n",
    "    RandomResizedCropRect(256),\n",
    "    GaussianNoise(),\n",
    "])\n",
    "\n",
    "test_transform = A.Compose([\n",
    "    A.Resize(height=CONFIGURATION['image_size'], width=CONFIGURATION['image_size'])\n",
    "])\n",
    "\n",
    "triplet_train_dataset = TripletDataset(data_dir=CONFIGURATION['train_dir'], transform=train_transform, train=True)\n",
    "triplet_test_dataset = TripletDataset(data_dir=CONFIGURATION['train_dir'], transform=test_transform, train=False)\n",
    "\n",
    "triplet_train_loader = DataLoader(\n",
    "    triplet_train_dataset, \n",
    "    batch_size=CONFIGURATION['batch_size'], \n",
    "    shuffle=True,\n",
    "    num_workers=4,\n",
    "    pin_memory=True\n",
    ")\n",
    "\n",
    "triplet_test_loader = DataLoader(\n",
    "    triplet_test_dataset, \n",
    "    batch_size=CONFIGURATION['batch_size'], \n",
    "    shuffle=False,\n",
    "    num_workers=4,\n",
    "    pin_memory=True\n",
    ")\n",
    "\n",
    "roc_train_dataset = CustomExrDataset(CONFIGURATION['train_dir'], transform=train_transform, type=CONFIGURATION['type'])\n",
    "roc_train_loader = DataLoader(\n",
    "    roc_train_dataset,\n",
    "    num_workers=4,\n",
    "    batch_size=CONFIGURATION['batch_size'],\n",
    ")\n",
    "\n",
    "roc_test_dataset = CustomExrDataset(CONFIGURATION['test_dir'], transform=test_transform, type=CONFIGURATION['type'])\n",
    "roc_test_loader = DataLoader(\n",
    "    roc_test_dataset,\n",
    "    num_workers=4,\n",
    "    batch_size=CONFIGURATION['batch_size'],\n",
    ")\n",
    "\n",
    "embedding_net = EmbeddingNet(len_embedding=CONFIGURATION['embedding_size']).to(device)\n",
    "model = TripletNet(embedding_net).to(device)\n",
    "criterion = TripletLoss(CONFIGURATION['margin'])\n",
    "optimizer = Adam(model.parameters(), lr=CONFIGURATION['start_lr'])\n",
    "scheduler = CosineAnnealingWarmRestarts(optimizer, T_0=50, T_mult=1, eta_min=1e-6)\n",
    "\n",
    "earlystop_dir = os.path.abspath('checkpoint/triplet/' + CONFIGURATION['type'] + '/models')\n",
    "early_min_stopping = MultiMetricEarlyStopping(\n",
    "    monitor_keys=['test_loss'],\n",
    "    patience=50,\n",
    "    mode='min',\n",
    "    verbose=0,\n",
    "    save_dir=earlystop_dir,\n",
    "    start_from_epoch=10\n",
    ")      \n",
    "\n",
    "early_max_stopping = MultiMetricEarlyStopping(\n",
    "    monitor_keys=['cosine_auc', 'cosine_acc', 'euclidean_auc', 'euclidean_acc'],\n",
    "    patience=50,\n",
    "    mode='max',\n",
    "    verbose=1,\n",
    "    save_dir=earlystop_dir,\n",
    "    start_from_epoch=20\n",
    ")      \n",
    "\n",
    "checkpoint_path = os.path.abspath('checkpoint/triplet/' + CONFIGURATION['type'] + '/models/checkpoint.pth')\n",
    "modle_checkpoint = ModelCheckpoint(filepath=checkpoint_path, verbose=1)"
   ]
  },
  {
   "cell_type": "code",
   "execution_count": 7,
   "id": "1315040b",
   "metadata": {
    "execution": {
     "iopub.execute_input": "2024-12-19T17:16:33.930721Z",
     "iopub.status.busy": "2024-12-19T17:16:33.930272Z",
     "iopub.status.idle": "2024-12-19T22:57:38.422023Z",
     "shell.execute_reply": "2024-12-19T22:57:38.420637Z"
    },
    "papermill": {
     "duration": 20464.497539,
     "end_time": "2024-12-19T22:57:38.423659",
     "exception": true,
     "start_time": "2024-12-19T17:16:33.926120",
     "status": "failed"
    },
    "tags": []
   },
   "outputs": [
    {
     "name": "stdout",
     "output_type": "stream",
     "text": [
      "Epoch 1:\n",
      "\ttrain: loss: 27.0767 | auc_cos: 0.6937 | acc_cos: 0.6546 | auc_eu: 0.6908 | acc_eu: 0.5298\n",
      "\ttest: loss: 6.7599 | auc_cos: 0.7599 | acc_cos: 0.6951 | auc_eu: 0.7537 | acc_eu: 0.6523\n"
     ]
    },
    {
     "name": "stdout",
     "output_type": "stream",
     "text": [
      "\tSaving model and optimizer state to /kaggle/working/checkpoint/triplet/albedo/models/checkpoint.pth\n"
     ]
    },
    {
     "name": "stdout",
     "output_type": "stream",
     "text": [
      "Epoch 2:\n",
      "\ttrain: loss: 14.0179 | auc_cos: 0.7028 | acc_cos: 0.6120 | auc_eu: 0.6984 | acc_eu: 0.6438\n",
      "\ttest: loss: 5.0756 | auc_cos: 0.7738 | acc_cos: 0.7580 | auc_eu: 0.7699 | acc_eu: 0.6977\n"
     ]
    },
    {
     "name": "stdout",
     "output_type": "stream",
     "text": [
      "\tSaving model and optimizer state to /kaggle/working/checkpoint/triplet/albedo/models/checkpoint.pth\n"
     ]
    },
    {
     "name": "stdout",
     "output_type": "stream",
     "text": [
      "Epoch 3:\n",
      "\ttrain: loss: 12.3176 | auc_cos: 0.7126 | acc_cos: 0.6300 | auc_eu: 0.7072 | acc_eu: 0.5932\n",
      "\ttest: loss: 4.7992 | auc_cos: 0.7776 | acc_cos: 0.7246 | auc_eu: 0.7716 | acc_eu: 0.7210\n"
     ]
    },
    {
     "name": "stdout",
     "output_type": "stream",
     "text": [
      "\tSaving model and optimizer state to /kaggle/working/checkpoint/triplet/albedo/models/checkpoint.pth\n"
     ]
    },
    {
     "name": "stdout",
     "output_type": "stream",
     "text": [
      "Epoch 4:\n",
      "\ttrain: loss: 9.7019 | auc_cos: 0.7006 | acc_cos: 0.6488 | auc_eu: 0.6984 | acc_eu: 0.6271\n",
      "\ttest: loss: 3.6307 | auc_cos: 0.7690 | acc_cos: 0.7730 | auc_eu: 0.7634 | acc_eu: 0.7117\n"
     ]
    },
    {
     "name": "stdout",
     "output_type": "stream",
     "text": [
      "\tSaving model and optimizer state to /kaggle/working/checkpoint/triplet/albedo/models/checkpoint.pth\n"
     ]
    },
    {
     "name": "stdout",
     "output_type": "stream",
     "text": [
      "Epoch 5:\n",
      "\ttrain: loss: 9.2567 | auc_cos: 0.7118 | acc_cos: 0.6591 | auc_eu: 0.7121 | acc_eu: 0.6023\n",
      "\ttest: loss: 2.7637 | auc_cos: 0.7829 | acc_cos: 0.7461 | auc_eu: 0.7774 | acc_eu: 0.7393\n"
     ]
    },
    {
     "name": "stdout",
     "output_type": "stream",
     "text": [
      "\tSaving model and optimizer state to /kaggle/working/checkpoint/triplet/albedo/models/checkpoint.pth\n"
     ]
    },
    {
     "name": "stdout",
     "output_type": "stream",
     "text": [
      "Epoch 6:\n",
      "\ttrain: loss: 6.3625 | auc_cos: 0.7182 | acc_cos: 0.7197 | auc_eu: 0.7194 | acc_eu: 0.6700\n",
      "\ttest: loss: 2.5463 | auc_cos: 0.7924 | acc_cos: 0.7983 | auc_eu: 0.7884 | acc_eu: 0.7821\n"
     ]
    },
    {
     "name": "stdout",
     "output_type": "stream",
     "text": [
      "\tSaving model and optimizer state to /kaggle/working/checkpoint/triplet/albedo/models/checkpoint.pth\n"
     ]
    },
    {
     "name": "stdout",
     "output_type": "stream",
     "text": [
      "Epoch 7:\n",
      "\ttrain: loss: 5.2084 | auc_cos: 0.7156 | acc_cos: 0.6102 | auc_eu: 0.7132 | acc_eu: 0.5754\n",
      "\ttest: loss: 2.1125 | auc_cos: 0.7812 | acc_cos: 0.8117 | auc_eu: 0.7753 | acc_eu: 0.7849\n"
     ]
    },
    {
     "name": "stdout",
     "output_type": "stream",
     "text": [
      "\tSaving model and optimizer state to /kaggle/working/checkpoint/triplet/albedo/models/checkpoint.pth\n"
     ]
    },
    {
     "name": "stdout",
     "output_type": "stream",
     "text": [
      "Epoch 8:\n",
      "\ttrain: loss: 4.2758 | auc_cos: 0.7210 | acc_cos: 0.6926 | auc_eu: 0.7195 | acc_eu: 0.7074\n",
      "\ttest: loss: 1.5564 | auc_cos: 0.7906 | acc_cos: 0.6311 | auc_eu: 0.7837 | acc_eu: 0.7288\n"
     ]
    },
    {
     "name": "stdout",
     "output_type": "stream",
     "text": [
      "\tSaving model and optimizer state to /kaggle/working/checkpoint/triplet/albedo/models/checkpoint.pth\n"
     ]
    },
    {
     "name": "stdout",
     "output_type": "stream",
     "text": [
      "Epoch 9:\n",
      "\ttrain: loss: 3.8437 | auc_cos: 0.7279 | acc_cos: 0.6473 | auc_eu: 0.7288 | acc_eu: 0.7041\n",
      "\ttest: loss: 1.2525 | auc_cos: 0.7846 | acc_cos: 0.5859 | auc_eu: 0.7809 | acc_eu: 0.5900\n"
     ]
    },
    {
     "name": "stdout",
     "output_type": "stream",
     "text": [
      "\tSaving model and optimizer state to /kaggle/working/checkpoint/triplet/albedo/models/checkpoint.pth\n"
     ]
    },
    {
     "name": "stdout",
     "output_type": "stream",
     "text": [
      "Epoch 10:\n",
      "\ttrain: loss: 3.4774 | auc_cos: 0.7266 | acc_cos: 0.6574 | auc_eu: 0.7252 | acc_eu: 0.6227\n",
      "\ttest: loss: 1.1077 | auc_cos: 0.7787 | acc_cos: 0.7218 | auc_eu: 0.7763 | acc_eu: 0.7394\n"
     ]
    },
    {
     "name": "stdout",
     "output_type": "stream",
     "text": [
      "\tSaving model and optimizer state to /kaggle/working/checkpoint/triplet/albedo/models/checkpoint.pth\n"
     ]
    },
    {
     "name": "stdout",
     "output_type": "stream",
     "text": [
      "Epoch 11:\n",
      "\ttrain: loss: 2.4465 | auc_cos: 0.7334 | acc_cos: 0.6214 | auc_eu: 0.7302 | acc_eu: 0.6436\n",
      "\ttest: loss: 1.0458 | auc_cos: 0.7916 | acc_cos: 0.6020 | auc_eu: 0.7852 | acc_eu: 0.7942\n"
     ]
    },
    {
     "name": "stdout",
     "output_type": "stream",
     "text": [
      "\tSaving model and optimizer state to /kaggle/working/checkpoint/triplet/albedo/models/checkpoint.pth\n"
     ]
    },
    {
     "name": "stdout",
     "output_type": "stream",
     "text": [
      "Epoch 12:\n",
      "\ttrain: loss: 2.2988 | auc_cos: 0.7305 | acc_cos: 0.7132 | auc_eu: 0.7267 | acc_eu: 0.6239\n",
      "\ttest: loss: 0.7798 | auc_cos: 0.7796 | acc_cos: 0.7686 | auc_eu: 0.7727 | acc_eu: 0.7064\n"
     ]
    },
    {
     "name": "stdout",
     "output_type": "stream",
     "text": [
      "\tSaving model and optimizer state to /kaggle/working/checkpoint/triplet/albedo/models/checkpoint.pth\n"
     ]
    },
    {
     "name": "stdout",
     "output_type": "stream",
     "text": [
      "Epoch 13:\n",
      "\ttrain: loss: 2.2240 | auc_cos: 0.7364 | acc_cos: 0.6082 | auc_eu: 0.7316 | acc_eu: 0.6430\n",
      "\ttest: loss: 0.7647 | auc_cos: 0.7918 | acc_cos: 0.7059 | auc_eu: 0.7794 | acc_eu: 0.7205\n"
     ]
    },
    {
     "name": "stdout",
     "output_type": "stream",
     "text": [
      "\tSaving model and optimizer state to /kaggle/working/checkpoint/triplet/albedo/models/checkpoint.pth\n"
     ]
    },
    {
     "name": "stdout",
     "output_type": "stream",
     "text": [
      "Epoch 14:\n",
      "\ttrain: loss: 1.7134 | auc_cos: 0.7349 | acc_cos: 0.6474 | auc_eu: 0.7285 | acc_eu: 0.6322\n",
      "\ttest: loss: 0.8323 | auc_cos: 0.7882 | acc_cos: 0.6395 | auc_eu: 0.7727 | acc_eu: 0.6668\n"
     ]
    },
    {
     "name": "stdout",
     "output_type": "stream",
     "text": [
      "\tSaving model and optimizer state to /kaggle/working/checkpoint/triplet/albedo/models/checkpoint.pth\n"
     ]
    },
    {
     "name": "stdout",
     "output_type": "stream",
     "text": [
      "Epoch 15:\n",
      "\ttrain: loss: 1.7279 | auc_cos: 0.7455 | acc_cos: 0.7385 | auc_eu: 0.7417 | acc_eu: 0.6900\n",
      "\ttest: loss: 0.6721 | auc_cos: 0.7905 | acc_cos: 0.5687 | auc_eu: 0.7834 | acc_eu: 0.6198\n"
     ]
    },
    {
     "name": "stdout",
     "output_type": "stream",
     "text": [
      "\tSaving model and optimizer state to /kaggle/working/checkpoint/triplet/albedo/models/checkpoint.pth\n"
     ]
    },
    {
     "name": "stdout",
     "output_type": "stream",
     "text": [
      "Epoch 16:\n",
      "\ttrain: loss: 1.6176 | auc_cos: 0.7547 | acc_cos: 0.6101 | auc_eu: 0.7497 | acc_eu: 0.6470\n",
      "\ttest: loss: 0.6319 | auc_cos: 0.7943 | acc_cos: 0.6440 | auc_eu: 0.7819 | acc_eu: 0.6360\n"
     ]
    },
    {
     "name": "stdout",
     "output_type": "stream",
     "text": [
      "\tSaving model and optimizer state to /kaggle/working/checkpoint/triplet/albedo/models/checkpoint.pth\n"
     ]
    },
    {
     "name": "stdout",
     "output_type": "stream",
     "text": [
      "Epoch 17:\n",
      "\ttrain: loss: 1.5028 | auc_cos: 0.7397 | acc_cos: 0.7080 | auc_eu: 0.7320 | acc_eu: 0.6952\n",
      "\ttest: loss: 0.6795 | auc_cos: 0.7801 | acc_cos: 0.6583 | auc_eu: 0.7694 | acc_eu: 0.6644\n"
     ]
    },
    {
     "name": "stdout",
     "output_type": "stream",
     "text": [
      "\tSaving model and optimizer state to /kaggle/working/checkpoint/triplet/albedo/models/checkpoint.pth\n"
     ]
    },
    {
     "name": "stdout",
     "output_type": "stream",
     "text": [
      "Epoch 18:\n",
      "\ttrain: loss: 1.4596 | auc_cos: 0.7560 | acc_cos: 0.6377 | auc_eu: 0.7508 | acc_eu: 0.6447\n",
      "\ttest: loss: 0.5775 | auc_cos: 0.7936 | acc_cos: 0.6872 | auc_eu: 0.7827 | acc_eu: 0.6601\n"
     ]
    },
    {
     "name": "stdout",
     "output_type": "stream",
     "text": [
      "\tSaving model and optimizer state to /kaggle/working/checkpoint/triplet/albedo/models/checkpoint.pth\n"
     ]
    },
    {
     "name": "stdout",
     "output_type": "stream",
     "text": [
      "Epoch 19:\n",
      "\ttrain: loss: 1.4187 | auc_cos: 0.7579 | acc_cos: 0.6897 | auc_eu: 0.7522 | acc_eu: 0.6205\n",
      "\ttest: loss: 0.5528 | auc_cos: 0.7928 | acc_cos: 0.7201 | auc_eu: 0.7883 | acc_eu: 0.7438\n"
     ]
    },
    {
     "name": "stdout",
     "output_type": "stream",
     "text": [
      "\tSaving model and optimizer state to /kaggle/working/checkpoint/triplet/albedo/models/checkpoint.pth\n"
     ]
    },
    {
     "name": "stdout",
     "output_type": "stream",
     "text": [
      "Epoch 20:\n",
      "\ttrain: loss: 1.2511 | auc_cos: 0.7654 | acc_cos: 0.7069 | auc_eu: 0.7605 | acc_eu: 0.6213\n",
      "\ttest: loss: 0.5139 | auc_cos: 0.7899 | acc_cos: 0.6632 | auc_eu: 0.7821 | acc_eu: 0.7697\n"
     ]
    },
    {
     "name": "stdout",
     "output_type": "stream",
     "text": [
      "\tSaving model and optimizer state to /kaggle/working/checkpoint/triplet/albedo/models/checkpoint.pth\n"
     ]
    },
    {
     "name": "stdout",
     "output_type": "stream",
     "text": [
      "\tSaved best model weights for 'cosine_auc' at epoch 20 to '/kaggle/working/checkpoint/triplet/albedo/models/best_cosine_auc_20.pth'\n",
      "\tSaved best model weights for 'cosine_acc' at epoch 20 to '/kaggle/working/checkpoint/triplet/albedo/models/best_cosine_acc_20.pth'\n"
     ]
    },
    {
     "name": "stdout",
     "output_type": "stream",
     "text": [
      "\tSaved best model weights for 'euclidean_auc' at epoch 20 to '/kaggle/working/checkpoint/triplet/albedo/models/best_euclidean_auc_20.pth'\n",
      "\tSaved best model weights for 'euclidean_acc' at epoch 20 to '/kaggle/working/checkpoint/triplet/albedo/models/best_euclidean_acc_20.pth'\n"
     ]
    },
    {
     "name": "stdout",
     "output_type": "stream",
     "text": [
      "Epoch 21:\n",
      "\ttrain: loss: 1.0451 | auc_cos: 0.7688 | acc_cos: 0.6844 | auc_eu: 0.7656 | acc_eu: 0.6813\n",
      "\ttest: loss: 0.5250 | auc_cos: 0.7926 | acc_cos: 0.8007 | auc_eu: 0.7854 | acc_eu: 0.8131\n"
     ]
    },
    {
     "name": "stdout",
     "output_type": "stream",
     "text": [
      "\tSaving model and optimizer state to /kaggle/working/checkpoint/triplet/albedo/models/checkpoint.pth\n",
      "\tSaved best model weights for 'cosine_auc' at epoch 21 to '/kaggle/working/checkpoint/triplet/albedo/models/best_cosine_auc_21.pth'\n"
     ]
    },
    {
     "name": "stdout",
     "output_type": "stream",
     "text": [
      "\tSaved best model weights for 'cosine_acc' at epoch 21 to '/kaggle/working/checkpoint/triplet/albedo/models/best_cosine_acc_21.pth'\n",
      "\tSaved best model weights for 'euclidean_auc' at epoch 21 to '/kaggle/working/checkpoint/triplet/albedo/models/best_euclidean_auc_21.pth'\n"
     ]
    },
    {
     "name": "stdout",
     "output_type": "stream",
     "text": [
      "\tSaved best model weights for 'euclidean_acc' at epoch 21 to '/kaggle/working/checkpoint/triplet/albedo/models/best_euclidean_acc_21.pth'\n"
     ]
    },
    {
     "name": "stdout",
     "output_type": "stream",
     "text": [
      "Epoch 22:\n",
      "\ttrain: loss: 1.0420 | auc_cos: 0.7823 | acc_cos: 0.6315 | auc_eu: 0.7749 | acc_eu: 0.6313\n",
      "\ttest: loss: 0.4689 | auc_cos: 0.8046 | acc_cos: 0.6740 | auc_eu: 0.7940 | acc_eu: 0.7301\n"
     ]
    },
    {
     "name": "stdout",
     "output_type": "stream",
     "text": [
      "\tSaving model and optimizer state to /kaggle/working/checkpoint/triplet/albedo/models/checkpoint.pth\n"
     ]
    },
    {
     "name": "stdout",
     "output_type": "stream",
     "text": [
      "\tSaved best model weights for 'cosine_auc' at epoch 22 to '/kaggle/working/checkpoint/triplet/albedo/models/best_cosine_auc_22.pth'\n",
      "\tEpoch 22: EarlyStopping counter for 'cosine_acc': 1/50\n",
      "\tEpoch 22: EarlyStopping counter for 'euclidean_auc': 1/50\n",
      "\tSaved best model weights for 'euclidean_acc' at epoch 22 to '/kaggle/working/checkpoint/triplet/albedo/models/best_euclidean_acc_22.pth'\n"
     ]
    },
    {
     "name": "stdout",
     "output_type": "stream",
     "text": [
      "Epoch 23:\n",
      "\ttrain: loss: 0.9062 | auc_cos: 0.7775 | acc_cos: 0.6605 | auc_eu: 0.7698 | acc_eu: 0.6186\n",
      "\ttest: loss: 0.5171 | auc_cos: 0.8092 | acc_cos: 0.7876 | auc_eu: 0.8005 | acc_eu: 0.8129\n"
     ]
    },
    {
     "name": "stdout",
     "output_type": "stream",
     "text": [
      "\tSaving model and optimizer state to /kaggle/working/checkpoint/triplet/albedo/models/checkpoint.pth\n",
      "\tSaved best model weights for 'cosine_auc' at epoch 23 to '/kaggle/working/checkpoint/triplet/albedo/models/best_cosine_auc_23.pth'\n",
      "\tEpoch 23: EarlyStopping counter for 'cosine_acc': 2/50\n",
      "\tEpoch 23: EarlyStopping counter for 'euclidean_auc': 2/50\n"
     ]
    },
    {
     "name": "stdout",
     "output_type": "stream",
     "text": [
      "\tSaved best model weights for 'euclidean_acc' at epoch 23 to '/kaggle/working/checkpoint/triplet/albedo/models/best_euclidean_acc_23.pth'\n"
     ]
    },
    {
     "name": "stdout",
     "output_type": "stream",
     "text": [
      "Epoch 24:\n",
      "\ttrain: loss: 1.0461 | auc_cos: 0.7742 | acc_cos: 0.6756 | auc_eu: 0.7691 | acc_eu: 0.6069\n",
      "\ttest: loss: 0.4727 | auc_cos: 0.8048 | acc_cos: 0.6860 | auc_eu: 0.7991 | acc_eu: 0.7506\n"
     ]
    },
    {
     "name": "stdout",
     "output_type": "stream",
     "text": [
      "\tSaving model and optimizer state to /kaggle/working/checkpoint/triplet/albedo/models/checkpoint.pth\n",
      "\tEpoch 24: EarlyStopping counter for 'cosine_auc': 1/50\n",
      "\tEpoch 24: EarlyStopping counter for 'cosine_acc': 3/50\n",
      "\tEpoch 24: EarlyStopping counter for 'euclidean_auc': 3/50\n",
      "\tEpoch 24: EarlyStopping counter for 'euclidean_acc': 1/50\n"
     ]
    },
    {
     "name": "stdout",
     "output_type": "stream",
     "text": [
      "Epoch 25:\n",
      "\ttrain: loss: 0.8315 | auc_cos: 0.7729 | acc_cos: 0.6858 | auc_eu: 0.7692 | acc_eu: 0.6862\n",
      "\ttest: loss: 0.4643 | auc_cos: 0.8074 | acc_cos: 0.7656 | auc_eu: 0.8003 | acc_eu: 0.7669\n"
     ]
    },
    {
     "name": "stdout",
     "output_type": "stream",
     "text": [
      "\tSaving model and optimizer state to /kaggle/working/checkpoint/triplet/albedo/models/checkpoint.pth\n",
      "\tEpoch 25: EarlyStopping counter for 'cosine_auc': 2/50\n",
      "\tEpoch 25: EarlyStopping counter for 'cosine_acc': 4/50\n",
      "\tEpoch 25: EarlyStopping counter for 'euclidean_auc': 4/50\n",
      "\tEpoch 25: EarlyStopping counter for 'euclidean_acc': 2/50\n"
     ]
    },
    {
     "name": "stdout",
     "output_type": "stream",
     "text": [
      "Epoch 26:\n",
      "\ttrain: loss: 1.0501 | auc_cos: 0.7771 | acc_cos: 0.6979 | auc_eu: 0.7721 | acc_eu: 0.6562\n",
      "\ttest: loss: 0.4657 | auc_cos: 0.8229 | acc_cos: 0.6202 | auc_eu: 0.8113 | acc_eu: 0.6507\n"
     ]
    },
    {
     "name": "stdout",
     "output_type": "stream",
     "text": [
      "\tSaving model and optimizer state to /kaggle/working/checkpoint/triplet/albedo/models/checkpoint.pth\n",
      "\tSaved best model weights for 'cosine_auc' at epoch 26 to '/kaggle/working/checkpoint/triplet/albedo/models/best_cosine_auc_26.pth'\n",
      "\tEpoch 26: EarlyStopping counter for 'cosine_acc': 5/50\n",
      "\tEpoch 26: EarlyStopping counter for 'euclidean_auc': 5/50\n"
     ]
    },
    {
     "name": "stdout",
     "output_type": "stream",
     "text": [
      "\tSaved best model weights for 'euclidean_acc' at epoch 26 to '/kaggle/working/checkpoint/triplet/albedo/models/best_euclidean_acc_26.pth'\n"
     ]
    },
    {
     "name": "stdout",
     "output_type": "stream",
     "text": [
      "Epoch 27:\n",
      "\ttrain: loss: 0.8587 | auc_cos: 0.7827 | acc_cos: 0.6700 | auc_eu: 0.7807 | acc_eu: 0.6329\n",
      "\ttest: loss: 0.4366 | auc_cos: 0.8192 | acc_cos: 0.7490 | auc_eu: 0.8146 | acc_eu: 0.6432\n"
     ]
    },
    {
     "name": "stdout",
     "output_type": "stream",
     "text": [
      "\tSaving model and optimizer state to /kaggle/working/checkpoint/triplet/albedo/models/checkpoint.pth\n",
      "\tEpoch 27: EarlyStopping counter for 'cosine_auc': 1/50\n",
      "\tEpoch 27: EarlyStopping counter for 'cosine_acc': 6/50\n",
      "\tEpoch 27: EarlyStopping counter for 'euclidean_auc': 6/50\n"
     ]
    },
    {
     "name": "stdout",
     "output_type": "stream",
     "text": [
      "\tSaved best model weights for 'euclidean_acc' at epoch 27 to '/kaggle/working/checkpoint/triplet/albedo/models/best_euclidean_acc_27.pth'\n"
     ]
    },
    {
     "name": "stdout",
     "output_type": "stream",
     "text": [
      "Epoch 28:\n",
      "\ttrain: loss: 0.8845 | auc_cos: 0.7844 | acc_cos: 0.6837 | auc_eu: 0.7784 | acc_eu: 0.6699\n",
      "\ttest: loss: 0.4067 | auc_cos: 0.8174 | acc_cos: 0.6959 | auc_eu: 0.8124 | acc_eu: 0.6952\n"
     ]
    },
    {
     "name": "stdout",
     "output_type": "stream",
     "text": [
      "\tSaving model and optimizer state to /kaggle/working/checkpoint/triplet/albedo/models/checkpoint.pth\n",
      "\tEpoch 28: EarlyStopping counter for 'cosine_auc': 2/50\n",
      "\tEpoch 28: EarlyStopping counter for 'cosine_acc': 7/50\n",
      "\tEpoch 28: EarlyStopping counter for 'euclidean_auc': 7/50\n",
      "\tEpoch 28: EarlyStopping counter for 'euclidean_acc': 1/50\n"
     ]
    },
    {
     "name": "stdout",
     "output_type": "stream",
     "text": [
      "Epoch 29:\n",
      "\ttrain: loss: 0.8281 | auc_cos: 0.7933 | acc_cos: 0.6811 | auc_eu: 0.7868 | acc_eu: 0.6928\n",
      "\ttest: loss: 0.3978 | auc_cos: 0.8264 | acc_cos: 0.7418 | auc_eu: 0.8176 | acc_eu: 0.6852\n"
     ]
    },
    {
     "name": "stdout",
     "output_type": "stream",
     "text": [
      "\tSaving model and optimizer state to /kaggle/working/checkpoint/triplet/albedo/models/checkpoint.pth\n"
     ]
    },
    {
     "name": "stdout",
     "output_type": "stream",
     "text": [
      "\tSaved best model weights for 'cosine_auc' at epoch 29 to '/kaggle/working/checkpoint/triplet/albedo/models/best_cosine_auc_29.pth'\n",
      "\tEpoch 29: EarlyStopping counter for 'cosine_acc': 8/50\n",
      "\tEpoch 29: EarlyStopping counter for 'euclidean_auc': 8/50\n",
      "\tSaved best model weights for 'euclidean_acc' at epoch 29 to '/kaggle/working/checkpoint/triplet/albedo/models/best_euclidean_acc_29.pth'\n"
     ]
    },
    {
     "name": "stdout",
     "output_type": "stream",
     "text": [
      "Epoch 30:\n",
      "\ttrain: loss: 0.8349 | auc_cos: 0.7938 | acc_cos: 0.7071 | auc_eu: 0.7854 | acc_eu: 0.6565\n",
      "\ttest: loss: 0.3953 | auc_cos: 0.8281 | acc_cos: 0.7172 | auc_eu: 0.8235 | acc_eu: 0.6528\n"
     ]
    },
    {
     "name": "stdout",
     "output_type": "stream",
     "text": [
      "\tSaving model and optimizer state to /kaggle/working/checkpoint/triplet/albedo/models/checkpoint.pth\n"
     ]
    },
    {
     "name": "stdout",
     "output_type": "stream",
     "text": [
      "\tSaved best model weights for 'cosine_auc' at epoch 30 to '/kaggle/working/checkpoint/triplet/albedo/models/best_cosine_auc_30.pth'\n",
      "\tEpoch 30: EarlyStopping counter for 'cosine_acc': 9/50\n",
      "\tEpoch 30: EarlyStopping counter for 'euclidean_auc': 9/50\n",
      "\tSaved best model weights for 'euclidean_acc' at epoch 30 to '/kaggle/working/checkpoint/triplet/albedo/models/best_euclidean_acc_30.pth'\n"
     ]
    },
    {
     "name": "stdout",
     "output_type": "stream",
     "text": [
      "Epoch 31:\n",
      "\ttrain: loss: 0.7730 | auc_cos: 0.7988 | acc_cos: 0.6619 | auc_eu: 0.7941 | acc_eu: 0.5791\n",
      "\ttest: loss: 0.3802 | auc_cos: 0.8269 | acc_cos: 0.7512 | auc_eu: 0.8179 | acc_eu: 0.6215\n"
     ]
    },
    {
     "name": "stdout",
     "output_type": "stream",
     "text": [
      "\tSaving model and optimizer state to /kaggle/working/checkpoint/triplet/albedo/models/checkpoint.pth\n",
      "\tEpoch 31: EarlyStopping counter for 'cosine_auc': 1/50\n",
      "\tEpoch 31: EarlyStopping counter for 'cosine_acc': 10/50\n",
      "\tEpoch 31: EarlyStopping counter for 'euclidean_auc': 10/50\n",
      "\tEpoch 31: EarlyStopping counter for 'euclidean_acc': 1/50\n"
     ]
    },
    {
     "name": "stdout",
     "output_type": "stream",
     "text": [
      "Epoch 32:\n",
      "\ttrain: loss: 0.7155 | auc_cos: 0.7964 | acc_cos: 0.6411 | auc_eu: 0.7893 | acc_eu: 0.6979\n",
      "\ttest: loss: 0.3952 | auc_cos: 0.8342 | acc_cos: 0.7244 | auc_eu: 0.8202 | acc_eu: 0.6552\n"
     ]
    },
    {
     "name": "stdout",
     "output_type": "stream",
     "text": [
      "\tSaving model and optimizer state to /kaggle/working/checkpoint/triplet/albedo/models/checkpoint.pth\n",
      "\tSaved best model weights for 'cosine_auc' at epoch 32 to '/kaggle/working/checkpoint/triplet/albedo/models/best_cosine_auc_32.pth'\n",
      "\tEpoch 32: EarlyStopping counter for 'cosine_acc': 11/50\n",
      "\tEpoch 32: EarlyStopping counter for 'euclidean_auc': 11/50\n",
      "\tEpoch 32: EarlyStopping counter for 'euclidean_acc': 2/50\n"
     ]
    },
    {
     "name": "stdout",
     "output_type": "stream",
     "text": [
      "Epoch 33:\n",
      "\ttrain: loss: 0.6564 | auc_cos: 0.7942 | acc_cos: 0.7315 | auc_eu: 0.7915 | acc_eu: 0.6011\n",
      "\ttest: loss: 0.3954 | auc_cos: 0.8303 | acc_cos: 0.6763 | auc_eu: 0.8197 | acc_eu: 0.6760\n"
     ]
    },
    {
     "name": "stdout",
     "output_type": "stream",
     "text": [
      "\tSaving model and optimizer state to /kaggle/working/checkpoint/triplet/albedo/models/checkpoint.pth\n",
      "\tEpoch 33: EarlyStopping counter for 'cosine_auc': 1/50\n",
      "\tEpoch 33: EarlyStopping counter for 'cosine_acc': 12/50\n",
      "\tEpoch 33: EarlyStopping counter for 'euclidean_auc': 12/50\n",
      "\tEpoch 33: EarlyStopping counter for 'euclidean_acc': 3/50\n"
     ]
    },
    {
     "name": "stdout",
     "output_type": "stream",
     "text": [
      "Epoch 34:\n",
      "\ttrain: loss: 0.7305 | auc_cos: 0.8065 | acc_cos: 0.6643 | auc_eu: 0.8026 | acc_eu: 0.6683\n",
      "\ttest: loss: 0.3710 | auc_cos: 0.8350 | acc_cos: 0.6811 | auc_eu: 0.8247 | acc_eu: 0.6367\n"
     ]
    },
    {
     "name": "stdout",
     "output_type": "stream",
     "text": [
      "\tSaving model and optimizer state to /kaggle/working/checkpoint/triplet/albedo/models/checkpoint.pth\n"
     ]
    },
    {
     "name": "stdout",
     "output_type": "stream",
     "text": [
      "\tSaved best model weights for 'cosine_auc' at epoch 34 to '/kaggle/working/checkpoint/triplet/albedo/models/best_cosine_auc_34.pth'\n",
      "\tEpoch 34: EarlyStopping counter for 'cosine_acc': 13/50\n",
      "\tEpoch 34: EarlyStopping counter for 'euclidean_auc': 13/50\n",
      "\tSaved best model weights for 'euclidean_acc' at epoch 34 to '/kaggle/working/checkpoint/triplet/albedo/models/best_euclidean_acc_34.pth'\n"
     ]
    },
    {
     "name": "stdout",
     "output_type": "stream",
     "text": [
      "Epoch 35:\n",
      "\ttrain: loss: 0.7031 | auc_cos: 0.7996 | acc_cos: 0.7230 | auc_eu: 0.8014 | acc_eu: 0.6867\n",
      "\ttest: loss: 0.3703 | auc_cos: 0.8257 | acc_cos: 0.7681 | auc_eu: 0.8190 | acc_eu: 0.5970\n"
     ]
    },
    {
     "name": "stdout",
     "output_type": "stream",
     "text": [
      "\tSaving model and optimizer state to /kaggle/working/checkpoint/triplet/albedo/models/checkpoint.pth\n",
      "\tEpoch 35: EarlyStopping counter for 'cosine_auc': 1/50\n",
      "\tEpoch 35: EarlyStopping counter for 'cosine_acc': 14/50\n",
      "\tEpoch 35: EarlyStopping counter for 'euclidean_auc': 14/50\n",
      "\tEpoch 35: EarlyStopping counter for 'euclidean_acc': 1/50\n"
     ]
    },
    {
     "name": "stdout",
     "output_type": "stream",
     "text": [
      "Epoch 36:\n",
      "\ttrain: loss: 0.6524 | auc_cos: 0.7993 | acc_cos: 0.6430 | auc_eu: 0.7947 | acc_eu: 0.6677\n",
      "\ttest: loss: 0.3613 | auc_cos: 0.8368 | acc_cos: 0.7300 | auc_eu: 0.8262 | acc_eu: 0.6171\n"
     ]
    },
    {
     "name": "stdout",
     "output_type": "stream",
     "text": [
      "\tSaving model and optimizer state to /kaggle/working/checkpoint/triplet/albedo/models/checkpoint.pth\n"
     ]
    },
    {
     "name": "stdout",
     "output_type": "stream",
     "text": [
      "\tSaved best model weights for 'cosine_auc' at epoch 36 to '/kaggle/working/checkpoint/triplet/albedo/models/best_cosine_auc_36.pth'\n",
      "\tEpoch 36: EarlyStopping counter for 'cosine_acc': 15/50\n",
      "\tEpoch 36: EarlyStopping counter for 'euclidean_auc': 15/50\n",
      "\tSaved best model weights for 'euclidean_acc' at epoch 36 to '/kaggle/working/checkpoint/triplet/albedo/models/best_euclidean_acc_36.pth'\n"
     ]
    },
    {
     "name": "stdout",
     "output_type": "stream",
     "text": [
      "Epoch 37:\n",
      "\ttrain: loss: 0.6549 | auc_cos: 0.8036 | acc_cos: 0.6998 | auc_eu: 0.8014 | acc_eu: 0.6763\n",
      "\ttest: loss: 0.3583 | auc_cos: 0.8334 | acc_cos: 0.7604 | auc_eu: 0.8239 | acc_eu: 0.5983\n"
     ]
    },
    {
     "name": "stdout",
     "output_type": "stream",
     "text": [
      "\tSaving model and optimizer state to /kaggle/working/checkpoint/triplet/albedo/models/checkpoint.pth\n",
      "\tEpoch 37: EarlyStopping counter for 'cosine_auc': 1/50\n",
      "\tEpoch 37: EarlyStopping counter for 'cosine_acc': 16/50\n",
      "\tEpoch 37: EarlyStopping counter for 'euclidean_auc': 16/50\n",
      "\tEpoch 37: EarlyStopping counter for 'euclidean_acc': 1/50\n"
     ]
    },
    {
     "name": "stdout",
     "output_type": "stream",
     "text": [
      "Epoch 38:\n",
      "\ttrain: loss: 0.7413 | auc_cos: 0.8064 | acc_cos: 0.7130 | auc_eu: 0.8036 | acc_eu: 0.7305\n",
      "\ttest: loss: 0.3559 | auc_cos: 0.8307 | acc_cos: 0.6612 | auc_eu: 0.8226 | acc_eu: 0.6155\n"
     ]
    },
    {
     "name": "stdout",
     "output_type": "stream",
     "text": [
      "\tSaving model and optimizer state to /kaggle/working/checkpoint/triplet/albedo/models/checkpoint.pth\n",
      "\tEpoch 38: EarlyStopping counter for 'cosine_auc': 2/50\n",
      "\tEpoch 38: EarlyStopping counter for 'cosine_acc': 17/50\n",
      "\tEpoch 38: EarlyStopping counter for 'euclidean_auc': 17/50\n",
      "\tEpoch 38: EarlyStopping counter for 'euclidean_acc': 2/50\n"
     ]
    },
    {
     "name": "stdout",
     "output_type": "stream",
     "text": [
      "Epoch 39:\n",
      "\ttrain: loss: 0.6688 | auc_cos: 0.8090 | acc_cos: 0.6730 | auc_eu: 0.8068 | acc_eu: 0.6701\n",
      "\ttest: loss: 0.3597 | auc_cos: 0.8350 | acc_cos: 0.6635 | auc_eu: 0.8275 | acc_eu: 0.6259\n"
     ]
    },
    {
     "name": "stdout",
     "output_type": "stream",
     "text": [
      "\tSaving model and optimizer state to /kaggle/working/checkpoint/triplet/albedo/models/checkpoint.pth\n",
      "\tEpoch 39: EarlyStopping counter for 'cosine_auc': 3/50\n",
      "\tEpoch 39: EarlyStopping counter for 'cosine_acc': 18/50\n",
      "\tEpoch 39: EarlyStopping counter for 'euclidean_auc': 18/50\n"
     ]
    },
    {
     "name": "stdout",
     "output_type": "stream",
     "text": [
      "\tSaved best model weights for 'euclidean_acc' at epoch 39 to '/kaggle/working/checkpoint/triplet/albedo/models/best_euclidean_acc_39.pth'\n"
     ]
    },
    {
     "name": "stdout",
     "output_type": "stream",
     "text": [
      "Epoch 40:\n",
      "\ttrain: loss: 0.6370 | auc_cos: 0.8085 | acc_cos: 0.6488 | auc_eu: 0.8052 | acc_eu: 0.6810\n",
      "\ttest: loss: 0.3505 | auc_cos: 0.8363 | acc_cos: 0.6343 | auc_eu: 0.8293 | acc_eu: 0.6616\n"
     ]
    },
    {
     "name": "stdout",
     "output_type": "stream",
     "text": [
      "\tSaving model and optimizer state to /kaggle/working/checkpoint/triplet/albedo/models/checkpoint.pth\n",
      "\tEpoch 40: EarlyStopping counter for 'cosine_auc': 4/50\n",
      "\tEpoch 40: EarlyStopping counter for 'cosine_acc': 19/50\n",
      "\tEpoch 40: EarlyStopping counter for 'euclidean_auc': 19/50\n"
     ]
    },
    {
     "name": "stdout",
     "output_type": "stream",
     "text": [
      "\tSaved best model weights for 'euclidean_acc' at epoch 40 to '/kaggle/working/checkpoint/triplet/albedo/models/best_euclidean_acc_40.pth'\n"
     ]
    },
    {
     "name": "stdout",
     "output_type": "stream",
     "text": [
      "Epoch 41:\n",
      "\ttrain: loss: 0.6552 | auc_cos: 0.8131 | acc_cos: 0.6792 | auc_eu: 0.8104 | acc_eu: 0.6214\n",
      "\ttest: loss: 0.3528 | auc_cos: 0.8407 | acc_cos: 0.7362 | auc_eu: 0.8313 | acc_eu: 0.5890\n"
     ]
    },
    {
     "name": "stdout",
     "output_type": "stream",
     "text": [
      "\tSaving model and optimizer state to /kaggle/working/checkpoint/triplet/albedo/models/checkpoint.pth\n",
      "\tSaved best model weights for 'cosine_auc' at epoch 41 to '/kaggle/working/checkpoint/triplet/albedo/models/best_cosine_auc_41.pth'\n",
      "\tEpoch 41: EarlyStopping counter for 'cosine_acc': 20/50\n",
      "\tEpoch 41: EarlyStopping counter for 'euclidean_auc': 20/50\n"
     ]
    },
    {
     "name": "stdout",
     "output_type": "stream",
     "text": [
      "\tSaved best model weights for 'euclidean_acc' at epoch 41 to '/kaggle/working/checkpoint/triplet/albedo/models/best_euclidean_acc_41.pth'\n"
     ]
    },
    {
     "name": "stdout",
     "output_type": "stream",
     "text": [
      "Epoch 42:\n",
      "\ttrain: loss: 0.6365 | auc_cos: 0.8172 | acc_cos: 0.7557 | auc_eu: 0.8135 | acc_eu: 0.6595\n",
      "\ttest: loss: 0.3480 | auc_cos: 0.8354 | acc_cos: 0.6876 | auc_eu: 0.8292 | acc_eu: 0.6507\n"
     ]
    },
    {
     "name": "stdout",
     "output_type": "stream",
     "text": [
      "\tSaving model and optimizer state to /kaggle/working/checkpoint/triplet/albedo/models/checkpoint.pth\n",
      "\tEpoch 42: EarlyStopping counter for 'cosine_auc': 1/50\n",
      "\tEpoch 42: EarlyStopping counter for 'cosine_acc': 21/50\n",
      "\tEpoch 42: EarlyStopping counter for 'euclidean_auc': 21/50\n",
      "\tEpoch 42: EarlyStopping counter for 'euclidean_acc': 1/50\n"
     ]
    },
    {
     "name": "stdout",
     "output_type": "stream",
     "text": [
      "Epoch 43:\n",
      "\ttrain: loss: 0.6005 | auc_cos: 0.8159 | acc_cos: 0.7080 | auc_eu: 0.8131 | acc_eu: 0.6708\n",
      "\ttest: loss: 0.3447 | auc_cos: 0.8371 | acc_cos: 0.7458 | auc_eu: 0.8288 | acc_eu: 0.6841\n"
     ]
    },
    {
     "name": "stdout",
     "output_type": "stream",
     "text": [
      "\tSaving model and optimizer state to /kaggle/working/checkpoint/triplet/albedo/models/checkpoint.pth\n",
      "\tEpoch 43: EarlyStopping counter for 'cosine_auc': 2/50\n",
      "\tEpoch 43: EarlyStopping counter for 'cosine_acc': 22/50\n",
      "\tEpoch 43: EarlyStopping counter for 'euclidean_auc': 22/50\n",
      "\tEpoch 43: EarlyStopping counter for 'euclidean_acc': 2/50\n"
     ]
    },
    {
     "name": "stdout",
     "output_type": "stream",
     "text": [
      "Epoch 44:\n",
      "\ttrain: loss: 0.5820 | auc_cos: 0.8166 | acc_cos: 0.7566 | auc_eu: 0.8149 | acc_eu: 0.6675\n",
      "\ttest: loss: 0.3473 | auc_cos: 0.8401 | acc_cos: 0.7380 | auc_eu: 0.8327 | acc_eu: 0.6709\n"
     ]
    },
    {
     "name": "stdout",
     "output_type": "stream",
     "text": [
      "\tSaving model and optimizer state to /kaggle/working/checkpoint/triplet/albedo/models/checkpoint.pth\n",
      "\tEpoch 44: EarlyStopping counter for 'cosine_auc': 3/50\n",
      "\tEpoch 44: EarlyStopping counter for 'cosine_acc': 23/50\n",
      "\tEpoch 44: EarlyStopping counter for 'euclidean_auc': 23/50\n",
      "\tSaved best model weights for 'euclidean_acc' at epoch 44 to '/kaggle/working/checkpoint/triplet/albedo/models/best_euclidean_acc_44.pth'\n"
     ]
    },
    {
     "name": "stdout",
     "output_type": "stream",
     "text": [
      "Epoch 45:\n",
      "\ttrain: loss: 0.6339 | auc_cos: 0.8192 | acc_cos: 0.7045 | auc_eu: 0.8160 | acc_eu: 0.6589\n",
      "\ttest: loss: 0.3400 | auc_cos: 0.8408 | acc_cos: 0.7552 | auc_eu: 0.8309 | acc_eu: 0.6773\n"
     ]
    },
    {
     "name": "stdout",
     "output_type": "stream",
     "text": [
      "\tSaving model and optimizer state to /kaggle/working/checkpoint/triplet/albedo/models/checkpoint.pth\n"
     ]
    },
    {
     "name": "stdout",
     "output_type": "stream",
     "text": [
      "\tSaved best model weights for 'cosine_auc' at epoch 45 to '/kaggle/working/checkpoint/triplet/albedo/models/best_cosine_auc_45.pth'\n",
      "\tEpoch 45: EarlyStopping counter for 'cosine_acc': 24/50\n",
      "\tEpoch 45: EarlyStopping counter for 'euclidean_auc': 24/50\n",
      "\tEpoch 45: EarlyStopping counter for 'euclidean_acc': 1/50\n"
     ]
    },
    {
     "name": "stdout",
     "output_type": "stream",
     "text": [
      "Epoch 46:\n",
      "\ttrain: loss: 0.6567 | auc_cos: 0.8196 | acc_cos: 0.6860 | auc_eu: 0.8167 | acc_eu: 0.6816\n",
      "\ttest: loss: 0.3395 | auc_cos: 0.8409 | acc_cos: 0.6745 | auc_eu: 0.8328 | acc_eu: 0.6584\n"
     ]
    },
    {
     "name": "stdout",
     "output_type": "stream",
     "text": [
      "\tSaving model and optimizer state to /kaggle/working/checkpoint/triplet/albedo/models/checkpoint.pth\n"
     ]
    },
    {
     "name": "stdout",
     "output_type": "stream",
     "text": [
      "\tSaved best model weights for 'cosine_auc' at epoch 46 to '/kaggle/working/checkpoint/triplet/albedo/models/best_cosine_auc_46.pth'\n",
      "\tEpoch 46: EarlyStopping counter for 'cosine_acc': 25/50\n",
      "\tEpoch 46: EarlyStopping counter for 'euclidean_auc': 25/50\n",
      "\tSaved best model weights for 'euclidean_acc' at epoch 46 to '/kaggle/working/checkpoint/triplet/albedo/models/best_euclidean_acc_46.pth'\n"
     ]
    },
    {
     "name": "stdout",
     "output_type": "stream",
     "text": [
      "Epoch 47:\n",
      "\ttrain: loss: 0.5583 | auc_cos: 0.8182 | acc_cos: 0.6464 | auc_eu: 0.8140 | acc_eu: 0.7183\n",
      "\ttest: loss: 0.3320 | auc_cos: 0.8401 | acc_cos: 0.7466 | auc_eu: 0.8314 | acc_eu: 0.6656\n"
     ]
    },
    {
     "name": "stdout",
     "output_type": "stream",
     "text": [
      "\tSaving model and optimizer state to /kaggle/working/checkpoint/triplet/albedo/models/checkpoint.pth\n",
      "\tEpoch 47: EarlyStopping counter for 'cosine_auc': 1/50\n",
      "\tEpoch 47: EarlyStopping counter for 'cosine_acc': 26/50\n",
      "\tEpoch 47: EarlyStopping counter for 'euclidean_auc': 26/50\n",
      "\tEpoch 47: EarlyStopping counter for 'euclidean_acc': 1/50\n"
     ]
    },
    {
     "name": "stdout",
     "output_type": "stream",
     "text": [
      "Epoch 48:\n",
      "\ttrain: loss: 0.6356 | auc_cos: 0.8160 | acc_cos: 0.6782 | auc_eu: 0.8145 | acc_eu: 0.6989\n",
      "\ttest: loss: 0.3346 | auc_cos: 0.8414 | acc_cos: 0.7598 | auc_eu: 0.8325 | acc_eu: 0.6701\n"
     ]
    },
    {
     "name": "stdout",
     "output_type": "stream",
     "text": [
      "\tSaving model and optimizer state to /kaggle/working/checkpoint/triplet/albedo/models/checkpoint.pth\n",
      "\tSaved best model weights for 'cosine_auc' at epoch 48 to '/kaggle/working/checkpoint/triplet/albedo/models/best_cosine_auc_48.pth'\n",
      "\tEpoch 48: EarlyStopping counter for 'cosine_acc': 27/50\n",
      "\tEpoch 48: EarlyStopping counter for 'euclidean_auc': 27/50\n",
      "\tEpoch 48: EarlyStopping counter for 'euclidean_acc': 2/50\n"
     ]
    },
    {
     "name": "stdout",
     "output_type": "stream",
     "text": [
      "Epoch 49:\n",
      "\ttrain: loss: 0.6507 | auc_cos: 0.8189 | acc_cos: 0.6785 | auc_eu: 0.8143 | acc_eu: 0.6947\n",
      "\ttest: loss: 0.3390 | auc_cos: 0.8388 | acc_cos: 0.6246 | auc_eu: 0.8306 | acc_eu: 0.6066\n"
     ]
    },
    {
     "name": "stdout",
     "output_type": "stream",
     "text": [
      "\tSaving model and optimizer state to /kaggle/working/checkpoint/triplet/albedo/models/checkpoint.pth\n",
      "\tEpoch 49: EarlyStopping counter for 'cosine_auc': 1/50\n",
      "\tEpoch 49: EarlyStopping counter for 'cosine_acc': 28/50\n",
      "\tEpoch 49: EarlyStopping counter for 'euclidean_auc': 28/50\n",
      "\tEpoch 49: EarlyStopping counter for 'euclidean_acc': 3/50\n"
     ]
    },
    {
     "name": "stdout",
     "output_type": "stream",
     "text": [
      "Epoch 50:\n",
      "\ttrain: loss: 0.7530 | auc_cos: 0.7788 | acc_cos: 0.7264 | auc_eu: 0.7778 | acc_eu: 0.7503\n",
      "\ttest: loss: 0.4944 | auc_cos: 0.8105 | acc_cos: 0.7350 | auc_eu: 0.8001 | acc_eu: 0.7109\n"
     ]
    },
    {
     "name": "stdout",
     "output_type": "stream",
     "text": [
      "\tSaving model and optimizer state to /kaggle/working/checkpoint/triplet/albedo/models/checkpoint.pth\n",
      "\tEpoch 50: EarlyStopping counter for 'cosine_auc': 2/50\n",
      "\tEpoch 50: EarlyStopping counter for 'cosine_acc': 29/50\n",
      "\tEpoch 50: EarlyStopping counter for 'euclidean_auc': 29/50\n",
      "\tEpoch 50: EarlyStopping counter for 'euclidean_acc': 4/50\n"
     ]
    },
    {
     "name": "stdout",
     "output_type": "stream",
     "text": [
      "Epoch 51:\n",
      "\ttrain: loss: 1.0558 | auc_cos: 0.7711 | acc_cos: 0.6343 | auc_eu: 0.7705 | acc_eu: 0.6860\n",
      "\ttest: loss: 0.5094 | auc_cos: 0.7902 | acc_cos: 0.7037 | auc_eu: 0.7830 | acc_eu: 0.6588\n"
     ]
    },
    {
     "name": "stdout",
     "output_type": "stream",
     "text": [
      "\tSaving model and optimizer state to /kaggle/working/checkpoint/triplet/albedo/models/checkpoint.pth\n",
      "\tEpoch 51: EarlyStopping counter for 'cosine_auc': 3/50\n",
      "\tEpoch 51: EarlyStopping counter for 'cosine_acc': 30/50\n",
      "\tEpoch 51: EarlyStopping counter for 'euclidean_auc': 30/50\n",
      "\tEpoch 51: EarlyStopping counter for 'euclidean_acc': 5/50\n"
     ]
    },
    {
     "name": "stdout",
     "output_type": "stream",
     "text": [
      "Epoch 52:\n",
      "\ttrain: loss: 1.2597 | auc_cos: 0.7365 | acc_cos: 0.6784 | auc_eu: 0.7382 | acc_eu: 0.6810\n",
      "\ttest: loss: 0.6602 | auc_cos: 0.7734 | acc_cos: 0.7090 | auc_eu: 0.7684 | acc_eu: 0.7152\n"
     ]
    },
    {
     "name": "stdout",
     "output_type": "stream",
     "text": [
      "\tSaving model and optimizer state to /kaggle/working/checkpoint/triplet/albedo/models/checkpoint.pth\n",
      "\tEpoch 52: EarlyStopping counter for 'cosine_auc': 4/50\n",
      "\tEpoch 52: EarlyStopping counter for 'cosine_acc': 31/50\n",
      "\tEpoch 52: EarlyStopping counter for 'euclidean_auc': 31/50\n",
      "\tEpoch 52: EarlyStopping counter for 'euclidean_acc': 6/50\n"
     ]
    },
    {
     "name": "stdout",
     "output_type": "stream",
     "text": [
      "Epoch 53:\n",
      "\ttrain: loss: 1.2647 | auc_cos: 0.7735 | acc_cos: 0.7460 | auc_eu: 0.7726 | acc_eu: 0.6994\n",
      "\ttest: loss: 0.5678 | auc_cos: 0.8035 | acc_cos: 0.8049 | auc_eu: 0.8009 | acc_eu: 0.6243\n"
     ]
    },
    {
     "name": "stdout",
     "output_type": "stream",
     "text": [
      "\tSaving model and optimizer state to /kaggle/working/checkpoint/triplet/albedo/models/checkpoint.pth\n",
      "\tEpoch 53: EarlyStopping counter for 'cosine_auc': 5/50\n",
      "\tSaved best model weights for 'cosine_acc' at epoch 53 to '/kaggle/working/checkpoint/triplet/albedo/models/best_cosine_acc_53.pth'\n",
      "\tEpoch 53: EarlyStopping counter for 'euclidean_auc': 32/50\n",
      "\tEpoch 53: EarlyStopping counter for 'euclidean_acc': 7/50\n"
     ]
    },
    {
     "name": "stdout",
     "output_type": "stream",
     "text": [
      "Epoch 54:\n",
      "\ttrain: loss: 1.1774 | auc_cos: 0.7585 | acc_cos: 0.6888 | auc_eu: 0.7536 | acc_eu: 0.6684\n",
      "\ttest: loss: 0.6783 | auc_cos: 0.7899 | acc_cos: 0.7209 | auc_eu: 0.7791 | acc_eu: 0.7853\n"
     ]
    },
    {
     "name": "stdout",
     "output_type": "stream",
     "text": [
      "\tSaving model and optimizer state to /kaggle/working/checkpoint/triplet/albedo/models/checkpoint.pth\n",
      "\tEpoch 54: EarlyStopping counter for 'cosine_auc': 6/50\n",
      "\tEpoch 54: EarlyStopping counter for 'cosine_acc': 1/50\n",
      "\tEpoch 54: EarlyStopping counter for 'euclidean_auc': 33/50\n",
      "\tEpoch 54: EarlyStopping counter for 'euclidean_acc': 8/50\n"
     ]
    },
    {
     "name": "stdout",
     "output_type": "stream",
     "text": [
      "Epoch 55:\n",
      "\ttrain: loss: 1.4346 | auc_cos: 0.7552 | acc_cos: 0.6585 | auc_eu: 0.7559 | acc_eu: 0.6554\n",
      "\ttest: loss: 0.5607 | auc_cos: 0.7693 | acc_cos: 0.7729 | auc_eu: 0.7618 | acc_eu: 0.7705\n"
     ]
    },
    {
     "name": "stdout",
     "output_type": "stream",
     "text": [
      "\tSaving model and optimizer state to /kaggle/working/checkpoint/triplet/albedo/models/checkpoint.pth\n",
      "\tEpoch 55: EarlyStopping counter for 'cosine_auc': 7/50\n",
      "\tEpoch 55: EarlyStopping counter for 'cosine_acc': 2/50\n",
      "\tEpoch 55: EarlyStopping counter for 'euclidean_auc': 34/50\n",
      "\tEpoch 55: EarlyStopping counter for 'euclidean_acc': 9/50\n"
     ]
    },
    {
     "name": "stdout",
     "output_type": "stream",
     "text": [
      "Epoch 56:\n",
      "\ttrain: loss: 1.2372 | auc_cos: 0.7733 | acc_cos: 0.6976 | auc_eu: 0.7740 | acc_eu: 0.6436\n",
      "\ttest: loss: 0.6241 | auc_cos: 0.8005 | acc_cos: 0.7025 | auc_eu: 0.8006 | acc_eu: 0.7049\n"
     ]
    },
    {
     "name": "stdout",
     "output_type": "stream",
     "text": [
      "\tSaving model and optimizer state to /kaggle/working/checkpoint/triplet/albedo/models/checkpoint.pth\n",
      "\tEpoch 56: EarlyStopping counter for 'cosine_auc': 8/50\n",
      "\tEpoch 56: EarlyStopping counter for 'cosine_acc': 3/50\n",
      "\tEpoch 56: EarlyStopping counter for 'euclidean_auc': 35/50\n",
      "\tEpoch 56: EarlyStopping counter for 'euclidean_acc': 10/50\n"
     ]
    },
    {
     "name": "stdout",
     "output_type": "stream",
     "text": [
      "Epoch 57:\n",
      "\ttrain: loss: 1.2912 | auc_cos: 0.7647 | acc_cos: 0.7235 | auc_eu: 0.7648 | acc_eu: 0.6975\n",
      "\ttest: loss: 0.6305 | auc_cos: 0.7947 | acc_cos: 0.7376 | auc_eu: 0.7897 | acc_eu: 0.7356\n"
     ]
    },
    {
     "name": "stdout",
     "output_type": "stream",
     "text": [
      "\tSaving model and optimizer state to /kaggle/working/checkpoint/triplet/albedo/models/checkpoint.pth\n",
      "\tEpoch 57: EarlyStopping counter for 'cosine_auc': 9/50\n",
      "\tEpoch 57: EarlyStopping counter for 'cosine_acc': 4/50\n",
      "\tEpoch 57: EarlyStopping counter for 'euclidean_auc': 36/50\n",
      "\tEpoch 57: EarlyStopping counter for 'euclidean_acc': 11/50\n"
     ]
    },
    {
     "name": "stdout",
     "output_type": "stream",
     "text": [
      "Epoch 58:\n",
      "\ttrain: loss: 1.1707 | auc_cos: 0.7725 | acc_cos: 0.7111 | auc_eu: 0.7709 | acc_eu: 0.6415\n",
      "\ttest: loss: 0.5377 | auc_cos: 0.7938 | acc_cos: 0.6560 | auc_eu: 0.7925 | acc_eu: 0.6768\n"
     ]
    },
    {
     "name": "stdout",
     "output_type": "stream",
     "text": [
      "\tSaving model and optimizer state to /kaggle/working/checkpoint/triplet/albedo/models/checkpoint.pth\n",
      "\tEpoch 58: EarlyStopping counter for 'cosine_auc': 10/50\n",
      "\tEpoch 58: EarlyStopping counter for 'cosine_acc': 5/50\n",
      "\tEpoch 58: EarlyStopping counter for 'euclidean_auc': 37/50\n",
      "\tEpoch 58: EarlyStopping counter for 'euclidean_acc': 12/50\n"
     ]
    },
    {
     "name": "stdout",
     "output_type": "stream",
     "text": [
      "Epoch 59:\n",
      "\ttrain: loss: 1.0986 | auc_cos: 0.7868 | acc_cos: 0.7278 | auc_eu: 0.7834 | acc_eu: 0.6773\n",
      "\ttest: loss: 0.5116 | auc_cos: 0.8194 | acc_cos: 0.6733 | auc_eu: 0.8116 | acc_eu: 0.7584\n"
     ]
    },
    {
     "name": "stdout",
     "output_type": "stream",
     "text": [
      "\tSaving model and optimizer state to /kaggle/working/checkpoint/triplet/albedo/models/checkpoint.pth\n",
      "\tEpoch 59: EarlyStopping counter for 'cosine_auc': 11/50\n",
      "\tEpoch 59: EarlyStopping counter for 'cosine_acc': 6/50\n",
      "\tEpoch 59: EarlyStopping counter for 'euclidean_auc': 38/50\n",
      "\tEpoch 59: EarlyStopping counter for 'euclidean_acc': 13/50\n"
     ]
    },
    {
     "name": "stdout",
     "output_type": "stream",
     "text": [
      "Epoch 60:\n",
      "\ttrain: loss: 1.1076 | auc_cos: 0.7851 | acc_cos: 0.7052 | auc_eu: 0.7828 | acc_eu: 0.7035\n",
      "\ttest: loss: 0.5382 | auc_cos: 0.8042 | acc_cos: 0.7225 | auc_eu: 0.8033 | acc_eu: 0.7404\n"
     ]
    },
    {
     "name": "stdout",
     "output_type": "stream",
     "text": [
      "\tSaving model and optimizer state to /kaggle/working/checkpoint/triplet/albedo/models/checkpoint.pth\n",
      "\tEpoch 60: EarlyStopping counter for 'cosine_auc': 12/50\n",
      "\tEpoch 60: EarlyStopping counter for 'cosine_acc': 7/50\n",
      "\tEpoch 60: EarlyStopping counter for 'euclidean_auc': 39/50\n",
      "\tEpoch 60: EarlyStopping counter for 'euclidean_acc': 14/50\n"
     ]
    },
    {
     "name": "stdout",
     "output_type": "stream",
     "text": [
      "Epoch 61:\n",
      "\ttrain: loss: 0.9045 | auc_cos: 0.7923 | acc_cos: 0.7007 | auc_eu: 0.7849 | acc_eu: 0.7178\n",
      "\ttest: loss: 0.6195 | auc_cos: 0.8366 | acc_cos: 0.7202 | auc_eu: 0.8223 | acc_eu: 0.7856\n"
     ]
    },
    {
     "name": "stdout",
     "output_type": "stream",
     "text": [
      "\tSaving model and optimizer state to /kaggle/working/checkpoint/triplet/albedo/models/checkpoint.pth\n",
      "\tEpoch 61: EarlyStopping counter for 'cosine_auc': 13/50\n",
      "\tEpoch 61: EarlyStopping counter for 'cosine_acc': 8/50\n",
      "\tEpoch 61: EarlyStopping counter for 'euclidean_auc': 40/50\n",
      "\tEpoch 61: EarlyStopping counter for 'euclidean_acc': 15/50\n"
     ]
    },
    {
     "name": "stdout",
     "output_type": "stream",
     "text": [
      "Epoch 62:\n",
      "\ttrain: loss: 1.0536 | auc_cos: 0.7998 | acc_cos: 0.7128 | auc_eu: 0.7987 | acc_eu: 0.6639\n",
      "\ttest: loss: 0.4566 | auc_cos: 0.8212 | acc_cos: 0.8163 | auc_eu: 0.8140 | acc_eu: 0.8186\n"
     ]
    },
    {
     "name": "stdout",
     "output_type": "stream",
     "text": [
      "\tSaving model and optimizer state to /kaggle/working/checkpoint/triplet/albedo/models/checkpoint.pth\n",
      "\tEpoch 62: EarlyStopping counter for 'cosine_auc': 14/50\n",
      "\tSaved best model weights for 'cosine_acc' at epoch 62 to '/kaggle/working/checkpoint/triplet/albedo/models/best_cosine_acc_62.pth'\n"
     ]
    },
    {
     "name": "stdout",
     "output_type": "stream",
     "text": [
      "\tSaved best model weights for 'euclidean_auc' at epoch 62 to '/kaggle/working/checkpoint/triplet/albedo/models/best_euclidean_auc_62.pth'\n",
      "\tEpoch 62: EarlyStopping counter for 'euclidean_acc': 16/50\n"
     ]
    },
    {
     "name": "stdout",
     "output_type": "stream",
     "text": [
      "Epoch 63:\n",
      "\ttrain: loss: 0.9519 | auc_cos: 0.8026 | acc_cos: 0.7056 | auc_eu: 0.7991 | acc_eu: 0.7431\n",
      "\ttest: loss: 0.4668 | auc_cos: 0.8183 | acc_cos: 0.6408 | auc_eu: 0.8114 | acc_eu: 0.7353\n"
     ]
    },
    {
     "name": "stdout",
     "output_type": "stream",
     "text": [
      "\tSaving model and optimizer state to /kaggle/working/checkpoint/triplet/albedo/models/checkpoint.pth\n",
      "\tEpoch 63: EarlyStopping counter for 'cosine_auc': 15/50\n",
      "\tEpoch 63: EarlyStopping counter for 'cosine_acc': 1/50\n",
      "\tEpoch 63: EarlyStopping counter for 'euclidean_auc': 1/50\n",
      "\tEpoch 63: EarlyStopping counter for 'euclidean_acc': 17/50\n"
     ]
    },
    {
     "name": "stdout",
     "output_type": "stream",
     "text": [
      "Epoch 64:\n",
      "\ttrain: loss: 0.7807 | auc_cos: 0.7972 | acc_cos: 0.6899 | auc_eu: 0.7971 | acc_eu: 0.6752\n",
      "\ttest: loss: 0.4418 | auc_cos: 0.8201 | acc_cos: 0.7061 | auc_eu: 0.8187 | acc_eu: 0.7790\n"
     ]
    },
    {
     "name": "stdout",
     "output_type": "stream",
     "text": [
      "\tSaving model and optimizer state to /kaggle/working/checkpoint/triplet/albedo/models/checkpoint.pth\n",
      "\tEpoch 64: EarlyStopping counter for 'cosine_auc': 16/50\n",
      "\tEpoch 64: EarlyStopping counter for 'cosine_acc': 2/50\n",
      "\tEpoch 64: EarlyStopping counter for 'euclidean_auc': 2/50\n",
      "\tEpoch 64: EarlyStopping counter for 'euclidean_acc': 18/50\n"
     ]
    },
    {
     "name": "stdout",
     "output_type": "stream",
     "text": [
      "Epoch 65:\n",
      "\ttrain: loss: 0.8476 | auc_cos: 0.7952 | acc_cos: 0.6987 | auc_eu: 0.7971 | acc_eu: 0.7226\n",
      "\ttest: loss: 0.4218 | auc_cos: 0.8199 | acc_cos: 0.8019 | auc_eu: 0.8215 | acc_eu: 0.8235\n"
     ]
    },
    {
     "name": "stdout",
     "output_type": "stream",
     "text": [
      "\tSaving model and optimizer state to /kaggle/working/checkpoint/triplet/albedo/models/checkpoint.pth\n",
      "\tEpoch 65: EarlyStopping counter for 'cosine_auc': 17/50\n",
      "\tEpoch 65: EarlyStopping counter for 'cosine_acc': 3/50\n",
      "\tSaved best model weights for 'euclidean_auc' at epoch 65 to '/kaggle/working/checkpoint/triplet/albedo/models/best_euclidean_auc_65.pth'\n",
      "\tEpoch 65: EarlyStopping counter for 'euclidean_acc': 19/50\n"
     ]
    },
    {
     "name": "stdout",
     "output_type": "stream",
     "text": [
      "Epoch 66:\n",
      "\ttrain: loss: 0.7722 | auc_cos: 0.7926 | acc_cos: 0.6519 | auc_eu: 0.7960 | acc_eu: 0.7207\n",
      "\ttest: loss: 0.4352 | auc_cos: 0.8224 | acc_cos: 0.7473 | auc_eu: 0.8251 | acc_eu: 0.6899\n"
     ]
    },
    {
     "name": "stdout",
     "output_type": "stream",
     "text": [
      "\tSaving model and optimizer state to /kaggle/working/checkpoint/triplet/albedo/models/checkpoint.pth\n",
      "\tEpoch 66: EarlyStopping counter for 'cosine_auc': 18/50\n",
      "\tEpoch 66: EarlyStopping counter for 'cosine_acc': 4/50\n",
      "\tEpoch 66: EarlyStopping counter for 'euclidean_auc': 1/50\n",
      "\tEpoch 66: EarlyStopping counter for 'euclidean_acc': 20/50\n"
     ]
    },
    {
     "name": "stdout",
     "output_type": "stream",
     "text": [
      "Epoch 67:\n",
      "\ttrain: loss: 0.8322 | auc_cos: 0.8052 | acc_cos: 0.6840 | auc_eu: 0.8089 | acc_eu: 0.6754\n",
      "\ttest: loss: 0.4146 | auc_cos: 0.8207 | acc_cos: 0.7622 | auc_eu: 0.8242 | acc_eu: 0.6488\n"
     ]
    },
    {
     "name": "stdout",
     "output_type": "stream",
     "text": [
      "\tSaving model and optimizer state to /kaggle/working/checkpoint/triplet/albedo/models/checkpoint.pth\n",
      "\tEpoch 67: EarlyStopping counter for 'cosine_auc': 19/50\n",
      "\tEpoch 67: EarlyStopping counter for 'cosine_acc': 5/50\n",
      "\tEpoch 67: EarlyStopping counter for 'euclidean_auc': 2/50\n",
      "\tEpoch 67: EarlyStopping counter for 'euclidean_acc': 21/50\n"
     ]
    },
    {
     "name": "stdout",
     "output_type": "stream",
     "text": [
      "Epoch 68:\n",
      "\ttrain: loss: 0.7594 | auc_cos: 0.8156 | acc_cos: 0.6657 | auc_eu: 0.8157 | acc_eu: 0.7093\n",
      "\ttest: loss: 0.3761 | auc_cos: 0.8365 | acc_cos: 0.7761 | auc_eu: 0.8362 | acc_eu: 0.7951\n"
     ]
    },
    {
     "name": "stdout",
     "output_type": "stream",
     "text": [
      "\tSaving model and optimizer state to /kaggle/working/checkpoint/triplet/albedo/models/checkpoint.pth\n",
      "\tEpoch 68: EarlyStopping counter for 'cosine_auc': 20/50\n",
      "\tEpoch 68: EarlyStopping counter for 'cosine_acc': 6/50\n",
      "\tEpoch 68: EarlyStopping counter for 'euclidean_auc': 3/50\n",
      "\tSaved best model weights for 'euclidean_acc' at epoch 68 to '/kaggle/working/checkpoint/triplet/albedo/models/best_euclidean_acc_68.pth'\n"
     ]
    },
    {
     "name": "stdout",
     "output_type": "stream",
     "text": [
      "Epoch 69:\n",
      "\ttrain: loss: 0.6764 | auc_cos: 0.8076 | acc_cos: 0.7104 | auc_eu: 0.8118 | acc_eu: 0.7547\n",
      "\ttest: loss: 0.4130 | auc_cos: 0.8439 | acc_cos: 0.6417 | auc_eu: 0.8453 | acc_eu: 0.7234\n"
     ]
    },
    {
     "name": "stdout",
     "output_type": "stream",
     "text": [
      "\tSaving model and optimizer state to /kaggle/working/checkpoint/triplet/albedo/models/checkpoint.pth\n",
      "\tSaved best model weights for 'cosine_auc' at epoch 69 to '/kaggle/working/checkpoint/triplet/albedo/models/best_cosine_auc_69.pth'\n",
      "\tEpoch 69: EarlyStopping counter for 'cosine_acc': 7/50\n",
      "\tEpoch 69: EarlyStopping counter for 'euclidean_auc': 4/50\n"
     ]
    },
    {
     "name": "stdout",
     "output_type": "stream",
     "text": [
      "\tSaved best model weights for 'euclidean_acc' at epoch 69 to '/kaggle/working/checkpoint/triplet/albedo/models/best_euclidean_acc_69.pth'\n"
     ]
    },
    {
     "name": "stdout",
     "output_type": "stream",
     "text": [
      "Epoch 70:\n",
      "\ttrain: loss: 0.7272 | auc_cos: 0.8126 | acc_cos: 0.7208 | auc_eu: 0.8110 | acc_eu: 0.7556\n",
      "\ttest: loss: 0.3460 | auc_cos: 0.8428 | acc_cos: 0.6815 | auc_eu: 0.8398 | acc_eu: 0.6928\n"
     ]
    },
    {
     "name": "stdout",
     "output_type": "stream",
     "text": [
      "\tSaving model and optimizer state to /kaggle/working/checkpoint/triplet/albedo/models/checkpoint.pth\n",
      "\tEpoch 70: EarlyStopping counter for 'cosine_auc': 1/50\n",
      "\tEpoch 70: EarlyStopping counter for 'cosine_acc': 8/50\n",
      "\tEpoch 70: EarlyStopping counter for 'euclidean_auc': 5/50\n",
      "\tEpoch 70: EarlyStopping counter for 'euclidean_acc': 1/50\n"
     ]
    },
    {
     "name": "stdout",
     "output_type": "stream",
     "text": [
      "Epoch 71:\n",
      "\ttrain: loss: 0.7009 | auc_cos: 0.8228 | acc_cos: 0.7377 | auc_eu: 0.8224 | acc_eu: 0.7541\n",
      "\ttest: loss: 0.4012 | auc_cos: 0.8546 | acc_cos: 0.7264 | auc_eu: 0.8546 | acc_eu: 0.7333\n"
     ]
    },
    {
     "name": "stdout",
     "output_type": "stream",
     "text": [
      "\tSaving model and optimizer state to /kaggle/working/checkpoint/triplet/albedo/models/checkpoint.pth\n",
      "\tSaved best model weights for 'cosine_auc' at epoch 71 to '/kaggle/working/checkpoint/triplet/albedo/models/best_cosine_auc_71.pth'\n",
      "\tEpoch 71: EarlyStopping counter for 'cosine_acc': 9/50\n",
      "\tEpoch 71: EarlyStopping counter for 'euclidean_auc': 6/50\n"
     ]
    },
    {
     "name": "stdout",
     "output_type": "stream",
     "text": [
      "\tSaved best model weights for 'euclidean_acc' at epoch 71 to '/kaggle/working/checkpoint/triplet/albedo/models/best_euclidean_acc_71.pth'\n"
     ]
    },
    {
     "name": "stdout",
     "output_type": "stream",
     "text": [
      "Epoch 72:\n",
      "\ttrain: loss: 0.7028 | auc_cos: 0.8271 | acc_cos: 0.7316 | auc_eu: 0.8237 | acc_eu: 0.6784\n",
      "\ttest: loss: 0.3557 | auc_cos: 0.8424 | acc_cos: 0.7570 | auc_eu: 0.8418 | acc_eu: 0.8041\n"
     ]
    },
    {
     "name": "stdout",
     "output_type": "stream",
     "text": [
      "\tSaving model and optimizer state to /kaggle/working/checkpoint/triplet/albedo/models/checkpoint.pth\n",
      "\tEpoch 72: EarlyStopping counter for 'cosine_auc': 1/50\n",
      "\tEpoch 72: EarlyStopping counter for 'cosine_acc': 10/50\n",
      "\tEpoch 72: EarlyStopping counter for 'euclidean_auc': 7/50\n",
      "\tEpoch 72: EarlyStopping counter for 'euclidean_acc': 1/50\n"
     ]
    },
    {
     "name": "stdout",
     "output_type": "stream",
     "text": [
      "Epoch 73:\n",
      "\ttrain: loss: 0.6440 | auc_cos: 0.8321 | acc_cos: 0.7472 | auc_eu: 0.8304 | acc_eu: 0.6762\n",
      "\ttest: loss: 0.3271 | auc_cos: 0.8525 | acc_cos: 0.8393 | auc_eu: 0.8471 | acc_eu: 0.8174\n"
     ]
    },
    {
     "name": "stdout",
     "output_type": "stream",
     "text": [
      "\tSaving model and optimizer state to /kaggle/working/checkpoint/triplet/albedo/models/checkpoint.pth\n",
      "\tEpoch 73: EarlyStopping counter for 'cosine_auc': 2/50\n"
     ]
    },
    {
     "name": "stdout",
     "output_type": "stream",
     "text": [
      "\tSaved best model weights for 'cosine_acc' at epoch 73 to '/kaggle/working/checkpoint/triplet/albedo/models/best_cosine_acc_73.pth'\n",
      "\tEpoch 73: EarlyStopping counter for 'euclidean_auc': 8/50\n",
      "\tEpoch 73: EarlyStopping counter for 'euclidean_acc': 2/50\n"
     ]
    },
    {
     "name": "stdout",
     "output_type": "stream",
     "text": [
      "Epoch 74:\n",
      "\ttrain: loss: 0.6334 | auc_cos: 0.8346 | acc_cos: 0.7128 | auc_eu: 0.8312 | acc_eu: 0.6867\n",
      "\ttest: loss: 0.3425 | auc_cos: 0.8510 | acc_cos: 0.6733 | auc_eu: 0.8421 | acc_eu: 0.6673\n"
     ]
    },
    {
     "name": "stdout",
     "output_type": "stream",
     "text": [
      "\tSaving model and optimizer state to /kaggle/working/checkpoint/triplet/albedo/models/checkpoint.pth\n",
      "\tEpoch 74: EarlyStopping counter for 'cosine_auc': 3/50\n",
      "\tEpoch 74: EarlyStopping counter for 'cosine_acc': 1/50\n",
      "\tEpoch 74: EarlyStopping counter for 'euclidean_auc': 9/50\n",
      "\tEpoch 74: EarlyStopping counter for 'euclidean_acc': 3/50\n"
     ]
    },
    {
     "name": "stdout",
     "output_type": "stream",
     "text": [
      "Epoch 75:\n",
      "\ttrain: loss: 0.5738 | auc_cos: 0.8288 | acc_cos: 0.7343 | auc_eu: 0.8295 | acc_eu: 0.6849\n",
      "\ttest: loss: 0.3202 | auc_cos: 0.8452 | acc_cos: 0.7037 | auc_eu: 0.8436 | acc_eu: 0.7120\n"
     ]
    },
    {
     "name": "stdout",
     "output_type": "stream",
     "text": [
      "\tSaving model and optimizer state to /kaggle/working/checkpoint/triplet/albedo/models/checkpoint.pth\n",
      "\tEpoch 75: EarlyStopping counter for 'cosine_auc': 4/50\n",
      "\tEpoch 75: EarlyStopping counter for 'cosine_acc': 2/50\n",
      "\tEpoch 75: EarlyStopping counter for 'euclidean_auc': 10/50\n",
      "\tEpoch 75: EarlyStopping counter for 'euclidean_acc': 4/50\n"
     ]
    },
    {
     "name": "stdout",
     "output_type": "stream",
     "text": [
      "Epoch 76:\n",
      "\ttrain: loss: 0.5848 | auc_cos: 0.8386 | acc_cos: 0.7366 | auc_eu: 0.8384 | acc_eu: 0.7265\n",
      "\ttest: loss: 0.3247 | auc_cos: 0.8545 | acc_cos: 0.7878 | auc_eu: 0.8539 | acc_eu: 0.7700\n"
     ]
    },
    {
     "name": "stdout",
     "output_type": "stream",
     "text": [
      "\tSaving model and optimizer state to /kaggle/working/checkpoint/triplet/albedo/models/checkpoint.pth\n",
      "\tEpoch 76: EarlyStopping counter for 'cosine_auc': 5/50\n",
      "\tEpoch 76: EarlyStopping counter for 'cosine_acc': 3/50\n",
      "\tEpoch 76: EarlyStopping counter for 'euclidean_auc': 11/50\n",
      "\tEpoch 76: EarlyStopping counter for 'euclidean_acc': 5/50\n"
     ]
    },
    {
     "name": "stdout",
     "output_type": "stream",
     "text": [
      "Epoch 77:\n",
      "\ttrain: loss: 0.5620 | auc_cos: 0.8434 | acc_cos: 0.6973 | auc_eu: 0.8421 | acc_eu: 0.7624\n",
      "\ttest: loss: 0.3212 | auc_cos: 0.8642 | acc_cos: 0.7156 | auc_eu: 0.8592 | acc_eu: 0.7286\n"
     ]
    },
    {
     "name": "stdout",
     "output_type": "stream",
     "text": [
      "\tSaving model and optimizer state to /kaggle/working/checkpoint/triplet/albedo/models/checkpoint.pth\n",
      "\tSaved best model weights for 'cosine_auc' at epoch 77 to '/kaggle/working/checkpoint/triplet/albedo/models/best_cosine_auc_77.pth'\n",
      "\tEpoch 77: EarlyStopping counter for 'cosine_acc': 4/50\n",
      "\tEpoch 77: EarlyStopping counter for 'euclidean_auc': 12/50\n"
     ]
    },
    {
     "name": "stdout",
     "output_type": "stream",
     "text": [
      "\tSaved best model weights for 'euclidean_acc' at epoch 77 to '/kaggle/working/checkpoint/triplet/albedo/models/best_euclidean_acc_77.pth'\n"
     ]
    },
    {
     "name": "stdout",
     "output_type": "stream",
     "text": [
      "Epoch 78:\n",
      "\ttrain: loss: 0.5602 | auc_cos: 0.8475 | acc_cos: 0.7698 | auc_eu: 0.8449 | acc_eu: 0.7395\n",
      "\ttest: loss: 0.3191 | auc_cos: 0.8645 | acc_cos: 0.7709 | auc_eu: 0.8603 | acc_eu: 0.7573\n"
     ]
    },
    {
     "name": "stdout",
     "output_type": "stream",
     "text": [
      "\tSaving model and optimizer state to /kaggle/working/checkpoint/triplet/albedo/models/checkpoint.pth\n"
     ]
    },
    {
     "name": "stdout",
     "output_type": "stream",
     "text": [
      "\tSaved best model weights for 'cosine_auc' at epoch 78 to '/kaggle/working/checkpoint/triplet/albedo/models/best_cosine_auc_78.pth'\n",
      "\tEpoch 78: EarlyStopping counter for 'cosine_acc': 5/50\n",
      "\tEpoch 78: EarlyStopping counter for 'euclidean_auc': 13/50\n",
      "\tSaved best model weights for 'euclidean_acc' at epoch 78 to '/kaggle/working/checkpoint/triplet/albedo/models/best_euclidean_acc_78.pth'\n"
     ]
    },
    {
     "name": "stdout",
     "output_type": "stream",
     "text": [
      "Epoch 79:\n",
      "\ttrain: loss: 0.4557 | auc_cos: 0.8414 | acc_cos: 0.7560 | auc_eu: 0.8424 | acc_eu: 0.7083\n",
      "\ttest: loss: 0.3045 | auc_cos: 0.8657 | acc_cos: 0.7007 | auc_eu: 0.8625 | acc_eu: 0.7496\n"
     ]
    },
    {
     "name": "stdout",
     "output_type": "stream",
     "text": [
      "\tSaving model and optimizer state to /kaggle/working/checkpoint/triplet/albedo/models/checkpoint.pth\n"
     ]
    },
    {
     "name": "stdout",
     "output_type": "stream",
     "text": [
      "\tSaved best model weights for 'cosine_auc' at epoch 79 to '/kaggle/working/checkpoint/triplet/albedo/models/best_cosine_auc_79.pth'\n",
      "\tEpoch 79: EarlyStopping counter for 'cosine_acc': 6/50\n",
      "\tEpoch 79: EarlyStopping counter for 'euclidean_auc': 14/50\n",
      "\tSaved best model weights for 'euclidean_acc' at epoch 79 to '/kaggle/working/checkpoint/triplet/albedo/models/best_euclidean_acc_79.pth'\n"
     ]
    },
    {
     "name": "stdout",
     "output_type": "stream",
     "text": [
      "Epoch 80:\n",
      "\ttrain: loss: 0.5490 | auc_cos: 0.8518 | acc_cos: 0.7569 | auc_eu: 0.8503 | acc_eu: 0.7600\n",
      "\ttest: loss: 0.2792 | auc_cos: 0.8639 | acc_cos: 0.7334 | auc_eu: 0.8609 | acc_eu: 0.7397\n"
     ]
    },
    {
     "name": "stdout",
     "output_type": "stream",
     "text": [
      "\tSaving model and optimizer state to /kaggle/working/checkpoint/triplet/albedo/models/checkpoint.pth\n",
      "\tEpoch 80: EarlyStopping counter for 'cosine_auc': 1/50\n",
      "\tEpoch 80: EarlyStopping counter for 'cosine_acc': 7/50\n",
      "\tEpoch 80: EarlyStopping counter for 'euclidean_auc': 15/50\n",
      "\tEpoch 80: EarlyStopping counter for 'euclidean_acc': 1/50\n"
     ]
    },
    {
     "name": "stdout",
     "output_type": "stream",
     "text": [
      "Epoch 81:\n",
      "\ttrain: loss: 0.5163 | auc_cos: 0.8559 | acc_cos: 0.7354 | auc_eu: 0.8537 | acc_eu: 0.7142\n",
      "\ttest: loss: 0.2595 | auc_cos: 0.8600 | acc_cos: 0.7132 | auc_eu: 0.8609 | acc_eu: 0.7130\n"
     ]
    },
    {
     "name": "stdout",
     "output_type": "stream",
     "text": [
      "\tSaving model and optimizer state to /kaggle/working/checkpoint/triplet/albedo/models/checkpoint.pth\n",
      "\tEpoch 81: EarlyStopping counter for 'cosine_auc': 2/50\n",
      "\tEpoch 81: EarlyStopping counter for 'cosine_acc': 8/50\n",
      "\tEpoch 81: EarlyStopping counter for 'euclidean_auc': 16/50\n",
      "\tEpoch 81: EarlyStopping counter for 'euclidean_acc': 2/50\n"
     ]
    },
    {
     "name": "stdout",
     "output_type": "stream",
     "text": [
      "Epoch 82:\n",
      "\ttrain: loss: 0.4757 | auc_cos: 0.8518 | acc_cos: 0.7072 | auc_eu: 0.8476 | acc_eu: 0.7321\n",
      "\ttest: loss: 0.2737 | auc_cos: 0.8543 | acc_cos: 0.8157 | auc_eu: 0.8546 | acc_eu: 0.7190\n"
     ]
    },
    {
     "name": "stdout",
     "output_type": "stream",
     "text": [
      "\tSaving model and optimizer state to /kaggle/working/checkpoint/triplet/albedo/models/checkpoint.pth\n",
      "\tEpoch 82: EarlyStopping counter for 'cosine_auc': 3/50\n",
      "\tEpoch 82: EarlyStopping counter for 'cosine_acc': 9/50\n",
      "\tEpoch 82: EarlyStopping counter for 'euclidean_auc': 17/50\n",
      "\tEpoch 82: EarlyStopping counter for 'euclidean_acc': 3/50\n"
     ]
    },
    {
     "name": "stdout",
     "output_type": "stream",
     "text": [
      "Epoch 83:\n",
      "\ttrain: loss: 0.4807 | auc_cos: 0.8540 | acc_cos: 0.7489 | auc_eu: 0.8538 | acc_eu: 0.7430\n",
      "\ttest: loss: 0.2790 | auc_cos: 0.8653 | acc_cos: 0.8034 | auc_eu: 0.8690 | acc_eu: 0.7178\n"
     ]
    },
    {
     "name": "stdout",
     "output_type": "stream",
     "text": [
      "\tSaving model and optimizer state to /kaggle/working/checkpoint/triplet/albedo/models/checkpoint.pth\n",
      "\tEpoch 83: EarlyStopping counter for 'cosine_auc': 4/50\n",
      "\tEpoch 83: EarlyStopping counter for 'cosine_acc': 10/50\n",
      "\tEpoch 83: EarlyStopping counter for 'euclidean_auc': 18/50\n",
      "\tSaved best model weights for 'euclidean_acc' at epoch 83 to '/kaggle/working/checkpoint/triplet/albedo/models/best_euclidean_acc_83.pth'\n"
     ]
    },
    {
     "name": "stdout",
     "output_type": "stream",
     "text": [
      "Epoch 84:\n",
      "\ttrain: loss: 0.4246 | auc_cos: 0.8514 | acc_cos: 0.7319 | auc_eu: 0.8534 | acc_eu: 0.7050\n",
      "\ttest: loss: 0.2951 | auc_cos: 0.8677 | acc_cos: 0.6899 | auc_eu: 0.8727 | acc_eu: 0.7502\n"
     ]
    },
    {
     "name": "stdout",
     "output_type": "stream",
     "text": [
      "\tSaving model and optimizer state to /kaggle/working/checkpoint/triplet/albedo/models/checkpoint.pth\n",
      "\tSaved best model weights for 'cosine_auc' at epoch 84 to '/kaggle/working/checkpoint/triplet/albedo/models/best_cosine_auc_84.pth'\n",
      "\tEpoch 84: EarlyStopping counter for 'cosine_acc': 11/50\n",
      "\tEpoch 84: EarlyStopping counter for 'euclidean_auc': 19/50\n"
     ]
    },
    {
     "name": "stdout",
     "output_type": "stream",
     "text": [
      "\tSaved best model weights for 'euclidean_acc' at epoch 84 to '/kaggle/working/checkpoint/triplet/albedo/models/best_euclidean_acc_84.pth'\n"
     ]
    },
    {
     "name": "stdout",
     "output_type": "stream",
     "text": [
      "Epoch 85:\n",
      "\ttrain: loss: 0.4579 | auc_cos: 0.8555 | acc_cos: 0.7507 | auc_eu: 0.8572 | acc_eu: 0.7445\n",
      "\ttest: loss: 0.2918 | auc_cos: 0.8734 | acc_cos: 0.7386 | auc_eu: 0.8778 | acc_eu: 0.7836\n"
     ]
    },
    {
     "name": "stdout",
     "output_type": "stream",
     "text": [
      "\tSaving model and optimizer state to /kaggle/working/checkpoint/triplet/albedo/models/checkpoint.pth\n",
      "\tSaved best model weights for 'cosine_auc' at epoch 85 to '/kaggle/working/checkpoint/triplet/albedo/models/best_cosine_auc_85.pth'\n",
      "\tEpoch 85: EarlyStopping counter for 'cosine_acc': 12/50\n",
      "\tEpoch 85: EarlyStopping counter for 'euclidean_auc': 20/50\n"
     ]
    },
    {
     "name": "stdout",
     "output_type": "stream",
     "text": [
      "\tSaved best model weights for 'euclidean_acc' at epoch 85 to '/kaggle/working/checkpoint/triplet/albedo/models/best_euclidean_acc_85.pth'\n"
     ]
    },
    {
     "name": "stdout",
     "output_type": "stream",
     "text": [
      "Epoch 86:\n",
      "\ttrain: loss: 0.4574 | auc_cos: 0.8632 | acc_cos: 0.7435 | auc_eu: 0.8623 | acc_eu: 0.7306\n",
      "\ttest: loss: 0.2558 | auc_cos: 0.8673 | acc_cos: 0.6852 | auc_eu: 0.8689 | acc_eu: 0.7477\n"
     ]
    },
    {
     "name": "stdout",
     "output_type": "stream",
     "text": [
      "\tSaving model and optimizer state to /kaggle/working/checkpoint/triplet/albedo/models/checkpoint.pth\n",
      "\tEpoch 86: EarlyStopping counter for 'cosine_auc': 1/50\n",
      "\tEpoch 86: EarlyStopping counter for 'cosine_acc': 13/50\n",
      "\tEpoch 86: EarlyStopping counter for 'euclidean_auc': 21/50\n",
      "\tEpoch 86: EarlyStopping counter for 'euclidean_acc': 1/50\n"
     ]
    },
    {
     "name": "stdout",
     "output_type": "stream",
     "text": [
      "Epoch 87:\n",
      "\ttrain: loss: 0.4327 | auc_cos: 0.8647 | acc_cos: 0.7373 | auc_eu: 0.8650 | acc_eu: 0.7437\n",
      "\ttest: loss: 0.2500 | auc_cos: 0.8753 | acc_cos: 0.8109 | auc_eu: 0.8759 | acc_eu: 0.7801\n"
     ]
    },
    {
     "name": "stdout",
     "output_type": "stream",
     "text": [
      "\tSaving model and optimizer state to /kaggle/working/checkpoint/triplet/albedo/models/checkpoint.pth\n"
     ]
    },
    {
     "name": "stdout",
     "output_type": "stream",
     "text": [
      "\tSaved best model weights for 'cosine_auc' at epoch 87 to '/kaggle/working/checkpoint/triplet/albedo/models/best_cosine_auc_87.pth'\n",
      "\tEpoch 87: EarlyStopping counter for 'cosine_acc': 14/50\n",
      "\tEpoch 87: EarlyStopping counter for 'euclidean_auc': 22/50\n",
      "\tEpoch 87: EarlyStopping counter for 'euclidean_acc': 2/50\n"
     ]
    },
    {
     "name": "stdout",
     "output_type": "stream",
     "text": [
      "Epoch 88:\n",
      "\ttrain: loss: 0.4583 | auc_cos: 0.8622 | acc_cos: 0.7124 | auc_eu: 0.8656 | acc_eu: 0.7401\n",
      "\ttest: loss: 0.2513 | auc_cos: 0.8716 | acc_cos: 0.7381 | auc_eu: 0.8773 | acc_eu: 0.7753\n"
     ]
    },
    {
     "name": "stdout",
     "output_type": "stream",
     "text": [
      "\tSaving model and optimizer state to /kaggle/working/checkpoint/triplet/albedo/models/checkpoint.pth\n",
      "\tEpoch 88: EarlyStopping counter for 'cosine_auc': 1/50\n",
      "\tEpoch 88: EarlyStopping counter for 'cosine_acc': 15/50\n",
      "\tEpoch 88: EarlyStopping counter for 'euclidean_auc': 23/50\n",
      "\tEpoch 88: EarlyStopping counter for 'euclidean_acc': 3/50\n"
     ]
    },
    {
     "name": "stdout",
     "output_type": "stream",
     "text": [
      "Epoch 89:\n",
      "\ttrain: loss: 0.4138 | auc_cos: 0.8707 | acc_cos: 0.7481 | auc_eu: 0.8701 | acc_eu: 0.7716\n",
      "\ttest: loss: 0.2295 | auc_cos: 0.8709 | acc_cos: 0.7005 | auc_eu: 0.8757 | acc_eu: 0.7545\n"
     ]
    },
    {
     "name": "stdout",
     "output_type": "stream",
     "text": [
      "\tSaving model and optimizer state to /kaggle/working/checkpoint/triplet/albedo/models/checkpoint.pth\n",
      "\tEpoch 89: EarlyStopping counter for 'cosine_auc': 2/50\n",
      "\tEpoch 89: EarlyStopping counter for 'cosine_acc': 16/50\n",
      "\tEpoch 89: EarlyStopping counter for 'euclidean_auc': 24/50\n",
      "\tEpoch 89: EarlyStopping counter for 'euclidean_acc': 4/50\n"
     ]
    },
    {
     "name": "stdout",
     "output_type": "stream",
     "text": [
      "Epoch 90:\n",
      "\ttrain: loss: 0.4702 | auc_cos: 0.8720 | acc_cos: 0.7653 | auc_eu: 0.8712 | acc_eu: 0.7277\n",
      "\ttest: loss: 0.2301 | auc_cos: 0.8741 | acc_cos: 0.7055 | auc_eu: 0.8760 | acc_eu: 0.8010\n"
     ]
    },
    {
     "name": "stdout",
     "output_type": "stream",
     "text": [
      "\tSaving model and optimizer state to /kaggle/working/checkpoint/triplet/albedo/models/checkpoint.pth\n",
      "\tEpoch 90: EarlyStopping counter for 'cosine_auc': 3/50\n",
      "\tEpoch 90: EarlyStopping counter for 'cosine_acc': 17/50\n",
      "\tEpoch 90: EarlyStopping counter for 'euclidean_auc': 25/50\n",
      "\tEpoch 90: EarlyStopping counter for 'euclidean_acc': 5/50\n"
     ]
    },
    {
     "name": "stdout",
     "output_type": "stream",
     "text": [
      "Epoch 91:\n",
      "\ttrain: loss: 0.3996 | auc_cos: 0.8689 | acc_cos: 0.7501 | auc_eu: 0.8709 | acc_eu: 0.7661\n",
      "\ttest: loss: 0.2347 | auc_cos: 0.8743 | acc_cos: 0.7072 | auc_eu: 0.8790 | acc_eu: 0.7648\n"
     ]
    },
    {
     "name": "stdout",
     "output_type": "stream",
     "text": [
      "\tSaving model and optimizer state to /kaggle/working/checkpoint/triplet/albedo/models/checkpoint.pth\n",
      "\tEpoch 91: EarlyStopping counter for 'cosine_auc': 4/50\n",
      "\tEpoch 91: EarlyStopping counter for 'cosine_acc': 18/50\n",
      "\tEpoch 91: EarlyStopping counter for 'euclidean_auc': 26/50\n",
      "\tSaved best model weights for 'euclidean_acc' at epoch 91 to '/kaggle/working/checkpoint/triplet/albedo/models/best_euclidean_acc_91.pth'\n"
     ]
    },
    {
     "name": "stdout",
     "output_type": "stream",
     "text": [
      "Epoch 92:\n",
      "\ttrain: loss: 0.3747 | auc_cos: 0.8718 | acc_cos: 0.7849 | auc_eu: 0.8746 | acc_eu: 0.7515\n",
      "\ttest: loss: 0.2383 | auc_cos: 0.8735 | acc_cos: 0.7176 | auc_eu: 0.8786 | acc_eu: 0.7417\n"
     ]
    },
    {
     "name": "stdout",
     "output_type": "stream",
     "text": [
      "\tSaving model and optimizer state to /kaggle/working/checkpoint/triplet/albedo/models/checkpoint.pth\n",
      "\tEpoch 92: EarlyStopping counter for 'cosine_auc': 5/50\n",
      "\tEpoch 92: EarlyStopping counter for 'cosine_acc': 19/50\n",
      "\tEpoch 92: EarlyStopping counter for 'euclidean_auc': 27/50\n",
      "\tEpoch 92: EarlyStopping counter for 'euclidean_acc': 1/50\n"
     ]
    },
    {
     "name": "stdout",
     "output_type": "stream",
     "text": [
      "Epoch 93:\n",
      "\ttrain: loss: 0.3838 | auc_cos: 0.8778 | acc_cos: 0.7373 | auc_eu: 0.8765 | acc_eu: 0.7613\n",
      "\ttest: loss: 0.2294 | auc_cos: 0.8784 | acc_cos: 0.7414 | auc_eu: 0.8806 | acc_eu: 0.7943\n"
     ]
    },
    {
     "name": "stdout",
     "output_type": "stream",
     "text": [
      "\tSaving model and optimizer state to /kaggle/working/checkpoint/triplet/albedo/models/checkpoint.pth\n"
     ]
    },
    {
     "name": "stdout",
     "output_type": "stream",
     "text": [
      "\tSaved best model weights for 'cosine_auc' at epoch 93 to '/kaggle/working/checkpoint/triplet/albedo/models/best_cosine_auc_93.pth'\n",
      "\tEpoch 93: EarlyStopping counter for 'cosine_acc': 20/50\n",
      "\tEpoch 93: EarlyStopping counter for 'euclidean_auc': 28/50\n",
      "\tSaved best model weights for 'euclidean_acc' at epoch 93 to '/kaggle/working/checkpoint/triplet/albedo/models/best_euclidean_acc_93.pth'\n"
     ]
    },
    {
     "name": "stdout",
     "output_type": "stream",
     "text": [
      "Epoch 94:\n",
      "\ttrain: loss: 0.3922 | auc_cos: 0.8724 | acc_cos: 0.7518 | auc_eu: 0.8746 | acc_eu: 0.7212\n",
      "\ttest: loss: 0.2334 | auc_cos: 0.8740 | acc_cos: 0.7172 | auc_eu: 0.8793 | acc_eu: 0.7605\n"
     ]
    },
    {
     "name": "stdout",
     "output_type": "stream",
     "text": [
      "\tSaving model and optimizer state to /kaggle/working/checkpoint/triplet/albedo/models/checkpoint.pth\n",
      "\tEpoch 94: EarlyStopping counter for 'cosine_auc': 1/50\n",
      "\tEpoch 94: EarlyStopping counter for 'cosine_acc': 21/50\n",
      "\tEpoch 94: EarlyStopping counter for 'euclidean_auc': 29/50\n",
      "\tEpoch 94: EarlyStopping counter for 'euclidean_acc': 1/50\n"
     ]
    },
    {
     "name": "stdout",
     "output_type": "stream",
     "text": [
      "Epoch 95:\n",
      "\ttrain: loss: 0.4105 | auc_cos: 0.8751 | acc_cos: 0.7707 | auc_eu: 0.8753 | acc_eu: 0.7706\n",
      "\ttest: loss: 0.2299 | auc_cos: 0.8768 | acc_cos: 0.7229 | auc_eu: 0.8789 | acc_eu: 0.7724\n"
     ]
    },
    {
     "name": "stdout",
     "output_type": "stream",
     "text": [
      "\tSaving model and optimizer state to /kaggle/working/checkpoint/triplet/albedo/models/checkpoint.pth\n",
      "\tEpoch 95: EarlyStopping counter for 'cosine_auc': 2/50\n",
      "\tEpoch 95: EarlyStopping counter for 'cosine_acc': 22/50\n",
      "\tEpoch 95: EarlyStopping counter for 'euclidean_auc': 30/50\n",
      "\tEpoch 95: EarlyStopping counter for 'euclidean_acc': 2/50\n"
     ]
    },
    {
     "name": "stdout",
     "output_type": "stream",
     "text": [
      "Epoch 96:\n",
      "\ttrain: loss: 0.4222 | auc_cos: 0.8824 | acc_cos: 0.7561 | auc_eu: 0.8844 | acc_eu: 0.7582\n",
      "\ttest: loss: 0.2277 | auc_cos: 0.8785 | acc_cos: 0.7266 | auc_eu: 0.8832 | acc_eu: 0.7730\n"
     ]
    },
    {
     "name": "stdout",
     "output_type": "stream",
     "text": [
      "\tSaving model and optimizer state to /kaggle/working/checkpoint/triplet/albedo/models/checkpoint.pth\n"
     ]
    },
    {
     "name": "stdout",
     "output_type": "stream",
     "text": [
      "\tSaved best model weights for 'cosine_auc' at epoch 96 to '/kaggle/working/checkpoint/triplet/albedo/models/best_cosine_auc_96.pth'\n",
      "\tEpoch 96: EarlyStopping counter for 'cosine_acc': 23/50\n",
      "\tEpoch 96: EarlyStopping counter for 'euclidean_auc': 31/50\n",
      "\tSaved best model weights for 'euclidean_acc' at epoch 96 to '/kaggle/working/checkpoint/triplet/albedo/models/best_euclidean_acc_96.pth'\n"
     ]
    },
    {
     "name": "stdout",
     "output_type": "stream",
     "text": [
      "Epoch 97:\n",
      "\ttrain: loss: 0.3554 | auc_cos: 0.8764 | acc_cos: 0.7195 | auc_eu: 0.8757 | acc_eu: 0.7596\n",
      "\ttest: loss: 0.2224 | auc_cos: 0.8837 | acc_cos: 0.7426 | auc_eu: 0.8855 | acc_eu: 0.7834\n"
     ]
    },
    {
     "name": "stdout",
     "output_type": "stream",
     "text": [
      "\tSaving model and optimizer state to /kaggle/working/checkpoint/triplet/albedo/models/checkpoint.pth\n"
     ]
    },
    {
     "name": "stdout",
     "output_type": "stream",
     "text": [
      "\tSaved best model weights for 'cosine_auc' at epoch 97 to '/kaggle/working/checkpoint/triplet/albedo/models/best_cosine_auc_97.pth'\n",
      "\tEpoch 97: EarlyStopping counter for 'cosine_acc': 24/50\n",
      "\tEpoch 97: EarlyStopping counter for 'euclidean_auc': 32/50\n",
      "\tSaved best model weights for 'euclidean_acc' at epoch 97 to '/kaggle/working/checkpoint/triplet/albedo/models/best_euclidean_acc_97.pth'\n"
     ]
    },
    {
     "name": "stdout",
     "output_type": "stream",
     "text": [
      "Epoch 98:\n",
      "\ttrain: loss: 0.4432 | auc_cos: 0.8755 | acc_cos: 0.7901 | auc_eu: 0.8744 | acc_eu: 0.7824\n",
      "\ttest: loss: 0.2247 | auc_cos: 0.8806 | acc_cos: 0.7292 | auc_eu: 0.8806 | acc_eu: 0.7754\n"
     ]
    },
    {
     "name": "stdout",
     "output_type": "stream",
     "text": [
      "\tSaving model and optimizer state to /kaggle/working/checkpoint/triplet/albedo/models/checkpoint.pth\n",
      "\tEpoch 98: EarlyStopping counter for 'cosine_auc': 1/50\n",
      "\tEpoch 98: EarlyStopping counter for 'cosine_acc': 25/50\n",
      "\tEpoch 98: EarlyStopping counter for 'euclidean_auc': 33/50\n",
      "\tEpoch 98: EarlyStopping counter for 'euclidean_acc': 1/50\n"
     ]
    },
    {
     "name": "stdout",
     "output_type": "stream",
     "text": [
      "Epoch 99:\n",
      "\ttrain: loss: 0.4211 | auc_cos: 0.8758 | acc_cos: 0.7498 | auc_eu: 0.8751 | acc_eu: 0.7382\n",
      "\ttest: loss: 0.2254 | auc_cos: 0.8787 | acc_cos: 0.7269 | auc_eu: 0.8829 | acc_eu: 0.7758\n"
     ]
    },
    {
     "name": "stdout",
     "output_type": "stream",
     "text": [
      "\tSaving model and optimizer state to /kaggle/working/checkpoint/triplet/albedo/models/checkpoint.pth\n",
      "\tEpoch 99: EarlyStopping counter for 'cosine_auc': 2/50\n",
      "\tEpoch 99: EarlyStopping counter for 'cosine_acc': 26/50\n",
      "\tEpoch 99: EarlyStopping counter for 'euclidean_auc': 34/50\n",
      "\tEpoch 99: EarlyStopping counter for 'euclidean_acc': 2/50\n"
     ]
    },
    {
     "name": "stdout",
     "output_type": "stream",
     "text": [
      "Epoch 100:\n",
      "\ttrain: loss: 0.5696 | auc_cos: 0.8060 | acc_cos: 0.7802 | auc_eu: 0.8017 | acc_eu: 0.7122\n",
      "\ttest: loss: 0.3601 | auc_cos: 0.8213 | acc_cos: 0.8042 | auc_eu: 0.8239 | acc_eu: 0.8175\n"
     ]
    },
    {
     "name": "stdout",
     "output_type": "stream",
     "text": [
      "\tSaving model and optimizer state to /kaggle/working/checkpoint/triplet/albedo/models/checkpoint.pth\n",
      "\tEpoch 100: EarlyStopping counter for 'cosine_auc': 3/50\n",
      "\tEpoch 100: EarlyStopping counter for 'cosine_acc': 27/50\n",
      "\tEpoch 100: EarlyStopping counter for 'euclidean_auc': 35/50\n",
      "\tEpoch 100: EarlyStopping counter for 'euclidean_acc': 3/50\n"
     ]
    },
    {
     "name": "stdout",
     "output_type": "stream",
     "text": [
      "Epoch 101:\n",
      "\ttrain: loss: 0.7702 | auc_cos: 0.8173 | acc_cos: 0.6988 | auc_eu: 0.8098 | acc_eu: 0.7140\n",
      "\ttest: loss: 0.4702 | auc_cos: 0.8431 | acc_cos: 0.6827 | auc_eu: 0.8361 | acc_eu: 0.6952\n"
     ]
    },
    {
     "name": "stdout",
     "output_type": "stream",
     "text": [
      "\tSaving model and optimizer state to /kaggle/working/checkpoint/triplet/albedo/models/checkpoint.pth\n",
      "\tEpoch 101: EarlyStopping counter for 'cosine_auc': 4/50\n",
      "\tEpoch 101: EarlyStopping counter for 'cosine_acc': 28/50\n",
      "\tEpoch 101: EarlyStopping counter for 'euclidean_auc': 36/50\n",
      "\tEpoch 101: EarlyStopping counter for 'euclidean_acc': 4/50\n"
     ]
    },
    {
     "name": "stdout",
     "output_type": "stream",
     "text": [
      "Epoch 102:\n",
      "\ttrain: loss: 0.8958 | auc_cos: 0.7846 | acc_cos: 0.6543 | auc_eu: 0.7861 | acc_eu: 0.6537\n",
      "\ttest: loss: 0.4092 | auc_cos: 0.7885 | acc_cos: 0.7993 | auc_eu: 0.7945 | acc_eu: 0.8351\n"
     ]
    },
    {
     "name": "stdout",
     "output_type": "stream",
     "text": [
      "\tSaving model and optimizer state to /kaggle/working/checkpoint/triplet/albedo/models/checkpoint.pth\n",
      "\tEpoch 102: EarlyStopping counter for 'cosine_auc': 5/50\n",
      "\tEpoch 102: EarlyStopping counter for 'cosine_acc': 29/50\n",
      "\tSaved best model weights for 'euclidean_auc' at epoch 102 to '/kaggle/working/checkpoint/triplet/albedo/models/best_euclidean_auc_102.pth'\n",
      "\tEpoch 102: EarlyStopping counter for 'euclidean_acc': 5/50\n"
     ]
    },
    {
     "name": "stdout",
     "output_type": "stream",
     "text": [
      "Epoch 103:\n",
      "\ttrain: loss: 0.9802 | auc_cos: 0.7632 | acc_cos: 0.6403 | auc_eu: 0.7632 | acc_eu: 0.6721\n",
      "\ttest: loss: 0.4852 | auc_cos: 0.8068 | acc_cos: 0.7541 | auc_eu: 0.8059 | acc_eu: 0.8429\n"
     ]
    },
    {
     "name": "stdout",
     "output_type": "stream",
     "text": [
      "\tSaving model and optimizer state to /kaggle/working/checkpoint/triplet/albedo/models/checkpoint.pth\n",
      "\tEpoch 103: EarlyStopping counter for 'cosine_auc': 6/50\n",
      "\tEpoch 103: EarlyStopping counter for 'cosine_acc': 30/50\n",
      "\tSaved best model weights for 'euclidean_auc' at epoch 103 to '/kaggle/working/checkpoint/triplet/albedo/models/best_euclidean_auc_103.pth'\n",
      "\tEpoch 103: EarlyStopping counter for 'euclidean_acc': 6/50\n"
     ]
    },
    {
     "name": "stdout",
     "output_type": "stream",
     "text": [
      "Epoch 104:\n",
      "\ttrain: loss: 1.0788 | auc_cos: 0.8175 | acc_cos: 0.6931 | auc_eu: 0.8115 | acc_eu: 0.7182\n",
      "\ttest: loss: 0.4777 | auc_cos: 0.8446 | acc_cos: 0.7622 | auc_eu: 0.8388 | acc_eu: 0.7732\n"
     ]
    },
    {
     "name": "stdout",
     "output_type": "stream",
     "text": [
      "\tSaving model and optimizer state to /kaggle/working/checkpoint/triplet/albedo/models/checkpoint.pth\n",
      "\tEpoch 104: EarlyStopping counter for 'cosine_auc': 7/50\n",
      "\tEpoch 104: EarlyStopping counter for 'cosine_acc': 31/50\n",
      "\tEpoch 104: EarlyStopping counter for 'euclidean_auc': 1/50\n",
      "\tEpoch 104: EarlyStopping counter for 'euclidean_acc': 7/50\n"
     ]
    },
    {
     "name": "stdout",
     "output_type": "stream",
     "text": [
      "Epoch 105:\n",
      "\ttrain: loss: 1.0593 | auc_cos: 0.8080 | acc_cos: 0.7425 | auc_eu: 0.8058 | acc_eu: 0.7243\n",
      "\ttest: loss: 0.4129 | auc_cos: 0.8417 | acc_cos: 0.7005 | auc_eu: 0.8405 | acc_eu: 0.7404\n"
     ]
    },
    {
     "name": "stdout",
     "output_type": "stream",
     "text": [
      "\tSaving model and optimizer state to /kaggle/working/checkpoint/triplet/albedo/models/checkpoint.pth\n",
      "\tEpoch 105: EarlyStopping counter for 'cosine_auc': 8/50\n",
      "\tEpoch 105: EarlyStopping counter for 'cosine_acc': 32/50\n",
      "\tEpoch 105: EarlyStopping counter for 'euclidean_auc': 2/50\n",
      "\tEpoch 105: EarlyStopping counter for 'euclidean_acc': 8/50\n"
     ]
    },
    {
     "name": "stdout",
     "output_type": "stream",
     "text": [
      "Epoch 106:\n",
      "\ttrain: loss: 0.8497 | auc_cos: 0.8082 | acc_cos: 0.7120 | auc_eu: 0.8085 | acc_eu: 0.7113\n",
      "\ttest: loss: 0.4766 | auc_cos: 0.8399 | acc_cos: 0.7241 | auc_eu: 0.8360 | acc_eu: 0.7120\n"
     ]
    },
    {
     "name": "stdout",
     "output_type": "stream",
     "text": [
      "\tSaving model and optimizer state to /kaggle/working/checkpoint/triplet/albedo/models/checkpoint.pth\n",
      "\tEpoch 106: EarlyStopping counter for 'cosine_auc': 9/50\n",
      "\tEpoch 106: EarlyStopping counter for 'cosine_acc': 33/50\n",
      "\tEpoch 106: EarlyStopping counter for 'euclidean_auc': 3/50\n",
      "\tEpoch 106: EarlyStopping counter for 'euclidean_acc': 9/50\n"
     ]
    },
    {
     "name": "stdout",
     "output_type": "stream",
     "text": [
      "Epoch 107:\n",
      "\ttrain: loss: 0.7779 | auc_cos: 0.8431 | acc_cos: 0.7855 | auc_eu: 0.8427 | acc_eu: 0.7365\n",
      "\ttest: loss: 0.3294 | auc_cos: 0.8772 | acc_cos: 0.7620 | auc_eu: 0.8739 | acc_eu: 0.7750\n"
     ]
    },
    {
     "name": "stdout",
     "output_type": "stream",
     "text": [
      "\tSaving model and optimizer state to /kaggle/working/checkpoint/triplet/albedo/models/checkpoint.pth\n",
      "\tEpoch 107: EarlyStopping counter for 'cosine_auc': 10/50\n",
      "\tEpoch 107: EarlyStopping counter for 'cosine_acc': 34/50\n",
      "\tEpoch 107: EarlyStopping counter for 'euclidean_auc': 4/50\n",
      "\tEpoch 107: EarlyStopping counter for 'euclidean_acc': 10/50\n"
     ]
    },
    {
     "name": "stdout",
     "output_type": "stream",
     "text": [
      "Epoch 108:\n",
      "\ttrain: loss: 0.7038 | auc_cos: 0.8324 | acc_cos: 0.7332 | auc_eu: 0.8311 | acc_eu: 0.7067\n",
      "\ttest: loss: 0.3406 | auc_cos: 0.8747 | acc_cos: 0.8029 | auc_eu: 0.8704 | acc_eu: 0.7816\n"
     ]
    },
    {
     "name": "stdout",
     "output_type": "stream",
     "text": [
      "\tSaving model and optimizer state to /kaggle/working/checkpoint/triplet/albedo/models/checkpoint.pth\n",
      "\tEpoch 108: EarlyStopping counter for 'cosine_auc': 11/50\n",
      "\tEpoch 108: EarlyStopping counter for 'cosine_acc': 35/50\n",
      "\tEpoch 108: EarlyStopping counter for 'euclidean_auc': 5/50\n",
      "\tEpoch 108: EarlyStopping counter for 'euclidean_acc': 11/50\n"
     ]
    },
    {
     "name": "stdout",
     "output_type": "stream",
     "text": [
      "Epoch 109:\n",
      "\ttrain: loss: 0.6165 | auc_cos: 0.8469 | acc_cos: 0.7211 | auc_eu: 0.8456 | acc_eu: 0.7274\n",
      "\ttest: loss: 0.3018 | auc_cos: 0.8786 | acc_cos: 0.8410 | auc_eu: 0.8775 | acc_eu: 0.8153\n"
     ]
    },
    {
     "name": "stdout",
     "output_type": "stream",
     "text": [
      "\tSaving model and optimizer state to /kaggle/working/checkpoint/triplet/albedo/models/checkpoint.pth\n",
      "\tEpoch 109: EarlyStopping counter for 'cosine_auc': 12/50\n",
      "\tSaved best model weights for 'cosine_acc' at epoch 109 to '/kaggle/working/checkpoint/triplet/albedo/models/best_cosine_acc_109.pth'\n",
      "\tEpoch 109: EarlyStopping counter for 'euclidean_auc': 6/50\n",
      "\tEpoch 109: EarlyStopping counter for 'euclidean_acc': 12/50\n"
     ]
    },
    {
     "name": "stdout",
     "output_type": "stream",
     "text": [
      "Epoch 110:\n",
      "\ttrain: loss: 0.6057 | auc_cos: 0.8469 | acc_cos: 0.7247 | auc_eu: 0.8413 | acc_eu: 0.7186\n",
      "\ttest: loss: 0.3132 | auc_cos: 0.8762 | acc_cos: 0.7801 | auc_eu: 0.8753 | acc_eu: 0.7676\n"
     ]
    },
    {
     "name": "stdout",
     "output_type": "stream",
     "text": [
      "\tSaving model and optimizer state to /kaggle/working/checkpoint/triplet/albedo/models/checkpoint.pth\n",
      "\tEpoch 110: EarlyStopping counter for 'cosine_auc': 13/50\n",
      "\tEpoch 110: EarlyStopping counter for 'cosine_acc': 1/50\n",
      "\tEpoch 110: EarlyStopping counter for 'euclidean_auc': 7/50\n",
      "\tEpoch 110: EarlyStopping counter for 'euclidean_acc': 13/50\n"
     ]
    },
    {
     "name": "stdout",
     "output_type": "stream",
     "text": [
      "Epoch 111:\n",
      "\ttrain: loss: 0.5044 | auc_cos: 0.8634 | acc_cos: 0.7564 | auc_eu: 0.8615 | acc_eu: 0.7722\n",
      "\ttest: loss: 0.2851 | auc_cos: 0.9032 | acc_cos: 0.8033 | auc_eu: 0.9040 | acc_eu: 0.7530\n"
     ]
    },
    {
     "name": "stdout",
     "output_type": "stream",
     "text": [
      "\tSaving model and optimizer state to /kaggle/working/checkpoint/triplet/albedo/models/checkpoint.pth\n",
      "\tSaved best model weights for 'cosine_auc' at epoch 111 to '/kaggle/working/checkpoint/triplet/albedo/models/best_cosine_auc_111.pth'\n",
      "\tEpoch 111: EarlyStopping counter for 'cosine_acc': 2/50\n",
      "\tEpoch 111: EarlyStopping counter for 'euclidean_auc': 8/50\n"
     ]
    },
    {
     "name": "stdout",
     "output_type": "stream",
     "text": [
      "\tSaved best model weights for 'euclidean_acc' at epoch 111 to '/kaggle/working/checkpoint/triplet/albedo/models/best_euclidean_acc_111.pth'\n"
     ]
    },
    {
     "name": "stdout",
     "output_type": "stream",
     "text": [
      "Epoch 112:\n",
      "\ttrain: loss: 0.5317 | auc_cos: 0.8655 | acc_cos: 0.7626 | auc_eu: 0.8655 | acc_eu: 0.7105\n",
      "\ttest: loss: 0.2680 | auc_cos: 0.8982 | acc_cos: 0.8122 | auc_eu: 0.8950 | acc_eu: 0.7545\n"
     ]
    },
    {
     "name": "stdout",
     "output_type": "stream",
     "text": [
      "\tSaving model and optimizer state to /kaggle/working/checkpoint/triplet/albedo/models/checkpoint.pth\n",
      "\tEpoch 112: EarlyStopping counter for 'cosine_auc': 1/50\n",
      "\tEpoch 112: EarlyStopping counter for 'cosine_acc': 3/50\n",
      "\tEpoch 112: EarlyStopping counter for 'euclidean_auc': 9/50\n",
      "\tEpoch 112: EarlyStopping counter for 'euclidean_acc': 1/50\n"
     ]
    },
    {
     "name": "stdout",
     "output_type": "stream",
     "text": [
      "Epoch 113:\n",
      "\ttrain: loss: 0.4827 | auc_cos: 0.8581 | acc_cos: 0.6992 | auc_eu: 0.8545 | acc_eu: 0.7795\n",
      "\ttest: loss: 0.2660 | auc_cos: 0.8874 | acc_cos: 0.8110 | auc_eu: 0.8802 | acc_eu: 0.7410\n"
     ]
    },
    {
     "name": "stdout",
     "output_type": "stream",
     "text": [
      "\tSaving model and optimizer state to /kaggle/working/checkpoint/triplet/albedo/models/checkpoint.pth\n",
      "\tEpoch 113: EarlyStopping counter for 'cosine_auc': 2/50\n",
      "\tEpoch 113: EarlyStopping counter for 'cosine_acc': 4/50\n",
      "\tEpoch 113: EarlyStopping counter for 'euclidean_auc': 10/50\n",
      "\tEpoch 113: EarlyStopping counter for 'euclidean_acc': 2/50\n"
     ]
    },
    {
     "name": "stdout",
     "output_type": "stream",
     "text": [
      "Epoch 114:\n",
      "\ttrain: loss: 0.4779 | auc_cos: 0.8645 | acc_cos: 0.7897 | auc_eu: 0.8645 | acc_eu: 0.7885\n",
      "\ttest: loss: 0.2763 | auc_cos: 0.9037 | acc_cos: 0.7740 | auc_eu: 0.9023 | acc_eu: 0.8001\n"
     ]
    },
    {
     "name": "stdout",
     "output_type": "stream",
     "text": [
      "\tSaving model and optimizer state to /kaggle/working/checkpoint/triplet/albedo/models/checkpoint.pth\n",
      "\tSaved best model weights for 'cosine_auc' at epoch 114 to '/kaggle/working/checkpoint/triplet/albedo/models/best_cosine_auc_114.pth'\n",
      "\tEpoch 114: EarlyStopping counter for 'cosine_acc': 5/50\n",
      "\tEpoch 114: EarlyStopping counter for 'euclidean_auc': 11/50\n",
      "\tEpoch 114: EarlyStopping counter for 'euclidean_acc': 3/50\n"
     ]
    },
    {
     "name": "stdout",
     "output_type": "stream",
     "text": [
      "Epoch 115:\n",
      "\ttrain: loss: 0.4331 | auc_cos: 0.8697 | acc_cos: 0.7639 | auc_eu: 0.8681 | acc_eu: 0.7364\n",
      "\ttest: loss: 0.2498 | auc_cos: 0.8973 | acc_cos: 0.8449 | auc_eu: 0.8942 | acc_eu: 0.7546\n"
     ]
    },
    {
     "name": "stdout",
     "output_type": "stream",
     "text": [
      "\tSaving model and optimizer state to /kaggle/working/checkpoint/triplet/albedo/models/checkpoint.pth\n",
      "\tEpoch 115: EarlyStopping counter for 'cosine_auc': 1/50\n",
      "\tSaved best model weights for 'cosine_acc' at epoch 115 to '/kaggle/working/checkpoint/triplet/albedo/models/best_cosine_acc_115.pth'\n",
      "\tEpoch 115: EarlyStopping counter for 'euclidean_auc': 12/50\n",
      "\tEpoch 115: EarlyStopping counter for 'euclidean_acc': 4/50\n"
     ]
    },
    {
     "name": "stdout",
     "output_type": "stream",
     "text": [
      "Epoch 116:\n",
      "\ttrain: loss: 0.4381 | auc_cos: 0.8816 | acc_cos: 0.7625 | auc_eu: 0.8793 | acc_eu: 0.7105\n",
      "\ttest: loss: 0.2422 | auc_cos: 0.8942 | acc_cos: 0.7504 | auc_eu: 0.8879 | acc_eu: 0.8042\n"
     ]
    },
    {
     "name": "stdout",
     "output_type": "stream",
     "text": [
      "\tSaving model and optimizer state to /kaggle/working/checkpoint/triplet/albedo/models/checkpoint.pth\n",
      "\tEpoch 116: EarlyStopping counter for 'cosine_auc': 2/50\n",
      "\tEpoch 116: EarlyStopping counter for 'cosine_acc': 1/50\n",
      "\tEpoch 116: EarlyStopping counter for 'euclidean_auc': 13/50\n",
      "\tEpoch 116: EarlyStopping counter for 'euclidean_acc': 5/50\n"
     ]
    },
    {
     "name": "stdout",
     "output_type": "stream",
     "text": [
      "Epoch 117:\n",
      "\ttrain: loss: 0.4228 | auc_cos: 0.8848 | acc_cos: 0.7888 | auc_eu: 0.8848 | acc_eu: 0.7783\n",
      "\ttest: loss: 0.2289 | auc_cos: 0.9113 | acc_cos: 0.7982 | auc_eu: 0.9121 | acc_eu: 0.8203\n"
     ]
    },
    {
     "name": "stdout",
     "output_type": "stream",
     "text": [
      "\tSaving model and optimizer state to /kaggle/working/checkpoint/triplet/albedo/models/checkpoint.pth\n",
      "\tSaved best model weights for 'cosine_auc' at epoch 117 to '/kaggle/working/checkpoint/triplet/albedo/models/best_cosine_auc_117.pth'\n",
      "\tEpoch 117: EarlyStopping counter for 'cosine_acc': 2/50\n",
      "\tEpoch 117: EarlyStopping counter for 'euclidean_auc': 14/50\n"
     ]
    },
    {
     "name": "stdout",
     "output_type": "stream",
     "text": [
      "\tSaved best model weights for 'euclidean_acc' at epoch 117 to '/kaggle/working/checkpoint/triplet/albedo/models/best_euclidean_acc_117.pth'\n"
     ]
    },
    {
     "name": "stdout",
     "output_type": "stream",
     "text": [
      "Epoch 118:\n",
      "\ttrain: loss: 0.3638 | auc_cos: 0.8907 | acc_cos: 0.7418 | auc_eu: 0.8893 | acc_eu: 0.7439\n",
      "\ttest: loss: 0.2131 | auc_cos: 0.9136 | acc_cos: 0.8587 | auc_eu: 0.9105 | acc_eu: 0.8206\n"
     ]
    },
    {
     "name": "stdout",
     "output_type": "stream",
     "text": [
      "\tSaving model and optimizer state to /kaggle/working/checkpoint/triplet/albedo/models/checkpoint.pth\n"
     ]
    },
    {
     "name": "stdout",
     "output_type": "stream",
     "text": [
      "\tSaved best model weights for 'cosine_auc' at epoch 118 to '/kaggle/working/checkpoint/triplet/albedo/models/best_cosine_auc_118.pth'\n",
      "\tSaved best model weights for 'cosine_acc' at epoch 118 to '/kaggle/working/checkpoint/triplet/albedo/models/best_cosine_acc_118.pth'\n",
      "\tEpoch 118: EarlyStopping counter for 'euclidean_auc': 15/50\n",
      "\tEpoch 118: EarlyStopping counter for 'euclidean_acc': 1/50\n"
     ]
    },
    {
     "name": "stdout",
     "output_type": "stream",
     "text": [
      "Epoch 119:\n",
      "\ttrain: loss: 0.3527 | auc_cos: 0.8984 | acc_cos: 0.7941 | auc_eu: 0.8988 | acc_eu: 0.8102\n",
      "\ttest: loss: 0.1925 | auc_cos: 0.9102 | acc_cos: 0.8145 | auc_eu: 0.9159 | acc_eu: 0.7880\n"
     ]
    },
    {
     "name": "stdout",
     "output_type": "stream",
     "text": [
      "\tSaving model and optimizer state to /kaggle/working/checkpoint/triplet/albedo/models/checkpoint.pth\n",
      "\tEpoch 119: EarlyStopping counter for 'cosine_auc': 1/50\n",
      "\tEpoch 119: EarlyStopping counter for 'cosine_acc': 1/50\n",
      "\tEpoch 119: EarlyStopping counter for 'euclidean_auc': 16/50\n"
     ]
    },
    {
     "name": "stdout",
     "output_type": "stream",
     "text": [
      "\tSaved best model weights for 'euclidean_acc' at epoch 119 to '/kaggle/working/checkpoint/triplet/albedo/models/best_euclidean_acc_119.pth'\n"
     ]
    },
    {
     "name": "stdout",
     "output_type": "stream",
     "text": [
      "Epoch 120:\n",
      "\ttrain: loss: 0.3850 | auc_cos: 0.8853 | acc_cos: 0.7926 | auc_eu: 0.8872 | acc_eu: 0.7432\n",
      "\ttest: loss: 0.2320 | auc_cos: 0.9054 | acc_cos: 0.8210 | auc_eu: 0.9081 | acc_eu: 0.7917\n"
     ]
    },
    {
     "name": "stdout",
     "output_type": "stream",
     "text": [
      "\tSaving model and optimizer state to /kaggle/working/checkpoint/triplet/albedo/models/checkpoint.pth\n",
      "\tEpoch 120: EarlyStopping counter for 'cosine_auc': 2/50\n",
      "\tEpoch 120: EarlyStopping counter for 'cosine_acc': 2/50\n",
      "\tEpoch 120: EarlyStopping counter for 'euclidean_auc': 17/50\n",
      "\tEpoch 120: EarlyStopping counter for 'euclidean_acc': 1/50\n"
     ]
    },
    {
     "name": "stdout",
     "output_type": "stream",
     "text": [
      "Epoch 121:\n",
      "\ttrain: loss: 0.3484 | auc_cos: 0.8968 | acc_cos: 0.7784 | auc_eu: 0.8968 | acc_eu: 0.7747\n",
      "\ttest: loss: 0.1976 | auc_cos: 0.9030 | acc_cos: 0.8149 | auc_eu: 0.9060 | acc_eu: 0.8027\n"
     ]
    },
    {
     "name": "stdout",
     "output_type": "stream",
     "text": [
      "\tSaving model and optimizer state to /kaggle/working/checkpoint/triplet/albedo/models/checkpoint.pth\n",
      "\tEpoch 121: EarlyStopping counter for 'cosine_auc': 3/50\n",
      "\tEpoch 121: EarlyStopping counter for 'cosine_acc': 3/50\n",
      "\tEpoch 121: EarlyStopping counter for 'euclidean_auc': 18/50\n",
      "\tEpoch 121: EarlyStopping counter for 'euclidean_acc': 2/50\n"
     ]
    },
    {
     "name": "stdout",
     "output_type": "stream",
     "text": [
      "Epoch 122:\n",
      "\ttrain: loss: 0.3391 | auc_cos: 0.8826 | acc_cos: 0.7501 | auc_eu: 0.8901 | acc_eu: 0.7825\n",
      "\ttest: loss: 0.2163 | auc_cos: 0.9084 | acc_cos: 0.8261 | auc_eu: 0.9182 | acc_eu: 0.8690\n"
     ]
    },
    {
     "name": "stdout",
     "output_type": "stream",
     "text": [
      "\tSaving model and optimizer state to /kaggle/working/checkpoint/triplet/albedo/models/checkpoint.pth\n",
      "\tEpoch 122: EarlyStopping counter for 'cosine_auc': 4/50\n",
      "\tEpoch 122: EarlyStopping counter for 'cosine_acc': 4/50\n",
      "\tSaved best model weights for 'euclidean_auc' at epoch 122 to '/kaggle/working/checkpoint/triplet/albedo/models/best_euclidean_auc_122.pth'\n"
     ]
    },
    {
     "name": "stdout",
     "output_type": "stream",
     "text": [
      "\tSaved best model weights for 'euclidean_acc' at epoch 122 to '/kaggle/working/checkpoint/triplet/albedo/models/best_euclidean_acc_122.pth'\n"
     ]
    },
    {
     "name": "stdout",
     "output_type": "stream",
     "text": [
      "Epoch 123:\n",
      "\ttrain: loss: 0.3448 | auc_cos: 0.9000 | acc_cos: 0.7914 | auc_eu: 0.9067 | acc_eu: 0.7935\n",
      "\ttest: loss: 0.1966 | auc_cos: 0.9054 | acc_cos: 0.8083 | auc_eu: 0.9154 | acc_eu: 0.8562\n"
     ]
    },
    {
     "name": "stdout",
     "output_type": "stream",
     "text": [
      "\tSaving model and optimizer state to /kaggle/working/checkpoint/triplet/albedo/models/checkpoint.pth\n",
      "\tEpoch 123: EarlyStopping counter for 'cosine_auc': 5/50\n",
      "\tEpoch 123: EarlyStopping counter for 'cosine_acc': 5/50\n",
      "\tEpoch 123: EarlyStopping counter for 'euclidean_auc': 1/50\n",
      "\tEpoch 123: EarlyStopping counter for 'euclidean_acc': 1/50\n"
     ]
    },
    {
     "name": "stdout",
     "output_type": "stream",
     "text": [
      "Epoch 124:\n",
      "\ttrain: loss: 0.3003 | auc_cos: 0.9045 | acc_cos: 0.7851 | auc_eu: 0.9102 | acc_eu: 0.7711\n",
      "\ttest: loss: 0.1843 | auc_cos: 0.9121 | acc_cos: 0.8133 | auc_eu: 0.9141 | acc_eu: 0.8133\n"
     ]
    },
    {
     "name": "stdout",
     "output_type": "stream",
     "text": [
      "\tSaving model and optimizer state to /kaggle/working/checkpoint/triplet/albedo/models/checkpoint.pth\n",
      "\tEpoch 124: EarlyStopping counter for 'cosine_auc': 6/50\n",
      "\tEpoch 124: EarlyStopping counter for 'cosine_acc': 6/50\n",
      "\tEpoch 124: EarlyStopping counter for 'euclidean_auc': 2/50\n",
      "\tEpoch 124: EarlyStopping counter for 'euclidean_acc': 2/50\n"
     ]
    },
    {
     "name": "stdout",
     "output_type": "stream",
     "text": [
      "Epoch 125:\n",
      "\ttrain: loss: 0.2982 | auc_cos: 0.9033 | acc_cos: 0.7828 | auc_eu: 0.9096 | acc_eu: 0.7980\n",
      "\ttest: loss: 0.1741 | auc_cos: 0.9065 | acc_cos: 0.8904 | auc_eu: 0.9159 | acc_eu: 0.7919\n"
     ]
    },
    {
     "name": "stdout",
     "output_type": "stream",
     "text": [
      "\tSaving model and optimizer state to /kaggle/working/checkpoint/triplet/albedo/models/checkpoint.pth\n",
      "\tEpoch 125: EarlyStopping counter for 'cosine_auc': 7/50\n"
     ]
    },
    {
     "name": "stdout",
     "output_type": "stream",
     "text": [
      "\tSaved best model weights for 'cosine_acc' at epoch 125 to '/kaggle/working/checkpoint/triplet/albedo/models/best_cosine_acc_125.pth'\n",
      "\tEpoch 125: EarlyStopping counter for 'euclidean_auc': 3/50\n",
      "\tEpoch 125: EarlyStopping counter for 'euclidean_acc': 3/50\n"
     ]
    },
    {
     "name": "stdout",
     "output_type": "stream",
     "text": [
      "Epoch 126:\n",
      "\ttrain: loss: 0.2776 | auc_cos: 0.9111 | acc_cos: 0.7785 | auc_eu: 0.9154 | acc_eu: 0.8015\n",
      "\ttest: loss: 0.1670 | auc_cos: 0.9182 | acc_cos: 0.8441 | auc_eu: 0.9211 | acc_eu: 0.7720\n"
     ]
    },
    {
     "name": "stdout",
     "output_type": "stream",
     "text": [
      "\tSaving model and optimizer state to /kaggle/working/checkpoint/triplet/albedo/models/checkpoint.pth\n"
     ]
    },
    {
     "name": "stdout",
     "output_type": "stream",
     "text": [
      "\tSaved best model weights for 'cosine_auc' at epoch 126 to '/kaggle/working/checkpoint/triplet/albedo/models/best_cosine_auc_126.pth'\n",
      "\tEpoch 126: EarlyStopping counter for 'cosine_acc': 1/50\n",
      "\tEpoch 126: EarlyStopping counter for 'euclidean_auc': 4/50\n",
      "\tSaved best model weights for 'euclidean_acc' at epoch 126 to '/kaggle/working/checkpoint/triplet/albedo/models/best_euclidean_acc_126.pth'\n"
     ]
    },
    {
     "name": "stdout",
     "output_type": "stream",
     "text": [
      "Epoch 127:\n",
      "\ttrain: loss: 0.2694 | auc_cos: 0.9032 | acc_cos: 0.7905 | auc_eu: 0.9106 | acc_eu: 0.8032\n",
      "\ttest: loss: 0.1656 | auc_cos: 0.9092 | acc_cos: 0.7618 | auc_eu: 0.9218 | acc_eu: 0.8138\n"
     ]
    },
    {
     "name": "stdout",
     "output_type": "stream",
     "text": [
      "\tSaving model and optimizer state to /kaggle/working/checkpoint/triplet/albedo/models/checkpoint.pth\n",
      "\tEpoch 127: EarlyStopping counter for 'cosine_auc': 1/50\n",
      "\tEpoch 127: EarlyStopping counter for 'cosine_acc': 2/50\n",
      "\tEpoch 127: EarlyStopping counter for 'euclidean_auc': 5/50\n"
     ]
    },
    {
     "name": "stdout",
     "output_type": "stream",
     "text": [
      "\tSaved best model weights for 'euclidean_acc' at epoch 127 to '/kaggle/working/checkpoint/triplet/albedo/models/best_euclidean_acc_127.pth'\n"
     ]
    },
    {
     "name": "stdout",
     "output_type": "stream",
     "text": [
      "Epoch 128:\n",
      "\ttrain: loss: 0.2685 | auc_cos: 0.9134 | acc_cos: 0.7764 | auc_eu: 0.9149 | acc_eu: 0.7536\n",
      "\ttest: loss: 0.1538 | auc_cos: 0.9050 | acc_cos: 0.8650 | auc_eu: 0.9100 | acc_eu: 0.8065\n"
     ]
    },
    {
     "name": "stdout",
     "output_type": "stream",
     "text": [
      "\tSaving model and optimizer state to /kaggle/working/checkpoint/triplet/albedo/models/checkpoint.pth\n",
      "\tEpoch 128: EarlyStopping counter for 'cosine_auc': 2/50\n",
      "\tEpoch 128: EarlyStopping counter for 'cosine_acc': 3/50\n",
      "\tEpoch 128: EarlyStopping counter for 'euclidean_auc': 6/50\n",
      "\tEpoch 128: EarlyStopping counter for 'euclidean_acc': 1/50\n"
     ]
    },
    {
     "name": "stdout",
     "output_type": "stream",
     "text": [
      "Epoch 129:\n",
      "\ttrain: loss: 0.2612 | auc_cos: 0.9121 | acc_cos: 0.8168 | auc_eu: 0.9120 | acc_eu: 0.7779\n",
      "\ttest: loss: 0.1547 | auc_cos: 0.9137 | acc_cos: 0.9234 | auc_eu: 0.9181 | acc_eu: 0.7702\n"
     ]
    },
    {
     "name": "stdout",
     "output_type": "stream",
     "text": [
      "\tSaving model and optimizer state to /kaggle/working/checkpoint/triplet/albedo/models/checkpoint.pth\n",
      "\tEpoch 129: EarlyStopping counter for 'cosine_auc': 3/50\n",
      "\tSaved best model weights for 'cosine_acc' at epoch 129 to '/kaggle/working/checkpoint/triplet/albedo/models/best_cosine_acc_129.pth'\n",
      "\tEpoch 129: EarlyStopping counter for 'euclidean_auc': 7/50\n",
      "\tEpoch 129: EarlyStopping counter for 'euclidean_acc': 2/50\n"
     ]
    },
    {
     "name": "stdout",
     "output_type": "stream",
     "text": [
      "Epoch 130:\n",
      "\ttrain: loss: 0.2633 | auc_cos: 0.9101 | acc_cos: 0.7999 | auc_eu: 0.9173 | acc_eu: 0.7888\n",
      "\ttest: loss: 0.1569 | auc_cos: 0.9105 | acc_cos: 0.8880 | auc_eu: 0.9206 | acc_eu: 0.7702\n"
     ]
    },
    {
     "name": "stdout",
     "output_type": "stream",
     "text": [
      "\tSaving model and optimizer state to /kaggle/working/checkpoint/triplet/albedo/models/checkpoint.pth\n",
      "\tEpoch 130: EarlyStopping counter for 'cosine_auc': 4/50\n",
      "\tEpoch 130: EarlyStopping counter for 'cosine_acc': 1/50\n",
      "\tEpoch 130: EarlyStopping counter for 'euclidean_auc': 8/50\n",
      "\tEpoch 130: EarlyStopping counter for 'euclidean_acc': 3/50\n"
     ]
    },
    {
     "name": "stdout",
     "output_type": "stream",
     "text": [
      "Epoch 131:\n",
      "\ttrain: loss: 0.2825 | auc_cos: 0.9186 | acc_cos: 0.8000 | auc_eu: 0.9213 | acc_eu: 0.8140\n",
      "\ttest: loss: 0.1382 | auc_cos: 0.9173 | acc_cos: 0.8727 | auc_eu: 0.9179 | acc_eu: 0.8639\n"
     ]
    },
    {
     "name": "stdout",
     "output_type": "stream",
     "text": [
      "\tSaving model and optimizer state to /kaggle/working/checkpoint/triplet/albedo/models/checkpoint.pth\n",
      "\tEpoch 131: EarlyStopping counter for 'cosine_auc': 5/50\n",
      "\tEpoch 131: EarlyStopping counter for 'cosine_acc': 2/50\n",
      "\tEpoch 131: EarlyStopping counter for 'euclidean_auc': 9/50\n",
      "\tEpoch 131: EarlyStopping counter for 'euclidean_acc': 4/50\n"
     ]
    },
    {
     "name": "stdout",
     "output_type": "stream",
     "text": [
      "Epoch 132:\n",
      "\ttrain: loss: 0.2801 | auc_cos: 0.9210 | acc_cos: 0.8236 | auc_eu: 0.9271 | acc_eu: 0.8071\n",
      "\ttest: loss: 0.1356 | auc_cos: 0.9245 | acc_cos: 0.8235 | auc_eu: 0.9271 | acc_eu: 0.8210\n"
     ]
    },
    {
     "name": "stdout",
     "output_type": "stream",
     "text": [
      "\tSaving model and optimizer state to /kaggle/working/checkpoint/triplet/albedo/models/checkpoint.pth\n"
     ]
    },
    {
     "name": "stdout",
     "output_type": "stream",
     "text": [
      "\tSaved best model weights for 'cosine_auc' at epoch 132 to '/kaggle/working/checkpoint/triplet/albedo/models/best_cosine_auc_132.pth'\n",
      "\tEpoch 132: EarlyStopping counter for 'cosine_acc': 3/50\n",
      "\tEpoch 132: EarlyStopping counter for 'euclidean_auc': 10/50\n",
      "\tSaved best model weights for 'euclidean_acc' at epoch 132 to '/kaggle/working/checkpoint/triplet/albedo/models/best_euclidean_acc_132.pth'\n"
     ]
    },
    {
     "name": "stdout",
     "output_type": "stream",
     "text": [
      "Epoch 133:\n",
      "\ttrain: loss: 0.2475 | auc_cos: 0.9192 | acc_cos: 0.8263 | auc_eu: 0.9247 | acc_eu: 0.7951\n",
      "\ttest: loss: 0.1420 | auc_cos: 0.9120 | acc_cos: 0.8413 | auc_eu: 0.9195 | acc_eu: 0.8445\n"
     ]
    },
    {
     "name": "stdout",
     "output_type": "stream",
     "text": [
      "\tSaving model and optimizer state to /kaggle/working/checkpoint/triplet/albedo/models/checkpoint.pth\n",
      "\tEpoch 133: EarlyStopping counter for 'cosine_auc': 1/50\n",
      "\tEpoch 133: EarlyStopping counter for 'cosine_acc': 4/50\n",
      "\tEpoch 133: EarlyStopping counter for 'euclidean_auc': 11/50\n",
      "\tEpoch 133: EarlyStopping counter for 'euclidean_acc': 1/50\n"
     ]
    },
    {
     "name": "stdout",
     "output_type": "stream",
     "text": [
      "Epoch 134:\n",
      "\ttrain: loss: 0.2257 | auc_cos: 0.9154 | acc_cos: 0.8052 | auc_eu: 0.9199 | acc_eu: 0.7726\n",
      "\ttest: loss: 0.1360 | auc_cos: 0.9120 | acc_cos: 0.8822 | auc_eu: 0.9152 | acc_eu: 0.8022\n"
     ]
    },
    {
     "name": "stdout",
     "output_type": "stream",
     "text": [
      "\tSaving model and optimizer state to /kaggle/working/checkpoint/triplet/albedo/models/checkpoint.pth\n",
      "\tEpoch 134: EarlyStopping counter for 'cosine_auc': 2/50\n",
      "\tEpoch 134: EarlyStopping counter for 'cosine_acc': 5/50\n",
      "\tEpoch 134: EarlyStopping counter for 'euclidean_auc': 12/50\n",
      "\tEpoch 134: EarlyStopping counter for 'euclidean_acc': 2/50\n"
     ]
    },
    {
     "name": "stdout",
     "output_type": "stream",
     "text": [
      "Epoch 135:\n",
      "\ttrain: loss: 0.2322 | auc_cos: 0.9210 | acc_cos: 0.8079 | auc_eu: 0.9277 | acc_eu: 0.7957\n",
      "\ttest: loss: 0.1338 | auc_cos: 0.9269 | acc_cos: 0.8039 | auc_eu: 0.9272 | acc_eu: 0.7901\n"
     ]
    },
    {
     "name": "stdout",
     "output_type": "stream",
     "text": [
      "\tSaving model and optimizer state to /kaggle/working/checkpoint/triplet/albedo/models/checkpoint.pth\n"
     ]
    },
    {
     "name": "stdout",
     "output_type": "stream",
     "text": [
      "\tSaved best model weights for 'cosine_auc' at epoch 135 to '/kaggle/working/checkpoint/triplet/albedo/models/best_cosine_auc_135.pth'\n",
      "\tEpoch 135: EarlyStopping counter for 'cosine_acc': 6/50\n",
      "\tEpoch 135: EarlyStopping counter for 'euclidean_auc': 13/50\n",
      "\tSaved best model weights for 'euclidean_acc' at epoch 135 to '/kaggle/working/checkpoint/triplet/albedo/models/best_euclidean_acc_135.pth'\n"
     ]
    },
    {
     "name": "stdout",
     "output_type": "stream",
     "text": [
      "Epoch 136:\n",
      "\ttrain: loss: 0.2278 | auc_cos: 0.9240 | acc_cos: 0.8266 | auc_eu: 0.9306 | acc_eu: 0.8337\n",
      "\ttest: loss: 0.1245 | auc_cos: 0.9279 | acc_cos: 0.8114 | auc_eu: 0.9287 | acc_eu: 0.8002\n"
     ]
    },
    {
     "name": "stdout",
     "output_type": "stream",
     "text": [
      "\tSaving model and optimizer state to /kaggle/working/checkpoint/triplet/albedo/models/checkpoint.pth\n"
     ]
    },
    {
     "name": "stdout",
     "output_type": "stream",
     "text": [
      "\tSaved best model weights for 'cosine_auc' at epoch 136 to '/kaggle/working/checkpoint/triplet/albedo/models/best_cosine_auc_136.pth'\n",
      "\tEpoch 136: EarlyStopping counter for 'cosine_acc': 7/50\n",
      "\tEpoch 136: EarlyStopping counter for 'euclidean_auc': 14/50\n",
      "\tSaved best model weights for 'euclidean_acc' at epoch 136 to '/kaggle/working/checkpoint/triplet/albedo/models/best_euclidean_acc_136.pth'\n"
     ]
    },
    {
     "name": "stdout",
     "output_type": "stream",
     "text": [
      "Epoch 137:\n",
      "\ttrain: loss: 0.2362 | auc_cos: 0.9306 | acc_cos: 0.8025 | auc_eu: 0.9364 | acc_eu: 0.8261\n",
      "\ttest: loss: 0.1248 | auc_cos: 0.9289 | acc_cos: 0.8959 | auc_eu: 0.9299 | acc_eu: 0.7896\n"
     ]
    },
    {
     "name": "stdout",
     "output_type": "stream",
     "text": [
      "\tSaving model and optimizer state to /kaggle/working/checkpoint/triplet/albedo/models/checkpoint.pth\n",
      "\tSaved best model weights for 'cosine_auc' at epoch 137 to '/kaggle/working/checkpoint/triplet/albedo/models/best_cosine_auc_137.pth'\n",
      "\tEpoch 137: EarlyStopping counter for 'cosine_acc': 8/50\n",
      "\tEpoch 137: EarlyStopping counter for 'euclidean_auc': 15/50\n"
     ]
    },
    {
     "name": "stdout",
     "output_type": "stream",
     "text": [
      "\tSaved best model weights for 'euclidean_acc' at epoch 137 to '/kaggle/working/checkpoint/triplet/albedo/models/best_euclidean_acc_137.pth'\n"
     ]
    },
    {
     "name": "stdout",
     "output_type": "stream",
     "text": [
      "Epoch 138:\n",
      "\ttrain: loss: 0.2134 | auc_cos: 0.9287 | acc_cos: 0.8304 | auc_eu: 0.9338 | acc_eu: 0.8309\n",
      "\ttest: loss: 0.1281 | auc_cos: 0.9292 | acc_cos: 0.8443 | auc_eu: 0.9307 | acc_eu: 0.8279\n"
     ]
    },
    {
     "name": "stdout",
     "output_type": "stream",
     "text": [
      "\tSaving model and optimizer state to /kaggle/working/checkpoint/triplet/albedo/models/checkpoint.pth\n",
      "\tSaved best model weights for 'cosine_auc' at epoch 138 to '/kaggle/working/checkpoint/triplet/albedo/models/best_cosine_auc_138.pth'\n",
      "\tEpoch 138: EarlyStopping counter for 'cosine_acc': 9/50\n",
      "\tEpoch 138: EarlyStopping counter for 'euclidean_auc': 16/50\n"
     ]
    },
    {
     "name": "stdout",
     "output_type": "stream",
     "text": [
      "\tSaved best model weights for 'euclidean_acc' at epoch 138 to '/kaggle/working/checkpoint/triplet/albedo/models/best_euclidean_acc_138.pth'\n"
     ]
    },
    {
     "name": "stdout",
     "output_type": "stream",
     "text": [
      "Epoch 139:\n",
      "\ttrain: loss: 0.2527 | auc_cos: 0.9257 | acc_cos: 0.8371 | auc_eu: 0.9308 | acc_eu: 0.8110\n",
      "\ttest: loss: 0.1243 | auc_cos: 0.9292 | acc_cos: 0.8462 | auc_eu: 0.9324 | acc_eu: 0.8214\n"
     ]
    },
    {
     "name": "stdout",
     "output_type": "stream",
     "text": [
      "\tSaving model and optimizer state to /kaggle/working/checkpoint/triplet/albedo/models/checkpoint.pth\n",
      "\tEpoch 139: EarlyStopping counter for 'cosine_auc': 1/50\n",
      "\tEpoch 139: EarlyStopping counter for 'cosine_acc': 10/50\n",
      "\tEpoch 139: EarlyStopping counter for 'euclidean_auc': 17/50\n"
     ]
    },
    {
     "name": "stdout",
     "output_type": "stream",
     "text": [
      "\tSaved best model weights for 'euclidean_acc' at epoch 139 to '/kaggle/working/checkpoint/triplet/albedo/models/best_euclidean_acc_139.pth'\n"
     ]
    },
    {
     "name": "stdout",
     "output_type": "stream",
     "text": [
      "Epoch 140:\n",
      "\ttrain: loss: 0.2136 | auc_cos: 0.9219 | acc_cos: 0.8444 | auc_eu: 0.9285 | acc_eu: 0.8034\n",
      "\ttest: loss: 0.1273 | auc_cos: 0.9299 | acc_cos: 0.8629 | auc_eu: 0.9321 | acc_eu: 0.8201\n"
     ]
    },
    {
     "name": "stdout",
     "output_type": "stream",
     "text": [
      "\tSaving model and optimizer state to /kaggle/working/checkpoint/triplet/albedo/models/checkpoint.pth\n",
      "\tSaved best model weights for 'cosine_auc' at epoch 140 to '/kaggle/working/checkpoint/triplet/albedo/models/best_cosine_auc_140.pth'\n",
      "\tEpoch 140: EarlyStopping counter for 'cosine_acc': 11/50\n",
      "\tEpoch 140: EarlyStopping counter for 'euclidean_auc': 18/50\n",
      "\tEpoch 140: EarlyStopping counter for 'euclidean_acc': 1/50\n"
     ]
    },
    {
     "name": "stdout",
     "output_type": "stream",
     "text": [
      "Epoch 141:\n",
      "\ttrain: loss: 0.2425 | auc_cos: 0.9277 | acc_cos: 0.8131 | auc_eu: 0.9351 | acc_eu: 0.8053\n",
      "\ttest: loss: 0.1242 | auc_cos: 0.9285 | acc_cos: 0.8323 | auc_eu: 0.9358 | acc_eu: 0.8339\n"
     ]
    },
    {
     "name": "stdout",
     "output_type": "stream",
     "text": [
      "\tSaving model and optimizer state to /kaggle/working/checkpoint/triplet/albedo/models/checkpoint.pth\n",
      "\tEpoch 141: EarlyStopping counter for 'cosine_auc': 1/50\n",
      "\tEpoch 141: EarlyStopping counter for 'cosine_acc': 12/50\n",
      "\tEpoch 141: EarlyStopping counter for 'euclidean_auc': 19/50\n"
     ]
    },
    {
     "name": "stdout",
     "output_type": "stream",
     "text": [
      "\tSaved best model weights for 'euclidean_acc' at epoch 141 to '/kaggle/working/checkpoint/triplet/albedo/models/best_euclidean_acc_141.pth'\n"
     ]
    },
    {
     "name": "stdout",
     "output_type": "stream",
     "text": [
      "Epoch 142:\n",
      "\ttrain: loss: 0.1987 | auc_cos: 0.9276 | acc_cos: 0.8416 | auc_eu: 0.9361 | acc_eu: 0.8274\n",
      "\ttest: loss: 0.1184 | auc_cos: 0.9295 | acc_cos: 0.8474 | auc_eu: 0.9372 | acc_eu: 0.8461\n"
     ]
    },
    {
     "name": "stdout",
     "output_type": "stream",
     "text": [
      "\tSaving model and optimizer state to /kaggle/working/checkpoint/triplet/albedo/models/checkpoint.pth\n",
      "\tEpoch 142: EarlyStopping counter for 'cosine_auc': 2/50\n",
      "\tEpoch 142: EarlyStopping counter for 'cosine_acc': 13/50\n",
      "\tEpoch 142: EarlyStopping counter for 'euclidean_auc': 20/50\n"
     ]
    },
    {
     "name": "stdout",
     "output_type": "stream",
     "text": [
      "\tSaved best model weights for 'euclidean_acc' at epoch 142 to '/kaggle/working/checkpoint/triplet/albedo/models/best_euclidean_acc_142.pth'\n"
     ]
    },
    {
     "name": "stdout",
     "output_type": "stream",
     "text": [
      "Epoch 143:\n",
      "\ttrain: loss: 0.2227 | auc_cos: 0.9306 | acc_cos: 0.8480 | auc_eu: 0.9388 | acc_eu: 0.8298\n",
      "\ttest: loss: 0.1148 | auc_cos: 0.9306 | acc_cos: 0.8718 | auc_eu: 0.9374 | acc_eu: 0.8571\n"
     ]
    },
    {
     "name": "stdout",
     "output_type": "stream",
     "text": [
      "\tSaving model and optimizer state to /kaggle/working/checkpoint/triplet/albedo/models/checkpoint.pth\n"
     ]
    },
    {
     "name": "stdout",
     "output_type": "stream",
     "text": [
      "\tSaved best model weights for 'cosine_auc' at epoch 143 to '/kaggle/working/checkpoint/triplet/albedo/models/best_cosine_auc_143.pth'\n",
      "\tEpoch 143: EarlyStopping counter for 'cosine_acc': 14/50\n",
      "\tEpoch 143: EarlyStopping counter for 'euclidean_auc': 21/50\n",
      "\tSaved best model weights for 'euclidean_acc' at epoch 143 to '/kaggle/working/checkpoint/triplet/albedo/models/best_euclidean_acc_143.pth'\n"
     ]
    },
    {
     "name": "stdout",
     "output_type": "stream",
     "text": [
      "Epoch 144:\n",
      "\ttrain: loss: 0.1630 | auc_cos: 0.9299 | acc_cos: 0.8153 | auc_eu: 0.9387 | acc_eu: 0.8384\n",
      "\ttest: loss: 0.1115 | auc_cos: 0.9251 | acc_cos: 0.7901 | auc_eu: 0.9345 | acc_eu: 0.8478\n"
     ]
    },
    {
     "name": "stdout",
     "output_type": "stream",
     "text": [
      "\tSaving model and optimizer state to /kaggle/working/checkpoint/triplet/albedo/models/checkpoint.pth\n",
      "\tEpoch 144: EarlyStopping counter for 'cosine_auc': 1/50\n",
      "\tEpoch 144: EarlyStopping counter for 'cosine_acc': 15/50\n",
      "\tEpoch 144: EarlyStopping counter for 'euclidean_auc': 22/50\n",
      "\tEpoch 144: EarlyStopping counter for 'euclidean_acc': 1/50\n"
     ]
    },
    {
     "name": "stdout",
     "output_type": "stream",
     "text": [
      "Epoch 145:\n",
      "\ttrain: loss: 0.2080 | auc_cos: 0.9329 | acc_cos: 0.8235 | auc_eu: 0.9415 | acc_eu: 0.8455\n",
      "\ttest: loss: 0.1115 | auc_cos: 0.9270 | acc_cos: 0.8147 | auc_eu: 0.9343 | acc_eu: 0.8446\n"
     ]
    },
    {
     "name": "stdout",
     "output_type": "stream",
     "text": [
      "\tSaving model and optimizer state to /kaggle/working/checkpoint/triplet/albedo/models/checkpoint.pth\n",
      "\tEpoch 145: EarlyStopping counter for 'cosine_auc': 2/50\n",
      "\tEpoch 145: EarlyStopping counter for 'cosine_acc': 16/50\n",
      "\tEpoch 145: EarlyStopping counter for 'euclidean_auc': 23/50\n",
      "\tEpoch 145: EarlyStopping counter for 'euclidean_acc': 2/50\n"
     ]
    },
    {
     "name": "stdout",
     "output_type": "stream",
     "text": [
      "Epoch 146:\n",
      "\ttrain: loss: 0.2065 | auc_cos: 0.9283 | acc_cos: 0.8047 | auc_eu: 0.9362 | acc_eu: 0.8044\n",
      "\ttest: loss: 0.1122 | auc_cos: 0.9251 | acc_cos: 0.8409 | auc_eu: 0.9315 | acc_eu: 0.8451\n"
     ]
    },
    {
     "name": "stdout",
     "output_type": "stream",
     "text": [
      "\tSaving model and optimizer state to /kaggle/working/checkpoint/triplet/albedo/models/checkpoint.pth\n",
      "\tEpoch 146: EarlyStopping counter for 'cosine_auc': 3/50\n",
      "\tEpoch 146: EarlyStopping counter for 'cosine_acc': 17/50\n",
      "\tEpoch 146: EarlyStopping counter for 'euclidean_auc': 24/50\n",
      "\tEpoch 146: EarlyStopping counter for 'euclidean_acc': 3/50\n"
     ]
    },
    {
     "name": "stdout",
     "output_type": "stream",
     "text": [
      "Epoch 147:\n",
      "\ttrain: loss: 0.1755 | auc_cos: 0.9311 | acc_cos: 0.8023 | auc_eu: 0.9403 | acc_eu: 0.8274\n",
      "\ttest: loss: 0.1090 | auc_cos: 0.9277 | acc_cos: 0.8422 | auc_eu: 0.9326 | acc_eu: 0.8382\n"
     ]
    },
    {
     "name": "stdout",
     "output_type": "stream",
     "text": [
      "\tSaving model and optimizer state to /kaggle/working/checkpoint/triplet/albedo/models/checkpoint.pth\n",
      "\tEpoch 147: EarlyStopping counter for 'cosine_auc': 4/50\n",
      "\tEpoch 147: EarlyStopping counter for 'cosine_acc': 18/50\n",
      "\tEpoch 147: EarlyStopping counter for 'euclidean_auc': 25/50\n",
      "\tEpoch 147: EarlyStopping counter for 'euclidean_acc': 4/50\n"
     ]
    },
    {
     "name": "stdout",
     "output_type": "stream",
     "text": [
      "Epoch 148:\n",
      "\ttrain: loss: 0.2273 | auc_cos: 0.9345 | acc_cos: 0.8242 | auc_eu: 0.9403 | acc_eu: 0.8289\n",
      "\ttest: loss: 0.1087 | auc_cos: 0.9275 | acc_cos: 0.8241 | auc_eu: 0.9325 | acc_eu: 0.8211\n"
     ]
    },
    {
     "name": "stdout",
     "output_type": "stream",
     "text": [
      "\tSaving model and optimizer state to /kaggle/working/checkpoint/triplet/albedo/models/checkpoint.pth\n",
      "\tEpoch 148: EarlyStopping counter for 'cosine_auc': 5/50\n",
      "\tEpoch 148: EarlyStopping counter for 'cosine_acc': 19/50\n",
      "\tEpoch 148: EarlyStopping counter for 'euclidean_auc': 26/50\n",
      "\tEpoch 148: EarlyStopping counter for 'euclidean_acc': 5/50\n"
     ]
    },
    {
     "name": "stdout",
     "output_type": "stream",
     "text": [
      "Epoch 149:\n",
      "\ttrain: loss: 0.2257 | auc_cos: 0.9326 | acc_cos: 0.8460 | auc_eu: 0.9417 | acc_eu: 0.8381\n",
      "\ttest: loss: 0.1083 | auc_cos: 0.9285 | acc_cos: 0.8239 | auc_eu: 0.9347 | acc_eu: 0.8167\n"
     ]
    },
    {
     "name": "stdout",
     "output_type": "stream",
     "text": [
      "\tSaving model and optimizer state to /kaggle/working/checkpoint/triplet/albedo/models/checkpoint.pth\n",
      "\tEpoch 149: EarlyStopping counter for 'cosine_auc': 6/50\n",
      "\tEpoch 149: EarlyStopping counter for 'cosine_acc': 20/50\n",
      "\tEpoch 149: EarlyStopping counter for 'euclidean_auc': 27/50\n",
      "\tEpoch 149: EarlyStopping counter for 'euclidean_acc': 6/50\n"
     ]
    },
    {
     "name": "stdout",
     "output_type": "stream",
     "text": [
      "Epoch 150:\n",
      "\ttrain: loss: 0.3372 | auc_cos: 0.8719 | acc_cos: 0.7800 | auc_eu: 0.8679 | acc_eu: 0.7604\n",
      "\ttest: loss: 0.2507 | auc_cos: 0.8789 | acc_cos: 0.7918 | auc_eu: 0.8797 | acc_eu: 0.8018\n"
     ]
    },
    {
     "name": "stdout",
     "output_type": "stream",
     "text": [
      "\tSaving model and optimizer state to /kaggle/working/checkpoint/triplet/albedo/models/checkpoint.pth\n",
      "\tEpoch 150: EarlyStopping counter for 'cosine_auc': 7/50\n",
      "\tEpoch 150: EarlyStopping counter for 'cosine_acc': 21/50\n",
      "\tEpoch 150: EarlyStopping counter for 'euclidean_auc': 28/50\n",
      "\tEpoch 150: EarlyStopping counter for 'euclidean_acc': 7/50\n"
     ]
    },
    {
     "name": "stdout",
     "output_type": "stream",
     "text": [
      "Epoch 151:\n",
      "\ttrain: loss: 0.4803 | auc_cos: 0.8910 | acc_cos: 0.7916 | auc_eu: 0.8928 | acc_eu: 0.7970\n",
      "\ttest: loss: 0.2039 | auc_cos: 0.9025 | acc_cos: 0.8169 | auc_eu: 0.9050 | acc_eu: 0.7505\n"
     ]
    },
    {
     "name": "stdout",
     "output_type": "stream",
     "text": [
      "\tSaving model and optimizer state to /kaggle/working/checkpoint/triplet/albedo/models/checkpoint.pth\n",
      "\tEpoch 151: EarlyStopping counter for 'cosine_auc': 8/50\n",
      "\tEpoch 151: EarlyStopping counter for 'cosine_acc': 22/50\n",
      "\tEpoch 151: EarlyStopping counter for 'euclidean_auc': 29/50\n",
      "\tEpoch 151: EarlyStopping counter for 'euclidean_acc': 8/50\n"
     ]
    },
    {
     "name": "stdout",
     "output_type": "stream",
     "text": [
      "Epoch 152:\n",
      "\ttrain: loss: 0.4190 | auc_cos: 0.8878 | acc_cos: 0.7787 | auc_eu: 0.8891 | acc_eu: 0.7490\n",
      "\ttest: loss: 0.2094 | auc_cos: 0.8919 | acc_cos: 0.8279 | auc_eu: 0.8869 | acc_eu: 0.7322\n"
     ]
    },
    {
     "name": "stdout",
     "output_type": "stream",
     "text": [
      "\tSaving model and optimizer state to /kaggle/working/checkpoint/triplet/albedo/models/checkpoint.pth\n",
      "\tEpoch 152: EarlyStopping counter for 'cosine_auc': 9/50\n",
      "\tEpoch 152: EarlyStopping counter for 'cosine_acc': 23/50\n",
      "\tEpoch 152: EarlyStopping counter for 'euclidean_auc': 30/50\n",
      "\tEpoch 152: EarlyStopping counter for 'euclidean_acc': 9/50\n"
     ]
    },
    {
     "name": "stdout",
     "output_type": "stream",
     "text": [
      "Epoch 153:\n",
      "\ttrain: loss: 0.5033 | auc_cos: 0.8958 | acc_cos: 0.7942 | auc_eu: 0.8917 | acc_eu: 0.7433\n",
      "\ttest: loss: 0.2060 | auc_cos: 0.8957 | acc_cos: 0.8550 | auc_eu: 0.9046 | acc_eu: 0.8992\n"
     ]
    },
    {
     "name": "stdout",
     "output_type": "stream",
     "text": [
      "\tSaving model and optimizer state to /kaggle/working/checkpoint/triplet/albedo/models/checkpoint.pth\n",
      "\tEpoch 153: EarlyStopping counter for 'cosine_auc': 10/50\n",
      "\tEpoch 153: EarlyStopping counter for 'cosine_acc': 24/50\n",
      "\tSaved best model weights for 'euclidean_auc' at epoch 153 to '/kaggle/working/checkpoint/triplet/albedo/models/best_euclidean_auc_153.pth'\n",
      "\tEpoch 153: EarlyStopping counter for 'euclidean_acc': 10/50\n"
     ]
    },
    {
     "name": "stdout",
     "output_type": "stream",
     "text": [
      "Epoch 154:\n",
      "\ttrain: loss: 0.5034 | auc_cos: 0.8932 | acc_cos: 0.7598 | auc_eu: 0.8944 | acc_eu: 0.7729\n",
      "\ttest: loss: 0.1874 | auc_cos: 0.9117 | acc_cos: 0.8702 | auc_eu: 0.9094 | acc_eu: 0.7893\n"
     ]
    },
    {
     "name": "stdout",
     "output_type": "stream",
     "text": [
      "\tSaving model and optimizer state to /kaggle/working/checkpoint/triplet/albedo/models/checkpoint.pth\n",
      "\tEpoch 154: EarlyStopping counter for 'cosine_auc': 11/50\n",
      "\tEpoch 154: EarlyStopping counter for 'cosine_acc': 25/50\n",
      "\tEpoch 154: EarlyStopping counter for 'euclidean_auc': 1/50\n",
      "\tEpoch 154: EarlyStopping counter for 'euclidean_acc': 11/50\n"
     ]
    },
    {
     "name": "stdout",
     "output_type": "stream",
     "text": [
      "Epoch 155:\n",
      "\ttrain: loss: 0.4106 | auc_cos: 0.8985 | acc_cos: 0.7578 | auc_eu: 0.9005 | acc_eu: 0.7810\n",
      "\ttest: loss: 0.1725 | auc_cos: 0.9090 | acc_cos: 0.8447 | auc_eu: 0.9079 | acc_eu: 0.7886\n"
     ]
    },
    {
     "name": "stdout",
     "output_type": "stream",
     "text": [
      "\tSaving model and optimizer state to /kaggle/working/checkpoint/triplet/albedo/models/checkpoint.pth\n",
      "\tEpoch 155: EarlyStopping counter for 'cosine_auc': 12/50\n",
      "\tEpoch 155: EarlyStopping counter for 'cosine_acc': 26/50\n",
      "\tEpoch 155: EarlyStopping counter for 'euclidean_auc': 2/50\n",
      "\tEpoch 155: EarlyStopping counter for 'euclidean_acc': 12/50\n"
     ]
    },
    {
     "name": "stdout",
     "output_type": "stream",
     "text": [
      "Epoch 156:\n",
      "\ttrain: loss: 0.4590 | auc_cos: 0.8850 | acc_cos: 0.7593 | auc_eu: 0.8825 | acc_eu: 0.7749\n",
      "\ttest: loss: 0.2244 | auc_cos: 0.8942 | acc_cos: 0.8075 | auc_eu: 0.8847 | acc_eu: 0.7150\n"
     ]
    },
    {
     "name": "stdout",
     "output_type": "stream",
     "text": [
      "\tSaving model and optimizer state to /kaggle/working/checkpoint/triplet/albedo/models/checkpoint.pth\n",
      "\tEpoch 156: EarlyStopping counter for 'cosine_auc': 13/50\n",
      "\tEpoch 156: EarlyStopping counter for 'cosine_acc': 27/50\n",
      "\tEpoch 156: EarlyStopping counter for 'euclidean_auc': 3/50\n",
      "\tEpoch 156: EarlyStopping counter for 'euclidean_acc': 13/50\n"
     ]
    },
    {
     "name": "stdout",
     "output_type": "stream",
     "text": [
      "Epoch 157:\n",
      "\ttrain: loss: 0.4137 | auc_cos: 0.8939 | acc_cos: 0.7854 | auc_eu: 0.8948 | acc_eu: 0.7974\n",
      "\ttest: loss: 0.1914 | auc_cos: 0.9130 | acc_cos: 0.7777 | auc_eu: 0.9080 | acc_eu: 0.8946\n"
     ]
    },
    {
     "name": "stdout",
     "output_type": "stream",
     "text": [
      "\tSaving model and optimizer state to /kaggle/working/checkpoint/triplet/albedo/models/checkpoint.pth\n",
      "\tEpoch 157: EarlyStopping counter for 'cosine_auc': 14/50\n",
      "\tEpoch 157: EarlyStopping counter for 'cosine_acc': 28/50\n",
      "\tEpoch 157: EarlyStopping counter for 'euclidean_auc': 4/50\n",
      "\tEpoch 157: EarlyStopping counter for 'euclidean_acc': 14/50\n"
     ]
    },
    {
     "name": "stdout",
     "output_type": "stream",
     "text": [
      "Epoch 158:\n",
      "\ttrain: loss: 0.3925 | auc_cos: 0.8816 | acc_cos: 0.7526 | auc_eu: 0.8900 | acc_eu: 0.7839\n",
      "\ttest: loss: 0.2171 | auc_cos: 0.9124 | acc_cos: 0.8709 | auc_eu: 0.9177 | acc_eu: 0.8470\n"
     ]
    },
    {
     "name": "stdout",
     "output_type": "stream",
     "text": [
      "\tSaving model and optimizer state to /kaggle/working/checkpoint/triplet/albedo/models/checkpoint.pth\n",
      "\tEpoch 158: EarlyStopping counter for 'cosine_auc': 15/50\n",
      "\tEpoch 158: EarlyStopping counter for 'cosine_acc': 29/50\n",
      "\tEpoch 158: EarlyStopping counter for 'euclidean_auc': 5/50\n",
      "\tEpoch 158: EarlyStopping counter for 'euclidean_acc': 15/50\n"
     ]
    },
    {
     "name": "stdout",
     "output_type": "stream",
     "text": [
      "Epoch 159:\n",
      "\ttrain: loss: 0.4325 | auc_cos: 0.8961 | acc_cos: 0.7897 | auc_eu: 0.8940 | acc_eu: 0.7813\n",
      "\ttest: loss: 0.2018 | auc_cos: 0.9092 | acc_cos: 0.8954 | auc_eu: 0.9047 | acc_eu: 0.8245\n"
     ]
    },
    {
     "name": "stdout",
     "output_type": "stream",
     "text": [
      "\tSaving model and optimizer state to /kaggle/working/checkpoint/triplet/albedo/models/checkpoint.pth\n",
      "\tEpoch 159: EarlyStopping counter for 'cosine_auc': 16/50\n",
      "\tEpoch 159: EarlyStopping counter for 'cosine_acc': 30/50\n",
      "\tEpoch 159: EarlyStopping counter for 'euclidean_auc': 6/50\n",
      "\tEpoch 159: EarlyStopping counter for 'euclidean_acc': 16/50\n"
     ]
    },
    {
     "name": "stdout",
     "output_type": "stream",
     "text": [
      "Epoch 160:\n",
      "\ttrain: loss: 0.4317 | auc_cos: 0.8952 | acc_cos: 0.8099 | auc_eu: 0.8978 | acc_eu: 0.8083\n",
      "\ttest: loss: 0.2149 | auc_cos: 0.9028 | acc_cos: 0.8102 | auc_eu: 0.8985 | acc_eu: 0.7634\n"
     ]
    },
    {
     "name": "stdout",
     "output_type": "stream",
     "text": [
      "\tSaving model and optimizer state to /kaggle/working/checkpoint/triplet/albedo/models/checkpoint.pth\n",
      "\tEpoch 160: EarlyStopping counter for 'cosine_auc': 17/50\n",
      "\tEpoch 160: EarlyStopping counter for 'cosine_acc': 31/50\n",
      "\tEpoch 160: EarlyStopping counter for 'euclidean_auc': 7/50\n",
      "\tEpoch 160: EarlyStopping counter for 'euclidean_acc': 17/50\n"
     ]
    },
    {
     "name": "stdout",
     "output_type": "stream",
     "text": [
      "Epoch 161:\n",
      "\ttrain: loss: 0.3831 | auc_cos: 0.8842 | acc_cos: 0.7764 | auc_eu: 0.8824 | acc_eu: 0.7583\n",
      "\ttest: loss: 0.2871 | auc_cos: 0.9031 | acc_cos: 0.8382 | auc_eu: 0.8943 | acc_eu: 0.8009\n"
     ]
    },
    {
     "name": "stdout",
     "output_type": "stream",
     "text": [
      "\tSaving model and optimizer state to /kaggle/working/checkpoint/triplet/albedo/models/checkpoint.pth\n",
      "\tEpoch 161: EarlyStopping counter for 'cosine_auc': 18/50\n",
      "\tEpoch 161: EarlyStopping counter for 'cosine_acc': 32/50\n",
      "\tEpoch 161: EarlyStopping counter for 'euclidean_auc': 8/50\n",
      "\tEpoch 161: EarlyStopping counter for 'euclidean_acc': 18/50\n"
     ]
    },
    {
     "name": "stdout",
     "output_type": "stream",
     "text": [
      "Epoch 162:\n",
      "\ttrain: loss: 0.3640 | auc_cos: 0.9009 | acc_cos: 0.7801 | auc_eu: 0.9004 | acc_eu: 0.8117\n",
      "\ttest: loss: 0.2078 | auc_cos: 0.9072 | acc_cos: 0.8546 | auc_eu: 0.9077 | acc_eu: 0.7662\n"
     ]
    },
    {
     "name": "stdout",
     "output_type": "stream",
     "text": [
      "\tSaving model and optimizer state to /kaggle/working/checkpoint/triplet/albedo/models/checkpoint.pth\n",
      "\tEpoch 162: EarlyStopping counter for 'cosine_auc': 19/50\n",
      "\tEpoch 162: EarlyStopping counter for 'cosine_acc': 33/50\n",
      "\tEpoch 162: EarlyStopping counter for 'euclidean_auc': 9/50\n",
      "\tEpoch 162: EarlyStopping counter for 'euclidean_acc': 19/50\n"
     ]
    },
    {
     "name": "stdout",
     "output_type": "stream",
     "text": [
      "Epoch 163:\n",
      "\ttrain: loss: 0.2900 | auc_cos: 0.9090 | acc_cos: 0.8114 | auc_eu: 0.9092 | acc_eu: 0.7954\n",
      "\ttest: loss: 0.1828 | auc_cos: 0.9033 | acc_cos: 0.8830 | auc_eu: 0.9053 | acc_eu: 0.7946\n"
     ]
    },
    {
     "name": "stdout",
     "output_type": "stream",
     "text": [
      "\tSaving model and optimizer state to /kaggle/working/checkpoint/triplet/albedo/models/checkpoint.pth\n",
      "\tEpoch 163: EarlyStopping counter for 'cosine_auc': 20/50\n",
      "\tEpoch 163: EarlyStopping counter for 'cosine_acc': 34/50\n",
      "\tEpoch 163: EarlyStopping counter for 'euclidean_auc': 10/50\n",
      "\tEpoch 163: EarlyStopping counter for 'euclidean_acc': 20/50\n"
     ]
    },
    {
     "name": "stdout",
     "output_type": "stream",
     "text": [
      "Epoch 164:\n",
      "\ttrain: loss: 0.3646 | auc_cos: 0.9200 | acc_cos: 0.8312 | auc_eu: 0.9217 | acc_eu: 0.8174\n",
      "\ttest: loss: 0.1499 | auc_cos: 0.9132 | acc_cos: 0.8614 | auc_eu: 0.9151 | acc_eu: 0.8431\n"
     ]
    },
    {
     "name": "stdout",
     "output_type": "stream",
     "text": [
      "\tSaving model and optimizer state to /kaggle/working/checkpoint/triplet/albedo/models/checkpoint.pth\n",
      "\tEpoch 164: EarlyStopping counter for 'cosine_auc': 21/50\n",
      "\tEpoch 164: EarlyStopping counter for 'cosine_acc': 35/50\n",
      "\tEpoch 164: EarlyStopping counter for 'euclidean_auc': 11/50\n",
      "\tEpoch 164: EarlyStopping counter for 'euclidean_acc': 21/50\n"
     ]
    },
    {
     "name": "stdout",
     "output_type": "stream",
     "text": [
      "Epoch 165:\n",
      "\ttrain: loss: 0.3061 | auc_cos: 0.9154 | acc_cos: 0.8090 | auc_eu: 0.9205 | acc_eu: 0.8045\n",
      "\ttest: loss: 0.1494 | auc_cos: 0.9137 | acc_cos: 0.8067 | auc_eu: 0.9192 | acc_eu: 0.7981\n"
     ]
    },
    {
     "name": "stdout",
     "output_type": "stream",
     "text": [
      "\tSaving model and optimizer state to /kaggle/working/checkpoint/triplet/albedo/models/checkpoint.pth\n",
      "\tEpoch 165: EarlyStopping counter for 'cosine_auc': 22/50\n",
      "\tEpoch 165: EarlyStopping counter for 'cosine_acc': 36/50\n",
      "\tEpoch 165: EarlyStopping counter for 'euclidean_auc': 12/50\n",
      "\tEpoch 165: EarlyStopping counter for 'euclidean_acc': 22/50\n"
     ]
    },
    {
     "name": "stdout",
     "output_type": "stream",
     "text": [
      "Epoch 166:\n",
      "\ttrain: loss: 0.3222 | auc_cos: 0.9161 | acc_cos: 0.8044 | auc_eu: 0.9164 | acc_eu: 0.8037\n",
      "\ttest: loss: 0.1301 | auc_cos: 0.9151 | acc_cos: 0.8597 | auc_eu: 0.9156 | acc_eu: 0.7983\n"
     ]
    },
    {
     "name": "stdout",
     "output_type": "stream",
     "text": [
      "\tSaving model and optimizer state to /kaggle/working/checkpoint/triplet/albedo/models/checkpoint.pth\n",
      "\tEpoch 166: EarlyStopping counter for 'cosine_auc': 23/50\n",
      "\tEpoch 166: EarlyStopping counter for 'cosine_acc': 37/50\n",
      "\tEpoch 166: EarlyStopping counter for 'euclidean_auc': 13/50\n",
      "\tEpoch 166: EarlyStopping counter for 'euclidean_acc': 23/50\n"
     ]
    },
    {
     "name": "stdout",
     "output_type": "stream",
     "text": [
      "Epoch 167:\n",
      "\ttrain: loss: 0.3280 | auc_cos: 0.9192 | acc_cos: 0.8000 | auc_eu: 0.9255 | acc_eu: 0.8193\n",
      "\ttest: loss: 0.1335 | auc_cos: 0.9093 | acc_cos: 0.8601 | auc_eu: 0.9264 | acc_eu: 0.8095\n"
     ]
    },
    {
     "name": "stdout",
     "output_type": "stream",
     "text": [
      "\tSaving model and optimizer state to /kaggle/working/checkpoint/triplet/albedo/models/checkpoint.pth\n",
      "\tEpoch 167: EarlyStopping counter for 'cosine_auc': 24/50\n",
      "\tEpoch 167: EarlyStopping counter for 'cosine_acc': 38/50\n",
      "\tEpoch 167: EarlyStopping counter for 'euclidean_auc': 14/50\n",
      "\tEpoch 167: EarlyStopping counter for 'euclidean_acc': 24/50\n"
     ]
    },
    {
     "name": "stdout",
     "output_type": "stream",
     "text": [
      "Epoch 168:\n",
      "\ttrain: loss: 0.2909 | auc_cos: 0.9276 | acc_cos: 0.8290 | auc_eu: 0.9326 | acc_eu: 0.8266\n",
      "\ttest: loss: 0.1185 | auc_cos: 0.9184 | acc_cos: 0.8968 | auc_eu: 0.9224 | acc_eu: 0.8770\n"
     ]
    },
    {
     "name": "stdout",
     "output_type": "stream",
     "text": [
      "\tSaving model and optimizer state to /kaggle/working/checkpoint/triplet/albedo/models/checkpoint.pth\n",
      "\tEpoch 168: EarlyStopping counter for 'cosine_auc': 25/50\n",
      "\tEpoch 168: EarlyStopping counter for 'cosine_acc': 39/50\n",
      "\tEpoch 168: EarlyStopping counter for 'euclidean_auc': 15/50\n",
      "\tEpoch 168: EarlyStopping counter for 'euclidean_acc': 25/50\n"
     ]
    },
    {
     "name": "stdout",
     "output_type": "stream",
     "text": [
      "Epoch 169:\n",
      "\ttrain: loss: 0.2513 | auc_cos: 0.9314 | acc_cos: 0.8082 | auc_eu: 0.9318 | acc_eu: 0.8015\n",
      "\ttest: loss: 0.1164 | auc_cos: 0.9110 | acc_cos: 0.8183 | auc_eu: 0.9202 | acc_eu: 0.8795\n"
     ]
    },
    {
     "name": "stdout",
     "output_type": "stream",
     "text": [
      "\tSaving model and optimizer state to /kaggle/working/checkpoint/triplet/albedo/models/checkpoint.pth\n",
      "\tEpoch 169: EarlyStopping counter for 'cosine_auc': 26/50\n",
      "\tEpoch 169: EarlyStopping counter for 'cosine_acc': 40/50\n",
      "\tEpoch 169: EarlyStopping counter for 'euclidean_auc': 16/50\n",
      "\tEpoch 169: EarlyStopping counter for 'euclidean_acc': 26/50\n"
     ]
    },
    {
     "name": "stdout",
     "output_type": "stream",
     "text": [
      "Epoch 170:\n",
      "\ttrain: loss: 0.2482 | auc_cos: 0.9313 | acc_cos: 0.8181 | auc_eu: 0.9363 | acc_eu: 0.8244\n",
      "\ttest: loss: 0.1082 | auc_cos: 0.9194 | acc_cos: 0.8645 | auc_eu: 0.9259 | acc_eu: 0.8159\n"
     ]
    },
    {
     "name": "stdout",
     "output_type": "stream",
     "text": [
      "\tSaving model and optimizer state to /kaggle/working/checkpoint/triplet/albedo/models/checkpoint.pth\n",
      "\tEpoch 170: EarlyStopping counter for 'cosine_auc': 27/50\n",
      "\tEpoch 170: EarlyStopping counter for 'cosine_acc': 41/50\n",
      "\tEpoch 170: EarlyStopping counter for 'euclidean_auc': 17/50\n",
      "\tEpoch 170: EarlyStopping counter for 'euclidean_acc': 27/50\n"
     ]
    },
    {
     "name": "stdout",
     "output_type": "stream",
     "text": [
      "Epoch 171:\n",
      "\ttrain: loss: 0.2357 | auc_cos: 0.9358 | acc_cos: 0.8446 | auc_eu: 0.9386 | acc_eu: 0.8330\n",
      "\ttest: loss: 0.1105 | auc_cos: 0.9211 | acc_cos: 0.8047 | auc_eu: 0.9302 | acc_eu: 0.8162\n"
     ]
    },
    {
     "name": "stdout",
     "output_type": "stream",
     "text": [
      "\tSaving model and optimizer state to /kaggle/working/checkpoint/triplet/albedo/models/checkpoint.pth\n",
      "\tEpoch 171: EarlyStopping counter for 'cosine_auc': 28/50\n",
      "\tEpoch 171: EarlyStopping counter for 'cosine_acc': 42/50\n",
      "\tEpoch 171: EarlyStopping counter for 'euclidean_auc': 18/50\n",
      "\tEpoch 171: EarlyStopping counter for 'euclidean_acc': 28/50\n"
     ]
    },
    {
     "name": "stdout",
     "output_type": "stream",
     "text": [
      "Epoch 172:\n",
      "\ttrain: loss: 0.2979 | auc_cos: 0.9329 | acc_cos: 0.8396 | auc_eu: 0.9366 | acc_eu: 0.8441\n",
      "\ttest: loss: 0.1193 | auc_cos: 0.9112 | acc_cos: 0.8449 | auc_eu: 0.9186 | acc_eu: 0.8487\n"
     ]
    },
    {
     "name": "stdout",
     "output_type": "stream",
     "text": [
      "\tSaving model and optimizer state to /kaggle/working/checkpoint/triplet/albedo/models/checkpoint.pth\n",
      "\tEpoch 172: EarlyStopping counter for 'cosine_auc': 29/50\n",
      "\tEpoch 172: EarlyStopping counter for 'cosine_acc': 43/50\n",
      "\tEpoch 172: EarlyStopping counter for 'euclidean_auc': 19/50\n",
      "\tEpoch 172: EarlyStopping counter for 'euclidean_acc': 29/50\n"
     ]
    },
    {
     "name": "stdout",
     "output_type": "stream",
     "text": [
      "Epoch 173:\n",
      "\ttrain: loss: 0.2357 | auc_cos: 0.9195 | acc_cos: 0.8110 | auc_eu: 0.9214 | acc_eu: 0.8148\n",
      "\ttest: loss: 0.1336 | auc_cos: 0.9178 | acc_cos: 0.7850 | auc_eu: 0.9209 | acc_eu: 0.8210\n"
     ]
    },
    {
     "name": "stdout",
     "output_type": "stream",
     "text": [
      "\tSaving model and optimizer state to /kaggle/working/checkpoint/triplet/albedo/models/checkpoint.pth\n",
      "\tEpoch 173: EarlyStopping counter for 'cosine_auc': 30/50\n",
      "\tEpoch 173: EarlyStopping counter for 'cosine_acc': 44/50\n",
      "\tEpoch 173: EarlyStopping counter for 'euclidean_auc': 20/50\n",
      "\tEpoch 173: EarlyStopping counter for 'euclidean_acc': 30/50\n"
     ]
    },
    {
     "name": "stdout",
     "output_type": "stream",
     "text": [
      "Epoch 174:\n",
      "\ttrain: loss: 0.2206 | auc_cos: 0.9359 | acc_cos: 0.8160 | auc_eu: 0.9420 | acc_eu: 0.8399\n",
      "\ttest: loss: 0.1014 | auc_cos: 0.9207 | acc_cos: 0.8255 | auc_eu: 0.9271 | acc_eu: 0.8003\n"
     ]
    },
    {
     "name": "stdout",
     "output_type": "stream",
     "text": [
      "\tSaving model and optimizer state to /kaggle/working/checkpoint/triplet/albedo/models/checkpoint.pth\n",
      "\tEpoch 174: EarlyStopping counter for 'cosine_auc': 31/50\n",
      "\tEpoch 174: EarlyStopping counter for 'cosine_acc': 45/50\n",
      "\tEpoch 174: EarlyStopping counter for 'euclidean_auc': 21/50\n",
      "\tEpoch 174: EarlyStopping counter for 'euclidean_acc': 31/50\n"
     ]
    },
    {
     "name": "stdout",
     "output_type": "stream",
     "text": [
      "Epoch 175:\n",
      "\ttrain: loss: 0.2385 | auc_cos: 0.9379 | acc_cos: 0.8516 | auc_eu: 0.9446 | acc_eu: 0.8317\n",
      "\ttest: loss: 0.0836 | auc_cos: 0.9218 | acc_cos: 0.8531 | auc_eu: 0.9307 | acc_eu: 0.8782\n"
     ]
    },
    {
     "name": "stdout",
     "output_type": "stream",
     "text": [
      "\tSaving model and optimizer state to /kaggle/working/checkpoint/triplet/albedo/models/checkpoint.pth\n",
      "\tEpoch 175: EarlyStopping counter for 'cosine_auc': 32/50\n",
      "\tEpoch 175: EarlyStopping counter for 'cosine_acc': 46/50\n",
      "\tEpoch 175: EarlyStopping counter for 'euclidean_auc': 22/50\n",
      "\tEpoch 175: EarlyStopping counter for 'euclidean_acc': 32/50\n"
     ]
    },
    {
     "name": "stdout",
     "output_type": "stream",
     "text": [
      "Epoch 176:\n",
      "\ttrain: loss: 0.2008 | auc_cos: 0.9381 | acc_cos: 0.8490 | auc_eu: 0.9440 | acc_eu: 0.8391\n",
      "\ttest: loss: 0.1083 | auc_cos: 0.9269 | acc_cos: 0.8327 | auc_eu: 0.9295 | acc_eu: 0.8718\n"
     ]
    },
    {
     "name": "stdout",
     "output_type": "stream",
     "text": [
      "\tSaving model and optimizer state to /kaggle/working/checkpoint/triplet/albedo/models/checkpoint.pth\n",
      "\tEpoch 176: EarlyStopping counter for 'cosine_auc': 33/50\n",
      "\tEpoch 176: EarlyStopping counter for 'cosine_acc': 47/50\n",
      "\tEpoch 176: EarlyStopping counter for 'euclidean_auc': 23/50\n",
      "\tEpoch 176: EarlyStopping counter for 'euclidean_acc': 33/50\n"
     ]
    },
    {
     "name": "stdout",
     "output_type": "stream",
     "text": [
      "Epoch 177:\n",
      "\ttrain: loss: 0.1848 | auc_cos: 0.9390 | acc_cos: 0.8335 | auc_eu: 0.9438 | acc_eu: 0.8303\n",
      "\ttest: loss: 0.0915 | auc_cos: 0.9168 | acc_cos: 0.9119 | auc_eu: 0.9242 | acc_eu: 0.8062\n"
     ]
    },
    {
     "name": "stdout",
     "output_type": "stream",
     "text": [
      "\tSaving model and optimizer state to /kaggle/working/checkpoint/triplet/albedo/models/checkpoint.pth\n",
      "\tEpoch 177: EarlyStopping counter for 'cosine_auc': 34/50\n",
      "\tEpoch 177: EarlyStopping counter for 'cosine_acc': 48/50\n",
      "\tEpoch 177: EarlyStopping counter for 'euclidean_auc': 24/50\n",
      "\tEpoch 177: EarlyStopping counter for 'euclidean_acc': 34/50\n"
     ]
    },
    {
     "name": "stdout",
     "output_type": "stream",
     "text": [
      "Epoch 178:\n",
      "\ttrain: loss: 0.2273 | auc_cos: 0.9408 | acc_cos: 0.8486 | auc_eu: 0.9470 | acc_eu: 0.8447\n",
      "\ttest: loss: 0.0791 | auc_cos: 0.9323 | acc_cos: 0.8395 | auc_eu: 0.9334 | acc_eu: 0.8445\n"
     ]
    },
    {
     "name": "stdout",
     "output_type": "stream",
     "text": [
      "\tSaving model and optimizer state to /kaggle/working/checkpoint/triplet/albedo/models/checkpoint.pth\n"
     ]
    },
    {
     "name": "stdout",
     "output_type": "stream",
     "text": [
      "\tSaved best model weights for 'cosine_auc' at epoch 178 to '/kaggle/working/checkpoint/triplet/albedo/models/best_cosine_auc_178.pth'\n",
      "\tEpoch 178: EarlyStopping counter for 'cosine_acc': 49/50\n",
      "\tEpoch 178: EarlyStopping counter for 'euclidean_auc': 25/50\n",
      "\tEpoch 178: EarlyStopping counter for 'euclidean_acc': 35/50\n"
     ]
    },
    {
     "name": "stdout",
     "output_type": "stream",
     "text": [
      "Epoch 179:\n",
      "\ttrain: loss: 0.1955 | auc_cos: 0.9404 | acc_cos: 0.8560 | auc_eu: 0.9440 | acc_eu: 0.8382\n",
      "\ttest: loss: 0.0998 | auc_cos: 0.9235 | acc_cos: 0.8397 | auc_eu: 0.9216 | acc_eu: 0.8202\n"
     ]
    },
    {
     "name": "stdout",
     "output_type": "stream",
     "text": [
      "\tSaving model and optimizer state to /kaggle/working/checkpoint/triplet/albedo/models/checkpoint.pth\n",
      "\tEpoch 179: EarlyStopping counter for 'cosine_auc': 1/50\n",
      "\tEpoch 179: EarlyStopping counter for 'cosine_acc': 50/50\n",
      "\tEpoch 179: EarlyStopping counter for 'euclidean_auc': 26/50\n",
      "\tEpoch 179: EarlyStopping counter for 'euclidean_acc': 36/50\n"
     ]
    },
    {
     "name": "stdout",
     "output_type": "stream",
     "text": [
      "Epoch 180:\n",
      "\ttrain: loss: 0.1481 | auc_cos: 0.9436 | acc_cos: 0.8538 | auc_eu: 0.9528 | acc_eu: 0.8485\n",
      "\ttest: loss: 0.0861 | auc_cos: 0.9303 | acc_cos: 0.8634 | auc_eu: 0.9347 | acc_eu: 0.8766\n"
     ]
    },
    {
     "name": "stdout",
     "output_type": "stream",
     "text": [
      "\tSaving model and optimizer state to /kaggle/working/checkpoint/triplet/albedo/models/checkpoint.pth\n",
      "\tEpoch 180: EarlyStopping counter for 'cosine_auc': 2/50\n",
      "\tEpoch 180: EarlyStopping counter for 'cosine_acc': 51/50\n",
      "\tEpoch 180: EarlyStopping counter for 'euclidean_auc': 27/50\n",
      "\tEpoch 180: EarlyStopping counter for 'euclidean_acc': 37/50\n"
     ]
    },
    {
     "name": "stdout",
     "output_type": "stream",
     "text": [
      "Epoch 181:\n",
      "\ttrain: loss: 0.1684 | auc_cos: 0.9500 | acc_cos: 0.8403 | auc_eu: 0.9549 | acc_eu: 0.8456\n",
      "\ttest: loss: 0.0755 | auc_cos: 0.9307 | acc_cos: 0.8836 | auc_eu: 0.9362 | acc_eu: 0.8609\n"
     ]
    },
    {
     "name": "stdout",
     "output_type": "stream",
     "text": [
      "\tSaving model and optimizer state to /kaggle/working/checkpoint/triplet/albedo/models/checkpoint.pth\n",
      "\tEpoch 181: EarlyStopping counter for 'cosine_auc': 3/50\n",
      "\tEpoch 181: EarlyStopping counter for 'cosine_acc': 52/50\n",
      "\tEpoch 181: EarlyStopping counter for 'euclidean_auc': 28/50\n",
      "\tEpoch 181: EarlyStopping counter for 'euclidean_acc': 38/50\n"
     ]
    },
    {
     "name": "stdout",
     "output_type": "stream",
     "text": [
      "Epoch 182:\n",
      "\ttrain: loss: 0.1758 | auc_cos: 0.9492 | acc_cos: 0.8563 | auc_eu: 0.9549 | acc_eu: 0.8675\n",
      "\ttest: loss: 0.0775 | auc_cos: 0.9294 | acc_cos: 0.8840 | auc_eu: 0.9357 | acc_eu: 0.8820\n"
     ]
    },
    {
     "name": "stdout",
     "output_type": "stream",
     "text": [
      "\tSaving model and optimizer state to /kaggle/working/checkpoint/triplet/albedo/models/checkpoint.pth\n",
      "\tEpoch 182: EarlyStopping counter for 'cosine_auc': 4/50\n",
      "\tEpoch 182: EarlyStopping counter for 'cosine_acc': 53/50\n",
      "\tEpoch 182: EarlyStopping counter for 'euclidean_auc': 29/50\n",
      "\tEpoch 182: EarlyStopping counter for 'euclidean_acc': 39/50\n"
     ]
    },
    {
     "name": "stdout",
     "output_type": "stream",
     "text": [
      "Epoch 183:\n",
      "\ttrain: loss: 0.1755 | auc_cos: 0.9476 | acc_cos: 0.8473 | auc_eu: 0.9544 | acc_eu: 0.8521\n",
      "\ttest: loss: 0.0702 | auc_cos: 0.9338 | acc_cos: 0.8727 | auc_eu: 0.9387 | acc_eu: 0.8722\n"
     ]
    },
    {
     "name": "stdout",
     "output_type": "stream",
     "text": [
      "\tSaving model and optimizer state to /kaggle/working/checkpoint/triplet/albedo/models/checkpoint.pth\n"
     ]
    },
    {
     "name": "stdout",
     "output_type": "stream",
     "text": [
      "\tSaved best model weights for 'cosine_auc' at epoch 183 to '/kaggle/working/checkpoint/triplet/albedo/models/best_cosine_auc_183.pth'\n",
      "\tEpoch 183: EarlyStopping counter for 'cosine_acc': 54/50\n",
      "\tEpoch 183: EarlyStopping counter for 'euclidean_auc': 30/50\n",
      "\tSaved best model weights for 'euclidean_acc' at epoch 183 to '/kaggle/working/checkpoint/triplet/albedo/models/best_euclidean_acc_183.pth'\n"
     ]
    },
    {
     "name": "stdout",
     "output_type": "stream",
     "text": [
      "Epoch 184:\n",
      "\ttrain: loss: 0.1793 | auc_cos: 0.9503 | acc_cos: 0.8333 | auc_eu: 0.9574 | acc_eu: 0.8652\n",
      "\ttest: loss: 0.0640 | auc_cos: 0.9328 | acc_cos: 0.8682 | auc_eu: 0.9380 | acc_eu: 0.8422\n"
     ]
    },
    {
     "name": "stdout",
     "output_type": "stream",
     "text": [
      "\tSaving model and optimizer state to /kaggle/working/checkpoint/triplet/albedo/models/checkpoint.pth\n",
      "\tEpoch 184: EarlyStopping counter for 'cosine_auc': 1/50\n",
      "\tEpoch 184: EarlyStopping counter for 'cosine_acc': 55/50\n",
      "\tEpoch 184: EarlyStopping counter for 'euclidean_auc': 31/50\n",
      "\tEpoch 184: EarlyStopping counter for 'euclidean_acc': 1/50\n"
     ]
    },
    {
     "name": "stdout",
     "output_type": "stream",
     "text": [
      "Epoch 185:\n",
      "\ttrain: loss: 0.1150 | auc_cos: 0.9516 | acc_cos: 0.8596 | auc_eu: 0.9578 | acc_eu: 0.8675\n",
      "\ttest: loss: 0.0593 | auc_cos: 0.9309 | acc_cos: 0.8119 | auc_eu: 0.9351 | acc_eu: 0.8602\n"
     ]
    },
    {
     "name": "stdout",
     "output_type": "stream",
     "text": [
      "\tSaving model and optimizer state to /kaggle/working/checkpoint/triplet/albedo/models/checkpoint.pth\n",
      "\tEpoch 185: EarlyStopping counter for 'cosine_auc': 2/50\n",
      "\tEpoch 185: EarlyStopping counter for 'cosine_acc': 56/50\n",
      "\tEpoch 185: EarlyStopping counter for 'euclidean_auc': 32/50\n",
      "\tEpoch 185: EarlyStopping counter for 'euclidean_acc': 2/50\n"
     ]
    },
    {
     "name": "stdout",
     "output_type": "stream",
     "text": [
      "Epoch 186:\n",
      "\ttrain: loss: 0.1644 | auc_cos: 0.9530 | acc_cos: 0.8470 | auc_eu: 0.9596 | acc_eu: 0.8540\n",
      "\ttest: loss: 0.0623 | auc_cos: 0.9384 | acc_cos: 0.8958 | auc_eu: 0.9432 | acc_eu: 0.8739\n"
     ]
    },
    {
     "name": "stdout",
     "output_type": "stream",
     "text": [
      "\tSaving model and optimizer state to /kaggle/working/checkpoint/triplet/albedo/models/checkpoint.pth\n",
      "\tSaved best model weights for 'cosine_auc' at epoch 186 to '/kaggle/working/checkpoint/triplet/albedo/models/best_cosine_auc_186.pth'\n",
      "\tEpoch 186: EarlyStopping counter for 'cosine_acc': 57/50\n",
      "\tEpoch 186: EarlyStopping counter for 'euclidean_auc': 33/50\n"
     ]
    },
    {
     "name": "stdout",
     "output_type": "stream",
     "text": [
      "\tSaved best model weights for 'euclidean_acc' at epoch 186 to '/kaggle/working/checkpoint/triplet/albedo/models/best_euclidean_acc_186.pth'\n"
     ]
    },
    {
     "name": "stdout",
     "output_type": "stream",
     "text": [
      "Epoch 187:\n",
      "\ttrain: loss: 0.1514 | auc_cos: 0.9555 | acc_cos: 0.8781 | auc_eu: 0.9624 | acc_eu: 0.8742\n",
      "\ttest: loss: 0.0514 | auc_cos: 0.9359 | acc_cos: 0.8754 | auc_eu: 0.9433 | acc_eu: 0.8663\n"
     ]
    },
    {
     "name": "stdout",
     "output_type": "stream",
     "text": [
      "\tSaving model and optimizer state to /kaggle/working/checkpoint/triplet/albedo/models/checkpoint.pth\n",
      "\tEpoch 187: EarlyStopping counter for 'cosine_auc': 1/50\n",
      "\tEpoch 187: EarlyStopping counter for 'cosine_acc': 58/50\n",
      "\tEpoch 187: EarlyStopping counter for 'euclidean_auc': 34/50\n"
     ]
    },
    {
     "name": "stdout",
     "output_type": "stream",
     "text": [
      "\tSaved best model weights for 'euclidean_acc' at epoch 187 to '/kaggle/working/checkpoint/triplet/albedo/models/best_euclidean_acc_187.pth'\n"
     ]
    },
    {
     "name": "stdout",
     "output_type": "stream",
     "text": [
      "Epoch 188:\n",
      "\ttrain: loss: 0.1122 | auc_cos: 0.9549 | acc_cos: 0.8488 | auc_eu: 0.9622 | acc_eu: 0.8551\n",
      "\ttest: loss: 0.0506 | auc_cos: 0.9345 | acc_cos: 0.9086 | auc_eu: 0.9437 | acc_eu: 0.8606\n"
     ]
    },
    {
     "name": "stdout",
     "output_type": "stream",
     "text": [
      "\tSaving model and optimizer state to /kaggle/working/checkpoint/triplet/albedo/models/checkpoint.pth\n",
      "\tEpoch 188: EarlyStopping counter for 'cosine_auc': 2/50\n",
      "\tEpoch 188: EarlyStopping counter for 'cosine_acc': 59/50\n",
      "\tEpoch 188: EarlyStopping counter for 'euclidean_auc': 35/50\n"
     ]
    },
    {
     "name": "stdout",
     "output_type": "stream",
     "text": [
      "\tSaved best model weights for 'euclidean_acc' at epoch 188 to '/kaggle/working/checkpoint/triplet/albedo/models/best_euclidean_acc_188.pth'\n"
     ]
    },
    {
     "name": "stdout",
     "output_type": "stream",
     "text": [
      "Epoch 189:\n",
      "\ttrain: loss: 0.1295 | auc_cos: 0.9539 | acc_cos: 0.8521 | auc_eu: 0.9626 | acc_eu: 0.8758\n",
      "\ttest: loss: 0.0437 | auc_cos: 0.9335 | acc_cos: 0.8946 | auc_eu: 0.9435 | acc_eu: 0.8816\n"
     ]
    },
    {
     "name": "stdout",
     "output_type": "stream",
     "text": [
      "\tSaving model and optimizer state to /kaggle/working/checkpoint/triplet/albedo/models/checkpoint.pth\n",
      "\tEpoch 189: EarlyStopping counter for 'cosine_auc': 3/50\n",
      "\tEpoch 189: EarlyStopping counter for 'cosine_acc': 60/50\n",
      "\tEpoch 189: EarlyStopping counter for 'euclidean_auc': 36/50\n",
      "\tEpoch 189: EarlyStopping counter for 'euclidean_acc': 1/50\n"
     ]
    },
    {
     "name": "stdout",
     "output_type": "stream",
     "text": [
      "Epoch 190:\n",
      "\ttrain: loss: 0.1356 | auc_cos: 0.9571 | acc_cos: 0.8637 | auc_eu: 0.9634 | acc_eu: 0.8652\n",
      "\ttest: loss: 0.0409 | auc_cos: 0.9302 | acc_cos: 0.8770 | auc_eu: 0.9386 | acc_eu: 0.8593\n"
     ]
    },
    {
     "name": "stdout",
     "output_type": "stream",
     "text": [
      "\tSaving model and optimizer state to /kaggle/working/checkpoint/triplet/albedo/models/checkpoint.pth\n",
      "\tEpoch 190: EarlyStopping counter for 'cosine_auc': 4/50\n",
      "\tEpoch 190: EarlyStopping counter for 'cosine_acc': 61/50\n",
      "\tEpoch 190: EarlyStopping counter for 'euclidean_auc': 37/50\n",
      "\tEpoch 190: EarlyStopping counter for 'euclidean_acc': 2/50\n"
     ]
    },
    {
     "name": "stdout",
     "output_type": "stream",
     "text": [
      "Epoch 191:\n",
      "\ttrain: loss: 0.1088 | auc_cos: 0.9571 | acc_cos: 0.8662 | auc_eu: 0.9661 | acc_eu: 0.8758\n",
      "\ttest: loss: 0.0379 | auc_cos: 0.9343 | acc_cos: 0.8990 | auc_eu: 0.9412 | acc_eu: 0.8820\n"
     ]
    },
    {
     "name": "stdout",
     "output_type": "stream",
     "text": [
      "\tSaving model and optimizer state to /kaggle/working/checkpoint/triplet/albedo/models/checkpoint.pth\n",
      "\tEpoch 191: EarlyStopping counter for 'cosine_auc': 5/50\n",
      "\tEpoch 191: EarlyStopping counter for 'cosine_acc': 62/50\n",
      "\tEpoch 191: EarlyStopping counter for 'euclidean_auc': 38/50\n",
      "\tEpoch 191: EarlyStopping counter for 'euclidean_acc': 3/50\n"
     ]
    },
    {
     "name": "stdout",
     "output_type": "stream",
     "text": [
      "Epoch 192:\n",
      "\ttrain: loss: 0.0995 | auc_cos: 0.9581 | acc_cos: 0.8550 | auc_eu: 0.9678 | acc_eu: 0.8788\n",
      "\ttest: loss: 0.0361 | auc_cos: 0.9320 | acc_cos: 0.8795 | auc_eu: 0.9405 | acc_eu: 0.8795\n"
     ]
    },
    {
     "name": "stdout",
     "output_type": "stream",
     "text": [
      "\tSaving model and optimizer state to /kaggle/working/checkpoint/triplet/albedo/models/checkpoint.pth\n",
      "\tEpoch 192: EarlyStopping counter for 'cosine_auc': 6/50\n",
      "\tEpoch 192: EarlyStopping counter for 'cosine_acc': 63/50\n",
      "\tEpoch 192: EarlyStopping counter for 'euclidean_auc': 39/50\n",
      "\tEpoch 192: EarlyStopping counter for 'euclidean_acc': 4/50\n"
     ]
    },
    {
     "name": "stdout",
     "output_type": "stream",
     "text": [
      "Epoch 193:\n",
      "\ttrain: loss: 0.1264 | auc_cos: 0.9571 | acc_cos: 0.8411 | auc_eu: 0.9640 | acc_eu: 0.8767\n",
      "\ttest: loss: 0.0365 | auc_cos: 0.9306 | acc_cos: 0.8856 | auc_eu: 0.9390 | acc_eu: 0.8791\n"
     ]
    },
    {
     "name": "stdout",
     "output_type": "stream",
     "text": [
      "\tSaving model and optimizer state to /kaggle/working/checkpoint/triplet/albedo/models/checkpoint.pth\n",
      "\tEpoch 193: EarlyStopping counter for 'cosine_auc': 7/50\n",
      "\tEpoch 193: EarlyStopping counter for 'cosine_acc': 64/50\n",
      "\tEpoch 193: EarlyStopping counter for 'euclidean_auc': 40/50\n",
      "\tEpoch 193: EarlyStopping counter for 'euclidean_acc': 5/50\n"
     ]
    },
    {
     "name": "stdout",
     "output_type": "stream",
     "text": [
      "Epoch 194:\n",
      "\ttrain: loss: 0.1389 | auc_cos: 0.9566 | acc_cos: 0.8628 | auc_eu: 0.9652 | acc_eu: 0.8779\n",
      "\ttest: loss: 0.0429 | auc_cos: 0.9316 | acc_cos: 0.8855 | auc_eu: 0.9407 | acc_eu: 0.8912\n"
     ]
    },
    {
     "name": "stdout",
     "output_type": "stream",
     "text": [
      "\tSaving model and optimizer state to /kaggle/working/checkpoint/triplet/albedo/models/checkpoint.pth\n",
      "\tEpoch 194: EarlyStopping counter for 'cosine_auc': 8/50\n",
      "\tEpoch 194: EarlyStopping counter for 'cosine_acc': 65/50\n",
      "\tEpoch 194: EarlyStopping counter for 'euclidean_auc': 41/50\n",
      "\tEpoch 194: EarlyStopping counter for 'euclidean_acc': 6/50\n"
     ]
    },
    {
     "name": "stdout",
     "output_type": "stream",
     "text": [
      "Epoch 195:\n",
      "\ttrain: loss: 0.1337 | auc_cos: 0.9541 | acc_cos: 0.8572 | auc_eu: 0.9649 | acc_eu: 0.8764\n",
      "\ttest: loss: 0.0353 | auc_cos: 0.9288 | acc_cos: 0.8978 | auc_eu: 0.9402 | acc_eu: 0.8750\n"
     ]
    },
    {
     "name": "stdout",
     "output_type": "stream",
     "text": [
      "\tSaving model and optimizer state to /kaggle/working/checkpoint/triplet/albedo/models/checkpoint.pth\n",
      "\tEpoch 195: EarlyStopping counter for 'cosine_auc': 9/50\n",
      "\tEpoch 195: EarlyStopping counter for 'cosine_acc': 66/50\n",
      "\tEpoch 195: EarlyStopping counter for 'euclidean_auc': 42/50\n",
      "\tEpoch 195: EarlyStopping counter for 'euclidean_acc': 7/50\n"
     ]
    },
    {
     "name": "stdout",
     "output_type": "stream",
     "text": [
      "Epoch 196:\n",
      "\ttrain: loss: 0.1203 | auc_cos: 0.9576 | acc_cos: 0.8767 | auc_eu: 0.9647 | acc_eu: 0.8874\n",
      "\ttest: loss: 0.0375 | auc_cos: 0.9301 | acc_cos: 0.8665 | auc_eu: 0.9378 | acc_eu: 0.9239\n"
     ]
    },
    {
     "name": "stdout",
     "output_type": "stream",
     "text": [
      "\tSaving model and optimizer state to /kaggle/working/checkpoint/triplet/albedo/models/checkpoint.pth\n",
      "\tEpoch 196: EarlyStopping counter for 'cosine_auc': 10/50\n",
      "\tEpoch 196: EarlyStopping counter for 'cosine_acc': 67/50\n"
     ]
    },
    {
     "name": "stdout",
     "output_type": "stream",
     "text": [
      "\tSaved best model weights for 'euclidean_auc' at epoch 196 to '/kaggle/working/checkpoint/triplet/albedo/models/best_euclidean_auc_196.pth'\n",
      "\tEpoch 196: EarlyStopping counter for 'euclidean_acc': 8/50\n"
     ]
    },
    {
     "name": "stdout",
     "output_type": "stream",
     "text": [
      "Epoch 197:\n",
      "\ttrain: loss: 0.1314 | auc_cos: 0.9600 | acc_cos: 0.8775 | auc_eu: 0.9677 | acc_eu: 0.8765\n",
      "\ttest: loss: 0.0349 | auc_cos: 0.9312 | acc_cos: 0.8776 | auc_eu: 0.9400 | acc_eu: 0.8593\n"
     ]
    },
    {
     "name": "stdout",
     "output_type": "stream",
     "text": [
      "\tSaving model and optimizer state to /kaggle/working/checkpoint/triplet/albedo/models/checkpoint.pth\n",
      "\tEpoch 197: EarlyStopping counter for 'cosine_auc': 11/50\n",
      "\tEpoch 197: EarlyStopping counter for 'cosine_acc': 68/50\n",
      "\tEpoch 197: EarlyStopping counter for 'euclidean_auc': 1/50\n",
      "\tEpoch 197: EarlyStopping counter for 'euclidean_acc': 9/50\n"
     ]
    },
    {
     "name": "stdout",
     "output_type": "stream",
     "text": [
      "Epoch 198:\n",
      "\ttrain: loss: 0.1238 | auc_cos: 0.9573 | acc_cos: 0.8656 | auc_eu: 0.9650 | acc_eu: 0.8681\n",
      "\ttest: loss: 0.0384 | auc_cos: 0.9335 | acc_cos: 0.8818 | auc_eu: 0.9411 | acc_eu: 0.8835\n"
     ]
    },
    {
     "name": "stdout",
     "output_type": "stream",
     "text": [
      "\tSaving model and optimizer state to /kaggle/working/checkpoint/triplet/albedo/models/checkpoint.pth\n",
      "\tEpoch 198: EarlyStopping counter for 'cosine_auc': 12/50\n",
      "\tEpoch 198: EarlyStopping counter for 'cosine_acc': 69/50\n",
      "\tEpoch 198: EarlyStopping counter for 'euclidean_auc': 2/50\n",
      "\tEpoch 198: EarlyStopping counter for 'euclidean_acc': 10/50\n"
     ]
    },
    {
     "name": "stdout",
     "output_type": "stream",
     "text": [
      "Epoch 199:\n",
      "\ttrain: loss: 0.1039 | auc_cos: 0.9591 | acc_cos: 0.8571 | auc_eu: 0.9669 | acc_eu: 0.8750\n",
      "\ttest: loss: 0.0375 | auc_cos: 0.9333 | acc_cos: 0.9143 | auc_eu: 0.9403 | acc_eu: 0.8693\n"
     ]
    },
    {
     "name": "stdout",
     "output_type": "stream",
     "text": [
      "\tSaving model and optimizer state to /kaggle/working/checkpoint/triplet/albedo/models/checkpoint.pth\n",
      "\tEpoch 199: EarlyStopping counter for 'cosine_auc': 13/50\n",
      "\tEpoch 199: EarlyStopping counter for 'cosine_acc': 70/50\n",
      "\tEpoch 199: EarlyStopping counter for 'euclidean_auc': 3/50\n",
      "\tEpoch 199: EarlyStopping counter for 'euclidean_acc': 11/50\n"
     ]
    },
    {
     "name": "stdout",
     "output_type": "stream",
     "text": [
      "Epoch 200:\n",
      "\ttrain: loss: 0.2137 | auc_cos: 0.9238 | acc_cos: 0.7959 | auc_eu: 0.9317 | acc_eu: 0.8174\n",
      "\ttest: loss: 0.1495 | auc_cos: 0.9264 | acc_cos: 0.8709 | auc_eu: 0.9289 | acc_eu: 0.8955\n"
     ]
    },
    {
     "name": "stdout",
     "output_type": "stream",
     "text": [
      "\tSaving model and optimizer state to /kaggle/working/checkpoint/triplet/albedo/models/checkpoint.pth\n",
      "\tEpoch 200: EarlyStopping counter for 'cosine_auc': 14/50\n",
      "\tEpoch 200: EarlyStopping counter for 'cosine_acc': 71/50\n",
      "\tEpoch 200: EarlyStopping counter for 'euclidean_auc': 4/50\n",
      "\tEpoch 200: EarlyStopping counter for 'euclidean_acc': 12/50\n"
     ]
    },
    {
     "name": "stdout",
     "output_type": "stream",
     "text": [
      "Epoch 201:\n",
      "\ttrain: loss: 0.3121 | auc_cos: 0.9198 | acc_cos: 0.8366 | auc_eu: 0.9205 | acc_eu: 0.7987\n",
      "\ttest: loss: 0.1326 | auc_cos: 0.9250 | acc_cos: 0.8730 | auc_eu: 0.9268 | acc_eu: 0.8558\n"
     ]
    },
    {
     "name": "stdout",
     "output_type": "stream",
     "text": [
      "\tSaving model and optimizer state to /kaggle/working/checkpoint/triplet/albedo/models/checkpoint.pth\n",
      "\tEpoch 201: EarlyStopping counter for 'cosine_auc': 15/50\n",
      "\tEpoch 201: EarlyStopping counter for 'cosine_acc': 72/50\n",
      "\tEpoch 201: EarlyStopping counter for 'euclidean_auc': 5/50\n",
      "\tEpoch 201: EarlyStopping counter for 'euclidean_acc': 13/50\n"
     ]
    },
    {
     "name": "stdout",
     "output_type": "stream",
     "text": [
      "Epoch 202:\n",
      "\ttrain: loss: 0.3593 | auc_cos: 0.8912 | acc_cos: 0.7460 | auc_eu: 0.8980 | acc_eu: 0.7924\n",
      "\ttest: loss: 0.1965 | auc_cos: 0.8988 | acc_cos: 0.8529 | auc_eu: 0.9028 | acc_eu: 0.7909\n"
     ]
    },
    {
     "name": "stdout",
     "output_type": "stream",
     "text": [
      "\tSaving model and optimizer state to /kaggle/working/checkpoint/triplet/albedo/models/checkpoint.pth\n",
      "\tEpoch 202: EarlyStopping counter for 'cosine_auc': 16/50\n",
      "\tEpoch 202: EarlyStopping counter for 'cosine_acc': 73/50\n",
      "\tEpoch 202: EarlyStopping counter for 'euclidean_auc': 6/50\n",
      "\tEpoch 202: EarlyStopping counter for 'euclidean_acc': 14/50\n"
     ]
    },
    {
     "name": "stdout",
     "output_type": "stream",
     "text": [
      "Epoch 203:\n",
      "\ttrain: loss: 0.4251 | auc_cos: 0.9012 | acc_cos: 0.8038 | auc_eu: 0.9055 | acc_eu: 0.8309\n",
      "\ttest: loss: 0.2105 | auc_cos: 0.9186 | acc_cos: 0.8954 | auc_eu: 0.9186 | acc_eu: 0.8908\n"
     ]
    },
    {
     "name": "stdout",
     "output_type": "stream",
     "text": [
      "\tSaving model and optimizer state to /kaggle/working/checkpoint/triplet/albedo/models/checkpoint.pth\n",
      "\tEpoch 203: EarlyStopping counter for 'cosine_auc': 17/50\n",
      "\tEpoch 203: EarlyStopping counter for 'cosine_acc': 74/50\n",
      "\tEpoch 203: EarlyStopping counter for 'euclidean_auc': 7/50\n",
      "\tEpoch 203: EarlyStopping counter for 'euclidean_acc': 15/50\n"
     ]
    },
    {
     "name": "stdout",
     "output_type": "stream",
     "text": [
      "Epoch 204:\n",
      "\ttrain: loss: 0.4436 | auc_cos: 0.8845 | acc_cos: 0.7648 | auc_eu: 0.8862 | acc_eu: 0.7823\n",
      "\ttest: loss: 0.1977 | auc_cos: 0.8834 | acc_cos: 0.8178 | auc_eu: 0.8921 | acc_eu: 0.8471\n"
     ]
    },
    {
     "name": "stdout",
     "output_type": "stream",
     "text": [
      "\tSaving model and optimizer state to /kaggle/working/checkpoint/triplet/albedo/models/checkpoint.pth\n",
      "\tEpoch 204: EarlyStopping counter for 'cosine_auc': 18/50\n",
      "\tEpoch 204: EarlyStopping counter for 'cosine_acc': 75/50\n",
      "\tEpoch 204: EarlyStopping counter for 'euclidean_auc': 8/50\n",
      "\tEpoch 204: EarlyStopping counter for 'euclidean_acc': 16/50\n"
     ]
    },
    {
     "name": "stdout",
     "output_type": "stream",
     "text": [
      "Epoch 205:\n",
      "\ttrain: loss: 0.4703 | auc_cos: 0.9225 | acc_cos: 0.8207 | auc_eu: 0.9246 | acc_eu: 0.8037\n",
      "\ttest: loss: 0.1267 | auc_cos: 0.9142 | acc_cos: 0.8942 | auc_eu: 0.9186 | acc_eu: 0.7916\n"
     ]
    },
    {
     "name": "stdout",
     "output_type": "stream",
     "text": [
      "\tSaving model and optimizer state to /kaggle/working/checkpoint/triplet/albedo/models/checkpoint.pth\n",
      "\tEpoch 205: EarlyStopping counter for 'cosine_auc': 19/50\n",
      "\tEpoch 205: EarlyStopping counter for 'cosine_acc': 76/50\n",
      "\tEpoch 205: EarlyStopping counter for 'euclidean_auc': 9/50\n",
      "\tEpoch 205: EarlyStopping counter for 'euclidean_acc': 17/50\n"
     ]
    },
    {
     "name": "stdout",
     "output_type": "stream",
     "text": [
      "Epoch 206:\n",
      "\ttrain: loss: 0.3905 | auc_cos: 0.9168 | acc_cos: 0.7995 | auc_eu: 0.9201 | acc_eu: 0.8148\n",
      "\ttest: loss: 0.1280 | auc_cos: 0.9165 | acc_cos: 0.8498 | auc_eu: 0.9115 | acc_eu: 0.8489\n"
     ]
    },
    {
     "name": "stdout",
     "output_type": "stream",
     "text": [
      "\tSaving model and optimizer state to /kaggle/working/checkpoint/triplet/albedo/models/checkpoint.pth\n",
      "\tEpoch 206: EarlyStopping counter for 'cosine_auc': 20/50\n",
      "\tEpoch 206: EarlyStopping counter for 'cosine_acc': 77/50\n",
      "\tEpoch 206: EarlyStopping counter for 'euclidean_auc': 10/50\n",
      "\tEpoch 206: EarlyStopping counter for 'euclidean_acc': 18/50\n"
     ]
    },
    {
     "name": "stdout",
     "output_type": "stream",
     "text": [
      "Epoch 207:\n",
      "\ttrain: loss: 0.3806 | auc_cos: 0.9093 | acc_cos: 0.8264 | auc_eu: 0.9157 | acc_eu: 0.7971\n",
      "\ttest: loss: 0.1214 | auc_cos: 0.9031 | acc_cos: 0.8034 | auc_eu: 0.9049 | acc_eu: 0.7858\n"
     ]
    },
    {
     "name": "stdout",
     "output_type": "stream",
     "text": [
      "\tSaving model and optimizer state to /kaggle/working/checkpoint/triplet/albedo/models/checkpoint.pth\n",
      "\tEpoch 207: EarlyStopping counter for 'cosine_auc': 21/50\n",
      "\tEpoch 207: EarlyStopping counter for 'cosine_acc': 78/50\n",
      "\tEpoch 207: EarlyStopping counter for 'euclidean_auc': 11/50\n",
      "\tEpoch 207: EarlyStopping counter for 'euclidean_acc': 19/50\n"
     ]
    },
    {
     "name": "stdout",
     "output_type": "stream",
     "text": [
      "Epoch 208:\n",
      "\ttrain: loss: 0.3104 | auc_cos: 0.9106 | acc_cos: 0.8276 | auc_eu: 0.9163 | acc_eu: 0.7808\n",
      "\ttest: loss: 0.1265 | auc_cos: 0.9123 | acc_cos: 0.7901 | auc_eu: 0.9154 | acc_eu: 0.7929\n"
     ]
    },
    {
     "name": "stdout",
     "output_type": "stream",
     "text": [
      "\tSaving model and optimizer state to /kaggle/working/checkpoint/triplet/albedo/models/checkpoint.pth\n",
      "\tEpoch 208: EarlyStopping counter for 'cosine_auc': 22/50\n",
      "\tEpoch 208: EarlyStopping counter for 'cosine_acc': 79/50\n",
      "\tEpoch 208: EarlyStopping counter for 'euclidean_auc': 12/50\n",
      "\tEpoch 208: EarlyStopping counter for 'euclidean_acc': 20/50\n"
     ]
    },
    {
     "name": "stdout",
     "output_type": "stream",
     "text": [
      "Epoch 209:\n",
      "\ttrain: loss: 0.4135 | auc_cos: 0.9192 | acc_cos: 0.8115 | auc_eu: 0.9234 | acc_eu: 0.7882\n",
      "\ttest: loss: 0.1094 | auc_cos: 0.9197 | acc_cos: 0.8505 | auc_eu: 0.9199 | acc_eu: 0.7989\n"
     ]
    },
    {
     "name": "stdout",
     "output_type": "stream",
     "text": [
      "\tSaving model and optimizer state to /kaggle/working/checkpoint/triplet/albedo/models/checkpoint.pth\n",
      "\tEpoch 209: EarlyStopping counter for 'cosine_auc': 23/50\n",
      "\tEpoch 209: EarlyStopping counter for 'cosine_acc': 80/50\n",
      "\tEpoch 209: EarlyStopping counter for 'euclidean_auc': 13/50\n",
      "\tEpoch 209: EarlyStopping counter for 'euclidean_acc': 21/50\n"
     ]
    },
    {
     "name": "stdout",
     "output_type": "stream",
     "text": [
      "Epoch 210:\n",
      "\ttrain: loss: 0.2979 | auc_cos: 0.9173 | acc_cos: 0.8191 | auc_eu: 0.9232 | acc_eu: 0.8391\n",
      "\ttest: loss: 0.1326 | auc_cos: 0.9258 | acc_cos: 0.8349 | auc_eu: 0.9305 | acc_eu: 0.8611\n"
     ]
    },
    {
     "name": "stdout",
     "output_type": "stream",
     "text": [
      "\tSaving model and optimizer state to /kaggle/working/checkpoint/triplet/albedo/models/checkpoint.pth\n",
      "\tEpoch 210: EarlyStopping counter for 'cosine_auc': 24/50\n",
      "\tEpoch 210: EarlyStopping counter for 'cosine_acc': 81/50\n",
      "\tEpoch 210: EarlyStopping counter for 'euclidean_auc': 14/50\n",
      "\tEpoch 210: EarlyStopping counter for 'euclidean_acc': 22/50\n"
     ]
    },
    {
     "name": "stdout",
     "output_type": "stream",
     "text": [
      "Epoch 211:\n",
      "\ttrain: loss: 0.3518 | auc_cos: 0.9287 | acc_cos: 0.8383 | auc_eu: 0.9308 | acc_eu: 0.7931\n",
      "\ttest: loss: 0.1266 | auc_cos: 0.9265 | acc_cos: 0.8418 | auc_eu: 0.9292 | acc_eu: 0.8822\n"
     ]
    },
    {
     "name": "stdout",
     "output_type": "stream",
     "text": [
      "\tSaving model and optimizer state to /kaggle/working/checkpoint/triplet/albedo/models/checkpoint.pth\n",
      "\tEpoch 211: EarlyStopping counter for 'cosine_auc': 25/50\n",
      "\tEpoch 211: EarlyStopping counter for 'cosine_acc': 82/50\n",
      "\tEpoch 211: EarlyStopping counter for 'euclidean_auc': 15/50\n",
      "\tEpoch 211: EarlyStopping counter for 'euclidean_acc': 23/50\n"
     ]
    },
    {
     "name": "stdout",
     "output_type": "stream",
     "text": [
      "Epoch 212:\n",
      "\ttrain: loss: 0.3219 | auc_cos: 0.9379 | acc_cos: 0.8436 | auc_eu: 0.9403 | acc_eu: 0.8494\n",
      "\ttest: loss: 0.0959 | auc_cos: 0.9267 | acc_cos: 0.8445 | auc_eu: 0.9326 | acc_eu: 0.8259\n"
     ]
    },
    {
     "name": "stdout",
     "output_type": "stream",
     "text": [
      "\tSaving model and optimizer state to /kaggle/working/checkpoint/triplet/albedo/models/checkpoint.pth\n",
      "\tEpoch 212: EarlyStopping counter for 'cosine_auc': 26/50\n",
      "\tEpoch 212: EarlyStopping counter for 'cosine_acc': 83/50\n",
      "\tEpoch 212: EarlyStopping counter for 'euclidean_auc': 16/50\n",
      "\tEpoch 212: EarlyStopping counter for 'euclidean_acc': 24/50\n"
     ]
    },
    {
     "name": "stdout",
     "output_type": "stream",
     "text": [
      "Epoch 213:\n",
      "\ttrain: loss: 0.2733 | auc_cos: 0.9383 | acc_cos: 0.8543 | auc_eu: 0.9395 | acc_eu: 0.8540\n",
      "\ttest: loss: 0.0937 | auc_cos: 0.9247 | acc_cos: 0.8466 | auc_eu: 0.9264 | acc_eu: 0.7336\n"
     ]
    },
    {
     "name": "stdout",
     "output_type": "stream",
     "text": [
      "\tSaving model and optimizer state to /kaggle/working/checkpoint/triplet/albedo/models/checkpoint.pth\n",
      "\tEpoch 213: EarlyStopping counter for 'cosine_auc': 27/50\n",
      "\tEpoch 213: EarlyStopping counter for 'cosine_acc': 84/50\n",
      "\tEpoch 213: EarlyStopping counter for 'euclidean_auc': 17/50\n",
      "\tEpoch 213: EarlyStopping counter for 'euclidean_acc': 25/50\n"
     ]
    },
    {
     "name": "stdout",
     "output_type": "stream",
     "text": [
      "Epoch 214:\n",
      "\ttrain: loss: 0.2139 | auc_cos: 0.9358 | acc_cos: 0.7965 | auc_eu: 0.9425 | acc_eu: 0.8243\n",
      "\ttest: loss: 0.0883 | auc_cos: 0.9153 | acc_cos: 0.8370 | auc_eu: 0.9205 | acc_eu: 0.8629\n"
     ]
    },
    {
     "name": "stdout",
     "output_type": "stream",
     "text": [
      "\tSaving model and optimizer state to /kaggle/working/checkpoint/triplet/albedo/models/checkpoint.pth\n",
      "\tEpoch 214: EarlyStopping counter for 'cosine_auc': 28/50\n",
      "\tEpoch 214: EarlyStopping counter for 'cosine_acc': 85/50\n",
      "\tEpoch 214: EarlyStopping counter for 'euclidean_auc': 18/50\n",
      "\tEpoch 214: EarlyStopping counter for 'euclidean_acc': 26/50\n"
     ]
    },
    {
     "name": "stdout",
     "output_type": "stream",
     "text": [
      "Epoch 215:\n",
      "\ttrain: loss: 0.2589 | auc_cos: 0.9336 | acc_cos: 0.8052 | auc_eu: 0.9409 | acc_eu: 0.8516\n",
      "\ttest: loss: 0.0807 | auc_cos: 0.9233 | acc_cos: 0.8371 | auc_eu: 0.9284 | acc_eu: 0.8174\n"
     ]
    },
    {
     "name": "stdout",
     "output_type": "stream",
     "text": [
      "\tSaving model and optimizer state to /kaggle/working/checkpoint/triplet/albedo/models/checkpoint.pth\n",
      "\tEpoch 215: EarlyStopping counter for 'cosine_auc': 29/50\n",
      "\tEpoch 215: EarlyStopping counter for 'cosine_acc': 86/50\n",
      "\tEpoch 215: EarlyStopping counter for 'euclidean_auc': 19/50\n",
      "\tEpoch 215: EarlyStopping counter for 'euclidean_acc': 27/50\n"
     ]
    },
    {
     "name": "stdout",
     "output_type": "stream",
     "text": [
      "Epoch 216:\n",
      "\ttrain: loss: 0.2404 | auc_cos: 0.9433 | acc_cos: 0.8223 | auc_eu: 0.9463 | acc_eu: 0.8367\n",
      "\ttest: loss: 0.0842 | auc_cos: 0.9302 | acc_cos: 0.8341 | auc_eu: 0.9323 | acc_eu: 0.8710\n"
     ]
    },
    {
     "name": "stdout",
     "output_type": "stream",
     "text": [
      "\tSaving model and optimizer state to /kaggle/working/checkpoint/triplet/albedo/models/checkpoint.pth\n",
      "\tEpoch 216: EarlyStopping counter for 'cosine_auc': 30/50\n",
      "\tEpoch 216: EarlyStopping counter for 'cosine_acc': 87/50\n",
      "\tEpoch 216: EarlyStopping counter for 'euclidean_auc': 20/50\n",
      "\tEpoch 216: EarlyStopping counter for 'euclidean_acc': 28/50\n"
     ]
    },
    {
     "name": "stdout",
     "output_type": "stream",
     "text": [
      "Epoch 217:\n",
      "\ttrain: loss: 0.2429 | auc_cos: 0.9368 | acc_cos: 0.8395 | auc_eu: 0.9459 | acc_eu: 0.8348\n",
      "\ttest: loss: 0.0861 | auc_cos: 0.9201 | acc_cos: 0.8858 | auc_eu: 0.9256 | acc_eu: 0.8123\n"
     ]
    },
    {
     "name": "stdout",
     "output_type": "stream",
     "text": [
      "\tSaving model and optimizer state to /kaggle/working/checkpoint/triplet/albedo/models/checkpoint.pth\n",
      "\tEpoch 217: EarlyStopping counter for 'cosine_auc': 31/50\n",
      "\tEpoch 217: EarlyStopping counter for 'cosine_acc': 88/50\n",
      "\tEpoch 217: EarlyStopping counter for 'euclidean_auc': 21/50\n",
      "\tEpoch 217: EarlyStopping counter for 'euclidean_acc': 29/50\n"
     ]
    },
    {
     "name": "stdout",
     "output_type": "stream",
     "text": [
      "Epoch 218:\n",
      "\ttrain: loss: 0.2323 | auc_cos: 0.9454 | acc_cos: 0.8656 | auc_eu: 0.9508 | acc_eu: 0.8461\n",
      "\ttest: loss: 0.0705 | auc_cos: 0.9267 | acc_cos: 0.8350 | auc_eu: 0.9284 | acc_eu: 0.8138\n"
     ]
    },
    {
     "name": "stdout",
     "output_type": "stream",
     "text": [
      "\tSaving model and optimizer state to /kaggle/working/checkpoint/triplet/albedo/models/checkpoint.pth\n",
      "\tEpoch 218: EarlyStopping counter for 'cosine_auc': 32/50\n",
      "\tEpoch 218: EarlyStopping counter for 'cosine_acc': 89/50\n",
      "\tEpoch 218: EarlyStopping counter for 'euclidean_auc': 22/50\n",
      "\tEpoch 218: EarlyStopping counter for 'euclidean_acc': 30/50\n"
     ]
    },
    {
     "name": "stdout",
     "output_type": "stream",
     "text": [
      "Epoch 219:\n",
      "\ttrain: loss: 0.2185 | auc_cos: 0.9479 | acc_cos: 0.8685 | auc_eu: 0.9534 | acc_eu: 0.8484\n",
      "\ttest: loss: 0.0818 | auc_cos: 0.9223 | acc_cos: 0.8659 | auc_eu: 0.9196 | acc_eu: 0.8946\n"
     ]
    },
    {
     "name": "stdout",
     "output_type": "stream",
     "text": [
      "\tSaving model and optimizer state to /kaggle/working/checkpoint/triplet/albedo/models/checkpoint.pth\n",
      "\tEpoch 219: EarlyStopping counter for 'cosine_auc': 33/50\n",
      "\tEpoch 219: EarlyStopping counter for 'cosine_acc': 90/50\n",
      "\tEpoch 219: EarlyStopping counter for 'euclidean_auc': 23/50\n",
      "\tEpoch 219: EarlyStopping counter for 'euclidean_acc': 31/50\n"
     ]
    },
    {
     "name": "stdout",
     "output_type": "stream",
     "text": [
      "Epoch 220:\n",
      "\ttrain: loss: 0.2062 | auc_cos: 0.9490 | acc_cos: 0.8416 | auc_eu: 0.9531 | acc_eu: 0.8527\n",
      "\ttest: loss: 0.0832 | auc_cos: 0.9430 | acc_cos: 0.8914 | auc_eu: 0.9403 | acc_eu: 0.9123\n"
     ]
    },
    {
     "name": "stdout",
     "output_type": "stream",
     "text": [
      "\tSaving model and optimizer state to /kaggle/working/checkpoint/triplet/albedo/models/checkpoint.pth\n",
      "\tSaved best model weights for 'cosine_auc' at epoch 220 to '/kaggle/working/checkpoint/triplet/albedo/models/best_cosine_auc_220.pth'\n",
      "\tEpoch 220: EarlyStopping counter for 'cosine_acc': 91/50\n",
      "\tEpoch 220: EarlyStopping counter for 'euclidean_auc': 24/50\n",
      "\tEpoch 220: EarlyStopping counter for 'euclidean_acc': 32/50\n"
     ]
    },
    {
     "name": "stdout",
     "output_type": "stream",
     "text": [
      "Epoch 221:\n",
      "\ttrain: loss: 0.2037 | auc_cos: 0.9505 | acc_cos: 0.8659 | auc_eu: 0.9542 | acc_eu: 0.8412\n",
      "\ttest: loss: 0.0750 | auc_cos: 0.9320 | acc_cos: 0.8746 | auc_eu: 0.9348 | acc_eu: 0.8795\n"
     ]
    },
    {
     "name": "stdout",
     "output_type": "stream",
     "text": [
      "\tSaving model and optimizer state to /kaggle/working/checkpoint/triplet/albedo/models/checkpoint.pth\n",
      "\tEpoch 221: EarlyStopping counter for 'cosine_auc': 1/50\n",
      "\tEpoch 221: EarlyStopping counter for 'cosine_acc': 92/50\n",
      "\tEpoch 221: EarlyStopping counter for 'euclidean_auc': 25/50\n",
      "\tEpoch 221: EarlyStopping counter for 'euclidean_acc': 33/50\n"
     ]
    },
    {
     "name": "stdout",
     "output_type": "stream",
     "text": [
      "Epoch 222:\n",
      "\ttrain: loss: 0.1788 | auc_cos: 0.9559 | acc_cos: 0.8642 | auc_eu: 0.9613 | acc_eu: 0.8699\n",
      "\ttest: loss: 0.0672 | auc_cos: 0.9396 | acc_cos: 0.8747 | auc_eu: 0.9364 | acc_eu: 0.8367\n"
     ]
    },
    {
     "name": "stdout",
     "output_type": "stream",
     "text": [
      "\tSaving model and optimizer state to /kaggle/working/checkpoint/triplet/albedo/models/checkpoint.pth\n",
      "\tEpoch 222: EarlyStopping counter for 'cosine_auc': 2/50\n",
      "\tEpoch 222: EarlyStopping counter for 'cosine_acc': 93/50\n",
      "\tEpoch 222: EarlyStopping counter for 'euclidean_auc': 26/50\n",
      "\tEpoch 222: EarlyStopping counter for 'euclidean_acc': 34/50\n"
     ]
    },
    {
     "name": "stdout",
     "output_type": "stream",
     "text": [
      "Epoch 223:\n",
      "\ttrain: loss: 0.1830 | auc_cos: 0.9571 | acc_cos: 0.8757 | auc_eu: 0.9639 | acc_eu: 0.8664\n",
      "\ttest: loss: 0.0671 | auc_cos: 0.9425 | acc_cos: 0.9062 | auc_eu: 0.9398 | acc_eu: 0.8619\n"
     ]
    },
    {
     "name": "stdout",
     "output_type": "stream",
     "text": [
      "\tSaving model and optimizer state to /kaggle/working/checkpoint/triplet/albedo/models/checkpoint.pth\n",
      "\tEpoch 223: EarlyStopping counter for 'cosine_auc': 3/50\n",
      "\tEpoch 223: EarlyStopping counter for 'cosine_acc': 94/50\n",
      "\tEpoch 223: EarlyStopping counter for 'euclidean_auc': 27/50\n",
      "\tEpoch 223: EarlyStopping counter for 'euclidean_acc': 35/50\n"
     ]
    },
    {
     "name": "stdout",
     "output_type": "stream",
     "text": [
      "Epoch 224:\n",
      "\ttrain: loss: 0.1785 | auc_cos: 0.9546 | acc_cos: 0.8678 | auc_eu: 0.9573 | acc_eu: 0.8494\n",
      "\ttest: loss: 0.0669 | auc_cos: 0.9278 | acc_cos: 0.8551 | auc_eu: 0.9263 | acc_eu: 0.8549\n"
     ]
    },
    {
     "name": "stdout",
     "output_type": "stream",
     "text": [
      "\tSaving model and optimizer state to /kaggle/working/checkpoint/triplet/albedo/models/checkpoint.pth\n",
      "\tEpoch 224: EarlyStopping counter for 'cosine_auc': 4/50\n",
      "\tEpoch 224: EarlyStopping counter for 'cosine_acc': 95/50\n",
      "\tEpoch 224: EarlyStopping counter for 'euclidean_auc': 28/50\n",
      "\tEpoch 224: EarlyStopping counter for 'euclidean_acc': 36/50\n"
     ]
    },
    {
     "name": "stdout",
     "output_type": "stream",
     "text": [
      "Epoch 225:\n",
      "\ttrain: loss: 0.1832 | auc_cos: 0.9524 | acc_cos: 0.8713 | auc_eu: 0.9562 | acc_eu: 0.8527\n",
      "\ttest: loss: 0.0716 | auc_cos: 0.9241 | acc_cos: 0.8934 | auc_eu: 0.9236 | acc_eu: 0.8718\n"
     ]
    },
    {
     "name": "stdout",
     "output_type": "stream",
     "text": [
      "\tSaving model and optimizer state to /kaggle/working/checkpoint/triplet/albedo/models/checkpoint.pth\n",
      "\tEpoch 225: EarlyStopping counter for 'cosine_auc': 5/50\n",
      "\tEpoch 225: EarlyStopping counter for 'cosine_acc': 96/50\n",
      "\tEpoch 225: EarlyStopping counter for 'euclidean_auc': 29/50\n",
      "\tEpoch 225: EarlyStopping counter for 'euclidean_acc': 37/50\n"
     ]
    },
    {
     "name": "stdout",
     "output_type": "stream",
     "text": [
      "Epoch 226:\n",
      "\ttrain: loss: 0.1908 | auc_cos: 0.9595 | acc_cos: 0.8759 | auc_eu: 0.9635 | acc_eu: 0.8702\n",
      "\ttest: loss: 0.0755 | auc_cos: 0.9341 | acc_cos: 0.8994 | auc_eu: 0.9369 | acc_eu: 0.9014\n"
     ]
    },
    {
     "name": "stdout",
     "output_type": "stream",
     "text": [
      "\tSaving model and optimizer state to /kaggle/working/checkpoint/triplet/albedo/models/checkpoint.pth\n",
      "\tEpoch 226: EarlyStopping counter for 'cosine_auc': 6/50\n",
      "\tEpoch 226: EarlyStopping counter for 'cosine_acc': 97/50\n",
      "\tEpoch 226: EarlyStopping counter for 'euclidean_auc': 30/50\n",
      "\tEpoch 226: EarlyStopping counter for 'euclidean_acc': 38/50\n"
     ]
    },
    {
     "name": "stdout",
     "output_type": "stream",
     "text": [
      "Epoch 227:\n",
      "\ttrain: loss: 0.1805 | auc_cos: 0.9585 | acc_cos: 0.8590 | auc_eu: 0.9652 | acc_eu: 0.8804\n",
      "\ttest: loss: 0.0497 | auc_cos: 0.9358 | acc_cos: 0.8950 | auc_eu: 0.9426 | acc_eu: 0.8902\n"
     ]
    },
    {
     "name": "stdout",
     "output_type": "stream",
     "text": [
      "\tSaving model and optimizer state to /kaggle/working/checkpoint/triplet/albedo/models/checkpoint.pth\n",
      "\tEpoch 227: EarlyStopping counter for 'cosine_auc': 7/50\n",
      "\tEpoch 227: EarlyStopping counter for 'cosine_acc': 98/50\n",
      "\tEpoch 227: EarlyStopping counter for 'euclidean_auc': 31/50\n",
      "\tEpoch 227: EarlyStopping counter for 'euclidean_acc': 39/50\n"
     ]
    },
    {
     "name": "stdout",
     "output_type": "stream",
     "text": [
      "Epoch 228:\n",
      "\ttrain: loss: 0.1009 | auc_cos: 0.9614 | acc_cos: 0.8812 | auc_eu: 0.9674 | acc_eu: 0.8887\n",
      "\ttest: loss: 0.0553 | auc_cos: 0.9333 | acc_cos: 0.9190 | auc_eu: 0.9374 | acc_eu: 0.9194\n"
     ]
    },
    {
     "name": "stdout",
     "output_type": "stream",
     "text": [
      "\tSaving model and optimizer state to /kaggle/working/checkpoint/triplet/albedo/models/checkpoint.pth\n",
      "\tEpoch 228: EarlyStopping counter for 'cosine_auc': 8/50\n",
      "\tEpoch 228: EarlyStopping counter for 'cosine_acc': 99/50\n",
      "\tEpoch 228: EarlyStopping counter for 'euclidean_auc': 32/50\n",
      "\tEpoch 228: EarlyStopping counter for 'euclidean_acc': 40/50\n"
     ]
    },
    {
     "name": "stdout",
     "output_type": "stream",
     "text": [
      "Epoch 229:\n",
      "\ttrain: loss: 0.1439 | auc_cos: 0.9588 | acc_cos: 0.8805 | auc_eu: 0.9651 | acc_eu: 0.8956\n",
      "\ttest: loss: 0.0478 | auc_cos: 0.9327 | acc_cos: 0.8947 | auc_eu: 0.9381 | acc_eu: 0.8955\n"
     ]
    },
    {
     "name": "stdout",
     "output_type": "stream",
     "text": [
      "\tSaving model and optimizer state to /kaggle/working/checkpoint/triplet/albedo/models/checkpoint.pth\n",
      "\tEpoch 229: EarlyStopping counter for 'cosine_auc': 9/50\n",
      "\tEpoch 229: EarlyStopping counter for 'cosine_acc': 100/50\n",
      "\tEpoch 229: EarlyStopping counter for 'euclidean_auc': 33/50\n",
      "\tEpoch 229: EarlyStopping counter for 'euclidean_acc': 41/50\n"
     ]
    },
    {
     "name": "stdout",
     "output_type": "stream",
     "text": [
      "Epoch 230:\n",
      "\ttrain: loss: 0.1391 | auc_cos: 0.9613 | acc_cos: 0.8743 | auc_eu: 0.9675 | acc_eu: 0.8798\n",
      "\ttest: loss: 0.0368 | auc_cos: 0.9328 | acc_cos: 0.8863 | auc_eu: 0.9398 | acc_eu: 0.8896\n"
     ]
    },
    {
     "name": "stdout",
     "output_type": "stream",
     "text": [
      "\tSaving model and optimizer state to /kaggle/working/checkpoint/triplet/albedo/models/checkpoint.pth\n",
      "\tEpoch 230: EarlyStopping counter for 'cosine_auc': 10/50\n",
      "\tEpoch 230: EarlyStopping counter for 'cosine_acc': 101/50\n",
      "\tEpoch 230: EarlyStopping counter for 'euclidean_auc': 34/50\n",
      "\tEpoch 230: EarlyStopping counter for 'euclidean_acc': 42/50\n"
     ]
    },
    {
     "name": "stdout",
     "output_type": "stream",
     "text": [
      "Epoch 231:\n",
      "\ttrain: loss: 0.1576 | auc_cos: 0.9616 | acc_cos: 0.8778 | auc_eu: 0.9667 | acc_eu: 0.8826\n",
      "\ttest: loss: 0.0472 | auc_cos: 0.9362 | acc_cos: 0.8988 | auc_eu: 0.9404 | acc_eu: 0.8896\n"
     ]
    },
    {
     "name": "stdout",
     "output_type": "stream",
     "text": [
      "\tSaving model and optimizer state to /kaggle/working/checkpoint/triplet/albedo/models/checkpoint.pth\n",
      "\tEpoch 231: EarlyStopping counter for 'cosine_auc': 11/50\n",
      "\tEpoch 231: EarlyStopping counter for 'cosine_acc': 102/50\n",
      "\tEpoch 231: EarlyStopping counter for 'euclidean_auc': 35/50\n",
      "\tEpoch 231: EarlyStopping counter for 'euclidean_acc': 43/50\n"
     ]
    },
    {
     "name": "stdout",
     "output_type": "stream",
     "text": [
      "Epoch 232:\n",
      "\ttrain: loss: 0.1319 | auc_cos: 0.9675 | acc_cos: 0.8864 | auc_eu: 0.9733 | acc_eu: 0.8820\n",
      "\ttest: loss: 0.0438 | auc_cos: 0.9364 | acc_cos: 0.9240 | auc_eu: 0.9408 | acc_eu: 0.8367\n"
     ]
    },
    {
     "name": "stdout",
     "output_type": "stream",
     "text": [
      "\tSaving model and optimizer state to /kaggle/working/checkpoint/triplet/albedo/models/checkpoint.pth\n",
      "\tEpoch 232: EarlyStopping counter for 'cosine_auc': 12/50\n",
      "\tSaved best model weights for 'cosine_acc' at epoch 232 to '/kaggle/working/checkpoint/triplet/albedo/models/best_cosine_acc_232.pth'\n",
      "\tEpoch 232: EarlyStopping counter for 'euclidean_auc': 36/50\n",
      "\tEpoch 232: EarlyStopping counter for 'euclidean_acc': 44/50\n"
     ]
    },
    {
     "name": "stdout",
     "output_type": "stream",
     "text": [
      "Epoch 233:\n",
      "\ttrain: loss: 0.1366 | auc_cos: 0.9642 | acc_cos: 0.8821 | auc_eu: 0.9684 | acc_eu: 0.8839\n",
      "\ttest: loss: 0.0412 | auc_cos: 0.9394 | acc_cos: 0.9082 | auc_eu: 0.9423 | acc_eu: 0.8710\n"
     ]
    },
    {
     "name": "stdout",
     "output_type": "stream",
     "text": [
      "\tSaving model and optimizer state to /kaggle/working/checkpoint/triplet/albedo/models/checkpoint.pth\n",
      "\tEpoch 233: EarlyStopping counter for 'cosine_auc': 13/50\n",
      "\tEpoch 233: EarlyStopping counter for 'cosine_acc': 1/50\n",
      "\tEpoch 233: EarlyStopping counter for 'euclidean_auc': 37/50\n",
      "\tEpoch 233: EarlyStopping counter for 'euclidean_acc': 45/50\n"
     ]
    },
    {
     "name": "stdout",
     "output_type": "stream",
     "text": [
      "Epoch 234:\n",
      "\ttrain: loss: 0.0942 | auc_cos: 0.9654 | acc_cos: 0.8962 | auc_eu: 0.9712 | acc_eu: 0.8937\n",
      "\ttest: loss: 0.0417 | auc_cos: 0.9362 | acc_cos: 0.8682 | auc_eu: 0.9389 | acc_eu: 0.8731\n"
     ]
    },
    {
     "name": "stdout",
     "output_type": "stream",
     "text": [
      "\tSaving model and optimizer state to /kaggle/working/checkpoint/triplet/albedo/models/checkpoint.pth\n",
      "\tEpoch 234: EarlyStopping counter for 'cosine_auc': 14/50\n",
      "\tEpoch 234: EarlyStopping counter for 'cosine_acc': 2/50\n",
      "\tEpoch 234: EarlyStopping counter for 'euclidean_auc': 38/50\n",
      "\tEpoch 234: EarlyStopping counter for 'euclidean_acc': 46/50\n"
     ]
    },
    {
     "name": "stdout",
     "output_type": "stream",
     "text": [
      "Epoch 235:\n",
      "\ttrain: loss: 0.1079 | auc_cos: 0.9689 | acc_cos: 0.8888 | auc_eu: 0.9742 | acc_eu: 0.9054\n",
      "\ttest: loss: 0.0396 | auc_cos: 0.9360 | acc_cos: 0.8999 | auc_eu: 0.9390 | acc_eu: 0.8840\n"
     ]
    },
    {
     "name": "stdout",
     "output_type": "stream",
     "text": [
      "\tSaving model and optimizer state to /kaggle/working/checkpoint/triplet/albedo/models/checkpoint.pth\n",
      "\tEpoch 235: EarlyStopping counter for 'cosine_auc': 15/50\n",
      "\tEpoch 235: EarlyStopping counter for 'cosine_acc': 3/50\n",
      "\tEpoch 235: EarlyStopping counter for 'euclidean_auc': 39/50\n",
      "\tEpoch 235: EarlyStopping counter for 'euclidean_acc': 47/50\n"
     ]
    },
    {
     "name": "stdout",
     "output_type": "stream",
     "text": [
      "Epoch 236:\n",
      "\ttrain: loss: 0.1046 | auc_cos: 0.9682 | acc_cos: 0.8922 | auc_eu: 0.9748 | acc_eu: 0.8911\n",
      "\ttest: loss: 0.0367 | auc_cos: 0.9400 | acc_cos: 0.9107 | auc_eu: 0.9438 | acc_eu: 0.8983\n"
     ]
    },
    {
     "name": "stdout",
     "output_type": "stream",
     "text": [
      "\tSaving model and optimizer state to /kaggle/working/checkpoint/triplet/albedo/models/checkpoint.pth\n",
      "\tEpoch 236: EarlyStopping counter for 'cosine_auc': 16/50\n",
      "\tEpoch 236: EarlyStopping counter for 'cosine_acc': 4/50\n",
      "\tEpoch 236: EarlyStopping counter for 'euclidean_auc': 40/50\n",
      "\tSaved best model weights for 'euclidean_acc' at epoch 236 to '/kaggle/working/checkpoint/triplet/albedo/models/best_euclidean_acc_236.pth'\n"
     ]
    },
    {
     "name": "stdout",
     "output_type": "stream",
     "text": [
      "Epoch 237:\n",
      "\ttrain: loss: 0.1060 | auc_cos: 0.9694 | acc_cos: 0.8970 | auc_eu: 0.9758 | acc_eu: 0.9050\n",
      "\ttest: loss: 0.0374 | auc_cos: 0.9367 | acc_cos: 0.9031 | auc_eu: 0.9414 | acc_eu: 0.8840\n"
     ]
    },
    {
     "name": "stdout",
     "output_type": "stream",
     "text": [
      "\tSaving model and optimizer state to /kaggle/working/checkpoint/triplet/albedo/models/checkpoint.pth\n",
      "\tEpoch 237: EarlyStopping counter for 'cosine_auc': 17/50\n",
      "\tEpoch 237: EarlyStopping counter for 'cosine_acc': 5/50\n",
      "\tEpoch 237: EarlyStopping counter for 'euclidean_auc': 41/50\n",
      "\tEpoch 237: EarlyStopping counter for 'euclidean_acc': 1/50\n"
     ]
    },
    {
     "name": "stdout",
     "output_type": "stream",
     "text": [
      "Epoch 238:\n",
      "\ttrain: loss: 0.1173 | auc_cos: 0.9703 | acc_cos: 0.8866 | auc_eu: 0.9781 | acc_eu: 0.9186\n",
      "\ttest: loss: 0.0360 | auc_cos: 0.9360 | acc_cos: 0.8734 | auc_eu: 0.9465 | acc_eu: 0.8755\n"
     ]
    },
    {
     "name": "stdout",
     "output_type": "stream",
     "text": [
      "\tSaving model and optimizer state to /kaggle/working/checkpoint/triplet/albedo/models/checkpoint.pth\n",
      "\tEpoch 238: EarlyStopping counter for 'cosine_auc': 18/50\n",
      "\tEpoch 238: EarlyStopping counter for 'cosine_acc': 6/50\n",
      "\tEpoch 238: EarlyStopping counter for 'euclidean_auc': 42/50\n",
      "\tSaved best model weights for 'euclidean_acc' at epoch 238 to '/kaggle/working/checkpoint/triplet/albedo/models/best_euclidean_acc_238.pth'\n"
     ]
    },
    {
     "name": "stdout",
     "output_type": "stream",
     "text": [
      "Epoch 239:\n",
      "\ttrain: loss: 0.0991 | auc_cos: 0.9695 | acc_cos: 0.8837 | auc_eu: 0.9782 | acc_eu: 0.8976\n",
      "\ttest: loss: 0.0360 | auc_cos: 0.9420 | acc_cos: 0.9180 | auc_eu: 0.9492 | acc_eu: 0.8888\n"
     ]
    },
    {
     "name": "stdout",
     "output_type": "stream",
     "text": [
      "\tSaving model and optimizer state to /kaggle/working/checkpoint/triplet/albedo/models/checkpoint.pth\n",
      "\tEpoch 239: EarlyStopping counter for 'cosine_auc': 19/50\n",
      "\tEpoch 239: EarlyStopping counter for 'cosine_acc': 7/50\n",
      "\tEpoch 239: EarlyStopping counter for 'euclidean_auc': 43/50\n",
      "\tSaved best model weights for 'euclidean_acc' at epoch 239 to '/kaggle/working/checkpoint/triplet/albedo/models/best_euclidean_acc_239.pth'\n"
     ]
    },
    {
     "name": "stdout",
     "output_type": "stream",
     "text": [
      "Epoch 240:\n",
      "\ttrain: loss: 0.0728 | auc_cos: 0.9685 | acc_cos: 0.9033 | auc_eu: 0.9763 | acc_eu: 0.9148\n",
      "\ttest: loss: 0.0353 | auc_cos: 0.9362 | acc_cos: 0.9120 | auc_eu: 0.9441 | acc_eu: 0.8923\n"
     ]
    },
    {
     "name": "stdout",
     "output_type": "stream",
     "text": [
      "\tSaving model and optimizer state to /kaggle/working/checkpoint/triplet/albedo/models/checkpoint.pth\n",
      "\tEpoch 240: EarlyStopping counter for 'cosine_auc': 20/50\n",
      "\tEpoch 240: EarlyStopping counter for 'cosine_acc': 8/50\n",
      "\tEpoch 240: EarlyStopping counter for 'euclidean_auc': 44/50\n",
      "\tEpoch 240: EarlyStopping counter for 'euclidean_acc': 1/50\n"
     ]
    },
    {
     "name": "stdout",
     "output_type": "stream",
     "text": [
      "Epoch 241:\n",
      "\ttrain: loss: 0.0697 | auc_cos: 0.9684 | acc_cos: 0.8909 | auc_eu: 0.9751 | acc_eu: 0.8949\n",
      "\ttest: loss: 0.0334 | auc_cos: 0.9395 | acc_cos: 0.9174 | auc_eu: 0.9470 | acc_eu: 0.9095\n"
     ]
    },
    {
     "name": "stdout",
     "output_type": "stream",
     "text": [
      "\tSaving model and optimizer state to /kaggle/working/checkpoint/triplet/albedo/models/checkpoint.pth\n",
      "\tEpoch 241: EarlyStopping counter for 'cosine_auc': 21/50\n",
      "\tEpoch 241: EarlyStopping counter for 'cosine_acc': 9/50\n",
      "\tEpoch 241: EarlyStopping counter for 'euclidean_auc': 45/50\n",
      "\tEpoch 241: EarlyStopping counter for 'euclidean_acc': 2/50\n"
     ]
    },
    {
     "name": "stdout",
     "output_type": "stream",
     "text": [
      "Epoch 242:\n",
      "\ttrain: loss: 0.1006 | auc_cos: 0.9677 | acc_cos: 0.8897 | auc_eu: 0.9764 | acc_eu: 0.8997\n",
      "\ttest: loss: 0.0329 | auc_cos: 0.9424 | acc_cos: 0.9020 | auc_eu: 0.9499 | acc_eu: 0.9119\n"
     ]
    },
    {
     "name": "stdout",
     "output_type": "stream",
     "text": [
      "\tSaving model and optimizer state to /kaggle/working/checkpoint/triplet/albedo/models/checkpoint.pth\n",
      "\tEpoch 242: EarlyStopping counter for 'cosine_auc': 22/50\n",
      "\tEpoch 242: EarlyStopping counter for 'cosine_acc': 10/50\n",
      "\tEpoch 242: EarlyStopping counter for 'euclidean_auc': 46/50\n"
     ]
    },
    {
     "name": "stdout",
     "output_type": "stream",
     "text": [
      "\tSaved best model weights for 'euclidean_acc' at epoch 242 to '/kaggle/working/checkpoint/triplet/albedo/models/best_euclidean_acc_242.pth'\n"
     ]
    },
    {
     "name": "stdout",
     "output_type": "stream",
     "text": [
      "Epoch 243:\n",
      "\ttrain: loss: 0.0825 | auc_cos: 0.9729 | acc_cos: 0.8957 | auc_eu: 0.9808 | acc_eu: 0.9060\n",
      "\ttest: loss: 0.0317 | auc_cos: 0.9415 | acc_cos: 0.9204 | auc_eu: 0.9497 | acc_eu: 0.9083\n"
     ]
    },
    {
     "name": "stdout",
     "output_type": "stream",
     "text": [
      "\tSaving model and optimizer state to /kaggle/working/checkpoint/triplet/albedo/models/checkpoint.pth\n",
      "\tEpoch 243: EarlyStopping counter for 'cosine_auc': 23/50\n",
      "\tEpoch 243: EarlyStopping counter for 'cosine_acc': 11/50\n",
      "\tEpoch 243: EarlyStopping counter for 'euclidean_auc': 47/50\n",
      "\tEpoch 243: EarlyStopping counter for 'euclidean_acc': 1/50\n"
     ]
    },
    {
     "name": "stdout",
     "output_type": "stream",
     "text": [
      "Epoch 244:\n",
      "\ttrain: loss: 0.0837 | auc_cos: 0.9717 | acc_cos: 0.8825 | auc_eu: 0.9784 | acc_eu: 0.9079\n",
      "\ttest: loss: 0.0316 | auc_cos: 0.9449 | acc_cos: 0.9104 | auc_eu: 0.9501 | acc_eu: 0.8843\n"
     ]
    },
    {
     "name": "stdout",
     "output_type": "stream",
     "text": [
      "\tSaving model and optimizer state to /kaggle/working/checkpoint/triplet/albedo/models/checkpoint.pth\n"
     ]
    },
    {
     "name": "stdout",
     "output_type": "stream",
     "text": [
      "\tSaved best model weights for 'cosine_auc' at epoch 244 to '/kaggle/working/checkpoint/triplet/albedo/models/best_cosine_auc_244.pth'\n",
      "\tEpoch 244: EarlyStopping counter for 'cosine_acc': 12/50\n",
      "\tEpoch 244: EarlyStopping counter for 'euclidean_auc': 48/50\n",
      "\tSaved best model weights for 'euclidean_acc' at epoch 244 to '/kaggle/working/checkpoint/triplet/albedo/models/best_euclidean_acc_244.pth'\n"
     ]
    },
    {
     "name": "stdout",
     "output_type": "stream",
     "text": [
      "Epoch 245:\n",
      "\ttrain: loss: 0.0758 | auc_cos: 0.9714 | acc_cos: 0.8892 | auc_eu: 0.9786 | acc_eu: 0.9014\n",
      "\ttest: loss: 0.0302 | auc_cos: 0.9413 | acc_cos: 0.9164 | auc_eu: 0.9487 | acc_eu: 0.8896\n"
     ]
    },
    {
     "name": "stdout",
     "output_type": "stream",
     "text": [
      "\tSaving model and optimizer state to /kaggle/working/checkpoint/triplet/albedo/models/checkpoint.pth\n",
      "\tEpoch 245: EarlyStopping counter for 'cosine_auc': 1/50\n",
      "\tEpoch 245: EarlyStopping counter for 'cosine_acc': 13/50\n",
      "\tEpoch 245: EarlyStopping counter for 'euclidean_auc': 49/50\n",
      "\tEpoch 245: EarlyStopping counter for 'euclidean_acc': 1/50\n"
     ]
    },
    {
     "name": "stdout",
     "output_type": "stream",
     "text": [
      "Epoch 246:\n",
      "\ttrain: loss: 0.0771 | auc_cos: 0.9704 | acc_cos: 0.8856 | auc_eu: 0.9778 | acc_eu: 0.9063\n",
      "\ttest: loss: 0.0313 | auc_cos: 0.9425 | acc_cos: 0.9327 | auc_eu: 0.9491 | acc_eu: 0.8935\n"
     ]
    },
    {
     "name": "stdout",
     "output_type": "stream",
     "text": [
      "\tSaving model and optimizer state to /kaggle/working/checkpoint/triplet/albedo/models/checkpoint.pth\n",
      "\tEpoch 246: EarlyStopping counter for 'cosine_auc': 2/50\n",
      "\tSaved best model weights for 'cosine_acc' at epoch 246 to '/kaggle/working/checkpoint/triplet/albedo/models/best_cosine_acc_246.pth'\n",
      "\tEpoch 246: EarlyStopping counter for 'euclidean_auc': 50/50\n",
      "\tEpoch 246: EarlyStopping counter for 'euclidean_acc': 2/50\n"
     ]
    },
    {
     "name": "stdout",
     "output_type": "stream",
     "text": [
      "Epoch 247:\n",
      "\ttrain: loss: 0.0721 | auc_cos: 0.9730 | acc_cos: 0.9040 | auc_eu: 0.9792 | acc_eu: 0.8963\n",
      "\ttest: loss: 0.0302 | auc_cos: 0.9433 | acc_cos: 0.9030 | auc_eu: 0.9491 | acc_eu: 0.8816\n"
     ]
    },
    {
     "name": "stdout",
     "output_type": "stream",
     "text": [
      "\tSaving model and optimizer state to /kaggle/working/checkpoint/triplet/albedo/models/checkpoint.pth\n",
      "\tEpoch 247: EarlyStopping counter for 'cosine_auc': 3/50\n",
      "\tEpoch 247: EarlyStopping counter for 'cosine_acc': 1/50\n",
      "\tEpoch 247: EarlyStopping counter for 'euclidean_auc': 51/50\n",
      "\tEpoch 247: EarlyStopping counter for 'euclidean_acc': 3/50\n"
     ]
    },
    {
     "name": "stdout",
     "output_type": "stream",
     "text": [
      "Epoch 248:\n",
      "\ttrain: loss: 0.1032 | auc_cos: 0.9718 | acc_cos: 0.8919 | auc_eu: 0.9790 | acc_eu: 0.9058\n",
      "\ttest: loss: 0.0299 | auc_cos: 0.9428 | acc_cos: 0.9159 | auc_eu: 0.9483 | acc_eu: 0.8843\n"
     ]
    },
    {
     "name": "stdout",
     "output_type": "stream",
     "text": [
      "\tSaving model and optimizer state to /kaggle/working/checkpoint/triplet/albedo/models/checkpoint.pth\n",
      "\tEpoch 248: EarlyStopping counter for 'cosine_auc': 4/50\n",
      "\tEpoch 248: EarlyStopping counter for 'cosine_acc': 2/50\n",
      "\tEpoch 248: EarlyStopping counter for 'euclidean_auc': 52/50\n",
      "\tEpoch 248: EarlyStopping counter for 'euclidean_acc': 4/50\n"
     ]
    },
    {
     "name": "stdout",
     "output_type": "stream",
     "text": [
      "Epoch 249:\n",
      "\ttrain: loss: 0.0866 | auc_cos: 0.9701 | acc_cos: 0.8900 | auc_eu: 0.9781 | acc_eu: 0.9144\n",
      "\ttest: loss: 0.0317 | auc_cos: 0.9419 | acc_cos: 0.9120 | auc_eu: 0.9490 | acc_eu: 0.8760\n"
     ]
    },
    {
     "name": "stdout",
     "output_type": "stream",
     "text": [
      "\tSaving model and optimizer state to /kaggle/working/checkpoint/triplet/albedo/models/checkpoint.pth\n",
      "\tEpoch 249: EarlyStopping counter for 'cosine_auc': 5/50\n",
      "\tEpoch 249: EarlyStopping counter for 'cosine_acc': 3/50\n",
      "\tEpoch 249: EarlyStopping counter for 'euclidean_auc': 53/50\n",
      "\tEpoch 249: EarlyStopping counter for 'euclidean_acc': 5/50\n"
     ]
    },
    {
     "name": "stdout",
     "output_type": "stream",
     "text": [
      "Epoch 250:\n",
      "\ttrain: loss: 0.1555 | auc_cos: 0.9406 | acc_cos: 0.8694 | auc_eu: 0.9432 | acc_eu: 0.8518\n",
      "\ttest: loss: 0.0969 | auc_cos: 0.9209 | acc_cos: 0.8932 | auc_eu: 0.9191 | acc_eu: 0.8121\n"
     ]
    },
    {
     "name": "stdout",
     "output_type": "stream",
     "text": [
      "\tSaving model and optimizer state to /kaggle/working/checkpoint/triplet/albedo/models/checkpoint.pth\n",
      "\tEpoch 250: EarlyStopping counter for 'cosine_auc': 6/50\n",
      "\tEpoch 250: EarlyStopping counter for 'cosine_acc': 4/50\n",
      "\tEpoch 250: EarlyStopping counter for 'euclidean_auc': 54/50\n",
      "\tEpoch 250: EarlyStopping counter for 'euclidean_acc': 6/50\n"
     ]
    },
    {
     "name": "stdout",
     "output_type": "stream",
     "text": [
      "Epoch 251:\n",
      "\ttrain: loss: 0.2575 | auc_cos: 0.9222 | acc_cos: 0.8157 | auc_eu: 0.9277 | acc_eu: 0.8686\n",
      "\ttest: loss: 0.1425 | auc_cos: 0.9278 | acc_cos: 0.7794 | auc_eu: 0.9282 | acc_eu: 0.8293\n"
     ]
    },
    {
     "name": "stdout",
     "output_type": "stream",
     "text": [
      "\tSaving model and optimizer state to /kaggle/working/checkpoint/triplet/albedo/models/checkpoint.pth\n",
      "\tEpoch 251: EarlyStopping counter for 'cosine_auc': 7/50\n",
      "\tEpoch 251: EarlyStopping counter for 'cosine_acc': 5/50\n",
      "\tEpoch 251: EarlyStopping counter for 'euclidean_auc': 55/50\n",
      "\tEpoch 251: EarlyStopping counter for 'euclidean_acc': 7/50\n"
     ]
    },
    {
     "name": "stdout",
     "output_type": "stream",
     "text": [
      "Epoch 252:\n",
      "\ttrain: loss: 0.3444 | auc_cos: 0.9303 | acc_cos: 0.8339 | auc_eu: 0.9311 | acc_eu: 0.8257\n",
      "\ttest: loss: 0.1365 | auc_cos: 0.9162 | acc_cos: 0.9076 | auc_eu: 0.9168 | acc_eu: 0.8591\n"
     ]
    },
    {
     "name": "stdout",
     "output_type": "stream",
     "text": [
      "\tSaving model and optimizer state to /kaggle/working/checkpoint/triplet/albedo/models/checkpoint.pth\n",
      "\tEpoch 252: EarlyStopping counter for 'cosine_auc': 8/50\n",
      "\tEpoch 252: EarlyStopping counter for 'cosine_acc': 6/50\n",
      "\tEpoch 252: EarlyStopping counter for 'euclidean_auc': 56/50\n",
      "\tEpoch 252: EarlyStopping counter for 'euclidean_acc': 8/50\n"
     ]
    },
    {
     "name": "stdout",
     "output_type": "stream",
     "text": [
      "Epoch 253:\n",
      "\ttrain: loss: 0.3486 | auc_cos: 0.9153 | acc_cos: 0.8158 | auc_eu: 0.9185 | acc_eu: 0.7805\n",
      "\ttest: loss: 0.1265 | auc_cos: 0.9100 | acc_cos: 0.8630 | auc_eu: 0.9099 | acc_eu: 0.7476\n"
     ]
    },
    {
     "name": "stdout",
     "output_type": "stream",
     "text": [
      "\tSaving model and optimizer state to /kaggle/working/checkpoint/triplet/albedo/models/checkpoint.pth\n",
      "\tEpoch 253: EarlyStopping counter for 'cosine_auc': 9/50\n",
      "\tEpoch 253: EarlyStopping counter for 'cosine_acc': 7/50\n",
      "\tEpoch 253: EarlyStopping counter for 'euclidean_auc': 57/50\n",
      "\tEpoch 253: EarlyStopping counter for 'euclidean_acc': 9/50\n"
     ]
    },
    {
     "name": "stdout",
     "output_type": "stream",
     "text": [
      "Epoch 254:\n",
      "\ttrain: loss: 0.3713 | auc_cos: 0.9253 | acc_cos: 0.8376 | auc_eu: 0.9283 | acc_eu: 0.8298\n",
      "\ttest: loss: 0.1220 | auc_cos: 0.9163 | acc_cos: 0.8634 | auc_eu: 0.9170 | acc_eu: 0.8215\n"
     ]
    },
    {
     "name": "stdout",
     "output_type": "stream",
     "text": [
      "\tSaving model and optimizer state to /kaggle/working/checkpoint/triplet/albedo/models/checkpoint.pth\n",
      "\tEpoch 254: EarlyStopping counter for 'cosine_auc': 10/50\n",
      "\tEpoch 254: EarlyStopping counter for 'cosine_acc': 8/50\n",
      "\tEpoch 254: EarlyStopping counter for 'euclidean_auc': 58/50\n",
      "\tEpoch 254: EarlyStopping counter for 'euclidean_acc': 10/50\n"
     ]
    },
    {
     "name": "stdout",
     "output_type": "stream",
     "text": [
      "Epoch 255:\n",
      "\ttrain: loss: 0.3342 | auc_cos: 0.9455 | acc_cos: 0.8519 | auc_eu: 0.9467 | acc_eu: 0.8564\n",
      "\ttest: loss: 0.0840 | auc_cos: 0.9238 | acc_cos: 0.8079 | auc_eu: 0.9291 | acc_eu: 0.8221\n"
     ]
    },
    {
     "name": "stdout",
     "output_type": "stream",
     "text": [
      "\tSaving model and optimizer state to /kaggle/working/checkpoint/triplet/albedo/models/checkpoint.pth\n",
      "\tEpoch 255: EarlyStopping counter for 'cosine_auc': 11/50\n",
      "\tEpoch 255: EarlyStopping counter for 'cosine_acc': 9/50\n",
      "\tEpoch 255: EarlyStopping counter for 'euclidean_auc': 59/50\n",
      "\tEpoch 255: EarlyStopping counter for 'euclidean_acc': 11/50\n"
     ]
    },
    {
     "name": "stdout",
     "output_type": "stream",
     "text": [
      "Epoch 256:\n",
      "\ttrain: loss: 0.2461 | auc_cos: 0.9259 | acc_cos: 0.8556 | auc_eu: 0.9353 | acc_eu: 0.8398\n",
      "\ttest: loss: 0.1374 | auc_cos: 0.9206 | acc_cos: 0.8894 | auc_eu: 0.9337 | acc_eu: 0.8550\n"
     ]
    },
    {
     "name": "stdout",
     "output_type": "stream",
     "text": [
      "\tSaving model and optimizer state to /kaggle/working/checkpoint/triplet/albedo/models/checkpoint.pth\n",
      "\tEpoch 256: EarlyStopping counter for 'cosine_auc': 12/50\n",
      "\tEpoch 256: EarlyStopping counter for 'cosine_acc': 10/50\n",
      "\tEpoch 256: EarlyStopping counter for 'euclidean_auc': 60/50\n",
      "\tEpoch 256: EarlyStopping counter for 'euclidean_acc': 12/50\n"
     ]
    },
    {
     "name": "stdout",
     "output_type": "stream",
     "text": [
      "Epoch 257:\n",
      "\ttrain: loss: 0.2959 | auc_cos: 0.9201 | acc_cos: 0.8575 | auc_eu: 0.9267 | acc_eu: 0.8151\n",
      "\ttest: loss: 0.1502 | auc_cos: 0.8985 | acc_cos: 0.8326 | auc_eu: 0.9036 | acc_eu: 0.8669\n"
     ]
    },
    {
     "name": "stdout",
     "output_type": "stream",
     "text": [
      "\tSaving model and optimizer state to /kaggle/working/checkpoint/triplet/albedo/models/checkpoint.pth\n",
      "\tEpoch 257: EarlyStopping counter for 'cosine_auc': 13/50\n",
      "\tEpoch 257: EarlyStopping counter for 'cosine_acc': 11/50\n",
      "\tEpoch 257: EarlyStopping counter for 'euclidean_auc': 61/50\n",
      "\tEpoch 257: EarlyStopping counter for 'euclidean_acc': 13/50\n"
     ]
    },
    {
     "name": "stdout",
     "output_type": "stream",
     "text": [
      "Epoch 258:\n",
      "\ttrain: loss: 0.2719 | auc_cos: 0.9370 | acc_cos: 0.8306 | auc_eu: 0.9413 | acc_eu: 0.8236\n",
      "\ttest: loss: 0.0979 | auc_cos: 0.9158 | acc_cos: 0.8286 | auc_eu: 0.9223 | acc_eu: 0.8509\n"
     ]
    },
    {
     "name": "stdout",
     "output_type": "stream",
     "text": [
      "\tSaving model and optimizer state to /kaggle/working/checkpoint/triplet/albedo/models/checkpoint.pth\n",
      "\tEpoch 258: EarlyStopping counter for 'cosine_auc': 14/50\n",
      "\tEpoch 258: EarlyStopping counter for 'cosine_acc': 12/50\n",
      "\tEpoch 258: EarlyStopping counter for 'euclidean_auc': 62/50\n",
      "\tEpoch 258: EarlyStopping counter for 'euclidean_acc': 14/50\n"
     ]
    },
    {
     "name": "stdout",
     "output_type": "stream",
     "text": [
      "Epoch 259:\n",
      "\ttrain: loss: 0.2442 | auc_cos: 0.9395 | acc_cos: 0.8547 | auc_eu: 0.9459 | acc_eu: 0.8243\n",
      "\ttest: loss: 0.1365 | auc_cos: 0.9255 | acc_cos: 0.8045 | auc_eu: 0.9404 | acc_eu: 0.8699\n"
     ]
    },
    {
     "name": "stdout",
     "output_type": "stream",
     "text": [
      "\tSaving model and optimizer state to /kaggle/working/checkpoint/triplet/albedo/models/checkpoint.pth\n",
      "\tEpoch 259: EarlyStopping counter for 'cosine_auc': 15/50\n",
      "\tEpoch 259: EarlyStopping counter for 'cosine_acc': 13/50\n",
      "\tEpoch 259: EarlyStopping counter for 'euclidean_auc': 63/50\n",
      "\tEpoch 259: EarlyStopping counter for 'euclidean_acc': 15/50\n"
     ]
    },
    {
     "name": "stdout",
     "output_type": "stream",
     "text": [
      "Epoch 260:\n",
      "\ttrain: loss: 0.2284 | auc_cos: 0.9488 | acc_cos: 0.8564 | auc_eu: 0.9529 | acc_eu: 0.8772\n",
      "\ttest: loss: 0.0918 | auc_cos: 0.9293 | acc_cos: 0.8617 | auc_eu: 0.9370 | acc_eu: 0.9127\n"
     ]
    },
    {
     "name": "stdout",
     "output_type": "stream",
     "text": [
      "\tSaving model and optimizer state to /kaggle/working/checkpoint/triplet/albedo/models/checkpoint.pth\n",
      "\tEpoch 260: EarlyStopping counter for 'cosine_auc': 16/50\n",
      "\tEpoch 260: EarlyStopping counter for 'cosine_acc': 14/50\n",
      "\tEpoch 260: EarlyStopping counter for 'euclidean_auc': 64/50\n",
      "\tEpoch 260: EarlyStopping counter for 'euclidean_acc': 16/50\n"
     ]
    },
    {
     "name": "stdout",
     "output_type": "stream",
     "text": [
      "Epoch 261:\n",
      "\ttrain: loss: 0.2210 | auc_cos: 0.9383 | acc_cos: 0.8724 | auc_eu: 0.9479 | acc_eu: 0.8709\n",
      "\ttest: loss: 0.0734 | auc_cos: 0.9127 | acc_cos: 0.8187 | auc_eu: 0.9245 | acc_eu: 0.8529\n"
     ]
    },
    {
     "name": "stdout",
     "output_type": "stream",
     "text": [
      "\tSaving model and optimizer state to /kaggle/working/checkpoint/triplet/albedo/models/checkpoint.pth\n",
      "\tEpoch 261: EarlyStopping counter for 'cosine_auc': 17/50\n",
      "\tEpoch 261: EarlyStopping counter for 'cosine_acc': 15/50\n",
      "\tEpoch 261: EarlyStopping counter for 'euclidean_auc': 65/50\n",
      "\tEpoch 261: EarlyStopping counter for 'euclidean_acc': 17/50\n"
     ]
    },
    {
     "name": "stdout",
     "output_type": "stream",
     "text": [
      "Epoch 262:\n",
      "\ttrain: loss: 0.1894 | auc_cos: 0.9499 | acc_cos: 0.8710 | auc_eu: 0.9578 | acc_eu: 0.8437\n",
      "\ttest: loss: 0.0702 | auc_cos: 0.9255 | acc_cos: 0.8342 | auc_eu: 0.9309 | acc_eu: 0.8418\n"
     ]
    },
    {
     "name": "stdout",
     "output_type": "stream",
     "text": [
      "\tSaving model and optimizer state to /kaggle/working/checkpoint/triplet/albedo/models/checkpoint.pth\n",
      "\tEpoch 262: EarlyStopping counter for 'cosine_auc': 18/50\n",
      "\tEpoch 262: EarlyStopping counter for 'cosine_acc': 16/50\n",
      "\tEpoch 262: EarlyStopping counter for 'euclidean_auc': 66/50\n",
      "\tEpoch 262: EarlyStopping counter for 'euclidean_acc': 18/50\n"
     ]
    },
    {
     "name": "stdout",
     "output_type": "stream",
     "text": [
      "Epoch 263:\n",
      "\ttrain: loss: 0.1985 | auc_cos: 0.9452 | acc_cos: 0.8399 | auc_eu: 0.9522 | acc_eu: 0.8400\n",
      "\ttest: loss: 0.0864 | auc_cos: 0.9337 | acc_cos: 0.8693 | auc_eu: 0.9383 | acc_eu: 0.9222\n"
     ]
    },
    {
     "name": "stdout",
     "output_type": "stream",
     "text": [
      "\tSaving model and optimizer state to /kaggle/working/checkpoint/triplet/albedo/models/checkpoint.pth\n",
      "\tEpoch 263: EarlyStopping counter for 'cosine_auc': 19/50\n",
      "\tEpoch 263: EarlyStopping counter for 'cosine_acc': 17/50\n",
      "\tEpoch 263: EarlyStopping counter for 'euclidean_auc': 67/50\n",
      "\tEpoch 263: EarlyStopping counter for 'euclidean_acc': 19/50\n"
     ]
    },
    {
     "name": "stdout",
     "output_type": "stream",
     "text": [
      "Epoch 264:\n",
      "\ttrain: loss: 0.1878 | auc_cos: 0.9579 | acc_cos: 0.8700 | auc_eu: 0.9646 | acc_eu: 0.8668\n",
      "\ttest: loss: 0.0666 | auc_cos: 0.9259 | acc_cos: 0.8754 | auc_eu: 0.9296 | acc_eu: 0.9024\n"
     ]
    },
    {
     "name": "stdout",
     "output_type": "stream",
     "text": [
      "\tSaving model and optimizer state to /kaggle/working/checkpoint/triplet/albedo/models/checkpoint.pth\n",
      "\tEpoch 264: EarlyStopping counter for 'cosine_auc': 20/50\n",
      "\tEpoch 264: EarlyStopping counter for 'cosine_acc': 18/50\n",
      "\tEpoch 264: EarlyStopping counter for 'euclidean_auc': 68/50\n",
      "\tEpoch 264: EarlyStopping counter for 'euclidean_acc': 20/50\n"
     ]
    },
    {
     "name": "stdout",
     "output_type": "stream",
     "text": [
      "Epoch 265:\n",
      "\ttrain: loss: 0.1410 | auc_cos: 0.9544 | acc_cos: 0.8823 | auc_eu: 0.9627 | acc_eu: 0.8719\n",
      "\ttest: loss: 0.0662 | auc_cos: 0.9319 | acc_cos: 0.8868 | auc_eu: 0.9444 | acc_eu: 0.9174\n"
     ]
    },
    {
     "name": "stdout",
     "output_type": "stream",
     "text": [
      "\tSaving model and optimizer state to /kaggle/working/checkpoint/triplet/albedo/models/checkpoint.pth\n",
      "\tEpoch 265: EarlyStopping counter for 'cosine_auc': 21/50\n",
      "\tEpoch 265: EarlyStopping counter for 'cosine_acc': 19/50\n",
      "\tEpoch 265: EarlyStopping counter for 'euclidean_auc': 69/50\n",
      "\tEpoch 265: EarlyStopping counter for 'euclidean_acc': 21/50\n"
     ]
    },
    {
     "name": "stdout",
     "output_type": "stream",
     "text": [
      "Epoch 266:\n",
      "\ttrain: loss: 0.1490 | auc_cos: 0.9431 | acc_cos: 0.8524 | auc_eu: 0.9547 | acc_eu: 0.8589\n",
      "\ttest: loss: 0.1032 | auc_cos: 0.9182 | acc_cos: 0.8872 | auc_eu: 0.9231 | acc_eu: 0.8804\n"
     ]
    },
    {
     "name": "stdout",
     "output_type": "stream",
     "text": [
      "\tSaving model and optimizer state to /kaggle/working/checkpoint/triplet/albedo/models/checkpoint.pth\n",
      "\tEpoch 266: EarlyStopping counter for 'cosine_auc': 22/50\n",
      "\tEpoch 266: EarlyStopping counter for 'cosine_acc': 20/50\n",
      "\tEpoch 266: EarlyStopping counter for 'euclidean_auc': 70/50\n",
      "\tEpoch 266: EarlyStopping counter for 'euclidean_acc': 22/50\n"
     ]
    },
    {
     "name": "stdout",
     "output_type": "stream",
     "text": [
      "Epoch 267:\n",
      "\ttrain: loss: 0.1546 | auc_cos: 0.9482 | acc_cos: 0.8548 | auc_eu: 0.9583 | acc_eu: 0.8722\n",
      "\ttest: loss: 0.0876 | auc_cos: 0.9293 | acc_cos: 0.8431 | auc_eu: 0.9304 | acc_eu: 0.8934\n"
     ]
    },
    {
     "name": "stdout",
     "output_type": "stream",
     "text": [
      "\tSaving model and optimizer state to /kaggle/working/checkpoint/triplet/albedo/models/checkpoint.pth\n",
      "\tEpoch 267: EarlyStopping counter for 'cosine_auc': 23/50\n",
      "\tEpoch 267: EarlyStopping counter for 'cosine_acc': 21/50\n",
      "\tEpoch 267: EarlyStopping counter for 'euclidean_auc': 71/50\n",
      "\tEpoch 267: EarlyStopping counter for 'euclidean_acc': 23/50\n"
     ]
    },
    {
     "name": "stdout",
     "output_type": "stream",
     "text": [
      "Epoch 268:\n",
      "\ttrain: loss: 0.1895 | auc_cos: 0.9583 | acc_cos: 0.8722 | auc_eu: 0.9651 | acc_eu: 0.8527\n",
      "\ttest: loss: 0.0744 | auc_cos: 0.9293 | acc_cos: 0.8458 | auc_eu: 0.9366 | acc_eu: 0.8722\n"
     ]
    },
    {
     "name": "stdout",
     "output_type": "stream",
     "text": [
      "\tSaving model and optimizer state to /kaggle/working/checkpoint/triplet/albedo/models/checkpoint.pth\n",
      "\tEpoch 268: EarlyStopping counter for 'cosine_auc': 24/50\n",
      "\tEpoch 268: EarlyStopping counter for 'cosine_acc': 22/50\n",
      "\tEpoch 268: EarlyStopping counter for 'euclidean_auc': 72/50\n",
      "\tEpoch 268: EarlyStopping counter for 'euclidean_acc': 24/50\n"
     ]
    },
    {
     "name": "stdout",
     "output_type": "stream",
     "text": [
      "Epoch 269:\n",
      "\ttrain: loss: 0.1736 | auc_cos: 0.9551 | acc_cos: 0.8786 | auc_eu: 0.9592 | acc_eu: 0.8735\n",
      "\ttest: loss: 0.0830 | auc_cos: 0.9306 | acc_cos: 0.8880 | auc_eu: 0.9432 | acc_eu: 0.8822\n"
     ]
    },
    {
     "name": "stdout",
     "output_type": "stream",
     "text": [
      "\tSaving model and optimizer state to /kaggle/working/checkpoint/triplet/albedo/models/checkpoint.pth\n",
      "\tEpoch 269: EarlyStopping counter for 'cosine_auc': 25/50\n",
      "\tEpoch 269: EarlyStopping counter for 'cosine_acc': 23/50\n",
      "\tEpoch 269: EarlyStopping counter for 'euclidean_auc': 73/50\n",
      "\tEpoch 269: EarlyStopping counter for 'euclidean_acc': 25/50\n"
     ]
    },
    {
     "name": "stdout",
     "output_type": "stream",
     "text": [
      "Epoch 270:\n",
      "\ttrain: loss: 0.1694 | auc_cos: 0.9667 | acc_cos: 0.8756 | auc_eu: 0.9728 | acc_eu: 0.8876\n",
      "\ttest: loss: 0.0501 | auc_cos: 0.9400 | acc_cos: 0.9234 | auc_eu: 0.9506 | acc_eu: 0.9134\n"
     ]
    },
    {
     "name": "stdout",
     "output_type": "stream",
     "text": [
      "\tSaving model and optimizer state to /kaggle/working/checkpoint/triplet/albedo/models/checkpoint.pth\n",
      "\tEpoch 270: EarlyStopping counter for 'cosine_auc': 26/50\n",
      "\tEpoch 270: EarlyStopping counter for 'cosine_acc': 24/50\n",
      "\tEpoch 270: EarlyStopping counter for 'euclidean_auc': 74/50\n",
      "\tSaved best model weights for 'euclidean_acc' at epoch 270 to '/kaggle/working/checkpoint/triplet/albedo/models/best_euclidean_acc_270.pth'\n"
     ]
    },
    {
     "name": "stdout",
     "output_type": "stream",
     "text": [
      "Epoch 271:\n",
      "\ttrain: loss: 0.1697 | auc_cos: 0.9656 | acc_cos: 0.8703 | auc_eu: 0.9725 | acc_eu: 0.8883\n",
      "\ttest: loss: 0.0494 | auc_cos: 0.9430 | acc_cos: 0.9106 | auc_eu: 0.9499 | acc_eu: 0.9148\n"
     ]
    },
    {
     "name": "stdout",
     "output_type": "stream",
     "text": [
      "\tSaving model and optimizer state to /kaggle/working/checkpoint/triplet/albedo/models/checkpoint.pth\n",
      "\tEpoch 271: EarlyStopping counter for 'cosine_auc': 27/50\n",
      "\tEpoch 271: EarlyStopping counter for 'cosine_acc': 25/50\n",
      "\tEpoch 271: EarlyStopping counter for 'euclidean_auc': 75/50\n",
      "\tEpoch 271: EarlyStopping counter for 'euclidean_acc': 1/50\n"
     ]
    },
    {
     "name": "stdout",
     "output_type": "stream",
     "text": [
      "Epoch 272:\n",
      "\ttrain: loss: 0.1299 | auc_cos: 0.9601 | acc_cos: 0.8729 | auc_eu: 0.9667 | acc_eu: 0.8749\n",
      "\ttest: loss: 0.0490 | auc_cos: 0.9412 | acc_cos: 0.9194 | auc_eu: 0.9491 | acc_eu: 0.9030\n"
     ]
    },
    {
     "name": "stdout",
     "output_type": "stream",
     "text": [
      "\tSaving model and optimizer state to /kaggle/working/checkpoint/triplet/albedo/models/checkpoint.pth\n",
      "\tEpoch 272: EarlyStopping counter for 'cosine_auc': 28/50\n",
      "\tEpoch 272: EarlyStopping counter for 'cosine_acc': 26/50\n",
      "\tEpoch 272: EarlyStopping counter for 'euclidean_auc': 76/50\n",
      "\tEpoch 272: EarlyStopping counter for 'euclidean_acc': 2/50\n"
     ]
    },
    {
     "name": "stdout",
     "output_type": "stream",
     "text": [
      "Epoch 273:\n",
      "\ttrain: loss: 0.2005 | auc_cos: 0.9552 | acc_cos: 0.8614 | auc_eu: 0.9668 | acc_eu: 0.8911\n",
      "\ttest: loss: 0.0465 | auc_cos: 0.9233 | acc_cos: 0.8474 | auc_eu: 0.9337 | acc_eu: 0.8621\n"
     ]
    },
    {
     "name": "stdout",
     "output_type": "stream",
     "text": [
      "\tSaving model and optimizer state to /kaggle/working/checkpoint/triplet/albedo/models/checkpoint.pth\n",
      "\tEpoch 273: EarlyStopping counter for 'cosine_auc': 29/50\n",
      "\tEpoch 273: EarlyStopping counter for 'cosine_acc': 27/50\n",
      "\tEpoch 273: EarlyStopping counter for 'euclidean_auc': 77/50\n",
      "\tEpoch 273: EarlyStopping counter for 'euclidean_acc': 3/50\n"
     ]
    },
    {
     "name": "stdout",
     "output_type": "stream",
     "text": [
      "Epoch 274:\n",
      "\ttrain: loss: 0.1178 | auc_cos: 0.9606 | acc_cos: 0.8769 | auc_eu: 0.9692 | acc_eu: 0.8841\n",
      "\ttest: loss: 0.0427 | auc_cos: 0.9384 | acc_cos: 0.8127 | auc_eu: 0.9438 | acc_eu: 0.8956\n"
     ]
    },
    {
     "name": "stdout",
     "output_type": "stream",
     "text": [
      "\tSaving model and optimizer state to /kaggle/working/checkpoint/triplet/albedo/models/checkpoint.pth\n",
      "\tEpoch 274: EarlyStopping counter for 'cosine_auc': 30/50\n",
      "\tEpoch 274: EarlyStopping counter for 'cosine_acc': 28/50\n",
      "\tEpoch 274: EarlyStopping counter for 'euclidean_auc': 78/50\n",
      "\tEpoch 274: EarlyStopping counter for 'euclidean_acc': 4/50\n"
     ]
    },
    {
     "name": "stdout",
     "output_type": "stream",
     "text": [
      "Epoch 275:\n",
      "\ttrain: loss: 0.0893 | auc_cos: 0.9687 | acc_cos: 0.8756 | auc_eu: 0.9742 | acc_eu: 0.8935\n",
      "\ttest: loss: 0.0423 | auc_cos: 0.9376 | acc_cos: 0.8685 | auc_eu: 0.9461 | acc_eu: 0.8788\n"
     ]
    },
    {
     "name": "stdout",
     "output_type": "stream",
     "text": [
      "\tSaving model and optimizer state to /kaggle/working/checkpoint/triplet/albedo/models/checkpoint.pth\n",
      "\tEpoch 275: EarlyStopping counter for 'cosine_auc': 31/50\n",
      "\tEpoch 275: EarlyStopping counter for 'cosine_acc': 29/50\n",
      "\tEpoch 275: EarlyStopping counter for 'euclidean_auc': 79/50\n",
      "\tEpoch 275: EarlyStopping counter for 'euclidean_acc': 5/50\n"
     ]
    },
    {
     "name": "stdout",
     "output_type": "stream",
     "text": [
      "Epoch 276:\n",
      "\ttrain: loss: 0.1037 | auc_cos: 0.9702 | acc_cos: 0.8849 | auc_eu: 0.9744 | acc_eu: 0.9017\n",
      "\ttest: loss: 0.0381 | auc_cos: 0.9350 | acc_cos: 0.8860 | auc_eu: 0.9397 | acc_eu: 0.8908\n"
     ]
    },
    {
     "name": "stdout",
     "output_type": "stream",
     "text": [
      "\tSaving model and optimizer state to /kaggle/working/checkpoint/triplet/albedo/models/checkpoint.pth\n",
      "\tEpoch 276: EarlyStopping counter for 'cosine_auc': 32/50\n",
      "\tEpoch 276: EarlyStopping counter for 'cosine_acc': 30/50\n",
      "\tEpoch 276: EarlyStopping counter for 'euclidean_auc': 80/50\n",
      "\tEpoch 276: EarlyStopping counter for 'euclidean_acc': 6/50\n"
     ]
    },
    {
     "name": "stdout",
     "output_type": "stream",
     "text": [
      "Epoch 277:\n",
      "\ttrain: loss: 0.0935 | auc_cos: 0.9699 | acc_cos: 0.8900 | auc_eu: 0.9765 | acc_eu: 0.9085\n",
      "\ttest: loss: 0.0391 | auc_cos: 0.9341 | acc_cos: 0.8792 | auc_eu: 0.9466 | acc_eu: 0.9103\n"
     ]
    },
    {
     "name": "stdout",
     "output_type": "stream",
     "text": [
      "\tSaving model and optimizer state to /kaggle/working/checkpoint/triplet/albedo/models/checkpoint.pth\n",
      "\tEpoch 277: EarlyStopping counter for 'cosine_auc': 33/50\n",
      "\tEpoch 277: EarlyStopping counter for 'cosine_acc': 31/50\n",
      "\tEpoch 277: EarlyStopping counter for 'euclidean_auc': 81/50\n",
      "\tEpoch 277: EarlyStopping counter for 'euclidean_acc': 7/50\n"
     ]
    },
    {
     "name": "stdout",
     "output_type": "stream",
     "text": [
      "Epoch 278:\n",
      "\ttrain: loss: 0.1028 | auc_cos: 0.9680 | acc_cos: 0.8858 | auc_eu: 0.9767 | acc_eu: 0.8953\n",
      "\ttest: loss: 0.0500 | auc_cos: 0.9354 | acc_cos: 0.9030 | auc_eu: 0.9485 | acc_eu: 0.9007\n"
     ]
    },
    {
     "name": "stdout",
     "output_type": "stream",
     "text": [
      "\tSaving model and optimizer state to /kaggle/working/checkpoint/triplet/albedo/models/checkpoint.pth\n",
      "\tEpoch 278: EarlyStopping counter for 'cosine_auc': 34/50\n",
      "\tEpoch 278: EarlyStopping counter for 'cosine_acc': 32/50\n",
      "\tEpoch 278: EarlyStopping counter for 'euclidean_auc': 82/50\n",
      "\tEpoch 278: EarlyStopping counter for 'euclidean_acc': 8/50\n"
     ]
    },
    {
     "name": "stdout",
     "output_type": "stream",
     "text": [
      "Epoch 279:\n",
      "\ttrain: loss: 0.0753 | auc_cos: 0.9705 | acc_cos: 0.8886 | auc_eu: 0.9780 | acc_eu: 0.9062\n",
      "\ttest: loss: 0.0336 | auc_cos: 0.9382 | acc_cos: 0.9143 | auc_eu: 0.9524 | acc_eu: 0.9215\n"
     ]
    },
    {
     "name": "stdout",
     "output_type": "stream",
     "text": [
      "\tSaving model and optimizer state to /kaggle/working/checkpoint/triplet/albedo/models/checkpoint.pth\n",
      "\tEpoch 279: EarlyStopping counter for 'cosine_auc': 35/50\n",
      "\tEpoch 279: EarlyStopping counter for 'cosine_acc': 33/50\n",
      "\tEpoch 279: EarlyStopping counter for 'euclidean_auc': 83/50\n",
      "\tSaved best model weights for 'euclidean_acc' at epoch 279 to '/kaggle/working/checkpoint/triplet/albedo/models/best_euclidean_acc_279.pth'\n"
     ]
    },
    {
     "name": "stdout",
     "output_type": "stream",
     "text": [
      "Epoch 280:\n",
      "\ttrain: loss: 0.1137 | auc_cos: 0.9693 | acc_cos: 0.8813 | auc_eu: 0.9768 | acc_eu: 0.9020\n",
      "\ttest: loss: 0.0327 | auc_cos: 0.9338 | acc_cos: 0.8922 | auc_eu: 0.9453 | acc_eu: 0.8810\n"
     ]
    },
    {
     "name": "stdout",
     "output_type": "stream",
     "text": [
      "\tSaving model and optimizer state to /kaggle/working/checkpoint/triplet/albedo/models/checkpoint.pth\n",
      "\tEpoch 280: EarlyStopping counter for 'cosine_auc': 36/50\n",
      "\tEpoch 280: EarlyStopping counter for 'cosine_acc': 34/50\n",
      "\tEpoch 280: EarlyStopping counter for 'euclidean_auc': 84/50\n",
      "\tEpoch 280: EarlyStopping counter for 'euclidean_acc': 1/50\n"
     ]
    },
    {
     "name": "stdout",
     "output_type": "stream",
     "text": [
      "Epoch 281:\n",
      "\ttrain: loss: 0.0956 | auc_cos: 0.9710 | acc_cos: 0.8921 | auc_eu: 0.9788 | acc_eu: 0.8984\n",
      "\ttest: loss: 0.0292 | auc_cos: 0.9354 | acc_cos: 0.8478 | auc_eu: 0.9453 | acc_eu: 0.9130\n"
     ]
    },
    {
     "name": "stdout",
     "output_type": "stream",
     "text": [
      "\tSaving model and optimizer state to /kaggle/working/checkpoint/triplet/albedo/models/checkpoint.pth\n",
      "\tEpoch 281: EarlyStopping counter for 'cosine_auc': 37/50\n",
      "\tEpoch 281: EarlyStopping counter for 'cosine_acc': 35/50\n",
      "\tEpoch 281: EarlyStopping counter for 'euclidean_auc': 85/50\n",
      "\tEpoch 281: EarlyStopping counter for 'euclidean_acc': 2/50\n"
     ]
    },
    {
     "name": "stdout",
     "output_type": "stream",
     "text": [
      "Epoch 282:\n",
      "\ttrain: loss: 0.1170 | auc_cos: 0.9764 | acc_cos: 0.9059 | auc_eu: 0.9815 | acc_eu: 0.9082\n",
      "\ttest: loss: 0.0306 | auc_cos: 0.9386 | acc_cos: 0.8924 | auc_eu: 0.9463 | acc_eu: 0.9199\n"
     ]
    },
    {
     "name": "stdout",
     "output_type": "stream",
     "text": [
      "\tSaving model and optimizer state to /kaggle/working/checkpoint/triplet/albedo/models/checkpoint.pth\n",
      "\tEpoch 282: EarlyStopping counter for 'cosine_auc': 38/50\n",
      "\tEpoch 282: EarlyStopping counter for 'cosine_acc': 36/50\n",
      "\tEpoch 282: EarlyStopping counter for 'euclidean_auc': 86/50\n",
      "\tEpoch 282: EarlyStopping counter for 'euclidean_acc': 3/50\n"
     ]
    },
    {
     "name": "stdout",
     "output_type": "stream",
     "text": [
      "Epoch 283:\n",
      "\ttrain: loss: 0.0927 | auc_cos: 0.9727 | acc_cos: 0.8991 | auc_eu: 0.9793 | acc_eu: 0.9089\n",
      "\ttest: loss: 0.0331 | auc_cos: 0.9401 | acc_cos: 0.8940 | auc_eu: 0.9463 | acc_eu: 0.9183\n"
     ]
    },
    {
     "name": "stdout",
     "output_type": "stream",
     "text": [
      "\tSaving model and optimizer state to /kaggle/working/checkpoint/triplet/albedo/models/checkpoint.pth\n",
      "\tEpoch 283: EarlyStopping counter for 'cosine_auc': 39/50\n",
      "\tEpoch 283: EarlyStopping counter for 'cosine_acc': 37/50\n",
      "\tEpoch 283: EarlyStopping counter for 'euclidean_auc': 87/50\n",
      "\tEpoch 283: EarlyStopping counter for 'euclidean_acc': 4/50\n"
     ]
    },
    {
     "name": "stdout",
     "output_type": "stream",
     "text": [
      "Epoch 284:\n",
      "\ttrain: loss: 0.0641 | auc_cos: 0.9740 | acc_cos: 0.9049 | auc_eu: 0.9800 | acc_eu: 0.9037\n",
      "\ttest: loss: 0.0251 | auc_cos: 0.9367 | acc_cos: 0.8991 | auc_eu: 0.9439 | acc_eu: 0.8794\n"
     ]
    },
    {
     "name": "stdout",
     "output_type": "stream",
     "text": [
      "\tSaving model and optimizer state to /kaggle/working/checkpoint/triplet/albedo/models/checkpoint.pth\n",
      "\tEpoch 284: EarlyStopping counter for 'cosine_auc': 40/50\n",
      "\tEpoch 284: EarlyStopping counter for 'cosine_acc': 38/50\n",
      "\tEpoch 284: EarlyStopping counter for 'euclidean_auc': 88/50\n",
      "\tEpoch 284: EarlyStopping counter for 'euclidean_acc': 5/50\n"
     ]
    },
    {
     "name": "stdout",
     "output_type": "stream",
     "text": [
      "Epoch 285:\n",
      "\ttrain: loss: 0.0685 | auc_cos: 0.9745 | acc_cos: 0.8951 | auc_eu: 0.9801 | acc_eu: 0.9088\n",
      "\ttest: loss: 0.0268 | auc_cos: 0.9328 | acc_cos: 0.8517 | auc_eu: 0.9416 | acc_eu: 0.8550\n"
     ]
    },
    {
     "name": "stdout",
     "output_type": "stream",
     "text": [
      "\tSaving model and optimizer state to /kaggle/working/checkpoint/triplet/albedo/models/checkpoint.pth\n",
      "\tEpoch 285: EarlyStopping counter for 'cosine_auc': 41/50\n",
      "\tEpoch 285: EarlyStopping counter for 'cosine_acc': 39/50\n",
      "\tEpoch 285: EarlyStopping counter for 'euclidean_auc': 89/50\n",
      "\tEpoch 285: EarlyStopping counter for 'euclidean_acc': 6/50\n"
     ]
    },
    {
     "name": "stdout",
     "output_type": "stream",
     "text": [
      "Epoch 286:\n",
      "\ttrain: loss: 0.0919 | auc_cos: 0.9767 | acc_cos: 0.9055 | auc_eu: 0.9817 | acc_eu: 0.9081\n",
      "\ttest: loss: 0.0272 | auc_cos: 0.9401 | acc_cos: 0.9115 | auc_eu: 0.9454 | acc_eu: 0.9158\n"
     ]
    },
    {
     "name": "stdout",
     "output_type": "stream",
     "text": [
      "\tSaving model and optimizer state to /kaggle/working/checkpoint/triplet/albedo/models/checkpoint.pth\n",
      "\tEpoch 286: EarlyStopping counter for 'cosine_auc': 42/50\n",
      "\tEpoch 286: EarlyStopping counter for 'cosine_acc': 40/50\n",
      "\tEpoch 286: EarlyStopping counter for 'euclidean_auc': 90/50\n",
      "\tEpoch 286: EarlyStopping counter for 'euclidean_acc': 7/50\n"
     ]
    },
    {
     "name": "stdout",
     "output_type": "stream",
     "text": [
      "Epoch 287:\n",
      "\ttrain: loss: 0.0568 | auc_cos: 0.9765 | acc_cos: 0.9145 | auc_eu: 0.9826 | acc_eu: 0.9249\n",
      "\ttest: loss: 0.0209 | auc_cos: 0.9338 | acc_cos: 0.9084 | auc_eu: 0.9458 | acc_eu: 0.9087\n"
     ]
    },
    {
     "name": "stdout",
     "output_type": "stream",
     "text": [
      "\tSaving model and optimizer state to /kaggle/working/checkpoint/triplet/albedo/models/checkpoint.pth\n",
      "\tEpoch 287: EarlyStopping counter for 'cosine_auc': 43/50\n",
      "\tEpoch 287: EarlyStopping counter for 'cosine_acc': 41/50\n",
      "\tEpoch 287: EarlyStopping counter for 'euclidean_auc': 91/50\n",
      "\tEpoch 287: EarlyStopping counter for 'euclidean_acc': 8/50\n"
     ]
    },
    {
     "name": "stdout",
     "output_type": "stream",
     "text": [
      "Epoch 288:\n",
      "\ttrain: loss: 0.0710 | auc_cos: 0.9783 | acc_cos: 0.9103 | auc_eu: 0.9831 | acc_eu: 0.9221\n",
      "\ttest: loss: 0.0225 | auc_cos: 0.9384 | acc_cos: 0.8827 | auc_eu: 0.9490 | acc_eu: 0.8956\n"
     ]
    },
    {
     "name": "stdout",
     "output_type": "stream",
     "text": [
      "\tSaving model and optimizer state to /kaggle/working/checkpoint/triplet/albedo/models/checkpoint.pth\n",
      "\tEpoch 288: EarlyStopping counter for 'cosine_auc': 44/50\n",
      "\tEpoch 288: EarlyStopping counter for 'cosine_acc': 42/50\n",
      "\tEpoch 288: EarlyStopping counter for 'euclidean_auc': 92/50\n",
      "\tEpoch 288: EarlyStopping counter for 'euclidean_acc': 9/50\n"
     ]
    },
    {
     "name": "stdout",
     "output_type": "stream",
     "text": [
      "Epoch 289:\n",
      "\ttrain: loss: 0.0679 | auc_cos: 0.9782 | acc_cos: 0.9144 | auc_eu: 0.9849 | acc_eu: 0.9301\n",
      "\ttest: loss: 0.0208 | auc_cos: 0.9330 | acc_cos: 0.9103 | auc_eu: 0.9460 | acc_eu: 0.8922\n"
     ]
    },
    {
     "name": "stdout",
     "output_type": "stream",
     "text": [
      "\tSaving model and optimizer state to /kaggle/working/checkpoint/triplet/albedo/models/checkpoint.pth\n",
      "\tEpoch 289: EarlyStopping counter for 'cosine_auc': 45/50\n",
      "\tEpoch 289: EarlyStopping counter for 'cosine_acc': 43/50\n",
      "\tEpoch 289: EarlyStopping counter for 'euclidean_auc': 93/50\n",
      "\tEpoch 289: EarlyStopping counter for 'euclidean_acc': 10/50\n"
     ]
    },
    {
     "name": "stdout",
     "output_type": "stream",
     "text": [
      "Epoch 290:\n",
      "\ttrain: loss: 0.0588 | auc_cos: 0.9794 | acc_cos: 0.9192 | auc_eu: 0.9843 | acc_eu: 0.9286\n",
      "\ttest: loss: 0.0203 | auc_cos: 0.9397 | acc_cos: 0.9018 | auc_eu: 0.9493 | acc_eu: 0.8852\n"
     ]
    },
    {
     "name": "stdout",
     "output_type": "stream",
     "text": [
      "\tSaving model and optimizer state to /kaggle/working/checkpoint/triplet/albedo/models/checkpoint.pth\n",
      "\tEpoch 290: EarlyStopping counter for 'cosine_auc': 46/50\n",
      "\tEpoch 290: EarlyStopping counter for 'cosine_acc': 44/50\n",
      "\tEpoch 290: EarlyStopping counter for 'euclidean_auc': 94/50\n",
      "\tEpoch 290: EarlyStopping counter for 'euclidean_acc': 11/50\n"
     ]
    },
    {
     "name": "stdout",
     "output_type": "stream",
     "text": [
      "Epoch 291:\n",
      "\ttrain: loss: 0.0711 | auc_cos: 0.9797 | acc_cos: 0.9171 | auc_eu: 0.9861 | acc_eu: 0.9264\n",
      "\ttest: loss: 0.0192 | auc_cos: 0.9388 | acc_cos: 0.8655 | auc_eu: 0.9485 | acc_eu: 0.9060\n"
     ]
    },
    {
     "name": "stdout",
     "output_type": "stream",
     "text": [
      "\tSaving model and optimizer state to /kaggle/working/checkpoint/triplet/albedo/models/checkpoint.pth\n",
      "\tEpoch 291: EarlyStopping counter for 'cosine_auc': 47/50\n",
      "\tEpoch 291: EarlyStopping counter for 'cosine_acc': 45/50\n",
      "\tEpoch 291: EarlyStopping counter for 'euclidean_auc': 95/50\n",
      "\tEpoch 291: EarlyStopping counter for 'euclidean_acc': 12/50\n"
     ]
    },
    {
     "name": "stdout",
     "output_type": "stream",
     "text": [
      "Epoch 292:\n",
      "\ttrain: loss: 0.0664 | auc_cos: 0.9799 | acc_cos: 0.9151 | auc_eu: 0.9853 | acc_eu: 0.9249\n",
      "\ttest: loss: 0.0194 | auc_cos: 0.9414 | acc_cos: 0.8902 | auc_eu: 0.9498 | acc_eu: 0.8908\n"
     ]
    },
    {
     "name": "stdout",
     "output_type": "stream",
     "text": [
      "\tSaving model and optimizer state to /kaggle/working/checkpoint/triplet/albedo/models/checkpoint.pth\n",
      "\tEpoch 292: EarlyStopping counter for 'cosine_auc': 48/50\n",
      "\tEpoch 292: EarlyStopping counter for 'cosine_acc': 46/50\n",
      "\tEpoch 292: EarlyStopping counter for 'euclidean_auc': 96/50\n",
      "\tEpoch 292: EarlyStopping counter for 'euclidean_acc': 13/50\n"
     ]
    },
    {
     "name": "stdout",
     "output_type": "stream",
     "text": [
      "Epoch 293:\n",
      "\ttrain: loss: 0.0757 | auc_cos: 0.9792 | acc_cos: 0.9085 | auc_eu: 0.9850 | acc_eu: 0.9205\n",
      "\ttest: loss: 0.0199 | auc_cos: 0.9383 | acc_cos: 0.9096 | auc_eu: 0.9494 | acc_eu: 0.9371\n"
     ]
    },
    {
     "name": "stdout",
     "output_type": "stream",
     "text": [
      "\tSaving model and optimizer state to /kaggle/working/checkpoint/triplet/albedo/models/checkpoint.pth\n",
      "\tEpoch 293: EarlyStopping counter for 'cosine_auc': 49/50\n",
      "\tEpoch 293: EarlyStopping counter for 'cosine_acc': 47/50\n",
      "\tSaved best model weights for 'euclidean_auc' at epoch 293 to '/kaggle/working/checkpoint/triplet/albedo/models/best_euclidean_auc_293.pth'\n",
      "\tEpoch 293: EarlyStopping counter for 'euclidean_acc': 14/50\n"
     ]
    },
    {
     "name": "stdout",
     "output_type": "stream",
     "text": [
      "Epoch 294:\n",
      "\ttrain: loss: 0.0692 | auc_cos: 0.9781 | acc_cos: 0.9054 | auc_eu: 0.9851 | acc_eu: 0.9214\n",
      "\ttest: loss: 0.0193 | auc_cos: 0.9393 | acc_cos: 0.8890 | auc_eu: 0.9504 | acc_eu: 0.8994\n"
     ]
    },
    {
     "name": "stdout",
     "output_type": "stream",
     "text": [
      "\tSaving model and optimizer state to /kaggle/working/checkpoint/triplet/albedo/models/checkpoint.pth\n",
      "\tEpoch 294: EarlyStopping counter for 'cosine_auc': 50/50\n",
      "\tEpoch 294: EarlyStopping counter for 'cosine_acc': 48/50\n",
      "\tEpoch 294: EarlyStopping counter for 'euclidean_auc': 1/50\n",
      "\tEpoch 294: EarlyStopping counter for 'euclidean_acc': 15/50\n"
     ]
    },
    {
     "name": "stdout",
     "output_type": "stream",
     "text": [
      "Epoch 295:\n",
      "\ttrain: loss: 0.0652 | auc_cos: 0.9770 | acc_cos: 0.8986 | auc_eu: 0.9843 | acc_eu: 0.9199\n",
      "\ttest: loss: 0.0216 | auc_cos: 0.9400 | acc_cos: 0.8955 | auc_eu: 0.9516 | acc_eu: 0.9308\n"
     ]
    },
    {
     "name": "stdout",
     "output_type": "stream",
     "text": [
      "\tSaving model and optimizer state to /kaggle/working/checkpoint/triplet/albedo/models/checkpoint.pth\n",
      "\tEpoch 295: EarlyStopping counter for 'cosine_auc': 51/50\n",
      "\tEpoch 295: EarlyStopping counter for 'cosine_acc': 49/50\n",
      "\tEpoch 295: EarlyStopping counter for 'euclidean_auc': 2/50\n",
      "\tEpoch 295: EarlyStopping counter for 'euclidean_acc': 16/50\n"
     ]
    },
    {
     "name": "stdout",
     "output_type": "stream",
     "text": [
      "Epoch 296:\n",
      "\ttrain: loss: 0.0531 | auc_cos: 0.9770 | acc_cos: 0.8967 | auc_eu: 0.9855 | acc_eu: 0.9148\n",
      "\ttest: loss: 0.0230 | auc_cos: 0.9365 | acc_cos: 0.8879 | auc_eu: 0.9511 | acc_eu: 0.9302\n"
     ]
    },
    {
     "name": "stdout",
     "output_type": "stream",
     "text": [
      "\tSaving model and optimizer state to /kaggle/working/checkpoint/triplet/albedo/models/checkpoint.pth\n",
      "\tEpoch 296: EarlyStopping counter for 'cosine_auc': 52/50\n",
      "\tEpoch 296: EarlyStopping counter for 'cosine_acc': 50/50\n",
      "\tEpoch 296: EarlyStopping counter for 'euclidean_auc': 3/50\n",
      "\tEpoch 296: EarlyStopping counter for 'euclidean_acc': 17/50\n"
     ]
    },
    {
     "name": "stdout",
     "output_type": "stream",
     "text": [
      "Epoch 297:\n",
      "\ttrain: loss: 0.0712 | auc_cos: 0.9799 | acc_cos: 0.9234 | auc_eu: 0.9860 | acc_eu: 0.9348\n",
      "\ttest: loss: 0.0194 | auc_cos: 0.9392 | acc_cos: 0.8939 | auc_eu: 0.9503 | acc_eu: 0.9216\n"
     ]
    },
    {
     "name": "stdout",
     "output_type": "stream",
     "text": [
      "\tSaving model and optimizer state to /kaggle/working/checkpoint/triplet/albedo/models/checkpoint.pth\n",
      "\tEpoch 297: EarlyStopping counter for 'cosine_auc': 53/50\n",
      "\tEpoch 297: EarlyStopping counter for 'cosine_acc': 51/50\n",
      "\tEpoch 297: EarlyStopping counter for 'euclidean_auc': 4/50\n",
      "\tEpoch 297: EarlyStopping counter for 'euclidean_acc': 18/50\n"
     ]
    },
    {
     "name": "stdout",
     "output_type": "stream",
     "text": [
      "Epoch 298:\n",
      "\ttrain: loss: 0.0463 | auc_cos: 0.9788 | acc_cos: 0.9127 | auc_eu: 0.9856 | acc_eu: 0.9388\n",
      "\ttest: loss: 0.0188 | auc_cos: 0.9375 | acc_cos: 0.8734 | auc_eu: 0.9501 | acc_eu: 0.9307\n"
     ]
    },
    {
     "name": "stdout",
     "output_type": "stream",
     "text": [
      "\tSaving model and optimizer state to /kaggle/working/checkpoint/triplet/albedo/models/checkpoint.pth\n",
      "\tEpoch 298: EarlyStopping counter for 'cosine_auc': 54/50\n",
      "\tEpoch 298: EarlyStopping counter for 'cosine_acc': 52/50\n",
      "\tEpoch 298: EarlyStopping counter for 'euclidean_auc': 5/50\n",
      "\tEpoch 298: EarlyStopping counter for 'euclidean_acc': 19/50\n"
     ]
    },
    {
     "name": "stdout",
     "output_type": "stream",
     "text": [
      "Epoch 299:\n",
      "\ttrain: loss: 0.0799 | auc_cos: 0.9799 | acc_cos: 0.9146 | auc_eu: 0.9853 | acc_eu: 0.9219\n",
      "\ttest: loss: 0.0186 | auc_cos: 0.9404 | acc_cos: 0.9023 | auc_eu: 0.9505 | acc_eu: 0.9031\n"
     ]
    },
    {
     "name": "stdout",
     "output_type": "stream",
     "text": [
      "\tSaving model and optimizer state to /kaggle/working/checkpoint/triplet/albedo/models/checkpoint.pth\n",
      "\tEpoch 299: EarlyStopping counter for 'cosine_auc': 55/50\n",
      "\tEpoch 299: EarlyStopping counter for 'cosine_acc': 53/50\n",
      "\tEpoch 299: EarlyStopping counter for 'euclidean_auc': 6/50\n",
      "\tEpoch 299: EarlyStopping counter for 'euclidean_acc': 20/50\n"
     ]
    },
    {
     "name": "stdout",
     "output_type": "stream",
     "text": [
      "Epoch 300:\n",
      "\ttrain: loss: 0.1194 | auc_cos: 0.9530 | acc_cos: 0.8719 | auc_eu: 0.9590 | acc_eu: 0.8661\n",
      "\ttest: loss: 0.0674 | auc_cos: 0.9113 | acc_cos: 0.9051 | auc_eu: 0.9199 | acc_eu: 0.8414\n"
     ]
    },
    {
     "name": "stdout",
     "output_type": "stream",
     "text": [
      "\tSaving model and optimizer state to /kaggle/working/checkpoint/triplet/albedo/models/checkpoint.pth\n",
      "\tEpoch 300: EarlyStopping counter for 'cosine_auc': 56/50\n",
      "\tEpoch 300: EarlyStopping counter for 'cosine_acc': 54/50\n",
      "\tEpoch 300: EarlyStopping counter for 'euclidean_auc': 7/50\n",
      "\tEpoch 300: EarlyStopping counter for 'euclidean_acc': 21/50\n"
     ]
    },
    {
     "name": "stdout",
     "output_type": "stream",
     "text": [
      "Epoch 301:\n",
      "\ttrain: loss: 0.2110 | auc_cos: 0.9465 | acc_cos: 0.8448 | auc_eu: 0.9572 | acc_eu: 0.8557\n",
      "\ttest: loss: 0.0870 | auc_cos: 0.9250 | acc_cos: 0.8409 | auc_eu: 0.9389 | acc_eu: 0.8954\n"
     ]
    },
    {
     "name": "stdout",
     "output_type": "stream",
     "text": [
      "\tSaving model and optimizer state to /kaggle/working/checkpoint/triplet/albedo/models/checkpoint.pth\n",
      "\tEpoch 301: EarlyStopping counter for 'cosine_auc': 57/50\n",
      "\tEpoch 301: EarlyStopping counter for 'cosine_acc': 55/50\n",
      "\tEpoch 301: EarlyStopping counter for 'euclidean_auc': 8/50\n",
      "\tEpoch 301: EarlyStopping counter for 'euclidean_acc': 22/50\n"
     ]
    },
    {
     "name": "stdout",
     "output_type": "stream",
     "text": [
      "Epoch 302:\n",
      "\ttrain: loss: 0.1983 | auc_cos: 0.9544 | acc_cos: 0.8478 | auc_eu: 0.9649 | acc_eu: 0.8827\n",
      "\ttest: loss: 0.0719 | auc_cos: 0.9015 | acc_cos: 0.8776 | auc_eu: 0.9165 | acc_eu: 0.8850\n"
     ]
    },
    {
     "name": "stdout",
     "output_type": "stream",
     "text": [
      "\tSaving model and optimizer state to /kaggle/working/checkpoint/triplet/albedo/models/checkpoint.pth\n",
      "\tEpoch 302: EarlyStopping counter for 'cosine_auc': 58/50\n",
      "\tEpoch 302: EarlyStopping counter for 'cosine_acc': 56/50\n",
      "\tEpoch 302: EarlyStopping counter for 'euclidean_auc': 9/50\n",
      "\tEpoch 302: EarlyStopping counter for 'euclidean_acc': 23/50\n"
     ]
    },
    {
     "name": "stdout",
     "output_type": "stream",
     "text": [
      "Epoch 303:\n",
      "\ttrain: loss: 0.2597 | auc_cos: 0.9355 | acc_cos: 0.8243 | auc_eu: 0.9430 | acc_eu: 0.8156\n",
      "\ttest: loss: 0.0885 | auc_cos: 0.9153 | acc_cos: 0.8836 | auc_eu: 0.9201 | acc_eu: 0.9148\n"
     ]
    },
    {
     "name": "stdout",
     "output_type": "stream",
     "text": [
      "\tSaving model and optimizer state to /kaggle/working/checkpoint/triplet/albedo/models/checkpoint.pth\n",
      "\tEpoch 303: EarlyStopping counter for 'cosine_auc': 59/50\n",
      "\tEpoch 303: EarlyStopping counter for 'cosine_acc': 57/50\n",
      "\tEpoch 303: EarlyStopping counter for 'euclidean_auc': 10/50\n",
      "\tEpoch 303: EarlyStopping counter for 'euclidean_acc': 24/50\n"
     ]
    },
    {
     "name": "stdout",
     "output_type": "stream",
     "text": [
      "Epoch 304:\n",
      "\ttrain: loss: 0.2727 | auc_cos: 0.9515 | acc_cos: 0.8568 | auc_eu: 0.9526 | acc_eu: 0.8772\n",
      "\ttest: loss: 0.0890 | auc_cos: 0.9225 | acc_cos: 0.9103 | auc_eu: 0.9223 | acc_eu: 0.8519\n"
     ]
    },
    {
     "name": "stdout",
     "output_type": "stream",
     "text": [
      "\tSaving model and optimizer state to /kaggle/working/checkpoint/triplet/albedo/models/checkpoint.pth\n",
      "\tEpoch 304: EarlyStopping counter for 'cosine_auc': 60/50\n",
      "\tEpoch 304: EarlyStopping counter for 'cosine_acc': 58/50\n",
      "\tEpoch 304: EarlyStopping counter for 'euclidean_auc': 11/50\n",
      "\tEpoch 304: EarlyStopping counter for 'euclidean_acc': 25/50\n"
     ]
    },
    {
     "name": "stdout",
     "output_type": "stream",
     "text": [
      "Epoch 305:\n",
      "\ttrain: loss: 0.1871 | auc_cos: 0.9473 | acc_cos: 0.8693 | auc_eu: 0.9513 | acc_eu: 0.8540\n",
      "\ttest: loss: 0.0697 | auc_cos: 0.9168 | acc_cos: 0.8489 | auc_eu: 0.9275 | acc_eu: 0.8559\n"
     ]
    },
    {
     "name": "stdout",
     "output_type": "stream",
     "text": [
      "\tSaving model and optimizer state to /kaggle/working/checkpoint/triplet/albedo/models/checkpoint.pth\n",
      "\tEpoch 305: EarlyStopping counter for 'cosine_auc': 61/50\n",
      "\tEpoch 305: EarlyStopping counter for 'cosine_acc': 59/50\n",
      "\tEpoch 305: EarlyStopping counter for 'euclidean_auc': 12/50\n",
      "\tEpoch 305: EarlyStopping counter for 'euclidean_acc': 26/50\n"
     ]
    },
    {
     "name": "stdout",
     "output_type": "stream",
     "text": [
      "Epoch 306:\n",
      "\ttrain: loss: 0.2332 | auc_cos: 0.9537 | acc_cos: 0.8627 | auc_eu: 0.9582 | acc_eu: 0.8554\n",
      "\ttest: loss: 0.0514 | auc_cos: 0.9302 | acc_cos: 0.8573 | auc_eu: 0.9341 | acc_eu: 0.8702\n"
     ]
    },
    {
     "name": "stdout",
     "output_type": "stream",
     "text": [
      "\tSaving model and optimizer state to /kaggle/working/checkpoint/triplet/albedo/models/checkpoint.pth\n",
      "\tEpoch 306: EarlyStopping counter for 'cosine_auc': 62/50\n",
      "\tEpoch 306: EarlyStopping counter for 'cosine_acc': 60/50\n",
      "\tEpoch 306: EarlyStopping counter for 'euclidean_auc': 13/50\n",
      "\tEpoch 306: EarlyStopping counter for 'euclidean_acc': 27/50\n"
     ]
    },
    {
     "name": "stdout",
     "output_type": "stream",
     "text": [
      "Epoch 307:\n",
      "\ttrain: loss: 0.2314 | auc_cos: 0.9484 | acc_cos: 0.8559 | auc_eu: 0.9516 | acc_eu: 0.8591\n",
      "\ttest: loss: 0.0735 | auc_cos: 0.9142 | acc_cos: 0.8567 | auc_eu: 0.9214 | acc_eu: 0.8199\n"
     ]
    },
    {
     "name": "stdout",
     "output_type": "stream",
     "text": [
      "\tSaving model and optimizer state to /kaggle/working/checkpoint/triplet/albedo/models/checkpoint.pth\n",
      "\tEpoch 307: EarlyStopping counter for 'cosine_auc': 63/50\n",
      "\tEpoch 307: EarlyStopping counter for 'cosine_acc': 61/50\n",
      "\tEpoch 307: EarlyStopping counter for 'euclidean_auc': 14/50\n",
      "\tEpoch 307: EarlyStopping counter for 'euclidean_acc': 28/50\n"
     ]
    },
    {
     "name": "stdout",
     "output_type": "stream",
     "text": [
      "Epoch 308:\n",
      "\ttrain: loss: 0.1620 | auc_cos: 0.9540 | acc_cos: 0.8732 | auc_eu: 0.9537 | acc_eu: 0.8790\n",
      "\ttest: loss: 0.0784 | auc_cos: 0.9274 | acc_cos: 0.9134 | auc_eu: 0.9212 | acc_eu: 0.8059\n"
     ]
    },
    {
     "name": "stdout",
     "output_type": "stream",
     "text": [
      "\tSaving model and optimizer state to /kaggle/working/checkpoint/triplet/albedo/models/checkpoint.pth\n",
      "\tEpoch 308: EarlyStopping counter for 'cosine_auc': 64/50\n",
      "\tEpoch 308: EarlyStopping counter for 'cosine_acc': 62/50\n",
      "\tEpoch 308: EarlyStopping counter for 'euclidean_auc': 15/50\n",
      "\tEpoch 308: EarlyStopping counter for 'euclidean_acc': 29/50\n"
     ]
    },
    {
     "name": "stdout",
     "output_type": "stream",
     "text": [
      "Epoch 309:\n",
      "\ttrain: loss: 0.2011 | auc_cos: 0.9582 | acc_cos: 0.8949 | auc_eu: 0.9619 | acc_eu: 0.8846\n",
      "\ttest: loss: 0.0510 | auc_cos: 0.9226 | acc_cos: 0.8421 | auc_eu: 0.9296 | acc_eu: 0.8739\n"
     ]
    },
    {
     "name": "stdout",
     "output_type": "stream",
     "text": [
      "\tSaving model and optimizer state to /kaggle/working/checkpoint/triplet/albedo/models/checkpoint.pth\n",
      "\tEpoch 309: EarlyStopping counter for 'cosine_auc': 65/50\n",
      "\tEpoch 309: EarlyStopping counter for 'cosine_acc': 63/50\n",
      "\tEpoch 309: EarlyStopping counter for 'euclidean_auc': 16/50\n",
      "\tEpoch 309: EarlyStopping counter for 'euclidean_acc': 30/50\n"
     ]
    },
    {
     "name": "stdout",
     "output_type": "stream",
     "text": [
      "Epoch 310:\n",
      "\ttrain: loss: 0.1909 | auc_cos: 0.9516 | acc_cos: 0.8485 | auc_eu: 0.9576 | acc_eu: 0.8618\n",
      "\ttest: loss: 0.0725 | auc_cos: 0.9218 | acc_cos: 0.9055 | auc_eu: 0.9287 | acc_eu: 0.8487\n"
     ]
    },
    {
     "name": "stdout",
     "output_type": "stream",
     "text": [
      "\tSaving model and optimizer state to /kaggle/working/checkpoint/triplet/albedo/models/checkpoint.pth\n",
      "\tEpoch 310: EarlyStopping counter for 'cosine_auc': 66/50\n",
      "\tEpoch 310: EarlyStopping counter for 'cosine_acc': 64/50\n",
      "\tEpoch 310: EarlyStopping counter for 'euclidean_auc': 17/50\n",
      "\tEpoch 310: EarlyStopping counter for 'euclidean_acc': 31/50\n"
     ]
    },
    {
     "name": "stdout",
     "output_type": "stream",
     "text": [
      "Epoch 311:\n",
      "\ttrain: loss: 0.1949 | auc_cos: 0.9496 | acc_cos: 0.8629 | auc_eu: 0.9548 | acc_eu: 0.8802\n",
      "\ttest: loss: 0.0720 | auc_cos: 0.9387 | acc_cos: 0.8758 | auc_eu: 0.9356 | acc_eu: 0.8808\n"
     ]
    },
    {
     "name": "stdout",
     "output_type": "stream",
     "text": [
      "\tSaving model and optimizer state to /kaggle/working/checkpoint/triplet/albedo/models/checkpoint.pth\n",
      "\tEpoch 311: EarlyStopping counter for 'cosine_auc': 67/50\n",
      "\tEpoch 311: EarlyStopping counter for 'cosine_acc': 65/50\n",
      "\tEpoch 311: EarlyStopping counter for 'euclidean_auc': 18/50\n",
      "\tEpoch 311: EarlyStopping counter for 'euclidean_acc': 32/50\n"
     ]
    },
    {
     "name": "stdout",
     "output_type": "stream",
     "text": [
      "Epoch 312:\n",
      "\ttrain: loss: 0.1804 | auc_cos: 0.9581 | acc_cos: 0.8671 | auc_eu: 0.9606 | acc_eu: 0.8532\n",
      "\ttest: loss: 0.0600 | auc_cos: 0.9255 | acc_cos: 0.8816 | auc_eu: 0.9268 | acc_eu: 0.8959\n"
     ]
    },
    {
     "name": "stdout",
     "output_type": "stream",
     "text": [
      "\tSaving model and optimizer state to /kaggle/working/checkpoint/triplet/albedo/models/checkpoint.pth\n",
      "\tEpoch 312: EarlyStopping counter for 'cosine_auc': 68/50\n",
      "\tEpoch 312: EarlyStopping counter for 'cosine_acc': 66/50\n",
      "\tEpoch 312: EarlyStopping counter for 'euclidean_auc': 19/50\n",
      "\tEpoch 312: EarlyStopping counter for 'euclidean_acc': 33/50\n"
     ]
    },
    {
     "name": "stdout",
     "output_type": "stream",
     "text": [
      "Epoch 313:\n",
      "\ttrain: loss: 0.1984 | auc_cos: 0.9420 | acc_cos: 0.8242 | auc_eu: 0.9548 | acc_eu: 0.8670\n",
      "\ttest: loss: 0.0771 | auc_cos: 0.9194 | acc_cos: 0.7951 | auc_eu: 0.9361 | acc_eu: 0.8059\n"
     ]
    },
    {
     "name": "stdout",
     "output_type": "stream",
     "text": [
      "\tSaving model and optimizer state to /kaggle/working/checkpoint/triplet/albedo/models/checkpoint.pth\n",
      "\tEpoch 313: EarlyStopping counter for 'cosine_auc': 69/50\n",
      "\tEpoch 313: EarlyStopping counter for 'cosine_acc': 67/50\n",
      "\tEpoch 313: EarlyStopping counter for 'euclidean_auc': 20/50\n",
      "\tEpoch 313: EarlyStopping counter for 'euclidean_acc': 34/50\n"
     ]
    },
    {
     "name": "stdout",
     "output_type": "stream",
     "text": [
      "Epoch 314:\n",
      "\ttrain: loss: 0.1750 | auc_cos: 0.9645 | acc_cos: 0.8763 | auc_eu: 0.9666 | acc_eu: 0.8982\n",
      "\ttest: loss: 0.0798 | auc_cos: 0.9232 | acc_cos: 0.7955 | auc_eu: 0.9302 | acc_eu: 0.8065\n"
     ]
    },
    {
     "name": "stdout",
     "output_type": "stream",
     "text": [
      "\tSaving model and optimizer state to /kaggle/working/checkpoint/triplet/albedo/models/checkpoint.pth\n",
      "\tEpoch 314: EarlyStopping counter for 'cosine_auc': 70/50\n",
      "\tEpoch 314: EarlyStopping counter for 'cosine_acc': 68/50\n",
      "\tEpoch 314: EarlyStopping counter for 'euclidean_auc': 21/50\n",
      "\tEpoch 314: EarlyStopping counter for 'euclidean_acc': 35/50\n"
     ]
    },
    {
     "name": "stdout",
     "output_type": "stream",
     "text": [
      "Epoch 315:\n",
      "\ttrain: loss: 0.1417 | auc_cos: 0.9556 | acc_cos: 0.8659 | auc_eu: 0.9651 | acc_eu: 0.8927\n",
      "\ttest: loss: 0.0471 | auc_cos: 0.9260 | acc_cos: 0.8574 | auc_eu: 0.9418 | acc_eu: 0.8864\n"
     ]
    },
    {
     "name": "stdout",
     "output_type": "stream",
     "text": [
      "\tSaving model and optimizer state to /kaggle/working/checkpoint/triplet/albedo/models/checkpoint.pth\n",
      "\tEpoch 315: EarlyStopping counter for 'cosine_auc': 71/50\n",
      "\tEpoch 315: EarlyStopping counter for 'cosine_acc': 69/50\n",
      "\tEpoch 315: EarlyStopping counter for 'euclidean_auc': 22/50\n",
      "\tEpoch 315: EarlyStopping counter for 'euclidean_acc': 36/50\n"
     ]
    },
    {
     "name": "stdout",
     "output_type": "stream",
     "text": [
      "Epoch 316:\n",
      "\ttrain: loss: 0.1595 | auc_cos: 0.9570 | acc_cos: 0.8726 | auc_eu: 0.9585 | acc_eu: 0.8735\n",
      "\ttest: loss: 0.0618 | auc_cos: 0.9255 | acc_cos: 0.8834 | auc_eu: 0.9311 | acc_eu: 0.8673\n"
     ]
    },
    {
     "name": "stdout",
     "output_type": "stream",
     "text": [
      "\tSaving model and optimizer state to /kaggle/working/checkpoint/triplet/albedo/models/checkpoint.pth\n",
      "\tEpoch 316: EarlyStopping counter for 'cosine_auc': 72/50\n",
      "\tEpoch 316: EarlyStopping counter for 'cosine_acc': 70/50\n",
      "\tEpoch 316: EarlyStopping counter for 'euclidean_auc': 23/50\n",
      "\tEpoch 316: EarlyStopping counter for 'euclidean_acc': 37/50\n"
     ]
    },
    {
     "name": "stdout",
     "output_type": "stream",
     "text": [
      "Epoch 317:\n",
      "\ttrain: loss: 0.1757 | auc_cos: 0.9610 | acc_cos: 0.8858 | auc_eu: 0.9671 | acc_eu: 0.8822\n",
      "\ttest: loss: 0.0585 | auc_cos: 0.9261 | acc_cos: 0.8874 | auc_eu: 0.9390 | acc_eu: 0.8959\n"
     ]
    },
    {
     "name": "stdout",
     "output_type": "stream",
     "text": [
      "\tSaving model and optimizer state to /kaggle/working/checkpoint/triplet/albedo/models/checkpoint.pth\n",
      "\tEpoch 317: EarlyStopping counter for 'cosine_auc': 73/50\n",
      "\tEpoch 317: EarlyStopping counter for 'cosine_acc': 71/50\n",
      "\tEpoch 317: EarlyStopping counter for 'euclidean_auc': 24/50\n",
      "\tEpoch 317: EarlyStopping counter for 'euclidean_acc': 38/50\n"
     ]
    },
    {
     "name": "stdout",
     "output_type": "stream",
     "text": [
      "Epoch 318:\n",
      "\ttrain: loss: 0.1241 | auc_cos: 0.9661 | acc_cos: 0.8863 | auc_eu: 0.9709 | acc_eu: 0.8920\n",
      "\ttest: loss: 0.0501 | auc_cos: 0.9236 | acc_cos: 0.9279 | auc_eu: 0.9321 | acc_eu: 0.8458\n"
     ]
    },
    {
     "name": "stdout",
     "output_type": "stream",
     "text": [
      "\tSaving model and optimizer state to /kaggle/working/checkpoint/triplet/albedo/models/checkpoint.pth\n",
      "\tEpoch 318: EarlyStopping counter for 'cosine_auc': 74/50\n",
      "\tEpoch 318: EarlyStopping counter for 'cosine_acc': 72/50\n",
      "\tEpoch 318: EarlyStopping counter for 'euclidean_auc': 25/50\n",
      "\tEpoch 318: EarlyStopping counter for 'euclidean_acc': 39/50\n"
     ]
    },
    {
     "name": "stdout",
     "output_type": "stream",
     "text": [
      "Epoch 319:\n",
      "\ttrain: loss: 0.1015 | auc_cos: 0.9722 | acc_cos: 0.8908 | auc_eu: 0.9766 | acc_eu: 0.9029\n",
      "\ttest: loss: 0.0376 | auc_cos: 0.9322 | acc_cos: 0.8798 | auc_eu: 0.9443 | acc_eu: 0.9020\n"
     ]
    },
    {
     "name": "stdout",
     "output_type": "stream",
     "text": [
      "\tSaving model and optimizer state to /kaggle/working/checkpoint/triplet/albedo/models/checkpoint.pth\n",
      "\tEpoch 319: EarlyStopping counter for 'cosine_auc': 75/50\n",
      "\tEpoch 319: EarlyStopping counter for 'cosine_acc': 73/50\n",
      "\tEpoch 319: EarlyStopping counter for 'euclidean_auc': 26/50\n",
      "\tEpoch 319: EarlyStopping counter for 'euclidean_acc': 40/50\n"
     ]
    },
    {
     "name": "stdout",
     "output_type": "stream",
     "text": [
      "Epoch 320:\n",
      "\ttrain: loss: 0.1233 | auc_cos: 0.9698 | acc_cos: 0.8807 | auc_eu: 0.9753 | acc_eu: 0.8822\n",
      "\ttest: loss: 0.0358 | auc_cos: 0.9370 | acc_cos: 0.8622 | auc_eu: 0.9480 | acc_eu: 0.9099\n"
     ]
    },
    {
     "name": "stdout",
     "output_type": "stream",
     "text": [
      "\tSaving model and optimizer state to /kaggle/working/checkpoint/triplet/albedo/models/checkpoint.pth\n",
      "\tEpoch 320: EarlyStopping counter for 'cosine_auc': 76/50\n",
      "\tEpoch 320: EarlyStopping counter for 'cosine_acc': 74/50\n",
      "\tEpoch 320: EarlyStopping counter for 'euclidean_auc': 27/50\n",
      "\tEpoch 320: EarlyStopping counter for 'euclidean_acc': 41/50\n"
     ]
    },
    {
     "name": "stdout",
     "output_type": "stream",
     "text": [
      "Epoch 321:\n",
      "\ttrain: loss: 0.0950 | auc_cos: 0.9736 | acc_cos: 0.8987 | auc_eu: 0.9783 | acc_eu: 0.9075\n",
      "\ttest: loss: 0.0442 | auc_cos: 0.9368 | acc_cos: 0.8741 | auc_eu: 0.9494 | acc_eu: 0.9028\n"
     ]
    },
    {
     "name": "stdout",
     "output_type": "stream",
     "text": [
      "\tSaving model and optimizer state to /kaggle/working/checkpoint/triplet/albedo/models/checkpoint.pth\n",
      "\tEpoch 321: EarlyStopping counter for 'cosine_auc': 77/50\n",
      "\tEpoch 321: EarlyStopping counter for 'cosine_acc': 75/50\n",
      "\tEpoch 321: EarlyStopping counter for 'euclidean_auc': 28/50\n",
      "\tEpoch 321: EarlyStopping counter for 'euclidean_acc': 42/50\n"
     ]
    },
    {
     "name": "stdout",
     "output_type": "stream",
     "text": [
      "Epoch 322:\n",
      "\ttrain: loss: 0.0947 | auc_cos: 0.9737 | acc_cos: 0.8841 | auc_eu: 0.9788 | acc_eu: 0.9078\n",
      "\ttest: loss: 0.0383 | auc_cos: 0.9354 | acc_cos: 0.8745 | auc_eu: 0.9441 | acc_eu: 0.8515\n"
     ]
    },
    {
     "name": "stdout",
     "output_type": "stream",
     "text": [
      "\tSaving model and optimizer state to /kaggle/working/checkpoint/triplet/albedo/models/checkpoint.pth\n",
      "\tEpoch 322: EarlyStopping counter for 'cosine_auc': 78/50\n",
      "\tEpoch 322: EarlyStopping counter for 'cosine_acc': 76/50\n",
      "\tEpoch 322: EarlyStopping counter for 'euclidean_auc': 29/50\n",
      "\tEpoch 322: EarlyStopping counter for 'euclidean_acc': 43/50\n"
     ]
    },
    {
     "name": "stdout",
     "output_type": "stream",
     "text": [
      "Epoch 323:\n",
      "\ttrain: loss: 0.0888 | auc_cos: 0.9746 | acc_cos: 0.9030 | auc_eu: 0.9796 | acc_eu: 0.9205\n",
      "\ttest: loss: 0.0375 | auc_cos: 0.9392 | acc_cos: 0.9018 | auc_eu: 0.9496 | acc_eu: 0.8738\n"
     ]
    },
    {
     "name": "stdout",
     "output_type": "stream",
     "text": [
      "\tSaving model and optimizer state to /kaggle/working/checkpoint/triplet/albedo/models/checkpoint.pth\n",
      "\tEpoch 323: EarlyStopping counter for 'cosine_auc': 79/50\n",
      "\tEpoch 323: EarlyStopping counter for 'cosine_acc': 77/50\n",
      "\tEpoch 323: EarlyStopping counter for 'euclidean_auc': 30/50\n",
      "\tEpoch 323: EarlyStopping counter for 'euclidean_acc': 44/50\n"
     ]
    },
    {
     "name": "stdout",
     "output_type": "stream",
     "text": [
      "Epoch 324:\n",
      "\ttrain: loss: 0.0704 | auc_cos: 0.9704 | acc_cos: 0.8980 | auc_eu: 0.9778 | acc_eu: 0.9190\n",
      "\ttest: loss: 0.0309 | auc_cos: 0.9210 | acc_cos: 0.9052 | auc_eu: 0.9388 | acc_eu: 0.8816\n"
     ]
    },
    {
     "name": "stdout",
     "output_type": "stream",
     "text": [
      "\tSaving model and optimizer state to /kaggle/working/checkpoint/triplet/albedo/models/checkpoint.pth\n",
      "\tEpoch 324: EarlyStopping counter for 'cosine_auc': 80/50\n",
      "\tEpoch 324: EarlyStopping counter for 'cosine_acc': 78/50\n",
      "\tEpoch 324: EarlyStopping counter for 'euclidean_auc': 31/50\n",
      "\tEpoch 324: EarlyStopping counter for 'euclidean_acc': 45/50\n"
     ]
    },
    {
     "name": "stdout",
     "output_type": "stream",
     "text": [
      "Epoch 325:\n",
      "\ttrain: loss: 0.1155 | auc_cos: 0.9755 | acc_cos: 0.9047 | auc_eu: 0.9804 | acc_eu: 0.9108\n",
      "\ttest: loss: 0.0353 | auc_cos: 0.9308 | acc_cos: 0.8932 | auc_eu: 0.9403 | acc_eu: 0.8932\n"
     ]
    },
    {
     "name": "stdout",
     "output_type": "stream",
     "text": [
      "\tSaving model and optimizer state to /kaggle/working/checkpoint/triplet/albedo/models/checkpoint.pth\n",
      "\tEpoch 325: EarlyStopping counter for 'cosine_auc': 81/50\n",
      "\tEpoch 325: EarlyStopping counter for 'cosine_acc': 79/50\n",
      "\tEpoch 325: EarlyStopping counter for 'euclidean_auc': 32/50\n",
      "\tEpoch 325: EarlyStopping counter for 'euclidean_acc': 46/50\n"
     ]
    },
    {
     "name": "stdout",
     "output_type": "stream",
     "text": [
      "Epoch 326:\n",
      "\ttrain: loss: 0.0723 | auc_cos: 0.9786 | acc_cos: 0.9197 | auc_eu: 0.9837 | acc_eu: 0.9235\n",
      "\ttest: loss: 0.0325 | auc_cos: 0.9351 | acc_cos: 0.8818 | auc_eu: 0.9490 | acc_eu: 0.9247\n"
     ]
    },
    {
     "name": "stdout",
     "output_type": "stream",
     "text": [
      "\tSaving model and optimizer state to /kaggle/working/checkpoint/triplet/albedo/models/checkpoint.pth\n",
      "\tEpoch 326: EarlyStopping counter for 'cosine_auc': 82/50\n",
      "\tEpoch 326: EarlyStopping counter for 'cosine_acc': 80/50\n",
      "\tEpoch 326: EarlyStopping counter for 'euclidean_auc': 33/50\n",
      "\tEpoch 326: EarlyStopping counter for 'euclidean_acc': 47/50\n"
     ]
    },
    {
     "name": "stdout",
     "output_type": "stream",
     "text": [
      "Epoch 327:\n",
      "\ttrain: loss: 0.0905 | auc_cos: 0.9745 | acc_cos: 0.9105 | auc_eu: 0.9799 | acc_eu: 0.9208\n",
      "\ttest: loss: 0.0278 | auc_cos: 0.9348 | acc_cos: 0.8653 | auc_eu: 0.9455 | acc_eu: 0.8570\n"
     ]
    },
    {
     "name": "stdout",
     "output_type": "stream",
     "text": [
      "\tSaving model and optimizer state to /kaggle/working/checkpoint/triplet/albedo/models/checkpoint.pth\n",
      "\tEpoch 327: EarlyStopping counter for 'cosine_auc': 83/50\n",
      "\tEpoch 327: EarlyStopping counter for 'cosine_acc': 81/50\n",
      "\tEpoch 327: EarlyStopping counter for 'euclidean_auc': 34/50\n",
      "\tEpoch 327: EarlyStopping counter for 'euclidean_acc': 48/50\n"
     ]
    },
    {
     "name": "stdout",
     "output_type": "stream",
     "text": [
      "Epoch 328:\n",
      "\ttrain: loss: 0.1044 | auc_cos: 0.9775 | acc_cos: 0.9149 | auc_eu: 0.9835 | acc_eu: 0.9250\n",
      "\ttest: loss: 0.0320 | auc_cos: 0.9375 | acc_cos: 0.8467 | auc_eu: 0.9476 | acc_eu: 0.9127\n"
     ]
    },
    {
     "name": "stdout",
     "output_type": "stream",
     "text": [
      "\tSaving model and optimizer state to /kaggle/working/checkpoint/triplet/albedo/models/checkpoint.pth\n",
      "\tEpoch 328: EarlyStopping counter for 'cosine_auc': 84/50\n",
      "\tEpoch 328: EarlyStopping counter for 'cosine_acc': 82/50\n",
      "\tEpoch 328: EarlyStopping counter for 'euclidean_auc': 35/50\n",
      "\tEpoch 328: EarlyStopping counter for 'euclidean_acc': 49/50\n"
     ]
    },
    {
     "name": "stdout",
     "output_type": "stream",
     "text": [
      "Epoch 329:\n",
      "\ttrain: loss: 0.0549 | auc_cos: 0.9784 | acc_cos: 0.9209 | auc_eu: 0.9838 | acc_eu: 0.9189\n",
      "\ttest: loss: 0.0242 | auc_cos: 0.9384 | acc_cos: 0.8581 | auc_eu: 0.9459 | acc_eu: 0.9032\n"
     ]
    },
    {
     "name": "stdout",
     "output_type": "stream",
     "text": [
      "\tSaving model and optimizer state to /kaggle/working/checkpoint/triplet/albedo/models/checkpoint.pth\n",
      "\tEpoch 329: EarlyStopping counter for 'cosine_auc': 85/50\n",
      "\tEpoch 329: EarlyStopping counter for 'cosine_acc': 83/50\n",
      "\tEpoch 329: EarlyStopping counter for 'euclidean_auc': 36/50\n",
      "\tEpoch 329: EarlyStopping counter for 'euclidean_acc': 50/50\n"
     ]
    },
    {
     "name": "stdout",
     "output_type": "stream",
     "text": [
      "Epoch 330:\n",
      "\ttrain: loss: 0.0920 | auc_cos: 0.9805 | acc_cos: 0.9139 | auc_eu: 0.9843 | acc_eu: 0.9339\n",
      "\ttest: loss: 0.0194 | auc_cos: 0.9365 | acc_cos: 0.8515 | auc_eu: 0.9480 | acc_eu: 0.8461\n"
     ]
    },
    {
     "name": "stdout",
     "output_type": "stream",
     "text": [
      "\tSaving model and optimizer state to /kaggle/working/checkpoint/triplet/albedo/models/checkpoint.pth\n",
      "\tEpoch 330: EarlyStopping counter for 'cosine_auc': 86/50\n",
      "\tEpoch 330: EarlyStopping counter for 'cosine_acc': 84/50\n",
      "\tEpoch 330: EarlyStopping counter for 'euclidean_auc': 37/50\n",
      "\tEpoch 330: EarlyStopping counter for 'euclidean_acc': 51/50\n"
     ]
    },
    {
     "name": "stdout",
     "output_type": "stream",
     "text": [
      "Epoch 331:\n",
      "\ttrain: loss: 0.0569 | auc_cos: 0.9797 | acc_cos: 0.9083 | auc_eu: 0.9832 | acc_eu: 0.9230\n",
      "\ttest: loss: 0.0223 | auc_cos: 0.9407 | acc_cos: 0.8950 | auc_eu: 0.9510 | acc_eu: 0.8862\n"
     ]
    },
    {
     "name": "stdout",
     "output_type": "stream",
     "text": [
      "\tSaving model and optimizer state to /kaggle/working/checkpoint/triplet/albedo/models/checkpoint.pth\n",
      "\tEpoch 331: EarlyStopping counter for 'cosine_auc': 87/50\n",
      "\tEpoch 331: EarlyStopping counter for 'cosine_acc': 85/50\n",
      "\tEpoch 331: EarlyStopping counter for 'euclidean_auc': 38/50\n",
      "\tEpoch 331: EarlyStopping counter for 'euclidean_acc': 52/50\n"
     ]
    },
    {
     "name": "stdout",
     "output_type": "stream",
     "text": [
      "Epoch 332:\n",
      "\ttrain: loss: 0.0790 | auc_cos: 0.9816 | acc_cos: 0.9183 | auc_eu: 0.9848 | acc_eu: 0.9239\n",
      "\ttest: loss: 0.0232 | auc_cos: 0.9416 | acc_cos: 0.8434 | auc_eu: 0.9531 | acc_eu: 0.8908\n"
     ]
    },
    {
     "name": "stdout",
     "output_type": "stream",
     "text": [
      "\tSaving model and optimizer state to /kaggle/working/checkpoint/triplet/albedo/models/checkpoint.pth\n",
      "\tEpoch 332: EarlyStopping counter for 'cosine_auc': 88/50\n",
      "\tEpoch 332: EarlyStopping counter for 'cosine_acc': 86/50\n",
      "\tEpoch 332: EarlyStopping counter for 'euclidean_auc': 39/50\n",
      "\tSaved best model weights for 'euclidean_acc' at epoch 332 to '/kaggle/working/checkpoint/triplet/albedo/models/best_euclidean_acc_332.pth'\n"
     ]
    },
    {
     "name": "stdout",
     "output_type": "stream",
     "text": [
      "Epoch 333:\n",
      "\ttrain: loss: 0.0583 | auc_cos: 0.9798 | acc_cos: 0.9208 | auc_eu: 0.9835 | acc_eu: 0.9078\n",
      "\ttest: loss: 0.0272 | auc_cos: 0.9411 | acc_cos: 0.8625 | auc_eu: 0.9518 | acc_eu: 0.8794\n"
     ]
    },
    {
     "name": "stdout",
     "output_type": "stream",
     "text": [
      "\tSaving model and optimizer state to /kaggle/working/checkpoint/triplet/albedo/models/checkpoint.pth\n",
      "\tEpoch 333: EarlyStopping counter for 'cosine_auc': 89/50\n",
      "\tEpoch 333: EarlyStopping counter for 'cosine_acc': 87/50\n",
      "\tEpoch 333: EarlyStopping counter for 'euclidean_auc': 40/50\n",
      "\tEpoch 333: EarlyStopping counter for 'euclidean_acc': 1/50\n"
     ]
    },
    {
     "name": "stdout",
     "output_type": "stream",
     "text": [
      "Epoch 334:\n",
      "\ttrain: loss: 0.0825 | auc_cos: 0.9766 | acc_cos: 0.8911 | auc_eu: 0.9822 | acc_eu: 0.9303\n",
      "\ttest: loss: 0.0285 | auc_cos: 0.9336 | acc_cos: 0.8395 | auc_eu: 0.9486 | acc_eu: 0.8940\n"
     ]
    },
    {
     "name": "stdout",
     "output_type": "stream",
     "text": [
      "\tSaving model and optimizer state to /kaggle/working/checkpoint/triplet/albedo/models/checkpoint.pth\n",
      "\tEpoch 334: EarlyStopping counter for 'cosine_auc': 90/50\n",
      "\tEpoch 334: EarlyStopping counter for 'cosine_acc': 88/50\n",
      "\tEpoch 334: EarlyStopping counter for 'euclidean_auc': 41/50\n",
      "\tEpoch 334: EarlyStopping counter for 'euclidean_acc': 2/50\n"
     ]
    },
    {
     "name": "stdout",
     "output_type": "stream",
     "text": [
      "Epoch 335:\n",
      "\ttrain: loss: 0.0511 | auc_cos: 0.9809 | acc_cos: 0.9153 | auc_eu: 0.9857 | acc_eu: 0.9358\n",
      "\ttest: loss: 0.0284 | auc_cos: 0.9409 | acc_cos: 0.8555 | auc_eu: 0.9527 | acc_eu: 0.8988\n"
     ]
    },
    {
     "name": "stdout",
     "output_type": "stream",
     "text": [
      "\tSaving model and optimizer state to /kaggle/working/checkpoint/triplet/albedo/models/checkpoint.pth\n",
      "\tEpoch 335: EarlyStopping counter for 'cosine_auc': 91/50\n",
      "\tEpoch 335: EarlyStopping counter for 'cosine_acc': 89/50\n",
      "\tEpoch 335: EarlyStopping counter for 'euclidean_auc': 42/50\n",
      "\tEpoch 335: EarlyStopping counter for 'euclidean_acc': 3/50\n"
     ]
    },
    {
     "name": "stdout",
     "output_type": "stream",
     "text": [
      "Epoch 336:\n",
      "\ttrain: loss: 0.0807 | auc_cos: 0.9811 | acc_cos: 0.9126 | auc_eu: 0.9859 | acc_eu: 0.9313\n",
      "\ttest: loss: 0.0243 | auc_cos: 0.9320 | acc_cos: 0.8255 | auc_eu: 0.9484 | acc_eu: 0.8956\n"
     ]
    },
    {
     "name": "stdout",
     "output_type": "stream",
     "text": [
      "\tSaving model and optimizer state to /kaggle/working/checkpoint/triplet/albedo/models/checkpoint.pth\n",
      "\tEpoch 336: EarlyStopping counter for 'cosine_auc': 92/50\n",
      "\tEpoch 336: EarlyStopping counter for 'cosine_acc': 90/50\n",
      "\tEpoch 336: EarlyStopping counter for 'euclidean_auc': 43/50\n",
      "\tEpoch 336: EarlyStopping counter for 'euclidean_acc': 4/50\n"
     ]
    },
    {
     "name": "stdout",
     "output_type": "stream",
     "text": [
      "Epoch 337:\n",
      "\ttrain: loss: 0.0598 | auc_cos: 0.9821 | acc_cos: 0.9185 | auc_eu: 0.9864 | acc_eu: 0.9262\n",
      "\ttest: loss: 0.0208 | auc_cos: 0.9387 | acc_cos: 0.8383 | auc_eu: 0.9516 | acc_eu: 0.8888\n"
     ]
    },
    {
     "name": "stdout",
     "output_type": "stream",
     "text": [
      "\tSaving model and optimizer state to /kaggle/working/checkpoint/triplet/albedo/models/checkpoint.pth\n",
      "\tEpoch 337: EarlyStopping counter for 'cosine_auc': 93/50\n",
      "\tEpoch 337: EarlyStopping counter for 'cosine_acc': 91/50\n",
      "\tEpoch 337: EarlyStopping counter for 'euclidean_auc': 44/50\n",
      "\tEpoch 337: EarlyStopping counter for 'euclidean_acc': 5/50\n"
     ]
    },
    {
     "name": "stdout",
     "output_type": "stream",
     "text": [
      "Epoch 338:\n",
      "\ttrain: loss: 0.0482 | auc_cos: 0.9808 | acc_cos: 0.9296 | auc_eu: 0.9863 | acc_eu: 0.9355\n",
      "\ttest: loss: 0.0226 | auc_cos: 0.9405 | acc_cos: 0.8868 | auc_eu: 0.9541 | acc_eu: 0.9003\n"
     ]
    },
    {
     "name": "stdout",
     "output_type": "stream",
     "text": [
      "\tSaving model and optimizer state to /kaggle/working/checkpoint/triplet/albedo/models/checkpoint.pth\n",
      "\tEpoch 338: EarlyStopping counter for 'cosine_auc': 94/50\n",
      "\tEpoch 338: EarlyStopping counter for 'cosine_acc': 92/50\n",
      "\tEpoch 338: EarlyStopping counter for 'euclidean_auc': 45/50\n",
      "\tSaved best model weights for 'euclidean_acc' at epoch 338 to '/kaggle/working/checkpoint/triplet/albedo/models/best_euclidean_acc_338.pth'\n"
     ]
    },
    {
     "name": "stdout",
     "output_type": "stream",
     "text": [
      "Epoch 339:\n",
      "\ttrain: loss: 0.0544 | auc_cos: 0.9821 | acc_cos: 0.9224 | auc_eu: 0.9870 | acc_eu: 0.9324\n",
      "\ttest: loss: 0.0204 | auc_cos: 0.9468 | acc_cos: 0.8811 | auc_eu: 0.9573 | acc_eu: 0.9199\n"
     ]
    },
    {
     "name": "stdout",
     "output_type": "stream",
     "text": [
      "\tSaving model and optimizer state to /kaggle/working/checkpoint/triplet/albedo/models/checkpoint.pth\n",
      "\tSaved best model weights for 'cosine_auc' at epoch 339 to '/kaggle/working/checkpoint/triplet/albedo/models/best_cosine_auc_339.pth'\n",
      "\tEpoch 339: EarlyStopping counter for 'cosine_acc': 93/50\n",
      "\tEpoch 339: EarlyStopping counter for 'euclidean_auc': 46/50\n"
     ]
    },
    {
     "name": "stdout",
     "output_type": "stream",
     "text": [
      "\tSaved best model weights for 'euclidean_acc' at epoch 339 to '/kaggle/working/checkpoint/triplet/albedo/models/best_euclidean_acc_339.pth'\n"
     ]
    },
    {
     "name": "stdout",
     "output_type": "stream",
     "text": [
      "Epoch 340:\n",
      "\ttrain: loss: 0.0450 | auc_cos: 0.9827 | acc_cos: 0.9209 | auc_eu: 0.9875 | acc_eu: 0.9341\n",
      "\ttest: loss: 0.0201 | auc_cos: 0.9438 | acc_cos: 0.8605 | auc_eu: 0.9563 | acc_eu: 0.8975\n"
     ]
    },
    {
     "name": "stdout",
     "output_type": "stream",
     "text": [
      "\tSaving model and optimizer state to /kaggle/working/checkpoint/triplet/albedo/models/checkpoint.pth\n",
      "\tEpoch 340: EarlyStopping counter for 'cosine_auc': 1/50\n",
      "\tEpoch 340: EarlyStopping counter for 'cosine_acc': 94/50\n",
      "\tEpoch 340: EarlyStopping counter for 'euclidean_auc': 47/50\n",
      "\tEpoch 340: EarlyStopping counter for 'euclidean_acc': 1/50\n"
     ]
    },
    {
     "name": "stdout",
     "output_type": "stream",
     "text": [
      "Epoch 341:\n",
      "\ttrain: loss: 0.0323 | auc_cos: 0.9827 | acc_cos: 0.9131 | auc_eu: 0.9876 | acc_eu: 0.9385\n",
      "\ttest: loss: 0.0202 | auc_cos: 0.9443 | acc_cos: 0.8641 | auc_eu: 0.9557 | acc_eu: 0.9016\n"
     ]
    },
    {
     "name": "stdout",
     "output_type": "stream",
     "text": [
      "\tSaving model and optimizer state to /kaggle/working/checkpoint/triplet/albedo/models/checkpoint.pth\n",
      "\tEpoch 341: EarlyStopping counter for 'cosine_auc': 2/50\n",
      "\tEpoch 341: EarlyStopping counter for 'cosine_acc': 95/50\n",
      "\tEpoch 341: EarlyStopping counter for 'euclidean_auc': 48/50\n",
      "\tEpoch 341: EarlyStopping counter for 'euclidean_acc': 2/50\n"
     ]
    },
    {
     "name": "stdout",
     "output_type": "stream",
     "text": [
      "Epoch 342:\n",
      "\ttrain: loss: 0.0668 | auc_cos: 0.9825 | acc_cos: 0.9235 | auc_eu: 0.9876 | acc_eu: 0.9353\n",
      "\ttest: loss: 0.0197 | auc_cos: 0.9422 | acc_cos: 0.8878 | auc_eu: 0.9540 | acc_eu: 0.9151\n"
     ]
    },
    {
     "name": "stdout",
     "output_type": "stream",
     "text": [
      "\tSaving model and optimizer state to /kaggle/working/checkpoint/triplet/albedo/models/checkpoint.pth\n",
      "\tEpoch 342: EarlyStopping counter for 'cosine_auc': 3/50\n",
      "\tEpoch 342: EarlyStopping counter for 'cosine_acc': 96/50\n",
      "\tEpoch 342: EarlyStopping counter for 'euclidean_auc': 49/50\n",
      "\tEpoch 342: EarlyStopping counter for 'euclidean_acc': 3/50\n"
     ]
    },
    {
     "name": "stdout",
     "output_type": "stream",
     "text": [
      "Epoch 343:\n",
      "\ttrain: loss: 0.0575 | auc_cos: 0.9842 | acc_cos: 0.9409 | auc_eu: 0.9877 | acc_eu: 0.9411\n",
      "\ttest: loss: 0.0193 | auc_cos: 0.9470 | acc_cos: 0.8678 | auc_eu: 0.9570 | acc_eu: 0.8995\n"
     ]
    },
    {
     "name": "stdout",
     "output_type": "stream",
     "text": [
      "\tSaving model and optimizer state to /kaggle/working/checkpoint/triplet/albedo/models/checkpoint.pth\n",
      "\tSaved best model weights for 'cosine_auc' at epoch 343 to '/kaggle/working/checkpoint/triplet/albedo/models/best_cosine_auc_343.pth'\n",
      "\tEpoch 343: EarlyStopping counter for 'cosine_acc': 97/50\n",
      "\tEpoch 343: EarlyStopping counter for 'euclidean_auc': 50/50\n",
      "\tEpoch 343: EarlyStopping counter for 'euclidean_acc': 4/50\n"
     ]
    },
    {
     "name": "stdout",
     "output_type": "stream",
     "text": [
      "Epoch 344:\n",
      "\ttrain: loss: 0.0556 | auc_cos: 0.9836 | acc_cos: 0.9170 | auc_eu: 0.9873 | acc_eu: 0.9393\n",
      "\ttest: loss: 0.0196 | auc_cos: 0.9447 | acc_cos: 0.8791 | auc_eu: 0.9561 | acc_eu: 0.9187\n"
     ]
    },
    {
     "name": "stdout",
     "output_type": "stream",
     "text": [
      "\tSaving model and optimizer state to /kaggle/working/checkpoint/triplet/albedo/models/checkpoint.pth\n",
      "\tEpoch 344: EarlyStopping counter for 'cosine_auc': 1/50\n",
      "\tEpoch 344: EarlyStopping counter for 'cosine_acc': 98/50\n",
      "\tEpoch 344: EarlyStopping counter for 'euclidean_auc': 51/50\n",
      "\tEpoch 344: EarlyStopping counter for 'euclidean_acc': 5/50\n"
     ]
    },
    {
     "name": "stdout",
     "output_type": "stream",
     "text": [
      "Epoch 345:\n",
      "\ttrain: loss: 0.0651 | auc_cos: 0.9823 | acc_cos: 0.9119 | auc_eu: 0.9867 | acc_eu: 0.9377\n",
      "\ttest: loss: 0.0213 | auc_cos: 0.9432 | acc_cos: 0.8775 | auc_eu: 0.9554 | acc_eu: 0.8936\n"
     ]
    },
    {
     "name": "stdout",
     "output_type": "stream",
     "text": [
      "\tSaving model and optimizer state to /kaggle/working/checkpoint/triplet/albedo/models/checkpoint.pth\n",
      "\tEpoch 345: EarlyStopping counter for 'cosine_auc': 2/50\n",
      "\tEpoch 345: EarlyStopping counter for 'cosine_acc': 99/50\n",
      "\tEpoch 345: EarlyStopping counter for 'euclidean_auc': 52/50\n",
      "\tEpoch 345: EarlyStopping counter for 'euclidean_acc': 6/50\n"
     ]
    },
    {
     "name": "stdout",
     "output_type": "stream",
     "text": [
      "Epoch 346:\n",
      "\ttrain: loss: 0.0528 | auc_cos: 0.9838 | acc_cos: 0.9192 | auc_eu: 0.9882 | acc_eu: 0.9349\n",
      "\ttest: loss: 0.0199 | auc_cos: 0.9474 | acc_cos: 0.8649 | auc_eu: 0.9580 | acc_eu: 0.9214\n"
     ]
    },
    {
     "name": "stdout",
     "output_type": "stream",
     "text": [
      "\tSaving model and optimizer state to /kaggle/working/checkpoint/triplet/albedo/models/checkpoint.pth\n",
      "\tSaved best model weights for 'cosine_auc' at epoch 346 to '/kaggle/working/checkpoint/triplet/albedo/models/best_cosine_auc_346.pth'\n",
      "\tEpoch 346: EarlyStopping counter for 'cosine_acc': 100/50\n",
      "\tEpoch 346: EarlyStopping counter for 'euclidean_auc': 53/50\n"
     ]
    },
    {
     "name": "stdout",
     "output_type": "stream",
     "text": [
      "\tSaved best model weights for 'euclidean_acc' at epoch 346 to '/kaggle/working/checkpoint/triplet/albedo/models/best_euclidean_acc_346.pth'\n"
     ]
    },
    {
     "name": "stdout",
     "output_type": "stream",
     "text": [
      "Epoch 347:\n",
      "\ttrain: loss: 0.0513 | auc_cos: 0.9833 | acc_cos: 0.9238 | auc_eu: 0.9880 | acc_eu: 0.9364\n",
      "\ttest: loss: 0.0186 | auc_cos: 0.9452 | acc_cos: 0.8782 | auc_eu: 0.9569 | acc_eu: 0.9262\n"
     ]
    },
    {
     "name": "stdout",
     "output_type": "stream",
     "text": [
      "\tSaving model and optimizer state to /kaggle/working/checkpoint/triplet/albedo/models/checkpoint.pth\n",
      "\tEpoch 347: EarlyStopping counter for 'cosine_auc': 1/50\n",
      "\tEpoch 347: EarlyStopping counter for 'cosine_acc': 101/50\n",
      "\tEpoch 347: EarlyStopping counter for 'euclidean_auc': 54/50\n",
      "\tEpoch 347: EarlyStopping counter for 'euclidean_acc': 1/50\n"
     ]
    },
    {
     "name": "stdout",
     "output_type": "stream",
     "text": [
      "Epoch 348:\n",
      "\ttrain: loss: 0.0500 | auc_cos: 0.9819 | acc_cos: 0.9228 | auc_eu: 0.9881 | acc_eu: 0.9341\n",
      "\ttest: loss: 0.0209 | auc_cos: 0.9450 | acc_cos: 0.8458 | auc_eu: 0.9574 | acc_eu: 0.9176\n"
     ]
    },
    {
     "name": "stdout",
     "output_type": "stream",
     "text": [
      "\tSaving model and optimizer state to /kaggle/working/checkpoint/triplet/albedo/models/checkpoint.pth\n",
      "\tEpoch 348: EarlyStopping counter for 'cosine_auc': 2/50\n",
      "\tEpoch 348: EarlyStopping counter for 'cosine_acc': 102/50\n",
      "\tEpoch 348: EarlyStopping counter for 'euclidean_auc': 55/50\n",
      "\tEpoch 348: EarlyStopping counter for 'euclidean_acc': 2/50\n"
     ]
    },
    {
     "name": "stdout",
     "output_type": "stream",
     "text": [
      "Epoch 349:\n",
      "\ttrain: loss: 0.0685 | auc_cos: 0.9843 | acc_cos: 0.9225 | auc_eu: 0.9883 | acc_eu: 0.9420\n",
      "\ttest: loss: 0.0190 | auc_cos: 0.9475 | acc_cos: 0.8685 | auc_eu: 0.9579 | acc_eu: 0.9274\n"
     ]
    },
    {
     "name": "stdout",
     "output_type": "stream",
     "text": [
      "\tSaving model and optimizer state to /kaggle/working/checkpoint/triplet/albedo/models/checkpoint.pth\n",
      "\tSaved best model weights for 'cosine_auc' at epoch 349 to '/kaggle/working/checkpoint/triplet/albedo/models/best_cosine_auc_349.pth'\n",
      "\tEpoch 349: EarlyStopping counter for 'cosine_acc': 103/50\n",
      "\tEpoch 349: EarlyStopping counter for 'euclidean_auc': 56/50\n",
      "\tEpoch 349: EarlyStopping counter for 'euclidean_acc': 3/50\n"
     ]
    },
    {
     "name": "stdout",
     "output_type": "stream",
     "text": [
      "Epoch 350:\n",
      "\ttrain: loss: 0.0928 | auc_cos: 0.9631 | acc_cos: 0.8819 | auc_eu: 0.9702 | acc_eu: 0.8995\n",
      "\ttest: loss: 0.0481 | auc_cos: 0.9279 | acc_cos: 0.9024 | auc_eu: 0.9362 | acc_eu: 0.8714\n"
     ]
    },
    {
     "name": "stdout",
     "output_type": "stream",
     "text": [
      "\tSaving model and optimizer state to /kaggle/working/checkpoint/triplet/albedo/models/checkpoint.pth\n",
      "\tEpoch 350: EarlyStopping counter for 'cosine_auc': 1/50\n",
      "\tEpoch 350: EarlyStopping counter for 'cosine_acc': 104/50\n",
      "\tEpoch 350: EarlyStopping counter for 'euclidean_auc': 57/50\n",
      "\tEpoch 350: EarlyStopping counter for 'euclidean_acc': 4/50\n"
     ]
    },
    {
     "name": "stdout",
     "output_type": "stream",
     "text": [
      "Epoch 351:\n",
      "\ttrain: loss: 0.1313 | auc_cos: 0.9547 | acc_cos: 0.8812 | auc_eu: 0.9619 | acc_eu: 0.8607\n",
      "\ttest: loss: 0.0772 | auc_cos: 0.9352 | acc_cos: 0.8954 | auc_eu: 0.9385 | acc_eu: 0.8787\n"
     ]
    },
    {
     "name": "stdout",
     "output_type": "stream",
     "text": [
      "\tSaving model and optimizer state to /kaggle/working/checkpoint/triplet/albedo/models/checkpoint.pth\n",
      "\tEpoch 351: EarlyStopping counter for 'cosine_auc': 2/50\n",
      "\tEpoch 351: EarlyStopping counter for 'cosine_acc': 105/50\n",
      "\tEpoch 351: EarlyStopping counter for 'euclidean_auc': 58/50\n",
      "\tEpoch 351: EarlyStopping counter for 'euclidean_acc': 5/50\n"
     ]
    },
    {
     "name": "stdout",
     "output_type": "stream",
     "text": [
      "Epoch 352:\n",
      "\ttrain: loss: 0.1804 | auc_cos: 0.9491 | acc_cos: 0.8370 | auc_eu: 0.9538 | acc_eu: 0.8549\n",
      "\ttest: loss: 0.0716 | auc_cos: 0.9174 | acc_cos: 0.8844 | auc_eu: 0.9279 | acc_eu: 0.8745\n"
     ]
    },
    {
     "name": "stdout",
     "output_type": "stream",
     "text": [
      "\tSaving model and optimizer state to /kaggle/working/checkpoint/triplet/albedo/models/checkpoint.pth\n",
      "\tEpoch 352: EarlyStopping counter for 'cosine_auc': 3/50\n",
      "\tEpoch 352: EarlyStopping counter for 'cosine_acc': 106/50\n",
      "\tEpoch 352: EarlyStopping counter for 'euclidean_auc': 59/50\n",
      "\tEpoch 352: EarlyStopping counter for 'euclidean_acc': 6/50\n"
     ]
    },
    {
     "name": "stdout",
     "output_type": "stream",
     "text": [
      "Epoch 353:\n",
      "\ttrain: loss: 0.1975 | auc_cos: 0.9533 | acc_cos: 0.8770 | auc_eu: 0.9555 | acc_eu: 0.8569\n",
      "\ttest: loss: 0.0595 | auc_cos: 0.9149 | acc_cos: 0.8598 | auc_eu: 0.9164 | acc_eu: 0.8434\n"
     ]
    },
    {
     "name": "stdout",
     "output_type": "stream",
     "text": [
      "\tSaving model and optimizer state to /kaggle/working/checkpoint/triplet/albedo/models/checkpoint.pth\n",
      "\tEpoch 353: EarlyStopping counter for 'cosine_auc': 4/50\n",
      "\tEpoch 353: EarlyStopping counter for 'cosine_acc': 107/50\n",
      "\tEpoch 353: EarlyStopping counter for 'euclidean_auc': 60/50\n",
      "\tEpoch 353: EarlyStopping counter for 'euclidean_acc': 7/50\n"
     ]
    },
    {
     "name": "stdout",
     "output_type": "stream",
     "text": [
      "Epoch 354:\n",
      "\ttrain: loss: 0.2078 | auc_cos: 0.9531 | acc_cos: 0.8941 | auc_eu: 0.9654 | acc_eu: 0.8853\n",
      "\ttest: loss: 0.0792 | auc_cos: 0.9058 | acc_cos: 0.8418 | auc_eu: 0.9265 | acc_eu: 0.9036\n"
     ]
    },
    {
     "name": "stdout",
     "output_type": "stream",
     "text": [
      "\tSaving model and optimizer state to /kaggle/working/checkpoint/triplet/albedo/models/checkpoint.pth\n",
      "\tEpoch 354: EarlyStopping counter for 'cosine_auc': 5/50\n",
      "\tEpoch 354: EarlyStopping counter for 'cosine_acc': 108/50\n",
      "\tEpoch 354: EarlyStopping counter for 'euclidean_auc': 61/50\n",
      "\tEpoch 354: EarlyStopping counter for 'euclidean_acc': 8/50\n"
     ]
    },
    {
     "name": "stdout",
     "output_type": "stream",
     "text": [
      "Epoch 355:\n",
      "\ttrain: loss: 0.2175 | auc_cos: 0.9591 | acc_cos: 0.9000 | auc_eu: 0.9614 | acc_eu: 0.8896\n",
      "\ttest: loss: 0.0590 | auc_cos: 0.9302 | acc_cos: 0.8920 | auc_eu: 0.9325 | acc_eu: 0.8138\n"
     ]
    },
    {
     "name": "stdout",
     "output_type": "stream",
     "text": [
      "\tSaving model and optimizer state to /kaggle/working/checkpoint/triplet/albedo/models/checkpoint.pth\n",
      "\tEpoch 355: EarlyStopping counter for 'cosine_auc': 6/50\n",
      "\tEpoch 355: EarlyStopping counter for 'cosine_acc': 109/50\n",
      "\tEpoch 355: EarlyStopping counter for 'euclidean_auc': 62/50\n",
      "\tEpoch 355: EarlyStopping counter for 'euclidean_acc': 9/50\n"
     ]
    },
    {
     "name": "stdout",
     "output_type": "stream",
     "text": [
      "Epoch 356:\n",
      "\ttrain: loss: 0.2007 | auc_cos: 0.9635 | acc_cos: 0.8899 | auc_eu: 0.9665 | acc_eu: 0.8783\n",
      "\ttest: loss: 0.0714 | auc_cos: 0.9107 | acc_cos: 0.8373 | auc_eu: 0.9205 | acc_eu: 0.8323\n"
     ]
    },
    {
     "name": "stdout",
     "output_type": "stream",
     "text": [
      "\tSaving model and optimizer state to /kaggle/working/checkpoint/triplet/albedo/models/checkpoint.pth\n",
      "\tEpoch 356: EarlyStopping counter for 'cosine_auc': 7/50\n",
      "\tEpoch 356: EarlyStopping counter for 'cosine_acc': 110/50\n",
      "\tEpoch 356: EarlyStopping counter for 'euclidean_auc': 63/50\n",
      "\tEpoch 356: EarlyStopping counter for 'euclidean_acc': 10/50\n"
     ]
    },
    {
     "name": "stdout",
     "output_type": "stream",
     "text": [
      "Epoch 357:\n",
      "\ttrain: loss: 0.1481 | auc_cos: 0.9580 | acc_cos: 0.8770 | auc_eu: 0.9621 | acc_eu: 0.8755\n",
      "\ttest: loss: 0.0756 | auc_cos: 0.9223 | acc_cos: 0.8567 | auc_eu: 0.9344 | acc_eu: 0.8459\n"
     ]
    },
    {
     "name": "stdout",
     "output_type": "stream",
     "text": [
      "\tSaving model and optimizer state to /kaggle/working/checkpoint/triplet/albedo/models/checkpoint.pth\n",
      "\tEpoch 357: EarlyStopping counter for 'cosine_auc': 8/50\n",
      "\tEpoch 357: EarlyStopping counter for 'cosine_acc': 111/50\n",
      "\tEpoch 357: EarlyStopping counter for 'euclidean_auc': 64/50\n",
      "\tEpoch 357: EarlyStopping counter for 'euclidean_acc': 11/50\n"
     ]
    },
    {
     "name": "stdout",
     "output_type": "stream",
     "text": [
      "Epoch 358:\n",
      "\ttrain: loss: 0.2587 | auc_cos: 0.9499 | acc_cos: 0.8836 | auc_eu: 0.9579 | acc_eu: 0.8706\n",
      "\ttest: loss: 0.0750 | auc_cos: 0.9215 | acc_cos: 0.8187 | auc_eu: 0.9281 | acc_eu: 0.8266\n"
     ]
    },
    {
     "name": "stdout",
     "output_type": "stream",
     "text": [
      "\tSaving model and optimizer state to /kaggle/working/checkpoint/triplet/albedo/models/checkpoint.pth\n",
      "\tEpoch 358: EarlyStopping counter for 'cosine_auc': 9/50\n",
      "\tEpoch 358: EarlyStopping counter for 'cosine_acc': 112/50\n",
      "\tEpoch 358: EarlyStopping counter for 'euclidean_auc': 65/50\n",
      "\tEpoch 358: EarlyStopping counter for 'euclidean_acc': 12/50\n"
     ]
    },
    {
     "name": "stdout",
     "output_type": "stream",
     "text": [
      "Epoch 359:\n",
      "\ttrain: loss: 0.1890 | auc_cos: 0.9575 | acc_cos: 0.8739 | auc_eu: 0.9698 | acc_eu: 0.8847\n",
      "\ttest: loss: 0.0550 | auc_cos: 0.9275 | acc_cos: 0.8782 | auc_eu: 0.9397 | acc_eu: 0.8923\n"
     ]
    },
    {
     "name": "stdout",
     "output_type": "stream",
     "text": [
      "\tSaving model and optimizer state to /kaggle/working/checkpoint/triplet/albedo/models/checkpoint.pth\n",
      "\tEpoch 359: EarlyStopping counter for 'cosine_auc': 10/50\n",
      "\tEpoch 359: EarlyStopping counter for 'cosine_acc': 113/50\n",
      "\tEpoch 359: EarlyStopping counter for 'euclidean_auc': 66/50\n",
      "\tEpoch 359: EarlyStopping counter for 'euclidean_acc': 13/50\n"
     ]
    },
    {
     "name": "stdout",
     "output_type": "stream",
     "text": [
      "Epoch 360:\n",
      "\ttrain: loss: 0.1865 | auc_cos: 0.9566 | acc_cos: 0.8726 | auc_eu: 0.9639 | acc_eu: 0.8874\n",
      "\ttest: loss: 0.0688 | auc_cos: 0.9321 | acc_cos: 0.9160 | auc_eu: 0.9469 | acc_eu: 0.8746\n"
     ]
    },
    {
     "name": "stdout",
     "output_type": "stream",
     "text": [
      "\tSaving model and optimizer state to /kaggle/working/checkpoint/triplet/albedo/models/checkpoint.pth\n",
      "\tEpoch 360: EarlyStopping counter for 'cosine_auc': 11/50\n",
      "\tEpoch 360: EarlyStopping counter for 'cosine_acc': 114/50\n",
      "\tEpoch 360: EarlyStopping counter for 'euclidean_auc': 67/50\n",
      "\tEpoch 360: EarlyStopping counter for 'euclidean_acc': 14/50\n"
     ]
    },
    {
     "name": "stdout",
     "output_type": "stream",
     "text": [
      "Epoch 361:\n",
      "\ttrain: loss: 0.1755 | auc_cos: 0.9572 | acc_cos: 0.8848 | auc_eu: 0.9650 | acc_eu: 0.8929\n",
      "\ttest: loss: 0.0674 | auc_cos: 0.9381 | acc_cos: 0.9315 | auc_eu: 0.9514 | acc_eu: 0.9298\n"
     ]
    },
    {
     "name": "stdout",
     "output_type": "stream",
     "text": [
      "\tSaving model and optimizer state to /kaggle/working/checkpoint/triplet/albedo/models/checkpoint.pth\n",
      "\tEpoch 361: EarlyStopping counter for 'cosine_auc': 12/50\n",
      "\tEpoch 361: EarlyStopping counter for 'cosine_acc': 115/50\n",
      "\tEpoch 361: EarlyStopping counter for 'euclidean_auc': 68/50\n",
      "\tEpoch 361: EarlyStopping counter for 'euclidean_acc': 15/50\n"
     ]
    },
    {
     "name": "stdout",
     "output_type": "stream",
     "text": [
      "Epoch 362:\n",
      "\ttrain: loss: 0.1575 | auc_cos: 0.9562 | acc_cos: 0.8703 | auc_eu: 0.9660 | acc_eu: 0.9041\n",
      "\ttest: loss: 0.0599 | auc_cos: 0.9390 | acc_cos: 0.9151 | auc_eu: 0.9490 | acc_eu: 0.8775\n"
     ]
    },
    {
     "name": "stdout",
     "output_type": "stream",
     "text": [
      "\tSaving model and optimizer state to /kaggle/working/checkpoint/triplet/albedo/models/checkpoint.pth\n",
      "\tEpoch 362: EarlyStopping counter for 'cosine_auc': 13/50\n",
      "\tEpoch 362: EarlyStopping counter for 'cosine_acc': 116/50\n",
      "\tEpoch 362: EarlyStopping counter for 'euclidean_auc': 69/50\n",
      "\tEpoch 362: EarlyStopping counter for 'euclidean_acc': 16/50\n"
     ]
    },
    {
     "name": "stdout",
     "output_type": "stream",
     "text": [
      "Epoch 363:\n",
      "\ttrain: loss: 0.1406 | auc_cos: 0.9609 | acc_cos: 0.8636 | auc_eu: 0.9707 | acc_eu: 0.8895\n",
      "\ttest: loss: 0.0704 | auc_cos: 0.9512 | acc_cos: 0.8954 | auc_eu: 0.9491 | acc_eu: 0.9191\n"
     ]
    },
    {
     "name": "stdout",
     "output_type": "stream",
     "text": [
      "\tSaving model and optimizer state to /kaggle/working/checkpoint/triplet/albedo/models/checkpoint.pth\n",
      "\tSaved best model weights for 'cosine_auc' at epoch 363 to '/kaggle/working/checkpoint/triplet/albedo/models/best_cosine_auc_363.pth'\n",
      "\tEpoch 363: EarlyStopping counter for 'cosine_acc': 117/50\n",
      "\tEpoch 363: EarlyStopping counter for 'euclidean_auc': 70/50\n",
      "\tEpoch 363: EarlyStopping counter for 'euclidean_acc': 17/50\n"
     ]
    },
    {
     "name": "stdout",
     "output_type": "stream",
     "text": [
      "Epoch 364:\n",
      "\ttrain: loss: 0.1399 | auc_cos: 0.9640 | acc_cos: 0.8742 | auc_eu: 0.9723 | acc_eu: 0.9074\n",
      "\ttest: loss: 0.0521 | auc_cos: 0.9365 | acc_cos: 0.8478 | auc_eu: 0.9418 | acc_eu: 0.8958\n"
     ]
    },
    {
     "name": "stdout",
     "output_type": "stream",
     "text": [
      "\tSaving model and optimizer state to /kaggle/working/checkpoint/triplet/albedo/models/checkpoint.pth\n",
      "\tEpoch 364: EarlyStopping counter for 'cosine_auc': 1/50\n",
      "\tEpoch 364: EarlyStopping counter for 'cosine_acc': 118/50\n",
      "\tEpoch 364: EarlyStopping counter for 'euclidean_auc': 71/50\n",
      "\tEpoch 364: EarlyStopping counter for 'euclidean_acc': 18/50\n"
     ]
    },
    {
     "name": "stdout",
     "output_type": "stream",
     "text": [
      "Epoch 365:\n",
      "\ttrain: loss: 0.1489 | auc_cos: 0.9646 | acc_cos: 0.8933 | auc_eu: 0.9733 | acc_eu: 0.9032\n",
      "\ttest: loss: 0.0534 | auc_cos: 0.9317 | acc_cos: 0.9043 | auc_eu: 0.9426 | acc_eu: 0.9028\n"
     ]
    },
    {
     "name": "stdout",
     "output_type": "stream",
     "text": [
      "\tSaving model and optimizer state to /kaggle/working/checkpoint/triplet/albedo/models/checkpoint.pth\n",
      "\tEpoch 365: EarlyStopping counter for 'cosine_auc': 2/50\n",
      "\tEpoch 365: EarlyStopping counter for 'cosine_acc': 119/50\n",
      "\tEpoch 365: EarlyStopping counter for 'euclidean_auc': 72/50\n",
      "\tEpoch 365: EarlyStopping counter for 'euclidean_acc': 19/50\n"
     ]
    },
    {
     "name": "stdout",
     "output_type": "stream",
     "text": [
      "Epoch 366:\n",
      "\ttrain: loss: 0.1310 | auc_cos: 0.9699 | acc_cos: 0.8947 | auc_eu: 0.9756 | acc_eu: 0.8984\n",
      "\ttest: loss: 0.0453 | auc_cos: 0.9503 | acc_cos: 0.8799 | auc_eu: 0.9559 | acc_eu: 0.8992\n"
     ]
    },
    {
     "name": "stdout",
     "output_type": "stream",
     "text": [
      "\tSaving model and optimizer state to /kaggle/working/checkpoint/triplet/albedo/models/checkpoint.pth\n",
      "\tEpoch 366: EarlyStopping counter for 'cosine_auc': 3/50\n",
      "\tEpoch 366: EarlyStopping counter for 'cosine_acc': 120/50\n",
      "\tEpoch 366: EarlyStopping counter for 'euclidean_auc': 73/50\n",
      "\tEpoch 366: EarlyStopping counter for 'euclidean_acc': 20/50\n"
     ]
    },
    {
     "name": "stdout",
     "output_type": "stream",
     "text": [
      "Epoch 367:\n",
      "\ttrain: loss: 0.1354 | auc_cos: 0.9722 | acc_cos: 0.8890 | auc_eu: 0.9783 | acc_eu: 0.9152\n",
      "\ttest: loss: 0.0405 | auc_cos: 0.9473 | acc_cos: 0.9163 | auc_eu: 0.9511 | acc_eu: 0.8746\n"
     ]
    },
    {
     "name": "stdout",
     "output_type": "stream",
     "text": [
      "\tSaving model and optimizer state to /kaggle/working/checkpoint/triplet/albedo/models/checkpoint.pth\n",
      "\tEpoch 367: EarlyStopping counter for 'cosine_auc': 4/50\n",
      "\tEpoch 367: EarlyStopping counter for 'cosine_acc': 121/50\n",
      "\tEpoch 367: EarlyStopping counter for 'euclidean_auc': 74/50\n",
      "\tEpoch 367: EarlyStopping counter for 'euclidean_acc': 21/50\n"
     ]
    },
    {
     "name": "stdout",
     "output_type": "stream",
     "text": [
      "Epoch 368:\n",
      "\ttrain: loss: 0.0857 | auc_cos: 0.9693 | acc_cos: 0.9007 | auc_eu: 0.9775 | acc_eu: 0.8925\n",
      "\ttest: loss: 0.0304 | auc_cos: 0.9461 | acc_cos: 0.8537 | auc_eu: 0.9567 | acc_eu: 0.8721\n"
     ]
    },
    {
     "name": "stdout",
     "output_type": "stream",
     "text": [
      "\tSaving model and optimizer state to /kaggle/working/checkpoint/triplet/albedo/models/checkpoint.pth\n",
      "\tEpoch 368: EarlyStopping counter for 'cosine_auc': 5/50\n",
      "\tEpoch 368: EarlyStopping counter for 'cosine_acc': 122/50\n",
      "\tEpoch 368: EarlyStopping counter for 'euclidean_auc': 75/50\n",
      "\tEpoch 368: EarlyStopping counter for 'euclidean_acc': 22/50\n"
     ]
    },
    {
     "name": "stdout",
     "output_type": "stream",
     "text": [
      "Epoch 369:\n",
      "\ttrain: loss: 0.0929 | auc_cos: 0.9730 | acc_cos: 0.8984 | auc_eu: 0.9796 | acc_eu: 0.9130\n",
      "\ttest: loss: 0.0228 | auc_cos: 0.9425 | acc_cos: 0.9215 | auc_eu: 0.9521 | acc_eu: 0.9039\n"
     ]
    },
    {
     "name": "stdout",
     "output_type": "stream",
     "text": [
      "\tSaving model and optimizer state to /kaggle/working/checkpoint/triplet/albedo/models/checkpoint.pth\n",
      "\tEpoch 369: EarlyStopping counter for 'cosine_auc': 6/50\n",
      "\tEpoch 369: EarlyStopping counter for 'cosine_acc': 123/50\n",
      "\tEpoch 369: EarlyStopping counter for 'euclidean_auc': 76/50\n",
      "\tEpoch 369: EarlyStopping counter for 'euclidean_acc': 23/50\n"
     ]
    },
    {
     "name": "stdout",
     "output_type": "stream",
     "text": [
      "Epoch 370:\n",
      "\ttrain: loss: 0.0841 | auc_cos: 0.9744 | acc_cos: 0.8957 | auc_eu: 0.9813 | acc_eu: 0.9081\n",
      "\ttest: loss: 0.0205 | auc_cos: 0.9463 | acc_cos: 0.8674 | auc_eu: 0.9618 | acc_eu: 0.9199\n"
     ]
    },
    {
     "name": "stdout",
     "output_type": "stream",
     "text": [
      "\tSaving model and optimizer state to /kaggle/working/checkpoint/triplet/albedo/models/checkpoint.pth\n",
      "\tEpoch 370: EarlyStopping counter for 'cosine_auc': 7/50\n",
      "\tEpoch 370: EarlyStopping counter for 'cosine_acc': 124/50\n",
      "\tEpoch 370: EarlyStopping counter for 'euclidean_auc': 77/50\n"
     ]
    },
    {
     "name": "stdout",
     "output_type": "stream",
     "text": [
      "\tSaved best model weights for 'euclidean_acc' at epoch 370 to '/kaggle/working/checkpoint/triplet/albedo/models/best_euclidean_acc_370.pth'\n"
     ]
    },
    {
     "name": "stdout",
     "output_type": "stream",
     "text": [
      "Epoch 371:\n",
      "\ttrain: loss: 0.1170 | auc_cos: 0.9723 | acc_cos: 0.8984 | auc_eu: 0.9794 | acc_eu: 0.9124\n",
      "\ttest: loss: 0.0337 | auc_cos: 0.9479 | acc_cos: 0.8978 | auc_eu: 0.9615 | acc_eu: 0.9103\n"
     ]
    },
    {
     "name": "stdout",
     "output_type": "stream",
     "text": [
      "\tSaving model and optimizer state to /kaggle/working/checkpoint/triplet/albedo/models/checkpoint.pth\n",
      "\tEpoch 371: EarlyStopping counter for 'cosine_auc': 8/50\n",
      "\tEpoch 371: EarlyStopping counter for 'cosine_acc': 125/50\n",
      "\tEpoch 371: EarlyStopping counter for 'euclidean_auc': 78/50\n",
      "\tEpoch 371: EarlyStopping counter for 'euclidean_acc': 1/50\n"
     ]
    },
    {
     "name": "stdout",
     "output_type": "stream",
     "text": [
      "Epoch 372:\n",
      "\ttrain: loss: 0.1059 | auc_cos: 0.9761 | acc_cos: 0.9155 | auc_eu: 0.9812 | acc_eu: 0.9097\n",
      "\ttest: loss: 0.0234 | auc_cos: 0.9340 | acc_cos: 0.8622 | auc_eu: 0.9454 | acc_eu: 0.8890\n"
     ]
    },
    {
     "name": "stdout",
     "output_type": "stream",
     "text": [
      "\tSaving model and optimizer state to /kaggle/working/checkpoint/triplet/albedo/models/checkpoint.pth\n",
      "\tEpoch 372: EarlyStopping counter for 'cosine_auc': 9/50\n",
      "\tEpoch 372: EarlyStopping counter for 'cosine_acc': 126/50\n",
      "\tEpoch 372: EarlyStopping counter for 'euclidean_auc': 79/50\n",
      "\tEpoch 372: EarlyStopping counter for 'euclidean_acc': 2/50\n"
     ]
    },
    {
     "name": "stdout",
     "output_type": "stream",
     "text": [
      "Epoch 373:\n",
      "\ttrain: loss: 0.0686 | auc_cos: 0.9765 | acc_cos: 0.9174 | auc_eu: 0.9827 | acc_eu: 0.9188\n",
      "\ttest: loss: 0.0286 | auc_cos: 0.9428 | acc_cos: 0.8639 | auc_eu: 0.9538 | acc_eu: 0.9042\n"
     ]
    },
    {
     "name": "stdout",
     "output_type": "stream",
     "text": [
      "\tSaving model and optimizer state to /kaggle/working/checkpoint/triplet/albedo/models/checkpoint.pth\n",
      "\tEpoch 373: EarlyStopping counter for 'cosine_auc': 10/50\n",
      "\tEpoch 373: EarlyStopping counter for 'cosine_acc': 127/50\n",
      "\tEpoch 373: EarlyStopping counter for 'euclidean_auc': 80/50\n",
      "\tEpoch 373: EarlyStopping counter for 'euclidean_acc': 3/50\n"
     ]
    },
    {
     "name": "stdout",
     "output_type": "stream",
     "text": [
      "Epoch 374:\n",
      "\ttrain: loss: 0.0877 | auc_cos: 0.9771 | acc_cos: 0.8936 | auc_eu: 0.9812 | acc_eu: 0.9218\n",
      "\ttest: loss: 0.0346 | auc_cos: 0.9485 | acc_cos: 0.8864 | auc_eu: 0.9551 | acc_eu: 0.8931\n"
     ]
    },
    {
     "name": "stdout",
     "output_type": "stream",
     "text": [
      "\tSaving model and optimizer state to /kaggle/working/checkpoint/triplet/albedo/models/checkpoint.pth\n",
      "\tEpoch 374: EarlyStopping counter for 'cosine_auc': 11/50\n",
      "\tEpoch 374: EarlyStopping counter for 'cosine_acc': 128/50\n",
      "\tEpoch 374: EarlyStopping counter for 'euclidean_auc': 81/50\n",
      "\tEpoch 374: EarlyStopping counter for 'euclidean_acc': 4/50\n"
     ]
    },
    {
     "name": "stdout",
     "output_type": "stream",
     "text": [
      "Epoch 375:\n",
      "\ttrain: loss: 0.0684 | auc_cos: 0.9768 | acc_cos: 0.9116 | auc_eu: 0.9818 | acc_eu: 0.9207\n",
      "\ttest: loss: 0.0342 | auc_cos: 0.9419 | acc_cos: 0.8870 | auc_eu: 0.9474 | acc_eu: 0.9011\n"
     ]
    },
    {
     "name": "stdout",
     "output_type": "stream",
     "text": [
      "\tSaving model and optimizer state to /kaggle/working/checkpoint/triplet/albedo/models/checkpoint.pth\n",
      "\tEpoch 375: EarlyStopping counter for 'cosine_auc': 12/50\n",
      "\tEpoch 375: EarlyStopping counter for 'cosine_acc': 129/50\n",
      "\tEpoch 375: EarlyStopping counter for 'euclidean_auc': 82/50\n",
      "\tEpoch 375: EarlyStopping counter for 'euclidean_acc': 5/50\n"
     ]
    },
    {
     "name": "stdout",
     "output_type": "stream",
     "text": [
      "Epoch 376:\n",
      "\ttrain: loss: 0.0686 | auc_cos: 0.9782 | acc_cos: 0.9116 | auc_eu: 0.9831 | acc_eu: 0.9242\n",
      "\ttest: loss: 0.0257 | auc_cos: 0.9348 | acc_cos: 0.8638 | auc_eu: 0.9442 | acc_eu: 0.8709\n"
     ]
    },
    {
     "name": "stdout",
     "output_type": "stream",
     "text": [
      "\tSaving model and optimizer state to /kaggle/working/checkpoint/triplet/albedo/models/checkpoint.pth\n",
      "\tEpoch 376: EarlyStopping counter for 'cosine_auc': 13/50\n",
      "\tEpoch 376: EarlyStopping counter for 'cosine_acc': 130/50\n",
      "\tEpoch 376: EarlyStopping counter for 'euclidean_auc': 83/50\n",
      "\tEpoch 376: EarlyStopping counter for 'euclidean_acc': 6/50\n"
     ]
    },
    {
     "name": "stdout",
     "output_type": "stream",
     "text": [
      "Epoch 377:\n",
      "\ttrain: loss: 0.0745 | auc_cos: 0.9799 | acc_cos: 0.9173 | auc_eu: 0.9838 | acc_eu: 0.9188\n",
      "\ttest: loss: 0.0215 | auc_cos: 0.9483 | acc_cos: 0.9139 | auc_eu: 0.9554 | acc_eu: 0.8780\n"
     ]
    },
    {
     "name": "stdout",
     "output_type": "stream",
     "text": [
      "\tSaving model and optimizer state to /kaggle/working/checkpoint/triplet/albedo/models/checkpoint.pth\n",
      "\tEpoch 377: EarlyStopping counter for 'cosine_auc': 14/50\n",
      "\tEpoch 377: EarlyStopping counter for 'cosine_acc': 131/50\n",
      "\tEpoch 377: EarlyStopping counter for 'euclidean_auc': 84/50\n",
      "\tEpoch 377: EarlyStopping counter for 'euclidean_acc': 7/50\n"
     ]
    },
    {
     "name": "stdout",
     "output_type": "stream",
     "text": [
      "Epoch 378:\n",
      "\ttrain: loss: 0.0686 | auc_cos: 0.9779 | acc_cos: 0.9091 | auc_eu: 0.9842 | acc_eu: 0.9268\n",
      "\ttest: loss: 0.0245 | auc_cos: 0.9412 | acc_cos: 0.8695 | auc_eu: 0.9521 | acc_eu: 0.9275\n"
     ]
    },
    {
     "name": "stdout",
     "output_type": "stream",
     "text": [
      "\tSaving model and optimizer state to /kaggle/working/checkpoint/triplet/albedo/models/checkpoint.pth\n",
      "\tEpoch 378: EarlyStopping counter for 'cosine_auc': 15/50\n",
      "\tEpoch 378: EarlyStopping counter for 'cosine_acc': 132/50\n",
      "\tEpoch 378: EarlyStopping counter for 'euclidean_auc': 85/50\n",
      "\tEpoch 378: EarlyStopping counter for 'euclidean_acc': 8/50\n"
     ]
    },
    {
     "name": "stdout",
     "output_type": "stream",
     "text": [
      "Epoch 379:\n",
      "\ttrain: loss: 0.0768 | auc_cos: 0.9832 | acc_cos: 0.9182 | auc_eu: 0.9873 | acc_eu: 0.9318\n",
      "\ttest: loss: 0.0225 | auc_cos: 0.9509 | acc_cos: 0.8871 | auc_eu: 0.9577 | acc_eu: 0.8713\n"
     ]
    },
    {
     "name": "stdout",
     "output_type": "stream",
     "text": [
      "\tSaving model and optimizer state to /kaggle/working/checkpoint/triplet/albedo/models/checkpoint.pth\n",
      "\tEpoch 379: EarlyStopping counter for 'cosine_auc': 16/50\n",
      "\tEpoch 379: EarlyStopping counter for 'cosine_acc': 133/50\n",
      "\tEpoch 379: EarlyStopping counter for 'euclidean_auc': 86/50\n",
      "\tEpoch 379: EarlyStopping counter for 'euclidean_acc': 9/50\n"
     ]
    },
    {
     "name": "stdout",
     "output_type": "stream",
     "text": [
      "Epoch 380:\n",
      "\ttrain: loss: 0.0630 | auc_cos: 0.9810 | acc_cos: 0.8978 | auc_eu: 0.9867 | acc_eu: 0.9380\n",
      "\ttest: loss: 0.0226 | auc_cos: 0.9368 | acc_cos: 0.8750 | auc_eu: 0.9531 | acc_eu: 0.9344\n"
     ]
    },
    {
     "name": "stdout",
     "output_type": "stream",
     "text": [
      "\tSaving model and optimizer state to /kaggle/working/checkpoint/triplet/albedo/models/checkpoint.pth\n",
      "\tEpoch 380: EarlyStopping counter for 'cosine_auc': 17/50\n",
      "\tEpoch 380: EarlyStopping counter for 'cosine_acc': 134/50\n",
      "\tEpoch 380: EarlyStopping counter for 'euclidean_auc': 87/50\n",
      "\tEpoch 380: EarlyStopping counter for 'euclidean_acc': 10/50\n"
     ]
    },
    {
     "name": "stdout",
     "output_type": "stream",
     "text": [
      "Epoch 381:\n",
      "\ttrain: loss: 0.0630 | auc_cos: 0.9802 | acc_cos: 0.9178 | auc_eu: 0.9862 | acc_eu: 0.9293\n",
      "\ttest: loss: 0.0201 | auc_cos: 0.9478 | acc_cos: 0.8538 | auc_eu: 0.9608 | acc_eu: 0.8513\n"
     ]
    },
    {
     "name": "stdout",
     "output_type": "stream",
     "text": [
      "\tSaving model and optimizer state to /kaggle/working/checkpoint/triplet/albedo/models/checkpoint.pth\n",
      "\tEpoch 381: EarlyStopping counter for 'cosine_auc': 18/50\n",
      "\tEpoch 381: EarlyStopping counter for 'cosine_acc': 135/50\n",
      "\tEpoch 381: EarlyStopping counter for 'euclidean_auc': 88/50\n",
      "\tEpoch 381: EarlyStopping counter for 'euclidean_acc': 11/50\n"
     ]
    },
    {
     "name": "stdout",
     "output_type": "stream",
     "text": [
      "Epoch 382:\n",
      "\ttrain: loss: 0.0578 | auc_cos: 0.9809 | acc_cos: 0.9063 | auc_eu: 0.9863 | acc_eu: 0.9291\n",
      "\ttest: loss: 0.0221 | auc_cos: 0.9494 | acc_cos: 0.8645 | auc_eu: 0.9626 | acc_eu: 0.8948\n"
     ]
    },
    {
     "name": "stdout",
     "output_type": "stream",
     "text": [
      "\tSaving model and optimizer state to /kaggle/working/checkpoint/triplet/albedo/models/checkpoint.pth\n",
      "\tEpoch 382: EarlyStopping counter for 'cosine_auc': 19/50\n",
      "\tEpoch 382: EarlyStopping counter for 'cosine_acc': 136/50\n",
      "\tEpoch 382: EarlyStopping counter for 'euclidean_auc': 89/50\n"
     ]
    }
    ]
  }
]