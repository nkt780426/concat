{
 "cells": [
  {
   "cell_type": "code",
   "execution_count": 1,
   "id": "3376e792",
   "metadata": {
    "_cell_guid": "b1076dfc-b9ad-4769-8c92-a6c4dae69d19",
    "_uuid": "8f2839f25d086af736a60e9eeb907d3b93b6e0e5",
    "execution": {
     "iopub.execute_input": "2024-12-21T18:02:46.680951Z",
     "iopub.status.busy": "2024-12-21T18:02:46.680646Z",
     "iopub.status.idle": "2024-12-21T18:02:50.185887Z",
     "shell.execute_reply": "2024-12-21T18:02:50.184814Z"
    },
    "papermill": {
     "duration": 3.510544,
     "end_time": "2024-12-21T18:02:50.187580",
     "exception": false,
     "start_time": "2024-12-21T18:02:46.677036",
     "status": "completed"
    },
    "tags": []
   },
   "outputs": [
    {
     "name": "stdout",
     "output_type": "stream",
     "text": [
      "Cloning into 'concat'...\r\n",
      "remote: Enumerating objects: 519, done.\u001b[K\r\n",
      "remote: Counting objects: 100% (74/74), done.\u001b[K\r\n",
      "remote: Compressing objects: 100% (56/56), done.\u001b[K\r\n",
      "remote: Total 519 (delta 20), reused 64 (delta 16), pack-reused 445 (from 1)\u001b[K\r\n",
      "Receiving objects: 100% (519/519), 77.81 MiB | 42.16 MiB/s, done.\r\n",
      "Resolving deltas: 100% (35/35), done.\r\n"
     ]
    }
   ],
   "source": [
    "!git clone https://github.com/nkt780426/concat.git"
   ]
  },
  {
   "cell_type": "code",
   "execution_count": 2,
   "id": "c93f3a51",
   "metadata": {
    "execution": {
     "iopub.execute_input": "2024-12-21T18:02:50.196233Z",
     "iopub.status.busy": "2024-12-21T18:02:50.195952Z",
     "iopub.status.idle": "2024-12-21T18:03:13.715199Z",
     "shell.execute_reply": "2024-12-21T18:03:13.714208Z"
    },
    "papermill": {
     "duration": 23.525149,
     "end_time": "2024-12-21T18:03:13.716890",
     "exception": false,
     "start_time": "2024-12-21T18:02:50.191741",
     "status": "completed"
    },
    "tags": []
   },
   "outputs": [],
   "source": [
    "!gdown --quiet --folder \"https://drive.google.com/drive/folders/111XLjyrsaLIAu4BsW8ZhLa68vnWLDLnH?usp=sharing\""
   ]
  },
  {
   "cell_type": "code",
   "execution_count": 3,
   "id": "33c6e8ea",
   "metadata": {
    "execution": {
     "iopub.execute_input": "2024-12-21T18:03:13.725351Z",
     "iopub.status.busy": "2024-12-21T18:03:13.725009Z",
     "iopub.status.idle": "2024-12-21T18:03:13.844014Z",
     "shell.execute_reply": "2024-12-21T18:03:13.842880Z"
    },
    "papermill": {
     "duration": 0.12466,
     "end_time": "2024-12-21T18:03:13.845514",
     "exception": false,
     "start_time": "2024-12-21T18:03:13.720854",
     "status": "completed"
    },
    "tags": []
   },
   "outputs": [],
   "source": [
    "!mv concat/going_modular ."
   ]
  },
  {
   "cell_type": "code",
   "execution_count": 4,
   "id": "c1f6b745",
   "metadata": {
    "execution": {
     "iopub.execute_input": "2024-12-21T18:03:13.853752Z",
     "iopub.status.busy": "2024-12-21T18:03:13.853479Z",
     "iopub.status.idle": "2024-12-21T18:03:13.972296Z",
     "shell.execute_reply": "2024-12-21T18:03:13.971421Z"
    },
    "papermill": {
     "duration": 0.124647,
     "end_time": "2024-12-21T18:03:13.973954",
     "exception": false,
     "start_time": "2024-12-21T18:03:13.849307",
     "status": "completed"
    },
    "tags": []
   },
   "outputs": [
    {
     "name": "stdout",
     "output_type": "stream",
     "text": [
      "total 52\r\n",
      "drwxr-xr-x 5 root root  4096 Dec 21 18:03 .\r\n",
      "drwxr-xr-x 6 root root  4096 Dec 21 18:02 ..\r\n",
      "drwxr-xr-x 3 root root  4096 Dec 21 18:02 checkpoint\r\n",
      "drwxr-xr-x 6 root root  4096 Dec 21 18:03 concat\r\n",
      "drwxr-xr-x 8 root root  4096 Dec 21 18:02 going_modular\r\n",
      "---------- 1 root root 32036 Dec 21 18:03 __notebook__.ipynb\r\n"
     ]
    }
   ],
   "source": [
    "!ls -la"
   ]
  },
  {
   "cell_type": "code",
   "execution_count": 2,
   "id": "0a16f68e",
   "metadata": {
    "execution": {
     "iopub.execute_input": "2024-12-21T18:03:13.982861Z",
     "iopub.status.busy": "2024-12-21T18:03:13.982573Z",
     "iopub.status.idle": "2024-12-21T18:03:34.329891Z",
     "shell.execute_reply": "2024-12-21T18:03:34.329174Z"
    },
    "papermill": {
     "duration": 20.353659,
     "end_time": "2024-12-21T18:03:34.331608",
     "exception": false,
     "start_time": "2024-12-21T18:03:13.977949",
     "status": "completed"
    },
    "tags": []
   },
   "outputs": [],
   "source": [
    "import warnings\n",
    "warnings.filterwarnings(\"ignore\")\n",
    "import torch\n",
    "from torch.utils.data import DataLoader\n",
    "from torch.optim import Adam\n",
    "from torch.optim.lr_scheduler import CosineAnnealingWarmRestarts\n",
    "import albumentations as A\n",
    "\n",
    "\n",
    "from going_modular.model.TripletFaceRecognition import EmbeddingNetConcatV2, TripletNetConcatV2\n",
    "from going_modular.dataloader.triplet import TripletDatasetConcatV2\n",
    "from going_modular.loss.TripletLoss import TripletLoss\n",
    "from going_modular.dataloader.triplet import CustomExrDatasetConCatV2\n",
    "from going_modular.utils.MultiMetricEarlyStopping import MultiMetricEarlyStopping\n",
    "from going_modular.utils.ModelCheckPoint import ModelCheckpoint\n",
    "from going_modular.utils.transforms import RandomResizedCropRect, GaussianNoise\n",
    "from going_modular.train_eval.triplet.train import fit\n",
    "\n",
    "import os\n",
    "\n",
    "import warnings\n",
    "warnings.filterwarnings(\"ignore\")\n",
    "\n",
    "device = \"cuda\" if torch.cuda.is_available() else \"cpu\"\n",
    "os.environ[\"PYTORCH_CUDA_ALLOC_CONF\"] = \"expandable_segments:True\"\n",
    "\n",
    "# Đặt seed toàn cục\n",
    "seed = 42\n",
    "torch.manual_seed(seed)\n",
    "\n",
    "CONFIGURATION = {\n",
    "    # Thư mục\n",
    "    'type': 'concat_2/0',\n",
    "    'data_dir_1': './Dataset/Normal_Map',\n",
    "    'checkpoint_1': './checkpoint/new/normalmap/iresnet18/models/checkpoint.pth',\n",
    "    'type_1': 'normalmap',\n",
    "    'backbone1': 'iresnet18',\n",
    "    'data_dir_2': './Dataset/Albedo',\n",
    "    'checkpoint_2': './checkpoint/new/albedo/iresnet18/models/checkpoint.pth',\n",
    "    'type_2': 'albedo',\n",
    "    'backbone2': 'iresnet18',\n",
    "    'checkpoint_dir': './checkpoint/new/',\n",
    "\n",
    "    # Cấu hình train\n",
    "    'epochs': 298,\n",
    "    'num_workers': 4,\n",
    "    'batch_size': 16,\n",
    "    'image_size': 256,\n",
    "    'embedding_size': 512,\n",
    "    \n",
    "    'start_lr': 1e-4,\n",
    "    'weight_decay': 5e-4,\n",
    "    'momentum': 0.9,\n",
    "    'alpha': 0.9,\n",
    "    \n",
    "    # triplet\n",
    "    'margin': 1.,\n",
    "}\n",
    "\n",
    "\n",
    "train_transform = A.Compose([\n",
    "    RandomResizedCropRect(256),\n",
    "    GaussianNoise(),\n",
    "], additional_targets={\n",
    "    'image_1': 'image',\n",
    "})\n",
    "\n",
    "\n",
    "test_transform = A.Compose([\n",
    "    A.Resize(height=CONFIGURATION['image_size'], width=CONFIGURATION['image_size'])\n",
    "], additional_targets={\n",
    "    'image_1': 'image',\n",
    "})\n",
    "\n",
    "triplet_concat_train_dataset = TripletDatasetConcatV2(data_dir_1=CONFIGURATION['data_dir_1'], type_1=CONFIGURATION['type_1'], data_dir_2=CONFIGURATION['data_dir_2'], type_2=CONFIGURATION['type_2'], transform=train_transform, train=True)\n",
    "triplet_concat_test_dataset = TripletDatasetConcatV2(data_dir_1=CONFIGURATION['data_dir_1'], type_1=CONFIGURATION['type_1'], data_dir_2=CONFIGURATION['data_dir_2'], type_2=CONFIGURATION['type_2'], transform=test_transform, train=False)\n",
    "\n",
    "\n",
    "triplet_concat_train_loader = DataLoader(\n",
    "    triplet_concat_train_dataset, \n",
    "    batch_size=CONFIGURATION['batch_size'], \n",
    "    shuffle=True,\n",
    "    num_workers=4,\n",
    "    pin_memory=True,\n",
    "    drop_last=True\n",
    ")\n",
    "\n",
    "\n",
    "triplet_concat_test_loader = DataLoader(\n",
    "    triplet_concat_test_dataset, \n",
    "    batch_size=CONFIGURATION['batch_size'], \n",
    "    shuffle=False,\n",
    "    num_workers=4,\n",
    "    pin_memory=True,\n",
    "    drop_last=True\n",
    ")\n",
    "\n",
    "\n",
    "roc_concat_train_dataset = CustomExrDatasetConCatV2(data_dir_1=CONFIGURATION['data_dir_1'], type_1=CONFIGURATION['type_1'], data_dir_2=CONFIGURATION['data_dir_2'], type_2=CONFIGURATION['type_2'], transform=train_transform, train=True)\n",
    "roc_concat_train_loader = DataLoader(\n",
    "    roc_concat_train_dataset,\n",
    "    num_workers=4,\n",
    "    batch_size=CONFIGURATION['batch_size'],\n",
    ")\n",
    "\n",
    "roc_concat_test_dataset = CustomExrDatasetConCatV2(data_dir_1=CONFIGURATION['data_dir_1'], type_1=CONFIGURATION['type_1'], data_dir_2=CONFIGURATION['data_dir_2'], type_2=CONFIGURATION['type_2'], transform=test_transform, train=False)\n",
    "roc_test_loader = DataLoader(\n",
    "    roc_concat_test_dataset,\n",
    "    num_workers=4,\n",
    "    batch_size=CONFIGURATION['batch_size'],\n",
    ")\n",
    "\n",
    "\n",
    "checkpoint_1 = torch.load(CONFIGURATION['checkpoint_1'])\n",
    "new_checkpoint_1_state_dict = {}\n",
    "for key, value in checkpoint_1['model_state_dict'].items():\n",
    "    new_key = key[14:]  # Cắt bỏ 14 ký tự đầu tiên\n",
    "    new_checkpoint_1_state_dict[new_key] = value\n",
    "    \n",
    "checkpoint_2 = torch.load(CONFIGURATION['checkpoint_2'])\n",
    "new_checkpoint_2_state_dict = {}\n",
    "for key, value in checkpoint_2['model_state_dict'].items():\n",
    "    new_key = key[14:]  # Cắt bỏ 14 ký tự đầu tiên\n",
    "    new_checkpoint_2_state_dict[new_key] = value\n",
    "    \n",
    "embedding_net = EmbeddingNetConcatV2(conf=CONFIGURATION)\n",
    "\n",
    "embedding_net.resnet1.load_state_dict(new_checkpoint_1_state_dict)\n",
    "\n",
    "embedding_net.resnet2.load_state_dict(new_checkpoint_2_state_dict)\n",
    "\n",
    "model = TripletNetConcatV2(embedding_net).to(device)\n",
    "\n",
    "# Freeze 3 mạng lại\n",
    "for param in model.embedding_net.resnet1.parameters():\n",
    "    param.requires_grad = False\n",
    "    \n",
    "for param in model.embedding_net.resnet2.parameters():\n",
    "    param.requires_grad = False\n",
    "\n",
    "    \n",
    "criterion = TripletLoss(CONFIGURATION['margin'])\n",
    "optimizer = Adam(model.parameters(), lr=CONFIGURATION['start_lr'])\n",
    "scheduler = CosineAnnealingWarmRestarts(optimizer, T_0=30, T_mult=1, eta_min=1e-6)\n",
    "\n",
    "earlystop_dir = os.path.abspath(CONFIGURATION['checkpoint_dir'] + CONFIGURATION['type'] + '/models')\n",
    "\n",
    "early_stopping = MultiMetricEarlyStopping(\n",
    "    monitor_keys=['cosine_auc', 'euclidean_auc'],\n",
    "    patience=1000,\n",
    "    mode='max',\n",
    "    verbose=0,\n",
    "    save_dir=earlystop_dir,\n",
    "    start_from_epoch=0\n",
    ")      \n",
    "\n",
    "checkpoint_path = os.path.abspath(CONFIGURATION['checkpoint_dir'] + CONFIGURATION['type'] + '/models/checkpoint.pth')\n",
    "modle_checkpoint = ModelCheckpoint(filepath=checkpoint_path, verbose=1)"
   ]
  },
  {
   "cell_type": "code",
   "execution_count": null,
   "id": "29e597b2",
   "metadata": {
    "execution": {
     "iopub.execute_input": "2024-12-21T18:03:34.340520Z",
     "iopub.status.busy": "2024-12-21T18:03:34.340010Z",
     "iopub.status.idle": "2024-12-21T21:10:49.694864Z",
     "shell.execute_reply": "2024-12-21T21:10:49.693826Z"
    },
    "papermill": {
     "duration": 11235.361089,
     "end_time": "2024-12-21T21:10:49.696590",
     "exception": false,
     "start_time": "2024-12-21T18:03:34.335501",
     "status": "completed"
    },
    "tags": []
   },
   "outputs": [
    {
     "name": "stdout",
     "output_type": "stream",
     "text": [
      "Epoch 1:\n",
      "\ttrain: loss: 0.1111 | auc_cos: 0.9956 | auc_eu: 0.9976\n",
      "\ttest: loss: 0.9561 | auc_cos: 0.9614 | auc_eu: 0.9551\n",
      "\u001b[36m\tSaving model and optimizer state to /media/vohoang/WorkSpace/ubuntu/projects/in-process/concat/checkpoint/new/concat_2/0/models/checkpoint.pth\u001b[0m\n",
      "Epoch 2:\n",
      "\ttrain: loss: 0.0741 | auc_cos: 0.9954 | auc_eu: 0.9979\n",
      "\ttest: loss: 0.8646 | auc_cos: 0.9613 | auc_eu: 0.9547\n",
      "\u001b[36m\tSaving model and optimizer state to /media/vohoang/WorkSpace/ubuntu/projects/in-process/concat/checkpoint/new/concat_2/0/models/checkpoint.pth\u001b[0m\n",
      "Epoch 3:\n",
      "\ttrain: loss: 0.0112 | auc_cos: 0.9949 | auc_eu: 0.9971\n",
      "\ttest: loss: 0.9214 | auc_cos: 0.9612 | auc_eu: 0.9545\n",
      "\u001b[36m\tSaving model and optimizer state to /media/vohoang/WorkSpace/ubuntu/projects/in-process/concat/checkpoint/new/concat_2/0/models/checkpoint.pth\u001b[0m\n",
      "Epoch 4:\n",
      "\ttrain: loss: 0.0090 | auc_cos: 0.9944 | auc_eu: 0.9973\n",
      "\ttest: loss: 1.0737 | auc_cos: 0.9585 | auc_eu: 0.9505\n",
      "\u001b[36m\tSaving model and optimizer state to /media/vohoang/WorkSpace/ubuntu/projects/in-process/concat/checkpoint/new/concat_2/0/models/checkpoint.pth\u001b[0m\n",
      "Epoch 5:\n",
      "\ttrain: loss: 0.0990 | auc_cos: 0.9945 | auc_eu: 0.9970\n",
      "\ttest: loss: 1.7376 | auc_cos: 0.9520 | auc_eu: 0.9499\n",
      "\u001b[36m\tSaving model and optimizer state to /media/vohoang/WorkSpace/ubuntu/projects/in-process/concat/checkpoint/new/concat_2/0/models/checkpoint.pth\u001b[0m\n",
      "Epoch 6:\n",
      "\ttrain: loss: 0.1121 | auc_cos: 0.9941 | auc_eu: 0.9966\n",
      "\ttest: loss: 1.5937 | auc_cos: 0.9576 | auc_eu: 0.9499\n",
      "\u001b[36m\tSaving model and optimizer state to /media/vohoang/WorkSpace/ubuntu/projects/in-process/concat/checkpoint/new/concat_2/0/models/checkpoint.pth\u001b[0m\n",
      "Epoch 7:\n",
      "\ttrain: loss: 0.1884 | auc_cos: 0.9923 | auc_eu: 0.9969\n",
      "\ttest: loss: 2.8793 | auc_cos: 0.9379 | auc_eu: 0.9400\n",
      "\u001b[36m\tSaving model and optimizer state to /media/vohoang/WorkSpace/ubuntu/projects/in-process/concat/checkpoint/new/concat_2/0/models/checkpoint.pth\u001b[0m\n",
      "Epoch 8:\n",
      "\ttrain: loss: 0.0601 | auc_cos: 0.9921 | auc_eu: 0.9964\n",
      "\ttest: loss: 1.8129 | auc_cos: 0.9438 | auc_eu: 0.9411\n",
      "\u001b[36m\tSaving model and optimizer state to /media/vohoang/WorkSpace/ubuntu/projects/in-process/concat/checkpoint/new/concat_2/0/models/checkpoint.pth\u001b[0m\n"
     ]
    }
   ],
   "source": [
    "fit(\n",
    "    conf=CONFIGURATION,\n",
    "    start_epoch=0,\n",
    "    model=model,\n",
    "    triplet_train_loader=triplet_concat_train_loader, \n",
    "    triplet_test_loader=triplet_concat_test_loader, \n",
    "    criterion=criterion,\n",
    "    optimizer=optimizer, \n",
    "    scheduler=scheduler, \n",
    "    epochs=CONFIGURATION['epochs'], \n",
    "    device=device,\n",
    "    roc_train_loader=roc_concat_train_loader, \n",
    "    roc_test_loader=roc_test_loader,\n",
    "    early_stopping=early_stopping,\n",
    "    model_checkpoint=modle_checkpoint\n",
    ")"
   ]
  },
  {
   "cell_type": "code",
   "execution_count": 7,
   "id": "e52e4acc",
   "metadata": {
    "execution": {
     "iopub.execute_input": "2024-12-21T21:10:49.726178Z",
     "iopub.status.busy": "2024-12-21T21:10:49.725851Z",
     "iopub.status.idle": "2024-12-21T21:11:17.951075Z",
     "shell.execute_reply": "2024-12-21T21:11:17.949913Z"
    },
    "papermill": {
     "duration": 28.241784,
     "end_time": "2024-12-21T21:11:17.952809",
     "exception": false,
     "start_time": "2024-12-21T21:10:49.711025",
     "status": "completed"
    },
    "tags": []
   },
   "outputs": [
    {
     "name": "stdout",
     "output_type": "stream",
     "text": [
      "  adding: checkpoint/new/concat/ (stored 0%)\r\n",
      "  adding: checkpoint/new/concat/logs/ (stored 0%)\r\n",
      "  adding: checkpoint/new/concat/logs/Cosine_auc_test/ (stored 0%)\r\n",
      "  adding: checkpoint/new/concat/logs/Cosine_auc_test/events.out.tfevents.1734804322.3c7a2fe95029.21.4 (deflated 63%)\r\n",
      "  adding: checkpoint/new/concat/logs/Loss_train/ (stored 0%)\r\n",
      "  adding: checkpoint/new/concat/logs/Loss_train/events.out.tfevents.1734804322.3c7a2fe95029.21.1 (deflated 58%)\r\n",
      "  adding: checkpoint/new/concat/logs/Cosine_auc_train/ (stored 0%)\r\n",
      "  adding: checkpoint/new/concat/logs/Cosine_auc_train/events.out.tfevents.1734804322.3c7a2fe95029.21.3 (deflated 63%)\r\n",
      "  adding: checkpoint/new/concat/logs/events.out.tfevents.1734804214.3c7a2fe95029.21.0 (deflated 9%)\r\n",
      "  adding: checkpoint/new/concat/logs/Euclidean_auc_test/ (stored 0%)\r\n",
      "  adding: checkpoint/new/concat/logs/Euclidean_auc_test/events.out.tfevents.1734804322.3c7a2fe95029.21.6 (deflated 64%)\r\n",
      "  adding: checkpoint/new/concat/logs/Loss_test/ (stored 0%)\r\n",
      "  adding: checkpoint/new/concat/logs/Loss_test/events.out.tfevents.1734804322.3c7a2fe95029.21.2 (deflated 60%)\r\n",
      "  adding: checkpoint/new/concat/logs/Euclidean_auc_train/ (stored 0%)\r\n",
      "  adding: checkpoint/new/concat/logs/Euclidean_auc_train/events.out.tfevents.1734804322.3c7a2fe95029.21.5 (deflated 65%)\r\n",
      "  adding: checkpoint/new/concat/models/ (stored 0%)\r\n",
      "  adding: checkpoint/new/concat/models/best_cosine_auc_118.pth (deflated 7%)\r\n",
      "  adding: checkpoint/new/concat/models/best_euclidean_auc_103.pth (deflated 7%)\r\n",
      "  adding: checkpoint/new/concat/models/checkpoint.pth (deflated 7%)\r\n"
     ]
    }
   ],
   "source": [
    "!zip -r output.zip checkpoint/new/concat_2_0"
   ]
  }
 ],
 "metadata": {
  "kaggle": {
   "accelerator": "gpu",
   "dataSources": [
    {
     "datasetId": 6338037,
     "sourceId": 10247612,
     "sourceType": "datasetVersion"
    }
   ],
   "dockerImageVersionId": 30823,
   "isGpuEnabled": true,
   "isInternetEnabled": true,
   "language": "python",
   "sourceType": "notebook"
  },
  "kernelspec": {
   "display_name": "torch",
   "language": "python",
   "name": "python3"
  },
  "language_info": {
   "codemirror_mode": {
    "name": "ipython",
    "version": 3
   },
   "file_extension": ".py",
   "mimetype": "text/x-python",
   "name": "python",
   "nbconvert_exporter": "python",
   "pygments_lexer": "ipython3",
   "version": "3.10.12"
  },
  "papermill": {
   "default_parameters": {},
   "duration": 11316.840063,
   "end_time": "2024-12-21T21:11:21.397453",
   "environment_variables": {},
   "exception": null,
   "input_path": "__notebook__.ipynb",
   "output_path": "__notebook__.ipynb",
   "parameters": {},
   "start_time": "2024-12-21T18:02:44.557390",
   "version": "2.6.0"
  }
 },
 "nbformat": 4,
 "nbformat_minor": 5
}
