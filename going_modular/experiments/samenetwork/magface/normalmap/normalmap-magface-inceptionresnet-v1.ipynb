{
 "cells": [
  {
   "cell_type": "code",
   "execution_count": 1,
   "id": "dfbe996e",
   "metadata": {
    "_cell_guid": "b1076dfc-b9ad-4769-8c92-a6c4dae69d19",
    "_uuid": "8f2839f25d086af736a60e9eeb907d3b93b6e0e5",
    "execution": {
     "iopub.execute_input": "2024-12-20T06:11:02.745857Z",
     "iopub.status.busy": "2024-12-20T06:11:02.745551Z",
     "iopub.status.idle": "2024-12-20T06:11:06.141534Z",
     "shell.execute_reply": "2024-12-20T06:11:06.140476Z"
    },
    "papermill": {
     "duration": 3.400649,
     "end_time": "2024-12-20T06:11:06.143176",
     "exception": false,
     "start_time": "2024-12-20T06:11:02.742527",
     "status": "completed"
    },
    "tags": []
   },
   "outputs": [
    {
     "name": "stdout",
     "output_type": "stream",
     "text": [
      "Cloning into 'Bachelor-s-Project'...\r\n",
      "remote: Enumerating objects: 541, done.\u001b[K\r\n",
      "remote: Counting objects: 100% (133/133), done.\u001b[K\r\n",
      "remote: Compressing objects: 100% (96/96), done.\u001b[K\r\n",
      "remote: Total 541 (delta 33), reused 101 (delta 28), pack-reused 408 (from 1)\u001b[K\r\n",
      "Receiving objects: 100% (541/541), 77.04 MiB | 43.92 MiB/s, done.\r\n",
      "Resolving deltas: 100% (34/34), done.\r\n"
     ]
    }
   ],
   "source": [
    "!git clone https://github.com/nkt780426/Bachelor-s-Project.git"
   ]
  },
  {
   "cell_type": "code",
   "execution_count": 2,
   "id": "5fff5acb",
   "metadata": {
    "execution": {
     "iopub.execute_input": "2024-12-20T06:11:06.151158Z",
     "iopub.status.busy": "2024-12-20T06:11:06.150899Z",
     "iopub.status.idle": "2024-12-20T06:11:06.269732Z",
     "shell.execute_reply": "2024-12-20T06:11:06.268481Z"
    },
    "papermill": {
     "duration": 0.124483,
     "end_time": "2024-12-20T06:11:06.271475",
     "exception": false,
     "start_time": "2024-12-20T06:11:06.146992",
     "status": "completed"
    },
    "tags": []
   },
   "outputs": [],
   "source": [
    "!mv Bachelor-s-Project/going_modular ."
   ]
  },
  {
   "cell_type": "code",
   "execution_count": 3,
   "id": "f2b6c419",
   "metadata": {
    "execution": {
     "iopub.execute_input": "2024-12-20T06:11:06.279343Z",
     "iopub.status.busy": "2024-12-20T06:11:06.279030Z",
     "iopub.status.idle": "2024-12-20T06:11:06.398265Z",
     "shell.execute_reply": "2024-12-20T06:11:06.397403Z"
    },
    "papermill": {
     "duration": 0.125179,
     "end_time": "2024-12-20T06:11:06.400105",
     "exception": false,
     "start_time": "2024-12-20T06:11:06.274926",
     "status": "completed"
    },
    "tags": []
   },
   "outputs": [
    {
     "name": "stdout",
     "output_type": "stream",
     "text": [
      "total 48\r\n",
      "drwxr-xr-x 4 root root  4096 Dec 20 06:11 .\r\n",
      "drwxr-xr-x 6 root root  4096 Dec 20 06:10 ..\r\n",
      "drwxr-xr-x 5 root root  4096 Dec 20 06:11 Bachelor-s-Project\r\n",
      "drwxr-xr-x 8 root root  4096 Dec 20 06:11 going_modular\r\n",
      "---------- 1 root root 30183 Dec 20 06:11 __notebook__.ipynb\r\n"
     ]
    }
   ],
   "source": [
    "!ls -la"
   ]
  },
  {
   "cell_type": "code",
   "execution_count": 4,
   "id": "539e5595",
   "metadata": {
    "execution": {
     "iopub.execute_input": "2024-12-20T06:11:06.408024Z",
     "iopub.status.busy": "2024-12-20T06:11:06.407747Z",
     "iopub.status.idle": "2024-12-20T06:11:22.688274Z",
     "shell.execute_reply": "2024-12-20T06:11:22.687377Z"
    },
    "papermill": {
     "duration": 16.286282,
     "end_time": "2024-12-20T06:11:22.689970",
     "exception": false,
     "start_time": "2024-12-20T06:11:06.403688",
     "status": "completed"
    },
    "tags": []
   },
   "outputs": [
    {
     "name": "stderr",
     "output_type": "stream",
     "text": [
      "/usr/local/lib/python3.10/dist-packages/albumentations/__init__.py:13: UserWarning: A new version of Albumentations is available: 1.4.23 (you have 1.4.15). Upgrade using: pip install -U albumentations. To disable automatic update checks, set the environment variable NO_ALBUMENTATIONS_UPDATE to 1.\n",
      "  check_for_updates()\n"
     ]
    }
   ],
   "source": [
    "import os\n",
    "\n",
    "import torch\n",
    "from torch.optim.lr_scheduler import CosineAnnealingWarmRestarts\n",
    "import albumentations as A\n",
    "\n",
    "from going_modular.dataloader.magface import create_magface_dataloader\n",
    "from going_modular.model.MagFaceRecognition import MagFaceRecognition\n",
    "from going_modular.train_eval.magface.train import fit\n",
    "from going_modular.loss.MagLoss import MagLoss\n",
    "from going_modular.utils.MultiMetricEarlyStopping import MultiMetricEarlyStopping\n",
    "from going_modular.utils.ModelCheckPoint import ModelCheckpoint\n",
    "from going_modular.utils.transforms import RandomResizedCropRect, GaussianNoise\n",
    "\n",
    "device = \"cuda\" if torch.cuda.is_available() else \"cpu\"\n",
    "os.environ[\"PYTORCH_CUDA_ALLOC_CONF\"] = \"expandable_segments:True\"\n",
    "\n",
    "# Đặt seed toàn cục\n",
    "seed = 42\n",
    "torch.manual_seed(seed)\n",
    "\n",
    "CONFIGURATION = {\n",
    "    # Thư mục\n",
    "    'type': 'normalmap',\n",
    "    'train_dir': '/kaggle/input/hoangvn-3dfacerecognition/Normal_Map/train',\n",
    "    'test_dir': '/kaggle/input/hoangvn-3dfacerecognition/Normal_Map/test',\n",
    "    \n",
    "    # Cấu hình train\n",
    "    'backbone': 'inception-resnet-v1',\n",
    "    'epochs': 500,\n",
    "    'num_workers': 4,\n",
    "    'batch_size': 16,\n",
    "    'image_size': 224,\n",
    "    'num_class': len(os.listdir('/kaggle/input/hoangvn-3dfacerecognition/Normal_Map/train')),\n",
    "    'embedding_size': 512,\n",
    "    \n",
    "    'learning_rate': 0.2,\n",
    "    'weight_decay': 5e-4,\n",
    "    'momentum': 0.9,\n",
    "    'alpha': 0.9,\n",
    "    \n",
    "    # Hàm m(ai) giúp thay đổi ai từ 0.25 đến 1.6\n",
    "    'scale': 64,\n",
    "    'lambda_g': 20,\n",
    "    'l_margin': 0.45, \n",
    "    'u_margin': 0.8,\n",
    "    'l_a': 10, \n",
    "    'u_a': 110,\n",
    "}\n",
    "\n",
    "train_transform = A.Compose([\n",
    "    RandomResizedCropRect(256),\n",
    "    GaussianNoise(),\n",
    "])\n",
    "\n",
    "test_transform = A.Compose([\n",
    "    A.Resize(height=CONFIGURATION['image_size'], width=CONFIGURATION['image_size'])\n",
    "])\n",
    "\n",
    "train_dataloader, test_dataloader = create_magface_dataloader(CONFIGURATION, train_transform, test_transform)\n",
    "\n",
    "model = MagFaceRecognition(CONFIGURATION).to(device)\n",
    "criterion = MagLoss(conf = CONFIGURATION)\n",
    "\n",
    "optimizer = torch.optim.Adam(model.parameters(), lr=CONFIGURATION['learning_rate'])\n",
    "scheduler = CosineAnnealingWarmRestarts(optimizer, T_0=40, T_mult=1, eta_min=1e-6)\n",
    "checkpoint_path = os.path.abspath('checkpoint/magface/' + CONFIGURATION['type'] + '/models/checkpoint.pth')\n",
    "modle_checkpoint = ModelCheckpoint(filepath=checkpoint_path, verbose=1)\n",
    "earlystop_dir = os.path.abspath('checkpoint/magface/' + CONFIGURATION['type'] + '/models')\n",
    "early_stopping = MultiMetricEarlyStopping(\n",
    "    monitor_keys=['test_cosine_auc', 'test_cosine_accuracy', 'test_euclidean_auc', 'test_euclidean_accuracy'],\n",
    "    patience=50,\n",
    "    mode='max',\n",
    "    verbose=1,\n",
    "    save_dir=earlystop_dir,\n",
    "    start_from_epoch=50\n",
    ")            "
   ]
  },
  {
   "cell_type": "code",
   "execution_count": 5,
   "id": "ed443f43",
   "metadata": {
    "execution": {
     "iopub.execute_input": "2024-12-20T06:11:22.697788Z",
     "iopub.status.busy": "2024-12-20T06:11:22.697275Z",
     "iopub.status.idle": "2024-12-20T09:46:56.108113Z",
     "shell.execute_reply": "2024-12-20T09:46:56.106922Z"
    },
    "papermill": {
     "duration": 12933.41629,
     "end_time": "2024-12-20T09:46:56.109823",
     "exception": false,
     "start_time": "2024-12-20T06:11:22.693533",
     "status": "completed"
    },
    "tags": []
   },
   "outputs": [
    {
     "name": "stderr",
     "output_type": "stream",
     "text": [
      "/usr/lib/python3.10/multiprocessing/popen_fork.py:66: RuntimeWarning: os.fork() was called. os.fork() is incompatible with multithreaded code, and JAX is multithreaded, so this will likely lead to a deadlock.\n",
      "  self.pid = os.fork()\n",
      "/usr/lib/python3.10/multiprocessing/popen_fork.py:66: RuntimeWarning: os.fork() was called. os.fork() is incompatible with multithreaded code, and JAX is multithreaded, so this will likely lead to a deadlock.\n",
      "  self.pid = os.fork()\n"
     ]
    },
    {
     "name": "stdout",
     "output_type": "stream",
     "text": [
      "Epoch 1:\n",
      "\ttrain: loss 2.783 | loss id   2.76 | top_1_acc 0.0045 | top_5_acc 0.0281 | cos_auc: 0.5634 | cos_acc: 0.6764 | eu_auc: 0.5509 | eu_acc: 0.8130\n",
      "\ttest: cos_auc: 0.5589 | cos_acc: 0.7392 | eu_auc: 0.5469 | eu_acc: 0.7977\n",
      "\tSaving model and optimizer state to /kaggle/working/checkpoint/magface/normalmap/models/checkpoint.pth\n"
     ]
    },
    {
     "name": "stderr",
     "output_type": "stream",
     "text": [
      "/usr/lib/python3.10/multiprocessing/popen_fork.py:66: RuntimeWarning: os.fork() was called. os.fork() is incompatible with multithreaded code, and JAX is multithreaded, so this will likely lead to a deadlock.\n",
      "  self.pid = os.fork()\n",
      "/usr/lib/python3.10/multiprocessing/popen_fork.py:66: RuntimeWarning: os.fork() was called. os.fork() is incompatible with multithreaded code, and JAX is multithreaded, so this will likely lead to a deadlock.\n",
      "  self.pid = os.fork()\n"
     ]
    },
    {
     "name": "stdout",
     "output_type": "stream",
     "text": [
      "Epoch 2:\n",
      "\ttrain: loss 0.625 | loss id   0.60 | top_1_acc 0.0056 | top_5_acc 0.0259 | cos_auc: 0.6181 | cos_acc: 0.6245 | eu_auc: 0.5973 | eu_acc: 0.5910\n",
      "\ttest: cos_auc: 0.6528 | cos_acc: 0.7008 | eu_auc: 0.6393 | eu_acc: 0.7573\n",
      "\tSaving model and optimizer state to /kaggle/working/checkpoint/magface/normalmap/models/checkpoint.pth\n"
     ]
    },
    {
     "name": "stderr",
     "output_type": "stream",
     "text": [
      "/usr/lib/python3.10/multiprocessing/popen_fork.py:66: RuntimeWarning: os.fork() was called. os.fork() is incompatible with multithreaded code, and JAX is multithreaded, so this will likely lead to a deadlock.\n",
      "  self.pid = os.fork()\n",
      "/usr/lib/python3.10/multiprocessing/popen_fork.py:66: RuntimeWarning: os.fork() was called. os.fork() is incompatible with multithreaded code, and JAX is multithreaded, so this will likely lead to a deadlock.\n",
      "  self.pid = os.fork()\n"
     ]
    },
    {
     "name": "stdout",
     "output_type": "stream",
     "text": [
      "Epoch 3:\n",
      "\ttrain: loss 0.509 | loss id   0.49 | top_1_acc 0.0090 | top_5_acc 0.0270 | cos_auc: 0.5833 | cos_acc: 0.5723 | eu_auc: 0.5801 | eu_acc: 0.5059\n",
      "\ttest: cos_auc: 0.6331 | cos_acc: 0.4470 | eu_auc: 0.6159 | eu_acc: 0.4093\n",
      "\tSaving model and optimizer state to /kaggle/working/checkpoint/magface/normalmap/models/checkpoint.pth\n"
     ]
    },
    {
     "name": "stderr",
     "output_type": "stream",
     "text": [
      "/usr/lib/python3.10/multiprocessing/popen_fork.py:66: RuntimeWarning: os.fork() was called. os.fork() is incompatible with multithreaded code, and JAX is multithreaded, so this will likely lead to a deadlock.\n",
      "  self.pid = os.fork()\n",
      "/usr/lib/python3.10/multiprocessing/popen_fork.py:66: RuntimeWarning: os.fork() was called. os.fork() is incompatible with multithreaded code, and JAX is multithreaded, so this will likely lead to a deadlock.\n",
      "  self.pid = os.fork()\n"
     ]
    },
    {
     "name": "stdout",
     "output_type": "stream",
     "text": [
      "Epoch 4:\n",
      "\ttrain: loss 0.513 | loss id   0.49 | top_1_acc 0.0034 | top_5_acc 0.0337 | cos_auc: 0.5901 | cos_acc: 0.7069 | eu_auc: 0.5800 | eu_acc: 0.7082\n",
      "\ttest: cos_auc: 0.6258 | cos_acc: 0.6732 | eu_auc: 0.6208 | eu_acc: 0.7048\n",
      "\tSaving model and optimizer state to /kaggle/working/checkpoint/magface/normalmap/models/checkpoint.pth\n"
     ]
    },
    {
     "name": "stderr",
     "output_type": "stream",
     "text": [
      "/usr/lib/python3.10/multiprocessing/popen_fork.py:66: RuntimeWarning: os.fork() was called. os.fork() is incompatible with multithreaded code, and JAX is multithreaded, so this will likely lead to a deadlock.\n",
      "  self.pid = os.fork()\n",
      "/usr/lib/python3.10/multiprocessing/popen_fork.py:66: RuntimeWarning: os.fork() was called. os.fork() is incompatible with multithreaded code, and JAX is multithreaded, so this will likely lead to a deadlock.\n",
      "  self.pid = os.fork()\n"
     ]
    },
    {
     "name": "stdout",
     "output_type": "stream",
     "text": [
      "Epoch 5:\n",
      "\ttrain: loss 0.442 | loss id   0.42 | top_1_acc 0.0022 | top_5_acc 0.0169 | cos_auc: 0.5886 | cos_acc: 0.3248 | eu_auc: 0.5895 | eu_acc: 0.6699\n",
      "\ttest: cos_auc: 0.5980 | cos_acc: 0.5452 | eu_auc: 0.6052 | eu_acc: 0.6015\n",
      "\tSaving model and optimizer state to /kaggle/working/checkpoint/magface/normalmap/models/checkpoint.pth\n"
     ]
    },
    {
     "name": "stderr",
     "output_type": "stream",
     "text": [
      "/usr/lib/python3.10/multiprocessing/popen_fork.py:66: RuntimeWarning: os.fork() was called. os.fork() is incompatible with multithreaded code, and JAX is multithreaded, so this will likely lead to a deadlock.\n",
      "  self.pid = os.fork()\n",
      "/usr/lib/python3.10/multiprocessing/popen_fork.py:66: RuntimeWarning: os.fork() was called. os.fork() is incompatible with multithreaded code, and JAX is multithreaded, so this will likely lead to a deadlock.\n",
      "  self.pid = os.fork()\n"
     ]
    },
    {
     "name": "stdout",
     "output_type": "stream",
     "text": [
      "Epoch 6:\n",
      "\ttrain: loss 0.477 | loss id   0.45 | top_1_acc 0.0112 | top_5_acc 0.0270 | cos_auc: 0.5533 | cos_acc: 0.3057 | eu_auc: 0.5926 | eu_acc: 0.6672\n",
      "\ttest: cos_auc: 0.5483 | cos_acc: 0.2383 | eu_auc: 0.6136 | eu_acc: 0.6492\n",
      "\tSaving model and optimizer state to /kaggle/working/checkpoint/magface/normalmap/models/checkpoint.pth\n"
     ]
    },
    {
     "name": "stderr",
     "output_type": "stream",
     "text": [
      "/usr/lib/python3.10/multiprocessing/popen_fork.py:66: RuntimeWarning: os.fork() was called. os.fork() is incompatible with multithreaded code, and JAX is multithreaded, so this will likely lead to a deadlock.\n",
      "  self.pid = os.fork()\n",
      "/usr/lib/python3.10/multiprocessing/popen_fork.py:66: RuntimeWarning: os.fork() was called. os.fork() is incompatible with multithreaded code, and JAX is multithreaded, so this will likely lead to a deadlock.\n",
      "  self.pid = os.fork()\n"
     ]
    },
    {
     "name": "stdout",
     "output_type": "stream",
     "text": [
      "Epoch 7:\n",
      "\ttrain: loss 0.452 | loss id   0.43 | top_1_acc 0.0112 | top_5_acc 0.0337 | cos_auc: 0.6291 | cos_acc: 0.5239 | eu_auc: 0.5871 | eu_acc: 0.3402\n",
      "\ttest: cos_auc: 0.6240 | cos_acc: 0.4749 | eu_auc: 0.5806 | eu_acc: 0.2447\n",
      "\tSaving model and optimizer state to /kaggle/working/checkpoint/magface/normalmap/models/checkpoint.pth\n"
     ]
    },
    {
     "name": "stderr",
     "output_type": "stream",
     "text": [
      "/usr/lib/python3.10/multiprocessing/popen_fork.py:66: RuntimeWarning: os.fork() was called. os.fork() is incompatible with multithreaded code, and JAX is multithreaded, so this will likely lead to a deadlock.\n",
      "  self.pid = os.fork()\n",
      "/usr/lib/python3.10/multiprocessing/popen_fork.py:66: RuntimeWarning: os.fork() was called. os.fork() is incompatible with multithreaded code, and JAX is multithreaded, so this will likely lead to a deadlock.\n",
      "  self.pid = os.fork()\n",
      "/usr/lib/python3.10/multiprocessing/popen_fork.py:66: RuntimeWarning: os.fork() was called. os.fork() is incompatible with multithreaded code, and JAX is multithreaded, so this will likely lead to a deadlock.\n",
      "  self.pid = os.fork()\n"
     ]
    },
    {
     "name": "stdout",
     "output_type": "stream",
     "text": [
      "Epoch 8:\n",
      "\ttrain: loss 0.460 | loss id   0.44 | top_1_acc 0.0079 | top_5_acc 0.0304 | cos_auc: 0.6244 | cos_acc: 0.5741 | eu_auc: 0.5914 | eu_acc: 0.6376\n",
      "\ttest: cos_auc: 0.6346 | cos_acc: 0.7310 | eu_auc: 0.6155 | eu_acc: 0.7061\n",
      "\tSaving model and optimizer state to /kaggle/working/checkpoint/magface/normalmap/models/checkpoint.pth\n"
     ]
    },
    {
     "name": "stderr",
     "output_type": "stream",
     "text": [
      "/usr/lib/python3.10/multiprocessing/popen_fork.py:66: RuntimeWarning: os.fork() was called. os.fork() is incompatible with multithreaded code, and JAX is multithreaded, so this will likely lead to a deadlock.\n",
      "  self.pid = os.fork()\n",
      "/usr/lib/python3.10/multiprocessing/popen_fork.py:66: RuntimeWarning: os.fork() was called. os.fork() is incompatible with multithreaded code, and JAX is multithreaded, so this will likely lead to a deadlock.\n",
      "  self.pid = os.fork()\n"
     ]
    },
    {
     "name": "stdout",
     "output_type": "stream",
     "text": [
      "Epoch 9:\n",
      "\ttrain: loss 0.462 | loss id   0.44 | top_1_acc 0.0056 | top_5_acc 0.0349 | cos_auc: 0.6600 | cos_acc: 0.5960 | eu_auc: 0.6734 | eu_acc: 0.6717\n",
      "\ttest: cos_auc: 0.6742 | cos_acc: 0.5924 | eu_auc: 0.7202 | eu_acc: 0.5042\n",
      "\tSaving model and optimizer state to /kaggle/working/checkpoint/magface/normalmap/models/checkpoint.pth\n"
     ]
    },
    {
     "name": "stderr",
     "output_type": "stream",
     "text": [
      "/usr/lib/python3.10/multiprocessing/popen_fork.py:66: RuntimeWarning: os.fork() was called. os.fork() is incompatible with multithreaded code, and JAX is multithreaded, so this will likely lead to a deadlock.\n",
      "  self.pid = os.fork()\n",
      "/usr/lib/python3.10/multiprocessing/popen_fork.py:66: RuntimeWarning: os.fork() was called. os.fork() is incompatible with multithreaded code, and JAX is multithreaded, so this will likely lead to a deadlock.\n",
      "  self.pid = os.fork()\n"
     ]
    },
    {
     "name": "stdout",
     "output_type": "stream",
     "text": [
      "Epoch 10:\n",
      "\ttrain: loss 0.476 | loss id   0.45 | top_1_acc 0.0090 | top_5_acc 0.0495 | cos_auc: 0.6700 | cos_acc: 0.5971 | eu_auc: 0.6628 | eu_acc: 0.7069\n",
      "\ttest: cos_auc: 0.7032 | cos_acc: 0.5051 | eu_auc: 0.7015 | eu_acc: 0.6389\n",
      "\tSaving model and optimizer state to /kaggle/working/checkpoint/magface/normalmap/models/checkpoint.pth\n"
     ]
    },
    {
     "name": "stderr",
     "output_type": "stream",
     "text": [
      "/usr/lib/python3.10/multiprocessing/popen_fork.py:66: RuntimeWarning: os.fork() was called. os.fork() is incompatible with multithreaded code, and JAX is multithreaded, so this will likely lead to a deadlock.\n",
      "  self.pid = os.fork()\n",
      "/usr/lib/python3.10/multiprocessing/popen_fork.py:66: RuntimeWarning: os.fork() was called. os.fork() is incompatible with multithreaded code, and JAX is multithreaded, so this will likely lead to a deadlock.\n",
      "  self.pid = os.fork()\n"
     ]
    },
    {
     "name": "stdout",
     "output_type": "stream",
     "text": [
      "Epoch 11:\n",
      "\ttrain: loss 0.454 | loss id   0.43 | top_1_acc 0.0101 | top_5_acc 0.0371 | cos_auc: 0.6703 | cos_acc: 0.6263 | eu_auc: 0.6503 | eu_acc: 0.7038\n",
      "\ttest: cos_auc: 0.6955 | cos_acc: 0.6535 | eu_auc: 0.7067 | eu_acc: 0.7597\n",
      "\tSaving model and optimizer state to /kaggle/working/checkpoint/magface/normalmap/models/checkpoint.pth\n"
     ]
    },
    {
     "name": "stderr",
     "output_type": "stream",
     "text": [
      "/usr/lib/python3.10/multiprocessing/popen_fork.py:66: RuntimeWarning: os.fork() was called. os.fork() is incompatible with multithreaded code, and JAX is multithreaded, so this will likely lead to a deadlock.\n",
      "  self.pid = os.fork()\n",
      "/usr/lib/python3.10/multiprocessing/popen_fork.py:66: RuntimeWarning: os.fork() was called. os.fork() is incompatible with multithreaded code, and JAX is multithreaded, so this will likely lead to a deadlock.\n",
      "  self.pid = os.fork()\n",
      "/usr/lib/python3.10/multiprocessing/popen_fork.py:66: RuntimeWarning: os.fork() was called. os.fork() is incompatible with multithreaded code, and JAX is multithreaded, so this will likely lead to a deadlock.\n",
      "  self.pid = os.fork()\n"
     ]
    },
    {
     "name": "stdout",
     "output_type": "stream",
     "text": [
      "Epoch 12:\n",
      "\ttrain: loss 0.450 | loss id   0.43 | top_1_acc 0.0045 | top_5_acc 0.0439 | cos_auc: 0.6780 | cos_acc: 0.5647 | eu_auc: 0.6731 | eu_acc: 0.6708\n",
      "\ttest: cos_auc: 0.6478 | cos_acc: 0.5061 | eu_auc: 0.6798 | eu_acc: 0.7245\n",
      "\tSaving model and optimizer state to /kaggle/working/checkpoint/magface/normalmap/models/checkpoint.pth\n"
     ]
    },
    {
     "name": "stderr",
     "output_type": "stream",
     "text": [
      "/usr/lib/python3.10/multiprocessing/popen_fork.py:66: RuntimeWarning: os.fork() was called. os.fork() is incompatible with multithreaded code, and JAX is multithreaded, so this will likely lead to a deadlock.\n",
      "  self.pid = os.fork()\n",
      "/usr/lib/python3.10/multiprocessing/popen_fork.py:66: RuntimeWarning: os.fork() was called. os.fork() is incompatible with multithreaded code, and JAX is multithreaded, so this will likely lead to a deadlock.\n",
      "  self.pid = os.fork()\n"
     ]
    },
    {
     "name": "stdout",
     "output_type": "stream",
     "text": [
      "Epoch 13:\n",
      "\ttrain: loss 0.439 | loss id   0.42 | top_1_acc 0.0056 | top_5_acc 0.0326 | cos_auc: 0.6835 | cos_acc: 0.6506 | eu_auc: 0.6608 | eu_acc: 0.7117\n",
      "\ttest: cos_auc: 0.7240 | cos_acc: 0.5971 | eu_auc: 0.7083 | eu_acc: 0.7553\n",
      "\tSaving model and optimizer state to /kaggle/working/checkpoint/magface/normalmap/models/checkpoint.pth\n"
     ]
    },
    {
     "name": "stderr",
     "output_type": "stream",
     "text": [
      "/usr/lib/python3.10/multiprocessing/popen_fork.py:66: RuntimeWarning: os.fork() was called. os.fork() is incompatible with multithreaded code, and JAX is multithreaded, so this will likely lead to a deadlock.\n",
      "  self.pid = os.fork()\n",
      "/usr/lib/python3.10/multiprocessing/popen_fork.py:66: RuntimeWarning: os.fork() was called. os.fork() is incompatible with multithreaded code, and JAX is multithreaded, so this will likely lead to a deadlock.\n",
      "  self.pid = os.fork()\n"
     ]
    },
    {
     "name": "stdout",
     "output_type": "stream",
     "text": [
      "Epoch 14:\n",
      "\ttrain: loss 0.480 | loss id   0.46 | top_1_acc 0.0067 | top_5_acc 0.0349 | cos_auc: 0.6883 | cos_acc: 0.6364 | eu_auc: 0.6617 | eu_acc: 0.6465\n",
      "\ttest: cos_auc: 0.7197 | cos_acc: 0.5269 | eu_auc: 0.7121 | eu_acc: 0.7245\n",
      "\tSaving model and optimizer state to /kaggle/working/checkpoint/magface/normalmap/models/checkpoint.pth\n"
     ]
    },
    {
     "name": "stderr",
     "output_type": "stream",
     "text": [
      "/usr/lib/python3.10/multiprocessing/popen_fork.py:66: RuntimeWarning: os.fork() was called. os.fork() is incompatible with multithreaded code, and JAX is multithreaded, so this will likely lead to a deadlock.\n",
      "  self.pid = os.fork()\n",
      "/usr/lib/python3.10/multiprocessing/popen_fork.py:66: RuntimeWarning: os.fork() was called. os.fork() is incompatible with multithreaded code, and JAX is multithreaded, so this will likely lead to a deadlock.\n",
      "  self.pid = os.fork()\n"
     ]
    },
    {
     "name": "stdout",
     "output_type": "stream",
     "text": [
      "Epoch 15:\n",
      "\ttrain: loss 0.491 | loss id   0.47 | top_1_acc 0.0101 | top_5_acc 0.0472 | cos_auc: 0.6802 | cos_acc: 0.6127 | eu_auc: 0.6778 | eu_acc: 0.6064\n",
      "\ttest: cos_auc: 0.7182 | cos_acc: 0.5674 | eu_auc: 0.7146 | eu_acc: 0.5836\n",
      "\tSaving model and optimizer state to /kaggle/working/checkpoint/magface/normalmap/models/checkpoint.pth\n"
     ]
    },
    {
     "name": "stderr",
     "output_type": "stream",
     "text": [
      "/usr/lib/python3.10/multiprocessing/popen_fork.py:66: RuntimeWarning: os.fork() was called. os.fork() is incompatible with multithreaded code, and JAX is multithreaded, so this will likely lead to a deadlock.\n",
      "  self.pid = os.fork()\n",
      "/usr/lib/python3.10/multiprocessing/popen_fork.py:66: RuntimeWarning: os.fork() was called. os.fork() is incompatible with multithreaded code, and JAX is multithreaded, so this will likely lead to a deadlock.\n",
      "  self.pid = os.fork()\n"
     ]
    },
    {
     "name": "stdout",
     "output_type": "stream",
     "text": [
      "Epoch 16:\n",
      "\ttrain: loss 0.479 | loss id   0.46 | top_1_acc 0.0079 | top_5_acc 0.0495 | cos_auc: 0.7051 | cos_acc: 0.6612 | eu_auc: 0.6842 | eu_acc: 0.6408\n",
      "\ttest: cos_auc: 0.7319 | cos_acc: 0.5309 | eu_auc: 0.7151 | eu_acc: 0.6131\n",
      "\tSaving model and optimizer state to /kaggle/working/checkpoint/magface/normalmap/models/checkpoint.pth\n"
     ]
    },
    {
     "name": "stderr",
     "output_type": "stream",
     "text": [
      "/usr/lib/python3.10/multiprocessing/popen_fork.py:66: RuntimeWarning: os.fork() was called. os.fork() is incompatible with multithreaded code, and JAX is multithreaded, so this will likely lead to a deadlock.\n",
      "  self.pid = os.fork()\n",
      "/usr/lib/python3.10/multiprocessing/popen_fork.py:66: RuntimeWarning: os.fork() was called. os.fork() is incompatible with multithreaded code, and JAX is multithreaded, so this will likely lead to a deadlock.\n",
      "  self.pid = os.fork()\n"
     ]
    },
    {
     "name": "stdout",
     "output_type": "stream",
     "text": [
      "Epoch 17:\n",
      "\ttrain: loss 0.481 | loss id   0.46 | top_1_acc 0.0090 | top_5_acc 0.0495 | cos_auc: 0.6851 | cos_acc: 0.6247 | eu_auc: 0.6541 | eu_acc: 0.6079\n",
      "\ttest: cos_auc: 0.7176 | cos_acc: 0.5019 | eu_auc: 0.6920 | eu_acc: 0.8039\n",
      "\tSaving model and optimizer state to /kaggle/working/checkpoint/magface/normalmap/models/checkpoint.pth\n"
     ]
    },
    {
     "name": "stderr",
     "output_type": "stream",
     "text": [
      "/usr/lib/python3.10/multiprocessing/popen_fork.py:66: RuntimeWarning: os.fork() was called. os.fork() is incompatible with multithreaded code, and JAX is multithreaded, so this will likely lead to a deadlock.\n",
      "  self.pid = os.fork()\n",
      "/usr/lib/python3.10/multiprocessing/popen_fork.py:66: RuntimeWarning: os.fork() was called. os.fork() is incompatible with multithreaded code, and JAX is multithreaded, so this will likely lead to a deadlock.\n",
      "  self.pid = os.fork()\n"
     ]
    },
    {
     "name": "stdout",
     "output_type": "stream",
     "text": [
      "Epoch 18:\n",
      "\ttrain: loss 0.452 | loss id   0.43 | top_1_acc 0.0045 | top_5_acc 0.0517 | cos_auc: 0.6915 | cos_acc: 0.5904 | eu_auc: 0.6799 | eu_acc: 0.6766\n",
      "\ttest: cos_auc: 0.7262 | cos_acc: 0.5544 | eu_auc: 0.7539 | eu_acc: 0.6365\n",
      "\tSaving model and optimizer state to /kaggle/working/checkpoint/magface/normalmap/models/checkpoint.pth\n"
     ]
    },
    {
     "name": "stderr",
     "output_type": "stream",
     "text": [
      "/usr/lib/python3.10/multiprocessing/popen_fork.py:66: RuntimeWarning: os.fork() was called. os.fork() is incompatible with multithreaded code, and JAX is multithreaded, so this will likely lead to a deadlock.\n",
      "  self.pid = os.fork()\n",
      "/usr/lib/python3.10/multiprocessing/popen_fork.py:66: RuntimeWarning: os.fork() was called. os.fork() is incompatible with multithreaded code, and JAX is multithreaded, so this will likely lead to a deadlock.\n",
      "  self.pid = os.fork()\n"
     ]
    },
    {
     "name": "stdout",
     "output_type": "stream",
     "text": [
      "Epoch 19:\n",
      "\ttrain: loss 0.433 | loss id   0.41 | top_1_acc 0.0079 | top_5_acc 0.0630 | cos_auc: 0.7079 | cos_acc: 0.6431 | eu_auc: 0.6747 | eu_acc: 0.5915\n",
      "\ttest: cos_auc: 0.7405 | cos_acc: 0.6008 | eu_auc: 0.7196 | eu_acc: 0.7124\n",
      "\tSaving model and optimizer state to /kaggle/working/checkpoint/magface/normalmap/models/checkpoint.pth\n"
     ]
    },
    {
     "name": "stderr",
     "output_type": "stream",
     "text": [
      "/usr/lib/python3.10/multiprocessing/popen_fork.py:66: RuntimeWarning: os.fork() was called. os.fork() is incompatible with multithreaded code, and JAX is multithreaded, so this will likely lead to a deadlock.\n",
      "  self.pid = os.fork()\n",
      "/usr/lib/python3.10/multiprocessing/popen_fork.py:66: RuntimeWarning: os.fork() was called. os.fork() is incompatible with multithreaded code, and JAX is multithreaded, so this will likely lead to a deadlock.\n",
      "  self.pid = os.fork()\n"
     ]
    },
    {
     "name": "stdout",
     "output_type": "stream",
     "text": [
      "Epoch 20:\n",
      "\ttrain: loss 0.460 | loss id   0.44 | top_1_acc 0.0135 | top_5_acc 0.0529 | cos_auc: 0.6887 | cos_acc: 0.5947 | eu_auc: 0.6781 | eu_acc: 0.6934\n",
      "\ttest: cos_auc: 0.7343 | cos_acc: 0.7392 | eu_auc: 0.7460 | eu_acc: 0.6263\n",
      "\tSaving model and optimizer state to /kaggle/working/checkpoint/magface/normalmap/models/checkpoint.pth\n"
     ]
    },
    {
     "name": "stderr",
     "output_type": "stream",
     "text": [
      "/usr/lib/python3.10/multiprocessing/popen_fork.py:66: RuntimeWarning: os.fork() was called. os.fork() is incompatible with multithreaded code, and JAX is multithreaded, so this will likely lead to a deadlock.\n",
      "  self.pid = os.fork()\n",
      "/usr/lib/python3.10/multiprocessing/popen_fork.py:66: RuntimeWarning: os.fork() was called. os.fork() is incompatible with multithreaded code, and JAX is multithreaded, so this will likely lead to a deadlock.\n",
      "  self.pid = os.fork()\n"
     ]
    },
    {
     "name": "stdout",
     "output_type": "stream",
     "text": [
      "Epoch 21:\n",
      "\ttrain: loss 0.442 | loss id   0.42 | top_1_acc 0.0101 | top_5_acc 0.0506 | cos_auc: 0.6919 | cos_acc: 0.6135 | eu_auc: 0.6944 | eu_acc: 0.6978\n",
      "\ttest: cos_auc: 0.7506 | cos_acc: 0.6647 | eu_auc: 0.7470 | eu_acc: 0.5875\n",
      "\tSaving model and optimizer state to /kaggle/working/checkpoint/magface/normalmap/models/checkpoint.pth\n"
     ]
    },
    {
     "name": "stderr",
     "output_type": "stream",
     "text": [
      "/usr/lib/python3.10/multiprocessing/popen_fork.py:66: RuntimeWarning: os.fork() was called. os.fork() is incompatible with multithreaded code, and JAX is multithreaded, so this will likely lead to a deadlock.\n",
      "  self.pid = os.fork()\n",
      "/usr/lib/python3.10/multiprocessing/popen_fork.py:66: RuntimeWarning: os.fork() was called. os.fork() is incompatible with multithreaded code, and JAX is multithreaded, so this will likely lead to a deadlock.\n",
      "  self.pid = os.fork()\n"
     ]
    },
    {
     "name": "stdout",
     "output_type": "stream",
     "text": [
      "Epoch 22:\n",
      "\ttrain: loss 0.442 | loss id   0.42 | top_1_acc 0.0112 | top_5_acc 0.0596 | cos_auc: 0.7140 | cos_acc: 0.6231 | eu_auc: 0.6849 | eu_acc: 0.6475\n",
      "\ttest: cos_auc: 0.7608 | cos_acc: 0.6056 | eu_auc: 0.7411 | eu_acc: 0.8059\n",
      "\tSaving model and optimizer state to /kaggle/working/checkpoint/magface/normalmap/models/checkpoint.pth\n"
     ]
    },
    {
     "name": "stderr",
     "output_type": "stream",
     "text": [
      "/usr/lib/python3.10/multiprocessing/popen_fork.py:66: RuntimeWarning: os.fork() was called. os.fork() is incompatible with multithreaded code, and JAX is multithreaded, so this will likely lead to a deadlock.\n",
      "  self.pid = os.fork()\n",
      "/usr/lib/python3.10/multiprocessing/popen_fork.py:66: RuntimeWarning: os.fork() was called. os.fork() is incompatible with multithreaded code, and JAX is multithreaded, so this will likely lead to a deadlock.\n",
      "  self.pid = os.fork()\n"
     ]
    },
    {
     "name": "stdout",
     "output_type": "stream",
     "text": [
      "Epoch 23:\n",
      "\ttrain: loss 0.443 | loss id   0.42 | top_1_acc 0.0112 | top_5_acc 0.0607 | cos_auc: 0.7140 | cos_acc: 0.6584 | eu_auc: 0.7053 | eu_acc: 0.6505\n",
      "\ttest: cos_auc: 0.7680 | cos_acc: 0.6295 | eu_auc: 0.7666 | eu_acc: 0.5446\n",
      "\tSaving model and optimizer state to /kaggle/working/checkpoint/magface/normalmap/models/checkpoint.pth\n"
     ]
    },
    {
     "name": "stderr",
     "output_type": "stream",
     "text": [
      "/usr/lib/python3.10/multiprocessing/popen_fork.py:66: RuntimeWarning: os.fork() was called. os.fork() is incompatible with multithreaded code, and JAX is multithreaded, so this will likely lead to a deadlock.\n",
      "  self.pid = os.fork()\n",
      "/usr/lib/python3.10/multiprocessing/popen_fork.py:66: RuntimeWarning: os.fork() was called. os.fork() is incompatible with multithreaded code, and JAX is multithreaded, so this will likely lead to a deadlock.\n",
      "  self.pid = os.fork()\n"
     ]
    },
    {
     "name": "stdout",
     "output_type": "stream",
     "text": [
      "Epoch 24:\n",
      "\ttrain: loss 0.439 | loss id   0.42 | top_1_acc 0.0079 | top_5_acc 0.0551 | cos_auc: 0.7154 | cos_acc: 0.6548 | eu_auc: 0.6790 | eu_acc: 0.6074\n",
      "\ttest: cos_auc: 0.7609 | cos_acc: 0.5910 | eu_auc: 0.7236 | eu_acc: 0.7320\n",
      "\tSaving model and optimizer state to /kaggle/working/checkpoint/magface/normalmap/models/checkpoint.pth\n"
     ]
    },
    {
     "name": "stderr",
     "output_type": "stream",
     "text": [
      "/usr/lib/python3.10/multiprocessing/popen_fork.py:66: RuntimeWarning: os.fork() was called. os.fork() is incompatible with multithreaded code, and JAX is multithreaded, so this will likely lead to a deadlock.\n",
      "  self.pid = os.fork()\n",
      "/usr/lib/python3.10/multiprocessing/popen_fork.py:66: RuntimeWarning: os.fork() was called. os.fork() is incompatible with multithreaded code, and JAX is multithreaded, so this will likely lead to a deadlock.\n",
      "  self.pid = os.fork()\n"
     ]
    },
    {
     "name": "stdout",
     "output_type": "stream",
     "text": [
      "Epoch 25:\n",
      "\ttrain: loss 0.417 | loss id   0.39 | top_1_acc 0.0090 | top_5_acc 0.0596 | cos_auc: 0.7141 | cos_acc: 0.5994 | eu_auc: 0.6887 | eu_acc: 0.6408\n",
      "\ttest: cos_auc: 0.7759 | cos_acc: 0.5835 | eu_auc: 0.7482 | eu_acc: 0.7039\n",
      "\tSaving model and optimizer state to /kaggle/working/checkpoint/magface/normalmap/models/checkpoint.pth\n"
     ]
    },
    {
     "name": "stderr",
     "output_type": "stream",
     "text": [
      "/usr/lib/python3.10/multiprocessing/popen_fork.py:66: RuntimeWarning: os.fork() was called. os.fork() is incompatible with multithreaded code, and JAX is multithreaded, so this will likely lead to a deadlock.\n",
      "  self.pid = os.fork()\n",
      "/usr/lib/python3.10/multiprocessing/popen_fork.py:66: RuntimeWarning: os.fork() was called. os.fork() is incompatible with multithreaded code, and JAX is multithreaded, so this will likely lead to a deadlock.\n",
      "  self.pid = os.fork()\n"
     ]
    },
    {
     "name": "stdout",
     "output_type": "stream",
     "text": [
      "Epoch 26:\n",
      "\ttrain: loss 0.452 | loss id   0.43 | top_1_acc 0.0101 | top_5_acc 0.0562 | cos_auc: 0.7182 | cos_acc: 0.6711 | eu_auc: 0.6894 | eu_acc: 0.6549\n",
      "\ttest: cos_auc: 0.7743 | cos_acc: 0.7408 | eu_auc: 0.7644 | eu_acc: 0.6479\n",
      "\tSaving model and optimizer state to /kaggle/working/checkpoint/magface/normalmap/models/checkpoint.pth\n"
     ]
    },
    {
     "name": "stderr",
     "output_type": "stream",
     "text": [
      "/usr/lib/python3.10/multiprocessing/popen_fork.py:66: RuntimeWarning: os.fork() was called. os.fork() is incompatible with multithreaded code, and JAX is multithreaded, so this will likely lead to a deadlock.\n",
      "  self.pid = os.fork()\n",
      "/usr/lib/python3.10/multiprocessing/popen_fork.py:66: RuntimeWarning: os.fork() was called. os.fork() is incompatible with multithreaded code, and JAX is multithreaded, so this will likely lead to a deadlock.\n",
      "  self.pid = os.fork()\n"
     ]
    },
    {
     "name": "stdout",
     "output_type": "stream",
     "text": [
      "Epoch 27:\n",
      "\ttrain: loss 0.418 | loss id   0.39 | top_1_acc 0.0124 | top_5_acc 0.0686 | cos_auc: 0.7136 | cos_acc: 0.6730 | eu_auc: 0.6779 | eu_acc: 0.6812\n",
      "\ttest: cos_auc: 0.7631 | cos_acc: 0.7381 | eu_auc: 0.7560 | eu_acc: 0.6435\n",
      "\tSaving model and optimizer state to /kaggle/working/checkpoint/magface/normalmap/models/checkpoint.pth\n"
     ]
    },
    {
     "name": "stderr",
     "output_type": "stream",
     "text": [
      "/usr/lib/python3.10/multiprocessing/popen_fork.py:66: RuntimeWarning: os.fork() was called. os.fork() is incompatible with multithreaded code, and JAX is multithreaded, so this will likely lead to a deadlock.\n",
      "  self.pid = os.fork()\n",
      "/usr/lib/python3.10/multiprocessing/popen_fork.py:66: RuntimeWarning: os.fork() was called. os.fork() is incompatible with multithreaded code, and JAX is multithreaded, so this will likely lead to a deadlock.\n",
      "  self.pid = os.fork()\n"
     ]
    },
    {
     "name": "stdout",
     "output_type": "stream",
     "text": [
      "Epoch 28:\n",
      "\ttrain: loss 0.392 | loss id   0.37 | top_1_acc 0.0079 | top_5_acc 0.0742 | cos_auc: 0.7139 | cos_acc: 0.6432 | eu_auc: 0.6529 | eu_acc: 0.6799\n",
      "\ttest: cos_auc: 0.7604 | cos_acc: 0.6713 | eu_auc: 0.7132 | eu_acc: 0.7140\n",
      "\tSaving model and optimizer state to /kaggle/working/checkpoint/magface/normalmap/models/checkpoint.pth\n"
     ]
    },
    {
     "name": "stderr",
     "output_type": "stream",
     "text": [
      "/usr/lib/python3.10/multiprocessing/popen_fork.py:66: RuntimeWarning: os.fork() was called. os.fork() is incompatible with multithreaded code, and JAX is multithreaded, so this will likely lead to a deadlock.\n",
      "  self.pid = os.fork()\n",
      "/usr/lib/python3.10/multiprocessing/popen_fork.py:66: RuntimeWarning: os.fork() was called. os.fork() is incompatible with multithreaded code, and JAX is multithreaded, so this will likely lead to a deadlock.\n",
      "  self.pid = os.fork()\n"
     ]
    },
    {
     "name": "stdout",
     "output_type": "stream",
     "text": [
      "Epoch 29:\n",
      "\ttrain: loss 0.404 | loss id   0.38 | top_1_acc 0.0169 | top_5_acc 0.0720 | cos_auc: 0.7237 | cos_acc: 0.6371 | eu_auc: 0.6742 | eu_acc: 0.6319\n",
      "\ttest: cos_auc: 0.7784 | cos_acc: 0.6411 | eu_auc: 0.7431 | eu_acc: 0.7728\n",
      "\tSaving model and optimizer state to /kaggle/working/checkpoint/magface/normalmap/models/checkpoint.pth\n"
     ]
    },
    {
     "name": "stderr",
     "output_type": "stream",
     "text": [
      "/usr/lib/python3.10/multiprocessing/popen_fork.py:66: RuntimeWarning: os.fork() was called. os.fork() is incompatible with multithreaded code, and JAX is multithreaded, so this will likely lead to a deadlock.\n",
      "  self.pid = os.fork()\n",
      "/usr/lib/python3.10/multiprocessing/popen_fork.py:66: RuntimeWarning: os.fork() was called. os.fork() is incompatible with multithreaded code, and JAX is multithreaded, so this will likely lead to a deadlock.\n",
      "  self.pid = os.fork()\n",
      "/usr/lib/python3.10/multiprocessing/popen_fork.py:66: RuntimeWarning: os.fork() was called. os.fork() is incompatible with multithreaded code, and JAX is multithreaded, so this will likely lead to a deadlock.\n",
      "  self.pid = os.fork()\n"
     ]
    },
    {
     "name": "stdout",
     "output_type": "stream",
     "text": [
      "Epoch 30:\n",
      "\ttrain: loss 0.417 | loss id   0.39 | top_1_acc 0.0124 | top_5_acc 0.0697 | cos_auc: 0.7196 | cos_acc: 0.6716 | eu_auc: 0.6973 | eu_acc: 0.5831\n",
      "\ttest: cos_auc: 0.7813 | cos_acc: 0.7060 | eu_auc: 0.7768 | eu_acc: 0.6556\n",
      "\tSaving model and optimizer state to /kaggle/working/checkpoint/magface/normalmap/models/checkpoint.pth\n"
     ]
    },
    {
     "name": "stderr",
     "output_type": "stream",
     "text": [
      "/usr/lib/python3.10/multiprocessing/popen_fork.py:66: RuntimeWarning: os.fork() was called. os.fork() is incompatible with multithreaded code, and JAX is multithreaded, so this will likely lead to a deadlock.\n",
      "  self.pid = os.fork()\n",
      "/usr/lib/python3.10/multiprocessing/popen_fork.py:66: RuntimeWarning: os.fork() was called. os.fork() is incompatible with multithreaded code, and JAX is multithreaded, so this will likely lead to a deadlock.\n",
      "  self.pid = os.fork()\n"
     ]
    },
    {
     "name": "stdout",
     "output_type": "stream",
     "text": [
      "Epoch 31:\n",
      "\ttrain: loss 0.422 | loss id   0.40 | top_1_acc 0.0214 | top_5_acc 0.0810 | cos_auc: 0.7272 | cos_acc: 0.6488 | eu_auc: 0.6674 | eu_acc: 0.6587\n",
      "\ttest: cos_auc: 0.7866 | cos_acc: 0.7370 | eu_auc: 0.7372 | eu_acc: 0.8498\n",
      "\tSaving model and optimizer state to /kaggle/working/checkpoint/magface/normalmap/models/checkpoint.pth\n"
     ]
    },
    {
     "name": "stderr",
     "output_type": "stream",
     "text": [
      "/usr/lib/python3.10/multiprocessing/popen_fork.py:66: RuntimeWarning: os.fork() was called. os.fork() is incompatible with multithreaded code, and JAX is multithreaded, so this will likely lead to a deadlock.\n",
      "  self.pid = os.fork()\n",
      "/usr/lib/python3.10/multiprocessing/popen_fork.py:66: RuntimeWarning: os.fork() was called. os.fork() is incompatible with multithreaded code, and JAX is multithreaded, so this will likely lead to a deadlock.\n",
      "  self.pid = os.fork()\n"
     ]
    },
    {
     "name": "stdout",
     "output_type": "stream",
     "text": [
      "Epoch 32:\n",
      "\ttrain: loss 0.398 | loss id   0.37 | top_1_acc 0.0146 | top_5_acc 0.0731 | cos_auc: 0.7292 | cos_acc: 0.6984 | eu_auc: 0.6695 | eu_acc: 0.6937\n",
      "\ttest: cos_auc: 0.7821 | cos_acc: 0.6316 | eu_auc: 0.7255 | eu_acc: 0.6279\n",
      "\tSaving model and optimizer state to /kaggle/working/checkpoint/magface/normalmap/models/checkpoint.pth\n"
     ]
    },
    {
     "name": "stderr",
     "output_type": "stream",
     "text": [
      "/usr/lib/python3.10/multiprocessing/popen_fork.py:66: RuntimeWarning: os.fork() was called. os.fork() is incompatible with multithreaded code, and JAX is multithreaded, so this will likely lead to a deadlock.\n",
      "  self.pid = os.fork()\n",
      "/usr/lib/python3.10/multiprocessing/popen_fork.py:66: RuntimeWarning: os.fork() was called. os.fork() is incompatible with multithreaded code, and JAX is multithreaded, so this will likely lead to a deadlock.\n",
      "  self.pid = os.fork()\n"
     ]
    },
    {
     "name": "stdout",
     "output_type": "stream",
     "text": [
      "Epoch 33:\n",
      "\ttrain: loss 0.390 | loss id   0.37 | top_1_acc 0.0247 | top_5_acc 0.1057 | cos_auc: 0.7237 | cos_acc: 0.6713 | eu_auc: 0.6885 | eu_acc: 0.6405\n",
      "\ttest: cos_auc: 0.7674 | cos_acc: 0.6837 | eu_auc: 0.7460 | eu_acc: 0.6827\n",
      "\tSaving model and optimizer state to /kaggle/working/checkpoint/magface/normalmap/models/checkpoint.pth\n"
     ]
    },
    {
     "name": "stderr",
     "output_type": "stream",
     "text": [
      "/usr/lib/python3.10/multiprocessing/popen_fork.py:66: RuntimeWarning: os.fork() was called. os.fork() is incompatible with multithreaded code, and JAX is multithreaded, so this will likely lead to a deadlock.\n",
      "  self.pid = os.fork()\n",
      "/usr/lib/python3.10/multiprocessing/popen_fork.py:66: RuntimeWarning: os.fork() was called. os.fork() is incompatible with multithreaded code, and JAX is multithreaded, so this will likely lead to a deadlock.\n",
      "  self.pid = os.fork()\n"
     ]
    },
    {
     "name": "stdout",
     "output_type": "stream",
     "text": [
      "Epoch 34:\n",
      "\ttrain: loss 0.420 | loss id   0.40 | top_1_acc 0.0191 | top_5_acc 0.1012 | cos_auc: 0.7272 | cos_acc: 0.6809 | eu_auc: 0.6700 | eu_acc: 0.6667\n",
      "\ttest: cos_auc: 0.7798 | cos_acc: 0.6715 | eu_auc: 0.7385 | eu_acc: 0.5776\n",
      "\tSaving model and optimizer state to /kaggle/working/checkpoint/magface/normalmap/models/checkpoint.pth\n"
     ]
    },
    {
     "name": "stderr",
     "output_type": "stream",
     "text": [
      "/usr/lib/python3.10/multiprocessing/popen_fork.py:66: RuntimeWarning: os.fork() was called. os.fork() is incompatible with multithreaded code, and JAX is multithreaded, so this will likely lead to a deadlock.\n",
      "  self.pid = os.fork()\n",
      "/usr/lib/python3.10/multiprocessing/popen_fork.py:66: RuntimeWarning: os.fork() was called. os.fork() is incompatible with multithreaded code, and JAX is multithreaded, so this will likely lead to a deadlock.\n",
      "  self.pid = os.fork()\n"
     ]
    },
    {
     "name": "stdout",
     "output_type": "stream",
     "text": [
      "Epoch 35:\n",
      "\ttrain: loss 0.418 | loss id   0.40 | top_1_acc 0.0247 | top_5_acc 0.0979 | cos_auc: 0.7376 | cos_acc: 0.6825 | eu_auc: 0.6828 | eu_acc: 0.6469\n",
      "\ttest: cos_auc: 0.7868 | cos_acc: 0.6529 | eu_auc: 0.7469 | eu_acc: 0.7852\n",
      "\tSaving model and optimizer state to /kaggle/working/checkpoint/magface/normalmap/models/checkpoint.pth\n"
     ]
    },
    {
     "name": "stderr",
     "output_type": "stream",
     "text": [
      "/usr/lib/python3.10/multiprocessing/popen_fork.py:66: RuntimeWarning: os.fork() was called. os.fork() is incompatible with multithreaded code, and JAX is multithreaded, so this will likely lead to a deadlock.\n",
      "  self.pid = os.fork()\n",
      "/usr/lib/python3.10/multiprocessing/popen_fork.py:66: RuntimeWarning: os.fork() was called. os.fork() is incompatible with multithreaded code, and JAX is multithreaded, so this will likely lead to a deadlock.\n",
      "  self.pid = os.fork()\n"
     ]
    },
    {
     "name": "stdout",
     "output_type": "stream",
     "text": [
      "Epoch 36:\n",
      "\ttrain: loss 0.415 | loss id   0.39 | top_1_acc 0.0270 | top_5_acc 0.1046 | cos_auc: 0.7379 | cos_acc: 0.6871 | eu_auc: 0.6921 | eu_acc: 0.6100\n",
      "\ttest: cos_auc: 0.7852 | cos_acc: 0.7366 | eu_auc: 0.7612 | eu_acc: 0.7657\n",
      "\tSaving model and optimizer state to /kaggle/working/checkpoint/magface/normalmap/models/checkpoint.pth\n"
     ]
    },
    {
     "name": "stderr",
     "output_type": "stream",
     "text": [
      "/usr/lib/python3.10/multiprocessing/popen_fork.py:66: RuntimeWarning: os.fork() was called. os.fork() is incompatible with multithreaded code, and JAX is multithreaded, so this will likely lead to a deadlock.\n",
      "  self.pid = os.fork()\n",
      "/usr/lib/python3.10/multiprocessing/popen_fork.py:66: RuntimeWarning: os.fork() was called. os.fork() is incompatible with multithreaded code, and JAX is multithreaded, so this will likely lead to a deadlock.\n",
      "  self.pid = os.fork()\n"
     ]
    },
    {
     "name": "stdout",
     "output_type": "stream",
     "text": [
      "Epoch 37:\n",
      "\ttrain: loss 0.399 | loss id   0.38 | top_1_acc 0.0225 | top_5_acc 0.1226 | cos_auc: 0.7495 | cos_acc: 0.6740 | eu_auc: 0.6767 | eu_acc: 0.6882\n",
      "\ttest: cos_auc: 0.7920 | cos_acc: 0.7073 | eu_auc: 0.7402 | eu_acc: 0.7616\n",
      "\tSaving model and optimizer state to /kaggle/working/checkpoint/magface/normalmap/models/checkpoint.pth\n"
     ]
    },
    {
     "name": "stderr",
     "output_type": "stream",
     "text": [
      "/usr/lib/python3.10/multiprocessing/popen_fork.py:66: RuntimeWarning: os.fork() was called. os.fork() is incompatible with multithreaded code, and JAX is multithreaded, so this will likely lead to a deadlock.\n",
      "  self.pid = os.fork()\n",
      "/usr/lib/python3.10/multiprocessing/popen_fork.py:66: RuntimeWarning: os.fork() was called. os.fork() is incompatible with multithreaded code, and JAX is multithreaded, so this will likely lead to a deadlock.\n",
      "  self.pid = os.fork()\n"
     ]
    },
    {
     "name": "stdout",
     "output_type": "stream",
     "text": [
      "Epoch 38:\n",
      "\ttrain: loss 0.420 | loss id   0.40 | top_1_acc 0.0202 | top_5_acc 0.1204 | cos_auc: 0.7382 | cos_acc: 0.6232 | eu_auc: 0.6721 | eu_acc: 0.6019\n",
      "\ttest: cos_auc: 0.7929 | cos_acc: 0.7269 | eu_auc: 0.7400 | eu_acc: 0.6433\n",
      "\tSaving model and optimizer state to /kaggle/working/checkpoint/magface/normalmap/models/checkpoint.pth\n"
     ]
    },
    {
     "name": "stderr",
     "output_type": "stream",
     "text": [
      "/usr/lib/python3.10/multiprocessing/popen_fork.py:66: RuntimeWarning: os.fork() was called. os.fork() is incompatible with multithreaded code, and JAX is multithreaded, so this will likely lead to a deadlock.\n",
      "  self.pid = os.fork()\n",
      "/usr/lib/python3.10/multiprocessing/popen_fork.py:66: RuntimeWarning: os.fork() was called. os.fork() is incompatible with multithreaded code, and JAX is multithreaded, so this will likely lead to a deadlock.\n",
      "  self.pid = os.fork()\n"
     ]
    },
    {
     "name": "stdout",
     "output_type": "stream",
     "text": [
      "Epoch 39:\n",
      "\ttrain: loss 0.397 | loss id   0.37 | top_1_acc 0.0337 | top_5_acc 0.1305 | cos_auc: 0.7430 | cos_acc: 0.6485 | eu_auc: 0.6892 | eu_acc: 0.6934\n",
      "\ttest: cos_auc: 0.7906 | cos_acc: 0.5574 | eu_auc: 0.7492 | eu_acc: 0.7469\n",
      "\tSaving model and optimizer state to /kaggle/working/checkpoint/magface/normalmap/models/checkpoint.pth\n"
     ]
    },
    {
     "name": "stderr",
     "output_type": "stream",
     "text": [
      "/usr/lib/python3.10/multiprocessing/popen_fork.py:66: RuntimeWarning: os.fork() was called. os.fork() is incompatible with multithreaded code, and JAX is multithreaded, so this will likely lead to a deadlock.\n",
      "  self.pid = os.fork()\n",
      "/usr/lib/python3.10/multiprocessing/popen_fork.py:66: RuntimeWarning: os.fork() was called. os.fork() is incompatible with multithreaded code, and JAX is multithreaded, so this will likely lead to a deadlock.\n",
      "  self.pid = os.fork()\n"
     ]
    },
    {
     "name": "stdout",
     "output_type": "stream",
     "text": [
      "Epoch 40:\n",
      "\ttrain: loss 0.409 | loss id   0.39 | top_1_acc 0.0326 | top_5_acc 0.1305 | cos_auc: 0.7364 | cos_acc: 0.6820 | eu_auc: 0.6751 | eu_acc: 0.6610\n",
      "\ttest: cos_auc: 0.7958 | cos_acc: 0.6764 | eu_auc: 0.7410 | eu_acc: 0.6911\n",
      "\tSaving model and optimizer state to /kaggle/working/checkpoint/magface/normalmap/models/checkpoint.pth\n"
     ]
    },
    {
     "name": "stderr",
     "output_type": "stream",
     "text": [
      "/usr/lib/python3.10/multiprocessing/popen_fork.py:66: RuntimeWarning: os.fork() was called. os.fork() is incompatible with multithreaded code, and JAX is multithreaded, so this will likely lead to a deadlock.\n",
      "  self.pid = os.fork()\n",
      "/usr/lib/python3.10/multiprocessing/popen_fork.py:66: RuntimeWarning: os.fork() was called. os.fork() is incompatible with multithreaded code, and JAX is multithreaded, so this will likely lead to a deadlock.\n",
      "  self.pid = os.fork()\n"
     ]
    },
    {
     "name": "stdout",
     "output_type": "stream",
     "text": [
      "Epoch 41:\n",
      "\ttrain: loss 0.424 | loss id   0.40 | top_1_acc 0.0067 | top_5_acc 0.0495 | cos_auc: 0.7087 | cos_acc: 0.6427 | eu_auc: 0.6735 | eu_acc: 0.6783\n",
      "\ttest: cos_auc: 0.7550 | cos_acc: 0.6473 | eu_auc: 0.7009 | eu_acc: 0.6235\n",
      "\tSaving model and optimizer state to /kaggle/working/checkpoint/magface/normalmap/models/checkpoint.pth\n"
     ]
    },
    {
     "name": "stderr",
     "output_type": "stream",
     "text": [
      "/usr/lib/python3.10/multiprocessing/popen_fork.py:66: RuntimeWarning: os.fork() was called. os.fork() is incompatible with multithreaded code, and JAX is multithreaded, so this will likely lead to a deadlock.\n",
      "  self.pid = os.fork()\n",
      "/usr/lib/python3.10/multiprocessing/popen_fork.py:66: RuntimeWarning: os.fork() was called. os.fork() is incompatible with multithreaded code, and JAX is multithreaded, so this will likely lead to a deadlock.\n",
      "  self.pid = os.fork()\n"
     ]
    },
    {
     "name": "stdout",
     "output_type": "stream",
     "text": [
      "Epoch 42:\n",
      "\ttrain: loss 0.498 | loss id   0.48 | top_1_acc 0.0079 | top_5_acc 0.0551 | cos_auc: 0.6618 | cos_acc: 0.6648 | eu_auc: 0.6390 | eu_acc: 0.5839\n",
      "\ttest: cos_auc: 0.6918 | cos_acc: 0.5982 | eu_auc: 0.6594 | eu_acc: 0.8069\n",
      "\tSaving model and optimizer state to /kaggle/working/checkpoint/magface/normalmap/models/checkpoint.pth\n"
     ]
    },
    {
     "name": "stderr",
     "output_type": "stream",
     "text": [
      "/usr/lib/python3.10/multiprocessing/popen_fork.py:66: RuntimeWarning: os.fork() was called. os.fork() is incompatible with multithreaded code, and JAX is multithreaded, so this will likely lead to a deadlock.\n",
      "  self.pid = os.fork()\n",
      "/usr/lib/python3.10/multiprocessing/popen_fork.py:66: RuntimeWarning: os.fork() was called. os.fork() is incompatible with multithreaded code, and JAX is multithreaded, so this will likely lead to a deadlock.\n",
      "  self.pid = os.fork()\n"
     ]
    },
    {
     "name": "stdout",
     "output_type": "stream",
     "text": [
      "Epoch 43:\n",
      "\ttrain: loss 0.570 | loss id   0.55 | top_1_acc 0.0146 | top_5_acc 0.0709 | cos_auc: 0.6814 | cos_acc: 0.6838 | eu_auc: 0.6474 | eu_acc: 0.6625\n",
      "\ttest: cos_auc: 0.7424 | cos_acc: 0.6967 | eu_auc: 0.6764 | eu_acc: 0.7494\n",
      "\tSaving model and optimizer state to /kaggle/working/checkpoint/magface/normalmap/models/checkpoint.pth\n"
     ]
    },
    {
     "name": "stderr",
     "output_type": "stream",
     "text": [
      "/usr/lib/python3.10/multiprocessing/popen_fork.py:66: RuntimeWarning: os.fork() was called. os.fork() is incompatible with multithreaded code, and JAX is multithreaded, so this will likely lead to a deadlock.\n",
      "  self.pid = os.fork()\n",
      "/usr/lib/python3.10/multiprocessing/popen_fork.py:66: RuntimeWarning: os.fork() was called. os.fork() is incompatible with multithreaded code, and JAX is multithreaded, so this will likely lead to a deadlock.\n",
      "  self.pid = os.fork()\n"
     ]
    },
    {
     "name": "stdout",
     "output_type": "stream",
     "text": [
      "Epoch 44:\n",
      "\ttrain: loss 0.512 | loss id   0.49 | top_1_acc 0.0157 | top_5_acc 0.0765 | cos_auc: 0.6226 | cos_acc: 0.5167 | eu_auc: 0.6348 | eu_acc: 0.6403\n",
      "\ttest: cos_auc: 0.6524 | cos_acc: 0.8095 | eu_auc: 0.6476 | eu_acc: 0.7987\n",
      "\tSaving model and optimizer state to /kaggle/working/checkpoint/magface/normalmap/models/checkpoint.pth\n"
     ]
    },
    {
     "name": "stderr",
     "output_type": "stream",
     "text": [
      "/usr/lib/python3.10/multiprocessing/popen_fork.py:66: RuntimeWarning: os.fork() was called. os.fork() is incompatible with multithreaded code, and JAX is multithreaded, so this will likely lead to a deadlock.\n",
      "  self.pid = os.fork()\n",
      "/usr/lib/python3.10/multiprocessing/popen_fork.py:66: RuntimeWarning: os.fork() was called. os.fork() is incompatible with multithreaded code, and JAX is multithreaded, so this will likely lead to a deadlock.\n",
      "  self.pid = os.fork()\n"
     ]
    },
    {
     "name": "stdout",
     "output_type": "stream",
     "text": [
      "Epoch 45:\n",
      "\ttrain: loss 0.496 | loss id   0.47 | top_1_acc 0.0124 | top_5_acc 0.0720 | cos_auc: 0.6549 | cos_acc: 0.7161 | eu_auc: 0.6853 | eu_acc: 0.6505\n",
      "\ttest: cos_auc: 0.6799 | cos_acc: 0.7114 | eu_auc: 0.7188 | eu_acc: 0.6186\n",
      "\tSaving model and optimizer state to /kaggle/working/checkpoint/magface/normalmap/models/checkpoint.pth\n"
     ]
    },
    {
     "name": "stderr",
     "output_type": "stream",
     "text": [
      "/usr/lib/python3.10/multiprocessing/popen_fork.py:66: RuntimeWarning: os.fork() was called. os.fork() is incompatible with multithreaded code, and JAX is multithreaded, so this will likely lead to a deadlock.\n",
      "  self.pid = os.fork()\n",
      "/usr/lib/python3.10/multiprocessing/popen_fork.py:66: RuntimeWarning: os.fork() was called. os.fork() is incompatible with multithreaded code, and JAX is multithreaded, so this will likely lead to a deadlock.\n",
      "  self.pid = os.fork()\n"
     ]
    },
    {
     "name": "stdout",
     "output_type": "stream",
     "text": [
      "Epoch 46:\n",
      "\ttrain: loss 0.576 | loss id   0.55 | top_1_acc 0.0112 | top_5_acc 0.0900 | cos_auc: 0.7250 | cos_acc: 0.6808 | eu_auc: 0.6813 | eu_acc: 0.6891\n",
      "\ttest: cos_auc: 0.7720 | cos_acc: 0.6088 | eu_auc: 0.7187 | eu_acc: 0.7286\n",
      "\tSaving model and optimizer state to /kaggle/working/checkpoint/magface/normalmap/models/checkpoint.pth\n"
     ]
    },
    {
     "name": "stderr",
     "output_type": "stream",
     "text": [
      "/usr/lib/python3.10/multiprocessing/popen_fork.py:66: RuntimeWarning: os.fork() was called. os.fork() is incompatible with multithreaded code, and JAX is multithreaded, so this will likely lead to a deadlock.\n",
      "  self.pid = os.fork()\n",
      "/usr/lib/python3.10/multiprocessing/popen_fork.py:66: RuntimeWarning: os.fork() was called. os.fork() is incompatible with multithreaded code, and JAX is multithreaded, so this will likely lead to a deadlock.\n",
      "  self.pid = os.fork()\n"
     ]
    },
    {
     "name": "stdout",
     "output_type": "stream",
     "text": [
      "Epoch 47:\n",
      "\ttrain: loss 0.513 | loss id   0.49 | top_1_acc 0.0146 | top_5_acc 0.0776 | cos_auc: 0.7457 | cos_acc: 0.6830 | eu_auc: 0.6955 | eu_acc: 0.6956\n",
      "\ttest: cos_auc: 0.7719 | cos_acc: 0.6964 | eu_auc: 0.7430 | eu_acc: 0.7061\n",
      "\tSaving model and optimizer state to /kaggle/working/checkpoint/magface/normalmap/models/checkpoint.pth\n"
     ]
    },
    {
     "name": "stderr",
     "output_type": "stream",
     "text": [
      "/usr/lib/python3.10/multiprocessing/popen_fork.py:66: RuntimeWarning: os.fork() was called. os.fork() is incompatible with multithreaded code, and JAX is multithreaded, so this will likely lead to a deadlock.\n",
      "  self.pid = os.fork()\n",
      "/usr/lib/python3.10/multiprocessing/popen_fork.py:66: RuntimeWarning: os.fork() was called. os.fork() is incompatible with multithreaded code, and JAX is multithreaded, so this will likely lead to a deadlock.\n",
      "  self.pid = os.fork()\n"
     ]
    },
    {
     "name": "stdout",
     "output_type": "stream",
     "text": [
      "Epoch 48:\n",
      "\ttrain: loss 0.521 | loss id   0.50 | top_1_acc 0.0169 | top_5_acc 0.0922 | cos_auc: 0.7378 | cos_acc: 0.6355 | eu_auc: 0.6650 | eu_acc: 0.6161\n",
      "\ttest: cos_auc: 0.7752 | cos_acc: 0.5738 | eu_auc: 0.7137 | eu_acc: 0.7468\n",
      "\tSaving model and optimizer state to /kaggle/working/checkpoint/magface/normalmap/models/checkpoint.pth\n"
     ]
    },
    {
     "name": "stderr",
     "output_type": "stream",
     "text": [
      "/usr/lib/python3.10/multiprocessing/popen_fork.py:66: RuntimeWarning: os.fork() was called. os.fork() is incompatible with multithreaded code, and JAX is multithreaded, so this will likely lead to a deadlock.\n",
      "  self.pid = os.fork()\n",
      "/usr/lib/python3.10/multiprocessing/popen_fork.py:66: RuntimeWarning: os.fork() was called. os.fork() is incompatible with multithreaded code, and JAX is multithreaded, so this will likely lead to a deadlock.\n",
      "  self.pid = os.fork()\n"
     ]
    },
    {
     "name": "stdout",
     "output_type": "stream",
     "text": [
      "Epoch 49:\n",
      "\ttrain: loss 0.517 | loss id   0.49 | top_1_acc 0.0225 | top_5_acc 0.1012 | cos_auc: 0.7172 | cos_acc: 0.6837 | eu_auc: 0.7212 | eu_acc: 0.7012\n",
      "\ttest: cos_auc: 0.7508 | cos_acc: 0.7923 | eu_auc: 0.7631 | eu_acc: 0.8271\n",
      "\tSaving model and optimizer state to /kaggle/working/checkpoint/magface/normalmap/models/checkpoint.pth\n"
     ]
    },
    {
     "name": "stderr",
     "output_type": "stream",
     "text": [
      "/usr/lib/python3.10/multiprocessing/popen_fork.py:66: RuntimeWarning: os.fork() was called. os.fork() is incompatible with multithreaded code, and JAX is multithreaded, so this will likely lead to a deadlock.\n",
      "  self.pid = os.fork()\n",
      "/usr/lib/python3.10/multiprocessing/popen_fork.py:66: RuntimeWarning: os.fork() was called. os.fork() is incompatible with multithreaded code, and JAX is multithreaded, so this will likely lead to a deadlock.\n",
      "  self.pid = os.fork()\n"
     ]
    },
    {
     "name": "stdout",
     "output_type": "stream",
     "text": [
      "Epoch 50:\n",
      "\ttrain: loss 0.536 | loss id   0.51 | top_1_acc 0.0191 | top_5_acc 0.1024 | cos_auc: 0.7315 | cos_acc: 0.6383 | eu_auc: 0.6992 | eu_acc: 0.7110\n",
      "\ttest: cos_auc: 0.7701 | cos_acc: 0.6011 | eu_auc: 0.7115 | eu_acc: 0.5600\n",
      "\tSaving model and optimizer state to /kaggle/working/checkpoint/magface/normalmap/models/checkpoint.pth\n",
      "\tSaved best model weights for 'test_cosine_auc' at epoch 50 to '/kaggle/working/checkpoint/magface/normalmap/models/best_test_cosine_auc_50.pth'\n",
      "\tSaved best model weights for 'test_cosine_accuracy' at epoch 50 to '/kaggle/working/checkpoint/magface/normalmap/models/best_test_cosine_accuracy_50.pth'\n",
      "\tSaved best model weights for 'test_euclidean_auc' at epoch 50 to '/kaggle/working/checkpoint/magface/normalmap/models/best_test_euclidean_auc_50.pth'\n",
      "\tSaved best model weights for 'test_euclidean_accuracy' at epoch 50 to '/kaggle/working/checkpoint/magface/normalmap/models/best_test_euclidean_accuracy_50.pth'\n"
     ]
    },
    {
     "name": "stderr",
     "output_type": "stream",
     "text": [
      "/usr/lib/python3.10/multiprocessing/popen_fork.py:66: RuntimeWarning: os.fork() was called. os.fork() is incompatible with multithreaded code, and JAX is multithreaded, so this will likely lead to a deadlock.\n",
      "  self.pid = os.fork()\n",
      "/usr/lib/python3.10/multiprocessing/popen_fork.py:66: RuntimeWarning: os.fork() was called. os.fork() is incompatible with multithreaded code, and JAX is multithreaded, so this will likely lead to a deadlock.\n",
      "  self.pid = os.fork()\n"
     ]
    },
    {
     "name": "stdout",
     "output_type": "stream",
     "text": [
      "Epoch 51:\n",
      "\ttrain: loss 0.515 | loss id   0.49 | top_1_acc 0.0259 | top_5_acc 0.1147 | cos_auc: 0.7514 | cos_acc: 0.6674 | eu_auc: 0.7128 | eu_acc: 0.6853\n",
      "\ttest: cos_auc: 0.7523 | cos_acc: 0.7116 | eu_auc: 0.7072 | eu_acc: 0.7141\n",
      "\tSaving model and optimizer state to /kaggle/working/checkpoint/magface/normalmap/models/checkpoint.pth\n",
      "\tEpoch 51: EarlyStopping counter for 'test_cosine_auc': 1/50\n",
      "\tSaved best model weights for 'test_cosine_accuracy' at epoch 51 to '/kaggle/working/checkpoint/magface/normalmap/models/best_test_cosine_accuracy_51.pth'\n",
      "\tEpoch 51: EarlyStopping counter for 'test_euclidean_auc': 1/50\n",
      "\tSaved best model weights for 'test_euclidean_accuracy' at epoch 51 to '/kaggle/working/checkpoint/magface/normalmap/models/best_test_euclidean_accuracy_51.pth'\n"
     ]
    },
    {
     "name": "stderr",
     "output_type": "stream",
     "text": [
      "/usr/lib/python3.10/multiprocessing/popen_fork.py:66: RuntimeWarning: os.fork() was called. os.fork() is incompatible with multithreaded code, and JAX is multithreaded, so this will likely lead to a deadlock.\n",
      "  self.pid = os.fork()\n",
      "/usr/lib/python3.10/multiprocessing/popen_fork.py:66: RuntimeWarning: os.fork() was called. os.fork() is incompatible with multithreaded code, and JAX is multithreaded, so this will likely lead to a deadlock.\n",
      "  self.pid = os.fork()\n"
     ]
    },
    {
     "name": "stdout",
     "output_type": "stream",
     "text": [
      "Epoch 52:\n",
      "\ttrain: loss 0.530 | loss id   0.51 | top_1_acc 0.0157 | top_5_acc 0.1271 | cos_auc: 0.7598 | cos_acc: 0.6902 | eu_auc: 0.7158 | eu_acc: 0.6743\n",
      "\ttest: cos_auc: 0.8029 | cos_acc: 0.7770 | eu_auc: 0.7530 | eu_acc: 0.8061\n",
      "\tSaving model and optimizer state to /kaggle/working/checkpoint/magface/normalmap/models/checkpoint.pth\n",
      "\tSaved best model weights for 'test_cosine_auc' at epoch 52 to '/kaggle/working/checkpoint/magface/normalmap/models/best_test_cosine_auc_52.pth'\n",
      "\tSaved best model weights for 'test_cosine_accuracy' at epoch 52 to '/kaggle/working/checkpoint/magface/normalmap/models/best_test_cosine_accuracy_52.pth'\n",
      "\tSaved best model weights for 'test_euclidean_auc' at epoch 52 to '/kaggle/working/checkpoint/magface/normalmap/models/best_test_euclidean_auc_52.pth'\n",
      "\tSaved best model weights for 'test_euclidean_accuracy' at epoch 52 to '/kaggle/working/checkpoint/magface/normalmap/models/best_test_euclidean_accuracy_52.pth'\n"
     ]
    },
    {
     "name": "stderr",
     "output_type": "stream",
     "text": [
      "/usr/lib/python3.10/multiprocessing/popen_fork.py:66: RuntimeWarning: os.fork() was called. os.fork() is incompatible with multithreaded code, and JAX is multithreaded, so this will likely lead to a deadlock.\n",
      "  self.pid = os.fork()\n",
      "/usr/lib/python3.10/multiprocessing/popen_fork.py:66: RuntimeWarning: os.fork() was called. os.fork() is incompatible with multithreaded code, and JAX is multithreaded, so this will likely lead to a deadlock.\n",
      "  self.pid = os.fork()\n"
     ]
    },
    {
     "name": "stdout",
     "output_type": "stream",
     "text": [
      "Epoch 53:\n",
      "\ttrain: loss 0.530 | loss id   0.51 | top_1_acc 0.0135 | top_5_acc 0.1316 | cos_auc: 0.7446 | cos_acc: 0.6291 | eu_auc: 0.7068 | eu_acc: 0.6432\n",
      "\ttest: cos_auc: 0.7585 | cos_acc: 0.6011 | eu_auc: 0.7235 | eu_acc: 0.6289\n",
      "\tSaving model and optimizer state to /kaggle/working/checkpoint/magface/normalmap/models/checkpoint.pth\n",
      "\tEpoch 53: EarlyStopping counter for 'test_cosine_auc': 1/50\n",
      "\tEpoch 53: EarlyStopping counter for 'test_cosine_accuracy': 1/50\n",
      "\tEpoch 53: EarlyStopping counter for 'test_euclidean_auc': 1/50\n",
      "\tEpoch 53: EarlyStopping counter for 'test_euclidean_accuracy': 1/50\n"
     ]
    },
    {
     "name": "stderr",
     "output_type": "stream",
     "text": [
      "/usr/lib/python3.10/multiprocessing/popen_fork.py:66: RuntimeWarning: os.fork() was called. os.fork() is incompatible with multithreaded code, and JAX is multithreaded, so this will likely lead to a deadlock.\n",
      "  self.pid = os.fork()\n",
      "/usr/lib/python3.10/multiprocessing/popen_fork.py:66: RuntimeWarning: os.fork() was called. os.fork() is incompatible with multithreaded code, and JAX is multithreaded, so this will likely lead to a deadlock.\n",
      "  self.pid = os.fork()\n"
     ]
    },
    {
     "name": "stdout",
     "output_type": "stream",
     "text": [
      "Epoch 54:\n",
      "\ttrain: loss 0.516 | loss id   0.49 | top_1_acc 0.0259 | top_5_acc 0.1226 | cos_auc: 0.7197 | cos_acc: 0.6515 | eu_auc: 0.6917 | eu_acc: 0.6933\n",
      "\ttest: cos_auc: 0.7374 | cos_acc: 0.6377 | eu_auc: 0.6927 | eu_acc: 0.6252\n",
      "\tSaving model and optimizer state to /kaggle/working/checkpoint/magface/normalmap/models/checkpoint.pth\n",
      "\tEpoch 54: EarlyStopping counter for 'test_cosine_auc': 2/50\n",
      "\tEpoch 54: EarlyStopping counter for 'test_cosine_accuracy': 2/50\n",
      "\tEpoch 54: EarlyStopping counter for 'test_euclidean_auc': 2/50\n",
      "\tEpoch 54: EarlyStopping counter for 'test_euclidean_accuracy': 2/50\n"
     ]
    },
    {
     "name": "stderr",
     "output_type": "stream",
     "text": [
      "/usr/lib/python3.10/multiprocessing/popen_fork.py:66: RuntimeWarning: os.fork() was called. os.fork() is incompatible with multithreaded code, and JAX is multithreaded, so this will likely lead to a deadlock.\n",
      "  self.pid = os.fork()\n",
      "/usr/lib/python3.10/multiprocessing/popen_fork.py:66: RuntimeWarning: os.fork() was called. os.fork() is incompatible with multithreaded code, and JAX is multithreaded, so this will likely lead to a deadlock.\n",
      "  self.pid = os.fork()\n"
     ]
    },
    {
     "name": "stdout",
     "output_type": "stream",
     "text": [
      "Epoch 55:\n",
      "\ttrain: loss 0.470 | loss id   0.45 | top_1_acc 0.0191 | top_5_acc 0.1170 | cos_auc: 0.7602 | cos_acc: 0.7476 | eu_auc: 0.7271 | eu_acc: 0.6911\n",
      "\ttest: cos_auc: 0.7733 | cos_acc: 0.7032 | eu_auc: 0.7534 | eu_acc: 0.6464\n",
      "\tSaving model and optimizer state to /kaggle/working/checkpoint/magface/normalmap/models/checkpoint.pth\n",
      "\tEpoch 55: EarlyStopping counter for 'test_cosine_auc': 3/50\n",
      "\tEpoch 55: EarlyStopping counter for 'test_cosine_accuracy': 3/50\n",
      "\tSaved best model weights for 'test_euclidean_auc' at epoch 55 to '/kaggle/working/checkpoint/magface/normalmap/models/best_test_euclidean_auc_55.pth'\n",
      "\tEpoch 55: EarlyStopping counter for 'test_euclidean_accuracy': 3/50\n"
     ]
    },
    {
     "name": "stderr",
     "output_type": "stream",
     "text": [
      "/usr/lib/python3.10/multiprocessing/popen_fork.py:66: RuntimeWarning: os.fork() was called. os.fork() is incompatible with multithreaded code, and JAX is multithreaded, so this will likely lead to a deadlock.\n",
      "  self.pid = os.fork()\n",
      "/usr/lib/python3.10/multiprocessing/popen_fork.py:66: RuntimeWarning: os.fork() was called. os.fork() is incompatible with multithreaded code, and JAX is multithreaded, so this will likely lead to a deadlock.\n",
      "  self.pid = os.fork()\n"
     ]
    },
    {
     "name": "stdout",
     "output_type": "stream",
     "text": [
      "Epoch 56:\n",
      "\ttrain: loss 0.517 | loss id   0.49 | top_1_acc 0.0337 | top_5_acc 0.1451 | cos_auc: 0.7415 | cos_acc: 0.6433 | eu_auc: 0.6799 | eu_acc: 0.7032\n",
      "\ttest: cos_auc: 0.7512 | cos_acc: 0.5554 | eu_auc: 0.6983 | eu_acc: 0.6136\n",
      "\tSaving model and optimizer state to /kaggle/working/checkpoint/magface/normalmap/models/checkpoint.pth\n",
      "\tEpoch 56: EarlyStopping counter for 'test_cosine_auc': 4/50\n",
      "\tEpoch 56: EarlyStopping counter for 'test_cosine_accuracy': 4/50\n",
      "\tEpoch 56: EarlyStopping counter for 'test_euclidean_auc': 1/50\n",
      "\tEpoch 56: EarlyStopping counter for 'test_euclidean_accuracy': 4/50\n"
     ]
    },
    {
     "name": "stderr",
     "output_type": "stream",
     "text": [
      "/usr/lib/python3.10/multiprocessing/popen_fork.py:66: RuntimeWarning: os.fork() was called. os.fork() is incompatible with multithreaded code, and JAX is multithreaded, so this will likely lead to a deadlock.\n",
      "  self.pid = os.fork()\n",
      "/usr/lib/python3.10/multiprocessing/popen_fork.py:66: RuntimeWarning: os.fork() was called. os.fork() is incompatible with multithreaded code, and JAX is multithreaded, so this will likely lead to a deadlock.\n",
      "  self.pid = os.fork()\n"
     ]
    },
    {
     "name": "stdout",
     "output_type": "stream",
     "text": [
      "Epoch 57:\n",
      "\ttrain: loss 0.488 | loss id   0.46 | top_1_acc 0.0326 | top_5_acc 0.1350 | cos_auc: 0.7748 | cos_acc: 0.6593 | eu_auc: 0.7298 | eu_acc: 0.6713\n",
      "\ttest: cos_auc: 0.7618 | cos_acc: 0.7172 | eu_auc: 0.7322 | eu_acc: 0.6533\n",
      "\tSaving model and optimizer state to /kaggle/working/checkpoint/magface/normalmap/models/checkpoint.pth\n",
      "\tEpoch 57: EarlyStopping counter for 'test_cosine_auc': 5/50\n",
      "\tEpoch 57: EarlyStopping counter for 'test_cosine_accuracy': 5/50\n",
      "\tEpoch 57: EarlyStopping counter for 'test_euclidean_auc': 2/50\n",
      "\tEpoch 57: EarlyStopping counter for 'test_euclidean_accuracy': 5/50\n"
     ]
    },
    {
     "name": "stderr",
     "output_type": "stream",
     "text": [
      "/usr/lib/python3.10/multiprocessing/popen_fork.py:66: RuntimeWarning: os.fork() was called. os.fork() is incompatible with multithreaded code, and JAX is multithreaded, so this will likely lead to a deadlock.\n",
      "  self.pid = os.fork()\n",
      "/usr/lib/python3.10/multiprocessing/popen_fork.py:66: RuntimeWarning: os.fork() was called. os.fork() is incompatible with multithreaded code, and JAX is multithreaded, so this will likely lead to a deadlock.\n",
      "  self.pid = os.fork()\n"
     ]
    },
    {
     "name": "stdout",
     "output_type": "stream",
     "text": [
      "Epoch 58:\n",
      "\ttrain: loss 0.529 | loss id   0.51 | top_1_acc 0.0236 | top_5_acc 0.1372 | cos_auc: 0.7167 | cos_acc: 0.6197 | eu_auc: 0.6587 | eu_acc: 0.5711\n",
      "\ttest: cos_auc: 0.7397 | cos_acc: 0.7124 | eu_auc: 0.6787 | eu_acc: 0.4941\n",
      "\tSaving model and optimizer state to /kaggle/working/checkpoint/magface/normalmap/models/checkpoint.pth\n",
      "\tEpoch 58: EarlyStopping counter for 'test_cosine_auc': 6/50\n",
      "\tEpoch 58: EarlyStopping counter for 'test_cosine_accuracy': 6/50\n",
      "\tEpoch 58: EarlyStopping counter for 'test_euclidean_auc': 3/50\n",
      "\tEpoch 58: EarlyStopping counter for 'test_euclidean_accuracy': 6/50\n"
     ]
    },
    {
     "name": "stderr",
     "output_type": "stream",
     "text": [
      "/usr/lib/python3.10/multiprocessing/popen_fork.py:66: RuntimeWarning: os.fork() was called. os.fork() is incompatible with multithreaded code, and JAX is multithreaded, so this will likely lead to a deadlock.\n",
      "  self.pid = os.fork()\n",
      "/usr/lib/python3.10/multiprocessing/popen_fork.py:66: RuntimeWarning: os.fork() was called. os.fork() is incompatible with multithreaded code, and JAX is multithreaded, so this will likely lead to a deadlock.\n",
      "  self.pid = os.fork()\n"
     ]
    },
    {
     "name": "stdout",
     "output_type": "stream",
     "text": [
      "Epoch 59:\n",
      "\ttrain: loss 0.476 | loss id   0.45 | top_1_acc 0.0247 | top_5_acc 0.1395 | cos_auc: 0.7225 | cos_acc: 0.6588 | eu_auc: 0.6943 | eu_acc: 0.6651\n",
      "\ttest: cos_auc: 0.7611 | cos_acc: 0.5992 | eu_auc: 0.7364 | eu_acc: 0.7120\n",
      "\tSaving model and optimizer state to /kaggle/working/checkpoint/magface/normalmap/models/checkpoint.pth\n",
      "\tEpoch 59: EarlyStopping counter for 'test_cosine_auc': 7/50\n",
      "\tEpoch 59: EarlyStopping counter for 'test_cosine_accuracy': 7/50\n",
      "\tEpoch 59: EarlyStopping counter for 'test_euclidean_auc': 4/50\n",
      "\tEpoch 59: EarlyStopping counter for 'test_euclidean_accuracy': 7/50\n"
     ]
    },
    {
     "name": "stderr",
     "output_type": "stream",
     "text": [
      "/usr/lib/python3.10/multiprocessing/popen_fork.py:66: RuntimeWarning: os.fork() was called. os.fork() is incompatible with multithreaded code, and JAX is multithreaded, so this will likely lead to a deadlock.\n",
      "  self.pid = os.fork()\n",
      "/usr/lib/python3.10/multiprocessing/popen_fork.py:66: RuntimeWarning: os.fork() was called. os.fork() is incompatible with multithreaded code, and JAX is multithreaded, so this will likely lead to a deadlock.\n",
      "  self.pid = os.fork()\n"
     ]
    },
    {
     "name": "stdout",
     "output_type": "stream",
     "text": [
      "Epoch 60:\n",
      "\ttrain: loss 0.482 | loss id   0.46 | top_1_acc 0.0337 | top_5_acc 0.1451 | cos_auc: 0.7914 | cos_acc: 0.7140 | eu_auc: 0.7436 | eu_acc: 0.6856\n",
      "\ttest: cos_auc: 0.7853 | cos_acc: 0.7586 | eu_auc: 0.7772 | eu_acc: 0.6228\n",
      "\tSaving model and optimizer state to /kaggle/working/checkpoint/magface/normalmap/models/checkpoint.pth\n",
      "\tEpoch 60: EarlyStopping counter for 'test_cosine_auc': 8/50\n",
      "\tEpoch 60: EarlyStopping counter for 'test_cosine_accuracy': 8/50\n",
      "\tSaved best model weights for 'test_euclidean_auc' at epoch 60 to '/kaggle/working/checkpoint/magface/normalmap/models/best_test_euclidean_auc_60.pth'\n",
      "\tEpoch 60: EarlyStopping counter for 'test_euclidean_accuracy': 8/50\n"
     ]
    },
    {
     "name": "stderr",
     "output_type": "stream",
     "text": [
      "/usr/lib/python3.10/multiprocessing/popen_fork.py:66: RuntimeWarning: os.fork() was called. os.fork() is incompatible with multithreaded code, and JAX is multithreaded, so this will likely lead to a deadlock.\n",
      "  self.pid = os.fork()\n",
      "/usr/lib/python3.10/multiprocessing/popen_fork.py:66: RuntimeWarning: os.fork() was called. os.fork() is incompatible with multithreaded code, and JAX is multithreaded, so this will likely lead to a deadlock.\n",
      "  self.pid = os.fork()\n"
     ]
    },
    {
     "name": "stdout",
     "output_type": "stream",
     "text": [
      "Epoch 61:\n",
      "\ttrain: loss 0.497 | loss id   0.47 | top_1_acc 0.0259 | top_5_acc 0.1406 | cos_auc: 0.7028 | cos_acc: 0.5538 | eu_auc: 0.6531 | eu_acc: 0.6450\n",
      "\ttest: cos_auc: 0.7065 | cos_acc: 0.6829 | eu_auc: 0.6414 | eu_acc: 0.8183\n",
      "\tSaving model and optimizer state to /kaggle/working/checkpoint/magface/normalmap/models/checkpoint.pth\n",
      "\tEpoch 61: EarlyStopping counter for 'test_cosine_auc': 9/50\n",
      "\tEpoch 61: EarlyStopping counter for 'test_cosine_accuracy': 9/50\n",
      "\tEpoch 61: EarlyStopping counter for 'test_euclidean_auc': 1/50\n",
      "\tSaved best model weights for 'test_euclidean_accuracy' at epoch 61 to '/kaggle/working/checkpoint/magface/normalmap/models/best_test_euclidean_accuracy_61.pth'\n"
     ]
    },
    {
     "name": "stderr",
     "output_type": "stream",
     "text": [
      "/usr/lib/python3.10/multiprocessing/popen_fork.py:66: RuntimeWarning: os.fork() was called. os.fork() is incompatible with multithreaded code, and JAX is multithreaded, so this will likely lead to a deadlock.\n",
      "  self.pid = os.fork()\n",
      "/usr/lib/python3.10/multiprocessing/popen_fork.py:66: RuntimeWarning: os.fork() was called. os.fork() is incompatible with multithreaded code, and JAX is multithreaded, so this will likely lead to a deadlock.\n",
      "  self.pid = os.fork()\n"
     ]
    },
    {
     "name": "stdout",
     "output_type": "stream",
     "text": [
      "Epoch 62:\n",
      "\ttrain: loss 0.452 | loss id   0.43 | top_1_acc 0.0315 | top_5_acc 0.1620 | cos_auc: 0.7529 | cos_acc: 0.6257 | eu_auc: 0.6811 | eu_acc: 0.7568\n",
      "\ttest: cos_auc: 0.7457 | cos_acc: 0.6124 | eu_auc: 0.7061 | eu_acc: 0.5395\n",
      "\tSaving model and optimizer state to /kaggle/working/checkpoint/magface/normalmap/models/checkpoint.pth\n",
      "\tEpoch 62: EarlyStopping counter for 'test_cosine_auc': 10/50\n",
      "\tEpoch 62: EarlyStopping counter for 'test_cosine_accuracy': 10/50\n",
      "\tEpoch 62: EarlyStopping counter for 'test_euclidean_auc': 2/50\n",
      "\tEpoch 62: EarlyStopping counter for 'test_euclidean_accuracy': 1/50\n"
     ]
    },
    {
     "name": "stderr",
     "output_type": "stream",
     "text": [
      "/usr/lib/python3.10/multiprocessing/popen_fork.py:66: RuntimeWarning: os.fork() was called. os.fork() is incompatible with multithreaded code, and JAX is multithreaded, so this will likely lead to a deadlock.\n",
      "  self.pid = os.fork()\n",
      "/usr/lib/python3.10/multiprocessing/popen_fork.py:66: RuntimeWarning: os.fork() was called. os.fork() is incompatible with multithreaded code, and JAX is multithreaded, so this will likely lead to a deadlock.\n",
      "  self.pid = os.fork()\n"
     ]
    },
    {
     "name": "stdout",
     "output_type": "stream",
     "text": [
      "Epoch 63:\n",
      "\ttrain: loss 0.463 | loss id   0.44 | top_1_acc 0.0484 | top_5_acc 0.1856 | cos_auc: 0.8009 | cos_acc: 0.7115 | eu_auc: 0.7181 | eu_acc: 0.7961\n",
      "\ttest: cos_auc: 0.8153 | cos_acc: 0.7874 | eu_auc: 0.7559 | eu_acc: 0.6381\n",
      "\tSaving model and optimizer state to /kaggle/working/checkpoint/magface/normalmap/models/checkpoint.pth\n",
      "\tSaved best model weights for 'test_cosine_auc' at epoch 63 to '/kaggle/working/checkpoint/magface/normalmap/models/best_test_cosine_auc_63.pth'\n",
      "\tSaved best model weights for 'test_cosine_accuracy' at epoch 63 to '/kaggle/working/checkpoint/magface/normalmap/models/best_test_cosine_accuracy_63.pth'\n",
      "\tEpoch 63: EarlyStopping counter for 'test_euclidean_auc': 3/50\n",
      "\tEpoch 63: EarlyStopping counter for 'test_euclidean_accuracy': 2/50\n"
     ]
    },
    {
     "name": "stderr",
     "output_type": "stream",
     "text": [
      "/usr/lib/python3.10/multiprocessing/popen_fork.py:66: RuntimeWarning: os.fork() was called. os.fork() is incompatible with multithreaded code, and JAX is multithreaded, so this will likely lead to a deadlock.\n",
      "  self.pid = os.fork()\n",
      "/usr/lib/python3.10/multiprocessing/popen_fork.py:66: RuntimeWarning: os.fork() was called. os.fork() is incompatible with multithreaded code, and JAX is multithreaded, so this will likely lead to a deadlock.\n",
      "  self.pid = os.fork()\n"
     ]
    },
    {
     "name": "stdout",
     "output_type": "stream",
     "text": [
      "Epoch 64:\n",
      "\ttrain: loss 0.445 | loss id   0.42 | top_1_acc 0.0450 | top_5_acc 0.1969 | cos_auc: 0.7806 | cos_acc: 0.7708 | eu_auc: 0.7174 | eu_acc: 0.7260\n",
      "\ttest: cos_auc: 0.7850 | cos_acc: 0.7806 | eu_auc: 0.7573 | eu_acc: 0.7047\n",
      "\tSaving model and optimizer state to /kaggle/working/checkpoint/magface/normalmap/models/checkpoint.pth\n",
      "\tEpoch 64: EarlyStopping counter for 'test_cosine_auc': 1/50\n",
      "\tEpoch 64: EarlyStopping counter for 'test_cosine_accuracy': 1/50\n",
      "\tEpoch 64: EarlyStopping counter for 'test_euclidean_auc': 4/50\n",
      "\tEpoch 64: EarlyStopping counter for 'test_euclidean_accuracy': 3/50\n"
     ]
    },
    {
     "name": "stderr",
     "output_type": "stream",
     "text": [
      "/usr/lib/python3.10/multiprocessing/popen_fork.py:66: RuntimeWarning: os.fork() was called. os.fork() is incompatible with multithreaded code, and JAX is multithreaded, so this will likely lead to a deadlock.\n",
      "  self.pid = os.fork()\n",
      "/usr/lib/python3.10/multiprocessing/popen_fork.py:66: RuntimeWarning: os.fork() was called. os.fork() is incompatible with multithreaded code, and JAX is multithreaded, so this will likely lead to a deadlock.\n",
      "  self.pid = os.fork()\n",
      "/usr/lib/python3.10/multiprocessing/popen_fork.py:66: RuntimeWarning: os.fork() was called. os.fork() is incompatible with multithreaded code, and JAX is multithreaded, so this will likely lead to a deadlock.\n",
      "  self.pid = os.fork()\n"
     ]
    },
    {
     "name": "stdout",
     "output_type": "stream",
     "text": [
      "Epoch 65:\n",
      "\ttrain: loss 0.467 | loss id   0.44 | top_1_acc 0.0259 | top_5_acc 0.1687 | cos_auc: 0.7086 | cos_acc: 0.7255 | eu_auc: 0.6644 | eu_acc: 0.6019\n",
      "\ttest: cos_auc: 0.7084 | cos_acc: 0.7244 | eu_auc: 0.6392 | eu_acc: 0.6471\n",
      "\tSaving model and optimizer state to /kaggle/working/checkpoint/magface/normalmap/models/checkpoint.pth\n",
      "\tEpoch 65: EarlyStopping counter for 'test_cosine_auc': 2/50\n",
      "\tEpoch 65: EarlyStopping counter for 'test_cosine_accuracy': 2/50\n",
      "\tEpoch 65: EarlyStopping counter for 'test_euclidean_auc': 5/50\n",
      "\tEpoch 65: EarlyStopping counter for 'test_euclidean_accuracy': 4/50\n"
     ]
    },
    {
     "name": "stderr",
     "output_type": "stream",
     "text": [
      "/usr/lib/python3.10/multiprocessing/popen_fork.py:66: RuntimeWarning: os.fork() was called. os.fork() is incompatible with multithreaded code, and JAX is multithreaded, so this will likely lead to a deadlock.\n",
      "  self.pid = os.fork()\n",
      "/usr/lib/python3.10/multiprocessing/popen_fork.py:66: RuntimeWarning: os.fork() was called. os.fork() is incompatible with multithreaded code, and JAX is multithreaded, so this will likely lead to a deadlock.\n",
      "  self.pid = os.fork()\n"
     ]
    },
    {
     "name": "stdout",
     "output_type": "stream",
     "text": [
      "Epoch 66:\n",
      "\ttrain: loss 0.430 | loss id   0.41 | top_1_acc 0.0382 | top_5_acc 0.1901 | cos_auc: 0.8010 | cos_acc: 0.6716 | eu_auc: 0.7212 | eu_acc: 0.6572\n",
      "\ttest: cos_auc: 0.7648 | cos_acc: 0.7989 | eu_auc: 0.7239 | eu_acc: 0.7005\n",
      "\tSaving model and optimizer state to /kaggle/working/checkpoint/magface/normalmap/models/checkpoint.pth\n",
      "\tEpoch 66: EarlyStopping counter for 'test_cosine_auc': 3/50\n",
      "\tSaved best model weights for 'test_cosine_accuracy' at epoch 66 to '/kaggle/working/checkpoint/magface/normalmap/models/best_test_cosine_accuracy_66.pth'\n",
      "\tEpoch 66: EarlyStopping counter for 'test_euclidean_auc': 6/50\n",
      "\tEpoch 66: EarlyStopping counter for 'test_euclidean_accuracy': 5/50\n"
     ]
    },
    {
     "name": "stderr",
     "output_type": "stream",
     "text": [
      "/usr/lib/python3.10/multiprocessing/popen_fork.py:66: RuntimeWarning: os.fork() was called. os.fork() is incompatible with multithreaded code, and JAX is multithreaded, so this will likely lead to a deadlock.\n",
      "  self.pid = os.fork()\n",
      "/usr/lib/python3.10/multiprocessing/popen_fork.py:66: RuntimeWarning: os.fork() was called. os.fork() is incompatible with multithreaded code, and JAX is multithreaded, so this will likely lead to a deadlock.\n",
      "  self.pid = os.fork()\n"
     ]
    },
    {
     "name": "stdout",
     "output_type": "stream",
     "text": [
      "Epoch 67:\n",
      "\ttrain: loss 0.474 | loss id   0.45 | top_1_acc 0.0529 | top_5_acc 0.2036 | cos_auc: 0.8169 | cos_acc: 0.7365 | eu_auc: 0.7431 | eu_acc: 0.6891\n",
      "\ttest: cos_auc: 0.8243 | cos_acc: 0.6817 | eu_auc: 0.7745 | eu_acc: 0.7974\n",
      "\tSaving model and optimizer state to /kaggle/working/checkpoint/magface/normalmap/models/checkpoint.pth\n",
      "\tSaved best model weights for 'test_cosine_auc' at epoch 67 to '/kaggle/working/checkpoint/magface/normalmap/models/best_test_cosine_auc_67.pth'\n",
      "\tEpoch 67: EarlyStopping counter for 'test_cosine_accuracy': 1/50\n",
      "\tEpoch 67: EarlyStopping counter for 'test_euclidean_auc': 7/50\n",
      "\tEpoch 67: EarlyStopping counter for 'test_euclidean_accuracy': 6/50\n"
     ]
    },
    {
     "name": "stderr",
     "output_type": "stream",
     "text": [
      "/usr/lib/python3.10/multiprocessing/popen_fork.py:66: RuntimeWarning: os.fork() was called. os.fork() is incompatible with multithreaded code, and JAX is multithreaded, so this will likely lead to a deadlock.\n",
      "  self.pid = os.fork()\n",
      "/usr/lib/python3.10/multiprocessing/popen_fork.py:66: RuntimeWarning: os.fork() was called. os.fork() is incompatible with multithreaded code, and JAX is multithreaded, so this will likely lead to a deadlock.\n",
      "  self.pid = os.fork()\n"
     ]
    },
    {
     "name": "stdout",
     "output_type": "stream",
     "text": [
      "Epoch 68:\n",
      "\ttrain: loss 0.486 | loss id   0.46 | top_1_acc 0.0562 | top_5_acc 0.2340 | cos_auc: 0.8002 | cos_acc: 0.6909 | eu_auc: 0.6978 | eu_acc: 0.8103\n",
      "\ttest: cos_auc: 0.8050 | cos_acc: 0.7947 | eu_auc: 0.7114 | eu_acc: 0.7384\n",
      "\tSaving model and optimizer state to /kaggle/working/checkpoint/magface/normalmap/models/checkpoint.pth\n",
      "\tEpoch 68: EarlyStopping counter for 'test_cosine_auc': 1/50\n",
      "\tEpoch 68: EarlyStopping counter for 'test_cosine_accuracy': 2/50\n",
      "\tEpoch 68: EarlyStopping counter for 'test_euclidean_auc': 8/50\n",
      "\tEpoch 68: EarlyStopping counter for 'test_euclidean_accuracy': 7/50\n"
     ]
    },
    {
     "name": "stderr",
     "output_type": "stream",
     "text": [
      "/usr/lib/python3.10/multiprocessing/popen_fork.py:66: RuntimeWarning: os.fork() was called. os.fork() is incompatible with multithreaded code, and JAX is multithreaded, so this will likely lead to a deadlock.\n",
      "  self.pid = os.fork()\n",
      "/usr/lib/python3.10/multiprocessing/popen_fork.py:66: RuntimeWarning: os.fork() was called. os.fork() is incompatible with multithreaded code, and JAX is multithreaded, so this will likely lead to a deadlock.\n",
      "  self.pid = os.fork()\n"
     ]
    },
    {
     "name": "stdout",
     "output_type": "stream",
     "text": [
      "Epoch 69:\n",
      "\ttrain: loss 0.476 | loss id   0.45 | top_1_acc 0.0619 | top_5_acc 0.2430 | cos_auc: 0.8133 | cos_acc: 0.6795 | eu_auc: 0.7262 | eu_acc: 0.7449\n",
      "\ttest: cos_auc: 0.8059 | cos_acc: 0.6377 | eu_auc: 0.7815 | eu_acc: 0.7762\n",
      "\tSaving model and optimizer state to /kaggle/working/checkpoint/magface/normalmap/models/checkpoint.pth\n",
      "\tEpoch 69: EarlyStopping counter for 'test_cosine_auc': 2/50\n",
      "\tEpoch 69: EarlyStopping counter for 'test_cosine_accuracy': 3/50\n",
      "\tSaved best model weights for 'test_euclidean_auc' at epoch 69 to '/kaggle/working/checkpoint/magface/normalmap/models/best_test_euclidean_auc_69.pth'\n",
      "\tEpoch 69: EarlyStopping counter for 'test_euclidean_accuracy': 8/50\n"
     ]
    },
    {
     "name": "stderr",
     "output_type": "stream",
     "text": [
      "/usr/lib/python3.10/multiprocessing/popen_fork.py:66: RuntimeWarning: os.fork() was called. os.fork() is incompatible with multithreaded code, and JAX is multithreaded, so this will likely lead to a deadlock.\n",
      "  self.pid = os.fork()\n",
      "/usr/lib/python3.10/multiprocessing/popen_fork.py:66: RuntimeWarning: os.fork() was called. os.fork() is incompatible with multithreaded code, and JAX is multithreaded, so this will likely lead to a deadlock.\n",
      "  self.pid = os.fork()\n"
     ]
    },
    {
     "name": "stdout",
     "output_type": "stream",
     "text": [
      "Epoch 70:\n",
      "\ttrain: loss 0.440 | loss id   0.42 | top_1_acc 0.0641 | top_5_acc 0.2475 | cos_auc: 0.8187 | cos_acc: 0.7127 | eu_auc: 0.7273 | eu_acc: 0.7507\n",
      "\ttest: cos_auc: 0.8081 | cos_acc: 0.7284 | eu_auc: 0.7391 | eu_acc: 0.6660\n",
      "\tSaving model and optimizer state to /kaggle/working/checkpoint/magface/normalmap/models/checkpoint.pth\n",
      "\tEpoch 70: EarlyStopping counter for 'test_cosine_auc': 3/50\n",
      "\tEpoch 70: EarlyStopping counter for 'test_cosine_accuracy': 4/50\n",
      "\tEpoch 70: EarlyStopping counter for 'test_euclidean_auc': 1/50\n",
      "\tEpoch 70: EarlyStopping counter for 'test_euclidean_accuracy': 9/50\n"
     ]
    },
    {
     "name": "stderr",
     "output_type": "stream",
     "text": [
      "/usr/lib/python3.10/multiprocessing/popen_fork.py:66: RuntimeWarning: os.fork() was called. os.fork() is incompatible with multithreaded code, and JAX is multithreaded, so this will likely lead to a deadlock.\n",
      "  self.pid = os.fork()\n",
      "/usr/lib/python3.10/multiprocessing/popen_fork.py:66: RuntimeWarning: os.fork() was called. os.fork() is incompatible with multithreaded code, and JAX is multithreaded, so this will likely lead to a deadlock.\n",
      "  self.pid = os.fork()\n"
     ]
    },
    {
     "name": "stdout",
     "output_type": "stream",
     "text": [
      "Epoch 71:\n",
      "\ttrain: loss 0.477 | loss id   0.45 | top_1_acc 0.0855 | top_5_acc 0.2778 | cos_auc: 0.8269 | cos_acc: 0.7233 | eu_auc: 0.7433 | eu_acc: 0.7451\n",
      "\ttest: cos_auc: 0.8203 | cos_acc: 0.7061 | eu_auc: 0.7656 | eu_acc: 0.8002\n",
      "\tSaving model and optimizer state to /kaggle/working/checkpoint/magface/normalmap/models/checkpoint.pth\n",
      "\tEpoch 71: EarlyStopping counter for 'test_cosine_auc': 4/50\n",
      "\tEpoch 71: EarlyStopping counter for 'test_cosine_accuracy': 5/50\n",
      "\tEpoch 71: EarlyStopping counter for 'test_euclidean_auc': 2/50\n",
      "\tEpoch 71: EarlyStopping counter for 'test_euclidean_accuracy': 10/50\n"
     ]
    },
    {
     "name": "stderr",
     "output_type": "stream",
     "text": [
      "/usr/lib/python3.10/multiprocessing/popen_fork.py:66: RuntimeWarning: os.fork() was called. os.fork() is incompatible with multithreaded code, and JAX is multithreaded, so this will likely lead to a deadlock.\n",
      "  self.pid = os.fork()\n",
      "/usr/lib/python3.10/multiprocessing/popen_fork.py:66: RuntimeWarning: os.fork() was called. os.fork() is incompatible with multithreaded code, and JAX is multithreaded, so this will likely lead to a deadlock.\n",
      "  self.pid = os.fork()\n"
     ]
    },
    {
     "name": "stdout",
     "output_type": "stream",
     "text": [
      "Epoch 72:\n",
      "\ttrain: loss 0.446 | loss id   0.42 | top_1_acc 0.0664 | top_5_acc 0.2756 | cos_auc: 0.8243 | cos_acc: 0.7477 | eu_auc: 0.7396 | eu_acc: 0.7300\n",
      "\ttest: cos_auc: 0.8282 | cos_acc: 0.6669 | eu_auc: 0.7736 | eu_acc: 0.8246\n",
      "\tSaving model and optimizer state to /kaggle/working/checkpoint/magface/normalmap/models/checkpoint.pth\n",
      "\tSaved best model weights for 'test_cosine_auc' at epoch 72 to '/kaggle/working/checkpoint/magface/normalmap/models/best_test_cosine_auc_72.pth'\n",
      "\tEpoch 72: EarlyStopping counter for 'test_cosine_accuracy': 6/50\n",
      "\tEpoch 72: EarlyStopping counter for 'test_euclidean_auc': 3/50\n",
      "\tSaved best model weights for 'test_euclidean_accuracy' at epoch 72 to '/kaggle/working/checkpoint/magface/normalmap/models/best_test_euclidean_accuracy_72.pth'\n"
     ]
    },
    {
     "name": "stderr",
     "output_type": "stream",
     "text": [
      "/usr/lib/python3.10/multiprocessing/popen_fork.py:66: RuntimeWarning: os.fork() was called. os.fork() is incompatible with multithreaded code, and JAX is multithreaded, so this will likely lead to a deadlock.\n",
      "  self.pid = os.fork()\n",
      "/usr/lib/python3.10/multiprocessing/popen_fork.py:66: RuntimeWarning: os.fork() was called. os.fork() is incompatible with multithreaded code, and JAX is multithreaded, so this will likely lead to a deadlock.\n",
      "  self.pid = os.fork()\n"
     ]
    },
    {
     "name": "stdout",
     "output_type": "stream",
     "text": [
      "Epoch 73:\n",
      "\ttrain: loss 0.444 | loss id   0.42 | top_1_acc 0.0652 | top_5_acc 0.2913 | cos_auc: 0.8383 | cos_acc: 0.6962 | eu_auc: 0.7431 | eu_acc: 0.7251\n",
      "\ttest: cos_auc: 0.8186 | cos_acc: 0.7032 | eu_auc: 0.7697 | eu_acc: 0.8363\n",
      "\tSaving model and optimizer state to /kaggle/working/checkpoint/magface/normalmap/models/checkpoint.pth\n",
      "\tEpoch 73: EarlyStopping counter for 'test_cosine_auc': 1/50\n",
      "\tEpoch 73: EarlyStopping counter for 'test_cosine_accuracy': 7/50\n",
      "\tEpoch 73: EarlyStopping counter for 'test_euclidean_auc': 4/50\n",
      "\tSaved best model weights for 'test_euclidean_accuracy' at epoch 73 to '/kaggle/working/checkpoint/magface/normalmap/models/best_test_euclidean_accuracy_73.pth'\n"
     ]
    },
    {
     "name": "stderr",
     "output_type": "stream",
     "text": [
      "/usr/lib/python3.10/multiprocessing/popen_fork.py:66: RuntimeWarning: os.fork() was called. os.fork() is incompatible with multithreaded code, and JAX is multithreaded, so this will likely lead to a deadlock.\n",
      "  self.pid = os.fork()\n",
      "/usr/lib/python3.10/multiprocessing/popen_fork.py:66: RuntimeWarning: os.fork() was called. os.fork() is incompatible with multithreaded code, and JAX is multithreaded, so this will likely lead to a deadlock.\n",
      "  self.pid = os.fork()\n"
     ]
    },
    {
     "name": "stdout",
     "output_type": "stream",
     "text": [
      "Epoch 74:\n",
      "\ttrain: loss 0.438 | loss id   0.41 | top_1_acc 0.0844 | top_5_acc 0.3105 | cos_auc: 0.8360 | cos_acc: 0.7505 | eu_auc: 0.7385 | eu_acc: 0.6856\n",
      "\ttest: cos_auc: 0.8160 | cos_acc: 0.7300 | eu_auc: 0.7663 | eu_acc: 0.8329\n",
      "\tSaving model and optimizer state to /kaggle/working/checkpoint/magface/normalmap/models/checkpoint.pth\n",
      "\tEpoch 74: EarlyStopping counter for 'test_cosine_auc': 2/50\n",
      "\tEpoch 74: EarlyStopping counter for 'test_cosine_accuracy': 8/50\n",
      "\tEpoch 74: EarlyStopping counter for 'test_euclidean_auc': 5/50\n",
      "\tEpoch 74: EarlyStopping counter for 'test_euclidean_accuracy': 1/50\n"
     ]
    },
    {
     "name": "stderr",
     "output_type": "stream",
     "text": [
      "/usr/lib/python3.10/multiprocessing/popen_fork.py:66: RuntimeWarning: os.fork() was called. os.fork() is incompatible with multithreaded code, and JAX is multithreaded, so this will likely lead to a deadlock.\n",
      "  self.pid = os.fork()\n",
      "/usr/lib/python3.10/multiprocessing/popen_fork.py:66: RuntimeWarning: os.fork() was called. os.fork() is incompatible with multithreaded code, and JAX is multithreaded, so this will likely lead to a deadlock.\n",
      "  self.pid = os.fork()\n"
     ]
    },
    {
     "name": "stdout",
     "output_type": "stream",
     "text": [
      "Epoch 75:\n",
      "\ttrain: loss 0.450 | loss id   0.43 | top_1_acc 0.0799 | top_5_acc 0.3262 | cos_auc: 0.8380 | cos_acc: 0.7018 | eu_auc: 0.7465 | eu_acc: 0.7364\n",
      "\ttest: cos_auc: 0.8186 | cos_acc: 0.7468 | eu_auc: 0.7727 | eu_acc: 0.8167\n",
      "\tSaving model and optimizer state to /kaggle/working/checkpoint/magface/normalmap/models/checkpoint.pth\n",
      "\tEpoch 75: EarlyStopping counter for 'test_cosine_auc': 3/50\n",
      "\tEpoch 75: EarlyStopping counter for 'test_cosine_accuracy': 9/50\n",
      "\tEpoch 75: EarlyStopping counter for 'test_euclidean_auc': 6/50\n",
      "\tEpoch 75: EarlyStopping counter for 'test_euclidean_accuracy': 2/50\n"
     ]
    },
    {
     "name": "stderr",
     "output_type": "stream",
     "text": [
      "/usr/lib/python3.10/multiprocessing/popen_fork.py:66: RuntimeWarning: os.fork() was called. os.fork() is incompatible with multithreaded code, and JAX is multithreaded, so this will likely lead to a deadlock.\n",
      "  self.pid = os.fork()\n",
      "/usr/lib/python3.10/multiprocessing/popen_fork.py:66: RuntimeWarning: os.fork() was called. os.fork() is incompatible with multithreaded code, and JAX is multithreaded, so this will likely lead to a deadlock.\n",
      "  self.pid = os.fork()\n"
     ]
    },
    {
     "name": "stdout",
     "output_type": "stream",
     "text": [
      "Epoch 76:\n",
      "\ttrain: loss 0.463 | loss id   0.44 | top_1_acc 0.0911 | top_5_acc 0.3465 | cos_auc: 0.8385 | cos_acc: 0.7419 | eu_auc: 0.7394 | eu_acc: 0.7438\n",
      "\ttest: cos_auc: 0.8130 | cos_acc: 0.6196 | eu_auc: 0.7675 | eu_acc: 0.7958\n",
      "\tSaving model and optimizer state to /kaggle/working/checkpoint/magface/normalmap/models/checkpoint.pth\n",
      "\tEpoch 76: EarlyStopping counter for 'test_cosine_auc': 4/50\n",
      "\tEpoch 76: EarlyStopping counter for 'test_cosine_accuracy': 10/50\n",
      "\tEpoch 76: EarlyStopping counter for 'test_euclidean_auc': 7/50\n",
      "\tEpoch 76: EarlyStopping counter for 'test_euclidean_accuracy': 3/50\n"
     ]
    },
    {
     "name": "stderr",
     "output_type": "stream",
     "text": [
      "/usr/lib/python3.10/multiprocessing/popen_fork.py:66: RuntimeWarning: os.fork() was called. os.fork() is incompatible with multithreaded code, and JAX is multithreaded, so this will likely lead to a deadlock.\n",
      "  self.pid = os.fork()\n",
      "/usr/lib/python3.10/multiprocessing/popen_fork.py:66: RuntimeWarning: os.fork() was called. os.fork() is incompatible with multithreaded code, and JAX is multithreaded, so this will likely lead to a deadlock.\n",
      "  self.pid = os.fork()\n"
     ]
    },
    {
     "name": "stdout",
     "output_type": "stream",
     "text": [
      "Epoch 77:\n",
      "\ttrain: loss 0.433 | loss id   0.41 | top_1_acc 0.0945 | top_5_acc 0.3251 | cos_auc: 0.8441 | cos_acc: 0.7678 | eu_auc: 0.7530 | eu_acc: 0.7342\n",
      "\ttest: cos_auc: 0.8138 | cos_acc: 0.7318 | eu_auc: 0.7752 | eu_acc: 0.8329\n",
      "\tSaving model and optimizer state to /kaggle/working/checkpoint/magface/normalmap/models/checkpoint.pth\n",
      "\tEpoch 77: EarlyStopping counter for 'test_cosine_auc': 5/50\n",
      "\tEpoch 77: EarlyStopping counter for 'test_cosine_accuracy': 11/50\n",
      "\tEpoch 77: EarlyStopping counter for 'test_euclidean_auc': 8/50\n",
      "\tEpoch 77: EarlyStopping counter for 'test_euclidean_accuracy': 4/50\n"
     ]
    },
    {
     "name": "stderr",
     "output_type": "stream",
     "text": [
      "/usr/lib/python3.10/multiprocessing/popen_fork.py:66: RuntimeWarning: os.fork() was called. os.fork() is incompatible with multithreaded code, and JAX is multithreaded, so this will likely lead to a deadlock.\n",
      "  self.pid = os.fork()\n",
      "/usr/lib/python3.10/multiprocessing/popen_fork.py:66: RuntimeWarning: os.fork() was called. os.fork() is incompatible with multithreaded code, and JAX is multithreaded, so this will likely lead to a deadlock.\n",
      "  self.pid = os.fork()\n"
     ]
    },
    {
     "name": "stdout",
     "output_type": "stream",
     "text": [
      "Epoch 78:\n",
      "\ttrain: loss 0.475 | loss id   0.45 | top_1_acc 0.1147 | top_5_acc 0.3510 | cos_auc: 0.8459 | cos_acc: 0.7277 | eu_auc: 0.7468 | eu_acc: 0.7597\n",
      "\ttest: cos_auc: 0.8156 | cos_acc: 0.7186 | eu_auc: 0.7759 | eu_acc: 0.8629\n",
      "\tSaving model and optimizer state to /kaggle/working/checkpoint/magface/normalmap/models/checkpoint.pth\n",
      "\tEpoch 78: EarlyStopping counter for 'test_cosine_auc': 6/50\n",
      "\tEpoch 78: EarlyStopping counter for 'test_cosine_accuracy': 12/50\n",
      "\tEpoch 78: EarlyStopping counter for 'test_euclidean_auc': 9/50\n",
      "\tSaved best model weights for 'test_euclidean_accuracy' at epoch 78 to '/kaggle/working/checkpoint/magface/normalmap/models/best_test_euclidean_accuracy_78.pth'\n"
     ]
    },
    {
     "name": "stderr",
     "output_type": "stream",
     "text": [
      "/usr/lib/python3.10/multiprocessing/popen_fork.py:66: RuntimeWarning: os.fork() was called. os.fork() is incompatible with multithreaded code, and JAX is multithreaded, so this will likely lead to a deadlock.\n",
      "  self.pid = os.fork()\n",
      "/usr/lib/python3.10/multiprocessing/popen_fork.py:66: RuntimeWarning: os.fork() was called. os.fork() is incompatible with multithreaded code, and JAX is multithreaded, so this will likely lead to a deadlock.\n",
      "  self.pid = os.fork()\n"
     ]
    },
    {
     "name": "stdout",
     "output_type": "stream",
     "text": [
      "Epoch 79:\n",
      "\ttrain: loss 0.437 | loss id   0.41 | top_1_acc 0.1170 | top_5_acc 0.3532 | cos_auc: 0.8441 | cos_acc: 0.7228 | eu_auc: 0.7479 | eu_acc: 0.7019\n",
      "\ttest: cos_auc: 0.8111 | cos_acc: 0.7093 | eu_auc: 0.7722 | eu_acc: 0.8483\n",
      "\tSaving model and optimizer state to /kaggle/working/checkpoint/magface/normalmap/models/checkpoint.pth\n",
      "\tEpoch 79: EarlyStopping counter for 'test_cosine_auc': 7/50\n",
      "\tEpoch 79: EarlyStopping counter for 'test_cosine_accuracy': 13/50\n",
      "\tEpoch 79: EarlyStopping counter for 'test_euclidean_auc': 10/50\n",
      "\tEpoch 79: EarlyStopping counter for 'test_euclidean_accuracy': 1/50\n"
     ]
    },
    {
     "name": "stderr",
     "output_type": "stream",
     "text": [
      "/usr/lib/python3.10/multiprocessing/popen_fork.py:66: RuntimeWarning: os.fork() was called. os.fork() is incompatible with multithreaded code, and JAX is multithreaded, so this will likely lead to a deadlock.\n",
      "  self.pid = os.fork()\n",
      "/usr/lib/python3.10/multiprocessing/popen_fork.py:66: RuntimeWarning: os.fork() was called. os.fork() is incompatible with multithreaded code, and JAX is multithreaded, so this will likely lead to a deadlock.\n",
      "  self.pid = os.fork()\n"
     ]
    },
    {
     "name": "stdout",
     "output_type": "stream",
     "text": [
      "Epoch 80:\n",
      "\ttrain: loss 0.432 | loss id   0.41 | top_1_acc 0.1147 | top_5_acc 0.3802 | cos_auc: 0.8473 | cos_acc: 0.7307 | eu_auc: 0.7450 | eu_acc: 0.7442\n",
      "\ttest: cos_auc: 0.8150 | cos_acc: 0.7076 | eu_auc: 0.7756 | eu_acc: 0.7294\n",
      "\tSaving model and optimizer state to /kaggle/working/checkpoint/magface/normalmap/models/checkpoint.pth\n",
      "\tEpoch 80: EarlyStopping counter for 'test_cosine_auc': 8/50\n",
      "\tEpoch 80: EarlyStopping counter for 'test_cosine_accuracy': 14/50\n",
      "\tEpoch 80: EarlyStopping counter for 'test_euclidean_auc': 11/50\n",
      "\tEpoch 80: EarlyStopping counter for 'test_euclidean_accuracy': 2/50\n"
     ]
    },
    {
     "name": "stderr",
     "output_type": "stream",
     "text": [
      "/usr/lib/python3.10/multiprocessing/popen_fork.py:66: RuntimeWarning: os.fork() was called. os.fork() is incompatible with multithreaded code, and JAX is multithreaded, so this will likely lead to a deadlock.\n",
      "  self.pid = os.fork()\n",
      "/usr/lib/python3.10/multiprocessing/popen_fork.py:66: RuntimeWarning: os.fork() was called. os.fork() is incompatible with multithreaded code, and JAX is multithreaded, so this will likely lead to a deadlock.\n",
      "  self.pid = os.fork()\n"
     ]
    },
    {
     "name": "stdout",
     "output_type": "stream",
     "text": [
      "Epoch 81:\n",
      "\ttrain: loss 0.425 | loss id   0.40 | top_1_acc 0.0360 | top_5_acc 0.1440 | cos_auc: 0.7091 | cos_acc: 0.6767 | eu_auc: 0.6522 | eu_acc: 0.4810\n",
      "\ttest: cos_auc: 0.7155 | cos_acc: 0.7848 | eu_auc: 0.6519 | eu_acc: 0.7186\n",
      "\tSaving model and optimizer state to /kaggle/working/checkpoint/magface/normalmap/models/checkpoint.pth\n",
      "\tEpoch 81: EarlyStopping counter for 'test_cosine_auc': 9/50\n",
      "\tEpoch 81: EarlyStopping counter for 'test_cosine_accuracy': 15/50\n",
      "\tEpoch 81: EarlyStopping counter for 'test_euclidean_auc': 12/50\n",
      "\tEpoch 81: EarlyStopping counter for 'test_euclidean_accuracy': 3/50\n"
     ]
    },
    {
     "name": "stderr",
     "output_type": "stream",
     "text": [
      "/usr/lib/python3.10/multiprocessing/popen_fork.py:66: RuntimeWarning: os.fork() was called. os.fork() is incompatible with multithreaded code, and JAX is multithreaded, so this will likely lead to a deadlock.\n",
      "  self.pid = os.fork()\n",
      "/usr/lib/python3.10/multiprocessing/popen_fork.py:66: RuntimeWarning: os.fork() was called. os.fork() is incompatible with multithreaded code, and JAX is multithreaded, so this will likely lead to a deadlock.\n",
      "  self.pid = os.fork()\n"
     ]
    },
    {
     "name": "stdout",
     "output_type": "stream",
     "text": [
      "Epoch 82:\n",
      "\ttrain: loss 0.509 | loss id   0.49 | top_1_acc 0.0472 | top_5_acc 0.1507 | cos_auc: 0.7670 | cos_acc: 0.7055 | eu_auc: 0.6808 | eu_acc: 0.6678\n",
      "\ttest: cos_auc: 0.7681 | cos_acc: 0.7830 | eu_auc: 0.6875 | eu_acc: 0.7132\n",
      "\tSaving model and optimizer state to /kaggle/working/checkpoint/magface/normalmap/models/checkpoint.pth\n",
      "\tEpoch 82: EarlyStopping counter for 'test_cosine_auc': 10/50\n",
      "\tEpoch 82: EarlyStopping counter for 'test_cosine_accuracy': 16/50\n",
      "\tEpoch 82: EarlyStopping counter for 'test_euclidean_auc': 13/50\n",
      "\tEpoch 82: EarlyStopping counter for 'test_euclidean_accuracy': 4/50\n"
     ]
    },
    {
     "name": "stderr",
     "output_type": "stream",
     "text": [
      "/usr/lib/python3.10/multiprocessing/popen_fork.py:66: RuntimeWarning: os.fork() was called. os.fork() is incompatible with multithreaded code, and JAX is multithreaded, so this will likely lead to a deadlock.\n",
      "  self.pid = os.fork()\n",
      "/usr/lib/python3.10/multiprocessing/popen_fork.py:66: RuntimeWarning: os.fork() was called. os.fork() is incompatible with multithreaded code, and JAX is multithreaded, so this will likely lead to a deadlock.\n",
      "  self.pid = os.fork()\n"
     ]
    },
    {
     "name": "stdout",
     "output_type": "stream",
     "text": [
      "Epoch 83:\n",
      "\ttrain: loss 0.550 | loss id   0.53 | top_1_acc 0.0360 | top_5_acc 0.1631 | cos_auc: 0.7981 | cos_acc: 0.7198 | eu_auc: 0.7205 | eu_acc: 0.7585\n",
      "\ttest: cos_auc: 0.8214 | cos_acc: 0.7286 | eu_auc: 0.7494 | eu_acc: 0.7480\n",
      "\tSaving model and optimizer state to /kaggle/working/checkpoint/magface/normalmap/models/checkpoint.pth\n",
      "\tEpoch 83: EarlyStopping counter for 'test_cosine_auc': 11/50\n",
      "\tEpoch 83: EarlyStopping counter for 'test_cosine_accuracy': 17/50\n",
      "\tEpoch 83: EarlyStopping counter for 'test_euclidean_auc': 14/50\n",
      "\tEpoch 83: EarlyStopping counter for 'test_euclidean_accuracy': 5/50\n"
     ]
    },
    {
     "name": "stderr",
     "output_type": "stream",
     "text": [
      "/usr/lib/python3.10/multiprocessing/popen_fork.py:66: RuntimeWarning: os.fork() was called. os.fork() is incompatible with multithreaded code, and JAX is multithreaded, so this will likely lead to a deadlock.\n",
      "  self.pid = os.fork()\n",
      "/usr/lib/python3.10/multiprocessing/popen_fork.py:66: RuntimeWarning: os.fork() was called. os.fork() is incompatible with multithreaded code, and JAX is multithreaded, so this will likely lead to a deadlock.\n",
      "  self.pid = os.fork()\n"
     ]
    },
    {
     "name": "stdout",
     "output_type": "stream",
     "text": [
      "Epoch 84:\n",
      "\ttrain: loss 0.541 | loss id   0.52 | top_1_acc 0.0405 | top_5_acc 0.1879 | cos_auc: 0.7741 | cos_acc: 0.7114 | eu_auc: 0.6842 | eu_acc: 0.7030\n",
      "\ttest: cos_auc: 0.7735 | cos_acc: 0.6831 | eu_auc: 0.6863 | eu_acc: 0.6707\n",
      "\tSaving model and optimizer state to /kaggle/working/checkpoint/magface/normalmap/models/checkpoint.pth\n",
      "\tEpoch 84: EarlyStopping counter for 'test_cosine_auc': 12/50\n",
      "\tEpoch 84: EarlyStopping counter for 'test_cosine_accuracy': 18/50\n",
      "\tEpoch 84: EarlyStopping counter for 'test_euclidean_auc': 15/50\n",
      "\tEpoch 84: EarlyStopping counter for 'test_euclidean_accuracy': 6/50\n"
     ]
    },
    {
     "name": "stderr",
     "output_type": "stream",
     "text": [
      "/usr/lib/python3.10/multiprocessing/popen_fork.py:66: RuntimeWarning: os.fork() was called. os.fork() is incompatible with multithreaded code, and JAX is multithreaded, so this will likely lead to a deadlock.\n",
      "  self.pid = os.fork()\n",
      "/usr/lib/python3.10/multiprocessing/popen_fork.py:66: RuntimeWarning: os.fork() was called. os.fork() is incompatible with multithreaded code, and JAX is multithreaded, so this will likely lead to a deadlock.\n",
      "  self.pid = os.fork()\n"
     ]
    },
    {
     "name": "stdout",
     "output_type": "stream",
     "text": [
      "Epoch 85:\n",
      "\ttrain: loss 0.546 | loss id   0.52 | top_1_acc 0.0517 | top_5_acc 0.1991 | cos_auc: 0.7952 | cos_acc: 0.6564 | eu_auc: 0.7134 | eu_acc: 0.7096\n",
      "\ttest: cos_auc: 0.7945 | cos_acc: 0.7216 | eu_auc: 0.7173 | eu_acc: 0.7141\n",
      "\tSaving model and optimizer state to /kaggle/working/checkpoint/magface/normalmap/models/checkpoint.pth\n",
      "\tEpoch 85: EarlyStopping counter for 'test_cosine_auc': 13/50\n",
      "\tEpoch 85: EarlyStopping counter for 'test_cosine_accuracy': 19/50\n",
      "\tEpoch 85: EarlyStopping counter for 'test_euclidean_auc': 16/50\n",
      "\tEpoch 85: EarlyStopping counter for 'test_euclidean_accuracy': 7/50\n"
     ]
    },
    {
     "name": "stderr",
     "output_type": "stream",
     "text": [
      "/usr/lib/python3.10/multiprocessing/popen_fork.py:66: RuntimeWarning: os.fork() was called. os.fork() is incompatible with multithreaded code, and JAX is multithreaded, so this will likely lead to a deadlock.\n",
      "  self.pid = os.fork()\n",
      "/usr/lib/python3.10/multiprocessing/popen_fork.py:66: RuntimeWarning: os.fork() was called. os.fork() is incompatible with multithreaded code, and JAX is multithreaded, so this will likely lead to a deadlock.\n",
      "  self.pid = os.fork()\n"
     ]
    },
    {
     "name": "stdout",
     "output_type": "stream",
     "text": [
      "Epoch 86:\n",
      "\ttrain: loss 0.522 | loss id   0.50 | top_1_acc 0.0405 | top_5_acc 0.1845 | cos_auc: 0.7510 | cos_acc: 0.7088 | eu_auc: 0.6657 | eu_acc: 0.7502\n",
      "\ttest: cos_auc: 0.7332 | cos_acc: 0.6355 | eu_auc: 0.6497 | eu_acc: 0.6500\n",
      "\tSaving model and optimizer state to /kaggle/working/checkpoint/magface/normalmap/models/checkpoint.pth\n",
      "\tEpoch 86: EarlyStopping counter for 'test_cosine_auc': 14/50\n",
      "\tEpoch 86: EarlyStopping counter for 'test_cosine_accuracy': 20/50\n",
      "\tEpoch 86: EarlyStopping counter for 'test_euclidean_auc': 17/50\n",
      "\tEpoch 86: EarlyStopping counter for 'test_euclidean_accuracy': 8/50\n"
     ]
    },
    {
     "name": "stderr",
     "output_type": "stream",
     "text": [
      "/usr/lib/python3.10/multiprocessing/popen_fork.py:66: RuntimeWarning: os.fork() was called. os.fork() is incompatible with multithreaded code, and JAX is multithreaded, so this will likely lead to a deadlock.\n",
      "  self.pid = os.fork()\n",
      "/usr/lib/python3.10/multiprocessing/popen_fork.py:66: RuntimeWarning: os.fork() was called. os.fork() is incompatible with multithreaded code, and JAX is multithreaded, so this will likely lead to a deadlock.\n",
      "  self.pid = os.fork()\n"
     ]
    },
    {
     "name": "stdout",
     "output_type": "stream",
     "text": [
      "Epoch 87:\n",
      "\ttrain: loss 0.515 | loss id   0.49 | top_1_acc 0.0562 | top_5_acc 0.1901 | cos_auc: 0.7998 | cos_acc: 0.6865 | eu_auc: 0.7138 | eu_acc: 0.7614\n",
      "\ttest: cos_auc: 0.8043 | cos_acc: 0.7885 | eu_auc: 0.7246 | eu_acc: 0.7025\n",
      "\tSaving model and optimizer state to /kaggle/working/checkpoint/magface/normalmap/models/checkpoint.pth\n",
      "\tEpoch 87: EarlyStopping counter for 'test_cosine_auc': 15/50\n",
      "\tEpoch 87: EarlyStopping counter for 'test_cosine_accuracy': 21/50\n",
      "\tEpoch 87: EarlyStopping counter for 'test_euclidean_auc': 18/50\n",
      "\tEpoch 87: EarlyStopping counter for 'test_euclidean_accuracy': 9/50\n"
     ]
    },
    {
     "name": "stderr",
     "output_type": "stream",
     "text": [
      "/usr/lib/python3.10/multiprocessing/popen_fork.py:66: RuntimeWarning: os.fork() was called. os.fork() is incompatible with multithreaded code, and JAX is multithreaded, so this will likely lead to a deadlock.\n",
      "  self.pid = os.fork()\n",
      "/usr/lib/python3.10/multiprocessing/popen_fork.py:66: RuntimeWarning: os.fork() was called. os.fork() is incompatible with multithreaded code, and JAX is multithreaded, so this will likely lead to a deadlock.\n",
      "  self.pid = os.fork()\n"
     ]
    },
    {
     "name": "stdout",
     "output_type": "stream",
     "text": [
      "Epoch 88:\n",
      "\ttrain: loss 0.518 | loss id   0.50 | top_1_acc 0.0472 | top_5_acc 0.2002 | cos_auc: 0.7462 | cos_acc: 0.7136 | eu_auc: 0.6813 | eu_acc: 0.6055\n",
      "\ttest: cos_auc: 0.7106 | cos_acc: 0.7801 | eu_auc: 0.6643 | eu_acc: 0.6876\n",
      "\tSaving model and optimizer state to /kaggle/working/checkpoint/magface/normalmap/models/checkpoint.pth\n",
      "\tEpoch 88: EarlyStopping counter for 'test_cosine_auc': 16/50\n",
      "\tEpoch 88: EarlyStopping counter for 'test_cosine_accuracy': 22/50\n",
      "\tEpoch 88: EarlyStopping counter for 'test_euclidean_auc': 19/50\n",
      "\tEpoch 88: EarlyStopping counter for 'test_euclidean_accuracy': 10/50\n"
     ]
    },
    {
     "name": "stderr",
     "output_type": "stream",
     "text": [
      "/usr/lib/python3.10/multiprocessing/popen_fork.py:66: RuntimeWarning: os.fork() was called. os.fork() is incompatible with multithreaded code, and JAX is multithreaded, so this will likely lead to a deadlock.\n",
      "  self.pid = os.fork()\n",
      "/usr/lib/python3.10/multiprocessing/popen_fork.py:66: RuntimeWarning: os.fork() was called. os.fork() is incompatible with multithreaded code, and JAX is multithreaded, so this will likely lead to a deadlock.\n",
      "  self.pid = os.fork()\n"
     ]
    },
    {
     "name": "stdout",
     "output_type": "stream",
     "text": [
      "Epoch 89:\n",
      "\ttrain: loss 0.497 | loss id   0.47 | top_1_acc 0.0439 | top_5_acc 0.1946 | cos_auc: 0.8124 | cos_acc: 0.6998 | eu_auc: 0.7171 | eu_acc: 0.7465\n",
      "\ttest: cos_auc: 0.8162 | cos_acc: 0.6432 | eu_auc: 0.7286 | eu_acc: 0.8266\n",
      "\tSaving model and optimizer state to /kaggle/working/checkpoint/magface/normalmap/models/checkpoint.pth\n",
      "\tEpoch 89: EarlyStopping counter for 'test_cosine_auc': 17/50\n",
      "\tEpoch 89: EarlyStopping counter for 'test_cosine_accuracy': 23/50\n",
      "\tEpoch 89: EarlyStopping counter for 'test_euclidean_auc': 20/50\n",
      "\tEpoch 89: EarlyStopping counter for 'test_euclidean_accuracy': 11/50\n"
     ]
    },
    {
     "name": "stderr",
     "output_type": "stream",
     "text": [
      "/usr/lib/python3.10/multiprocessing/popen_fork.py:66: RuntimeWarning: os.fork() was called. os.fork() is incompatible with multithreaded code, and JAX is multithreaded, so this will likely lead to a deadlock.\n",
      "  self.pid = os.fork()\n",
      "/usr/lib/python3.10/multiprocessing/popen_fork.py:66: RuntimeWarning: os.fork() was called. os.fork() is incompatible with multithreaded code, and JAX is multithreaded, so this will likely lead to a deadlock.\n",
      "  self.pid = os.fork()\n"
     ]
    },
    {
     "name": "stdout",
     "output_type": "stream",
     "text": [
      "Epoch 90:\n",
      "\ttrain: loss 0.503 | loss id   0.48 | top_1_acc 0.0562 | top_5_acc 0.2092 | cos_auc: 0.7665 | cos_acc: 0.7206 | eu_auc: 0.6868 | eu_acc: 0.7440\n",
      "\ttest: cos_auc: 0.7493 | cos_acc: 0.7294 | eu_auc: 0.6808 | eu_acc: 0.7494\n",
      "\tSaving model and optimizer state to /kaggle/working/checkpoint/magface/normalmap/models/checkpoint.pth\n",
      "\tEpoch 90: EarlyStopping counter for 'test_cosine_auc': 18/50\n",
      "\tEpoch 90: EarlyStopping counter for 'test_cosine_accuracy': 24/50\n",
      "\tEpoch 90: EarlyStopping counter for 'test_euclidean_auc': 21/50\n",
      "\tEpoch 90: EarlyStopping counter for 'test_euclidean_accuracy': 12/50\n"
     ]
    },
    {
     "name": "stderr",
     "output_type": "stream",
     "text": [
      "/usr/lib/python3.10/multiprocessing/popen_fork.py:66: RuntimeWarning: os.fork() was called. os.fork() is incompatible with multithreaded code, and JAX is multithreaded, so this will likely lead to a deadlock.\n",
      "  self.pid = os.fork()\n",
      "/usr/lib/python3.10/multiprocessing/popen_fork.py:66: RuntimeWarning: os.fork() was called. os.fork() is incompatible with multithreaded code, and JAX is multithreaded, so this will likely lead to a deadlock.\n",
      "  self.pid = os.fork()\n"
     ]
    },
    {
     "name": "stdout",
     "output_type": "stream",
     "text": [
      "Epoch 91:\n",
      "\ttrain: loss 0.485 | loss id   0.46 | top_1_acc 0.0596 | top_5_acc 0.2182 | cos_auc: 0.8183 | cos_acc: 0.7031 | eu_auc: 0.7543 | eu_acc: 0.7294\n",
      "\ttest: cos_auc: 0.7841 | cos_acc: 0.6227 | eu_auc: 0.7438 | eu_acc: 0.7470\n",
      "\tSaving model and optimizer state to /kaggle/working/checkpoint/magface/normalmap/models/checkpoint.pth\n",
      "\tEpoch 91: EarlyStopping counter for 'test_cosine_auc': 19/50\n",
      "\tEpoch 91: EarlyStopping counter for 'test_cosine_accuracy': 25/50\n",
      "\tEpoch 91: EarlyStopping counter for 'test_euclidean_auc': 22/50\n",
      "\tEpoch 91: EarlyStopping counter for 'test_euclidean_accuracy': 13/50\n"
     ]
    },
    {
     "name": "stderr",
     "output_type": "stream",
     "text": [
      "/usr/lib/python3.10/multiprocessing/popen_fork.py:66: RuntimeWarning: os.fork() was called. os.fork() is incompatible with multithreaded code, and JAX is multithreaded, so this will likely lead to a deadlock.\n",
      "  self.pid = os.fork()\n",
      "/usr/lib/python3.10/multiprocessing/popen_fork.py:66: RuntimeWarning: os.fork() was called. os.fork() is incompatible with multithreaded code, and JAX is multithreaded, so this will likely lead to a deadlock.\n",
      "  self.pid = os.fork()\n"
     ]
    },
    {
     "name": "stdout",
     "output_type": "stream",
     "text": [
      "Epoch 92:\n",
      "\ttrain: loss 0.550 | loss id   0.53 | top_1_acc 0.0517 | top_5_acc 0.2250 | cos_auc: 0.8253 | cos_acc: 0.7249 | eu_auc: 0.7647 | eu_acc: 0.7001\n",
      "\ttest: cos_auc: 0.7733 | cos_acc: 0.7188 | eu_auc: 0.7177 | eu_acc: 0.8029\n",
      "\tSaving model and optimizer state to /kaggle/working/checkpoint/magface/normalmap/models/checkpoint.pth\n",
      "\tEpoch 92: EarlyStopping counter for 'test_cosine_auc': 20/50\n",
      "\tEpoch 92: EarlyStopping counter for 'test_cosine_accuracy': 26/50\n",
      "\tEpoch 92: EarlyStopping counter for 'test_euclidean_auc': 23/50\n",
      "\tEpoch 92: EarlyStopping counter for 'test_euclidean_accuracy': 14/50\n"
     ]
    },
    {
     "name": "stderr",
     "output_type": "stream",
     "text": [
      "/usr/lib/python3.10/multiprocessing/popen_fork.py:66: RuntimeWarning: os.fork() was called. os.fork() is incompatible with multithreaded code, and JAX is multithreaded, so this will likely lead to a deadlock.\n",
      "  self.pid = os.fork()\n",
      "/usr/lib/python3.10/multiprocessing/popen_fork.py:66: RuntimeWarning: os.fork() was called. os.fork() is incompatible with multithreaded code, and JAX is multithreaded, so this will likely lead to a deadlock.\n",
      "  self.pid = os.fork()\n"
     ]
    },
    {
     "name": "stdout",
     "output_type": "stream",
     "text": [
      "Epoch 93:\n",
      "\ttrain: loss 0.468 | loss id   0.44 | top_1_acc 0.0619 | top_5_acc 0.2295 | cos_auc: 0.8168 | cos_acc: 0.7108 | eu_auc: 0.7271 | eu_acc: 0.7821\n",
      "\ttest: cos_auc: 0.7618 | cos_acc: 0.8067 | eu_auc: 0.6921 | eu_acc: 0.7570\n",
      "\tSaving model and optimizer state to /kaggle/working/checkpoint/magface/normalmap/models/checkpoint.pth\n",
      "\tEpoch 93: EarlyStopping counter for 'test_cosine_auc': 21/50\n",
      "\tSaved best model weights for 'test_cosine_accuracy' at epoch 93 to '/kaggle/working/checkpoint/magface/normalmap/models/best_test_cosine_accuracy_93.pth'\n",
      "\tEpoch 93: EarlyStopping counter for 'test_euclidean_auc': 24/50\n",
      "\tEpoch 93: EarlyStopping counter for 'test_euclidean_accuracy': 15/50\n"
     ]
    },
    {
     "name": "stderr",
     "output_type": "stream",
     "text": [
      "/usr/lib/python3.10/multiprocessing/popen_fork.py:66: RuntimeWarning: os.fork() was called. os.fork() is incompatible with multithreaded code, and JAX is multithreaded, so this will likely lead to a deadlock.\n",
      "  self.pid = os.fork()\n",
      "/usr/lib/python3.10/multiprocessing/popen_fork.py:66: RuntimeWarning: os.fork() was called. os.fork() is incompatible with multithreaded code, and JAX is multithreaded, so this will likely lead to a deadlock.\n",
      "  self.pid = os.fork()\n"
     ]
    },
    {
     "name": "stdout",
     "output_type": "stream",
     "text": [
      "Epoch 94:\n",
      "\ttrain: loss 0.496 | loss id   0.47 | top_1_acc 0.0484 | top_5_acc 0.2531 | cos_auc: 0.8295 | cos_acc: 0.7100 | eu_auc: 0.7628 | eu_acc: 0.7499\n",
      "\ttest: cos_auc: 0.7917 | cos_acc: 0.7448 | eu_auc: 0.7296 | eu_acc: 0.7646\n",
      "\tSaving model and optimizer state to /kaggle/working/checkpoint/magface/normalmap/models/checkpoint.pth\n",
      "\tEpoch 94: EarlyStopping counter for 'test_cosine_auc': 22/50\n",
      "\tEpoch 94: EarlyStopping counter for 'test_cosine_accuracy': 1/50\n",
      "\tEpoch 94: EarlyStopping counter for 'test_euclidean_auc': 25/50\n",
      "\tEpoch 94: EarlyStopping counter for 'test_euclidean_accuracy': 16/50\n"
     ]
    },
    {
     "name": "stderr",
     "output_type": "stream",
     "text": [
      "/usr/lib/python3.10/multiprocessing/popen_fork.py:66: RuntimeWarning: os.fork() was called. os.fork() is incompatible with multithreaded code, and JAX is multithreaded, so this will likely lead to a deadlock.\n",
      "  self.pid = os.fork()\n",
      "/usr/lib/python3.10/multiprocessing/popen_fork.py:66: RuntimeWarning: os.fork() was called. os.fork() is incompatible with multithreaded code, and JAX is multithreaded, so this will likely lead to a deadlock.\n",
      "  self.pid = os.fork()\n"
     ]
    },
    {
     "name": "stdout",
     "output_type": "stream",
     "text": [
      "Epoch 95:\n",
      "\ttrain: loss 0.491 | loss id   0.47 | top_1_acc 0.0641 | top_5_acc 0.2655 | cos_auc: 0.8341 | cos_acc: 0.7497 | eu_auc: 0.7703 | eu_acc: 0.7327\n",
      "\ttest: cos_auc: 0.8019 | cos_acc: 0.7324 | eu_auc: 0.7619 | eu_acc: 0.7394\n",
      "\tSaving model and optimizer state to /kaggle/working/checkpoint/magface/normalmap/models/checkpoint.pth\n",
      "\tEpoch 95: EarlyStopping counter for 'test_cosine_auc': 23/50\n",
      "\tEpoch 95: EarlyStopping counter for 'test_cosine_accuracy': 2/50\n",
      "\tEpoch 95: EarlyStopping counter for 'test_euclidean_auc': 26/50\n",
      "\tEpoch 95: EarlyStopping counter for 'test_euclidean_accuracy': 17/50\n"
     ]
    },
    {
     "name": "stderr",
     "output_type": "stream",
     "text": [
      "/usr/lib/python3.10/multiprocessing/popen_fork.py:66: RuntimeWarning: os.fork() was called. os.fork() is incompatible with multithreaded code, and JAX is multithreaded, so this will likely lead to a deadlock.\n",
      "  self.pid = os.fork()\n",
      "/usr/lib/python3.10/multiprocessing/popen_fork.py:66: RuntimeWarning: os.fork() was called. os.fork() is incompatible with multithreaded code, and JAX is multithreaded, so this will likely lead to a deadlock.\n",
      "  self.pid = os.fork()\n"
     ]
    },
    {
     "name": "stdout",
     "output_type": "stream",
     "text": [
      "Epoch 96:\n",
      "\ttrain: loss 0.420 | loss id   0.40 | top_1_acc 0.0630 | top_5_acc 0.2418 | cos_auc: 0.8136 | cos_acc: 0.7102 | eu_auc: 0.7511 | eu_acc: 0.6954\n",
      "\ttest: cos_auc: 0.8094 | cos_acc: 0.6624 | eu_auc: 0.7142 | eu_acc: 0.8351\n",
      "\tSaving model and optimizer state to /kaggle/working/checkpoint/magface/normalmap/models/checkpoint.pth\n",
      "\tEpoch 96: EarlyStopping counter for 'test_cosine_auc': 24/50\n",
      "\tEpoch 96: EarlyStopping counter for 'test_cosine_accuracy': 3/50\n",
      "\tEpoch 96: EarlyStopping counter for 'test_euclidean_auc': 27/50\n",
      "\tEpoch 96: EarlyStopping counter for 'test_euclidean_accuracy': 18/50\n"
     ]
    },
    {
     "name": "stderr",
     "output_type": "stream",
     "text": [
      "/usr/lib/python3.10/multiprocessing/popen_fork.py:66: RuntimeWarning: os.fork() was called. os.fork() is incompatible with multithreaded code, and JAX is multithreaded, so this will likely lead to a deadlock.\n",
      "  self.pid = os.fork()\n",
      "/usr/lib/python3.10/multiprocessing/popen_fork.py:66: RuntimeWarning: os.fork() was called. os.fork() is incompatible with multithreaded code, and JAX is multithreaded, so this will likely lead to a deadlock.\n",
      "  self.pid = os.fork()\n"
     ]
    },
    {
     "name": "stdout",
     "output_type": "stream",
     "text": [
      "Epoch 97:\n",
      "\ttrain: loss 0.463 | loss id   0.44 | top_1_acc 0.0652 | top_5_acc 0.2520 | cos_auc: 0.8332 | cos_acc: 0.7491 | eu_auc: 0.7745 | eu_acc: 0.6799\n",
      "\ttest: cos_auc: 0.7829 | cos_acc: 0.6497 | eu_auc: 0.7371 | eu_acc: 0.7693\n",
      "\tSaving model and optimizer state to /kaggle/working/checkpoint/magface/normalmap/models/checkpoint.pth\n",
      "\tEpoch 97: EarlyStopping counter for 'test_cosine_auc': 25/50\n",
      "\tEpoch 97: EarlyStopping counter for 'test_cosine_accuracy': 4/50\n",
      "\tEpoch 97: EarlyStopping counter for 'test_euclidean_auc': 28/50\n",
      "\tEpoch 97: EarlyStopping counter for 'test_euclidean_accuracy': 19/50\n"
     ]
    },
    {
     "name": "stderr",
     "output_type": "stream",
     "text": [
      "/usr/lib/python3.10/multiprocessing/popen_fork.py:66: RuntimeWarning: os.fork() was called. os.fork() is incompatible with multithreaded code, and JAX is multithreaded, so this will likely lead to a deadlock.\n",
      "  self.pid = os.fork()\n",
      "/usr/lib/python3.10/multiprocessing/popen_fork.py:66: RuntimeWarning: os.fork() was called. os.fork() is incompatible with multithreaded code, and JAX is multithreaded, so this will likely lead to a deadlock.\n",
      "  self.pid = os.fork()\n"
     ]
    },
    {
     "name": "stdout",
     "output_type": "stream",
     "text": [
      "Epoch 98:\n",
      "\ttrain: loss 0.483 | loss id   0.46 | top_1_acc 0.0765 | top_5_acc 0.2947 | cos_auc: 0.8322 | cos_acc: 0.7023 | eu_auc: 0.7715 | eu_acc: 0.7643\n",
      "\ttest: cos_auc: 0.8067 | cos_acc: 0.6389 | eu_auc: 0.7256 | eu_acc: 0.7676\n",
      "\tSaving model and optimizer state to /kaggle/working/checkpoint/magface/normalmap/models/checkpoint.pth\n",
      "\tEpoch 98: EarlyStopping counter for 'test_cosine_auc': 26/50\n",
      "\tEpoch 98: EarlyStopping counter for 'test_cosine_accuracy': 5/50\n",
      "\tEpoch 98: EarlyStopping counter for 'test_euclidean_auc': 29/50\n",
      "\tEpoch 98: EarlyStopping counter for 'test_euclidean_accuracy': 20/50\n"
     ]
    },
    {
     "name": "stderr",
     "output_type": "stream",
     "text": [
      "/usr/lib/python3.10/multiprocessing/popen_fork.py:66: RuntimeWarning: os.fork() was called. os.fork() is incompatible with multithreaded code, and JAX is multithreaded, so this will likely lead to a deadlock.\n",
      "  self.pid = os.fork()\n",
      "/usr/lib/python3.10/multiprocessing/popen_fork.py:66: RuntimeWarning: os.fork() was called. os.fork() is incompatible with multithreaded code, and JAX is multithreaded, so this will likely lead to a deadlock.\n",
      "  self.pid = os.fork()\n"
     ]
    },
    {
     "name": "stdout",
     "output_type": "stream",
     "text": [
      "Epoch 99:\n",
      "\ttrain: loss 0.414 | loss id   0.39 | top_1_acc 0.0776 | top_5_acc 0.2857 | cos_auc: 0.8505 | cos_acc: 0.7520 | eu_auc: 0.7772 | eu_acc: 0.8060\n",
      "\ttest: cos_auc: 0.8145 | cos_acc: 0.7490 | eu_auc: 0.7315 | eu_acc: 0.7738\n",
      "\tSaving model and optimizer state to /kaggle/working/checkpoint/magface/normalmap/models/checkpoint.pth\n",
      "\tEpoch 99: EarlyStopping counter for 'test_cosine_auc': 27/50\n",
      "\tEpoch 99: EarlyStopping counter for 'test_cosine_accuracy': 6/50\n",
      "\tEpoch 99: EarlyStopping counter for 'test_euclidean_auc': 30/50\n",
      "\tEpoch 99: EarlyStopping counter for 'test_euclidean_accuracy': 21/50\n"
     ]
    },
    {
     "name": "stderr",
     "output_type": "stream",
     "text": [
      "/usr/lib/python3.10/multiprocessing/popen_fork.py:66: RuntimeWarning: os.fork() was called. os.fork() is incompatible with multithreaded code, and JAX is multithreaded, so this will likely lead to a deadlock.\n",
      "  self.pid = os.fork()\n",
      "/usr/lib/python3.10/multiprocessing/popen_fork.py:66: RuntimeWarning: os.fork() was called. os.fork() is incompatible with multithreaded code, and JAX is multithreaded, so this will likely lead to a deadlock.\n",
      "  self.pid = os.fork()\n"
     ]
    },
    {
     "name": "stdout",
     "output_type": "stream",
     "text": [
      "Epoch 100:\n",
      "\ttrain: loss 0.468 | loss id   0.44 | top_1_acc 0.0967 | top_5_acc 0.3330 | cos_auc: 0.8555 | cos_acc: 0.7780 | eu_auc: 0.7862 | eu_acc: 0.7959\n",
      "\ttest: cos_auc: 0.8118 | cos_acc: 0.8066 | eu_auc: 0.7104 | eu_acc: 0.8669\n",
      "\tSaving model and optimizer state to /kaggle/working/checkpoint/magface/normalmap/models/checkpoint.pth\n",
      "\tEpoch 100: EarlyStopping counter for 'test_cosine_auc': 28/50\n",
      "\tEpoch 100: EarlyStopping counter for 'test_cosine_accuracy': 7/50\n",
      "\tEpoch 100: EarlyStopping counter for 'test_euclidean_auc': 31/50\n",
      "\tSaved best model weights for 'test_euclidean_accuracy' at epoch 100 to '/kaggle/working/checkpoint/magface/normalmap/models/best_test_euclidean_accuracy_100.pth'\n"
     ]
    },
    {
     "name": "stderr",
     "output_type": "stream",
     "text": [
      "/usr/lib/python3.10/multiprocessing/popen_fork.py:66: RuntimeWarning: os.fork() was called. os.fork() is incompatible with multithreaded code, and JAX is multithreaded, so this will likely lead to a deadlock.\n",
      "  self.pid = os.fork()\n",
      "/usr/lib/python3.10/multiprocessing/popen_fork.py:66: RuntimeWarning: os.fork() was called. os.fork() is incompatible with multithreaded code, and JAX is multithreaded, so this will likely lead to a deadlock.\n",
      "  self.pid = os.fork()\n"
     ]
    },
    {
     "name": "stdout",
     "output_type": "stream",
     "text": [
      "Epoch 101:\n",
      "\ttrain: loss 0.416 | loss id   0.39 | top_1_acc 0.0799 | top_5_acc 0.3285 | cos_auc: 0.8670 | cos_acc: 0.7359 | eu_auc: 0.7965 | eu_acc: 0.7745\n",
      "\ttest: cos_auc: 0.8052 | cos_acc: 0.7302 | eu_auc: 0.7178 | eu_acc: 0.7785\n",
      "\tSaving model and optimizer state to /kaggle/working/checkpoint/magface/normalmap/models/checkpoint.pth\n",
      "\tEpoch 101: EarlyStopping counter for 'test_cosine_auc': 29/50\n",
      "\tEpoch 101: EarlyStopping counter for 'test_cosine_accuracy': 8/50\n",
      "\tEpoch 101: EarlyStopping counter for 'test_euclidean_auc': 32/50\n",
      "\tEpoch 101: EarlyStopping counter for 'test_euclidean_accuracy': 1/50\n"
     ]
    },
    {
     "name": "stderr",
     "output_type": "stream",
     "text": [
      "/usr/lib/python3.10/multiprocessing/popen_fork.py:66: RuntimeWarning: os.fork() was called. os.fork() is incompatible with multithreaded code, and JAX is multithreaded, so this will likely lead to a deadlock.\n",
      "  self.pid = os.fork()\n",
      "/usr/lib/python3.10/multiprocessing/popen_fork.py:66: RuntimeWarning: os.fork() was called. os.fork() is incompatible with multithreaded code, and JAX is multithreaded, so this will likely lead to a deadlock.\n",
      "  self.pid = os.fork()\n"
     ]
    },
    {
     "name": "stdout",
     "output_type": "stream",
     "text": [
      "Epoch 102:\n",
      "\ttrain: loss 0.440 | loss id   0.42 | top_1_acc 0.0911 | top_5_acc 0.3521 | cos_auc: 0.8453 | cos_acc: 0.7731 | eu_auc: 0.7888 | eu_acc: 0.7477\n",
      "\ttest: cos_auc: 0.8042 | cos_acc: 0.7745 | eu_auc: 0.7687 | eu_acc: 0.8009\n",
      "\tSaving model and optimizer state to /kaggle/working/checkpoint/magface/normalmap/models/checkpoint.pth\n",
      "\tEpoch 102: EarlyStopping counter for 'test_cosine_auc': 30/50\n",
      "\tEpoch 102: EarlyStopping counter for 'test_cosine_accuracy': 9/50\n",
      "\tEpoch 102: EarlyStopping counter for 'test_euclidean_auc': 33/50\n",
      "\tEpoch 102: EarlyStopping counter for 'test_euclidean_accuracy': 2/50\n"
     ]
    },
    {
     "name": "stderr",
     "output_type": "stream",
     "text": [
      "/usr/lib/python3.10/multiprocessing/popen_fork.py:66: RuntimeWarning: os.fork() was called. os.fork() is incompatible with multithreaded code, and JAX is multithreaded, so this will likely lead to a deadlock.\n",
      "  self.pid = os.fork()\n",
      "/usr/lib/python3.10/multiprocessing/popen_fork.py:66: RuntimeWarning: os.fork() was called. os.fork() is incompatible with multithreaded code, and JAX is multithreaded, so this will likely lead to a deadlock.\n",
      "  self.pid = os.fork()\n"
     ]
    },
    {
     "name": "stdout",
     "output_type": "stream",
     "text": [
      "Epoch 103:\n",
      "\ttrain: loss 0.430 | loss id   0.41 | top_1_acc 0.1001 | top_5_acc 0.3341 | cos_auc: 0.8208 | cos_acc: 0.7509 | eu_auc: 0.7700 | eu_acc: 0.7091\n",
      "\ttest: cos_auc: 0.7719 | cos_acc: 0.6696 | eu_auc: 0.7236 | eu_acc: 0.7312\n",
      "\tSaving model and optimizer state to /kaggle/working/checkpoint/magface/normalmap/models/checkpoint.pth\n",
      "\tEpoch 103: EarlyStopping counter for 'test_cosine_auc': 31/50\n",
      "\tEpoch 103: EarlyStopping counter for 'test_cosine_accuracy': 10/50\n",
      "\tEpoch 103: EarlyStopping counter for 'test_euclidean_auc': 34/50\n",
      "\tEpoch 103: EarlyStopping counter for 'test_euclidean_accuracy': 3/50\n"
     ]
    },
    {
     "name": "stderr",
     "output_type": "stream",
     "text": [
      "/usr/lib/python3.10/multiprocessing/popen_fork.py:66: RuntimeWarning: os.fork() was called. os.fork() is incompatible with multithreaded code, and JAX is multithreaded, so this will likely lead to a deadlock.\n",
      "  self.pid = os.fork()\n",
      "/usr/lib/python3.10/multiprocessing/popen_fork.py:66: RuntimeWarning: os.fork() was called. os.fork() is incompatible with multithreaded code, and JAX is multithreaded, so this will likely lead to a deadlock.\n",
      "  self.pid = os.fork()\n"
     ]
    },
    {
     "name": "stdout",
     "output_type": "stream",
     "text": [
      "Epoch 104:\n",
      "\ttrain: loss 0.442 | loss id   0.42 | top_1_acc 0.1395 | top_5_acc 0.3915 | cos_auc: 0.8666 | cos_acc: 0.7652 | eu_auc: 0.8187 | eu_acc: 0.7939\n",
      "\ttest: cos_auc: 0.8241 | cos_acc: 0.7720 | eu_auc: 0.7708 | eu_acc: 0.8318\n",
      "\tSaving model and optimizer state to /kaggle/working/checkpoint/magface/normalmap/models/checkpoint.pth\n",
      "\tEpoch 104: EarlyStopping counter for 'test_cosine_auc': 32/50\n",
      "\tEpoch 104: EarlyStopping counter for 'test_cosine_accuracy': 11/50\n",
      "\tEpoch 104: EarlyStopping counter for 'test_euclidean_auc': 35/50\n",
      "\tEpoch 104: EarlyStopping counter for 'test_euclidean_accuracy': 4/50\n"
     ]
    },
    {
     "name": "stderr",
     "output_type": "stream",
     "text": [
      "/usr/lib/python3.10/multiprocessing/popen_fork.py:66: RuntimeWarning: os.fork() was called. os.fork() is incompatible with multithreaded code, and JAX is multithreaded, so this will likely lead to a deadlock.\n",
      "  self.pid = os.fork()\n",
      "/usr/lib/python3.10/multiprocessing/popen_fork.py:66: RuntimeWarning: os.fork() was called. os.fork() is incompatible with multithreaded code, and JAX is multithreaded, so this will likely lead to a deadlock.\n",
      "  self.pid = os.fork()\n",
      "/usr/lib/python3.10/multiprocessing/popen_fork.py:66: RuntimeWarning: os.fork() was called. os.fork() is incompatible with multithreaded code, and JAX is multithreaded, so this will likely lead to a deadlock.\n",
      "  self.pid = os.fork()\n"
     ]
    },
    {
     "name": "stdout",
     "output_type": "stream",
     "text": [
      "Epoch 105:\n",
      "\ttrain: loss 0.414 | loss id   0.39 | top_1_acc 0.1260 | top_5_acc 0.4027 | cos_auc: 0.8396 | cos_acc: 0.7813 | eu_auc: 0.7933 | eu_acc: 0.7597\n",
      "\ttest: cos_auc: 0.7711 | cos_acc: 0.7445 | eu_auc: 0.7298 | eu_acc: 0.6098\n",
      "\tSaving model and optimizer state to /kaggle/working/checkpoint/magface/normalmap/models/checkpoint.pth\n",
      "\tEpoch 105: EarlyStopping counter for 'test_cosine_auc': 33/50\n",
      "\tEpoch 105: EarlyStopping counter for 'test_cosine_accuracy': 12/50\n",
      "\tEpoch 105: EarlyStopping counter for 'test_euclidean_auc': 36/50\n",
      "\tEpoch 105: EarlyStopping counter for 'test_euclidean_accuracy': 5/50\n"
     ]
    },
    {
     "name": "stderr",
     "output_type": "stream",
     "text": [
      "/usr/lib/python3.10/multiprocessing/popen_fork.py:66: RuntimeWarning: os.fork() was called. os.fork() is incompatible with multithreaded code, and JAX is multithreaded, so this will likely lead to a deadlock.\n",
      "  self.pid = os.fork()\n",
      "/usr/lib/python3.10/multiprocessing/popen_fork.py:66: RuntimeWarning: os.fork() was called. os.fork() is incompatible with multithreaded code, and JAX is multithreaded, so this will likely lead to a deadlock.\n",
      "  self.pid = os.fork()\n"
     ]
    },
    {
     "name": "stdout",
     "output_type": "stream",
     "text": [
      "Epoch 106:\n",
      "\ttrain: loss 0.372 | loss id   0.35 | top_1_acc 0.1170 | top_5_acc 0.4196 | cos_auc: 0.8858 | cos_acc: 0.7754 | eu_auc: 0.8222 | eu_acc: 0.7537\n",
      "\ttest: cos_auc: 0.7983 | cos_acc: 0.7477 | eu_auc: 0.7300 | eu_acc: 0.7957\n",
      "\tSaving model and optimizer state to /kaggle/working/checkpoint/magface/normalmap/models/checkpoint.pth\n",
      "\tEpoch 106: EarlyStopping counter for 'test_cosine_auc': 34/50\n",
      "\tEpoch 106: EarlyStopping counter for 'test_cosine_accuracy': 13/50\n",
      "\tEpoch 106: EarlyStopping counter for 'test_euclidean_auc': 37/50\n",
      "\tEpoch 106: EarlyStopping counter for 'test_euclidean_accuracy': 6/50\n"
     ]
    },
    {
     "name": "stderr",
     "output_type": "stream",
     "text": [
      "/usr/lib/python3.10/multiprocessing/popen_fork.py:66: RuntimeWarning: os.fork() was called. os.fork() is incompatible with multithreaded code, and JAX is multithreaded, so this will likely lead to a deadlock.\n",
      "  self.pid = os.fork()\n",
      "/usr/lib/python3.10/multiprocessing/popen_fork.py:66: RuntimeWarning: os.fork() was called. os.fork() is incompatible with multithreaded code, and JAX is multithreaded, so this will likely lead to a deadlock.\n",
      "  self.pid = os.fork()\n"
     ]
    },
    {
     "name": "stdout",
     "output_type": "stream",
     "text": [
      "Epoch 107:\n",
      "\ttrain: loss 0.417 | loss id   0.39 | top_1_acc 0.1451 | top_5_acc 0.4522 | cos_auc: 0.8692 | cos_acc: 0.7462 | eu_auc: 0.8139 | eu_acc: 0.7589\n",
      "\ttest: cos_auc: 0.7959 | cos_acc: 0.7246 | eu_auc: 0.7086 | eu_acc: 0.7950\n",
      "\tSaving model and optimizer state to /kaggle/working/checkpoint/magface/normalmap/models/checkpoint.pth\n",
      "\tEpoch 107: EarlyStopping counter for 'test_cosine_auc': 35/50\n",
      "\tEpoch 107: EarlyStopping counter for 'test_cosine_accuracy': 14/50\n",
      "\tEpoch 107: EarlyStopping counter for 'test_euclidean_auc': 38/50\n",
      "\tEpoch 107: EarlyStopping counter for 'test_euclidean_accuracy': 7/50\n"
     ]
    },
    {
     "name": "stderr",
     "output_type": "stream",
     "text": [
      "/usr/lib/python3.10/multiprocessing/popen_fork.py:66: RuntimeWarning: os.fork() was called. os.fork() is incompatible with multithreaded code, and JAX is multithreaded, so this will likely lead to a deadlock.\n",
      "  self.pid = os.fork()\n",
      "/usr/lib/python3.10/multiprocessing/popen_fork.py:66: RuntimeWarning: os.fork() was called. os.fork() is incompatible with multithreaded code, and JAX is multithreaded, so this will likely lead to a deadlock.\n",
      "  self.pid = os.fork()\n"
     ]
    },
    {
     "name": "stdout",
     "output_type": "stream",
     "text": [
      "Epoch 108:\n",
      "\ttrain: loss 0.407 | loss id   0.38 | top_1_acc 0.1496 | top_5_acc 0.4679 | cos_auc: 0.8894 | cos_acc: 0.7692 | eu_auc: 0.8378 | eu_acc: 0.7670\n",
      "\ttest: cos_auc: 0.8173 | cos_acc: 0.8009 | eu_auc: 0.7471 | eu_acc: 0.6784\n",
      "\tSaving model and optimizer state to /kaggle/working/checkpoint/magface/normalmap/models/checkpoint.pth\n",
      "\tEpoch 108: EarlyStopping counter for 'test_cosine_auc': 36/50\n",
      "\tEpoch 108: EarlyStopping counter for 'test_cosine_accuracy': 15/50\n",
      "\tEpoch 108: EarlyStopping counter for 'test_euclidean_auc': 39/50\n",
      "\tEpoch 108: EarlyStopping counter for 'test_euclidean_accuracy': 8/50\n"
     ]
    },
    {
     "name": "stderr",
     "output_type": "stream",
     "text": [
      "/usr/lib/python3.10/multiprocessing/popen_fork.py:66: RuntimeWarning: os.fork() was called. os.fork() is incompatible with multithreaded code, and JAX is multithreaded, so this will likely lead to a deadlock.\n",
      "  self.pid = os.fork()\n",
      "/usr/lib/python3.10/multiprocessing/popen_fork.py:66: RuntimeWarning: os.fork() was called. os.fork() is incompatible with multithreaded code, and JAX is multithreaded, so this will likely lead to a deadlock.\n",
      "  self.pid = os.fork()\n"
     ]
    },
    {
     "name": "stdout",
     "output_type": "stream",
     "text": [
      "Epoch 109:\n",
      "\ttrain: loss 0.418 | loss id   0.40 | top_1_acc 0.1597 | top_5_acc 0.4859 | cos_auc: 0.8872 | cos_acc: 0.7793 | eu_auc: 0.8377 | eu_acc: 0.7711\n",
      "\ttest: cos_auc: 0.7954 | cos_acc: 0.7852 | eu_auc: 0.7259 | eu_acc: 0.8086\n",
      "\tSaving model and optimizer state to /kaggle/working/checkpoint/magface/normalmap/models/checkpoint.pth\n",
      "\tEpoch 109: EarlyStopping counter for 'test_cosine_auc': 37/50\n",
      "\tEpoch 109: EarlyStopping counter for 'test_cosine_accuracy': 16/50\n",
      "\tEpoch 109: EarlyStopping counter for 'test_euclidean_auc': 40/50\n",
      "\tEpoch 109: EarlyStopping counter for 'test_euclidean_accuracy': 9/50\n"
     ]
    },
    {
     "name": "stderr",
     "output_type": "stream",
     "text": [
      "/usr/lib/python3.10/multiprocessing/popen_fork.py:66: RuntimeWarning: os.fork() was called. os.fork() is incompatible with multithreaded code, and JAX is multithreaded, so this will likely lead to a deadlock.\n",
      "  self.pid = os.fork()\n",
      "/usr/lib/python3.10/multiprocessing/popen_fork.py:66: RuntimeWarning: os.fork() was called. os.fork() is incompatible with multithreaded code, and JAX is multithreaded, so this will likely lead to a deadlock.\n",
      "  self.pid = os.fork()\n"
     ]
    },
    {
     "name": "stdout",
     "output_type": "stream",
     "text": [
      "Epoch 110:\n",
      "\ttrain: loss 0.395 | loss id   0.37 | top_1_acc 0.1755 | top_5_acc 0.4769 | cos_auc: 0.8936 | cos_acc: 0.7992 | eu_auc: 0.8496 | eu_acc: 0.7842\n",
      "\ttest: cos_auc: 0.7978 | cos_acc: 0.7666 | eu_auc: 0.7430 | eu_acc: 0.7818\n",
      "\tSaving model and optimizer state to /kaggle/working/checkpoint/magface/normalmap/models/checkpoint.pth\n",
      "\tEpoch 110: EarlyStopping counter for 'test_cosine_auc': 38/50\n",
      "\tEpoch 110: EarlyStopping counter for 'test_cosine_accuracy': 17/50\n",
      "\tEpoch 110: EarlyStopping counter for 'test_euclidean_auc': 41/50\n",
      "\tEpoch 110: EarlyStopping counter for 'test_euclidean_accuracy': 10/50\n"
     ]
    },
    {
     "name": "stderr",
     "output_type": "stream",
     "text": [
      "/usr/lib/python3.10/multiprocessing/popen_fork.py:66: RuntimeWarning: os.fork() was called. os.fork() is incompatible with multithreaded code, and JAX is multithreaded, so this will likely lead to a deadlock.\n",
      "  self.pid = os.fork()\n",
      "/usr/lib/python3.10/multiprocessing/popen_fork.py:66: RuntimeWarning: os.fork() was called. os.fork() is incompatible with multithreaded code, and JAX is multithreaded, so this will likely lead to a deadlock.\n",
      "  self.pid = os.fork()\n"
     ]
    },
    {
     "name": "stdout",
     "output_type": "stream",
     "text": [
      "Epoch 111:\n",
      "\ttrain: loss 0.364 | loss id   0.34 | top_1_acc 0.1834 | top_5_acc 0.5253 | cos_auc: 0.9014 | cos_acc: 0.7758 | eu_auc: 0.8521 | eu_acc: 0.7843\n",
      "\ttest: cos_auc: 0.8239 | cos_acc: 0.7045 | eu_auc: 0.7577 | eu_acc: 0.7934\n",
      "\tSaving model and optimizer state to /kaggle/working/checkpoint/magface/normalmap/models/checkpoint.pth\n",
      "\tEpoch 111: EarlyStopping counter for 'test_cosine_auc': 39/50\n",
      "\tEpoch 111: EarlyStopping counter for 'test_cosine_accuracy': 18/50\n",
      "\tEpoch 111: EarlyStopping counter for 'test_euclidean_auc': 42/50\n",
      "\tEpoch 111: EarlyStopping counter for 'test_euclidean_accuracy': 11/50\n"
     ]
    },
    {
     "name": "stderr",
     "output_type": "stream",
     "text": [
      "/usr/lib/python3.10/multiprocessing/popen_fork.py:66: RuntimeWarning: os.fork() was called. os.fork() is incompatible with multithreaded code, and JAX is multithreaded, so this will likely lead to a deadlock.\n",
      "  self.pid = os.fork()\n",
      "/usr/lib/python3.10/multiprocessing/popen_fork.py:66: RuntimeWarning: os.fork() was called. os.fork() is incompatible with multithreaded code, and JAX is multithreaded, so this will likely lead to a deadlock.\n",
      "  self.pid = os.fork()\n"
     ]
    },
    {
     "name": "stdout",
     "output_type": "stream",
     "text": [
      "Epoch 112:\n",
      "\ttrain: loss 0.397 | loss id   0.37 | top_1_acc 0.2036 | top_5_acc 0.5366 | cos_auc: 0.9024 | cos_acc: 0.7855 | eu_auc: 0.8555 | eu_acc: 0.7626\n",
      "\ttest: cos_auc: 0.8132 | cos_acc: 0.7173 | eu_auc: 0.7552 | eu_acc: 0.8259\n",
      "\tSaving model and optimizer state to /kaggle/working/checkpoint/magface/normalmap/models/checkpoint.pth\n",
      "\tEpoch 112: EarlyStopping counter for 'test_cosine_auc': 40/50\n",
      "\tEpoch 112: EarlyStopping counter for 'test_cosine_accuracy': 19/50\n",
      "\tEpoch 112: EarlyStopping counter for 'test_euclidean_auc': 43/50\n",
      "\tEpoch 112: EarlyStopping counter for 'test_euclidean_accuracy': 12/50\n"
     ]
    },
    {
     "name": "stderr",
     "output_type": "stream",
     "text": [
      "/usr/lib/python3.10/multiprocessing/popen_fork.py:66: RuntimeWarning: os.fork() was called. os.fork() is incompatible with multithreaded code, and JAX is multithreaded, so this will likely lead to a deadlock.\n",
      "  self.pid = os.fork()\n",
      "/usr/lib/python3.10/multiprocessing/popen_fork.py:66: RuntimeWarning: os.fork() was called. os.fork() is incompatible with multithreaded code, and JAX is multithreaded, so this will likely lead to a deadlock.\n",
      "  self.pid = os.fork()\n"
     ]
    },
    {
     "name": "stdout",
     "output_type": "stream",
     "text": [
      "Epoch 113:\n",
      "\ttrain: loss 0.374 | loss id   0.35 | top_1_acc 0.1901 | top_5_acc 0.5467 | cos_auc: 0.9008 | cos_acc: 0.8008 | eu_auc: 0.8454 | eu_acc: 0.7709\n",
      "\ttest: cos_auc: 0.8107 | cos_acc: 0.7460 | eu_auc: 0.7473 | eu_acc: 0.8381\n",
      "\tSaving model and optimizer state to /kaggle/working/checkpoint/magface/normalmap/models/checkpoint.pth\n",
      "\tEpoch 113: EarlyStopping counter for 'test_cosine_auc': 41/50\n",
      "\tEpoch 113: EarlyStopping counter for 'test_cosine_accuracy': 20/50\n",
      "\tEpoch 113: EarlyStopping counter for 'test_euclidean_auc': 44/50\n",
      "\tEpoch 113: EarlyStopping counter for 'test_euclidean_accuracy': 13/50\n"
     ]
    },
    {
     "name": "stderr",
     "output_type": "stream",
     "text": [
      "/usr/lib/python3.10/multiprocessing/popen_fork.py:66: RuntimeWarning: os.fork() was called. os.fork() is incompatible with multithreaded code, and JAX is multithreaded, so this will likely lead to a deadlock.\n",
      "  self.pid = os.fork()\n",
      "/usr/lib/python3.10/multiprocessing/popen_fork.py:66: RuntimeWarning: os.fork() was called. os.fork() is incompatible with multithreaded code, and JAX is multithreaded, so this will likely lead to a deadlock.\n",
      "  self.pid = os.fork()\n"
     ]
    },
    {
     "name": "stdout",
     "output_type": "stream",
     "text": [
      "Epoch 114:\n",
      "\ttrain: loss 0.398 | loss id   0.38 | top_1_acc 0.2272 | top_5_acc 0.5816 | cos_auc: 0.9081 | cos_acc: 0.7955 | eu_auc: 0.8640 | eu_acc: 0.8072\n",
      "\ttest: cos_auc: 0.8099 | cos_acc: 0.6979 | eu_auc: 0.7545 | eu_acc: 0.7129\n",
      "\tSaving model and optimizer state to /kaggle/working/checkpoint/magface/normalmap/models/checkpoint.pth\n",
      "\tEpoch 114: EarlyStopping counter for 'test_cosine_auc': 42/50\n",
      "\tEpoch 114: EarlyStopping counter for 'test_cosine_accuracy': 21/50\n",
      "\tEpoch 114: EarlyStopping counter for 'test_euclidean_auc': 45/50\n",
      "\tEpoch 114: EarlyStopping counter for 'test_euclidean_accuracy': 14/50\n"
     ]
    },
    {
     "name": "stderr",
     "output_type": "stream",
     "text": [
      "/usr/lib/python3.10/multiprocessing/popen_fork.py:66: RuntimeWarning: os.fork() was called. os.fork() is incompatible with multithreaded code, and JAX is multithreaded, so this will likely lead to a deadlock.\n",
      "  self.pid = os.fork()\n",
      "/usr/lib/python3.10/multiprocessing/popen_fork.py:66: RuntimeWarning: os.fork() was called. os.fork() is incompatible with multithreaded code, and JAX is multithreaded, so this will likely lead to a deadlock.\n",
      "  self.pid = os.fork()\n"
     ]
    },
    {
     "name": "stdout",
     "output_type": "stream",
     "text": [
      "Epoch 115:\n",
      "\ttrain: loss 0.350 | loss id   0.33 | top_1_acc 0.2002 | top_5_acc 0.5726 | cos_auc: 0.9041 | cos_acc: 0.7785 | eu_auc: 0.8681 | eu_acc: 0.7933\n",
      "\ttest: cos_auc: 0.8072 | cos_acc: 0.7901 | eu_auc: 0.7576 | eu_acc: 0.7934\n",
      "\tSaving model and optimizer state to /kaggle/working/checkpoint/magface/normalmap/models/checkpoint.pth\n",
      "\tEpoch 115: EarlyStopping counter for 'test_cosine_auc': 43/50\n",
      "\tEpoch 115: EarlyStopping counter for 'test_cosine_accuracy': 22/50\n",
      "\tEpoch 115: EarlyStopping counter for 'test_euclidean_auc': 46/50\n",
      "\tEpoch 115: EarlyStopping counter for 'test_euclidean_accuracy': 15/50\n"
     ]
    },
    {
     "name": "stderr",
     "output_type": "stream",
     "text": [
      "/usr/lib/python3.10/multiprocessing/popen_fork.py:66: RuntimeWarning: os.fork() was called. os.fork() is incompatible with multithreaded code, and JAX is multithreaded, so this will likely lead to a deadlock.\n",
      "  self.pid = os.fork()\n",
      "/usr/lib/python3.10/multiprocessing/popen_fork.py:66: RuntimeWarning: os.fork() was called. os.fork() is incompatible with multithreaded code, and JAX is multithreaded, so this will likely lead to a deadlock.\n",
      "  self.pid = os.fork()\n"
     ]
    },
    {
     "name": "stdout",
     "output_type": "stream",
     "text": [
      "Epoch 116:\n",
      "\ttrain: loss 0.371 | loss id   0.35 | top_1_acc 0.2385 | top_5_acc 0.6074 | cos_auc: 0.9057 | cos_acc: 0.8188 | eu_auc: 0.8663 | eu_acc: 0.7936\n",
      "\ttest: cos_auc: 0.8096 | cos_acc: 0.7538 | eu_auc: 0.7583 | eu_acc: 0.7890\n",
      "\tSaving model and optimizer state to /kaggle/working/checkpoint/magface/normalmap/models/checkpoint.pth\n",
      "\tEpoch 116: EarlyStopping counter for 'test_cosine_auc': 44/50\n",
      "\tEpoch 116: EarlyStopping counter for 'test_cosine_accuracy': 23/50\n",
      "\tEpoch 116: EarlyStopping counter for 'test_euclidean_auc': 47/50\n",
      "\tEpoch 116: EarlyStopping counter for 'test_euclidean_accuracy': 16/50\n"
     ]
    },
    {
     "name": "stderr",
     "output_type": "stream",
     "text": [
      "/usr/lib/python3.10/multiprocessing/popen_fork.py:66: RuntimeWarning: os.fork() was called. os.fork() is incompatible with multithreaded code, and JAX is multithreaded, so this will likely lead to a deadlock.\n",
      "  self.pid = os.fork()\n",
      "/usr/lib/python3.10/multiprocessing/popen_fork.py:66: RuntimeWarning: os.fork() was called. os.fork() is incompatible with multithreaded code, and JAX is multithreaded, so this will likely lead to a deadlock.\n",
      "  self.pid = os.fork()\n"
     ]
    },
    {
     "name": "stdout",
     "output_type": "stream",
     "text": [
      "Epoch 117:\n",
      "\ttrain: loss 0.379 | loss id   0.36 | top_1_acc 0.2621 | top_5_acc 0.6198 | cos_auc: 0.9047 | cos_acc: 0.8204 | eu_auc: 0.8647 | eu_acc: 0.7949\n",
      "\ttest: cos_auc: 0.8086 | cos_acc: 0.8177 | eu_auc: 0.7597 | eu_acc: 0.8191\n",
      "\tSaving model and optimizer state to /kaggle/working/checkpoint/magface/normalmap/models/checkpoint.pth\n",
      "\tEpoch 117: EarlyStopping counter for 'test_cosine_auc': 45/50\n",
      "\tSaved best model weights for 'test_cosine_accuracy' at epoch 117 to '/kaggle/working/checkpoint/magface/normalmap/models/best_test_cosine_accuracy_117.pth'\n",
      "\tEpoch 117: EarlyStopping counter for 'test_euclidean_auc': 48/50\n",
      "\tEpoch 117: EarlyStopping counter for 'test_euclidean_accuracy': 17/50\n"
     ]
    },
    {
     "name": "stderr",
     "output_type": "stream",
     "text": [
      "/usr/lib/python3.10/multiprocessing/popen_fork.py:66: RuntimeWarning: os.fork() was called. os.fork() is incompatible with multithreaded code, and JAX is multithreaded, so this will likely lead to a deadlock.\n",
      "  self.pid = os.fork()\n",
      "/usr/lib/python3.10/multiprocessing/popen_fork.py:66: RuntimeWarning: os.fork() was called. os.fork() is incompatible with multithreaded code, and JAX is multithreaded, so this will likely lead to a deadlock.\n",
      "  self.pid = os.fork()\n"
     ]
    },
    {
     "name": "stdout",
     "output_type": "stream",
     "text": [
      "Epoch 118:\n",
      "\ttrain: loss 0.350 | loss id   0.33 | top_1_acc 0.2587 | top_5_acc 0.5928 | cos_auc: 0.9081 | cos_acc: 0.7888 | eu_auc: 0.8698 | eu_acc: 0.7750\n",
      "\ttest: cos_auc: 0.8106 | cos_acc: 0.6644 | eu_auc: 0.7557 | eu_acc: 0.8406\n",
      "\tSaving model and optimizer state to /kaggle/working/checkpoint/magface/normalmap/models/checkpoint.pth\n",
      "\tEpoch 118: EarlyStopping counter for 'test_cosine_auc': 46/50\n",
      "\tEpoch 118: EarlyStopping counter for 'test_cosine_accuracy': 1/50\n",
      "\tEpoch 118: EarlyStopping counter for 'test_euclidean_auc': 49/50\n",
      "\tEpoch 118: EarlyStopping counter for 'test_euclidean_accuracy': 18/50\n"
     ]
    },
    {
     "name": "stderr",
     "output_type": "stream",
     "text": [
      "/usr/lib/python3.10/multiprocessing/popen_fork.py:66: RuntimeWarning: os.fork() was called. os.fork() is incompatible with multithreaded code, and JAX is multithreaded, so this will likely lead to a deadlock.\n",
      "  self.pid = os.fork()\n",
      "/usr/lib/python3.10/multiprocessing/popen_fork.py:66: RuntimeWarning: os.fork() was called. os.fork() is incompatible with multithreaded code, and JAX is multithreaded, so this will likely lead to a deadlock.\n",
      "  self.pid = os.fork()\n"
     ]
    },
    {
     "name": "stdout",
     "output_type": "stream",
     "text": [
      "Epoch 119:\n",
      "\ttrain: loss 0.352 | loss id   0.33 | top_1_acc 0.2531 | top_5_acc 0.6175 | cos_auc: 0.9124 | cos_acc: 0.8038 | eu_auc: 0.8703 | eu_acc: 0.8083\n",
      "\ttest: cos_auc: 0.8071 | cos_acc: 0.8150 | eu_auc: 0.7588 | eu_acc: 0.7926\n",
      "\tSaving model and optimizer state to /kaggle/working/checkpoint/magface/normalmap/models/checkpoint.pth\n",
      "\tEpoch 119: EarlyStopping counter for 'test_cosine_auc': 47/50\n",
      "\tEpoch 119: EarlyStopping counter for 'test_cosine_accuracy': 2/50\n",
      "\tEpoch 119: EarlyStopping counter for 'test_euclidean_auc': 50/50\n",
      "\tEpoch 119: EarlyStopping counter for 'test_euclidean_accuracy': 19/50\n"
     ]
    },
    {
     "name": "stderr",
     "output_type": "stream",
     "text": [
      "/usr/lib/python3.10/multiprocessing/popen_fork.py:66: RuntimeWarning: os.fork() was called. os.fork() is incompatible with multithreaded code, and JAX is multithreaded, so this will likely lead to a deadlock.\n",
      "  self.pid = os.fork()\n",
      "/usr/lib/python3.10/multiprocessing/popen_fork.py:66: RuntimeWarning: os.fork() was called. os.fork() is incompatible with multithreaded code, and JAX is multithreaded, so this will likely lead to a deadlock.\n",
      "  self.pid = os.fork()\n"
     ]
    },
    {
     "name": "stdout",
     "output_type": "stream",
     "text": [
      "Epoch 120:\n",
      "\ttrain: loss 0.350 | loss id   0.33 | top_1_acc 0.2610 | top_5_acc 0.6232 | cos_auc: 0.9098 | cos_acc: 0.8122 | eu_auc: 0.8708 | eu_acc: 0.7889\n",
      "\ttest: cos_auc: 0.8104 | cos_acc: 0.8215 | eu_auc: 0.7577 | eu_acc: 0.7906\n",
      "\tSaving model and optimizer state to /kaggle/working/checkpoint/magface/normalmap/models/checkpoint.pth\n",
      "\tEpoch 120: EarlyStopping counter for 'test_cosine_auc': 48/50\n",
      "\tSaved best model weights for 'test_cosine_accuracy' at epoch 120 to '/kaggle/working/checkpoint/magface/normalmap/models/best_test_cosine_accuracy_120.pth'\n",
      "\tEpoch 120: EarlyStopping counter for 'test_euclidean_auc': 51/50\n",
      "\tEpoch 120: EarlyStopping counter for 'test_euclidean_accuracy': 20/50\n"
     ]
    },
    {
     "name": "stderr",
     "output_type": "stream",
     "text": [
      "/usr/lib/python3.10/multiprocessing/popen_fork.py:66: RuntimeWarning: os.fork() was called. os.fork() is incompatible with multithreaded code, and JAX is multithreaded, so this will likely lead to a deadlock.\n",
      "  self.pid = os.fork()\n",
      "/usr/lib/python3.10/multiprocessing/popen_fork.py:66: RuntimeWarning: os.fork() was called. os.fork() is incompatible with multithreaded code, and JAX is multithreaded, so this will likely lead to a deadlock.\n",
      "  self.pid = os.fork()\n"
     ]
    },
    {
     "name": "stdout",
     "output_type": "stream",
     "text": [
      "Epoch 121:\n",
      "\ttrain: loss 0.352 | loss id   0.33 | top_1_acc 0.0945 | top_5_acc 0.2947 | cos_auc: 0.7291 | cos_acc: 0.6464 | eu_auc: 0.6984 | eu_acc: 0.6810\n",
      "\ttest: cos_auc: 0.6875 | cos_acc: 0.5614 | eu_auc: 0.6780 | eu_acc: 0.7412\n",
      "\tSaving model and optimizer state to /kaggle/working/checkpoint/magface/normalmap/models/checkpoint.pth\n",
      "\tEpoch 121: EarlyStopping counter for 'test_cosine_auc': 49/50\n",
      "\tEpoch 121: EarlyStopping counter for 'test_cosine_accuracy': 1/50\n",
      "\tEpoch 121: EarlyStopping counter for 'test_euclidean_auc': 52/50\n",
      "\tEpoch 121: EarlyStopping counter for 'test_euclidean_accuracy': 21/50\n"
     ]
    },
    {
     "name": "stderr",
     "output_type": "stream",
     "text": [
      "/usr/lib/python3.10/multiprocessing/popen_fork.py:66: RuntimeWarning: os.fork() was called. os.fork() is incompatible with multithreaded code, and JAX is multithreaded, so this will likely lead to a deadlock.\n",
      "  self.pid = os.fork()\n",
      "/usr/lib/python3.10/multiprocessing/popen_fork.py:66: RuntimeWarning: os.fork() was called. os.fork() is incompatible with multithreaded code, and JAX is multithreaded, so this will likely lead to a deadlock.\n",
      "  self.pid = os.fork()\n"
     ]
    },
    {
     "name": "stdout",
     "output_type": "stream",
     "text": [
      "Epoch 122:\n",
      "\ttrain: loss 0.421 | loss id   0.40 | top_1_acc 0.0754 | top_5_acc 0.2925 | cos_auc: 0.8432 | cos_acc: 0.7522 | eu_auc: 0.8131 | eu_acc: 0.7816\n",
      "\ttest: cos_auc: 0.7948 | cos_acc: 0.8253 | eu_auc: 0.7435 | eu_acc: 0.8094\n",
      "\tSaving model and optimizer state to /kaggle/working/checkpoint/magface/normalmap/models/checkpoint.pth\n",
      "\tEpoch 122: EarlyStopping counter for 'test_cosine_auc': 50/50\n",
      "\tSaved best model weights for 'test_cosine_accuracy' at epoch 122 to '/kaggle/working/checkpoint/magface/normalmap/models/best_test_cosine_accuracy_122.pth'\n",
      "\tEpoch 122: EarlyStopping counter for 'test_euclidean_auc': 53/50\n",
      "\tEpoch 122: EarlyStopping counter for 'test_euclidean_accuracy': 22/50\n"
     ]
    },
    {
     "name": "stderr",
     "output_type": "stream",
     "text": [
      "/usr/lib/python3.10/multiprocessing/popen_fork.py:66: RuntimeWarning: os.fork() was called. os.fork() is incompatible with multithreaded code, and JAX is multithreaded, so this will likely lead to a deadlock.\n",
      "  self.pid = os.fork()\n",
      "/usr/lib/python3.10/multiprocessing/popen_fork.py:66: RuntimeWarning: os.fork() was called. os.fork() is incompatible with multithreaded code, and JAX is multithreaded, so this will likely lead to a deadlock.\n",
      "  self.pid = os.fork()\n"
     ]
    },
    {
     "name": "stdout",
     "output_type": "stream",
     "text": [
      "Epoch 123:\n",
      "\ttrain: loss 0.486 | loss id   0.46 | top_1_acc 0.0922 | top_5_acc 0.3296 | cos_auc: 0.8582 | cos_acc: 0.7460 | eu_auc: 0.7803 | eu_acc: 0.7894\n",
      "\ttest: cos_auc: 0.7893 | cos_acc: 0.8530 | eu_auc: 0.7241 | eu_acc: 0.8963\n",
      "\tSaving model and optimizer state to /kaggle/working/checkpoint/magface/normalmap/models/checkpoint.pth\n",
      "\tEpoch 123: EarlyStopping counter for 'test_cosine_auc': 51/50\n",
      "\tSaved best model weights for 'test_cosine_accuracy' at epoch 123 to '/kaggle/working/checkpoint/magface/normalmap/models/best_test_cosine_accuracy_123.pth'\n",
      "\tEpoch 123: EarlyStopping counter for 'test_euclidean_auc': 54/50\n",
      "\tSaved best model weights for 'test_euclidean_accuracy' at epoch 123 to '/kaggle/working/checkpoint/magface/normalmap/models/best_test_euclidean_accuracy_123.pth'\n"
     ]
    },
    {
     "name": "stderr",
     "output_type": "stream",
     "text": [
      "/usr/lib/python3.10/multiprocessing/popen_fork.py:66: RuntimeWarning: os.fork() was called. os.fork() is incompatible with multithreaded code, and JAX is multithreaded, so this will likely lead to a deadlock.\n",
      "  self.pid = os.fork()\n",
      "/usr/lib/python3.10/multiprocessing/popen_fork.py:66: RuntimeWarning: os.fork() was called. os.fork() is incompatible with multithreaded code, and JAX is multithreaded, so this will likely lead to a deadlock.\n",
      "  self.pid = os.fork()\n"
     ]
    },
    {
     "name": "stdout",
     "output_type": "stream",
     "text": [
      "Epoch 124:\n",
      "\ttrain: loss 0.470 | loss id   0.45 | top_1_acc 0.0855 | top_5_acc 0.3408 | cos_auc: 0.8749 | cos_acc: 0.8013 | eu_auc: 0.8235 | eu_acc: 0.7531\n",
      "\ttest: cos_auc: 0.8008 | cos_acc: 0.8029 | eu_auc: 0.7499 | eu_acc: 0.8205\n",
      "\tSaving model and optimizer state to /kaggle/working/checkpoint/magface/normalmap/models/checkpoint.pth\n",
      "\tEpoch 124: EarlyStopping counter for 'test_cosine_auc': 52/50\n",
      "\tEpoch 124: EarlyStopping counter for 'test_cosine_accuracy': 1/50\n",
      "\tEpoch 124: EarlyStopping counter for 'test_euclidean_auc': 55/50\n",
      "\tEpoch 124: EarlyStopping counter for 'test_euclidean_accuracy': 1/50\n"
     ]
    },
    {
     "name": "stderr",
     "output_type": "stream",
     "text": [
      "/usr/lib/python3.10/multiprocessing/popen_fork.py:66: RuntimeWarning: os.fork() was called. os.fork() is incompatible with multithreaded code, and JAX is multithreaded, so this will likely lead to a deadlock.\n",
      "  self.pid = os.fork()\n",
      "/usr/lib/python3.10/multiprocessing/popen_fork.py:66: RuntimeWarning: os.fork() was called. os.fork() is incompatible with multithreaded code, and JAX is multithreaded, so this will likely lead to a deadlock.\n",
      "  self.pid = os.fork()\n"
     ]
    },
    {
     "name": "stdout",
     "output_type": "stream",
     "text": [
      "Epoch 125:\n",
      "\ttrain: loss 0.443 | loss id   0.42 | top_1_acc 0.1069 | top_5_acc 0.3622 | cos_auc: 0.8758 | cos_acc: 0.7634 | eu_auc: 0.8135 | eu_acc: 0.7728\n",
      "\ttest: cos_auc: 0.8224 | cos_acc: 0.7846 | eu_auc: 0.7330 | eu_acc: 0.9015\n",
      "\tSaving model and optimizer state to /kaggle/working/checkpoint/magface/normalmap/models/checkpoint.pth\n",
      "\tEpoch 125: EarlyStopping counter for 'test_cosine_auc': 53/50\n",
      "\tEpoch 125: EarlyStopping counter for 'test_cosine_accuracy': 2/50\n",
      "\tEpoch 125: EarlyStopping counter for 'test_euclidean_auc': 56/50\n",
      "\tSaved best model weights for 'test_euclidean_accuracy' at epoch 125 to '/kaggle/working/checkpoint/magface/normalmap/models/best_test_euclidean_accuracy_125.pth'\n"
     ]
    },
    {
     "name": "stderr",
     "output_type": "stream",
     "text": [
      "/usr/lib/python3.10/multiprocessing/popen_fork.py:66: RuntimeWarning: os.fork() was called. os.fork() is incompatible with multithreaded code, and JAX is multithreaded, so this will likely lead to a deadlock.\n",
      "  self.pid = os.fork()\n",
      "/usr/lib/python3.10/multiprocessing/popen_fork.py:66: RuntimeWarning: os.fork() was called. os.fork() is incompatible with multithreaded code, and JAX is multithreaded, so this will likely lead to a deadlock.\n",
      "  self.pid = os.fork()\n"
     ]
    },
    {
     "name": "stdout",
     "output_type": "stream",
     "text": [
      "Epoch 126:\n",
      "\ttrain: loss 0.508 | loss id   0.49 | top_1_acc 0.1046 | top_5_acc 0.4004 | cos_auc: 0.8248 | cos_acc: 0.7379 | eu_auc: 0.7672 | eu_acc: 0.7316\n",
      "\ttest: cos_auc: 0.7749 | cos_acc: 0.8357 | eu_auc: 0.7100 | eu_acc: 0.7035\n",
      "\tSaving model and optimizer state to /kaggle/working/checkpoint/magface/normalmap/models/checkpoint.pth\n",
      "\tEpoch 126: EarlyStopping counter for 'test_cosine_auc': 54/50\n",
      "\tEpoch 126: EarlyStopping counter for 'test_cosine_accuracy': 3/50\n",
      "\tEpoch 126: EarlyStopping counter for 'test_euclidean_auc': 57/50\n",
      "\tEpoch 126: EarlyStopping counter for 'test_euclidean_accuracy': 1/50\n"
     ]
    },
    {
     "name": "stderr",
     "output_type": "stream",
     "text": [
      "/usr/lib/python3.10/multiprocessing/popen_fork.py:66: RuntimeWarning: os.fork() was called. os.fork() is incompatible with multithreaded code, and JAX is multithreaded, so this will likely lead to a deadlock.\n",
      "  self.pid = os.fork()\n",
      "/usr/lib/python3.10/multiprocessing/popen_fork.py:66: RuntimeWarning: os.fork() was called. os.fork() is incompatible with multithreaded code, and JAX is multithreaded, so this will likely lead to a deadlock.\n",
      "  self.pid = os.fork()\n"
     ]
    },
    {
     "name": "stdout",
     "output_type": "stream",
     "text": [
      "Epoch 127:\n",
      "\ttrain: loss 0.507 | loss id   0.48 | top_1_acc 0.1147 | top_5_acc 0.3768 | cos_auc: 0.8737 | cos_acc: 0.8090 | eu_auc: 0.7999 | eu_acc: 0.8078\n",
      "\ttest: cos_auc: 0.8216 | cos_acc: 0.7398 | eu_auc: 0.7211 | eu_acc: 0.9198\n",
      "\tSaving model and optimizer state to /kaggle/working/checkpoint/magface/normalmap/models/checkpoint.pth\n",
      "\tEpoch 127: EarlyStopping counter for 'test_cosine_auc': 55/50\n",
      "\tEpoch 127: EarlyStopping counter for 'test_cosine_accuracy': 4/50\n",
      "\tEpoch 127: EarlyStopping counter for 'test_euclidean_auc': 58/50\n",
      "\tSaved best model weights for 'test_euclidean_accuracy' at epoch 127 to '/kaggle/working/checkpoint/magface/normalmap/models/best_test_euclidean_accuracy_127.pth'\n"
     ]
    },
    {
     "name": "stderr",
     "output_type": "stream",
     "text": [
      "/usr/lib/python3.10/multiprocessing/popen_fork.py:66: RuntimeWarning: os.fork() was called. os.fork() is incompatible with multithreaded code, and JAX is multithreaded, so this will likely lead to a deadlock.\n",
      "  self.pid = os.fork()\n",
      "/usr/lib/python3.10/multiprocessing/popen_fork.py:66: RuntimeWarning: os.fork() was called. os.fork() is incompatible with multithreaded code, and JAX is multithreaded, so this will likely lead to a deadlock.\n",
      "  self.pid = os.fork()\n"
     ]
    },
    {
     "name": "stdout",
     "output_type": "stream",
     "text": [
      "Epoch 128:\n",
      "\ttrain: loss 0.461 | loss id   0.44 | top_1_acc 0.1440 | top_5_acc 0.4342 | cos_auc: 0.8755 | cos_acc: 0.8001 | eu_auc: 0.8035 | eu_acc: 0.7853\n",
      "\ttest: cos_auc: 0.8035 | cos_acc: 0.8045 | eu_auc: 0.7277 | eu_acc: 0.8783\n",
      "\tSaving model and optimizer state to /kaggle/working/checkpoint/magface/normalmap/models/checkpoint.pth\n",
      "\tEpoch 128: EarlyStopping counter for 'test_cosine_auc': 56/50\n",
      "\tEpoch 128: EarlyStopping counter for 'test_cosine_accuracy': 5/50\n",
      "\tEpoch 128: EarlyStopping counter for 'test_euclidean_auc': 59/50\n",
      "\tEpoch 128: EarlyStopping counter for 'test_euclidean_accuracy': 1/50\n"
     ]
    },
    {
     "name": "stderr",
     "output_type": "stream",
     "text": [
      "/usr/lib/python3.10/multiprocessing/popen_fork.py:66: RuntimeWarning: os.fork() was called. os.fork() is incompatible with multithreaded code, and JAX is multithreaded, so this will likely lead to a deadlock.\n",
      "  self.pid = os.fork()\n",
      "/usr/lib/python3.10/multiprocessing/popen_fork.py:66: RuntimeWarning: os.fork() was called. os.fork() is incompatible with multithreaded code, and JAX is multithreaded, so this will likely lead to a deadlock.\n",
      "  self.pid = os.fork()\n"
     ]
    },
    {
     "name": "stdout",
     "output_type": "stream",
     "text": [
      "Epoch 129:\n",
      "\ttrain: loss 0.447 | loss id   0.42 | top_1_acc 0.1305 | top_5_acc 0.4589 | cos_auc: 0.8577 | cos_acc: 0.7754 | eu_auc: 0.7893 | eu_acc: 0.8070\n",
      "\ttest: cos_auc: 0.7839 | cos_acc: 0.8630 | eu_auc: 0.7190 | eu_acc: 0.7642\n",
      "\tSaving model and optimizer state to /kaggle/working/checkpoint/magface/normalmap/models/checkpoint.pth\n",
      "\tEpoch 129: EarlyStopping counter for 'test_cosine_auc': 57/50\n",
      "\tSaved best model weights for 'test_cosine_accuracy' at epoch 129 to '/kaggle/working/checkpoint/magface/normalmap/models/best_test_cosine_accuracy_129.pth'\n",
      "\tEpoch 129: EarlyStopping counter for 'test_euclidean_auc': 60/50\n",
      "\tEpoch 129: EarlyStopping counter for 'test_euclidean_accuracy': 2/50\n"
     ]
    },
    {
     "name": "stderr",
     "output_type": "stream",
     "text": [
      "/usr/lib/python3.10/multiprocessing/popen_fork.py:66: RuntimeWarning: os.fork() was called. os.fork() is incompatible with multithreaded code, and JAX is multithreaded, so this will likely lead to a deadlock.\n",
      "  self.pid = os.fork()\n",
      "/usr/lib/python3.10/multiprocessing/popen_fork.py:66: RuntimeWarning: os.fork() was called. os.fork() is incompatible with multithreaded code, and JAX is multithreaded, so this will likely lead to a deadlock.\n",
      "  self.pid = os.fork()\n"
     ]
    },
    {
     "name": "stdout",
     "output_type": "stream",
     "text": [
      "Epoch 130:\n",
      "\ttrain: loss 0.434 | loss id   0.41 | top_1_acc 0.1395 | top_5_acc 0.4803 | cos_auc: 0.8604 | cos_acc: 0.7456 | eu_auc: 0.8170 | eu_acc: 0.7866\n",
      "\ttest: cos_auc: 0.7508 | cos_acc: 0.7708 | eu_auc: 0.7117 | eu_acc: 0.7496\n",
      "\tSaving model and optimizer state to /kaggle/working/checkpoint/magface/normalmap/models/checkpoint.pth\n",
      "\tEpoch 130: EarlyStopping counter for 'test_cosine_auc': 58/50\n",
      "\tEpoch 130: EarlyStopping counter for 'test_cosine_accuracy': 1/50\n",
      "\tEpoch 130: EarlyStopping counter for 'test_euclidean_auc': 61/50\n",
      "\tEpoch 130: EarlyStopping counter for 'test_euclidean_accuracy': 3/50\n"
     ]
    },
    {
     "name": "stderr",
     "output_type": "stream",
     "text": [
      "/usr/lib/python3.10/multiprocessing/popen_fork.py:66: RuntimeWarning: os.fork() was called. os.fork() is incompatible with multithreaded code, and JAX is multithreaded, so this will likely lead to a deadlock.\n",
      "  self.pid = os.fork()\n",
      "/usr/lib/python3.10/multiprocessing/popen_fork.py:66: RuntimeWarning: os.fork() was called. os.fork() is incompatible with multithreaded code, and JAX is multithreaded, so this will likely lead to a deadlock.\n",
      "  self.pid = os.fork()\n"
     ]
    },
    {
     "name": "stdout",
     "output_type": "stream",
     "text": [
      "Epoch 131:\n",
      "\ttrain: loss 0.464 | loss id   0.44 | top_1_acc 0.1642 | top_5_acc 0.4511 | cos_auc: 0.8599 | cos_acc: 0.7688 | eu_auc: 0.8139 | eu_acc: 0.7624\n",
      "\ttest: cos_auc: 0.7930 | cos_acc: 0.8278 | eu_auc: 0.7302 | eu_acc: 0.8583\n",
      "\tSaving model and optimizer state to /kaggle/working/checkpoint/magface/normalmap/models/checkpoint.pth\n",
      "\tEpoch 131: EarlyStopping counter for 'test_cosine_auc': 59/50\n",
      "\tEpoch 131: EarlyStopping counter for 'test_cosine_accuracy': 2/50\n",
      "\tEpoch 131: EarlyStopping counter for 'test_euclidean_auc': 62/50\n",
      "\tEpoch 131: EarlyStopping counter for 'test_euclidean_accuracy': 4/50\n"
     ]
    },
    {
     "name": "stderr",
     "output_type": "stream",
     "text": [
      "/usr/lib/python3.10/multiprocessing/popen_fork.py:66: RuntimeWarning: os.fork() was called. os.fork() is incompatible with multithreaded code, and JAX is multithreaded, so this will likely lead to a deadlock.\n",
      "  self.pid = os.fork()\n",
      "/usr/lib/python3.10/multiprocessing/popen_fork.py:66: RuntimeWarning: os.fork() was called. os.fork() is incompatible with multithreaded code, and JAX is multithreaded, so this will likely lead to a deadlock.\n",
      "  self.pid = os.fork()\n"
     ]
    },
    {
     "name": "stdout",
     "output_type": "stream",
     "text": [
      "Epoch 132:\n",
      "\ttrain: loss 0.446 | loss id   0.42 | top_1_acc 0.1665 | top_5_acc 0.5028 | cos_auc: 0.8871 | cos_acc: 0.7819 | eu_auc: 0.8584 | eu_acc: 0.8046\n",
      "\ttest: cos_auc: 0.8266 | cos_acc: 0.7102 | eu_auc: 0.7785 | eu_acc: 0.8093\n",
      "\tSaving model and optimizer state to /kaggle/working/checkpoint/magface/normalmap/models/checkpoint.pth\n",
      "\tEpoch 132: EarlyStopping counter for 'test_cosine_auc': 60/50\n",
      "\tEpoch 132: EarlyStopping counter for 'test_cosine_accuracy': 3/50\n",
      "\tEpoch 132: EarlyStopping counter for 'test_euclidean_auc': 63/50\n",
      "\tEpoch 132: EarlyStopping counter for 'test_euclidean_accuracy': 5/50\n"
     ]
    },
    {
     "name": "stderr",
     "output_type": "stream",
     "text": [
      "/usr/lib/python3.10/multiprocessing/popen_fork.py:66: RuntimeWarning: os.fork() was called. os.fork() is incompatible with multithreaded code, and JAX is multithreaded, so this will likely lead to a deadlock.\n",
      "  self.pid = os.fork()\n",
      "/usr/lib/python3.10/multiprocessing/popen_fork.py:66: RuntimeWarning: os.fork() was called. os.fork() is incompatible with multithreaded code, and JAX is multithreaded, so this will likely lead to a deadlock.\n",
      "  self.pid = os.fork()\n"
     ]
    },
    {
     "name": "stdout",
     "output_type": "stream",
     "text": [
      "Epoch 133:\n",
      "\ttrain: loss 0.447 | loss id   0.42 | top_1_acc 0.1957 | top_5_acc 0.5501 | cos_auc: 0.8525 | cos_acc: 0.7583 | eu_auc: 0.8113 | eu_acc: 0.7595\n",
      "\ttest: cos_auc: 0.7668 | cos_acc: 0.7927 | eu_auc: 0.7101 | eu_acc: 0.7873\n",
      "\tSaving model and optimizer state to /kaggle/working/checkpoint/magface/normalmap/models/checkpoint.pth\n",
      "\tEpoch 133: EarlyStopping counter for 'test_cosine_auc': 61/50\n",
      "\tEpoch 133: EarlyStopping counter for 'test_cosine_accuracy': 4/50\n",
      "\tEpoch 133: EarlyStopping counter for 'test_euclidean_auc': 64/50\n",
      "\tEpoch 133: EarlyStopping counter for 'test_euclidean_accuracy': 6/50\n"
     ]
    },
    {
     "name": "stderr",
     "output_type": "stream",
     "text": [
      "/usr/lib/python3.10/multiprocessing/popen_fork.py:66: RuntimeWarning: os.fork() was called. os.fork() is incompatible with multithreaded code, and JAX is multithreaded, so this will likely lead to a deadlock.\n",
      "  self.pid = os.fork()\n",
      "/usr/lib/python3.10/multiprocessing/popen_fork.py:66: RuntimeWarning: os.fork() was called. os.fork() is incompatible with multithreaded code, and JAX is multithreaded, so this will likely lead to a deadlock.\n",
      "  self.pid = os.fork()\n"
     ]
    },
    {
     "name": "stdout",
     "output_type": "stream",
     "text": [
      "Epoch 134:\n",
      "\ttrain: loss 0.430 | loss id   0.41 | top_1_acc 0.1980 | top_5_acc 0.5512 | cos_auc: 0.8866 | cos_acc: 0.7810 | eu_auc: 0.8197 | eu_acc: 0.8193\n",
      "\ttest: cos_auc: 0.8011 | cos_acc: 0.7769 | eu_auc: 0.7295 | eu_acc: 0.8726\n",
      "\tSaving model and optimizer state to /kaggle/working/checkpoint/magface/normalmap/models/checkpoint.pth\n",
      "\tEpoch 134: EarlyStopping counter for 'test_cosine_auc': 62/50\n",
      "\tEpoch 134: EarlyStopping counter for 'test_cosine_accuracy': 5/50\n",
      "\tEpoch 134: EarlyStopping counter for 'test_euclidean_auc': 65/50\n",
      "\tEpoch 134: EarlyStopping counter for 'test_euclidean_accuracy': 7/50\n"
     ]
    },
    {
     "name": "stderr",
     "output_type": "stream",
     "text": [
      "/usr/lib/python3.10/multiprocessing/popen_fork.py:66: RuntimeWarning: os.fork() was called. os.fork() is incompatible with multithreaded code, and JAX is multithreaded, so this will likely lead to a deadlock.\n",
      "  self.pid = os.fork()\n",
      "/usr/lib/python3.10/multiprocessing/popen_fork.py:66: RuntimeWarning: os.fork() was called. os.fork() is incompatible with multithreaded code, and JAX is multithreaded, so this will likely lead to a deadlock.\n",
      "  self.pid = os.fork()\n"
     ]
    },
    {
     "name": "stdout",
     "output_type": "stream",
     "text": [
      "Epoch 135:\n",
      "\ttrain: loss 0.432 | loss id   0.41 | top_1_acc 0.2227 | top_5_acc 0.5591 | cos_auc: 0.8945 | cos_acc: 0.7535 | eu_auc: 0.8648 | eu_acc: 0.8342\n",
      "\ttest: cos_auc: 0.8216 | cos_acc: 0.8029 | eu_auc: 0.7760 | eu_acc: 0.8754\n",
      "\tSaving model and optimizer state to /kaggle/working/checkpoint/magface/normalmap/models/checkpoint.pth\n",
      "\tEpoch 135: EarlyStopping counter for 'test_cosine_auc': 63/50\n",
      "\tEpoch 135: EarlyStopping counter for 'test_cosine_accuracy': 6/50\n",
      "\tEpoch 135: EarlyStopping counter for 'test_euclidean_auc': 66/50\n",
      "\tEpoch 135: EarlyStopping counter for 'test_euclidean_accuracy': 8/50\n"
     ]
    },
    {
     "name": "stderr",
     "output_type": "stream",
     "text": [
      "/usr/lib/python3.10/multiprocessing/popen_fork.py:66: RuntimeWarning: os.fork() was called. os.fork() is incompatible with multithreaded code, and JAX is multithreaded, so this will likely lead to a deadlock.\n",
      "  self.pid = os.fork()\n",
      "/usr/lib/python3.10/multiprocessing/popen_fork.py:66: RuntimeWarning: os.fork() was called. os.fork() is incompatible with multithreaded code, and JAX is multithreaded, so this will likely lead to a deadlock.\n",
      "  self.pid = os.fork()\n"
     ]
    },
    {
     "name": "stdout",
     "output_type": "stream",
     "text": [
      "Epoch 136:\n",
      "\ttrain: loss 0.398 | loss id   0.38 | top_1_acc 0.2137 | top_5_acc 0.6029 | cos_auc: 0.8828 | cos_acc: 0.7856 | eu_auc: 0.8410 | eu_acc: 0.8099\n",
      "\ttest: cos_auc: 0.7958 | cos_acc: 0.7800 | eu_auc: 0.7551 | eu_acc: 0.8802\n",
      "\tSaving model and optimizer state to /kaggle/working/checkpoint/magface/normalmap/models/checkpoint.pth\n",
      "\tEpoch 136: EarlyStopping counter for 'test_cosine_auc': 64/50\n",
      "\tEpoch 136: EarlyStopping counter for 'test_cosine_accuracy': 7/50\n",
      "\tEpoch 136: EarlyStopping counter for 'test_euclidean_auc': 67/50\n",
      "\tEpoch 136: EarlyStopping counter for 'test_euclidean_accuracy': 9/50\n"
     ]
    },
    {
     "name": "stderr",
     "output_type": "stream",
     "text": [
      "/usr/lib/python3.10/multiprocessing/popen_fork.py:66: RuntimeWarning: os.fork() was called. os.fork() is incompatible with multithreaded code, and JAX is multithreaded, so this will likely lead to a deadlock.\n",
      "  self.pid = os.fork()\n",
      "/usr/lib/python3.10/multiprocessing/popen_fork.py:66: RuntimeWarning: os.fork() was called. os.fork() is incompatible with multithreaded code, and JAX is multithreaded, so this will likely lead to a deadlock.\n",
      "  self.pid = os.fork()\n"
     ]
    },
    {
     "name": "stdout",
     "output_type": "stream",
     "text": [
      "Epoch 137:\n",
      "\ttrain: loss 0.414 | loss id   0.39 | top_1_acc 0.2261 | top_5_acc 0.5827 | cos_auc: 0.9055 | cos_acc: 0.8330 | eu_auc: 0.8597 | eu_acc: 0.8537\n",
      "\ttest: cos_auc: 0.8165 | cos_acc: 0.8330 | eu_auc: 0.7568 | eu_acc: 0.8823\n",
      "\tSaving model and optimizer state to /kaggle/working/checkpoint/magface/normalmap/models/checkpoint.pth\n",
      "\tEpoch 137: EarlyStopping counter for 'test_cosine_auc': 65/50\n",
      "\tEpoch 137: EarlyStopping counter for 'test_cosine_accuracy': 8/50\n",
      "\tEpoch 137: EarlyStopping counter for 'test_euclidean_auc': 68/50\n",
      "\tEpoch 137: EarlyStopping counter for 'test_euclidean_accuracy': 10/50\n"
     ]
    },
    {
     "name": "stderr",
     "output_type": "stream",
     "text": [
      "/usr/lib/python3.10/multiprocessing/popen_fork.py:66: RuntimeWarning: os.fork() was called. os.fork() is incompatible with multithreaded code, and JAX is multithreaded, so this will likely lead to a deadlock.\n",
      "  self.pid = os.fork()\n",
      "/usr/lib/python3.10/multiprocessing/popen_fork.py:66: RuntimeWarning: os.fork() was called. os.fork() is incompatible with multithreaded code, and JAX is multithreaded, so this will likely lead to a deadlock.\n",
      "  self.pid = os.fork()\n"
     ]
    },
    {
     "name": "stdout",
     "output_type": "stream",
     "text": [
      "Epoch 138:\n",
      "\ttrain: loss 0.378 | loss id   0.36 | top_1_acc 0.2508 | top_5_acc 0.6175 | cos_auc: 0.8888 | cos_acc: 0.7761 | eu_auc: 0.8622 | eu_acc: 0.7734\n",
      "\ttest: cos_auc: 0.7877 | cos_acc: 0.7366 | eu_auc: 0.7570 | eu_acc: 0.8695\n",
      "\tSaving model and optimizer state to /kaggle/working/checkpoint/magface/normalmap/models/checkpoint.pth\n",
      "\tEpoch 138: EarlyStopping counter for 'test_cosine_auc': 66/50\n",
      "\tEpoch 138: EarlyStopping counter for 'test_cosine_accuracy': 9/50\n",
      "\tEpoch 138: EarlyStopping counter for 'test_euclidean_auc': 69/50\n",
      "\tEpoch 138: EarlyStopping counter for 'test_euclidean_accuracy': 11/50\n"
     ]
    },
    {
     "name": "stderr",
     "output_type": "stream",
     "text": [
      "/usr/lib/python3.10/multiprocessing/popen_fork.py:66: RuntimeWarning: os.fork() was called. os.fork() is incompatible with multithreaded code, and JAX is multithreaded, so this will likely lead to a deadlock.\n",
      "  self.pid = os.fork()\n",
      "/usr/lib/python3.10/multiprocessing/popen_fork.py:66: RuntimeWarning: os.fork() was called. os.fork() is incompatible with multithreaded code, and JAX is multithreaded, so this will likely lead to a deadlock.\n",
      "  self.pid = os.fork()\n"
     ]
    },
    {
     "name": "stdout",
     "output_type": "stream",
     "text": [
      "Epoch 139:\n",
      "\ttrain: loss 0.377 | loss id   0.35 | top_1_acc 0.2587 | top_5_acc 0.6265 | cos_auc: 0.8932 | cos_acc: 0.7981 | eu_auc: 0.8639 | eu_acc: 0.7858\n",
      "\ttest: cos_auc: 0.8123 | cos_acc: 0.7389 | eu_auc: 0.7701 | eu_acc: 0.8685\n",
      "\tSaving model and optimizer state to /kaggle/working/checkpoint/magface/normalmap/models/checkpoint.pth\n",
      "\tEpoch 139: EarlyStopping counter for 'test_cosine_auc': 67/50\n",
      "\tEpoch 139: EarlyStopping counter for 'test_cosine_accuracy': 10/50\n",
      "\tEpoch 139: EarlyStopping counter for 'test_euclidean_auc': 70/50\n",
      "\tEpoch 139: EarlyStopping counter for 'test_euclidean_accuracy': 12/50\n"
     ]
    },
    {
     "name": "stderr",
     "output_type": "stream",
     "text": [
      "/usr/lib/python3.10/multiprocessing/popen_fork.py:66: RuntimeWarning: os.fork() was called. os.fork() is incompatible with multithreaded code, and JAX is multithreaded, so this will likely lead to a deadlock.\n",
      "  self.pid = os.fork()\n",
      "/usr/lib/python3.10/multiprocessing/popen_fork.py:66: RuntimeWarning: os.fork() was called. os.fork() is incompatible with multithreaded code, and JAX is multithreaded, so this will likely lead to a deadlock.\n",
      "  self.pid = os.fork()\n"
     ]
    },
    {
     "name": "stdout",
     "output_type": "stream",
     "text": [
      "Epoch 140:\n",
      "\ttrain: loss 0.412 | loss id   0.39 | top_1_acc 0.3003 | top_5_acc 0.6490 | cos_auc: 0.9070 | cos_acc: 0.7747 | eu_auc: 0.8737 | eu_acc: 0.8272\n",
      "\ttest: cos_auc: 0.7964 | cos_acc: 0.8117 | eu_auc: 0.7740 | eu_acc: 0.8579\n",
      "\tSaving model and optimizer state to /kaggle/working/checkpoint/magface/normalmap/models/checkpoint.pth\n",
      "\tEpoch 140: EarlyStopping counter for 'test_cosine_auc': 68/50\n",
      "\tEpoch 140: EarlyStopping counter for 'test_cosine_accuracy': 11/50\n",
      "\tEpoch 140: EarlyStopping counter for 'test_euclidean_auc': 71/50\n",
      "\tEpoch 140: EarlyStopping counter for 'test_euclidean_accuracy': 13/50\n"
     ]
    },
    {
     "name": "stderr",
     "output_type": "stream",
     "text": [
      "/usr/lib/python3.10/multiprocessing/popen_fork.py:66: RuntimeWarning: os.fork() was called. os.fork() is incompatible with multithreaded code, and JAX is multithreaded, so this will likely lead to a deadlock.\n",
      "  self.pid = os.fork()\n",
      "/usr/lib/python3.10/multiprocessing/popen_fork.py:66: RuntimeWarning: os.fork() was called. os.fork() is incompatible with multithreaded code, and JAX is multithreaded, so this will likely lead to a deadlock.\n",
      "  self.pid = os.fork()\n"
     ]
    },
    {
     "name": "stdout",
     "output_type": "stream",
     "text": [
      "Epoch 141:\n",
      "\ttrain: loss 0.356 | loss id   0.33 | top_1_acc 0.3082 | top_5_acc 0.6839 | cos_auc: 0.9100 | cos_acc: 0.8145 | eu_auc: 0.8580 | eu_acc: 0.8446\n",
      "\ttest: cos_auc: 0.8228 | cos_acc: 0.7838 | eu_auc: 0.7799 | eu_acc: 0.8442\n",
      "\tSaving model and optimizer state to /kaggle/working/checkpoint/magface/normalmap/models/checkpoint.pth\n",
      "\tEpoch 141: EarlyStopping counter for 'test_cosine_auc': 69/50\n",
      "\tEpoch 141: EarlyStopping counter for 'test_cosine_accuracy': 12/50\n",
      "\tEpoch 141: EarlyStopping counter for 'test_euclidean_auc': 72/50\n",
      "\tEpoch 141: EarlyStopping counter for 'test_euclidean_accuracy': 14/50\n"
     ]
    },
    {
     "name": "stderr",
     "output_type": "stream",
     "text": [
      "/usr/lib/python3.10/multiprocessing/popen_fork.py:66: RuntimeWarning: os.fork() was called. os.fork() is incompatible with multithreaded code, and JAX is multithreaded, so this will likely lead to a deadlock.\n",
      "  self.pid = os.fork()\n",
      "/usr/lib/python3.10/multiprocessing/popen_fork.py:66: RuntimeWarning: os.fork() was called. os.fork() is incompatible with multithreaded code, and JAX is multithreaded, so this will likely lead to a deadlock.\n",
      "  self.pid = os.fork()\n"
     ]
    },
    {
     "name": "stdout",
     "output_type": "stream",
     "text": [
      "Epoch 142:\n",
      "\ttrain: loss 0.381 | loss id   0.36 | top_1_acc 0.3240 | top_5_acc 0.7019 | cos_auc: 0.9068 | cos_acc: 0.7995 | eu_auc: 0.8665 | eu_acc: 0.8455\n",
      "\ttest: cos_auc: 0.8162 | cos_acc: 0.7361 | eu_auc: 0.7682 | eu_acc: 0.8315\n",
      "\tSaving model and optimizer state to /kaggle/working/checkpoint/magface/normalmap/models/checkpoint.pth\n",
      "\tEpoch 142: EarlyStopping counter for 'test_cosine_auc': 70/50\n",
      "\tEpoch 142: EarlyStopping counter for 'test_cosine_accuracy': 13/50\n",
      "\tEpoch 142: EarlyStopping counter for 'test_euclidean_auc': 73/50\n",
      "\tEpoch 142: EarlyStopping counter for 'test_euclidean_accuracy': 15/50\n"
     ]
    },
    {
     "name": "stderr",
     "output_type": "stream",
     "text": [
      "/usr/lib/python3.10/multiprocessing/popen_fork.py:66: RuntimeWarning: os.fork() was called. os.fork() is incompatible with multithreaded code, and JAX is multithreaded, so this will likely lead to a deadlock.\n",
      "  self.pid = os.fork()\n",
      "/usr/lib/python3.10/multiprocessing/popen_fork.py:66: RuntimeWarning: os.fork() was called. os.fork() is incompatible with multithreaded code, and JAX is multithreaded, so this will likely lead to a deadlock.\n",
      "  self.pid = os.fork()\n"
     ]
    },
    {
     "name": "stdout",
     "output_type": "stream",
     "text": [
      "Epoch 143:\n",
      "\ttrain: loss 0.353 | loss id   0.33 | top_1_acc 0.3408 | top_5_acc 0.7165 | cos_auc: 0.9343 | cos_acc: 0.8115 | eu_auc: 0.9014 | eu_acc: 0.8275\n",
      "\ttest: cos_auc: 0.8228 | cos_acc: 0.8069 | eu_auc: 0.7935 | eu_acc: 0.7908\n",
      "\tSaving model and optimizer state to /kaggle/working/checkpoint/magface/normalmap/models/checkpoint.pth\n",
      "\tEpoch 143: EarlyStopping counter for 'test_cosine_auc': 71/50\n",
      "\tEpoch 143: EarlyStopping counter for 'test_cosine_accuracy': 14/50\n",
      "\tSaved best model weights for 'test_euclidean_auc' at epoch 143 to '/kaggle/working/checkpoint/magface/normalmap/models/best_test_euclidean_auc_143.pth'\n",
      "\tEpoch 143: EarlyStopping counter for 'test_euclidean_accuracy': 16/50\n"
     ]
    },
    {
     "name": "stderr",
     "output_type": "stream",
     "text": [
      "/usr/lib/python3.10/multiprocessing/popen_fork.py:66: RuntimeWarning: os.fork() was called. os.fork() is incompatible with multithreaded code, and JAX is multithreaded, so this will likely lead to a deadlock.\n",
      "  self.pid = os.fork()\n",
      "/usr/lib/python3.10/multiprocessing/popen_fork.py:66: RuntimeWarning: os.fork() was called. os.fork() is incompatible with multithreaded code, and JAX is multithreaded, so this will likely lead to a deadlock.\n",
      "  self.pid = os.fork()\n"
     ]
    },
    {
     "name": "stdout",
     "output_type": "stream",
     "text": [
      "Epoch 144:\n",
      "\ttrain: loss 0.334 | loss id   0.31 | top_1_acc 0.3555 | top_5_acc 0.7424 | cos_auc: 0.9409 | cos_acc: 0.8484 | eu_auc: 0.8929 | eu_acc: 0.8378\n",
      "\ttest: cos_auc: 0.8390 | cos_acc: 0.8646 | eu_auc: 0.7790 | eu_acc: 0.8562\n",
      "\tSaving model and optimizer state to /kaggle/working/checkpoint/magface/normalmap/models/checkpoint.pth\n",
      "\tSaved best model weights for 'test_cosine_auc' at epoch 144 to '/kaggle/working/checkpoint/magface/normalmap/models/best_test_cosine_auc_144.pth'\n",
      "\tSaved best model weights for 'test_cosine_accuracy' at epoch 144 to '/kaggle/working/checkpoint/magface/normalmap/models/best_test_cosine_accuracy_144.pth'\n",
      "\tEpoch 144: EarlyStopping counter for 'test_euclidean_auc': 1/50\n",
      "\tEpoch 144: EarlyStopping counter for 'test_euclidean_accuracy': 17/50\n"
     ]
    },
    {
     "name": "stderr",
     "output_type": "stream",
     "text": [
      "/usr/lib/python3.10/multiprocessing/popen_fork.py:66: RuntimeWarning: os.fork() was called. os.fork() is incompatible with multithreaded code, and JAX is multithreaded, so this will likely lead to a deadlock.\n",
      "  self.pid = os.fork()\n",
      "/usr/lib/python3.10/multiprocessing/popen_fork.py:66: RuntimeWarning: os.fork() was called. os.fork() is incompatible with multithreaded code, and JAX is multithreaded, so this will likely lead to a deadlock.\n",
      "  self.pid = os.fork()\n"
     ]
    },
    {
     "name": "stdout",
     "output_type": "stream",
     "text": [
      "Epoch 145:\n",
      "\ttrain: loss 0.324 | loss id   0.30 | top_1_acc 0.3847 | top_5_acc 0.7750 | cos_auc: 0.9336 | cos_acc: 0.8314 | eu_auc: 0.8993 | eu_acc: 0.8378\n",
      "\ttest: cos_auc: 0.8365 | cos_acc: 0.7416 | eu_auc: 0.7847 | eu_acc: 0.9128\n",
      "\tSaving model and optimizer state to /kaggle/working/checkpoint/magface/normalmap/models/checkpoint.pth\n",
      "\tEpoch 145: EarlyStopping counter for 'test_cosine_auc': 1/50\n",
      "\tEpoch 145: EarlyStopping counter for 'test_cosine_accuracy': 1/50\n",
      "\tEpoch 145: EarlyStopping counter for 'test_euclidean_auc': 2/50\n",
      "\tEpoch 145: EarlyStopping counter for 'test_euclidean_accuracy': 18/50\n"
     ]
    },
    {
     "name": "stderr",
     "output_type": "stream",
     "text": [
      "/usr/lib/python3.10/multiprocessing/popen_fork.py:66: RuntimeWarning: os.fork() was called. os.fork() is incompatible with multithreaded code, and JAX is multithreaded, so this will likely lead to a deadlock.\n",
      "  self.pid = os.fork()\n",
      "/usr/lib/python3.10/multiprocessing/popen_fork.py:66: RuntimeWarning: os.fork() was called. os.fork() is incompatible with multithreaded code, and JAX is multithreaded, so this will likely lead to a deadlock.\n",
      "  self.pid = os.fork()\n"
     ]
    },
    {
     "name": "stdout",
     "output_type": "stream",
     "text": [
      "Epoch 146:\n",
      "\ttrain: loss 0.325 | loss id   0.30 | top_1_acc 0.4094 | top_5_acc 0.7908 | cos_auc: 0.9376 | cos_acc: 0.8306 | eu_auc: 0.9135 | eu_acc: 0.8145\n",
      "\ttest: cos_auc: 0.8172 | cos_acc: 0.7083 | eu_auc: 0.7897 | eu_acc: 0.6963\n",
      "\tSaving model and optimizer state to /kaggle/working/checkpoint/magface/normalmap/models/checkpoint.pth\n",
      "\tEpoch 146: EarlyStopping counter for 'test_cosine_auc': 2/50\n",
      "\tEpoch 146: EarlyStopping counter for 'test_cosine_accuracy': 2/50\n",
      "\tEpoch 146: EarlyStopping counter for 'test_euclidean_auc': 3/50\n",
      "\tEpoch 146: EarlyStopping counter for 'test_euclidean_accuracy': 19/50\n"
     ]
    },
    {
     "name": "stderr",
     "output_type": "stream",
     "text": [
      "/usr/lib/python3.10/multiprocessing/popen_fork.py:66: RuntimeWarning: os.fork() was called. os.fork() is incompatible with multithreaded code, and JAX is multithreaded, so this will likely lead to a deadlock.\n",
      "  self.pid = os.fork()\n",
      "/usr/lib/python3.10/multiprocessing/popen_fork.py:66: RuntimeWarning: os.fork() was called. os.fork() is incompatible with multithreaded code, and JAX is multithreaded, so this will likely lead to a deadlock.\n",
      "  self.pid = os.fork()\n"
     ]
    },
    {
     "name": "stdout",
     "output_type": "stream",
     "text": [
      "Epoch 147:\n",
      "\ttrain: loss 0.307 | loss id   0.28 | top_1_acc 0.4184 | top_5_acc 0.7975 | cos_auc: 0.9419 | cos_acc: 0.8544 | eu_auc: 0.9172 | eu_acc: 0.8499\n",
      "\ttest: cos_auc: 0.8059 | cos_acc: 0.7534 | eu_auc: 0.7635 | eu_acc: 0.9056\n",
      "\tSaving model and optimizer state to /kaggle/working/checkpoint/magface/normalmap/models/checkpoint.pth\n",
      "\tEpoch 147: EarlyStopping counter for 'test_cosine_auc': 3/50\n",
      "\tEpoch 147: EarlyStopping counter for 'test_cosine_accuracy': 3/50\n",
      "\tEpoch 147: EarlyStopping counter for 'test_euclidean_auc': 4/50\n",
      "\tEpoch 147: EarlyStopping counter for 'test_euclidean_accuracy': 20/50\n"
     ]
    },
    {
     "name": "stderr",
     "output_type": "stream",
     "text": [
      "/usr/lib/python3.10/multiprocessing/popen_fork.py:66: RuntimeWarning: os.fork() was called. os.fork() is incompatible with multithreaded code, and JAX is multithreaded, so this will likely lead to a deadlock.\n",
      "  self.pid = os.fork()\n",
      "/usr/lib/python3.10/multiprocessing/popen_fork.py:66: RuntimeWarning: os.fork() was called. os.fork() is incompatible with multithreaded code, and JAX is multithreaded, so this will likely lead to a deadlock.\n",
      "  self.pid = os.fork()\n"
     ]
    },
    {
     "name": "stdout",
     "output_type": "stream",
     "text": [
      "Epoch 148:\n",
      "\ttrain: loss 0.308 | loss id   0.29 | top_1_acc 0.4792 | top_5_acc 0.8234 | cos_auc: 0.9436 | cos_acc: 0.8784 | eu_auc: 0.9159 | eu_acc: 0.8855\n",
      "\ttest: cos_auc: 0.7978 | cos_acc: 0.7225 | eu_auc: 0.7603 | eu_acc: 0.8351\n",
      "\tSaving model and optimizer state to /kaggle/working/checkpoint/magface/normalmap/models/checkpoint.pth\n",
      "\tEpoch 148: EarlyStopping counter for 'test_cosine_auc': 4/50\n",
      "\tEpoch 148: EarlyStopping counter for 'test_cosine_accuracy': 4/50\n",
      "\tEpoch 148: EarlyStopping counter for 'test_euclidean_auc': 5/50\n",
      "\tEpoch 148: EarlyStopping counter for 'test_euclidean_accuracy': 21/50\n"
     ]
    },
    {
     "name": "stderr",
     "output_type": "stream",
     "text": [
      "/usr/lib/python3.10/multiprocessing/popen_fork.py:66: RuntimeWarning: os.fork() was called. os.fork() is incompatible with multithreaded code, and JAX is multithreaded, so this will likely lead to a deadlock.\n",
      "  self.pid = os.fork()\n",
      "/usr/lib/python3.10/multiprocessing/popen_fork.py:66: RuntimeWarning: os.fork() was called. os.fork() is incompatible with multithreaded code, and JAX is multithreaded, so this will likely lead to a deadlock.\n",
      "  self.pid = os.fork()\n"
     ]
    },
    {
     "name": "stdout",
     "output_type": "stream",
     "text": [
      "Epoch 149:\n",
      "\ttrain: loss 0.283 | loss id   0.26 | top_1_acc 0.4724 | top_5_acc 0.8245 | cos_auc: 0.9528 | cos_acc: 0.8467 | eu_auc: 0.9212 | eu_acc: 0.8523\n",
      "\ttest: cos_auc: 0.8126 | cos_acc: 0.8266 | eu_auc: 0.7817 | eu_acc: 0.8702\n",
      "\tSaving model and optimizer state to /kaggle/working/checkpoint/magface/normalmap/models/checkpoint.pth\n",
      "\tEpoch 149: EarlyStopping counter for 'test_cosine_auc': 5/50\n",
      "\tEpoch 149: EarlyStopping counter for 'test_cosine_accuracy': 5/50\n",
      "\tEpoch 149: EarlyStopping counter for 'test_euclidean_auc': 6/50\n",
      "\tEpoch 149: EarlyStopping counter for 'test_euclidean_accuracy': 22/50\n"
     ]
    },
    {
     "name": "stderr",
     "output_type": "stream",
     "text": [
      "/usr/lib/python3.10/multiprocessing/popen_fork.py:66: RuntimeWarning: os.fork() was called. os.fork() is incompatible with multithreaded code, and JAX is multithreaded, so this will likely lead to a deadlock.\n",
      "  self.pid = os.fork()\n",
      "/usr/lib/python3.10/multiprocessing/popen_fork.py:66: RuntimeWarning: os.fork() was called. os.fork() is incompatible with multithreaded code, and JAX is multithreaded, so this will likely lead to a deadlock.\n",
      "  self.pid = os.fork()\n"
     ]
    },
    {
     "name": "stdout",
     "output_type": "stream",
     "text": [
      "Epoch 150:\n",
      "\ttrain: loss 0.271 | loss id   0.25 | top_1_acc 0.4803 | top_5_acc 0.8290 | cos_auc: 0.9561 | cos_acc: 0.8626 | eu_auc: 0.9337 | eu_acc: 0.8538\n",
      "\ttest: cos_auc: 0.8215 | cos_acc: 0.7882 | eu_auc: 0.7834 | eu_acc: 0.8333\n",
      "\tSaving model and optimizer state to /kaggle/working/checkpoint/magface/normalmap/models/checkpoint.pth\n",
      "\tEpoch 150: EarlyStopping counter for 'test_cosine_auc': 6/50\n",
      "\tEpoch 150: EarlyStopping counter for 'test_cosine_accuracy': 6/50\n",
      "\tEpoch 150: EarlyStopping counter for 'test_euclidean_auc': 7/50\n",
      "\tEpoch 150: EarlyStopping counter for 'test_euclidean_accuracy': 23/50\n"
     ]
    },
    {
     "name": "stderr",
     "output_type": "stream",
     "text": [
      "/usr/lib/python3.10/multiprocessing/popen_fork.py:66: RuntimeWarning: os.fork() was called. os.fork() is incompatible with multithreaded code, and JAX is multithreaded, so this will likely lead to a deadlock.\n",
      "  self.pid = os.fork()\n",
      "/usr/lib/python3.10/multiprocessing/popen_fork.py:66: RuntimeWarning: os.fork() was called. os.fork() is incompatible with multithreaded code, and JAX is multithreaded, so this will likely lead to a deadlock.\n",
      "  self.pid = os.fork()\n"
     ]
    },
    {
     "name": "stdout",
     "output_type": "stream",
     "text": [
      "Epoch 151:\n",
      "\ttrain: loss 0.241 | loss id   0.22 | top_1_acc 0.5208 | top_5_acc 0.8729 | cos_auc: 0.9534 | cos_acc: 0.8489 | eu_auc: 0.9333 | eu_acc: 0.8485\n",
      "\ttest: cos_auc: 0.8289 | cos_acc: 0.8062 | eu_auc: 0.7915 | eu_acc: 0.8617\n",
      "\tSaving model and optimizer state to /kaggle/working/checkpoint/magface/normalmap/models/checkpoint.pth\n",
      "\tEpoch 151: EarlyStopping counter for 'test_cosine_auc': 7/50\n",
      "\tEpoch 151: EarlyStopping counter for 'test_cosine_accuracy': 7/50\n",
      "\tEpoch 151: EarlyStopping counter for 'test_euclidean_auc': 8/50\n",
      "\tEpoch 151: EarlyStopping counter for 'test_euclidean_accuracy': 24/50\n"
     ]
    },
    {
     "name": "stderr",
     "output_type": "stream",
     "text": [
      "/usr/lib/python3.10/multiprocessing/popen_fork.py:66: RuntimeWarning: os.fork() was called. os.fork() is incompatible with multithreaded code, and JAX is multithreaded, so this will likely lead to a deadlock.\n",
      "  self.pid = os.fork()\n",
      "/usr/lib/python3.10/multiprocessing/popen_fork.py:66: RuntimeWarning: os.fork() was called. os.fork() is incompatible with multithreaded code, and JAX is multithreaded, so this will likely lead to a deadlock.\n",
      "  self.pid = os.fork()\n"
     ]
    },
    {
     "name": "stdout",
     "output_type": "stream",
     "text": [
      "Epoch 152:\n",
      "\ttrain: loss 0.246 | loss id   0.22 | top_1_acc 0.5658 | top_5_acc 0.8808 | cos_auc: 0.9539 | cos_acc: 0.8731 | eu_auc: 0.9376 | eu_acc: 0.8463\n",
      "\ttest: cos_auc: 0.8196 | cos_acc: 0.7846 | eu_auc: 0.7897 | eu_acc: 0.8759\n",
      "\tSaving model and optimizer state to /kaggle/working/checkpoint/magface/normalmap/models/checkpoint.pth\n",
      "\tEpoch 152: EarlyStopping counter for 'test_cosine_auc': 8/50\n",
      "\tEpoch 152: EarlyStopping counter for 'test_cosine_accuracy': 8/50\n",
      "\tEpoch 152: EarlyStopping counter for 'test_euclidean_auc': 9/50\n",
      "\tEpoch 152: EarlyStopping counter for 'test_euclidean_accuracy': 25/50\n"
     ]
    },
    {
     "name": "stderr",
     "output_type": "stream",
     "text": [
      "/usr/lib/python3.10/multiprocessing/popen_fork.py:66: RuntimeWarning: os.fork() was called. os.fork() is incompatible with multithreaded code, and JAX is multithreaded, so this will likely lead to a deadlock.\n",
      "  self.pid = os.fork()\n",
      "/usr/lib/python3.10/multiprocessing/popen_fork.py:66: RuntimeWarning: os.fork() was called. os.fork() is incompatible with multithreaded code, and JAX is multithreaded, so this will likely lead to a deadlock.\n",
      "  self.pid = os.fork()\n"
     ]
    },
    {
     "name": "stdout",
     "output_type": "stream",
     "text": [
      "Epoch 153:\n",
      "\ttrain: loss 0.302 | loss id   0.28 | top_1_acc 0.5478 | top_5_acc 0.8841 | cos_auc: 0.9557 | cos_acc: 0.8720 | eu_auc: 0.9346 | eu_acc: 0.8317\n",
      "\ttest: cos_auc: 0.8195 | cos_acc: 0.8474 | eu_auc: 0.7934 | eu_acc: 0.7889\n",
      "\tSaving model and optimizer state to /kaggle/working/checkpoint/magface/normalmap/models/checkpoint.pth\n",
      "\tEpoch 153: EarlyStopping counter for 'test_cosine_auc': 9/50\n",
      "\tEpoch 153: EarlyStopping counter for 'test_cosine_accuracy': 9/50\n",
      "\tEpoch 153: EarlyStopping counter for 'test_euclidean_auc': 10/50\n",
      "\tEpoch 153: EarlyStopping counter for 'test_euclidean_accuracy': 26/50\n"
     ]
    },
    {
     "name": "stderr",
     "output_type": "stream",
     "text": [
      "/usr/lib/python3.10/multiprocessing/popen_fork.py:66: RuntimeWarning: os.fork() was called. os.fork() is incompatible with multithreaded code, and JAX is multithreaded, so this will likely lead to a deadlock.\n",
      "  self.pid = os.fork()\n",
      "/usr/lib/python3.10/multiprocessing/popen_fork.py:66: RuntimeWarning: os.fork() was called. os.fork() is incompatible with multithreaded code, and JAX is multithreaded, so this will likely lead to a deadlock.\n",
      "  self.pid = os.fork()\n"
     ]
    },
    {
     "name": "stdout",
     "output_type": "stream",
     "text": [
      "Epoch 154:\n",
      "\ttrain: loss 0.217 | loss id   0.19 | top_1_acc 0.5804 | top_5_acc 0.9044 | cos_auc: 0.9648 | cos_acc: 0.8694 | eu_auc: 0.9493 | eu_acc: 0.8740\n",
      "\ttest: cos_auc: 0.8244 | cos_acc: 0.8363 | eu_auc: 0.7940 | eu_acc: 0.9040\n",
      "\tSaving model and optimizer state to /kaggle/working/checkpoint/magface/normalmap/models/checkpoint.pth\n",
      "\tEpoch 154: EarlyStopping counter for 'test_cosine_auc': 10/50\n",
      "\tEpoch 154: EarlyStopping counter for 'test_cosine_accuracy': 10/50\n",
      "\tSaved best model weights for 'test_euclidean_auc' at epoch 154 to '/kaggle/working/checkpoint/magface/normalmap/models/best_test_euclidean_auc_154.pth'\n",
      "\tEpoch 154: EarlyStopping counter for 'test_euclidean_accuracy': 27/50\n"
     ]
    },
    {
     "name": "stderr",
     "output_type": "stream",
     "text": [
      "/usr/lib/python3.10/multiprocessing/popen_fork.py:66: RuntimeWarning: os.fork() was called. os.fork() is incompatible with multithreaded code, and JAX is multithreaded, so this will likely lead to a deadlock.\n",
      "  self.pid = os.fork()\n",
      "/usr/lib/python3.10/multiprocessing/popen_fork.py:66: RuntimeWarning: os.fork() was called. os.fork() is incompatible with multithreaded code, and JAX is multithreaded, so this will likely lead to a deadlock.\n",
      "  self.pid = os.fork()\n"
     ]
    },
    {
     "name": "stdout",
     "output_type": "stream",
     "text": [
      "Epoch 155:\n",
      "\ttrain: loss 0.242 | loss id   0.22 | top_1_acc 0.5861 | top_5_acc 0.8999 | cos_auc: 0.9665 | cos_acc: 0.8823 | eu_auc: 0.9509 | eu_acc: 0.8890\n",
      "\ttest: cos_auc: 0.8226 | cos_acc: 0.8979 | eu_auc: 0.7974 | eu_acc: 0.8713\n",
      "\tSaving model and optimizer state to /kaggle/working/checkpoint/magface/normalmap/models/checkpoint.pth\n",
      "\tEpoch 155: EarlyStopping counter for 'test_cosine_auc': 11/50\n",
      "\tSaved best model weights for 'test_cosine_accuracy' at epoch 155 to '/kaggle/working/checkpoint/magface/normalmap/models/best_test_cosine_accuracy_155.pth'\n",
      "\tSaved best model weights for 'test_euclidean_auc' at epoch 155 to '/kaggle/working/checkpoint/magface/normalmap/models/best_test_euclidean_auc_155.pth'\n",
      "\tEpoch 155: EarlyStopping counter for 'test_euclidean_accuracy': 28/50\n"
     ]
    },
    {
     "name": "stderr",
     "output_type": "stream",
     "text": [
      "/usr/lib/python3.10/multiprocessing/popen_fork.py:66: RuntimeWarning: os.fork() was called. os.fork() is incompatible with multithreaded code, and JAX is multithreaded, so this will likely lead to a deadlock.\n",
      "  self.pid = os.fork()\n",
      "/usr/lib/python3.10/multiprocessing/popen_fork.py:66: RuntimeWarning: os.fork() was called. os.fork() is incompatible with multithreaded code, and JAX is multithreaded, so this will likely lead to a deadlock.\n",
      "  self.pid = os.fork()\n"
     ]
    },
    {
     "name": "stdout",
     "output_type": "stream",
     "text": [
      "Epoch 156:\n",
      "\ttrain: loss 0.246 | loss id   0.22 | top_1_acc 0.6198 | top_5_acc 0.8988 | cos_auc: 0.9638 | cos_acc: 0.8817 | eu_auc: 0.9481 | eu_acc: 0.8709\n",
      "\ttest: cos_auc: 0.8187 | cos_acc: 0.8827 | eu_auc: 0.7920 | eu_acc: 0.8069\n",
      "\tSaving model and optimizer state to /kaggle/working/checkpoint/magface/normalmap/models/checkpoint.pth\n",
      "\tEpoch 156: EarlyStopping counter for 'test_cosine_auc': 12/50\n",
      "\tEpoch 156: EarlyStopping counter for 'test_cosine_accuracy': 1/50\n",
      "\tEpoch 156: EarlyStopping counter for 'test_euclidean_auc': 1/50\n",
      "\tEpoch 156: EarlyStopping counter for 'test_euclidean_accuracy': 29/50\n"
     ]
    },
    {
     "name": "stderr",
     "output_type": "stream",
     "text": [
      "/usr/lib/python3.10/multiprocessing/popen_fork.py:66: RuntimeWarning: os.fork() was called. os.fork() is incompatible with multithreaded code, and JAX is multithreaded, so this will likely lead to a deadlock.\n",
      "  self.pid = os.fork()\n",
      "/usr/lib/python3.10/multiprocessing/popen_fork.py:66: RuntimeWarning: os.fork() was called. os.fork() is incompatible with multithreaded code, and JAX is multithreaded, so this will likely lead to a deadlock.\n",
      "  self.pid = os.fork()\n"
     ]
    },
    {
     "name": "stdout",
     "output_type": "stream",
     "text": [
      "Epoch 157:\n",
      "\ttrain: loss 0.249 | loss id   0.23 | top_1_acc 0.5782 | top_5_acc 0.8931 | cos_auc: 0.9669 | cos_acc: 0.8866 | eu_auc: 0.9489 | eu_acc: 0.8723\n",
      "\ttest: cos_auc: 0.8255 | cos_acc: 0.8474 | eu_auc: 0.7951 | eu_acc: 0.8137\n",
      "\tSaving model and optimizer state to /kaggle/working/checkpoint/magface/normalmap/models/checkpoint.pth\n",
      "\tEpoch 157: EarlyStopping counter for 'test_cosine_auc': 13/50\n",
      "\tEpoch 157: EarlyStopping counter for 'test_cosine_accuracy': 2/50\n",
      "\tEpoch 157: EarlyStopping counter for 'test_euclidean_auc': 2/50\n",
      "\tEpoch 157: EarlyStopping counter for 'test_euclidean_accuracy': 30/50\n"
     ]
    },
    {
     "name": "stderr",
     "output_type": "stream",
     "text": [
      "/usr/lib/python3.10/multiprocessing/popen_fork.py:66: RuntimeWarning: os.fork() was called. os.fork() is incompatible with multithreaded code, and JAX is multithreaded, so this will likely lead to a deadlock.\n",
      "  self.pid = os.fork()\n",
      "/usr/lib/python3.10/multiprocessing/popen_fork.py:66: RuntimeWarning: os.fork() was called. os.fork() is incompatible with multithreaded code, and JAX is multithreaded, so this will likely lead to a deadlock.\n",
      "  self.pid = os.fork()\n"
     ]
    },
    {
     "name": "stdout",
     "output_type": "stream",
     "text": [
      "Epoch 158:\n",
      "\ttrain: loss 0.256 | loss id   0.23 | top_1_acc 0.6175 | top_5_acc 0.9044 | cos_auc: 0.9658 | cos_acc: 0.9028 | eu_auc: 0.9481 | eu_acc: 0.8727\n",
      "\ttest: cos_auc: 0.8163 | cos_acc: 0.8590 | eu_auc: 0.7907 | eu_acc: 0.7873\n",
      "\tSaving model and optimizer state to /kaggle/working/checkpoint/magface/normalmap/models/checkpoint.pth\n",
      "\tEpoch 158: EarlyStopping counter for 'test_cosine_auc': 14/50\n",
      "\tEpoch 158: EarlyStopping counter for 'test_cosine_accuracy': 3/50\n",
      "\tEpoch 158: EarlyStopping counter for 'test_euclidean_auc': 3/50\n",
      "\tEpoch 158: EarlyStopping counter for 'test_euclidean_accuracy': 31/50\n"
     ]
    },
    {
     "name": "stderr",
     "output_type": "stream",
     "text": [
      "/usr/lib/python3.10/multiprocessing/popen_fork.py:66: RuntimeWarning: os.fork() was called. os.fork() is incompatible with multithreaded code, and JAX is multithreaded, so this will likely lead to a deadlock.\n",
      "  self.pid = os.fork()\n",
      "/usr/lib/python3.10/multiprocessing/popen_fork.py:66: RuntimeWarning: os.fork() was called. os.fork() is incompatible with multithreaded code, and JAX is multithreaded, so this will likely lead to a deadlock.\n",
      "  self.pid = os.fork()\n"
     ]
    },
    {
     "name": "stdout",
     "output_type": "stream",
     "text": [
      "Epoch 159:\n",
      "\ttrain: loss 0.240 | loss id   0.22 | top_1_acc 0.6513 | top_5_acc 0.9336 | cos_auc: 0.9646 | cos_acc: 0.8852 | eu_auc: 0.9494 | eu_acc: 0.8795\n",
      "\ttest: cos_auc: 0.8209 | cos_acc: 0.8542 | eu_auc: 0.7926 | eu_acc: 0.8714\n",
      "\tSaving model and optimizer state to /kaggle/working/checkpoint/magface/normalmap/models/checkpoint.pth\n",
      "\tEpoch 159: EarlyStopping counter for 'test_cosine_auc': 15/50\n",
      "\tEpoch 159: EarlyStopping counter for 'test_cosine_accuracy': 4/50\n",
      "\tEpoch 159: EarlyStopping counter for 'test_euclidean_auc': 4/50\n",
      "\tEpoch 159: EarlyStopping counter for 'test_euclidean_accuracy': 32/50\n"
     ]
    },
    {
     "name": "stderr",
     "output_type": "stream",
     "text": [
      "/usr/lib/python3.10/multiprocessing/popen_fork.py:66: RuntimeWarning: os.fork() was called. os.fork() is incompatible with multithreaded code, and JAX is multithreaded, so this will likely lead to a deadlock.\n",
      "  self.pid = os.fork()\n",
      "/usr/lib/python3.10/multiprocessing/popen_fork.py:66: RuntimeWarning: os.fork() was called. os.fork() is incompatible with multithreaded code, and JAX is multithreaded, so this will likely lead to a deadlock.\n",
      "  self.pid = os.fork()\n",
      "/usr/lib/python3.10/multiprocessing/popen_fork.py:66: RuntimeWarning: os.fork() was called. os.fork() is incompatible with multithreaded code, and JAX is multithreaded, so this will likely lead to a deadlock.\n",
      "  self.pid = os.fork()\n"
     ]
    },
    {
     "name": "stdout",
     "output_type": "stream",
     "text": [
      "Epoch 160:\n",
      "\ttrain: loss 0.221 | loss id   0.20 | top_1_acc 0.6423 | top_5_acc 0.9314 | cos_auc: 0.9655 | cos_acc: 0.8893 | eu_auc: 0.9489 | eu_acc: 0.8513\n",
      "\ttest: cos_auc: 0.8192 | cos_acc: 0.8538 | eu_auc: 0.7922 | eu_acc: 0.7884\n",
      "\tSaving model and optimizer state to /kaggle/working/checkpoint/magface/normalmap/models/checkpoint.pth\n",
      "\tEpoch 160: EarlyStopping counter for 'test_cosine_auc': 16/50\n",
      "\tEpoch 160: EarlyStopping counter for 'test_cosine_accuracy': 5/50\n",
      "\tEpoch 160: EarlyStopping counter for 'test_euclidean_auc': 5/50\n",
      "\tEpoch 160: EarlyStopping counter for 'test_euclidean_accuracy': 33/50\n"
     ]
    },
    {
     "name": "stderr",
     "output_type": "stream",
     "text": [
      "/usr/lib/python3.10/multiprocessing/popen_fork.py:66: RuntimeWarning: os.fork() was called. os.fork() is incompatible with multithreaded code, and JAX is multithreaded, so this will likely lead to a deadlock.\n",
      "  self.pid = os.fork()\n",
      "/usr/lib/python3.10/multiprocessing/popen_fork.py:66: RuntimeWarning: os.fork() was called. os.fork() is incompatible with multithreaded code, and JAX is multithreaded, so this will likely lead to a deadlock.\n",
      "  self.pid = os.fork()\n"
     ]
    },
    {
     "name": "stdout",
     "output_type": "stream",
     "text": [
      "Epoch 161:\n",
      "\ttrain: loss 0.276 | loss id   0.25 | top_1_acc 0.2857 | top_5_acc 0.6457 | cos_auc: 0.8898 | cos_acc: 0.7850 | eu_auc: 0.8366 | eu_acc: 0.8003\n",
      "\ttest: cos_auc: 0.7714 | cos_acc: 0.7724 | eu_auc: 0.7139 | eu_acc: 0.8151\n",
      "\tSaving model and optimizer state to /kaggle/working/checkpoint/magface/normalmap/models/checkpoint.pth\n",
      "\tEpoch 161: EarlyStopping counter for 'test_cosine_auc': 17/50\n",
      "\tEpoch 161: EarlyStopping counter for 'test_cosine_accuracy': 6/50\n",
      "\tEpoch 161: EarlyStopping counter for 'test_euclidean_auc': 6/50\n",
      "\tEpoch 161: EarlyStopping counter for 'test_euclidean_accuracy': 34/50\n"
     ]
    },
    {
     "name": "stderr",
     "output_type": "stream",
     "text": [
      "/usr/lib/python3.10/multiprocessing/popen_fork.py:66: RuntimeWarning: os.fork() was called. os.fork() is incompatible with multithreaded code, and JAX is multithreaded, so this will likely lead to a deadlock.\n",
      "  self.pid = os.fork()\n",
      "/usr/lib/python3.10/multiprocessing/popen_fork.py:66: RuntimeWarning: os.fork() was called. os.fork() is incompatible with multithreaded code, and JAX is multithreaded, so this will likely lead to a deadlock.\n",
      "  self.pid = os.fork()\n"
     ]
    },
    {
     "name": "stdout",
     "output_type": "stream",
     "text": [
      "Epoch 162:\n",
      "\ttrain: loss 0.423 | loss id   0.40 | top_1_acc 0.2700 | top_5_acc 0.6254 | cos_auc: 0.9149 | cos_acc: 0.8089 | eu_auc: 0.8566 | eu_acc: 0.8683\n",
      "\ttest: cos_auc: 0.7909 | cos_acc: 0.7268 | eu_auc: 0.7260 | eu_acc: 0.8387\n",
      "\tSaving model and optimizer state to /kaggle/working/checkpoint/magface/normalmap/models/checkpoint.pth\n",
      "\tEpoch 162: EarlyStopping counter for 'test_cosine_auc': 18/50\n",
      "\tEpoch 162: EarlyStopping counter for 'test_cosine_accuracy': 7/50\n",
      "\tEpoch 162: EarlyStopping counter for 'test_euclidean_auc': 7/50\n",
      "\tEpoch 162: EarlyStopping counter for 'test_euclidean_accuracy': 35/50\n"
     ]
    },
    {
     "name": "stderr",
     "output_type": "stream",
     "text": [
      "/usr/lib/python3.10/multiprocessing/popen_fork.py:66: RuntimeWarning: os.fork() was called. os.fork() is incompatible with multithreaded code, and JAX is multithreaded, so this will likely lead to a deadlock.\n",
      "  self.pid = os.fork()\n",
      "/usr/lib/python3.10/multiprocessing/popen_fork.py:66: RuntimeWarning: os.fork() was called. os.fork() is incompatible with multithreaded code, and JAX is multithreaded, so this will likely lead to a deadlock.\n",
      "  self.pid = os.fork()\n"
     ]
    },
    {
     "name": "stdout",
     "output_type": "stream",
     "text": [
      "Epoch 163:\n",
      "\ttrain: loss 0.426 | loss id   0.40 | top_1_acc 0.3060 | top_5_acc 0.6839 | cos_auc: 0.9224 | cos_acc: 0.8145 | eu_auc: 0.8872 | eu_acc: 0.8325\n",
      "\ttest: cos_auc: 0.8114 | cos_acc: 0.8461 | eu_auc: 0.7555 | eu_acc: 0.8999\n",
      "\tSaving model and optimizer state to /kaggle/working/checkpoint/magface/normalmap/models/checkpoint.pth\n",
      "\tEpoch 163: EarlyStopping counter for 'test_cosine_auc': 19/50\n",
      "\tEpoch 163: EarlyStopping counter for 'test_cosine_accuracy': 8/50\n",
      "\tEpoch 163: EarlyStopping counter for 'test_euclidean_auc': 8/50\n",
      "\tEpoch 163: EarlyStopping counter for 'test_euclidean_accuracy': 36/50\n"
     ]
    },
    {
     "name": "stderr",
     "output_type": "stream",
     "text": [
      "/usr/lib/python3.10/multiprocessing/popen_fork.py:66: RuntimeWarning: os.fork() was called. os.fork() is incompatible with multithreaded code, and JAX is multithreaded, so this will likely lead to a deadlock.\n",
      "  self.pid = os.fork()\n",
      "/usr/lib/python3.10/multiprocessing/popen_fork.py:66: RuntimeWarning: os.fork() was called. os.fork() is incompatible with multithreaded code, and JAX is multithreaded, so this will likely lead to a deadlock.\n",
      "  self.pid = os.fork()\n"
     ]
    },
    {
     "name": "stdout",
     "output_type": "stream",
     "text": [
      "Epoch 164:\n",
      "\ttrain: loss 0.365 | loss id   0.34 | top_1_acc 0.3105 | top_5_acc 0.7132 | cos_auc: 0.9325 | cos_acc: 0.8483 | eu_auc: 0.8925 | eu_acc: 0.8337\n",
      "\ttest: cos_auc: 0.8397 | cos_acc: 0.8181 | eu_auc: 0.7811 | eu_acc: 0.7773\n",
      "\tSaving model and optimizer state to /kaggle/working/checkpoint/magface/normalmap/models/checkpoint.pth\n",
      "\tSaved best model weights for 'test_cosine_auc' at epoch 164 to '/kaggle/working/checkpoint/magface/normalmap/models/best_test_cosine_auc_164.pth'\n",
      "\tEpoch 164: EarlyStopping counter for 'test_cosine_accuracy': 9/50\n",
      "\tEpoch 164: EarlyStopping counter for 'test_euclidean_auc': 9/50\n",
      "\tEpoch 164: EarlyStopping counter for 'test_euclidean_accuracy': 37/50\n"
     ]
    },
    {
     "name": "stderr",
     "output_type": "stream",
     "text": [
      "/usr/lib/python3.10/multiprocessing/popen_fork.py:66: RuntimeWarning: os.fork() was called. os.fork() is incompatible with multithreaded code, and JAX is multithreaded, so this will likely lead to a deadlock.\n",
      "  self.pid = os.fork()\n",
      "/usr/lib/python3.10/multiprocessing/popen_fork.py:66: RuntimeWarning: os.fork() was called. os.fork() is incompatible with multithreaded code, and JAX is multithreaded, so this will likely lead to a deadlock.\n",
      "  self.pid = os.fork()\n"
     ]
    },
    {
     "name": "stdout",
     "output_type": "stream",
     "text": [
      "Epoch 165:\n",
      "\ttrain: loss 0.418 | loss id   0.39 | top_1_acc 0.3071 | top_5_acc 0.6929 | cos_auc: 0.9004 | cos_acc: 0.8211 | eu_auc: 0.8415 | eu_acc: 0.8203\n",
      "\ttest: cos_auc: 0.7759 | cos_acc: 0.8262 | eu_auc: 0.7474 | eu_acc: 0.7921\n",
      "\tSaving model and optimizer state to /kaggle/working/checkpoint/magface/normalmap/models/checkpoint.pth\n",
      "\tEpoch 165: EarlyStopping counter for 'test_cosine_auc': 1/50\n",
      "\tEpoch 165: EarlyStopping counter for 'test_cosine_accuracy': 10/50\n",
      "\tEpoch 165: EarlyStopping counter for 'test_euclidean_auc': 10/50\n",
      "\tEpoch 165: EarlyStopping counter for 'test_euclidean_accuracy': 38/50\n"
     ]
    },
    {
     "name": "stderr",
     "output_type": "stream",
     "text": [
      "/usr/lib/python3.10/multiprocessing/popen_fork.py:66: RuntimeWarning: os.fork() was called. os.fork() is incompatible with multithreaded code, and JAX is multithreaded, so this will likely lead to a deadlock.\n",
      "  self.pid = os.fork()\n",
      "/usr/lib/python3.10/multiprocessing/popen_fork.py:66: RuntimeWarning: os.fork() was called. os.fork() is incompatible with multithreaded code, and JAX is multithreaded, so this will likely lead to a deadlock.\n",
      "  self.pid = os.fork()\n"
     ]
    },
    {
     "name": "stdout",
     "output_type": "stream",
     "text": [
      "Epoch 166:\n",
      "\ttrain: loss 0.382 | loss id   0.36 | top_1_acc 0.3318 | top_5_acc 0.7165 | cos_auc: 0.9265 | cos_acc: 0.8349 | eu_auc: 0.8930 | eu_acc: 0.8528\n",
      "\ttest: cos_auc: 0.8090 | cos_acc: 0.7777 | eu_auc: 0.7691 | eu_acc: 0.8042\n",
      "\tSaving model and optimizer state to /kaggle/working/checkpoint/magface/normalmap/models/checkpoint.pth\n",
      "\tEpoch 166: EarlyStopping counter for 'test_cosine_auc': 2/50\n",
      "\tEpoch 166: EarlyStopping counter for 'test_cosine_accuracy': 11/50\n",
      "\tEpoch 166: EarlyStopping counter for 'test_euclidean_auc': 11/50\n",
      "\tEpoch 166: EarlyStopping counter for 'test_euclidean_accuracy': 39/50\n"
     ]
    },
    {
     "name": "stderr",
     "output_type": "stream",
     "text": [
      "/usr/lib/python3.10/multiprocessing/popen_fork.py:66: RuntimeWarning: os.fork() was called. os.fork() is incompatible with multithreaded code, and JAX is multithreaded, so this will likely lead to a deadlock.\n",
      "  self.pid = os.fork()\n",
      "/usr/lib/python3.10/multiprocessing/popen_fork.py:66: RuntimeWarning: os.fork() was called. os.fork() is incompatible with multithreaded code, and JAX is multithreaded, so this will likely lead to a deadlock.\n",
      "  self.pid = os.fork()\n"
     ]
    },
    {
     "name": "stdout",
     "output_type": "stream",
     "text": [
      "Epoch 167:\n",
      "\ttrain: loss 0.362 | loss id   0.34 | top_1_acc 0.3566 | top_5_acc 0.7267 | cos_auc: 0.9154 | cos_acc: 0.8439 | eu_auc: 0.8873 | eu_acc: 0.8519\n",
      "\ttest: cos_auc: 0.7976 | cos_acc: 0.8577 | eu_auc: 0.7746 | eu_acc: 0.7705\n",
      "\tSaving model and optimizer state to /kaggle/working/checkpoint/magface/normalmap/models/checkpoint.pth\n",
      "\tEpoch 167: EarlyStopping counter for 'test_cosine_auc': 3/50\n",
      "\tEpoch 167: EarlyStopping counter for 'test_cosine_accuracy': 12/50\n",
      "\tEpoch 167: EarlyStopping counter for 'test_euclidean_auc': 12/50\n",
      "\tEpoch 167: EarlyStopping counter for 'test_euclidean_accuracy': 40/50\n"
     ]
    },
    {
     "name": "stderr",
     "output_type": "stream",
     "text": [
      "/usr/lib/python3.10/multiprocessing/popen_fork.py:66: RuntimeWarning: os.fork() was called. os.fork() is incompatible with multithreaded code, and JAX is multithreaded, so this will likely lead to a deadlock.\n",
      "  self.pid = os.fork()\n",
      "/usr/lib/python3.10/multiprocessing/popen_fork.py:66: RuntimeWarning: os.fork() was called. os.fork() is incompatible with multithreaded code, and JAX is multithreaded, so this will likely lead to a deadlock.\n",
      "  self.pid = os.fork()\n"
     ]
    },
    {
     "name": "stdout",
     "output_type": "stream",
     "text": [
      "Epoch 168:\n",
      "\ttrain: loss 0.364 | loss id   0.34 | top_1_acc 0.3678 | top_5_acc 0.7537 | cos_auc: 0.9142 | cos_acc: 0.8309 | eu_auc: 0.8763 | eu_acc: 0.8350\n",
      "\ttest: cos_auc: 0.8282 | cos_acc: 0.8139 | eu_auc: 0.7847 | eu_acc: 0.8369\n",
      "\tSaving model and optimizer state to /kaggle/working/checkpoint/magface/normalmap/models/checkpoint.pth\n",
      "\tEpoch 168: EarlyStopping counter for 'test_cosine_auc': 4/50\n",
      "\tEpoch 168: EarlyStopping counter for 'test_cosine_accuracy': 13/50\n",
      "\tEpoch 168: EarlyStopping counter for 'test_euclidean_auc': 13/50\n",
      "\tEpoch 168: EarlyStopping counter for 'test_euclidean_accuracy': 41/50\n"
     ]
    },
    {
     "name": "stderr",
     "output_type": "stream",
     "text": [
      "/usr/lib/python3.10/multiprocessing/popen_fork.py:66: RuntimeWarning: os.fork() was called. os.fork() is incompatible with multithreaded code, and JAX is multithreaded, so this will likely lead to a deadlock.\n",
      "  self.pid = os.fork()\n",
      "/usr/lib/python3.10/multiprocessing/popen_fork.py:66: RuntimeWarning: os.fork() was called. os.fork() is incompatible with multithreaded code, and JAX is multithreaded, so this will likely lead to a deadlock.\n",
      "  self.pid = os.fork()\n"
     ]
    },
    {
     "name": "stdout",
     "output_type": "stream",
     "text": [
      "Epoch 169:\n",
      "\ttrain: loss 0.374 | loss id   0.35 | top_1_acc 0.3476 | top_5_acc 0.7503 | cos_auc: 0.9351 | cos_acc: 0.8450 | eu_auc: 0.8882 | eu_acc: 0.8672\n",
      "\ttest: cos_auc: 0.8193 | cos_acc: 0.8153 | eu_auc: 0.7399 | eu_acc: 0.8923\n",
      "\tSaving model and optimizer state to /kaggle/working/checkpoint/magface/normalmap/models/checkpoint.pth\n",
      "\tEpoch 169: EarlyStopping counter for 'test_cosine_auc': 5/50\n",
      "\tEpoch 169: EarlyStopping counter for 'test_cosine_accuracy': 14/50\n",
      "\tEpoch 169: EarlyStopping counter for 'test_euclidean_auc': 14/50\n",
      "\tEpoch 169: EarlyStopping counter for 'test_euclidean_accuracy': 42/50\n"
     ]
    },
    {
     "name": "stderr",
     "output_type": "stream",
     "text": [
      "/usr/lib/python3.10/multiprocessing/popen_fork.py:66: RuntimeWarning: os.fork() was called. os.fork() is incompatible with multithreaded code, and JAX is multithreaded, so this will likely lead to a deadlock.\n",
      "  self.pid = os.fork()\n",
      "/usr/lib/python3.10/multiprocessing/popen_fork.py:66: RuntimeWarning: os.fork() was called. os.fork() is incompatible with multithreaded code, and JAX is multithreaded, so this will likely lead to a deadlock.\n",
      "  self.pid = os.fork()\n"
     ]
    },
    {
     "name": "stdout",
     "output_type": "stream",
     "text": [
      "Epoch 170:\n",
      "\ttrain: loss 0.364 | loss id   0.34 | top_1_acc 0.3701 | top_5_acc 0.7300 | cos_auc: 0.9270 | cos_acc: 0.8204 | eu_auc: 0.8583 | eu_acc: 0.8395\n",
      "\ttest: cos_auc: 0.8188 | cos_acc: 0.8459 | eu_auc: 0.7260 | eu_acc: 0.8883\n",
      "\tSaving model and optimizer state to /kaggle/working/checkpoint/magface/normalmap/models/checkpoint.pth\n",
      "\tEpoch 170: EarlyStopping counter for 'test_cosine_auc': 6/50\n",
      "\tEpoch 170: EarlyStopping counter for 'test_cosine_accuracy': 15/50\n",
      "\tEpoch 170: EarlyStopping counter for 'test_euclidean_auc': 15/50\n",
      "\tEpoch 170: EarlyStopping counter for 'test_euclidean_accuracy': 43/50\n"
     ]
    },
    {
     "name": "stderr",
     "output_type": "stream",
     "text": [
      "/usr/lib/python3.10/multiprocessing/popen_fork.py:66: RuntimeWarning: os.fork() was called. os.fork() is incompatible with multithreaded code, and JAX is multithreaded, so this will likely lead to a deadlock.\n",
      "  self.pid = os.fork()\n",
      "/usr/lib/python3.10/multiprocessing/popen_fork.py:66: RuntimeWarning: os.fork() was called. os.fork() is incompatible with multithreaded code, and JAX is multithreaded, so this will likely lead to a deadlock.\n",
      "  self.pid = os.fork()\n"
     ]
    },
    {
     "name": "stdout",
     "output_type": "stream",
     "text": [
      "Epoch 171:\n",
      "\ttrain: loss 0.370 | loss id   0.35 | top_1_acc 0.3780 | top_5_acc 0.7345 | cos_auc: 0.9360 | cos_acc: 0.8752 | eu_auc: 0.8917 | eu_acc: 0.8333\n",
      "\ttest: cos_auc: 0.7933 | cos_acc: 0.8085 | eu_auc: 0.7467 | eu_acc: 0.8141\n",
      "\tSaving model and optimizer state to /kaggle/working/checkpoint/magface/normalmap/models/checkpoint.pth\n",
      "\tEpoch 171: EarlyStopping counter for 'test_cosine_auc': 7/50\n",
      "\tEpoch 171: EarlyStopping counter for 'test_cosine_accuracy': 16/50\n",
      "\tEpoch 171: EarlyStopping counter for 'test_euclidean_auc': 16/50\n",
      "\tEpoch 171: EarlyStopping counter for 'test_euclidean_accuracy': 44/50\n"
     ]
    },
    {
     "name": "stderr",
     "output_type": "stream",
     "text": [
      "/usr/lib/python3.10/multiprocessing/popen_fork.py:66: RuntimeWarning: os.fork() was called. os.fork() is incompatible with multithreaded code, and JAX is multithreaded, so this will likely lead to a deadlock.\n",
      "  self.pid = os.fork()\n",
      "/usr/lib/python3.10/multiprocessing/popen_fork.py:66: RuntimeWarning: os.fork() was called. os.fork() is incompatible with multithreaded code, and JAX is multithreaded, so this will likely lead to a deadlock.\n",
      "  self.pid = os.fork()\n"
     ]
    },
    {
     "name": "stdout",
     "output_type": "stream",
     "text": [
      "Epoch 172:\n",
      "\ttrain: loss 0.437 | loss id   0.41 | top_1_acc 0.3768 | top_5_acc 0.7694 | cos_auc: 0.8886 | cos_acc: 0.8167 | eu_auc: 0.8587 | eu_acc: 0.8155\n",
      "\ttest: cos_auc: 0.7796 | cos_acc: 0.8630 | eu_auc: 0.7631 | eu_acc: 0.7606\n",
      "\tSaving model and optimizer state to /kaggle/working/checkpoint/magface/normalmap/models/checkpoint.pth\n",
      "\tEpoch 172: EarlyStopping counter for 'test_cosine_auc': 8/50\n",
      "\tEpoch 172: EarlyStopping counter for 'test_cosine_accuracy': 17/50\n",
      "\tEpoch 172: EarlyStopping counter for 'test_euclidean_auc': 17/50\n",
      "\tEpoch 172: EarlyStopping counter for 'test_euclidean_accuracy': 45/50\n"
     ]
    },
    {
     "name": "stderr",
     "output_type": "stream",
     "text": [
      "/usr/lib/python3.10/multiprocessing/popen_fork.py:66: RuntimeWarning: os.fork() was called. os.fork() is incompatible with multithreaded code, and JAX is multithreaded, so this will likely lead to a deadlock.\n",
      "  self.pid = os.fork()\n",
      "/usr/lib/python3.10/multiprocessing/popen_fork.py:66: RuntimeWarning: os.fork() was called. os.fork() is incompatible with multithreaded code, and JAX is multithreaded, so this will likely lead to a deadlock.\n",
      "  self.pid = os.fork()\n"
     ]
    },
    {
     "name": "stdout",
     "output_type": "stream",
     "text": [
      "Epoch 173:\n",
      "\ttrain: loss 0.350 | loss id   0.33 | top_1_acc 0.3903 | top_5_acc 0.7683 | cos_auc: 0.9346 | cos_acc: 0.8676 | eu_auc: 0.9083 | eu_acc: 0.8636\n",
      "\ttest: cos_auc: 0.8086 | cos_acc: 0.8645 | eu_auc: 0.7796 | eu_acc: 0.8980\n",
      "\tSaving model and optimizer state to /kaggle/working/checkpoint/magface/normalmap/models/checkpoint.pth\n",
      "\tEpoch 173: EarlyStopping counter for 'test_cosine_auc': 9/50\n",
      "\tEpoch 173: EarlyStopping counter for 'test_cosine_accuracy': 18/50\n",
      "\tEpoch 173: EarlyStopping counter for 'test_euclidean_auc': 18/50\n",
      "\tEpoch 173: EarlyStopping counter for 'test_euclidean_accuracy': 46/50\n"
     ]
    },
    {
     "name": "stderr",
     "output_type": "stream",
     "text": [
      "/usr/lib/python3.10/multiprocessing/popen_fork.py:66: RuntimeWarning: os.fork() was called. os.fork() is incompatible with multithreaded code, and JAX is multithreaded, so this will likely lead to a deadlock.\n",
      "  self.pid = os.fork()\n",
      "/usr/lib/python3.10/multiprocessing/popen_fork.py:66: RuntimeWarning: os.fork() was called. os.fork() is incompatible with multithreaded code, and JAX is multithreaded, so this will likely lead to a deadlock.\n",
      "  self.pid = os.fork()\n"
     ]
    },
    {
     "name": "stdout",
     "output_type": "stream",
     "text": [
      "Epoch 174:\n",
      "\ttrain: loss 0.380 | loss id   0.36 | top_1_acc 0.4128 | top_5_acc 0.8031 | cos_auc: 0.9329 | cos_acc: 0.8494 | eu_auc: 0.8844 | eu_acc: 0.8485\n",
      "\ttest: cos_auc: 0.7958 | cos_acc: 0.8478 | eu_auc: 0.7552 | eu_acc: 0.8709\n",
      "\tSaving model and optimizer state to /kaggle/working/checkpoint/magface/normalmap/models/checkpoint.pth\n",
      "\tEpoch 174: EarlyStopping counter for 'test_cosine_auc': 10/50\n",
      "\tEpoch 174: EarlyStopping counter for 'test_cosine_accuracy': 19/50\n",
      "\tEpoch 174: EarlyStopping counter for 'test_euclidean_auc': 19/50\n",
      "\tEpoch 174: EarlyStopping counter for 'test_euclidean_accuracy': 47/50\n"
     ]
    },
    {
     "name": "stderr",
     "output_type": "stream",
     "text": [
      "/usr/lib/python3.10/multiprocessing/popen_fork.py:66: RuntimeWarning: os.fork() was called. os.fork() is incompatible with multithreaded code, and JAX is multithreaded, so this will likely lead to a deadlock.\n",
      "  self.pid = os.fork()\n",
      "/usr/lib/python3.10/multiprocessing/popen_fork.py:66: RuntimeWarning: os.fork() was called. os.fork() is incompatible with multithreaded code, and JAX is multithreaded, so this will likely lead to a deadlock.\n",
      "  self.pid = os.fork()\n"
     ]
    },
    {
     "name": "stdout",
     "output_type": "stream",
     "text": [
      "Epoch 175:\n",
      "\ttrain: loss 0.366 | loss id   0.34 | top_1_acc 0.4241 | top_5_acc 0.8043 | cos_auc: 0.9502 | cos_acc: 0.8743 | eu_auc: 0.9015 | eu_acc: 0.8724\n",
      "\ttest: cos_auc: 0.8317 | cos_acc: 0.8127 | eu_auc: 0.7779 | eu_acc: 0.8498\n",
      "\tSaving model and optimizer state to /kaggle/working/checkpoint/magface/normalmap/models/checkpoint.pth\n",
      "\tEpoch 175: EarlyStopping counter for 'test_cosine_auc': 11/50\n",
      "\tEpoch 175: EarlyStopping counter for 'test_cosine_accuracy': 20/50\n",
      "\tEpoch 175: EarlyStopping counter for 'test_euclidean_auc': 20/50\n",
      "\tEpoch 175: EarlyStopping counter for 'test_euclidean_accuracy': 48/50\n"
     ]
    },
    {
     "name": "stderr",
     "output_type": "stream",
     "text": [
      "/usr/lib/python3.10/multiprocessing/popen_fork.py:66: RuntimeWarning: os.fork() was called. os.fork() is incompatible with multithreaded code, and JAX is multithreaded, so this will likely lead to a deadlock.\n",
      "  self.pid = os.fork()\n",
      "/usr/lib/python3.10/multiprocessing/popen_fork.py:66: RuntimeWarning: os.fork() was called. os.fork() is incompatible with multithreaded code, and JAX is multithreaded, so this will likely lead to a deadlock.\n",
      "  self.pid = os.fork()\n"
     ]
    },
    {
     "name": "stdout",
     "output_type": "stream",
     "text": [
      "Epoch 176:\n",
      "\ttrain: loss 0.390 | loss id   0.37 | top_1_acc 0.4421 | top_5_acc 0.8448 | cos_auc: 0.9477 | cos_acc: 0.8516 | eu_auc: 0.9215 | eu_acc: 0.8616\n",
      "\ttest: cos_auc: 0.8160 | cos_acc: 0.8739 | eu_auc: 0.7734 | eu_acc: 0.8065\n",
      "\tSaving model and optimizer state to /kaggle/working/checkpoint/magface/normalmap/models/checkpoint.pth\n",
      "\tEpoch 176: EarlyStopping counter for 'test_cosine_auc': 12/50\n",
      "\tEpoch 176: EarlyStopping counter for 'test_cosine_accuracy': 21/50\n",
      "\tEpoch 176: EarlyStopping counter for 'test_euclidean_auc': 21/50\n",
      "\tEpoch 176: EarlyStopping counter for 'test_euclidean_accuracy': 49/50\n"
     ]
    },
    {
     "name": "stderr",
     "output_type": "stream",
     "text": [
      "/usr/lib/python3.10/multiprocessing/popen_fork.py:66: RuntimeWarning: os.fork() was called. os.fork() is incompatible with multithreaded code, and JAX is multithreaded, so this will likely lead to a deadlock.\n",
      "  self.pid = os.fork()\n",
      "/usr/lib/python3.10/multiprocessing/popen_fork.py:66: RuntimeWarning: os.fork() was called. os.fork() is incompatible with multithreaded code, and JAX is multithreaded, so this will likely lead to a deadlock.\n",
      "  self.pid = os.fork()\n"
     ]
    },
    {
     "name": "stdout",
     "output_type": "stream",
     "text": [
      "Epoch 177:\n",
      "\ttrain: loss 0.376 | loss id   0.35 | top_1_acc 0.4792 | top_5_acc 0.8560 | cos_auc: 0.9390 | cos_acc: 0.8688 | eu_auc: 0.9068 | eu_acc: 0.8681\n",
      "\ttest: cos_auc: 0.8078 | cos_acc: 0.8830 | eu_auc: 0.7663 | eu_acc: 0.8209\n",
      "\tSaving model and optimizer state to /kaggle/working/checkpoint/magface/normalmap/models/checkpoint.pth\n",
      "\tEpoch 177: EarlyStopping counter for 'test_cosine_auc': 13/50\n",
      "\tEpoch 177: EarlyStopping counter for 'test_cosine_accuracy': 22/50\n",
      "\tEpoch 177: EarlyStopping counter for 'test_euclidean_auc': 22/50\n",
      "\tEpoch 177: EarlyStopping counter for 'test_euclidean_accuracy': 50/50\n"
     ]
    },
    {
     "name": "stderr",
     "output_type": "stream",
     "text": [
      "/usr/lib/python3.10/multiprocessing/popen_fork.py:66: RuntimeWarning: os.fork() was called. os.fork() is incompatible with multithreaded code, and JAX is multithreaded, so this will likely lead to a deadlock.\n",
      "  self.pid = os.fork()\n",
      "/usr/lib/python3.10/multiprocessing/popen_fork.py:66: RuntimeWarning: os.fork() was called. os.fork() is incompatible with multithreaded code, and JAX is multithreaded, so this will likely lead to a deadlock.\n",
      "  self.pid = os.fork()\n"
     ]
    },
    {
     "name": "stdout",
     "output_type": "stream",
     "text": [
      "Epoch 178:\n",
      "\ttrain: loss 0.334 | loss id   0.31 | top_1_acc 0.5017 | top_5_acc 0.8583 | cos_auc: 0.9631 | cos_acc: 0.8844 | eu_auc: 0.9252 | eu_acc: 0.8409\n",
      "\ttest: cos_auc: 0.8153 | cos_acc: 0.8531 | eu_auc: 0.7739 | eu_acc: 0.8779\n",
      "\tSaving model and optimizer state to /kaggle/working/checkpoint/magface/normalmap/models/checkpoint.pth\n",
      "\tEpoch 178: EarlyStopping counter for 'test_cosine_auc': 14/50\n",
      "\tEpoch 178: EarlyStopping counter for 'test_cosine_accuracy': 23/50\n",
      "\tEpoch 178: EarlyStopping counter for 'test_euclidean_auc': 23/50\n",
      "\tEpoch 178: EarlyStopping counter for 'test_euclidean_accuracy': 51/50\n"
     ]
    },
    {
     "name": "stderr",
     "output_type": "stream",
     "text": [
      "/usr/lib/python3.10/multiprocessing/popen_fork.py:66: RuntimeWarning: os.fork() was called. os.fork() is incompatible with multithreaded code, and JAX is multithreaded, so this will likely lead to a deadlock.\n",
      "  self.pid = os.fork()\n",
      "/usr/lib/python3.10/multiprocessing/popen_fork.py:66: RuntimeWarning: os.fork() was called. os.fork() is incompatible with multithreaded code, and JAX is multithreaded, so this will likely lead to a deadlock.\n",
      "  self.pid = os.fork()\n"
     ]
    },
    {
     "name": "stdout",
     "output_type": "stream",
     "text": [
      "Epoch 179:\n",
      "\ttrain: loss 0.304 | loss id   0.28 | top_1_acc 0.5681 | top_5_acc 0.8920 | cos_auc: 0.9642 | cos_acc: 0.8999 | eu_auc: 0.9390 | eu_acc: 0.8523\n",
      "\ttest: cos_auc: 0.8339 | cos_acc: 0.8567 | eu_auc: 0.7976 | eu_acc: 0.8919\n",
      "\tSaving model and optimizer state to /kaggle/working/checkpoint/magface/normalmap/models/checkpoint.pth\n",
      "\tEpoch 179: EarlyStopping counter for 'test_cosine_auc': 15/50\n",
      "\tEpoch 179: EarlyStopping counter for 'test_cosine_accuracy': 24/50\n",
      "\tSaved best model weights for 'test_euclidean_auc' at epoch 179 to '/kaggle/working/checkpoint/magface/normalmap/models/best_test_euclidean_auc_179.pth'\n",
      "\tEpoch 179: EarlyStopping counter for 'test_euclidean_accuracy': 52/50\n"
     ]
    },
    {
     "name": "stderr",
     "output_type": "stream",
     "text": [
      "/usr/lib/python3.10/multiprocessing/popen_fork.py:66: RuntimeWarning: os.fork() was called. os.fork() is incompatible with multithreaded code, and JAX is multithreaded, so this will likely lead to a deadlock.\n",
      "  self.pid = os.fork()\n",
      "/usr/lib/python3.10/multiprocessing/popen_fork.py:66: RuntimeWarning: os.fork() was called. os.fork() is incompatible with multithreaded code, and JAX is multithreaded, so this will likely lead to a deadlock.\n",
      "  self.pid = os.fork()\n"
     ]
    },
    {
     "name": "stdout",
     "output_type": "stream",
     "text": [
      "Epoch 180:\n",
      "\ttrain: loss 0.371 | loss id   0.35 | top_1_acc 0.5489 | top_5_acc 0.8886 | cos_auc: 0.9559 | cos_acc: 0.8785 | eu_auc: 0.9077 | eu_acc: 0.8488\n",
      "\ttest: cos_auc: 0.8144 | cos_acc: 0.8683 | eu_auc: 0.7659 | eu_acc: 0.8951\n",
      "\tSaving model and optimizer state to /kaggle/working/checkpoint/magface/normalmap/models/checkpoint.pth\n",
      "\tEpoch 180: EarlyStopping counter for 'test_cosine_auc': 16/50\n",
      "\tEpoch 180: EarlyStopping counter for 'test_cosine_accuracy': 25/50\n",
      "\tEpoch 180: EarlyStopping counter for 'test_euclidean_auc': 1/50\n",
      "\tEpoch 180: EarlyStopping counter for 'test_euclidean_accuracy': 53/50\n"
     ]
    },
    {
     "name": "stderr",
     "output_type": "stream",
     "text": [
      "/usr/lib/python3.10/multiprocessing/popen_fork.py:66: RuntimeWarning: os.fork() was called. os.fork() is incompatible with multithreaded code, and JAX is multithreaded, so this will likely lead to a deadlock.\n",
      "  self.pid = os.fork()\n",
      "/usr/lib/python3.10/multiprocessing/popen_fork.py:66: RuntimeWarning: os.fork() was called. os.fork() is incompatible with multithreaded code, and JAX is multithreaded, so this will likely lead to a deadlock.\n",
      "  self.pid = os.fork()\n"
     ]
    },
    {
     "name": "stdout",
     "output_type": "stream",
     "text": [
      "Epoch 181:\n",
      "\ttrain: loss 0.290 | loss id   0.27 | top_1_acc 0.6153 | top_5_acc 0.9100 | cos_auc: 0.9658 | cos_acc: 0.8872 | eu_auc: 0.9390 | eu_acc: 0.8658\n",
      "\ttest: cos_auc: 0.8320 | cos_acc: 0.8410 | eu_auc: 0.7839 | eu_acc: 0.9034\n",
      "\tSaving model and optimizer state to /kaggle/working/checkpoint/magface/normalmap/models/checkpoint.pth\n",
      "\tEpoch 181: EarlyStopping counter for 'test_cosine_auc': 17/50\n",
      "\tEpoch 181: EarlyStopping counter for 'test_cosine_accuracy': 26/50\n",
      "\tEpoch 181: EarlyStopping counter for 'test_euclidean_auc': 2/50\n",
      "\tEpoch 181: EarlyStopping counter for 'test_euclidean_accuracy': 54/50\n"
     ]
    },
    {
     "name": "stderr",
     "output_type": "stream",
     "text": [
      "/usr/lib/python3.10/multiprocessing/popen_fork.py:66: RuntimeWarning: os.fork() was called. os.fork() is incompatible with multithreaded code, and JAX is multithreaded, so this will likely lead to a deadlock.\n",
      "  self.pid = os.fork()\n",
      "/usr/lib/python3.10/multiprocessing/popen_fork.py:66: RuntimeWarning: os.fork() was called. os.fork() is incompatible with multithreaded code, and JAX is multithreaded, so this will likely lead to a deadlock.\n",
      "  self.pid = os.fork()\n"
     ]
    },
    {
     "name": "stdout",
     "output_type": "stream",
     "text": [
      "Epoch 182:\n",
      "\ttrain: loss 0.286 | loss id   0.26 | top_1_acc 0.5782 | top_5_acc 0.9021 | cos_auc: 0.9701 | cos_acc: 0.8977 | eu_auc: 0.9347 | eu_acc: 0.8752\n",
      "\ttest: cos_auc: 0.8187 | cos_acc: 0.8519 | eu_auc: 0.7756 | eu_acc: 0.8966\n",
      "\tSaving model and optimizer state to /kaggle/working/checkpoint/magface/normalmap/models/checkpoint.pth\n",
      "\tEpoch 182: EarlyStopping counter for 'test_cosine_auc': 18/50\n",
      "\tEpoch 182: EarlyStopping counter for 'test_cosine_accuracy': 27/50\n",
      "\tEpoch 182: EarlyStopping counter for 'test_euclidean_auc': 3/50\n",
      "\tEpoch 182: EarlyStopping counter for 'test_euclidean_accuracy': 55/50\n"
     ]
    },
    {
     "name": "stderr",
     "output_type": "stream",
     "text": [
      "/usr/lib/python3.10/multiprocessing/popen_fork.py:66: RuntimeWarning: os.fork() was called. os.fork() is incompatible with multithreaded code, and JAX is multithreaded, so this will likely lead to a deadlock.\n",
      "  self.pid = os.fork()\n",
      "/usr/lib/python3.10/multiprocessing/popen_fork.py:66: RuntimeWarning: os.fork() was called. os.fork() is incompatible with multithreaded code, and JAX is multithreaded, so this will likely lead to a deadlock.\n",
      "  self.pid = os.fork()\n"
     ]
    },
    {
     "name": "stdout",
     "output_type": "stream",
     "text": [
      "Epoch 183:\n",
      "\ttrain: loss 0.313 | loss id   0.29 | top_1_acc 0.6243 | top_5_acc 0.9021 | cos_auc: 0.9687 | cos_acc: 0.8933 | eu_auc: 0.9299 | eu_acc: 0.8728\n",
      "\ttest: cos_auc: 0.8175 | cos_acc: 0.8886 | eu_auc: 0.7664 | eu_acc: 0.8923\n",
      "\tSaving model and optimizer state to /kaggle/working/checkpoint/magface/normalmap/models/checkpoint.pth\n",
      "\tEpoch 183: EarlyStopping counter for 'test_cosine_auc': 19/50\n",
      "\tEpoch 183: EarlyStopping counter for 'test_cosine_accuracy': 28/50\n",
      "\tEpoch 183: EarlyStopping counter for 'test_euclidean_auc': 4/50\n",
      "\tEpoch 183: EarlyStopping counter for 'test_euclidean_accuracy': 56/50\n"
     ]
    },
    {
     "name": "stderr",
     "output_type": "stream",
     "text": [
      "/usr/lib/python3.10/multiprocessing/popen_fork.py:66: RuntimeWarning: os.fork() was called. os.fork() is incompatible with multithreaded code, and JAX is multithreaded, so this will likely lead to a deadlock.\n",
      "  self.pid = os.fork()\n",
      "/usr/lib/python3.10/multiprocessing/popen_fork.py:66: RuntimeWarning: os.fork() was called. os.fork() is incompatible with multithreaded code, and JAX is multithreaded, so this will likely lead to a deadlock.\n",
      "  self.pid = os.fork()\n"
     ]
    },
    {
     "name": "stdout",
     "output_type": "stream",
     "text": [
      "Epoch 184:\n",
      "\ttrain: loss 0.275 | loss id   0.25 | top_1_acc 0.6288 | top_5_acc 0.9156 | cos_auc: 0.9712 | cos_acc: 0.9145 | eu_auc: 0.9435 | eu_acc: 0.8784\n",
      "\ttest: cos_auc: 0.8255 | cos_acc: 0.8647 | eu_auc: 0.7798 | eu_acc: 0.7918\n",
      "\tSaving model and optimizer state to /kaggle/working/checkpoint/magface/normalmap/models/checkpoint.pth\n",
      "\tEpoch 184: EarlyStopping counter for 'test_cosine_auc': 20/50\n",
      "\tEpoch 184: EarlyStopping counter for 'test_cosine_accuracy': 29/50\n",
      "\tEpoch 184: EarlyStopping counter for 'test_euclidean_auc': 5/50\n",
      "\tEpoch 184: EarlyStopping counter for 'test_euclidean_accuracy': 57/50\n"
     ]
    },
    {
     "name": "stderr",
     "output_type": "stream",
     "text": [
      "/usr/lib/python3.10/multiprocessing/popen_fork.py:66: RuntimeWarning: os.fork() was called. os.fork() is incompatible with multithreaded code, and JAX is multithreaded, so this will likely lead to a deadlock.\n",
      "  self.pid = os.fork()\n",
      "/usr/lib/python3.10/multiprocessing/popen_fork.py:66: RuntimeWarning: os.fork() was called. os.fork() is incompatible with multithreaded code, and JAX is multithreaded, so this will likely lead to a deadlock.\n",
      "  self.pid = os.fork()\n"
     ]
    },
    {
     "name": "stdout",
     "output_type": "stream",
     "text": [
      "Epoch 185:\n",
      "\ttrain: loss 0.293 | loss id   0.27 | top_1_acc 0.6648 | top_5_acc 0.9359 | cos_auc: 0.9761 | cos_acc: 0.9229 | eu_auc: 0.9641 | eu_acc: 0.9251\n",
      "\ttest: cos_auc: 0.8444 | cos_acc: 0.8682 | eu_auc: 0.7962 | eu_acc: 0.8828\n",
      "\tSaving model and optimizer state to /kaggle/working/checkpoint/magface/normalmap/models/checkpoint.pth\n",
      "\tSaved best model weights for 'test_cosine_auc' at epoch 185 to '/kaggle/working/checkpoint/magface/normalmap/models/best_test_cosine_auc_185.pth'\n",
      "\tEpoch 185: EarlyStopping counter for 'test_cosine_accuracy': 30/50\n",
      "\tEpoch 185: EarlyStopping counter for 'test_euclidean_auc': 6/50\n",
      "\tEpoch 185: EarlyStopping counter for 'test_euclidean_accuracy': 58/50\n"
     ]
    },
    {
     "name": "stderr",
     "output_type": "stream",
     "text": [
      "/usr/lib/python3.10/multiprocessing/popen_fork.py:66: RuntimeWarning: os.fork() was called. os.fork() is incompatible with multithreaded code, and JAX is multithreaded, so this will likely lead to a deadlock.\n",
      "  self.pid = os.fork()\n",
      "/usr/lib/python3.10/multiprocessing/popen_fork.py:66: RuntimeWarning: os.fork() was called. os.fork() is incompatible with multithreaded code, and JAX is multithreaded, so this will likely lead to a deadlock.\n",
      "  self.pid = os.fork()\n"
     ]
    },
    {
     "name": "stdout",
     "output_type": "stream",
     "text": [
      "Epoch 186:\n",
      "\ttrain: loss 0.268 | loss id   0.24 | top_1_acc 0.6952 | top_5_acc 0.9471 | cos_auc: 0.9804 | cos_acc: 0.9097 | eu_auc: 0.9360 | eu_acc: 0.8824\n",
      "\ttest: cos_auc: 0.8297 | cos_acc: 0.8731 | eu_auc: 0.7572 | eu_acc: 0.8529\n",
      "\tSaving model and optimizer state to /kaggle/working/checkpoint/magface/normalmap/models/checkpoint.pth\n",
      "\tEpoch 186: EarlyStopping counter for 'test_cosine_auc': 1/50\n",
      "\tEpoch 186: EarlyStopping counter for 'test_cosine_accuracy': 31/50\n",
      "\tEpoch 186: EarlyStopping counter for 'test_euclidean_auc': 7/50\n",
      "\tEpoch 186: EarlyStopping counter for 'test_euclidean_accuracy': 59/50\n"
     ]
    },
    {
     "name": "stderr",
     "output_type": "stream",
     "text": [
      "/usr/lib/python3.10/multiprocessing/popen_fork.py:66: RuntimeWarning: os.fork() was called. os.fork() is incompatible with multithreaded code, and JAX is multithreaded, so this will likely lead to a deadlock.\n",
      "  self.pid = os.fork()\n",
      "/usr/lib/python3.10/multiprocessing/popen_fork.py:66: RuntimeWarning: os.fork() was called. os.fork() is incompatible with multithreaded code, and JAX is multithreaded, so this will likely lead to a deadlock.\n",
      "  self.pid = os.fork()\n"
     ]
    },
    {
     "name": "stdout",
     "output_type": "stream",
     "text": [
      "Epoch 187:\n",
      "\ttrain: loss 0.342 | loss id   0.32 | top_1_acc 0.7289 | top_5_acc 0.9483 | cos_auc: 0.9800 | cos_acc: 0.9204 | eu_auc: 0.9625 | eu_acc: 0.9037\n",
      "\ttest: cos_auc: 0.8186 | cos_acc: 0.8739 | eu_auc: 0.7769 | eu_acc: 0.9108\n",
      "\tSaving model and optimizer state to /kaggle/working/checkpoint/magface/normalmap/models/checkpoint.pth\n",
      "\tEpoch 187: EarlyStopping counter for 'test_cosine_auc': 2/50\n",
      "\tEpoch 187: EarlyStopping counter for 'test_cosine_accuracy': 32/50\n",
      "\tEpoch 187: EarlyStopping counter for 'test_euclidean_auc': 8/50\n",
      "\tEpoch 187: EarlyStopping counter for 'test_euclidean_accuracy': 60/50\n"
     ]
    },
    {
     "name": "stderr",
     "output_type": "stream",
     "text": [
      "/usr/lib/python3.10/multiprocessing/popen_fork.py:66: RuntimeWarning: os.fork() was called. os.fork() is incompatible with multithreaded code, and JAX is multithreaded, so this will likely lead to a deadlock.\n",
      "  self.pid = os.fork()\n",
      "/usr/lib/python3.10/multiprocessing/popen_fork.py:66: RuntimeWarning: os.fork() was called. os.fork() is incompatible with multithreaded code, and JAX is multithreaded, so this will likely lead to a deadlock.\n",
      "  self.pid = os.fork()\n"
     ]
    },
    {
     "name": "stdout",
     "output_type": "stream",
     "text": [
      "Epoch 188:\n",
      "\ttrain: loss 0.223 | loss id   0.20 | top_1_acc 0.6895 | top_5_acc 0.9539 | cos_auc: 0.9823 | cos_acc: 0.9402 | eu_auc: 0.9634 | eu_acc: 0.9083\n",
      "\ttest: cos_auc: 0.8274 | cos_acc: 0.8762 | eu_auc: 0.7791 | eu_acc: 0.8375\n",
      "\tSaving model and optimizer state to /kaggle/working/checkpoint/magface/normalmap/models/checkpoint.pth\n",
      "\tEpoch 188: EarlyStopping counter for 'test_cosine_auc': 3/50\n",
      "\tEpoch 188: EarlyStopping counter for 'test_cosine_accuracy': 33/50\n",
      "\tEpoch 188: EarlyStopping counter for 'test_euclidean_auc': 9/50\n",
      "\tEpoch 188: EarlyStopping counter for 'test_euclidean_accuracy': 61/50\n"
     ]
    },
    {
     "name": "stderr",
     "output_type": "stream",
     "text": [
      "/usr/lib/python3.10/multiprocessing/popen_fork.py:66: RuntimeWarning: os.fork() was called. os.fork() is incompatible with multithreaded code, and JAX is multithreaded, so this will likely lead to a deadlock.\n",
      "  self.pid = os.fork()\n",
      "/usr/lib/python3.10/multiprocessing/popen_fork.py:66: RuntimeWarning: os.fork() was called. os.fork() is incompatible with multithreaded code, and JAX is multithreaded, so this will likely lead to a deadlock.\n",
      "  self.pid = os.fork()\n"
     ]
    },
    {
     "name": "stdout",
     "output_type": "stream",
     "text": [
      "Epoch 189:\n",
      "\ttrain: loss 0.277 | loss id   0.25 | top_1_acc 0.7323 | top_5_acc 0.9516 | cos_auc: 0.9846 | cos_acc: 0.9396 | eu_auc: 0.9594 | eu_acc: 0.8905\n",
      "\ttest: cos_auc: 0.8277 | cos_acc: 0.7754 | eu_auc: 0.7801 | eu_acc: 0.9084\n",
      "\tSaving model and optimizer state to /kaggle/working/checkpoint/magface/normalmap/models/checkpoint.pth\n",
      "\tEpoch 189: EarlyStopping counter for 'test_cosine_auc': 4/50\n",
      "\tEpoch 189: EarlyStopping counter for 'test_cosine_accuracy': 34/50\n",
      "\tEpoch 189: EarlyStopping counter for 'test_euclidean_auc': 10/50\n",
      "\tEpoch 189: EarlyStopping counter for 'test_euclidean_accuracy': 62/50\n"
     ]
    },
    {
     "name": "stderr",
     "output_type": "stream",
     "text": [
      "/usr/lib/python3.10/multiprocessing/popen_fork.py:66: RuntimeWarning: os.fork() was called. os.fork() is incompatible with multithreaded code, and JAX is multithreaded, so this will likely lead to a deadlock.\n",
      "  self.pid = os.fork()\n",
      "/usr/lib/python3.10/multiprocessing/popen_fork.py:66: RuntimeWarning: os.fork() was called. os.fork() is incompatible with multithreaded code, and JAX is multithreaded, so this will likely lead to a deadlock.\n",
      "  self.pid = os.fork()\n"
     ]
    },
    {
     "name": "stdout",
     "output_type": "stream",
     "text": [
      "Epoch 190:\n",
      "\ttrain: loss 0.293 | loss id   0.27 | top_1_acc 0.7447 | top_5_acc 0.9528 | cos_auc: 0.9867 | cos_acc: 0.9396 | eu_auc: 0.9711 | eu_acc: 0.8992\n",
      "\ttest: cos_auc: 0.8260 | cos_acc: 0.8802 | eu_auc: 0.7896 | eu_acc: 0.8747\n",
      "\tSaving model and optimizer state to /kaggle/working/checkpoint/magface/normalmap/models/checkpoint.pth\n",
      "\tEpoch 190: EarlyStopping counter for 'test_cosine_auc': 5/50\n",
      "\tEpoch 190: EarlyStopping counter for 'test_cosine_accuracy': 35/50\n",
      "\tEpoch 190: EarlyStopping counter for 'test_euclidean_auc': 11/50\n",
      "\tEpoch 190: EarlyStopping counter for 'test_euclidean_accuracy': 63/50\n"
     ]
    },
    {
     "name": "stderr",
     "output_type": "stream",
     "text": [
      "/usr/lib/python3.10/multiprocessing/popen_fork.py:66: RuntimeWarning: os.fork() was called. os.fork() is incompatible with multithreaded code, and JAX is multithreaded, so this will likely lead to a deadlock.\n",
      "  self.pid = os.fork()\n",
      "/usr/lib/python3.10/multiprocessing/popen_fork.py:66: RuntimeWarning: os.fork() was called. os.fork() is incompatible with multithreaded code, and JAX is multithreaded, so this will likely lead to a deadlock.\n",
      "  self.pid = os.fork()\n"
     ]
    },
    {
     "name": "stdout",
     "output_type": "stream",
     "text": [
      "Epoch 191:\n",
      "\ttrain: loss 0.296 | loss id   0.27 | top_1_acc 0.7728 | top_5_acc 0.9663 | cos_auc: 0.9842 | cos_acc: 0.9363 | eu_auc: 0.9612 | eu_acc: 0.8912\n",
      "\ttest: cos_auc: 0.8277 | cos_acc: 0.9048 | eu_auc: 0.7934 | eu_acc: 0.8389\n",
      "\tSaving model and optimizer state to /kaggle/working/checkpoint/magface/normalmap/models/checkpoint.pth\n",
      "\tEpoch 191: EarlyStopping counter for 'test_cosine_auc': 6/50\n",
      "\tSaved best model weights for 'test_cosine_accuracy' at epoch 191 to '/kaggle/working/checkpoint/magface/normalmap/models/best_test_cosine_accuracy_191.pth'\n",
      "\tEpoch 191: EarlyStopping counter for 'test_euclidean_auc': 12/50\n",
      "\tEpoch 191: EarlyStopping counter for 'test_euclidean_accuracy': 64/50\n"
     ]
    },
    {
     "name": "stderr",
     "output_type": "stream",
     "text": [
      "/usr/lib/python3.10/multiprocessing/popen_fork.py:66: RuntimeWarning: os.fork() was called. os.fork() is incompatible with multithreaded code, and JAX is multithreaded, so this will likely lead to a deadlock.\n",
      "  self.pid = os.fork()\n",
      "/usr/lib/python3.10/multiprocessing/popen_fork.py:66: RuntimeWarning: os.fork() was called. os.fork() is incompatible with multithreaded code, and JAX is multithreaded, so this will likely lead to a deadlock.\n",
      "  self.pid = os.fork()\n"
     ]
    },
    {
     "name": "stdout",
     "output_type": "stream",
     "text": [
      "Epoch 192:\n",
      "\ttrain: loss 0.285 | loss id   0.26 | top_1_acc 0.7964 | top_5_acc 0.9764 | cos_auc: 0.9863 | cos_acc: 0.9341 | eu_auc: 0.9655 | eu_acc: 0.9271\n",
      "\ttest: cos_auc: 0.8318 | cos_acc: 0.7781 | eu_auc: 0.7836 | eu_acc: 0.8295\n",
      "\tSaving model and optimizer state to /kaggle/working/checkpoint/magface/normalmap/models/checkpoint.pth\n",
      "\tEpoch 192: EarlyStopping counter for 'test_cosine_auc': 7/50\n",
      "\tEpoch 192: EarlyStopping counter for 'test_cosine_accuracy': 1/50\n",
      "\tEpoch 192: EarlyStopping counter for 'test_euclidean_auc': 13/50\n",
      "\tEpoch 192: EarlyStopping counter for 'test_euclidean_accuracy': 65/50\n"
     ]
    },
    {
     "name": "stderr",
     "output_type": "stream",
     "text": [
      "/usr/lib/python3.10/multiprocessing/popen_fork.py:66: RuntimeWarning: os.fork() was called. os.fork() is incompatible with multithreaded code, and JAX is multithreaded, so this will likely lead to a deadlock.\n",
      "  self.pid = os.fork()\n",
      "/usr/lib/python3.10/multiprocessing/popen_fork.py:66: RuntimeWarning: os.fork() was called. os.fork() is incompatible with multithreaded code, and JAX is multithreaded, so this will likely lead to a deadlock.\n",
      "  self.pid = os.fork()\n"
     ]
    },
    {
     "name": "stdout",
     "output_type": "stream",
     "text": [
      "Epoch 193:\n",
      "\ttrain: loss 0.288 | loss id   0.26 | top_1_acc 0.7885 | top_5_acc 0.9674 | cos_auc: 0.9836 | cos_acc: 0.9365 | eu_auc: 0.9645 | eu_acc: 0.8987\n",
      "\ttest: cos_auc: 0.8284 | cos_acc: 0.7900 | eu_auc: 0.7839 | eu_acc: 0.7989\n",
      "\tSaving model and optimizer state to /kaggle/working/checkpoint/magface/normalmap/models/checkpoint.pth\n",
      "\tEpoch 193: EarlyStopping counter for 'test_cosine_auc': 8/50\n",
      "\tEpoch 193: EarlyStopping counter for 'test_cosine_accuracy': 2/50\n",
      "\tEpoch 193: EarlyStopping counter for 'test_euclidean_auc': 14/50\n",
      "\tEpoch 193: EarlyStopping counter for 'test_euclidean_accuracy': 66/50\n"
     ]
    },
    {
     "name": "stderr",
     "output_type": "stream",
     "text": [
      "/usr/lib/python3.10/multiprocessing/popen_fork.py:66: RuntimeWarning: os.fork() was called. os.fork() is incompatible with multithreaded code, and JAX is multithreaded, so this will likely lead to a deadlock.\n",
      "  self.pid = os.fork()\n",
      "/usr/lib/python3.10/multiprocessing/popen_fork.py:66: RuntimeWarning: os.fork() was called. os.fork() is incompatible with multithreaded code, and JAX is multithreaded, so this will likely lead to a deadlock.\n",
      "  self.pid = os.fork()\n"
     ]
    },
    {
     "name": "stdout",
     "output_type": "stream",
     "text": [
      "Epoch 194:\n",
      "\ttrain: loss 0.285 | loss id   0.26 | top_1_acc 0.7964 | top_5_acc 0.9764 | cos_auc: 0.9840 | cos_acc: 0.9375 | eu_auc: 0.9655 | eu_acc: 0.9094\n",
      "\ttest: cos_auc: 0.8334 | cos_acc: 0.7489 | eu_auc: 0.7866 | eu_acc: 0.8771\n",
      "\tSaving model and optimizer state to /kaggle/working/checkpoint/magface/normalmap/models/checkpoint.pth\n",
      "\tEpoch 194: EarlyStopping counter for 'test_cosine_auc': 9/50\n",
      "\tEpoch 194: EarlyStopping counter for 'test_cosine_accuracy': 3/50\n",
      "\tEpoch 194: EarlyStopping counter for 'test_euclidean_auc': 15/50\n",
      "\tEpoch 194: EarlyStopping counter for 'test_euclidean_accuracy': 67/50\n"
     ]
    },
    {
     "name": "stderr",
     "output_type": "stream",
     "text": [
      "/usr/lib/python3.10/multiprocessing/popen_fork.py:66: RuntimeWarning: os.fork() was called. os.fork() is incompatible with multithreaded code, and JAX is multithreaded, so this will likely lead to a deadlock.\n",
      "  self.pid = os.fork()\n",
      "/usr/lib/python3.10/multiprocessing/popen_fork.py:66: RuntimeWarning: os.fork() was called. os.fork() is incompatible with multithreaded code, and JAX is multithreaded, so this will likely lead to a deadlock.\n",
      "  self.pid = os.fork()\n"
     ]
    },
    {
     "name": "stdout",
     "output_type": "stream",
     "text": [
      "Epoch 195:\n",
      "\ttrain: loss 0.272 | loss id   0.25 | top_1_acc 0.8110 | top_5_acc 0.9854 | cos_auc: 0.9864 | cos_acc: 0.9463 | eu_auc: 0.9681 | eu_acc: 0.9166\n",
      "\ttest: cos_auc: 0.8365 | cos_acc: 0.8262 | eu_auc: 0.7884 | eu_acc: 0.8426\n",
      "\tSaving model and optimizer state to /kaggle/working/checkpoint/magface/normalmap/models/checkpoint.pth\n",
      "\tEpoch 195: EarlyStopping counter for 'test_cosine_auc': 10/50\n",
      "\tEpoch 195: EarlyStopping counter for 'test_cosine_accuracy': 4/50\n",
      "\tEpoch 195: EarlyStopping counter for 'test_euclidean_auc': 16/50\n",
      "\tEpoch 195: EarlyStopping counter for 'test_euclidean_accuracy': 68/50\n"
     ]
    },
    {
     "name": "stderr",
     "output_type": "stream",
     "text": [
      "/usr/lib/python3.10/multiprocessing/popen_fork.py:66: RuntimeWarning: os.fork() was called. os.fork() is incompatible with multithreaded code, and JAX is multithreaded, so this will likely lead to a deadlock.\n",
      "  self.pid = os.fork()\n",
      "/usr/lib/python3.10/multiprocessing/popen_fork.py:66: RuntimeWarning: os.fork() was called. os.fork() is incompatible with multithreaded code, and JAX is multithreaded, so this will likely lead to a deadlock.\n",
      "  self.pid = os.fork()\n"
     ]
    },
    {
     "name": "stdout",
     "output_type": "stream",
     "text": [
      "Epoch 196:\n",
      "\ttrain: loss 0.297 | loss id   0.27 | top_1_acc 0.8234 | top_5_acc 0.9719 | cos_auc: 0.9846 | cos_acc: 0.9447 | eu_auc: 0.9670 | eu_acc: 0.9056\n",
      "\ttest: cos_auc: 0.8355 | cos_acc: 0.7622 | eu_auc: 0.7877 | eu_acc: 0.8490\n",
      "\tSaving model and optimizer state to /kaggle/working/checkpoint/magface/normalmap/models/checkpoint.pth\n",
      "\tEpoch 196: EarlyStopping counter for 'test_cosine_auc': 11/50\n",
      "\tEpoch 196: EarlyStopping counter for 'test_cosine_accuracy': 5/50\n",
      "\tEpoch 196: EarlyStopping counter for 'test_euclidean_auc': 17/50\n",
      "\tEpoch 196: EarlyStopping counter for 'test_euclidean_accuracy': 69/50\n"
     ]
    },
    {
     "name": "stderr",
     "output_type": "stream",
     "text": [
      "/usr/lib/python3.10/multiprocessing/popen_fork.py:66: RuntimeWarning: os.fork() was called. os.fork() is incompatible with multithreaded code, and JAX is multithreaded, so this will likely lead to a deadlock.\n",
      "  self.pid = os.fork()\n",
      "/usr/lib/python3.10/multiprocessing/popen_fork.py:66: RuntimeWarning: os.fork() was called. os.fork() is incompatible with multithreaded code, and JAX is multithreaded, so this will likely lead to a deadlock.\n",
      "  self.pid = os.fork()\n"
     ]
    },
    {
     "name": "stdout",
     "output_type": "stream",
     "text": [
      "Epoch 197:\n",
      "\ttrain: loss 0.260 | loss id   0.24 | top_1_acc 0.8110 | top_5_acc 0.9809 | cos_auc: 0.9868 | cos_acc: 0.9456 | eu_auc: 0.9696 | eu_acc: 0.9262\n",
      "\ttest: cos_auc: 0.8345 | cos_acc: 0.8695 | eu_auc: 0.7830 | eu_acc: 0.8618\n",
      "\tSaving model and optimizer state to /kaggle/working/checkpoint/magface/normalmap/models/checkpoint.pth\n",
      "\tEpoch 197: EarlyStopping counter for 'test_cosine_auc': 12/50\n",
      "\tEpoch 197: EarlyStopping counter for 'test_cosine_accuracy': 6/50\n",
      "\tEpoch 197: EarlyStopping counter for 'test_euclidean_auc': 18/50\n",
      "\tEpoch 197: EarlyStopping counter for 'test_euclidean_accuracy': 70/50\n"
     ]
    },
    {
     "name": "stderr",
     "output_type": "stream",
     "text": [
      "/usr/lib/python3.10/multiprocessing/popen_fork.py:66: RuntimeWarning: os.fork() was called. os.fork() is incompatible with multithreaded code, and JAX is multithreaded, so this will likely lead to a deadlock.\n",
      "  self.pid = os.fork()\n",
      "/usr/lib/python3.10/multiprocessing/popen_fork.py:66: RuntimeWarning: os.fork() was called. os.fork() is incompatible with multithreaded code, and JAX is multithreaded, so this will likely lead to a deadlock.\n",
      "  self.pid = os.fork()\n"
     ]
    },
    {
     "name": "stdout",
     "output_type": "stream",
     "text": [
      "Epoch 198:\n",
      "\ttrain: loss 0.256 | loss id   0.23 | top_1_acc 0.8403 | top_5_acc 0.9910 | cos_auc: 0.9863 | cos_acc: 0.9392 | eu_auc: 0.9698 | eu_acc: 0.9169\n",
      "\ttest: cos_auc: 0.8343 | cos_acc: 0.7426 | eu_auc: 0.7879 | eu_acc: 0.8670\n",
      "\tSaving model and optimizer state to /kaggle/working/checkpoint/magface/normalmap/models/checkpoint.pth\n",
      "\tEpoch 198: EarlyStopping counter for 'test_cosine_auc': 13/50\n",
      "\tEpoch 198: EarlyStopping counter for 'test_cosine_accuracy': 7/50\n",
      "\tEpoch 198: EarlyStopping counter for 'test_euclidean_auc': 19/50\n",
      "\tEpoch 198: EarlyStopping counter for 'test_euclidean_accuracy': 71/50\n"
     ]
    },
    {
     "name": "stderr",
     "output_type": "stream",
     "text": [
      "/usr/lib/python3.10/multiprocessing/popen_fork.py:66: RuntimeWarning: os.fork() was called. os.fork() is incompatible with multithreaded code, and JAX is multithreaded, so this will likely lead to a deadlock.\n",
      "  self.pid = os.fork()\n",
      "/usr/lib/python3.10/multiprocessing/popen_fork.py:66: RuntimeWarning: os.fork() was called. os.fork() is incompatible with multithreaded code, and JAX is multithreaded, so this will likely lead to a deadlock.\n",
      "  self.pid = os.fork()\n"
     ]
    },
    {
     "name": "stdout",
     "output_type": "stream",
     "text": [
      "Epoch 199:\n",
      "\ttrain: loss 0.270 | loss id   0.25 | top_1_acc 0.8076 | top_5_acc 0.9753 | cos_auc: 0.9867 | cos_acc: 0.9479 | eu_auc: 0.9706 | eu_acc: 0.9258\n",
      "\ttest: cos_auc: 0.8371 | cos_acc: 0.7632 | eu_auc: 0.7893 | eu_acc: 0.8872\n",
      "\tSaving model and optimizer state to /kaggle/working/checkpoint/magface/normalmap/models/checkpoint.pth\n",
      "\tEpoch 199: EarlyStopping counter for 'test_cosine_auc': 14/50\n",
      "\tEpoch 199: EarlyStopping counter for 'test_cosine_accuracy': 8/50\n",
      "\tEpoch 199: EarlyStopping counter for 'test_euclidean_auc': 20/50\n",
      "\tEpoch 199: EarlyStopping counter for 'test_euclidean_accuracy': 72/50\n"
     ]
    },
    {
     "name": "stderr",
     "output_type": "stream",
     "text": [
      "/usr/lib/python3.10/multiprocessing/popen_fork.py:66: RuntimeWarning: os.fork() was called. os.fork() is incompatible with multithreaded code, and JAX is multithreaded, so this will likely lead to a deadlock.\n",
      "  self.pid = os.fork()\n",
      "/usr/lib/python3.10/multiprocessing/popen_fork.py:66: RuntimeWarning: os.fork() was called. os.fork() is incompatible with multithreaded code, and JAX is multithreaded, so this will likely lead to a deadlock.\n",
      "  self.pid = os.fork()\n"
     ]
    },
    {
     "name": "stdout",
     "output_type": "stream",
     "text": [
      "Epoch 200:\n",
      "\ttrain: loss 0.263 | loss id   0.24 | top_1_acc 0.8133 | top_5_acc 0.9798 | cos_auc: 0.9880 | cos_acc: 0.9446 | eu_auc: 0.9702 | eu_acc: 0.9271\n",
      "\ttest: cos_auc: 0.8339 | cos_acc: 0.7424 | eu_auc: 0.7884 | eu_acc: 0.8237\n",
      "\tSaving model and optimizer state to /kaggle/working/checkpoint/magface/normalmap/models/checkpoint.pth\n",
      "\tEpoch 200: EarlyStopping counter for 'test_cosine_auc': 15/50\n",
      "\tEpoch 200: EarlyStopping counter for 'test_cosine_accuracy': 9/50\n",
      "\tEpoch 200: EarlyStopping counter for 'test_euclidean_auc': 21/50\n",
      "\tEpoch 200: EarlyStopping counter for 'test_euclidean_accuracy': 73/50\n"
     ]
    },
    {
     "name": "stderr",
     "output_type": "stream",
     "text": [
      "/usr/lib/python3.10/multiprocessing/popen_fork.py:66: RuntimeWarning: os.fork() was called. os.fork() is incompatible with multithreaded code, and JAX is multithreaded, so this will likely lead to a deadlock.\n",
      "  self.pid = os.fork()\n",
      "/usr/lib/python3.10/multiprocessing/popen_fork.py:66: RuntimeWarning: os.fork() was called. os.fork() is incompatible with multithreaded code, and JAX is multithreaded, so this will likely lead to a deadlock.\n",
      "  self.pid = os.fork()\n"
     ]
    },
    {
     "name": "stdout",
     "output_type": "stream",
     "text": [
      "Epoch 201:\n",
      "\ttrain: loss 0.322 | loss id   0.30 | top_1_acc 0.4646 | top_5_acc 0.8088 | cos_auc: 0.9259 | cos_acc: 0.8148 | eu_auc: 0.8719 | eu_acc: 0.8495\n",
      "\ttest: cos_auc: 0.8067 | cos_acc: 0.7914 | eu_auc: 0.7465 | eu_acc: 0.8703\n",
      "\tSaving model and optimizer state to /kaggle/working/checkpoint/magface/normalmap/models/checkpoint.pth\n",
      "\tEpoch 201: EarlyStopping counter for 'test_cosine_auc': 16/50\n",
      "\tEpoch 201: EarlyStopping counter for 'test_cosine_accuracy': 10/50\n",
      "\tEpoch 201: EarlyStopping counter for 'test_euclidean_auc': 22/50\n",
      "\tEpoch 201: EarlyStopping counter for 'test_euclidean_accuracy': 74/50\n"
     ]
    },
    {
     "name": "stderr",
     "output_type": "stream",
     "text": [
      "/usr/lib/python3.10/multiprocessing/popen_fork.py:66: RuntimeWarning: os.fork() was called. os.fork() is incompatible with multithreaded code, and JAX is multithreaded, so this will likely lead to a deadlock.\n",
      "  self.pid = os.fork()\n",
      "/usr/lib/python3.10/multiprocessing/popen_fork.py:66: RuntimeWarning: os.fork() was called. os.fork() is incompatible with multithreaded code, and JAX is multithreaded, so this will likely lead to a deadlock.\n",
      "  self.pid = os.fork()\n"
     ]
    },
    {
     "name": "stdout",
     "output_type": "stream",
     "text": [
      "Epoch 202:\n",
      "\ttrain: loss 0.389 | loss id   0.37 | top_1_acc 0.4049 | top_5_acc 0.7492 | cos_auc: 0.8864 | cos_acc: 0.8321 | eu_auc: 0.8650 | eu_acc: 0.8464\n",
      "\ttest: cos_auc: 0.7851 | cos_acc: 0.7404 | eu_auc: 0.7558 | eu_acc: 0.8063\n",
      "\tSaving model and optimizer state to /kaggle/working/checkpoint/magface/normalmap/models/checkpoint.pth\n",
      "\tEpoch 202: EarlyStopping counter for 'test_cosine_auc': 17/50\n",
      "\tEpoch 202: EarlyStopping counter for 'test_cosine_accuracy': 11/50\n",
      "\tEpoch 202: EarlyStopping counter for 'test_euclidean_auc': 23/50\n",
      "\tEpoch 202: EarlyStopping counter for 'test_euclidean_accuracy': 75/50\n"
     ]
    },
    {
     "name": "stderr",
     "output_type": "stream",
     "text": [
      "/usr/lib/python3.10/multiprocessing/popen_fork.py:66: RuntimeWarning: os.fork() was called. os.fork() is incompatible with multithreaded code, and JAX is multithreaded, so this will likely lead to a deadlock.\n",
      "  self.pid = os.fork()\n",
      "/usr/lib/python3.10/multiprocessing/popen_fork.py:66: RuntimeWarning: os.fork() was called. os.fork() is incompatible with multithreaded code, and JAX is multithreaded, so this will likely lead to a deadlock.\n",
      "  self.pid = os.fork()\n"
     ]
    },
    {
     "name": "stdout",
     "output_type": "stream",
     "text": [
      "Epoch 203:\n",
      "\ttrain: loss 0.358 | loss id   0.34 | top_1_acc 0.4342 | top_5_acc 0.7919 | cos_auc: 0.9186 | cos_acc: 0.8386 | eu_auc: 0.8631 | eu_acc: 0.8432\n",
      "\ttest: cos_auc: 0.7866 | cos_acc: 0.7837 | eu_auc: 0.7323 | eu_acc: 0.9062\n",
      "\tSaving model and optimizer state to /kaggle/working/checkpoint/magface/normalmap/models/checkpoint.pth\n",
      "\tEpoch 203: EarlyStopping counter for 'test_cosine_auc': 18/50\n",
      "\tEpoch 203: EarlyStopping counter for 'test_cosine_accuracy': 12/50\n",
      "\tEpoch 203: EarlyStopping counter for 'test_euclidean_auc': 24/50\n",
      "\tEpoch 203: EarlyStopping counter for 'test_euclidean_accuracy': 76/50\n"
     ]
    },
    {
     "name": "stderr",
     "output_type": "stream",
     "text": [
      "/usr/lib/python3.10/multiprocessing/popen_fork.py:66: RuntimeWarning: os.fork() was called. os.fork() is incompatible with multithreaded code, and JAX is multithreaded, so this will likely lead to a deadlock.\n",
      "  self.pid = os.fork()\n",
      "/usr/lib/python3.10/multiprocessing/popen_fork.py:66: RuntimeWarning: os.fork() was called. os.fork() is incompatible with multithreaded code, and JAX is multithreaded, so this will likely lead to a deadlock.\n",
      "  self.pid = os.fork()\n"
     ]
    },
    {
     "name": "stdout",
     "output_type": "stream",
     "text": [
      "Epoch 204:\n",
      "\ttrain: loss 0.374 | loss id   0.35 | top_1_acc 0.4781 | top_5_acc 0.8133 | cos_auc: 0.9081 | cos_acc: 0.8689 | eu_auc: 0.8785 | eu_acc: 0.8009\n",
      "\ttest: cos_auc: 0.7809 | cos_acc: 0.6697 | eu_auc: 0.7458 | eu_acc: 0.8607\n",
      "\tSaving model and optimizer state to /kaggle/working/checkpoint/magface/normalmap/models/checkpoint.pth\n",
      "\tEpoch 204: EarlyStopping counter for 'test_cosine_auc': 19/50\n",
      "\tEpoch 204: EarlyStopping counter for 'test_cosine_accuracy': 13/50\n",
      "\tEpoch 204: EarlyStopping counter for 'test_euclidean_auc': 25/50\n",
      "\tEpoch 204: EarlyStopping counter for 'test_euclidean_accuracy': 77/50\n"
     ]
    },
    {
     "name": "stderr",
     "output_type": "stream",
     "text": [
      "/usr/lib/python3.10/multiprocessing/popen_fork.py:66: RuntimeWarning: os.fork() was called. os.fork() is incompatible with multithreaded code, and JAX is multithreaded, so this will likely lead to a deadlock.\n",
      "  self.pid = os.fork()\n",
      "/usr/lib/python3.10/multiprocessing/popen_fork.py:66: RuntimeWarning: os.fork() was called. os.fork() is incompatible with multithreaded code, and JAX is multithreaded, so this will likely lead to a deadlock.\n",
      "  self.pid = os.fork()\n",
      "/usr/lib/python3.10/multiprocessing/popen_fork.py:66: RuntimeWarning: os.fork() was called. os.fork() is incompatible with multithreaded code, and JAX is multithreaded, so this will likely lead to a deadlock.\n",
      "  self.pid = os.fork()\n"
     ]
    },
    {
     "name": "stdout",
     "output_type": "stream",
     "text": [
      "Epoch 205:\n",
      "\ttrain: loss 0.378 | loss id   0.36 | top_1_acc 0.4724 | top_5_acc 0.8324 | cos_auc: 0.9463 | cos_acc: 0.8829 | eu_auc: 0.9107 | eu_acc: 0.8641\n",
      "\ttest: cos_auc: 0.8016 | cos_acc: 0.6429 | eu_auc: 0.7515 | eu_acc: 0.9138\n",
      "\tSaving model and optimizer state to /kaggle/working/checkpoint/magface/normalmap/models/checkpoint.pth\n",
      "\tEpoch 205: EarlyStopping counter for 'test_cosine_auc': 20/50\n",
      "\tEpoch 205: EarlyStopping counter for 'test_cosine_accuracy': 14/50\n",
      "\tEpoch 205: EarlyStopping counter for 'test_euclidean_auc': 26/50\n",
      "\tEpoch 205: EarlyStopping counter for 'test_euclidean_accuracy': 78/50\n"
     ]
    },
    {
     "name": "stderr",
     "output_type": "stream",
     "text": [
      "/usr/lib/python3.10/multiprocessing/popen_fork.py:66: RuntimeWarning: os.fork() was called. os.fork() is incompatible with multithreaded code, and JAX is multithreaded, so this will likely lead to a deadlock.\n",
      "  self.pid = os.fork()\n",
      "/usr/lib/python3.10/multiprocessing/popen_fork.py:66: RuntimeWarning: os.fork() was called. os.fork() is incompatible with multithreaded code, and JAX is multithreaded, so this will likely lead to a deadlock.\n",
      "  self.pid = os.fork()\n"
     ]
    },
    {
     "name": "stdout",
     "output_type": "stream",
     "text": [
      "Epoch 206:\n",
      "\ttrain: loss 0.372 | loss id   0.35 | top_1_acc 0.5141 | top_5_acc 0.8414 | cos_auc: 0.8919 | cos_acc: 0.8148 | eu_auc: 0.8495 | eu_acc: 0.7841\n",
      "\ttest: cos_auc: 0.7950 | cos_acc: 0.7025 | eu_auc: 0.7605 | eu_acc: 0.7334\n",
      "\tSaving model and optimizer state to /kaggle/working/checkpoint/magface/normalmap/models/checkpoint.pth\n",
      "\tEpoch 206: EarlyStopping counter for 'test_cosine_auc': 21/50\n",
      "\tEpoch 206: EarlyStopping counter for 'test_cosine_accuracy': 15/50\n",
      "\tEpoch 206: EarlyStopping counter for 'test_euclidean_auc': 27/50\n",
      "\tEpoch 206: EarlyStopping counter for 'test_euclidean_accuracy': 79/50\n"
     ]
    },
    {
     "name": "stderr",
     "output_type": "stream",
     "text": [
      "/usr/lib/python3.10/multiprocessing/popen_fork.py:66: RuntimeWarning: os.fork() was called. os.fork() is incompatible with multithreaded code, and JAX is multithreaded, so this will likely lead to a deadlock.\n",
      "  self.pid = os.fork()\n",
      "/usr/lib/python3.10/multiprocessing/popen_fork.py:66: RuntimeWarning: os.fork() was called. os.fork() is incompatible with multithreaded code, and JAX is multithreaded, so this will likely lead to a deadlock.\n",
      "  self.pid = os.fork()\n"
     ]
    },
    {
     "name": "stdout",
     "output_type": "stream",
     "text": [
      "Epoch 207:\n",
      "\ttrain: loss 0.384 | loss id   0.36 | top_1_acc 0.4601 | top_5_acc 0.8268 | cos_auc: 0.9550 | cos_acc: 0.8914 | eu_auc: 0.9218 | eu_acc: 0.8733\n",
      "\ttest: cos_auc: 0.8187 | cos_acc: 0.8491 | eu_auc: 0.7923 | eu_acc: 0.7170\n",
      "\tSaving model and optimizer state to /kaggle/working/checkpoint/magface/normalmap/models/checkpoint.pth\n",
      "\tEpoch 207: EarlyStopping counter for 'test_cosine_auc': 22/50\n",
      "\tEpoch 207: EarlyStopping counter for 'test_cosine_accuracy': 16/50\n",
      "\tEpoch 207: EarlyStopping counter for 'test_euclidean_auc': 28/50\n",
      "\tEpoch 207: EarlyStopping counter for 'test_euclidean_accuracy': 80/50\n"
     ]
    },
    {
     "name": "stderr",
     "output_type": "stream",
     "text": [
      "/usr/lib/python3.10/multiprocessing/popen_fork.py:66: RuntimeWarning: os.fork() was called. os.fork() is incompatible with multithreaded code, and JAX is multithreaded, so this will likely lead to a deadlock.\n",
      "  self.pid = os.fork()\n",
      "/usr/lib/python3.10/multiprocessing/popen_fork.py:66: RuntimeWarning: os.fork() was called. os.fork() is incompatible with multithreaded code, and JAX is multithreaded, so this will likely lead to a deadlock.\n",
      "  self.pid = os.fork()\n"
     ]
    },
    {
     "name": "stdout",
     "output_type": "stream",
     "text": [
      "Epoch 208:\n",
      "\ttrain: loss 0.379 | loss id   0.36 | top_1_acc 0.5084 | top_5_acc 0.8628 | cos_auc: 0.9606 | cos_acc: 0.8969 | eu_auc: 0.9130 | eu_acc: 0.8768\n",
      "\ttest: cos_auc: 0.8376 | cos_acc: 0.7720 | eu_auc: 0.7737 | eu_acc: 0.9074\n",
      "\tSaving model and optimizer state to /kaggle/working/checkpoint/magface/normalmap/models/checkpoint.pth\n",
      "\tEpoch 208: EarlyStopping counter for 'test_cosine_auc': 23/50\n",
      "\tEpoch 208: EarlyStopping counter for 'test_cosine_accuracy': 17/50\n",
      "\tEpoch 208: EarlyStopping counter for 'test_euclidean_auc': 29/50\n",
      "\tEpoch 208: EarlyStopping counter for 'test_euclidean_accuracy': 81/50\n"
     ]
    },
    {
     "name": "stderr",
     "output_type": "stream",
     "text": [
      "/usr/lib/python3.10/multiprocessing/popen_fork.py:66: RuntimeWarning: os.fork() was called. os.fork() is incompatible with multithreaded code, and JAX is multithreaded, so this will likely lead to a deadlock.\n",
      "  self.pid = os.fork()\n",
      "/usr/lib/python3.10/multiprocessing/popen_fork.py:66: RuntimeWarning: os.fork() was called. os.fork() is incompatible with multithreaded code, and JAX is multithreaded, so this will likely lead to a deadlock.\n",
      "  self.pid = os.fork()\n"
     ]
    },
    {
     "name": "stdout",
     "output_type": "stream",
     "text": [
      "Epoch 209:\n",
      "\ttrain: loss 0.380 | loss id   0.36 | top_1_acc 0.5759 | top_5_acc 0.8718 | cos_auc: 0.9514 | cos_acc: 0.8759 | eu_auc: 0.9316 | eu_acc: 0.8644\n",
      "\ttest: cos_auc: 0.8212 | cos_acc: 0.8722 | eu_auc: 0.7744 | eu_acc: 0.7860\n",
      "\tSaving model and optimizer state to /kaggle/working/checkpoint/magface/normalmap/models/checkpoint.pth\n",
      "\tEpoch 209: EarlyStopping counter for 'test_cosine_auc': 24/50\n",
      "\tEpoch 209: EarlyStopping counter for 'test_cosine_accuracy': 18/50\n",
      "\tEpoch 209: EarlyStopping counter for 'test_euclidean_auc': 30/50\n",
      "\tEpoch 209: EarlyStopping counter for 'test_euclidean_accuracy': 82/50\n"
     ]
    },
    {
     "name": "stderr",
     "output_type": "stream",
     "text": [
      "/usr/lib/python3.10/multiprocessing/popen_fork.py:66: RuntimeWarning: os.fork() was called. os.fork() is incompatible with multithreaded code, and JAX is multithreaded, so this will likely lead to a deadlock.\n",
      "  self.pid = os.fork()\n",
      "/usr/lib/python3.10/multiprocessing/popen_fork.py:66: RuntimeWarning: os.fork() was called. os.fork() is incompatible with multithreaded code, and JAX is multithreaded, so this will likely lead to a deadlock.\n",
      "  self.pid = os.fork()\n"
     ]
    },
    {
     "name": "stdout",
     "output_type": "stream",
     "text": [
      "Epoch 210:\n",
      "\ttrain: loss 0.370 | loss id   0.35 | top_1_acc 0.5692 | top_5_acc 0.8965 | cos_auc: 0.9702 | cos_acc: 0.8974 | eu_auc: 0.9473 | eu_acc: 0.8758\n",
      "\ttest: cos_auc: 0.8078 | cos_acc: 0.7989 | eu_auc: 0.7876 | eu_acc: 0.8467\n",
      "\tSaving model and optimizer state to /kaggle/working/checkpoint/magface/normalmap/models/checkpoint.pth\n",
      "\tEpoch 210: EarlyStopping counter for 'test_cosine_auc': 25/50\n",
      "\tEpoch 210: EarlyStopping counter for 'test_cosine_accuracy': 19/50\n",
      "\tEpoch 210: EarlyStopping counter for 'test_euclidean_auc': 31/50\n",
      "\tEpoch 210: EarlyStopping counter for 'test_euclidean_accuracy': 83/50\n"
     ]
    },
    {
     "name": "stderr",
     "output_type": "stream",
     "text": [
      "/usr/lib/python3.10/multiprocessing/popen_fork.py:66: RuntimeWarning: os.fork() was called. os.fork() is incompatible with multithreaded code, and JAX is multithreaded, so this will likely lead to a deadlock.\n",
      "  self.pid = os.fork()\n",
      "/usr/lib/python3.10/multiprocessing/popen_fork.py:66: RuntimeWarning: os.fork() was called. os.fork() is incompatible with multithreaded code, and JAX is multithreaded, so this will likely lead to a deadlock.\n",
      "  self.pid = os.fork()\n"
     ]
    },
    {
     "name": "stdout",
     "output_type": "stream",
     "text": [
      "Epoch 211:\n",
      "\ttrain: loss 0.333 | loss id   0.31 | top_1_acc 0.5714 | top_5_acc 0.8886 | cos_auc: 0.9603 | cos_acc: 0.8980 | eu_auc: 0.9011 | eu_acc: 0.8488\n",
      "\ttest: cos_auc: 0.8191 | cos_acc: 0.8126 | eu_auc: 0.7703 | eu_acc: 0.8035\n",
      "\tSaving model and optimizer state to /kaggle/working/checkpoint/magface/normalmap/models/checkpoint.pth\n",
      "\tEpoch 211: EarlyStopping counter for 'test_cosine_auc': 26/50\n",
      "\tEpoch 211: EarlyStopping counter for 'test_cosine_accuracy': 20/50\n",
      "\tEpoch 211: EarlyStopping counter for 'test_euclidean_auc': 32/50\n",
      "\tEpoch 211: EarlyStopping counter for 'test_euclidean_accuracy': 84/50\n"
     ]
    },
    {
     "name": "stderr",
     "output_type": "stream",
     "text": [
      "/usr/lib/python3.10/multiprocessing/popen_fork.py:66: RuntimeWarning: os.fork() was called. os.fork() is incompatible with multithreaded code, and JAX is multithreaded, so this will likely lead to a deadlock.\n",
      "  self.pid = os.fork()\n",
      "/usr/lib/python3.10/multiprocessing/popen_fork.py:66: RuntimeWarning: os.fork() was called. os.fork() is incompatible with multithreaded code, and JAX is multithreaded, so this will likely lead to a deadlock.\n",
      "  self.pid = os.fork()\n"
     ]
    },
    {
     "name": "stdout",
     "output_type": "stream",
     "text": [
      "Epoch 212:\n",
      "\ttrain: loss 0.372 | loss id   0.35 | top_1_acc 0.5591 | top_5_acc 0.8853 | cos_auc: 0.9497 | cos_acc: 0.8988 | eu_auc: 0.8894 | eu_acc: 0.8631\n",
      "\ttest: cos_auc: 0.8250 | cos_acc: 0.8273 | eu_auc: 0.7559 | eu_acc: 0.8511\n",
      "\tSaving model and optimizer state to /kaggle/working/checkpoint/magface/normalmap/models/checkpoint.pth\n",
      "\tEpoch 212: EarlyStopping counter for 'test_cosine_auc': 27/50\n",
      "\tEpoch 212: EarlyStopping counter for 'test_cosine_accuracy': 21/50\n",
      "\tEpoch 212: EarlyStopping counter for 'test_euclidean_auc': 33/50\n",
      "\tEpoch 212: EarlyStopping counter for 'test_euclidean_accuracy': 85/50\n"
     ]
    },
    {
     "name": "stderr",
     "output_type": "stream",
     "text": [
      "/usr/lib/python3.10/multiprocessing/popen_fork.py:66: RuntimeWarning: os.fork() was called. os.fork() is incompatible with multithreaded code, and JAX is multithreaded, so this will likely lead to a deadlock.\n",
      "  self.pid = os.fork()\n",
      "/usr/lib/python3.10/multiprocessing/popen_fork.py:66: RuntimeWarning: os.fork() was called. os.fork() is incompatible with multithreaded code, and JAX is multithreaded, so this will likely lead to a deadlock.\n",
      "  self.pid = os.fork()\n"
     ]
    },
    {
     "name": "stdout",
     "output_type": "stream",
     "text": [
      "Epoch 213:\n",
      "\ttrain: loss 0.328 | loss id   0.30 | top_1_acc 0.5939 | top_5_acc 0.9078 | cos_auc: 0.9695 | cos_acc: 0.9087 | eu_auc: 0.9379 | eu_acc: 0.8814\n",
      "\ttest: cos_auc: 0.8428 | cos_acc: 0.8689 | eu_auc: 0.7948 | eu_acc: 0.7176\n",
      "\tSaving model and optimizer state to /kaggle/working/checkpoint/magface/normalmap/models/checkpoint.pth\n",
      "\tEpoch 213: EarlyStopping counter for 'test_cosine_auc': 28/50\n",
      "\tEpoch 213: EarlyStopping counter for 'test_cosine_accuracy': 22/50\n",
      "\tEpoch 213: EarlyStopping counter for 'test_euclidean_auc': 34/50\n",
      "\tEpoch 213: EarlyStopping counter for 'test_euclidean_accuracy': 86/50\n"
     ]
    },
    {
     "name": "stderr",
     "output_type": "stream",
     "text": [
      "/usr/lib/python3.10/multiprocessing/popen_fork.py:66: RuntimeWarning: os.fork() was called. os.fork() is incompatible with multithreaded code, and JAX is multithreaded, so this will likely lead to a deadlock.\n",
      "  self.pid = os.fork()\n",
      "/usr/lib/python3.10/multiprocessing/popen_fork.py:66: RuntimeWarning: os.fork() was called. os.fork() is incompatible with multithreaded code, and JAX is multithreaded, so this will likely lead to a deadlock.\n",
      "  self.pid = os.fork()\n"
     ]
    },
    {
     "name": "stdout",
     "output_type": "stream",
     "text": [
      "Epoch 214:\n",
      "\ttrain: loss 0.379 | loss id   0.36 | top_1_acc 0.6400 | top_5_acc 0.9235 | cos_auc: 0.9658 | cos_acc: 0.9103 | eu_auc: 0.9399 | eu_acc: 0.8764\n",
      "\ttest: cos_auc: 0.8160 | cos_acc: 0.7086 | eu_auc: 0.7788 | eu_acc: 0.8734\n",
      "\tSaving model and optimizer state to /kaggle/working/checkpoint/magface/normalmap/models/checkpoint.pth\n",
      "\tEpoch 214: EarlyStopping counter for 'test_cosine_auc': 29/50\n",
      "\tEpoch 214: EarlyStopping counter for 'test_cosine_accuracy': 23/50\n",
      "\tEpoch 214: EarlyStopping counter for 'test_euclidean_auc': 35/50\n",
      "\tEpoch 214: EarlyStopping counter for 'test_euclidean_accuracy': 87/50\n"
     ]
    },
    {
     "name": "stderr",
     "output_type": "stream",
     "text": [
      "/usr/lib/python3.10/multiprocessing/popen_fork.py:66: RuntimeWarning: os.fork() was called. os.fork() is incompatible with multithreaded code, and JAX is multithreaded, so this will likely lead to a deadlock.\n",
      "  self.pid = os.fork()\n",
      "/usr/lib/python3.10/multiprocessing/popen_fork.py:66: RuntimeWarning: os.fork() was called. os.fork() is incompatible with multithreaded code, and JAX is multithreaded, so this will likely lead to a deadlock.\n",
      "  self.pid = os.fork()\n"
     ]
    },
    {
     "name": "stdout",
     "output_type": "stream",
     "text": [
      "Epoch 215:\n",
      "\ttrain: loss 0.413 | loss id   0.39 | top_1_acc 0.6490 | top_5_acc 0.9269 | cos_auc: 0.9633 | cos_acc: 0.8967 | eu_auc: 0.9427 | eu_acc: 0.8970\n",
      "\ttest: cos_auc: 0.8081 | cos_acc: 0.7516 | eu_auc: 0.7788 | eu_acc: 0.8411\n",
      "\tSaving model and optimizer state to /kaggle/working/checkpoint/magface/normalmap/models/checkpoint.pth\n",
      "\tEpoch 215: EarlyStopping counter for 'test_cosine_auc': 30/50\n",
      "\tEpoch 215: EarlyStopping counter for 'test_cosine_accuracy': 24/50\n",
      "\tEpoch 215: EarlyStopping counter for 'test_euclidean_auc': 36/50\n",
      "\tEpoch 215: EarlyStopping counter for 'test_euclidean_accuracy': 88/50\n"
     ]
    },
    {
     "name": "stderr",
     "output_type": "stream",
     "text": [
      "/usr/lib/python3.10/multiprocessing/popen_fork.py:66: RuntimeWarning: os.fork() was called. os.fork() is incompatible with multithreaded code, and JAX is multithreaded, so this will likely lead to a deadlock.\n",
      "  self.pid = os.fork()\n",
      "/usr/lib/python3.10/multiprocessing/popen_fork.py:66: RuntimeWarning: os.fork() was called. os.fork() is incompatible with multithreaded code, and JAX is multithreaded, so this will likely lead to a deadlock.\n",
      "  self.pid = os.fork()\n"
     ]
    },
    {
     "name": "stdout",
     "output_type": "stream",
     "text": [
      "Epoch 216:\n",
      "\ttrain: loss 0.395 | loss id   0.37 | top_1_acc 0.6479 | top_5_acc 0.9291 | cos_auc: 0.9597 | cos_acc: 0.8944 | eu_auc: 0.9055 | eu_acc: 0.8400\n",
      "\ttest: cos_auc: 0.8155 | cos_acc: 0.7745 | eu_auc: 0.7576 | eu_acc: 0.9103\n",
      "\tSaving model and optimizer state to /kaggle/working/checkpoint/magface/normalmap/models/checkpoint.pth\n",
      "\tEpoch 216: EarlyStopping counter for 'test_cosine_auc': 31/50\n",
      "\tEpoch 216: EarlyStopping counter for 'test_cosine_accuracy': 25/50\n",
      "\tEpoch 216: EarlyStopping counter for 'test_euclidean_auc': 37/50\n",
      "\tEpoch 216: EarlyStopping counter for 'test_euclidean_accuracy': 89/50\n"
     ]
    },
    {
     "name": "stderr",
     "output_type": "stream",
     "text": [
      "/usr/lib/python3.10/multiprocessing/popen_fork.py:66: RuntimeWarning: os.fork() was called. os.fork() is incompatible with multithreaded code, and JAX is multithreaded, so this will likely lead to a deadlock.\n",
      "  self.pid = os.fork()\n",
      "/usr/lib/python3.10/multiprocessing/popen_fork.py:66: RuntimeWarning: os.fork() was called. os.fork() is incompatible with multithreaded code, and JAX is multithreaded, so this will likely lead to a deadlock.\n",
      "  self.pid = os.fork()\n"
     ]
    },
    {
     "name": "stdout",
     "output_type": "stream",
     "text": [
      "Epoch 217:\n",
      "\ttrain: loss 0.379 | loss id   0.36 | top_1_acc 0.6310 | top_5_acc 0.9156 | cos_auc: 0.9720 | cos_acc: 0.9256 | eu_auc: 0.9486 | eu_acc: 0.8905\n",
      "\ttest: cos_auc: 0.8340 | cos_acc: 0.9082 | eu_auc: 0.7775 | eu_acc: 0.7853\n",
      "\tSaving model and optimizer state to /kaggle/working/checkpoint/magface/normalmap/models/checkpoint.pth\n",
      "\tEpoch 217: EarlyStopping counter for 'test_cosine_auc': 32/50\n",
      "\tSaved best model weights for 'test_cosine_accuracy' at epoch 217 to '/kaggle/working/checkpoint/magface/normalmap/models/best_test_cosine_accuracy_217.pth'\n",
      "\tEpoch 217: EarlyStopping counter for 'test_euclidean_auc': 38/50\n",
      "\tEpoch 217: EarlyStopping counter for 'test_euclidean_accuracy': 90/50\n"
     ]
    },
    {
     "name": "stderr",
     "output_type": "stream",
     "text": [
      "/usr/lib/python3.10/multiprocessing/popen_fork.py:66: RuntimeWarning: os.fork() was called. os.fork() is incompatible with multithreaded code, and JAX is multithreaded, so this will likely lead to a deadlock.\n",
      "  self.pid = os.fork()\n",
      "/usr/lib/python3.10/multiprocessing/popen_fork.py:66: RuntimeWarning: os.fork() was called. os.fork() is incompatible with multithreaded code, and JAX is multithreaded, so this will likely lead to a deadlock.\n",
      "  self.pid = os.fork()\n"
     ]
    },
    {
     "name": "stdout",
     "output_type": "stream",
     "text": [
      "Epoch 218:\n",
      "\ttrain: loss 0.447 | loss id   0.42 | top_1_acc 0.6434 | top_5_acc 0.9269 | cos_auc: 0.9631 | cos_acc: 0.8931 | eu_auc: 0.9490 | eu_acc: 0.8818\n",
      "\ttest: cos_auc: 0.8099 | cos_acc: 0.8899 | eu_auc: 0.7745 | eu_acc: 0.8577\n",
      "\tSaving model and optimizer state to /kaggle/working/checkpoint/magface/normalmap/models/checkpoint.pth\n",
      "\tEpoch 218: EarlyStopping counter for 'test_cosine_auc': 33/50\n",
      "\tEpoch 218: EarlyStopping counter for 'test_cosine_accuracy': 1/50\n",
      "\tEpoch 218: EarlyStopping counter for 'test_euclidean_auc': 39/50\n",
      "\tEpoch 218: EarlyStopping counter for 'test_euclidean_accuracy': 91/50\n"
     ]
    },
    {
     "name": "stderr",
     "output_type": "stream",
     "text": [
      "/usr/lib/python3.10/multiprocessing/popen_fork.py:66: RuntimeWarning: os.fork() was called. os.fork() is incompatible with multithreaded code, and JAX is multithreaded, so this will likely lead to a deadlock.\n",
      "  self.pid = os.fork()\n",
      "/usr/lib/python3.10/multiprocessing/popen_fork.py:66: RuntimeWarning: os.fork() was called. os.fork() is incompatible with multithreaded code, and JAX is multithreaded, so this will likely lead to a deadlock.\n",
      "  self.pid = os.fork()\n"
     ]
    },
    {
     "name": "stdout",
     "output_type": "stream",
     "text": [
      "Epoch 219:\n",
      "\ttrain: loss 0.436 | loss id   0.41 | top_1_acc 0.6648 | top_5_acc 0.9494 | cos_auc: 0.9718 | cos_acc: 0.9132 | eu_auc: 0.9402 | eu_acc: 0.8688\n",
      "\ttest: cos_auc: 0.8321 | cos_acc: 0.8273 | eu_auc: 0.7918 | eu_acc: 0.8027\n",
      "\tSaving model and optimizer state to /kaggle/working/checkpoint/magface/normalmap/models/checkpoint.pth\n",
      "\tEpoch 219: EarlyStopping counter for 'test_cosine_auc': 34/50\n",
      "\tEpoch 219: EarlyStopping counter for 'test_cosine_accuracy': 2/50\n",
      "\tEpoch 219: EarlyStopping counter for 'test_euclidean_auc': 40/50\n",
      "\tEpoch 219: EarlyStopping counter for 'test_euclidean_accuracy': 92/50\n"
     ]
    },
    {
     "name": "stderr",
     "output_type": "stream",
     "text": [
      "/usr/lib/python3.10/multiprocessing/popen_fork.py:66: RuntimeWarning: os.fork() was called. os.fork() is incompatible with multithreaded code, and JAX is multithreaded, so this will likely lead to a deadlock.\n",
      "  self.pid = os.fork()\n",
      "/usr/lib/python3.10/multiprocessing/popen_fork.py:66: RuntimeWarning: os.fork() was called. os.fork() is incompatible with multithreaded code, and JAX is multithreaded, so this will likely lead to a deadlock.\n",
      "  self.pid = os.fork()\n"
     ]
    },
    {
     "name": "stdout",
     "output_type": "stream",
     "text": [
      "Epoch 220:\n",
      "\ttrain: loss 0.475 | loss id   0.45 | top_1_acc 0.6997 | top_5_acc 0.9573 | cos_auc: 0.9570 | cos_acc: 0.9054 | eu_auc: 0.9404 | eu_acc: 0.8922\n",
      "\ttest: cos_auc: 0.8222 | cos_acc: 0.7328 | eu_auc: 0.7834 | eu_acc: 0.8438\n",
      "\tSaving model and optimizer state to /kaggle/working/checkpoint/magface/normalmap/models/checkpoint.pth\n",
      "\tEpoch 220: EarlyStopping counter for 'test_cosine_auc': 35/50\n",
      "\tEpoch 220: EarlyStopping counter for 'test_cosine_accuracy': 3/50\n",
      "\tEpoch 220: EarlyStopping counter for 'test_euclidean_auc': 41/50\n",
      "\tEpoch 220: EarlyStopping counter for 'test_euclidean_accuracy': 93/50\n"
     ]
    },
    {
     "name": "stderr",
     "output_type": "stream",
     "text": [
      "/usr/lib/python3.10/multiprocessing/popen_fork.py:66: RuntimeWarning: os.fork() was called. os.fork() is incompatible with multithreaded code, and JAX is multithreaded, so this will likely lead to a deadlock.\n",
      "  self.pid = os.fork()\n",
      "/usr/lib/python3.10/multiprocessing/popen_fork.py:66: RuntimeWarning: os.fork() was called. os.fork() is incompatible with multithreaded code, and JAX is multithreaded, so this will likely lead to a deadlock.\n",
      "  self.pid = os.fork()\n"
     ]
    },
    {
     "name": "stdout",
     "output_type": "stream",
     "text": [
      "Epoch 221:\n",
      "\ttrain: loss 0.471 | loss id   0.45 | top_1_acc 0.7424 | top_5_acc 0.9584 | cos_auc: 0.9744 | cos_acc: 0.9369 | eu_auc: 0.9567 | eu_acc: 0.9000\n",
      "\ttest: cos_auc: 0.8400 | cos_acc: 0.7562 | eu_auc: 0.7989 | eu_acc: 0.9224\n",
      "\tSaving model and optimizer state to /kaggle/working/checkpoint/magface/normalmap/models/checkpoint.pth\n",
      "\tEpoch 221: EarlyStopping counter for 'test_cosine_auc': 36/50\n",
      "\tEpoch 221: EarlyStopping counter for 'test_cosine_accuracy': 4/50\n",
      "\tSaved best model weights for 'test_euclidean_auc' at epoch 221 to '/kaggle/working/checkpoint/magface/normalmap/models/best_test_euclidean_auc_221.pth'\n",
      "\tSaved best model weights for 'test_euclidean_accuracy' at epoch 221 to '/kaggle/working/checkpoint/magface/normalmap/models/best_test_euclidean_accuracy_221.pth'\n"
     ]
    },
    {
     "name": "stderr",
     "output_type": "stream",
     "text": [
      "/usr/lib/python3.10/multiprocessing/popen_fork.py:66: RuntimeWarning: os.fork() was called. os.fork() is incompatible with multithreaded code, and JAX is multithreaded, so this will likely lead to a deadlock.\n",
      "  self.pid = os.fork()\n",
      "/usr/lib/python3.10/multiprocessing/popen_fork.py:66: RuntimeWarning: os.fork() was called. os.fork() is incompatible with multithreaded code, and JAX is multithreaded, so this will likely lead to a deadlock.\n",
      "  self.pid = os.fork()\n"
     ]
    },
    {
     "name": "stdout",
     "output_type": "stream",
     "text": [
      "Epoch 222:\n",
      "\ttrain: loss 0.431 | loss id   0.41 | top_1_acc 0.7537 | top_5_acc 0.9674 | cos_auc: 0.9745 | cos_acc: 0.9133 | eu_auc: 0.9382 | eu_acc: 0.8965\n",
      "\ttest: cos_auc: 0.8433 | cos_acc: 0.8734 | eu_auc: 0.8036 | eu_acc: 0.8194\n",
      "\tSaving model and optimizer state to /kaggle/working/checkpoint/magface/normalmap/models/checkpoint.pth\n",
      "\tEpoch 222: EarlyStopping counter for 'test_cosine_auc': 37/50\n",
      "\tEpoch 222: EarlyStopping counter for 'test_cosine_accuracy': 5/50\n",
      "\tSaved best model weights for 'test_euclidean_auc' at epoch 222 to '/kaggle/working/checkpoint/magface/normalmap/models/best_test_euclidean_auc_222.pth'\n",
      "\tEpoch 222: EarlyStopping counter for 'test_euclidean_accuracy': 1/50\n"
     ]
    },
    {
     "name": "stderr",
     "output_type": "stream",
     "text": [
      "/usr/lib/python3.10/multiprocessing/popen_fork.py:66: RuntimeWarning: os.fork() was called. os.fork() is incompatible with multithreaded code, and JAX is multithreaded, so this will likely lead to a deadlock.\n",
      "  self.pid = os.fork()\n",
      "/usr/lib/python3.10/multiprocessing/popen_fork.py:66: RuntimeWarning: os.fork() was called. os.fork() is incompatible with multithreaded code, and JAX is multithreaded, so this will likely lead to a deadlock.\n",
      "  self.pid = os.fork()\n"
     ]
    },
    {
     "name": "stdout",
     "output_type": "stream",
     "text": [
      "Epoch 223:\n",
      "\ttrain: loss 0.496 | loss id   0.47 | top_1_acc 0.7312 | top_5_acc 0.9573 | cos_auc: 0.9668 | cos_acc: 0.9113 | eu_auc: 0.9284 | eu_acc: 0.8791\n",
      "\ttest: cos_auc: 0.8245 | cos_acc: 0.8057 | eu_auc: 0.7800 | eu_acc: 0.7001\n",
      "\tSaving model and optimizer state to /kaggle/working/checkpoint/magface/normalmap/models/checkpoint.pth\n",
      "\tEpoch 223: EarlyStopping counter for 'test_cosine_auc': 38/50\n",
      "\tEpoch 223: EarlyStopping counter for 'test_cosine_accuracy': 6/50\n",
      "\tEpoch 223: EarlyStopping counter for 'test_euclidean_auc': 1/50\n",
      "\tEpoch 223: EarlyStopping counter for 'test_euclidean_accuracy': 2/50\n"
     ]
    },
    {
     "name": "stderr",
     "output_type": "stream",
     "text": [
      "/usr/lib/python3.10/multiprocessing/popen_fork.py:66: RuntimeWarning: os.fork() was called. os.fork() is incompatible with multithreaded code, and JAX is multithreaded, so this will likely lead to a deadlock.\n",
      "  self.pid = os.fork()\n",
      "/usr/lib/python3.10/multiprocessing/popen_fork.py:66: RuntimeWarning: os.fork() was called. os.fork() is incompatible with multithreaded code, and JAX is multithreaded, so this will likely lead to a deadlock.\n",
      "  self.pid = os.fork()\n"
     ]
    },
    {
     "name": "stdout",
     "output_type": "stream",
     "text": [
      "Epoch 224:\n",
      "\ttrain: loss 0.547 | loss id   0.52 | top_1_acc 0.7604 | top_5_acc 0.9741 | cos_auc: 0.9700 | cos_acc: 0.9188 | eu_auc: 0.9324 | eu_acc: 0.8910\n",
      "\ttest: cos_auc: 0.8192 | cos_acc: 0.7077 | eu_auc: 0.7762 | eu_acc: 0.8518\n",
      "\tSaving model and optimizer state to /kaggle/working/checkpoint/magface/normalmap/models/checkpoint.pth\n",
      "\tEpoch 224: EarlyStopping counter for 'test_cosine_auc': 39/50\n",
      "\tEpoch 224: EarlyStopping counter for 'test_cosine_accuracy': 7/50\n",
      "\tEpoch 224: EarlyStopping counter for 'test_euclidean_auc': 2/50\n",
      "\tEpoch 224: EarlyStopping counter for 'test_euclidean_accuracy': 3/50\n"
     ]
    },
    {
     "name": "stderr",
     "output_type": "stream",
     "text": [
      "/usr/lib/python3.10/multiprocessing/popen_fork.py:66: RuntimeWarning: os.fork() was called. os.fork() is incompatible with multithreaded code, and JAX is multithreaded, so this will likely lead to a deadlock.\n",
      "  self.pid = os.fork()\n",
      "/usr/lib/python3.10/multiprocessing/popen_fork.py:66: RuntimeWarning: os.fork() was called. os.fork() is incompatible with multithreaded code, and JAX is multithreaded, so this will likely lead to a deadlock.\n",
      "  self.pid = os.fork()\n"
     ]
    },
    {
     "name": "stdout",
     "output_type": "stream",
     "text": [
      "Epoch 225:\n",
      "\ttrain: loss 0.462 | loss id   0.44 | top_1_acc 0.7840 | top_5_acc 0.9696 | cos_auc: 0.9721 | cos_acc: 0.9170 | eu_auc: 0.9510 | eu_acc: 0.8799\n",
      "\ttest: cos_auc: 0.8244 | cos_acc: 0.8763 | eu_auc: 0.7959 | eu_acc: 0.8982\n",
      "\tSaving model and optimizer state to /kaggle/working/checkpoint/magface/normalmap/models/checkpoint.pth\n",
      "\tEpoch 225: EarlyStopping counter for 'test_cosine_auc': 40/50\n",
      "\tEpoch 225: EarlyStopping counter for 'test_cosine_accuracy': 8/50\n",
      "\tEpoch 225: EarlyStopping counter for 'test_euclidean_auc': 3/50\n",
      "\tEpoch 225: EarlyStopping counter for 'test_euclidean_accuracy': 4/50\n"
     ]
    },
    {
     "name": "stderr",
     "output_type": "stream",
     "text": [
      "/usr/lib/python3.10/multiprocessing/popen_fork.py:66: RuntimeWarning: os.fork() was called. os.fork() is incompatible with multithreaded code, and JAX is multithreaded, so this will likely lead to a deadlock.\n",
      "  self.pid = os.fork()\n",
      "/usr/lib/python3.10/multiprocessing/popen_fork.py:66: RuntimeWarning: os.fork() was called. os.fork() is incompatible with multithreaded code, and JAX is multithreaded, so this will likely lead to a deadlock.\n",
      "  self.pid = os.fork()\n"
     ]
    },
    {
     "name": "stdout",
     "output_type": "stream",
     "text": [
      "Epoch 226:\n",
      "\ttrain: loss 0.448 | loss id   0.42 | top_1_acc 0.8009 | top_5_acc 0.9696 | cos_auc: 0.9786 | cos_acc: 0.9295 | eu_auc: 0.9504 | eu_acc: 0.8890\n",
      "\ttest: cos_auc: 0.8145 | cos_acc: 0.7853 | eu_auc: 0.7762 | eu_acc: 0.8255\n",
      "\tSaving model and optimizer state to /kaggle/working/checkpoint/magface/normalmap/models/checkpoint.pth\n",
      "\tEpoch 226: EarlyStopping counter for 'test_cosine_auc': 41/50\n",
      "\tEpoch 226: EarlyStopping counter for 'test_cosine_accuracy': 9/50\n",
      "\tEpoch 226: EarlyStopping counter for 'test_euclidean_auc': 4/50\n",
      "\tEpoch 226: EarlyStopping counter for 'test_euclidean_accuracy': 5/50\n"
     ]
    },
    {
     "name": "stderr",
     "output_type": "stream",
     "text": [
      "/usr/lib/python3.10/multiprocessing/popen_fork.py:66: RuntimeWarning: os.fork() was called. os.fork() is incompatible with multithreaded code, and JAX is multithreaded, so this will likely lead to a deadlock.\n",
      "  self.pid = os.fork()\n",
      "/usr/lib/python3.10/multiprocessing/popen_fork.py:66: RuntimeWarning: os.fork() was called. os.fork() is incompatible with multithreaded code, and JAX is multithreaded, so this will likely lead to a deadlock.\n",
      "  self.pid = os.fork()\n"
     ]
    },
    {
     "name": "stdout",
     "output_type": "stream",
     "text": [
      "Epoch 227:\n",
      "\ttrain: loss 0.538 | loss id   0.51 | top_1_acc 0.7998 | top_5_acc 0.9753 | cos_auc: 0.9761 | cos_acc: 0.9351 | eu_auc: 0.9556 | eu_acc: 0.8917\n",
      "\ttest: cos_auc: 0.8242 | cos_acc: 0.7966 | eu_auc: 0.8019 | eu_acc: 0.8185\n",
      "\tSaving model and optimizer state to /kaggle/working/checkpoint/magface/normalmap/models/checkpoint.pth\n",
      "\tEpoch 227: EarlyStopping counter for 'test_cosine_auc': 42/50\n",
      "\tEpoch 227: EarlyStopping counter for 'test_cosine_accuracy': 10/50\n",
      "\tEpoch 227: EarlyStopping counter for 'test_euclidean_auc': 5/50\n",
      "\tEpoch 227: EarlyStopping counter for 'test_euclidean_accuracy': 6/50\n"
     ]
    },
    {
     "name": "stderr",
     "output_type": "stream",
     "text": [
      "/usr/lib/python3.10/multiprocessing/popen_fork.py:66: RuntimeWarning: os.fork() was called. os.fork() is incompatible with multithreaded code, and JAX is multithreaded, so this will likely lead to a deadlock.\n",
      "  self.pid = os.fork()\n",
      "/usr/lib/python3.10/multiprocessing/popen_fork.py:66: RuntimeWarning: os.fork() was called. os.fork() is incompatible with multithreaded code, and JAX is multithreaded, so this will likely lead to a deadlock.\n",
      "  self.pid = os.fork()\n"
     ]
    },
    {
     "name": "stdout",
     "output_type": "stream",
     "text": [
      "Epoch 228:\n",
      "\ttrain: loss 0.545 | loss id   0.52 | top_1_acc 0.8133 | top_5_acc 0.9753 | cos_auc: 0.9765 | cos_acc: 0.9258 | eu_auc: 0.9575 | eu_acc: 0.9193\n",
      "\ttest: cos_auc: 0.8161 | cos_acc: 0.6336 | eu_auc: 0.8062 | eu_acc: 0.8255\n",
      "\tSaving model and optimizer state to /kaggle/working/checkpoint/magface/normalmap/models/checkpoint.pth\n",
      "\tEpoch 228: EarlyStopping counter for 'test_cosine_auc': 43/50\n",
      "\tEpoch 228: EarlyStopping counter for 'test_cosine_accuracy': 11/50\n",
      "\tSaved best model weights for 'test_euclidean_auc' at epoch 228 to '/kaggle/working/checkpoint/magface/normalmap/models/best_test_euclidean_auc_228.pth'\n",
      "\tEpoch 228: EarlyStopping counter for 'test_euclidean_accuracy': 7/50\n"
     ]
    },
    {
     "name": "stderr",
     "output_type": "stream",
     "text": [
      "/usr/lib/python3.10/multiprocessing/popen_fork.py:66: RuntimeWarning: os.fork() was called. os.fork() is incompatible with multithreaded code, and JAX is multithreaded, so this will likely lead to a deadlock.\n",
      "  self.pid = os.fork()\n",
      "/usr/lib/python3.10/multiprocessing/popen_fork.py:66: RuntimeWarning: os.fork() was called. os.fork() is incompatible with multithreaded code, and JAX is multithreaded, so this will likely lead to a deadlock.\n",
      "  self.pid = os.fork()\n"
     ]
    },
    {
     "name": "stdout",
     "output_type": "stream",
     "text": [
      "Epoch 229:\n",
      "\ttrain: loss 0.548 | loss id   0.53 | top_1_acc 0.8268 | top_5_acc 0.9775 | cos_auc: 0.9727 | cos_acc: 0.9394 | eu_auc: 0.9576 | eu_acc: 0.9022\n",
      "\ttest: cos_auc: 0.7970 | cos_acc: 0.7672 | eu_auc: 0.7996 | eu_acc: 0.8338\n",
      "\tSaving model and optimizer state to /kaggle/working/checkpoint/magface/normalmap/models/checkpoint.pth\n",
      "\tEpoch 229: EarlyStopping counter for 'test_cosine_auc': 44/50\n",
      "\tEpoch 229: EarlyStopping counter for 'test_cosine_accuracy': 12/50\n",
      "\tEpoch 229: EarlyStopping counter for 'test_euclidean_auc': 1/50\n",
      "\tEpoch 229: EarlyStopping counter for 'test_euclidean_accuracy': 8/50\n"
     ]
    },
    {
     "name": "stderr",
     "output_type": "stream",
     "text": [
      "/usr/lib/python3.10/multiprocessing/popen_fork.py:66: RuntimeWarning: os.fork() was called. os.fork() is incompatible with multithreaded code, and JAX is multithreaded, so this will likely lead to a deadlock.\n",
      "  self.pid = os.fork()\n",
      "/usr/lib/python3.10/multiprocessing/popen_fork.py:66: RuntimeWarning: os.fork() was called. os.fork() is incompatible with multithreaded code, and JAX is multithreaded, so this will likely lead to a deadlock.\n",
      "  self.pid = os.fork()\n"
     ]
    },
    {
     "name": "stdout",
     "output_type": "stream",
     "text": [
      "Epoch 230:\n",
      "\ttrain: loss 0.575 | loss id   0.55 | top_1_acc 0.8324 | top_5_acc 0.9809 | cos_auc: 0.9759 | cos_acc: 0.9438 | eu_auc: 0.9659 | eu_acc: 0.9390\n",
      "\ttest: cos_auc: 0.8064 | cos_acc: 0.7718 | eu_auc: 0.8112 | eu_acc: 0.7440\n",
      "\tSaving model and optimizer state to /kaggle/working/checkpoint/magface/normalmap/models/checkpoint.pth\n",
      "\tEpoch 230: EarlyStopping counter for 'test_cosine_auc': 45/50\n",
      "\tEpoch 230: EarlyStopping counter for 'test_cosine_accuracy': 13/50\n",
      "\tSaved best model weights for 'test_euclidean_auc' at epoch 230 to '/kaggle/working/checkpoint/magface/normalmap/models/best_test_euclidean_auc_230.pth'\n",
      "\tEpoch 230: EarlyStopping counter for 'test_euclidean_accuracy': 9/50\n"
     ]
    },
    {
     "name": "stderr",
     "output_type": "stream",
     "text": [
      "/usr/lib/python3.10/multiprocessing/popen_fork.py:66: RuntimeWarning: os.fork() was called. os.fork() is incompatible with multithreaded code, and JAX is multithreaded, so this will likely lead to a deadlock.\n",
      "  self.pid = os.fork()\n",
      "/usr/lib/python3.10/multiprocessing/popen_fork.py:66: RuntimeWarning: os.fork() was called. os.fork() is incompatible with multithreaded code, and JAX is multithreaded, so this will likely lead to a deadlock.\n",
      "  self.pid = os.fork()\n"
     ]
    },
    {
     "name": "stdout",
     "output_type": "stream",
     "text": [
      "Epoch 231:\n",
      "\ttrain: loss 0.586 | loss id   0.56 | top_1_acc 0.8515 | top_5_acc 0.9876 | cos_auc: 0.9763 | cos_acc: 0.9324 | eu_auc: 0.9572 | eu_acc: 0.9086\n",
      "\ttest: cos_auc: 0.8202 | cos_acc: 0.7276 | eu_auc: 0.8149 | eu_acc: 0.8641\n",
      "\tSaving model and optimizer state to /kaggle/working/checkpoint/magface/normalmap/models/checkpoint.pth\n",
      "\tEpoch 231: EarlyStopping counter for 'test_cosine_auc': 46/50\n",
      "\tEpoch 231: EarlyStopping counter for 'test_cosine_accuracy': 14/50\n",
      "\tSaved best model weights for 'test_euclidean_auc' at epoch 231 to '/kaggle/working/checkpoint/magface/normalmap/models/best_test_euclidean_auc_231.pth'\n",
      "\tEpoch 231: EarlyStopping counter for 'test_euclidean_accuracy': 10/50\n"
     ]
    },
    {
     "name": "stderr",
     "output_type": "stream",
     "text": [
      "/usr/lib/python3.10/multiprocessing/popen_fork.py:66: RuntimeWarning: os.fork() was called. os.fork() is incompatible with multithreaded code, and JAX is multithreaded, so this will likely lead to a deadlock.\n",
      "  self.pid = os.fork()\n",
      "/usr/lib/python3.10/multiprocessing/popen_fork.py:66: RuntimeWarning: os.fork() was called. os.fork() is incompatible with multithreaded code, and JAX is multithreaded, so this will likely lead to a deadlock.\n",
      "  self.pid = os.fork()\n"
     ]
    },
    {
     "name": "stdout",
     "output_type": "stream",
     "text": [
      "Epoch 232:\n",
      "\ttrain: loss 0.634 | loss id   0.61 | top_1_acc 0.8493 | top_5_acc 0.9865 | cos_auc: 0.9754 | cos_acc: 0.9493 | eu_auc: 0.9578 | eu_acc: 0.9069\n",
      "\ttest: cos_auc: 0.8063 | cos_acc: 0.7354 | eu_auc: 0.8083 | eu_acc: 0.8241\n",
      "\tSaving model and optimizer state to /kaggle/working/checkpoint/magface/normalmap/models/checkpoint.pth\n",
      "\tEpoch 232: EarlyStopping counter for 'test_cosine_auc': 47/50\n",
      "\tEpoch 232: EarlyStopping counter for 'test_cosine_accuracy': 15/50\n",
      "\tEpoch 232: EarlyStopping counter for 'test_euclidean_auc': 1/50\n",
      "\tEpoch 232: EarlyStopping counter for 'test_euclidean_accuracy': 11/50\n"
     ]
    },
    {
     "name": "stderr",
     "output_type": "stream",
     "text": [
      "/usr/lib/python3.10/multiprocessing/popen_fork.py:66: RuntimeWarning: os.fork() was called. os.fork() is incompatible with multithreaded code, and JAX is multithreaded, so this will likely lead to a deadlock.\n",
      "  self.pid = os.fork()\n",
      "/usr/lib/python3.10/multiprocessing/popen_fork.py:66: RuntimeWarning: os.fork() was called. os.fork() is incompatible with multithreaded code, and JAX is multithreaded, so this will likely lead to a deadlock.\n",
      "  self.pid = os.fork()\n"
     ]
    },
    {
     "name": "stdout",
     "output_type": "stream",
     "text": [
      "Epoch 233:\n",
      "\ttrain: loss 0.529 | loss id   0.51 | top_1_acc 0.8661 | top_5_acc 0.9865 | cos_auc: 0.9746 | cos_acc: 0.9382 | eu_auc: 0.9620 | eu_acc: 0.9246\n",
      "\ttest: cos_auc: 0.8005 | cos_acc: 0.7304 | eu_auc: 0.8147 | eu_acc: 0.9124\n",
      "\tSaving model and optimizer state to /kaggle/working/checkpoint/magface/normalmap/models/checkpoint.pth\n",
      "\tEpoch 233: EarlyStopping counter for 'test_cosine_auc': 48/50\n",
      "\tEpoch 233: EarlyStopping counter for 'test_cosine_accuracy': 16/50\n",
      "\tEpoch 233: EarlyStopping counter for 'test_euclidean_auc': 2/50\n",
      "\tEpoch 233: EarlyStopping counter for 'test_euclidean_accuracy': 12/50\n"
     ]
    },
    {
     "name": "stderr",
     "output_type": "stream",
     "text": [
      "/usr/lib/python3.10/multiprocessing/popen_fork.py:66: RuntimeWarning: os.fork() was called. os.fork() is incompatible with multithreaded code, and JAX is multithreaded, so this will likely lead to a deadlock.\n",
      "  self.pid = os.fork()\n",
      "/usr/lib/python3.10/multiprocessing/popen_fork.py:66: RuntimeWarning: os.fork() was called. os.fork() is incompatible with multithreaded code, and JAX is multithreaded, so this will likely lead to a deadlock.\n",
      "  self.pid = os.fork()\n"
     ]
    },
    {
     "name": "stdout",
     "output_type": "stream",
     "text": [
      "Epoch 234:\n",
      "\ttrain: loss 0.579 | loss id   0.56 | top_1_acc 0.8661 | top_5_acc 0.9910 | cos_auc: 0.9759 | cos_acc: 0.9304 | eu_auc: 0.9639 | eu_acc: 0.9154\n",
      "\ttest: cos_auc: 0.7988 | cos_acc: 0.6967 | eu_auc: 0.8140 | eu_acc: 0.6629\n",
      "\tSaving model and optimizer state to /kaggle/working/checkpoint/magface/normalmap/models/checkpoint.pth\n",
      "\tEpoch 234: EarlyStopping counter for 'test_cosine_auc': 49/50\n",
      "\tEpoch 234: EarlyStopping counter for 'test_cosine_accuracy': 17/50\n",
      "\tEpoch 234: EarlyStopping counter for 'test_euclidean_auc': 3/50\n",
      "\tEpoch 234: EarlyStopping counter for 'test_euclidean_accuracy': 13/50\n"
     ]
    },
    {
     "name": "stderr",
     "output_type": "stream",
     "text": [
      "/usr/lib/python3.10/multiprocessing/popen_fork.py:66: RuntimeWarning: os.fork() was called. os.fork() is incompatible with multithreaded code, and JAX is multithreaded, so this will likely lead to a deadlock.\n",
      "  self.pid = os.fork()\n",
      "/usr/lib/python3.10/multiprocessing/popen_fork.py:66: RuntimeWarning: os.fork() was called. os.fork() is incompatible with multithreaded code, and JAX is multithreaded, so this will likely lead to a deadlock.\n",
      "  self.pid = os.fork()\n"
     ]
    },
    {
     "name": "stdout",
     "output_type": "stream",
     "text": [
      "Epoch 235:\n",
      "\ttrain: loss 0.587 | loss id   0.56 | top_1_acc 0.8819 | top_5_acc 0.9888 | cos_auc: 0.9774 | cos_acc: 0.9335 | eu_auc: 0.9680 | eu_acc: 0.9281\n",
      "\ttest: cos_auc: 0.8057 | cos_acc: 0.7634 | eu_auc: 0.8147 | eu_acc: 0.8458\n",
      "\tSaving model and optimizer state to /kaggle/working/checkpoint/magface/normalmap/models/checkpoint.pth\n",
      "\tEpoch 235: EarlyStopping counter for 'test_cosine_auc': 50/50\n",
      "\tEpoch 235: EarlyStopping counter for 'test_cosine_accuracy': 18/50\n",
      "\tEpoch 235: EarlyStopping counter for 'test_euclidean_auc': 4/50\n",
      "\tEpoch 235: EarlyStopping counter for 'test_euclidean_accuracy': 14/50\n"
     ]
    },
    {
     "name": "stderr",
     "output_type": "stream",
     "text": [
      "/usr/lib/python3.10/multiprocessing/popen_fork.py:66: RuntimeWarning: os.fork() was called. os.fork() is incompatible with multithreaded code, and JAX is multithreaded, so this will likely lead to a deadlock.\n",
      "  self.pid = os.fork()\n",
      "/usr/lib/python3.10/multiprocessing/popen_fork.py:66: RuntimeWarning: os.fork() was called. os.fork() is incompatible with multithreaded code, and JAX is multithreaded, so this will likely lead to a deadlock.\n",
      "  self.pid = os.fork()\n"
     ]
    },
    {
     "name": "stdout",
     "output_type": "stream",
     "text": [
      "Epoch 236:\n",
      "\ttrain: loss 0.559 | loss id   0.54 | top_1_acc 0.8774 | top_5_acc 0.9843 | cos_auc: 0.9772 | cos_acc: 0.9368 | eu_auc: 0.9650 | eu_acc: 0.9162\n",
      "\ttest: cos_auc: 0.8014 | cos_acc: 0.8109 | eu_auc: 0.8088 | eu_acc: 0.6891\n",
      "\tSaving model and optimizer state to /kaggle/working/checkpoint/magface/normalmap/models/checkpoint.pth\n",
      "\tEpoch 236: EarlyStopping counter for 'test_cosine_auc': 51/50\n",
      "\tEpoch 236: EarlyStopping counter for 'test_cosine_accuracy': 19/50\n",
      "\tEpoch 236: EarlyStopping counter for 'test_euclidean_auc': 5/50\n",
      "\tEpoch 236: EarlyStopping counter for 'test_euclidean_accuracy': 15/50\n"
     ]
    },
    {
     "name": "stderr",
     "output_type": "stream",
     "text": [
      "/usr/lib/python3.10/multiprocessing/popen_fork.py:66: RuntimeWarning: os.fork() was called. os.fork() is incompatible with multithreaded code, and JAX is multithreaded, so this will likely lead to a deadlock.\n",
      "  self.pid = os.fork()\n",
      "/usr/lib/python3.10/multiprocessing/popen_fork.py:66: RuntimeWarning: os.fork() was called. os.fork() is incompatible with multithreaded code, and JAX is multithreaded, so this will likely lead to a deadlock.\n",
      "  self.pid = os.fork()\n"
     ]
    },
    {
     "name": "stdout",
     "output_type": "stream",
     "text": [
      "Epoch 237:\n",
      "\ttrain: loss 0.599 | loss id   0.58 | top_1_acc 0.8920 | top_5_acc 0.9955 | cos_auc: 0.9775 | cos_acc: 0.9424 | eu_auc: 0.9672 | eu_acc: 0.8923\n",
      "\ttest: cos_auc: 0.7986 | cos_acc: 0.8011 | eu_auc: 0.8083 | eu_acc: 0.6505\n",
      "\tSaving model and optimizer state to /kaggle/working/checkpoint/magface/normalmap/models/checkpoint.pth\n",
      "\tEpoch 237: EarlyStopping counter for 'test_cosine_auc': 52/50\n",
      "\tEpoch 237: EarlyStopping counter for 'test_cosine_accuracy': 20/50\n",
      "\tEpoch 237: EarlyStopping counter for 'test_euclidean_auc': 6/50\n",
      "\tEpoch 237: EarlyStopping counter for 'test_euclidean_accuracy': 16/50\n"
     ]
    },
    {
     "name": "stderr",
     "output_type": "stream",
     "text": [
      "/usr/lib/python3.10/multiprocessing/popen_fork.py:66: RuntimeWarning: os.fork() was called. os.fork() is incompatible with multithreaded code, and JAX is multithreaded, so this will likely lead to a deadlock.\n",
      "  self.pid = os.fork()\n",
      "/usr/lib/python3.10/multiprocessing/popen_fork.py:66: RuntimeWarning: os.fork() was called. os.fork() is incompatible with multithreaded code, and JAX is multithreaded, so this will likely lead to a deadlock.\n",
      "  self.pid = os.fork()\n"
     ]
    },
    {
     "name": "stdout",
     "output_type": "stream",
     "text": [
      "Epoch 238:\n",
      "\ttrain: loss 0.624 | loss id   0.60 | top_1_acc 0.9021 | top_5_acc 0.9955 | cos_auc: 0.9769 | cos_acc: 0.9357 | eu_auc: 0.9691 | eu_acc: 0.9137\n",
      "\ttest: cos_auc: 0.7998 | cos_acc: 0.7765 | eu_auc: 0.8123 | eu_acc: 0.7882\n",
      "\tSaving model and optimizer state to /kaggle/working/checkpoint/magface/normalmap/models/checkpoint.pth\n",
      "\tEpoch 238: EarlyStopping counter for 'test_cosine_auc': 53/50\n",
      "\tEpoch 238: EarlyStopping counter for 'test_cosine_accuracy': 21/50\n",
      "\tEpoch 238: EarlyStopping counter for 'test_euclidean_auc': 7/50\n",
      "\tEpoch 238: EarlyStopping counter for 'test_euclidean_accuracy': 17/50\n"
     ]
    },
    {
     "name": "stderr",
     "output_type": "stream",
     "text": [
      "/usr/lib/python3.10/multiprocessing/popen_fork.py:66: RuntimeWarning: os.fork() was called. os.fork() is incompatible with multithreaded code, and JAX is multithreaded, so this will likely lead to a deadlock.\n",
      "  self.pid = os.fork()\n",
      "/usr/lib/python3.10/multiprocessing/popen_fork.py:66: RuntimeWarning: os.fork() was called. os.fork() is incompatible with multithreaded code, and JAX is multithreaded, so this will likely lead to a deadlock.\n",
      "  self.pid = os.fork()\n"
     ]
    },
    {
     "name": "stdout",
     "output_type": "stream",
     "text": [
      "Epoch 239:\n",
      "\ttrain: loss 0.589 | loss id   0.57 | top_1_acc 0.8729 | top_5_acc 0.9910 | cos_auc: 0.9771 | cos_acc: 0.9318 | eu_auc: 0.9630 | eu_acc: 0.9243\n",
      "\ttest: cos_auc: 0.7980 | cos_acc: 0.7738 | eu_auc: 0.8086 | eu_acc: 0.8647\n",
      "\tSaving model and optimizer state to /kaggle/working/checkpoint/magface/normalmap/models/checkpoint.pth\n",
      "\tEpoch 239: EarlyStopping counter for 'test_cosine_auc': 54/50\n",
      "\tEpoch 239: EarlyStopping counter for 'test_cosine_accuracy': 22/50\n",
      "\tEpoch 239: EarlyStopping counter for 'test_euclidean_auc': 8/50\n",
      "\tEpoch 239: EarlyStopping counter for 'test_euclidean_accuracy': 18/50\n"
     ]
    },
    {
     "name": "stderr",
     "output_type": "stream",
     "text": [
      "/usr/lib/python3.10/multiprocessing/popen_fork.py:66: RuntimeWarning: os.fork() was called. os.fork() is incompatible with multithreaded code, and JAX is multithreaded, so this will likely lead to a deadlock.\n",
      "  self.pid = os.fork()\n",
      "/usr/lib/python3.10/multiprocessing/popen_fork.py:66: RuntimeWarning: os.fork() was called. os.fork() is incompatible with multithreaded code, and JAX is multithreaded, so this will likely lead to a deadlock.\n",
      "  self.pid = os.fork()\n"
     ]
    },
    {
     "name": "stdout",
     "output_type": "stream",
     "text": [
      "Epoch 240:\n",
      "\ttrain: loss 0.583 | loss id   0.56 | top_1_acc 0.9089 | top_5_acc 0.9933 | cos_auc: 0.9743 | cos_acc: 0.9341 | eu_auc: 0.9652 | eu_acc: 0.9106\n",
      "\ttest: cos_auc: 0.7968 | cos_acc: 0.7585 | eu_auc: 0.8113 | eu_acc: 0.8614\n",
      "\tSaving model and optimizer state to /kaggle/working/checkpoint/magface/normalmap/models/checkpoint.pth\n",
      "\tEpoch 240: EarlyStopping counter for 'test_cosine_auc': 55/50\n",
      "\tEpoch 240: EarlyStopping counter for 'test_cosine_accuracy': 23/50\n",
      "\tEpoch 240: EarlyStopping counter for 'test_euclidean_auc': 9/50\n",
      "\tEpoch 240: EarlyStopping counter for 'test_euclidean_accuracy': 19/50\n"
     ]
    },
    {
     "name": "stderr",
     "output_type": "stream",
     "text": [
      "/usr/lib/python3.10/multiprocessing/popen_fork.py:66: RuntimeWarning: os.fork() was called. os.fork() is incompatible with multithreaded code, and JAX is multithreaded, so this will likely lead to a deadlock.\n",
      "  self.pid = os.fork()\n",
      "/usr/lib/python3.10/multiprocessing/popen_fork.py:66: RuntimeWarning: os.fork() was called. os.fork() is incompatible with multithreaded code, and JAX is multithreaded, so this will likely lead to a deadlock.\n",
      "  self.pid = os.fork()\n"
     ]
    },
    {
     "name": "stdout",
     "output_type": "stream",
     "text": [
      "Epoch 241:\n",
      "\ttrain: loss 0.759 | loss id   0.74 | top_1_acc 0.5613 | top_5_acc 0.8718 | cos_auc: 0.8676 | cos_acc: 0.8209 | eu_auc: 0.8860 | eu_acc: 0.8543\n",
      "\ttest: cos_auc: 0.7624 | cos_acc: 0.7205 | eu_auc: 0.7857 | eu_acc: 0.8301\n",
      "\tSaving model and optimizer state to /kaggle/working/checkpoint/magface/normalmap/models/checkpoint.pth\n",
      "\tEpoch 241: EarlyStopping counter for 'test_cosine_auc': 56/50\n",
      "\tEpoch 241: EarlyStopping counter for 'test_cosine_accuracy': 24/50\n",
      "\tEpoch 241: EarlyStopping counter for 'test_euclidean_auc': 10/50\n",
      "\tEpoch 241: EarlyStopping counter for 'test_euclidean_accuracy': 20/50\n"
     ]
    },
    {
     "name": "stderr",
     "output_type": "stream",
     "text": [
      "/usr/lib/python3.10/multiprocessing/popen_fork.py:66: RuntimeWarning: os.fork() was called. os.fork() is incompatible with multithreaded code, and JAX is multithreaded, so this will likely lead to a deadlock.\n",
      "  self.pid = os.fork()\n",
      "/usr/lib/python3.10/multiprocessing/popen_fork.py:66: RuntimeWarning: os.fork() was called. os.fork() is incompatible with multithreaded code, and JAX is multithreaded, so this will likely lead to a deadlock.\n",
      "  self.pid = os.fork()\n"
     ]
    },
    {
     "name": "stdout",
     "output_type": "stream",
     "text": [
      "Epoch 242:\n",
      "\ttrain: loss 0.568 | loss id   0.55 | top_1_acc 0.4646 | top_5_acc 0.7987 | cos_auc: 0.8994 | cos_acc: 0.8226 | eu_auc: 0.9054 | eu_acc: 0.8289\n",
      "\ttest: cos_auc: 0.7924 | cos_acc: 0.6821 | eu_auc: 0.8030 | eu_acc: 0.8594\n",
      "\tSaving model and optimizer state to /kaggle/working/checkpoint/magface/normalmap/models/checkpoint.pth\n",
      "\tEpoch 242: EarlyStopping counter for 'test_cosine_auc': 57/50\n",
      "\tEpoch 242: EarlyStopping counter for 'test_cosine_accuracy': 25/50\n",
      "\tEpoch 242: EarlyStopping counter for 'test_euclidean_auc': 11/50\n",
      "\tEpoch 242: EarlyStopping counter for 'test_euclidean_accuracy': 21/50\n"
     ]
    },
    {
     "name": "stderr",
     "output_type": "stream",
     "text": [
      "/usr/lib/python3.10/multiprocessing/popen_fork.py:66: RuntimeWarning: os.fork() was called. os.fork() is incompatible with multithreaded code, and JAX is multithreaded, so this will likely lead to a deadlock.\n",
      "  self.pid = os.fork()\n",
      "/usr/lib/python3.10/multiprocessing/popen_fork.py:66: RuntimeWarning: os.fork() was called. os.fork() is incompatible with multithreaded code, and JAX is multithreaded, so this will likely lead to a deadlock.\n",
      "  self.pid = os.fork()\n"
     ]
    },
    {
     "name": "stdout",
     "output_type": "stream",
     "text": [
      "Epoch 243:\n",
      "\ttrain: loss 0.757 | loss id   0.73 | top_1_acc 0.4387 | top_5_acc 0.8099 | cos_auc: 0.8637 | cos_acc: 0.8477 | eu_auc: 0.8788 | eu_acc: 0.8385\n",
      "\ttest: cos_auc: 0.7726 | cos_acc: 0.8371 | eu_auc: 0.7921 | eu_acc: 0.7790\n",
      "\tSaving model and optimizer state to /kaggle/working/checkpoint/magface/normalmap/models/checkpoint.pth\n",
      "\tEpoch 243: EarlyStopping counter for 'test_cosine_auc': 58/50\n",
      "\tEpoch 243: EarlyStopping counter for 'test_cosine_accuracy': 26/50\n",
      "\tEpoch 243: EarlyStopping counter for 'test_euclidean_auc': 12/50\n",
      "\tEpoch 243: EarlyStopping counter for 'test_euclidean_accuracy': 22/50\n"
     ]
    },
    {
     "name": "stderr",
     "output_type": "stream",
     "text": [
      "/usr/lib/python3.10/multiprocessing/popen_fork.py:66: RuntimeWarning: os.fork() was called. os.fork() is incompatible with multithreaded code, and JAX is multithreaded, so this will likely lead to a deadlock.\n",
      "  self.pid = os.fork()\n",
      "/usr/lib/python3.10/multiprocessing/popen_fork.py:66: RuntimeWarning: os.fork() was called. os.fork() is incompatible with multithreaded code, and JAX is multithreaded, so this will likely lead to a deadlock.\n",
      "  self.pid = os.fork()\n"
     ]
    },
    {
     "name": "stdout",
     "output_type": "stream",
     "text": [
      "Epoch 244:\n",
      "\ttrain: loss 0.669 | loss id   0.65 | top_1_acc 0.5152 | top_5_acc 0.8256 | cos_auc: 0.8970 | cos_acc: 0.8406 | eu_auc: 0.8791 | eu_acc: 0.8570\n",
      "\ttest: cos_auc: 0.7505 | cos_acc: 0.8026 | eu_auc: 0.7438 | eu_acc: 0.9112\n",
      "\tSaving model and optimizer state to /kaggle/working/checkpoint/magface/normalmap/models/checkpoint.pth\n",
      "\tEpoch 244: EarlyStopping counter for 'test_cosine_auc': 59/50\n",
      "\tEpoch 244: EarlyStopping counter for 'test_cosine_accuracy': 27/50\n",
      "\tEpoch 244: EarlyStopping counter for 'test_euclidean_auc': 13/50\n",
      "\tEpoch 244: EarlyStopping counter for 'test_euclidean_accuracy': 23/50\n"
     ]
    },
    {
     "name": "stderr",
     "output_type": "stream",
     "text": [
      "/usr/lib/python3.10/multiprocessing/popen_fork.py:66: RuntimeWarning: os.fork() was called. os.fork() is incompatible with multithreaded code, and JAX is multithreaded, so this will likely lead to a deadlock.\n",
      "  self.pid = os.fork()\n",
      "/usr/lib/python3.10/multiprocessing/popen_fork.py:66: RuntimeWarning: os.fork() was called. os.fork() is incompatible with multithreaded code, and JAX is multithreaded, so this will likely lead to a deadlock.\n",
      "  self.pid = os.fork()\n"
     ]
    },
    {
     "name": "stdout",
     "output_type": "stream",
     "text": [
      "Epoch 245:\n",
      "\ttrain: loss 0.773 | loss id   0.75 | top_1_acc 0.5467 | top_5_acc 0.8684 | cos_auc: 0.9000 | cos_acc: 0.8549 | eu_auc: 0.9144 | eu_acc: 0.8694\n",
      "\ttest: cos_auc: 0.7631 | cos_acc: 0.8399 | eu_auc: 0.7775 | eu_acc: 0.6972\n",
      "\tSaving model and optimizer state to /kaggle/working/checkpoint/magface/normalmap/models/checkpoint.pth\n",
      "\tEpoch 245: EarlyStopping counter for 'test_cosine_auc': 60/50\n",
      "\tEpoch 245: EarlyStopping counter for 'test_cosine_accuracy': 28/50\n",
      "\tEpoch 245: EarlyStopping counter for 'test_euclidean_auc': 14/50\n",
      "\tEpoch 245: EarlyStopping counter for 'test_euclidean_accuracy': 24/50\n"
     ]
    },
    {
     "name": "stderr",
     "output_type": "stream",
     "text": [
      "/usr/lib/python3.10/multiprocessing/popen_fork.py:66: RuntimeWarning: os.fork() was called. os.fork() is incompatible with multithreaded code, and JAX is multithreaded, so this will likely lead to a deadlock.\n",
      "  self.pid = os.fork()\n",
      "/usr/lib/python3.10/multiprocessing/popen_fork.py:66: RuntimeWarning: os.fork() was called. os.fork() is incompatible with multithreaded code, and JAX is multithreaded, so this will likely lead to a deadlock.\n",
      "  self.pid = os.fork()\n"
     ]
    },
    {
     "name": "stdout",
     "output_type": "stream",
     "text": [
      "Epoch 246:\n",
      "\ttrain: loss 0.747 | loss id   0.72 | top_1_acc 0.5681 | top_5_acc 0.8549 | cos_auc: 0.8899 | cos_acc: 0.8686 | eu_auc: 0.8955 | eu_acc: 0.8865\n",
      "\ttest: cos_auc: 0.7533 | cos_acc: 0.7989 | eu_auc: 0.7748 | eu_acc: 0.9084\n",
      "\tSaving model and optimizer state to /kaggle/working/checkpoint/magface/normalmap/models/checkpoint.pth\n",
      "\tEpoch 246: EarlyStopping counter for 'test_cosine_auc': 61/50\n",
      "\tEpoch 246: EarlyStopping counter for 'test_cosine_accuracy': 29/50\n",
      "\tEpoch 246: EarlyStopping counter for 'test_euclidean_auc': 15/50\n",
      "\tEpoch 246: EarlyStopping counter for 'test_euclidean_accuracy': 25/50\n"
     ]
    },
    {
     "name": "stderr",
     "output_type": "stream",
     "text": [
      "/usr/lib/python3.10/multiprocessing/popen_fork.py:66: RuntimeWarning: os.fork() was called. os.fork() is incompatible with multithreaded code, and JAX is multithreaded, so this will likely lead to a deadlock.\n",
      "  self.pid = os.fork()\n",
      "/usr/lib/python3.10/multiprocessing/popen_fork.py:66: RuntimeWarning: os.fork() was called. os.fork() is incompatible with multithreaded code, and JAX is multithreaded, so this will likely lead to a deadlock.\n",
      "  self.pid = os.fork()\n"
     ]
    },
    {
     "name": "stdout",
     "output_type": "stream",
     "text": [
      "Epoch 247:\n",
      "\ttrain: loss 0.745 | loss id   0.72 | top_1_acc 0.5444 | top_5_acc 0.8605 | cos_auc: 0.9040 | cos_acc: 0.8428 | eu_auc: 0.9096 | eu_acc: 0.8278\n",
      "\ttest: cos_auc: 0.7667 | cos_acc: 0.8497 | eu_auc: 0.7855 | eu_acc: 0.7436\n",
      "\tSaving model and optimizer state to /kaggle/working/checkpoint/magface/normalmap/models/checkpoint.pth\n",
      "\tEpoch 247: EarlyStopping counter for 'test_cosine_auc': 62/50\n",
      "\tEpoch 247: EarlyStopping counter for 'test_cosine_accuracy': 30/50\n",
      "\tEpoch 247: EarlyStopping counter for 'test_euclidean_auc': 16/50\n",
      "\tEpoch 247: EarlyStopping counter for 'test_euclidean_accuracy': 26/50\n"
     ]
    },
    {
     "name": "stderr",
     "output_type": "stream",
     "text": [
      "/usr/lib/python3.10/multiprocessing/popen_fork.py:66: RuntimeWarning: os.fork() was called. os.fork() is incompatible with multithreaded code, and JAX is multithreaded, so this will likely lead to a deadlock.\n",
      "  self.pid = os.fork()\n",
      "/usr/lib/python3.10/multiprocessing/popen_fork.py:66: RuntimeWarning: os.fork() was called. os.fork() is incompatible with multithreaded code, and JAX is multithreaded, so this will likely lead to a deadlock.\n",
      "  self.pid = os.fork()\n"
     ]
    },
    {
     "name": "stdout",
     "output_type": "stream",
     "text": [
      "Epoch 248:\n",
      "\ttrain: loss 0.743 | loss id   0.72 | top_1_acc 0.5512 | top_5_acc 0.8628 | cos_auc: 0.8905 | cos_acc: 0.8368 | eu_auc: 0.9187 | eu_acc: 0.8629\n",
      "\ttest: cos_auc: 0.7385 | cos_acc: 0.7701 | eu_auc: 0.7529 | eu_acc: 0.7981\n",
      "\tSaving model and optimizer state to /kaggle/working/checkpoint/magface/normalmap/models/checkpoint.pth\n",
      "\tEpoch 248: EarlyStopping counter for 'test_cosine_auc': 63/50\n",
      "\tEpoch 248: EarlyStopping counter for 'test_cosine_accuracy': 31/50\n",
      "\tEpoch 248: EarlyStopping counter for 'test_euclidean_auc': 17/50\n",
      "\tEpoch 248: EarlyStopping counter for 'test_euclidean_accuracy': 27/50\n"
     ]
    },
    {
     "name": "stderr",
     "output_type": "stream",
     "text": [
      "/usr/lib/python3.10/multiprocessing/popen_fork.py:66: RuntimeWarning: os.fork() was called. os.fork() is incompatible with multithreaded code, and JAX is multithreaded, so this will likely lead to a deadlock.\n",
      "  self.pid = os.fork()\n",
      "/usr/lib/python3.10/multiprocessing/popen_fork.py:66: RuntimeWarning: os.fork() was called. os.fork() is incompatible with multithreaded code, and JAX is multithreaded, so this will likely lead to a deadlock.\n",
      "  self.pid = os.fork()\n"
     ]
    },
    {
     "name": "stdout",
     "output_type": "stream",
     "text": [
      "Epoch 249:\n",
      "\ttrain: loss 0.791 | loss id   0.77 | top_1_acc 0.5883 | top_5_acc 0.8853 | cos_auc: 0.8969 | cos_acc: 0.8712 | eu_auc: 0.9102 | eu_acc: 0.8406\n",
      "\ttest: cos_auc: 0.7659 | cos_acc: 0.7937 | eu_auc: 0.7741 | eu_acc: 0.8221\n",
      "\tSaving model and optimizer state to /kaggle/working/checkpoint/magface/normalmap/models/checkpoint.pth\n",
      "\tEpoch 249: EarlyStopping counter for 'test_cosine_auc': 64/50\n",
      "\tEpoch 249: EarlyStopping counter for 'test_cosine_accuracy': 32/50\n",
      "\tEpoch 249: EarlyStopping counter for 'test_euclidean_auc': 18/50\n",
      "\tEpoch 249: EarlyStopping counter for 'test_euclidean_accuracy': 28/50\n"
     ]
    },
    {
     "name": "stderr",
     "output_type": "stream",
     "text": [
      "/usr/lib/python3.10/multiprocessing/popen_fork.py:66: RuntimeWarning: os.fork() was called. os.fork() is incompatible with multithreaded code, and JAX is multithreaded, so this will likely lead to a deadlock.\n",
      "  self.pid = os.fork()\n",
      "/usr/lib/python3.10/multiprocessing/popen_fork.py:66: RuntimeWarning: os.fork() was called. os.fork() is incompatible with multithreaded code, and JAX is multithreaded, so this will likely lead to a deadlock.\n",
      "  self.pid = os.fork()\n"
     ]
    },
    {
     "name": "stdout",
     "output_type": "stream",
     "text": [
      "Epoch 250:\n",
      "\ttrain: loss 0.712 | loss id   0.69 | top_1_acc 0.5838 | top_5_acc 0.8909 | cos_auc: 0.9029 | cos_acc: 0.8500 | eu_auc: 0.8959 | eu_acc: 0.8446\n",
      "\ttest: cos_auc: 0.7488 | cos_acc: 0.7426 | eu_auc: 0.7817 | eu_acc: 0.6387\n",
      "\tSaving model and optimizer state to /kaggle/working/checkpoint/magface/normalmap/models/checkpoint.pth\n",
      "\tEpoch 250: EarlyStopping counter for 'test_cosine_auc': 65/50\n",
      "\tEpoch 250: EarlyStopping counter for 'test_cosine_accuracy': 33/50\n",
      "\tEpoch 250: EarlyStopping counter for 'test_euclidean_auc': 19/50\n",
      "\tEpoch 250: EarlyStopping counter for 'test_euclidean_accuracy': 29/50\n"
     ]
    },
    {
     "name": "stderr",
     "output_type": "stream",
     "text": [
      "/usr/lib/python3.10/multiprocessing/popen_fork.py:66: RuntimeWarning: os.fork() was called. os.fork() is incompatible with multithreaded code, and JAX is multithreaded, so this will likely lead to a deadlock.\n",
      "  self.pid = os.fork()\n",
      "/usr/lib/python3.10/multiprocessing/popen_fork.py:66: RuntimeWarning: os.fork() was called. os.fork() is incompatible with multithreaded code, and JAX is multithreaded, so this will likely lead to a deadlock.\n",
      "  self.pid = os.fork()\n"
     ]
    },
    {
     "name": "stdout",
     "output_type": "stream",
     "text": [
      "Epoch 251:\n",
      "\ttrain: loss 0.772 | loss id   0.75 | top_1_acc 0.6040 | top_5_acc 0.8931 | cos_auc: 0.8763 | cos_acc: 0.8541 | eu_auc: 0.9005 | eu_acc: 0.8652\n",
      "\ttest: cos_auc: 0.7370 | cos_acc: 0.7648 | eu_auc: 0.7722 | eu_acc: 0.8089\n",
      "\tSaving model and optimizer state to /kaggle/working/checkpoint/magface/normalmap/models/checkpoint.pth\n",
      "\tEpoch 251: EarlyStopping counter for 'test_cosine_auc': 66/50\n",
      "\tEpoch 251: EarlyStopping counter for 'test_cosine_accuracy': 34/50\n",
      "\tEpoch 251: EarlyStopping counter for 'test_euclidean_auc': 20/50\n",
      "\tEpoch 251: EarlyStopping counter for 'test_euclidean_accuracy': 30/50\n"
     ]
    },
    {
     "name": "stderr",
     "output_type": "stream",
     "text": [
      "/usr/lib/python3.10/multiprocessing/popen_fork.py:66: RuntimeWarning: os.fork() was called. os.fork() is incompatible with multithreaded code, and JAX is multithreaded, so this will likely lead to a deadlock.\n",
      "  self.pid = os.fork()\n",
      "/usr/lib/python3.10/multiprocessing/popen_fork.py:66: RuntimeWarning: os.fork() was called. os.fork() is incompatible with multithreaded code, and JAX is multithreaded, so this will likely lead to a deadlock.\n",
      "  self.pid = os.fork()\n"
     ]
    },
    {
     "name": "stdout",
     "output_type": "stream",
     "text": [
      "Epoch 252:\n",
      "\ttrain: loss 0.790 | loss id   0.77 | top_1_acc 0.6074 | top_5_acc 0.8830 | cos_auc: 0.9125 | cos_acc: 0.8474 | eu_auc: 0.9275 | eu_acc: 0.8706\n",
      "\ttest: cos_auc: 0.7636 | cos_acc: 0.8075 | eu_auc: 0.7853 | eu_acc: 0.8082\n",
      "\tSaving model and optimizer state to /kaggle/working/checkpoint/magface/normalmap/models/checkpoint.pth\n",
      "\tEpoch 252: EarlyStopping counter for 'test_cosine_auc': 67/50\n",
      "\tEpoch 252: EarlyStopping counter for 'test_cosine_accuracy': 35/50\n",
      "\tEpoch 252: EarlyStopping counter for 'test_euclidean_auc': 21/50\n",
      "\tEpoch 252: EarlyStopping counter for 'test_euclidean_accuracy': 31/50\n"
     ]
    },
    {
     "name": "stderr",
     "output_type": "stream",
     "text": [
      "/usr/lib/python3.10/multiprocessing/popen_fork.py:66: RuntimeWarning: os.fork() was called. os.fork() is incompatible with multithreaded code, and JAX is multithreaded, so this will likely lead to a deadlock.\n",
      "  self.pid = os.fork()\n",
      "/usr/lib/python3.10/multiprocessing/popen_fork.py:66: RuntimeWarning: os.fork() was called. os.fork() is incompatible with multithreaded code, and JAX is multithreaded, so this will likely lead to a deadlock.\n",
      "  self.pid = os.fork()\n"
     ]
    },
    {
     "name": "stdout",
     "output_type": "stream",
     "text": [
      "Epoch 253:\n",
      "\ttrain: loss 0.817 | loss id   0.79 | top_1_acc 0.6637 | top_5_acc 0.9201 | cos_auc: 0.9140 | cos_acc: 0.8525 | eu_auc: 0.9155 | eu_acc: 0.8470\n",
      "\ttest: cos_auc: 0.7501 | cos_acc: 0.7912 | eu_auc: 0.7631 | eu_acc: 0.8843\n",
      "\tSaving model and optimizer state to /kaggle/working/checkpoint/magface/normalmap/models/checkpoint.pth\n",
      "\tEpoch 253: EarlyStopping counter for 'test_cosine_auc': 68/50\n",
      "\tEpoch 253: EarlyStopping counter for 'test_cosine_accuracy': 36/50\n",
      "\tEpoch 253: EarlyStopping counter for 'test_euclidean_auc': 22/50\n",
      "\tEpoch 253: EarlyStopping counter for 'test_euclidean_accuracy': 32/50\n"
     ]
    },
    {
     "name": "stderr",
     "output_type": "stream",
     "text": [
      "/usr/lib/python3.10/multiprocessing/popen_fork.py:66: RuntimeWarning: os.fork() was called. os.fork() is incompatible with multithreaded code, and JAX is multithreaded, so this will likely lead to a deadlock.\n",
      "  self.pid = os.fork()\n",
      "/usr/lib/python3.10/multiprocessing/popen_fork.py:66: RuntimeWarning: os.fork() was called. os.fork() is incompatible with multithreaded code, and JAX is multithreaded, so this will likely lead to a deadlock.\n",
      "  self.pid = os.fork()\n"
     ]
    },
    {
     "name": "stdout",
     "output_type": "stream",
     "text": [
      "Epoch 254:\n",
      "\ttrain: loss 0.845 | loss id   0.82 | top_1_acc 0.6355 | top_5_acc 0.9078 | cos_auc: 0.9183 | cos_acc: 0.8949 | eu_auc: 0.9250 | eu_acc: 0.8738\n",
      "\ttest: cos_auc: 0.7612 | cos_acc: 0.7184 | eu_auc: 0.7889 | eu_acc: 0.9328\n",
      "\tSaving model and optimizer state to /kaggle/working/checkpoint/magface/normalmap/models/checkpoint.pth\n",
      "\tEpoch 254: EarlyStopping counter for 'test_cosine_auc': 69/50\n",
      "\tEpoch 254: EarlyStopping counter for 'test_cosine_accuracy': 37/50\n",
      "\tEpoch 254: EarlyStopping counter for 'test_euclidean_auc': 23/50\n",
      "\tSaved best model weights for 'test_euclidean_accuracy' at epoch 254 to '/kaggle/working/checkpoint/magface/normalmap/models/best_test_euclidean_accuracy_254.pth'\n"
     ]
    },
    {
     "name": "stderr",
     "output_type": "stream",
     "text": [
      "/usr/lib/python3.10/multiprocessing/popen_fork.py:66: RuntimeWarning: os.fork() was called. os.fork() is incompatible with multithreaded code, and JAX is multithreaded, so this will likely lead to a deadlock.\n",
      "  self.pid = os.fork()\n",
      "/usr/lib/python3.10/multiprocessing/popen_fork.py:66: RuntimeWarning: os.fork() was called. os.fork() is incompatible with multithreaded code, and JAX is multithreaded, so this will likely lead to a deadlock.\n",
      "  self.pid = os.fork()\n",
      "/usr/lib/python3.10/multiprocessing/popen_fork.py:66: RuntimeWarning: os.fork() was called. os.fork() is incompatible with multithreaded code, and JAX is multithreaded, so this will likely lead to a deadlock.\n",
      "  self.pid = os.fork()\n"
     ]
    },
    {
     "name": "stdout",
     "output_type": "stream",
     "text": [
      "Epoch 255:\n",
      "\ttrain: loss 0.894 | loss id   0.87 | top_1_acc 0.6715 | top_5_acc 0.9246 | cos_auc: 0.9182 | cos_acc: 0.8734 | eu_auc: 0.9258 | eu_acc: 0.8861\n",
      "\ttest: cos_auc: 0.7567 | cos_acc: 0.7792 | eu_auc: 0.7909 | eu_acc: 0.8213\n",
      "\tSaving model and optimizer state to /kaggle/working/checkpoint/magface/normalmap/models/checkpoint.pth\n",
      "\tEpoch 255: EarlyStopping counter for 'test_cosine_auc': 70/50\n",
      "\tEpoch 255: EarlyStopping counter for 'test_cosine_accuracy': 38/50\n",
      "\tEpoch 255: EarlyStopping counter for 'test_euclidean_auc': 24/50\n",
      "\tEpoch 255: EarlyStopping counter for 'test_euclidean_accuracy': 1/50\n"
     ]
    },
    {
     "name": "stderr",
     "output_type": "stream",
     "text": [
      "/usr/lib/python3.10/multiprocessing/popen_fork.py:66: RuntimeWarning: os.fork() was called. os.fork() is incompatible with multithreaded code, and JAX is multithreaded, so this will likely lead to a deadlock.\n",
      "  self.pid = os.fork()\n",
      "/usr/lib/python3.10/multiprocessing/popen_fork.py:66: RuntimeWarning: os.fork() was called. os.fork() is incompatible with multithreaded code, and JAX is multithreaded, so this will likely lead to a deadlock.\n",
      "  self.pid = os.fork()\n"
     ]
    },
    {
     "name": "stdout",
     "output_type": "stream",
     "text": [
      "Epoch 256:\n",
      "\ttrain: loss 0.997 | loss id   0.97 | top_1_acc 0.6670 | top_5_acc 0.9269 | cos_auc: 0.9100 | cos_acc: 0.8677 | eu_auc: 0.9118 | eu_acc: 0.8754\n",
      "\ttest: cos_auc: 0.7371 | cos_acc: 0.8891 | eu_auc: 0.7747 | eu_acc: 0.8461\n",
      "\tSaving model and optimizer state to /kaggle/working/checkpoint/magface/normalmap/models/checkpoint.pth\n",
      "\tEpoch 256: EarlyStopping counter for 'test_cosine_auc': 71/50\n",
      "\tEpoch 256: EarlyStopping counter for 'test_cosine_accuracy': 39/50\n",
      "\tEpoch 256: EarlyStopping counter for 'test_euclidean_auc': 25/50\n",
      "\tEpoch 256: EarlyStopping counter for 'test_euclidean_accuracy': 2/50\n"
     ]
    },
    {
     "name": "stderr",
     "output_type": "stream",
     "text": [
      "/usr/lib/python3.10/multiprocessing/popen_fork.py:66: RuntimeWarning: os.fork() was called. os.fork() is incompatible with multithreaded code, and JAX is multithreaded, so this will likely lead to a deadlock.\n",
      "  self.pid = os.fork()\n",
      "/usr/lib/python3.10/multiprocessing/popen_fork.py:66: RuntimeWarning: os.fork() was called. os.fork() is incompatible with multithreaded code, and JAX is multithreaded, so this will likely lead to a deadlock.\n",
      "  self.pid = os.fork()\n"
     ]
    },
    {
     "name": "stdout",
     "output_type": "stream",
     "text": [
      "Epoch 257:\n",
      "\ttrain: loss 0.927 | loss id   0.90 | top_1_acc 0.6907 | top_5_acc 0.9314 | cos_auc: 0.9214 | cos_acc: 0.8659 | eu_auc: 0.9250 | eu_acc: 0.8779\n",
      "\ttest: cos_auc: 0.7562 | cos_acc: 0.8303 | eu_auc: 0.7823 | eu_acc: 0.7756\n",
      "\tSaving model and optimizer state to /kaggle/working/checkpoint/magface/normalmap/models/checkpoint.pth\n",
      "\tEpoch 257: EarlyStopping counter for 'test_cosine_auc': 72/50\n",
      "\tEpoch 257: EarlyStopping counter for 'test_cosine_accuracy': 40/50\n",
      "\tEpoch 257: EarlyStopping counter for 'test_euclidean_auc': 26/50\n",
      "\tEpoch 257: EarlyStopping counter for 'test_euclidean_accuracy': 3/50\n"
     ]
    },
    {
     "name": "stderr",
     "output_type": "stream",
     "text": [
      "/usr/lib/python3.10/multiprocessing/popen_fork.py:66: RuntimeWarning: os.fork() was called. os.fork() is incompatible with multithreaded code, and JAX is multithreaded, so this will likely lead to a deadlock.\n",
      "  self.pid = os.fork()\n",
      "/usr/lib/python3.10/multiprocessing/popen_fork.py:66: RuntimeWarning: os.fork() was called. os.fork() is incompatible with multithreaded code, and JAX is multithreaded, so this will likely lead to a deadlock.\n",
      "  self.pid = os.fork()\n"
     ]
    },
    {
     "name": "stdout",
     "output_type": "stream",
     "text": [
      "Epoch 258:\n",
      "\ttrain: loss 0.969 | loss id   0.95 | top_1_acc 0.6907 | top_5_acc 0.9291 | cos_auc: 0.9005 | cos_acc: 0.8602 | eu_auc: 0.9002 | eu_acc: 0.8387\n",
      "\ttest: cos_auc: 0.7444 | cos_acc: 0.7901 | eu_auc: 0.7865 | eu_acc: 0.7734\n",
      "\tSaving model and optimizer state to /kaggle/working/checkpoint/magface/normalmap/models/checkpoint.pth\n",
      "\tEpoch 258: EarlyStopping counter for 'test_cosine_auc': 73/50\n",
      "\tEpoch 258: EarlyStopping counter for 'test_cosine_accuracy': 41/50\n",
      "\tEpoch 258: EarlyStopping counter for 'test_euclidean_auc': 27/50\n",
      "\tEpoch 258: EarlyStopping counter for 'test_euclidean_accuracy': 4/50\n"
     ]
    },
    {
     "name": "stderr",
     "output_type": "stream",
     "text": [
      "/usr/lib/python3.10/multiprocessing/popen_fork.py:66: RuntimeWarning: os.fork() was called. os.fork() is incompatible with multithreaded code, and JAX is multithreaded, so this will likely lead to a deadlock.\n",
      "  self.pid = os.fork()\n",
      "/usr/lib/python3.10/multiprocessing/popen_fork.py:66: RuntimeWarning: os.fork() was called. os.fork() is incompatible with multithreaded code, and JAX is multithreaded, so this will likely lead to a deadlock.\n",
      "  self.pid = os.fork()\n",
      "/usr/lib/python3.10/multiprocessing/popen_fork.py:66: RuntimeWarning: os.fork() was called. os.fork() is incompatible with multithreaded code, and JAX is multithreaded, so this will likely lead to a deadlock.\n",
      "  self.pid = os.fork()\n"
     ]
    },
    {
     "name": "stdout",
     "output_type": "stream",
     "text": [
      "Epoch 259:\n",
      "\ttrain: loss 1.029 | loss id   1.01 | top_1_acc 0.7379 | top_5_acc 0.9426 | cos_auc: 0.9128 | cos_acc: 0.8508 | eu_auc: 0.9115 | eu_acc: 0.8765\n",
      "\ttest: cos_auc: 0.7669 | cos_acc: 0.8473 | eu_auc: 0.7933 | eu_acc: 0.7433\n",
      "\tSaving model and optimizer state to /kaggle/working/checkpoint/magface/normalmap/models/checkpoint.pth\n",
      "\tEpoch 259: EarlyStopping counter for 'test_cosine_auc': 74/50\n",
      "\tEpoch 259: EarlyStopping counter for 'test_cosine_accuracy': 42/50\n",
      "\tEpoch 259: EarlyStopping counter for 'test_euclidean_auc': 28/50\n",
      "\tEpoch 259: EarlyStopping counter for 'test_euclidean_accuracy': 5/50\n"
     ]
    },
    {
     "name": "stderr",
     "output_type": "stream",
     "text": [
      "/usr/lib/python3.10/multiprocessing/popen_fork.py:66: RuntimeWarning: os.fork() was called. os.fork() is incompatible with multithreaded code, and JAX is multithreaded, so this will likely lead to a deadlock.\n",
      "  self.pid = os.fork()\n",
      "/usr/lib/python3.10/multiprocessing/popen_fork.py:66: RuntimeWarning: os.fork() was called. os.fork() is incompatible with multithreaded code, and JAX is multithreaded, so this will likely lead to a deadlock.\n",
      "  self.pid = os.fork()\n"
     ]
    },
    {
     "name": "stdout",
     "output_type": "stream",
     "text": [
      "Epoch 260:\n",
      "\ttrain: loss 1.048 | loss id   1.02 | top_1_acc 0.6997 | top_5_acc 0.9190 | cos_auc: 0.8726 | cos_acc: 0.8488 | eu_auc: 0.8886 | eu_acc: 0.8310\n",
      "\ttest: cos_auc: 0.7197 | cos_acc: 0.7084 | eu_auc: 0.7418 | eu_acc: 0.7396\n",
      "\tSaving model and optimizer state to /kaggle/working/checkpoint/magface/normalmap/models/checkpoint.pth\n",
      "\tEpoch 260: EarlyStopping counter for 'test_cosine_auc': 75/50\n",
      "\tEpoch 260: EarlyStopping counter for 'test_cosine_accuracy': 43/50\n",
      "\tEpoch 260: EarlyStopping counter for 'test_euclidean_auc': 29/50\n",
      "\tEpoch 260: EarlyStopping counter for 'test_euclidean_accuracy': 6/50\n"
     ]
    },
    {
     "name": "stderr",
     "output_type": "stream",
     "text": [
      "/usr/lib/python3.10/multiprocessing/popen_fork.py:66: RuntimeWarning: os.fork() was called. os.fork() is incompatible with multithreaded code, and JAX is multithreaded, so this will likely lead to a deadlock.\n",
      "  self.pid = os.fork()\n",
      "/usr/lib/python3.10/multiprocessing/popen_fork.py:66: RuntimeWarning: os.fork() was called. os.fork() is incompatible with multithreaded code, and JAX is multithreaded, so this will likely lead to a deadlock.\n",
      "  self.pid = os.fork()\n"
     ]
    },
    {
     "name": "stdout",
     "output_type": "stream",
     "text": [
      "Epoch 261:\n",
      "\ttrain: loss 1.066 | loss id   1.04 | top_1_acc 0.7672 | top_5_acc 0.9561 | cos_auc: 0.9059 | cos_acc: 0.8722 | eu_auc: 0.9116 | eu_acc: 0.8623\n",
      "\ttest: cos_auc: 0.7562 | cos_acc: 0.6711 | eu_auc: 0.7693 | eu_acc: 0.8831\n",
      "\tSaving model and optimizer state to /kaggle/working/checkpoint/magface/normalmap/models/checkpoint.pth\n",
      "\tEpoch 261: EarlyStopping counter for 'test_cosine_auc': 76/50\n",
      "\tEpoch 261: EarlyStopping counter for 'test_cosine_accuracy': 44/50\n",
      "\tEpoch 261: EarlyStopping counter for 'test_euclidean_auc': 30/50\n",
      "\tEpoch 261: EarlyStopping counter for 'test_euclidean_accuracy': 7/50\n"
     ]
    },
    {
     "name": "stderr",
     "output_type": "stream",
     "text": [
      "/usr/lib/python3.10/multiprocessing/popen_fork.py:66: RuntimeWarning: os.fork() was called. os.fork() is incompatible with multithreaded code, and JAX is multithreaded, so this will likely lead to a deadlock.\n",
      "  self.pid = os.fork()\n",
      "/usr/lib/python3.10/multiprocessing/popen_fork.py:66: RuntimeWarning: os.fork() was called. os.fork() is incompatible with multithreaded code, and JAX is multithreaded, so this will likely lead to a deadlock.\n",
      "  self.pid = os.fork()\n"
     ]
    },
    {
     "name": "stdout",
     "output_type": "stream",
     "text": [
      "Epoch 262:\n",
      "\ttrain: loss 1.085 | loss id   1.06 | top_1_acc 0.7705 | top_5_acc 0.9460 | cos_auc: 0.9153 | cos_acc: 0.8458 | eu_auc: 0.9135 | eu_acc: 0.8870\n",
      "\ttest: cos_auc: 0.7516 | cos_acc: 0.7700 | eu_auc: 0.7746 | eu_acc: 0.8807\n",
      "\tSaving model and optimizer state to /kaggle/working/checkpoint/magface/normalmap/models/checkpoint.pth\n",
      "\tEpoch 262: EarlyStopping counter for 'test_cosine_auc': 77/50\n",
      "\tEpoch 262: EarlyStopping counter for 'test_cosine_accuracy': 45/50\n",
      "\tEpoch 262: EarlyStopping counter for 'test_euclidean_auc': 31/50\n",
      "\tEpoch 262: EarlyStopping counter for 'test_euclidean_accuracy': 8/50\n"
     ]
    },
    {
     "name": "stderr",
     "output_type": "stream",
     "text": [
      "/usr/lib/python3.10/multiprocessing/popen_fork.py:66: RuntimeWarning: os.fork() was called. os.fork() is incompatible with multithreaded code, and JAX is multithreaded, so this will likely lead to a deadlock.\n",
      "  self.pid = os.fork()\n",
      "/usr/lib/python3.10/multiprocessing/popen_fork.py:66: RuntimeWarning: os.fork() was called. os.fork() is incompatible with multithreaded code, and JAX is multithreaded, so this will likely lead to a deadlock.\n",
      "  self.pid = os.fork()\n"
     ]
    },
    {
     "name": "stdout",
     "output_type": "stream",
     "text": [
      "Epoch 263:\n",
      "\ttrain: loss 1.092 | loss id   1.07 | top_1_acc 0.7559 | top_5_acc 0.9550 | cos_auc: 0.9014 | cos_acc: 0.8388 | eu_auc: 0.9100 | eu_acc: 0.8833\n",
      "\ttest: cos_auc: 0.7172 | cos_acc: 0.8229 | eu_auc: 0.7579 | eu_acc: 0.7666\n",
      "\tSaving model and optimizer state to /kaggle/working/checkpoint/magface/normalmap/models/checkpoint.pth\n",
      "\tEpoch 263: EarlyStopping counter for 'test_cosine_auc': 78/50\n",
      "\tEpoch 263: EarlyStopping counter for 'test_cosine_accuracy': 46/50\n",
      "\tEpoch 263: EarlyStopping counter for 'test_euclidean_auc': 32/50\n",
      "\tEpoch 263: EarlyStopping counter for 'test_euclidean_accuracy': 9/50\n"
     ]
    },
    {
     "name": "stderr",
     "output_type": "stream",
     "text": [
      "/usr/lib/python3.10/multiprocessing/popen_fork.py:66: RuntimeWarning: os.fork() was called. os.fork() is incompatible with multithreaded code, and JAX is multithreaded, so this will likely lead to a deadlock.\n",
      "  self.pid = os.fork()\n",
      "/usr/lib/python3.10/multiprocessing/popen_fork.py:66: RuntimeWarning: os.fork() was called. os.fork() is incompatible with multithreaded code, and JAX is multithreaded, so this will likely lead to a deadlock.\n",
      "  self.pid = os.fork()\n",
      "/usr/lib/python3.10/multiprocessing/popen_fork.py:66: RuntimeWarning: os.fork() was called. os.fork() is incompatible with multithreaded code, and JAX is multithreaded, so this will likely lead to a deadlock.\n",
      "  self.pid = os.fork()\n"
     ]
    },
    {
     "name": "stdout",
     "output_type": "stream",
     "text": [
      "Epoch 264:\n",
      "\ttrain: loss 1.147 | loss id   1.12 | top_1_acc 0.7863 | top_5_acc 0.9573 | cos_auc: 0.9147 | cos_acc: 0.8564 | eu_auc: 0.9217 | eu_acc: 0.8947\n",
      "\ttest: cos_auc: 0.7161 | cos_acc: 0.7132 | eu_auc: 0.7503 | eu_acc: 0.8667\n",
      "\tSaving model and optimizer state to /kaggle/working/checkpoint/magface/normalmap/models/checkpoint.pth\n",
      "\tEpoch 264: EarlyStopping counter for 'test_cosine_auc': 79/50\n",
      "\tEpoch 264: EarlyStopping counter for 'test_cosine_accuracy': 47/50\n",
      "\tEpoch 264: EarlyStopping counter for 'test_euclidean_auc': 33/50\n",
      "\tEpoch 264: EarlyStopping counter for 'test_euclidean_accuracy': 10/50\n"
     ]
    },
    {
     "name": "stderr",
     "output_type": "stream",
     "text": [
      "/usr/lib/python3.10/multiprocessing/popen_fork.py:66: RuntimeWarning: os.fork() was called. os.fork() is incompatible with multithreaded code, and JAX is multithreaded, so this will likely lead to a deadlock.\n",
      "  self.pid = os.fork()\n",
      "/usr/lib/python3.10/multiprocessing/popen_fork.py:66: RuntimeWarning: os.fork() was called. os.fork() is incompatible with multithreaded code, and JAX is multithreaded, so this will likely lead to a deadlock.\n",
      "  self.pid = os.fork()\n"
     ]
    },
    {
     "name": "stdout",
     "output_type": "stream",
     "text": [
      "Epoch 265:\n",
      "\ttrain: loss 1.197 | loss id   1.17 | top_1_acc 0.7964 | top_5_acc 0.9719 | cos_auc: 0.9091 | cos_acc: 0.8572 | eu_auc: 0.9146 | eu_acc: 0.8957\n",
      "\ttest: cos_auc: 0.7565 | cos_acc: 0.7302 | eu_auc: 0.7657 | eu_acc: 0.8646\n",
      "\tSaving model and optimizer state to /kaggle/working/checkpoint/magface/normalmap/models/checkpoint.pth\n",
      "\tEpoch 265: EarlyStopping counter for 'test_cosine_auc': 80/50\n",
      "\tEpoch 265: EarlyStopping counter for 'test_cosine_accuracy': 48/50\n",
      "\tEpoch 265: EarlyStopping counter for 'test_euclidean_auc': 34/50\n",
      "\tEpoch 265: EarlyStopping counter for 'test_euclidean_accuracy': 11/50\n"
     ]
    },
    {
     "name": "stderr",
     "output_type": "stream",
     "text": [
      "/usr/lib/python3.10/multiprocessing/popen_fork.py:66: RuntimeWarning: os.fork() was called. os.fork() is incompatible with multithreaded code, and JAX is multithreaded, so this will likely lead to a deadlock.\n",
      "  self.pid = os.fork()\n",
      "/usr/lib/python3.10/multiprocessing/popen_fork.py:66: RuntimeWarning: os.fork() was called. os.fork() is incompatible with multithreaded code, and JAX is multithreaded, so this will likely lead to a deadlock.\n",
      "  self.pid = os.fork()\n"
     ]
    },
    {
     "name": "stdout",
     "output_type": "stream",
     "text": [
      "Epoch 266:\n",
      "\ttrain: loss 1.184 | loss id   1.16 | top_1_acc 0.7998 | top_5_acc 0.9708 | cos_auc: 0.9124 | cos_acc: 0.8819 | eu_auc: 0.9209 | eu_acc: 0.9130\n",
      "\ttest: cos_auc: 0.7235 | cos_acc: 0.8519 | eu_auc: 0.7683 | eu_acc: 0.8085\n",
      "\tSaving model and optimizer state to /kaggle/working/checkpoint/magface/normalmap/models/checkpoint.pth\n",
      "\tEpoch 266: EarlyStopping counter for 'test_cosine_auc': 81/50\n",
      "\tEpoch 266: EarlyStopping counter for 'test_cosine_accuracy': 49/50\n",
      "\tEpoch 266: EarlyStopping counter for 'test_euclidean_auc': 35/50\n",
      "\tEpoch 266: EarlyStopping counter for 'test_euclidean_accuracy': 12/50\n"
     ]
    },
    {
     "name": "stderr",
     "output_type": "stream",
     "text": [
      "/usr/lib/python3.10/multiprocessing/popen_fork.py:66: RuntimeWarning: os.fork() was called. os.fork() is incompatible with multithreaded code, and JAX is multithreaded, so this will likely lead to a deadlock.\n",
      "  self.pid = os.fork()\n",
      "/usr/lib/python3.10/multiprocessing/popen_fork.py:66: RuntimeWarning: os.fork() was called. os.fork() is incompatible with multithreaded code, and JAX is multithreaded, so this will likely lead to a deadlock.\n",
      "  self.pid = os.fork()\n"
     ]
    },
    {
     "name": "stdout",
     "output_type": "stream",
     "text": [
      "Epoch 267:\n",
      "\ttrain: loss 1.260 | loss id   1.24 | top_1_acc 0.8076 | top_5_acc 0.9674 | cos_auc: 0.9157 | cos_acc: 0.8663 | eu_auc: 0.9183 | eu_acc: 0.9145\n",
      "\ttest: cos_auc: 0.7194 | cos_acc: 0.8231 | eu_auc: 0.7459 | eu_acc: 0.8687\n",
      "\tSaving model and optimizer state to /kaggle/working/checkpoint/magface/normalmap/models/checkpoint.pth\n",
      "\tEpoch 267: EarlyStopping counter for 'test_cosine_auc': 82/50\n",
      "\tEpoch 267: EarlyStopping counter for 'test_cosine_accuracy': 50/50\n",
      "\tEpoch 267: EarlyStopping counter for 'test_euclidean_auc': 36/50\n",
      "\tEpoch 267: EarlyStopping counter for 'test_euclidean_accuracy': 13/50\n"
     ]
    },
    {
     "name": "stderr",
     "output_type": "stream",
     "text": [
      "/usr/lib/python3.10/multiprocessing/popen_fork.py:66: RuntimeWarning: os.fork() was called. os.fork() is incompatible with multithreaded code, and JAX is multithreaded, so this will likely lead to a deadlock.\n",
      "  self.pid = os.fork()\n",
      "/usr/lib/python3.10/multiprocessing/popen_fork.py:66: RuntimeWarning: os.fork() was called. os.fork() is incompatible with multithreaded code, and JAX is multithreaded, so this will likely lead to a deadlock.\n",
      "  self.pid = os.fork()\n"
     ]
    },
    {
     "name": "stdout",
     "output_type": "stream",
     "text": [
      "Epoch 268:\n",
      "\ttrain: loss 1.305 | loss id   1.28 | top_1_acc 0.8200 | top_5_acc 0.9730 | cos_auc: 0.9175 | cos_acc: 0.9002 | eu_auc: 0.9242 | eu_acc: 0.8877\n",
      "\ttest: cos_auc: 0.7206 | cos_acc: 0.4093 | eu_auc: 0.7623 | eu_acc: 0.8916\n",
      "\tSaving model and optimizer state to /kaggle/working/checkpoint/magface/normalmap/models/checkpoint.pth\n",
      "\tEpoch 268: EarlyStopping counter for 'test_cosine_auc': 83/50\n",
      "\tEpoch 268: EarlyStopping counter for 'test_cosine_accuracy': 51/50\n",
      "\tEpoch 268: EarlyStopping counter for 'test_euclidean_auc': 37/50\n",
      "\tEpoch 268: EarlyStopping counter for 'test_euclidean_accuracy': 14/50\n"
     ]
    },
    {
     "name": "stderr",
     "output_type": "stream",
     "text": [
      "/usr/lib/python3.10/multiprocessing/popen_fork.py:66: RuntimeWarning: os.fork() was called. os.fork() is incompatible with multithreaded code, and JAX is multithreaded, so this will likely lead to a deadlock.\n",
      "  self.pid = os.fork()\n",
      "/usr/lib/python3.10/multiprocessing/popen_fork.py:66: RuntimeWarning: os.fork() was called. os.fork() is incompatible with multithreaded code, and JAX is multithreaded, so this will likely lead to a deadlock.\n",
      "  self.pid = os.fork()\n"
     ]
    },
    {
     "name": "stdout",
     "output_type": "stream",
     "text": [
      "Epoch 269:\n",
      "\ttrain: loss 1.444 | loss id   1.42 | top_1_acc 0.8166 | top_5_acc 0.9640 | cos_auc: 0.9231 | cos_acc: 0.8443 | eu_auc: 0.9224 | eu_acc: 0.8960\n",
      "\ttest: cos_auc: 0.7352 | cos_acc: 0.5289 | eu_auc: 0.7597 | eu_acc: 0.7529\n",
      "\tSaving model and optimizer state to /kaggle/working/checkpoint/magface/normalmap/models/checkpoint.pth\n",
      "\tEpoch 269: EarlyStopping counter for 'test_cosine_auc': 84/50\n",
      "\tEpoch 269: EarlyStopping counter for 'test_cosine_accuracy': 52/50\n",
      "\tEpoch 269: EarlyStopping counter for 'test_euclidean_auc': 38/50\n",
      "\tEpoch 269: EarlyStopping counter for 'test_euclidean_accuracy': 15/50\n"
     ]
    },
    {
     "name": "stderr",
     "output_type": "stream",
     "text": [
      "/usr/lib/python3.10/multiprocessing/popen_fork.py:66: RuntimeWarning: os.fork() was called. os.fork() is incompatible with multithreaded code, and JAX is multithreaded, so this will likely lead to a deadlock.\n",
      "  self.pid = os.fork()\n",
      "/usr/lib/python3.10/multiprocessing/popen_fork.py:66: RuntimeWarning: os.fork() was called. os.fork() is incompatible with multithreaded code, and JAX is multithreaded, so this will likely lead to a deadlock.\n",
      "  self.pid = os.fork()\n"
     ]
    },
    {
     "name": "stdout",
     "output_type": "stream",
     "text": [
      "Epoch 270:\n",
      "\ttrain: loss 1.386 | loss id   1.36 | top_1_acc 0.8234 | top_5_acc 0.9820 | cos_auc: 0.9439 | cos_acc: 0.8691 | eu_auc: 0.9384 | eu_acc: 0.9010\n",
      "\ttest: cos_auc: 0.7619 | cos_acc: 0.6964 | eu_auc: 0.7635 | eu_acc: 0.7170\n",
      "\tSaving model and optimizer state to /kaggle/working/checkpoint/magface/normalmap/models/checkpoint.pth\n",
      "\tEpoch 270: EarlyStopping counter for 'test_cosine_auc': 85/50\n",
      "\tEpoch 270: EarlyStopping counter for 'test_cosine_accuracy': 53/50\n",
      "\tEpoch 270: EarlyStopping counter for 'test_euclidean_auc': 39/50\n",
      "\tEpoch 270: EarlyStopping counter for 'test_euclidean_accuracy': 16/50\n"
     ]
    },
    {
     "name": "stderr",
     "output_type": "stream",
     "text": [
      "/usr/lib/python3.10/multiprocessing/popen_fork.py:66: RuntimeWarning: os.fork() was called. os.fork() is incompatible with multithreaded code, and JAX is multithreaded, so this will likely lead to a deadlock.\n",
      "  self.pid = os.fork()\n",
      "/usr/lib/python3.10/multiprocessing/popen_fork.py:66: RuntimeWarning: os.fork() was called. os.fork() is incompatible with multithreaded code, and JAX is multithreaded, so this will likely lead to a deadlock.\n",
      "  self.pid = os.fork()\n"
     ]
    },
    {
     "name": "stdout",
     "output_type": "stream",
     "text": [
      "Epoch 271:\n",
      "\ttrain: loss 1.509 | loss id   1.49 | top_1_acc 0.8380 | top_5_acc 0.9696 | cos_auc: 0.9401 | cos_acc: 0.8239 | eu_auc: 0.9240 | eu_acc: 0.9020\n",
      "\ttest: cos_auc: 0.7529 | cos_acc: 0.5935 | eu_auc: 0.7484 | eu_acc: 0.7969\n",
      "\tSaving model and optimizer state to /kaggle/working/checkpoint/magface/normalmap/models/checkpoint.pth\n",
      "\tEpoch 271: EarlyStopping counter for 'test_cosine_auc': 86/50\n",
      "\tEpoch 271: EarlyStopping counter for 'test_cosine_accuracy': 54/50\n",
      "\tEpoch 271: EarlyStopping counter for 'test_euclidean_auc': 40/50\n",
      "\tEpoch 271: EarlyStopping counter for 'test_euclidean_accuracy': 17/50\n"
     ]
    },
    {
     "name": "stderr",
     "output_type": "stream",
     "text": [
      "/usr/lib/python3.10/multiprocessing/popen_fork.py:66: RuntimeWarning: os.fork() was called. os.fork() is incompatible with multithreaded code, and JAX is multithreaded, so this will likely lead to a deadlock.\n",
      "  self.pid = os.fork()\n",
      "/usr/lib/python3.10/multiprocessing/popen_fork.py:66: RuntimeWarning: os.fork() was called. os.fork() is incompatible with multithreaded code, and JAX is multithreaded, so this will likely lead to a deadlock.\n",
      "  self.pid = os.fork()\n"
     ]
    },
    {
     "name": "stdout",
     "output_type": "stream",
     "text": [
      "Epoch 272:\n",
      "\ttrain: loss 1.571 | loss id   1.55 | top_1_acc 0.8661 | top_5_acc 0.9798 | cos_auc: 0.9387 | cos_acc: 0.8472 | eu_auc: 0.9240 | eu_acc: 0.9132\n",
      "\ttest: cos_auc: 0.7638 | cos_acc: 0.6967 | eu_auc: 0.7657 | eu_acc: 0.8026\n",
      "\tSaving model and optimizer state to /kaggle/working/checkpoint/magface/normalmap/models/checkpoint.pth\n",
      "\tEpoch 272: EarlyStopping counter for 'test_cosine_auc': 87/50\n",
      "\tEpoch 272: EarlyStopping counter for 'test_cosine_accuracy': 55/50\n",
      "\tEpoch 272: EarlyStopping counter for 'test_euclidean_auc': 41/50\n",
      "\tEpoch 272: EarlyStopping counter for 'test_euclidean_accuracy': 18/50\n"
     ]
    },
    {
     "name": "stderr",
     "output_type": "stream",
     "text": [
      "/usr/lib/python3.10/multiprocessing/popen_fork.py:66: RuntimeWarning: os.fork() was called. os.fork() is incompatible with multithreaded code, and JAX is multithreaded, so this will likely lead to a deadlock.\n",
      "  self.pid = os.fork()\n",
      "/usr/lib/python3.10/multiprocessing/popen_fork.py:66: RuntimeWarning: os.fork() was called. os.fork() is incompatible with multithreaded code, and JAX is multithreaded, so this will likely lead to a deadlock.\n",
      "  self.pid = os.fork()\n"
     ]
    },
    {
     "name": "stdout",
     "output_type": "stream",
     "text": [
      "Epoch 273:\n",
      "\ttrain: loss 1.685 | loss id   1.66 | top_1_acc 0.8515 | top_5_acc 0.9831 | cos_auc: 0.9351 | cos_acc: 0.8133 | eu_auc: 0.9188 | eu_acc: 0.9057\n",
      "\ttest: cos_auc: 0.7620 | cos_acc: 0.6429 | eu_auc: 0.7676 | eu_acc: 0.7660\n",
      "\tSaving model and optimizer state to /kaggle/working/checkpoint/magface/normalmap/models/checkpoint.pth\n",
      "\tEpoch 273: EarlyStopping counter for 'test_cosine_auc': 88/50\n",
      "\tEpoch 273: EarlyStopping counter for 'test_cosine_accuracy': 56/50\n",
      "\tEpoch 273: EarlyStopping counter for 'test_euclidean_auc': 42/50\n",
      "\tEpoch 273: EarlyStopping counter for 'test_euclidean_accuracy': 19/50\n"
     ]
    },
    {
     "name": "stderr",
     "output_type": "stream",
     "text": [
      "/usr/lib/python3.10/multiprocessing/popen_fork.py:66: RuntimeWarning: os.fork() was called. os.fork() is incompatible with multithreaded code, and JAX is multithreaded, so this will likely lead to a deadlock.\n",
      "  self.pid = os.fork()\n",
      "/usr/lib/python3.10/multiprocessing/popen_fork.py:66: RuntimeWarning: os.fork() was called. os.fork() is incompatible with multithreaded code, and JAX is multithreaded, so this will likely lead to a deadlock.\n",
      "  self.pid = os.fork()\n"
     ]
    },
    {
     "name": "stdout",
     "output_type": "stream",
     "text": [
      "Epoch 274:\n",
      "\ttrain: loss 1.685 | loss id   1.66 | top_1_acc 0.8459 | top_5_acc 0.9831 | cos_auc: 0.9505 | cos_acc: 0.8355 | eu_auc: 0.9307 | eu_acc: 0.9030\n",
      "\ttest: cos_auc: 0.7955 | cos_acc: 0.7693 | eu_auc: 0.7664 | eu_acc: 0.8446\n",
      "\tSaving model and optimizer state to /kaggle/working/checkpoint/magface/normalmap/models/checkpoint.pth\n",
      "\tEpoch 274: EarlyStopping counter for 'test_cosine_auc': 89/50\n",
      "\tEpoch 274: EarlyStopping counter for 'test_cosine_accuracy': 57/50\n",
      "\tEpoch 274: EarlyStopping counter for 'test_euclidean_auc': 43/50\n",
      "\tEpoch 274: EarlyStopping counter for 'test_euclidean_accuracy': 20/50\n"
     ]
    },
    {
     "name": "stderr",
     "output_type": "stream",
     "text": [
      "/usr/lib/python3.10/multiprocessing/popen_fork.py:66: RuntimeWarning: os.fork() was called. os.fork() is incompatible with multithreaded code, and JAX is multithreaded, so this will likely lead to a deadlock.\n",
      "  self.pid = os.fork()\n",
      "/usr/lib/python3.10/multiprocessing/popen_fork.py:66: RuntimeWarning: os.fork() was called. os.fork() is incompatible with multithreaded code, and JAX is multithreaded, so this will likely lead to a deadlock.\n",
      "  self.pid = os.fork()\n"
     ]
    },
    {
     "name": "stdout",
     "output_type": "stream",
     "text": [
      "Epoch 275:\n",
      "\ttrain: loss 1.682 | loss id   1.66 | top_1_acc 0.8650 | top_5_acc 0.9764 | cos_auc: 0.9522 | cos_acc: 0.8612 | eu_auc: 0.9263 | eu_acc: 0.9174\n",
      "\ttest: cos_auc: 0.7943 | cos_acc: 0.7721 | eu_auc: 0.7652 | eu_acc: 0.8206\n",
      "\tSaving model and optimizer state to /kaggle/working/checkpoint/magface/normalmap/models/checkpoint.pth\n",
      "\tEpoch 275: EarlyStopping counter for 'test_cosine_auc': 90/50\n",
      "\tEpoch 275: EarlyStopping counter for 'test_cosine_accuracy': 58/50\n",
      "\tEpoch 275: EarlyStopping counter for 'test_euclidean_auc': 44/50\n",
      "\tEpoch 275: EarlyStopping counter for 'test_euclidean_accuracy': 21/50\n"
     ]
    },
    {
     "name": "stderr",
     "output_type": "stream",
     "text": [
      "/usr/lib/python3.10/multiprocessing/popen_fork.py:66: RuntimeWarning: os.fork() was called. os.fork() is incompatible with multithreaded code, and JAX is multithreaded, so this will likely lead to a deadlock.\n",
      "  self.pid = os.fork()\n",
      "/usr/lib/python3.10/multiprocessing/popen_fork.py:66: RuntimeWarning: os.fork() was called. os.fork() is incompatible with multithreaded code, and JAX is multithreaded, so this will likely lead to a deadlock.\n",
      "  self.pid = os.fork()\n"
     ]
    },
    {
     "name": "stdout",
     "output_type": "stream",
     "text": [
      "Epoch 276:\n",
      "\ttrain: loss 1.630 | loss id   1.61 | top_1_acc 0.8830 | top_5_acc 0.9854 | cos_auc: 0.9511 | cos_acc: 0.8327 | eu_auc: 0.9340 | eu_acc: 0.9121\n",
      "\ttest: cos_auc: 0.7856 | cos_acc: 0.6856 | eu_auc: 0.7649 | eu_acc: 0.8159\n",
      "\tSaving model and optimizer state to /kaggle/working/checkpoint/magface/normalmap/models/checkpoint.pth\n",
      "\tEpoch 276: EarlyStopping counter for 'test_cosine_auc': 91/50\n",
      "\tEpoch 276: EarlyStopping counter for 'test_cosine_accuracy': 59/50\n",
      "\tEpoch 276: EarlyStopping counter for 'test_euclidean_auc': 45/50\n",
      "\tEpoch 276: EarlyStopping counter for 'test_euclidean_accuracy': 22/50\n"
     ]
    },
    {
     "name": "stderr",
     "output_type": "stream",
     "text": [
      "/usr/lib/python3.10/multiprocessing/popen_fork.py:66: RuntimeWarning: os.fork() was called. os.fork() is incompatible with multithreaded code, and JAX is multithreaded, so this will likely lead to a deadlock.\n",
      "  self.pid = os.fork()\n",
      "/usr/lib/python3.10/multiprocessing/popen_fork.py:66: RuntimeWarning: os.fork() was called. os.fork() is incompatible with multithreaded code, and JAX is multithreaded, so this will likely lead to a deadlock.\n",
      "  self.pid = os.fork()\n"
     ]
    },
    {
     "name": "stdout",
     "output_type": "stream",
     "text": [
      "Epoch 277:\n",
      "\ttrain: loss 1.740 | loss id   1.72 | top_1_acc 0.8751 | top_5_acc 0.9820 | cos_auc: 0.9488 | cos_acc: 0.8669 | eu_auc: 0.9265 | eu_acc: 0.9433\n",
      "\ttest: cos_auc: 0.7933 | cos_acc: 0.7566 | eu_auc: 0.7567 | eu_acc: 0.8394\n",
      "\tSaving model and optimizer state to /kaggle/working/checkpoint/magface/normalmap/models/checkpoint.pth\n",
      "\tEpoch 277: EarlyStopping counter for 'test_cosine_auc': 92/50\n",
      "\tEpoch 277: EarlyStopping counter for 'test_cosine_accuracy': 60/50\n",
      "\tEpoch 277: EarlyStopping counter for 'test_euclidean_auc': 46/50\n",
      "\tEpoch 277: EarlyStopping counter for 'test_euclidean_accuracy': 23/50\n"
     ]
    },
    {
     "name": "stderr",
     "output_type": "stream",
     "text": [
      "/usr/lib/python3.10/multiprocessing/popen_fork.py:66: RuntimeWarning: os.fork() was called. os.fork() is incompatible with multithreaded code, and JAX is multithreaded, so this will likely lead to a deadlock.\n",
      "  self.pid = os.fork()\n",
      "/usr/lib/python3.10/multiprocessing/popen_fork.py:66: RuntimeWarning: os.fork() was called. os.fork() is incompatible with multithreaded code, and JAX is multithreaded, so this will likely lead to a deadlock.\n",
      "  self.pid = os.fork()\n"
     ]
    },
    {
     "name": "stdout",
     "output_type": "stream",
     "text": [
      "Epoch 278:\n",
      "\ttrain: loss 1.746 | loss id   1.72 | top_1_acc 0.8898 | top_5_acc 0.9854 | cos_auc: 0.9547 | cos_acc: 0.8459 | eu_auc: 0.9304 | eu_acc: 0.9311\n",
      "\ttest: cos_auc: 0.7992 | cos_acc: 0.7480 | eu_auc: 0.7609 | eu_acc: 0.8259\n",
      "\tSaving model and optimizer state to /kaggle/working/checkpoint/magface/normalmap/models/checkpoint.pth\n",
      "\tEpoch 278: EarlyStopping counter for 'test_cosine_auc': 93/50\n",
      "\tEpoch 278: EarlyStopping counter for 'test_cosine_accuracy': 61/50\n",
      "\tEpoch 278: EarlyStopping counter for 'test_euclidean_auc': 47/50\n",
      "\tEpoch 278: EarlyStopping counter for 'test_euclidean_accuracy': 24/50\n"
     ]
    },
    {
     "name": "stderr",
     "output_type": "stream",
     "text": [
      "/usr/lib/python3.10/multiprocessing/popen_fork.py:66: RuntimeWarning: os.fork() was called. os.fork() is incompatible with multithreaded code, and JAX is multithreaded, so this will likely lead to a deadlock.\n",
      "  self.pid = os.fork()\n",
      "/usr/lib/python3.10/multiprocessing/popen_fork.py:66: RuntimeWarning: os.fork() was called. os.fork() is incompatible with multithreaded code, and JAX is multithreaded, so this will likely lead to a deadlock.\n",
      "  self.pid = os.fork()\n"
     ]
    },
    {
     "name": "stdout",
     "output_type": "stream",
     "text": [
      "Epoch 279:\n",
      "\ttrain: loss 1.723 | loss id   1.70 | top_1_acc 0.8864 | top_5_acc 0.9843 | cos_auc: 0.9481 | cos_acc: 0.8408 | eu_auc: 0.9224 | eu_acc: 0.9123\n",
      "\ttest: cos_auc: 0.7898 | cos_acc: 0.7277 | eu_auc: 0.7616 | eu_acc: 0.7912\n",
      "\tSaving model and optimizer state to /kaggle/working/checkpoint/magface/normalmap/models/checkpoint.pth\n",
      "\tEpoch 279: EarlyStopping counter for 'test_cosine_auc': 94/50\n",
      "\tEpoch 279: EarlyStopping counter for 'test_cosine_accuracy': 62/50\n",
      "\tEpoch 279: EarlyStopping counter for 'test_euclidean_auc': 48/50\n",
      "\tEpoch 279: EarlyStopping counter for 'test_euclidean_accuracy': 25/50\n"
     ]
    },
    {
     "name": "stderr",
     "output_type": "stream",
     "text": [
      "/usr/lib/python3.10/multiprocessing/popen_fork.py:66: RuntimeWarning: os.fork() was called. os.fork() is incompatible with multithreaded code, and JAX is multithreaded, so this will likely lead to a deadlock.\n",
      "  self.pid = os.fork()\n",
      "/usr/lib/python3.10/multiprocessing/popen_fork.py:66: RuntimeWarning: os.fork() was called. os.fork() is incompatible with multithreaded code, and JAX is multithreaded, so this will likely lead to a deadlock.\n",
      "  self.pid = os.fork()\n"
     ]
    },
    {
     "name": "stdout",
     "output_type": "stream",
     "text": [
      "Epoch 280:\n",
      "\ttrain: loss 1.701 | loss id   1.68 | top_1_acc 0.8706 | top_5_acc 0.9865 | cos_auc: 0.9555 | cos_acc: 0.8335 | eu_auc: 0.9402 | eu_acc: 0.9297\n",
      "\ttest: cos_auc: 0.7898 | cos_acc: 0.7329 | eu_auc: 0.7633 | eu_acc: 0.8171\n",
      "\tSaving model and optimizer state to /kaggle/working/checkpoint/magface/normalmap/models/checkpoint.pth\n",
      "\tEpoch 280: EarlyStopping counter for 'test_cosine_auc': 95/50\n",
      "\tEpoch 280: EarlyStopping counter for 'test_cosine_accuracy': 63/50\n",
      "\tEpoch 280: EarlyStopping counter for 'test_euclidean_auc': 49/50\n",
      "\tEpoch 280: EarlyStopping counter for 'test_euclidean_accuracy': 26/50\n"
     ]
    },
    {
     "name": "stderr",
     "output_type": "stream",
     "text": [
      "/usr/lib/python3.10/multiprocessing/popen_fork.py:66: RuntimeWarning: os.fork() was called. os.fork() is incompatible with multithreaded code, and JAX is multithreaded, so this will likely lead to a deadlock.\n",
      "  self.pid = os.fork()\n",
      "/usr/lib/python3.10/multiprocessing/popen_fork.py:66: RuntimeWarning: os.fork() was called. os.fork() is incompatible with multithreaded code, and JAX is multithreaded, so this will likely lead to a deadlock.\n",
      "  self.pid = os.fork()\n"
     ]
    },
    {
     "name": "stdout",
     "output_type": "stream",
     "text": [
      "Epoch 281:\n",
      "\ttrain: loss 2.105 | loss id   2.08 | top_1_acc 0.7334 | top_5_acc 0.9258 | cos_auc: 0.9583 | cos_acc: 0.9222 | eu_auc: 0.9339 | eu_acc: 0.9024\n",
      "\ttest: cos_auc: 0.8254 | cos_acc: 0.8859 | eu_auc: 0.8062 | eu_acc: 0.8191\n",
      "\tSaving model and optimizer state to /kaggle/working/checkpoint/magface/normalmap/models/checkpoint.pth\n",
      "\tEpoch 281: EarlyStopping counter for 'test_cosine_auc': 96/50\n",
      "\tEpoch 281: EarlyStopping counter for 'test_cosine_accuracy': 64/50\n",
      "\tEpoch 281: EarlyStopping counter for 'test_euclidean_auc': 50/50\n",
      "\tEpoch 281: EarlyStopping counter for 'test_euclidean_accuracy': 27/50\n"
     ]
    },
    {
     "name": "stderr",
     "output_type": "stream",
     "text": [
      "/usr/lib/python3.10/multiprocessing/popen_fork.py:66: RuntimeWarning: os.fork() was called. os.fork() is incompatible with multithreaded code, and JAX is multithreaded, so this will likely lead to a deadlock.\n",
      "  self.pid = os.fork()\n",
      "/usr/lib/python3.10/multiprocessing/popen_fork.py:66: RuntimeWarning: os.fork() was called. os.fork() is incompatible with multithreaded code, and JAX is multithreaded, so this will likely lead to a deadlock.\n",
      "  self.pid = os.fork()\n"
     ]
    },
    {
     "name": "stdout",
     "output_type": "stream",
     "text": [
      "Epoch 282:\n",
      "\ttrain: loss 2.209 | loss id   2.19 | top_1_acc 0.7447 | top_5_acc 0.9359 | cos_auc: 0.9713 | cos_acc: 0.8960 | eu_auc: 0.9625 | eu_acc: 0.9059\n",
      "\ttest: cos_auc: 0.8469 | cos_acc: 0.7221 | eu_auc: 0.8431 | eu_acc: 0.8515\n",
      "\tSaving model and optimizer state to /kaggle/working/checkpoint/magface/normalmap/models/checkpoint.pth\n",
      "\tSaved best model weights for 'test_cosine_auc' at epoch 282 to '/kaggle/working/checkpoint/magface/normalmap/models/best_test_cosine_auc_282.pth'\n",
      "\tEpoch 282: EarlyStopping counter for 'test_cosine_accuracy': 65/50\n",
      "\tSaved best model weights for 'test_euclidean_auc' at epoch 282 to '/kaggle/working/checkpoint/magface/normalmap/models/best_test_euclidean_auc_282.pth'\n",
      "\tEpoch 282: EarlyStopping counter for 'test_euclidean_accuracy': 28/50\n"
     ]
    },
    {
     "name": "stderr",
     "output_type": "stream",
     "text": [
      "/usr/lib/python3.10/multiprocessing/popen_fork.py:66: RuntimeWarning: os.fork() was called. os.fork() is incompatible with multithreaded code, and JAX is multithreaded, so this will likely lead to a deadlock.\n",
      "  self.pid = os.fork()\n",
      "/usr/lib/python3.10/multiprocessing/popen_fork.py:66: RuntimeWarning: os.fork() was called. os.fork() is incompatible with multithreaded code, and JAX is multithreaded, so this will likely lead to a deadlock.\n",
      "  self.pid = os.fork()\n"
     ]
    },
    {
     "name": "stdout",
     "output_type": "stream",
     "text": [
      "Epoch 283:\n",
      "\ttrain: loss 2.112 | loss id   2.09 | top_1_acc 0.7525 | top_5_acc 0.9483 | cos_auc: 0.9871 | cos_acc: 0.9399 | eu_auc: 0.9784 | eu_acc: 0.9450\n",
      "\ttest: cos_auc: 0.8422 | cos_acc: 0.7982 | eu_auc: 0.8349 | eu_acc: 0.8290\n",
      "\tSaving model and optimizer state to /kaggle/working/checkpoint/magface/normalmap/models/checkpoint.pth\n",
      "\tEpoch 283: EarlyStopping counter for 'test_cosine_auc': 1/50\n",
      "\tEpoch 283: EarlyStopping counter for 'test_cosine_accuracy': 66/50\n",
      "\tEpoch 283: EarlyStopping counter for 'test_euclidean_auc': 1/50\n",
      "\tEpoch 283: EarlyStopping counter for 'test_euclidean_accuracy': 29/50\n"
     ]
    },
    {
     "name": "stderr",
     "output_type": "stream",
     "text": [
      "/usr/lib/python3.10/multiprocessing/popen_fork.py:66: RuntimeWarning: os.fork() was called. os.fork() is incompatible with multithreaded code, and JAX is multithreaded, so this will likely lead to a deadlock.\n",
      "  self.pid = os.fork()\n",
      "/usr/lib/python3.10/multiprocessing/popen_fork.py:66: RuntimeWarning: os.fork() was called. os.fork() is incompatible with multithreaded code, and JAX is multithreaded, so this will likely lead to a deadlock.\n",
      "  self.pid = os.fork()\n"
     ]
    },
    {
     "name": "stdout",
     "output_type": "stream",
     "text": [
      "Epoch 284:\n",
      "\ttrain: loss 1.992 | loss id   1.97 | top_1_acc 0.7953 | top_5_acc 0.9539 | cos_auc: 0.9892 | cos_acc: 0.9417 | eu_auc: 0.9742 | eu_acc: 0.9323\n",
      "\ttest: cos_auc: 0.8284 | cos_acc: 0.8185 | eu_auc: 0.8097 | eu_acc: 0.8334\n",
      "\tSaving model and optimizer state to /kaggle/working/checkpoint/magface/normalmap/models/checkpoint.pth\n",
      "\tEpoch 284: EarlyStopping counter for 'test_cosine_auc': 2/50\n",
      "\tEpoch 284: EarlyStopping counter for 'test_cosine_accuracy': 67/50\n",
      "\tEpoch 284: EarlyStopping counter for 'test_euclidean_auc': 2/50\n",
      "\tEpoch 284: EarlyStopping counter for 'test_euclidean_accuracy': 30/50\n"
     ]
    },
    {
     "name": "stderr",
     "output_type": "stream",
     "text": [
      "/usr/lib/python3.10/multiprocessing/popen_fork.py:66: RuntimeWarning: os.fork() was called. os.fork() is incompatible with multithreaded code, and JAX is multithreaded, so this will likely lead to a deadlock.\n",
      "  self.pid = os.fork()\n",
      "/usr/lib/python3.10/multiprocessing/popen_fork.py:66: RuntimeWarning: os.fork() was called. os.fork() is incompatible with multithreaded code, and JAX is multithreaded, so this will likely lead to a deadlock.\n",
      "  self.pid = os.fork()\n"
     ]
    },
    {
     "name": "stdout",
     "output_type": "stream",
     "text": [
      "Epoch 285:\n",
      "\ttrain: loss 1.927 | loss id   1.90 | top_1_acc 0.8166 | top_5_acc 0.9595 | cos_auc: 0.9917 | cos_acc: 0.9452 | eu_auc: 0.9827 | eu_acc: 0.9414\n",
      "\ttest: cos_auc: 0.8276 | cos_acc: 0.8473 | eu_auc: 0.8218 | eu_acc: 0.8627\n",
      "\tSaving model and optimizer state to /kaggle/working/checkpoint/magface/normalmap/models/checkpoint.pth\n",
      "\tEpoch 285: EarlyStopping counter for 'test_cosine_auc': 3/50\n",
      "\tEpoch 285: EarlyStopping counter for 'test_cosine_accuracy': 68/50\n",
      "\tEpoch 285: EarlyStopping counter for 'test_euclidean_auc': 3/50\n",
      "\tEpoch 285: EarlyStopping counter for 'test_euclidean_accuracy': 31/50\n"
     ]
    },
    {
     "name": "stderr",
     "output_type": "stream",
     "text": [
      "/usr/lib/python3.10/multiprocessing/popen_fork.py:66: RuntimeWarning: os.fork() was called. os.fork() is incompatible with multithreaded code, and JAX is multithreaded, so this will likely lead to a deadlock.\n",
      "  self.pid = os.fork()\n",
      "/usr/lib/python3.10/multiprocessing/popen_fork.py:66: RuntimeWarning: os.fork() was called. os.fork() is incompatible with multithreaded code, and JAX is multithreaded, so this will likely lead to a deadlock.\n",
      "  self.pid = os.fork()\n"
     ]
    },
    {
     "name": "stdout",
     "output_type": "stream",
     "text": [
      "Epoch 286:\n",
      "\ttrain: loss 1.912 | loss id   1.89 | top_1_acc 0.8313 | top_5_acc 0.9708 | cos_auc: 0.9865 | cos_acc: 0.9319 | eu_auc: 0.9804 | eu_acc: 0.9312\n",
      "\ttest: cos_auc: 0.7998 | cos_acc: 0.6821 | eu_auc: 0.7977 | eu_acc: 0.8317\n",
      "\tSaving model and optimizer state to /kaggle/working/checkpoint/magface/normalmap/models/checkpoint.pth\n",
      "\tEpoch 286: EarlyStopping counter for 'test_cosine_auc': 4/50\n",
      "\tEpoch 286: EarlyStopping counter for 'test_cosine_accuracy': 69/50\n",
      "\tEpoch 286: EarlyStopping counter for 'test_euclidean_auc': 4/50\n",
      "\tEpoch 286: EarlyStopping counter for 'test_euclidean_accuracy': 32/50\n"
     ]
    },
    {
     "name": "stderr",
     "output_type": "stream",
     "text": [
      "/usr/lib/python3.10/multiprocessing/popen_fork.py:66: RuntimeWarning: os.fork() was called. os.fork() is incompatible with multithreaded code, and JAX is multithreaded, so this will likely lead to a deadlock.\n",
      "  self.pid = os.fork()\n",
      "/usr/lib/python3.10/multiprocessing/popen_fork.py:66: RuntimeWarning: os.fork() was called. os.fork() is incompatible with multithreaded code, and JAX is multithreaded, so this will likely lead to a deadlock.\n",
      "  self.pid = os.fork()\n"
     ]
    },
    {
     "name": "stdout",
     "output_type": "stream",
     "text": [
      "Epoch 287:\n",
      "\ttrain: loss 1.827 | loss id   1.80 | top_1_acc 0.8515 | top_5_acc 0.9696 | cos_auc: 0.9888 | cos_acc: 0.9416 | eu_auc: 0.9789 | eu_acc: 0.9301\n",
      "\ttest: cos_auc: 0.8295 | cos_acc: 0.6561 | eu_auc: 0.8345 | eu_acc: 0.6908\n",
      "\tSaving model and optimizer state to /kaggle/working/checkpoint/magface/normalmap/models/checkpoint.pth\n",
      "\tEpoch 287: EarlyStopping counter for 'test_cosine_auc': 5/50\n",
      "\tEpoch 287: EarlyStopping counter for 'test_cosine_accuracy': 70/50\n",
      "\tEpoch 287: EarlyStopping counter for 'test_euclidean_auc': 5/50\n",
      "\tEpoch 287: EarlyStopping counter for 'test_euclidean_accuracy': 33/50\n"
     ]
    },
    {
     "name": "stderr",
     "output_type": "stream",
     "text": [
      "/usr/lib/python3.10/multiprocessing/popen_fork.py:66: RuntimeWarning: os.fork() was called. os.fork() is incompatible with multithreaded code, and JAX is multithreaded, so this will likely lead to a deadlock.\n",
      "  self.pid = os.fork()\n",
      "/usr/lib/python3.10/multiprocessing/popen_fork.py:66: RuntimeWarning: os.fork() was called. os.fork() is incompatible with multithreaded code, and JAX is multithreaded, so this will likely lead to a deadlock.\n",
      "  self.pid = os.fork()\n"
     ]
    },
    {
     "name": "stdout",
     "output_type": "stream",
     "text": [
      "Epoch 288:\n",
      "\ttrain: loss 1.798 | loss id   1.77 | top_1_acc 0.8583 | top_5_acc 0.9696 | cos_auc: 0.9902 | cos_acc: 0.9548 | eu_auc: 0.9784 | eu_acc: 0.9328\n",
      "\ttest: cos_auc: 0.8567 | cos_acc: 0.8481 | eu_auc: 0.8280 | eu_acc: 0.7995\n",
      "\tSaving model and optimizer state to /kaggle/working/checkpoint/magface/normalmap/models/checkpoint.pth\n",
      "\tSaved best model weights for 'test_cosine_auc' at epoch 288 to '/kaggle/working/checkpoint/magface/normalmap/models/best_test_cosine_auc_288.pth'\n",
      "\tEpoch 288: EarlyStopping counter for 'test_cosine_accuracy': 71/50\n",
      "\tEpoch 288: EarlyStopping counter for 'test_euclidean_auc': 6/50\n",
      "\tEpoch 288: EarlyStopping counter for 'test_euclidean_accuracy': 34/50\n"
     ]
    },
    {
     "name": "stderr",
     "output_type": "stream",
     "text": [
      "/usr/lib/python3.10/multiprocessing/popen_fork.py:66: RuntimeWarning: os.fork() was called. os.fork() is incompatible with multithreaded code, and JAX is multithreaded, so this will likely lead to a deadlock.\n",
      "  self.pid = os.fork()\n",
      "/usr/lib/python3.10/multiprocessing/popen_fork.py:66: RuntimeWarning: os.fork() was called. os.fork() is incompatible with multithreaded code, and JAX is multithreaded, so this will likely lead to a deadlock.\n",
      "  self.pid = os.fork()\n"
     ]
    },
    {
     "name": "stdout",
     "output_type": "stream",
     "text": [
      "Epoch 289:\n",
      "\ttrain: loss 1.762 | loss id   1.74 | top_1_acc 0.8650 | top_5_acc 0.9696 | cos_auc: 0.9944 | cos_acc: 0.9610 | eu_auc: 0.9889 | eu_acc: 0.9453\n",
      "\ttest: cos_auc: 0.8304 | cos_acc: 0.7521 | eu_auc: 0.8225 | eu_acc: 0.8605\n",
      "\tSaving model and optimizer state to /kaggle/working/checkpoint/magface/normalmap/models/checkpoint.pth\n",
      "\tEpoch 289: EarlyStopping counter for 'test_cosine_auc': 1/50\n",
      "\tEpoch 289: EarlyStopping counter for 'test_cosine_accuracy': 72/50\n",
      "\tEpoch 289: EarlyStopping counter for 'test_euclidean_auc': 7/50\n",
      "\tEpoch 289: EarlyStopping counter for 'test_euclidean_accuracy': 35/50\n"
     ]
    },
    {
     "name": "stderr",
     "output_type": "stream",
     "text": [
      "/usr/lib/python3.10/multiprocessing/popen_fork.py:66: RuntimeWarning: os.fork() was called. os.fork() is incompatible with multithreaded code, and JAX is multithreaded, so this will likely lead to a deadlock.\n",
      "  self.pid = os.fork()\n",
      "/usr/lib/python3.10/multiprocessing/popen_fork.py:66: RuntimeWarning: os.fork() was called. os.fork() is incompatible with multithreaded code, and JAX is multithreaded, so this will likely lead to a deadlock.\n",
      "  self.pid = os.fork()\n"
     ]
    },
    {
     "name": "stdout",
     "output_type": "stream",
     "text": [
      "Epoch 290:\n",
      "\ttrain: loss 1.700 | loss id   1.68 | top_1_acc 0.8740 | top_5_acc 0.9899 | cos_auc: 0.9934 | cos_acc: 0.9542 | eu_auc: 0.9896 | eu_acc: 0.9507\n",
      "\ttest: cos_auc: 0.8312 | cos_acc: 0.7586 | eu_auc: 0.8316 | eu_acc: 0.8394\n",
      "\tSaving model and optimizer state to /kaggle/working/checkpoint/magface/normalmap/models/checkpoint.pth\n",
      "\tEpoch 290: EarlyStopping counter for 'test_cosine_auc': 2/50\n",
      "\tEpoch 290: EarlyStopping counter for 'test_cosine_accuracy': 73/50\n",
      "\tEpoch 290: EarlyStopping counter for 'test_euclidean_auc': 8/50\n",
      "\tEpoch 290: EarlyStopping counter for 'test_euclidean_accuracy': 36/50\n"
     ]
    },
    {
     "name": "stderr",
     "output_type": "stream",
     "text": [
      "/usr/lib/python3.10/multiprocessing/popen_fork.py:66: RuntimeWarning: os.fork() was called. os.fork() is incompatible with multithreaded code, and JAX is multithreaded, so this will likely lead to a deadlock.\n",
      "  self.pid = os.fork()\n",
      "/usr/lib/python3.10/multiprocessing/popen_fork.py:66: RuntimeWarning: os.fork() was called. os.fork() is incompatible with multithreaded code, and JAX is multithreaded, so this will likely lead to a deadlock.\n",
      "  self.pid = os.fork()\n"
     ]
    },
    {
     "name": "stdout",
     "output_type": "stream",
     "text": [
      "Epoch 291:\n",
      "\ttrain: loss 1.683 | loss id   1.66 | top_1_acc 0.8785 | top_5_acc 0.9910 | cos_auc: 0.9939 | cos_acc: 0.9554 | eu_auc: 0.9875 | eu_acc: 0.9553\n",
      "\ttest: cos_auc: 0.8244 | cos_acc: 0.7404 | eu_auc: 0.8312 | eu_acc: 0.7761\n",
      "\tSaving model and optimizer state to /kaggle/working/checkpoint/magface/normalmap/models/checkpoint.pth\n",
      "\tEpoch 291: EarlyStopping counter for 'test_cosine_auc': 3/50\n",
      "\tEpoch 291: EarlyStopping counter for 'test_cosine_accuracy': 74/50\n",
      "\tEpoch 291: EarlyStopping counter for 'test_euclidean_auc': 9/50\n",
      "\tEpoch 291: EarlyStopping counter for 'test_euclidean_accuracy': 37/50\n"
     ]
    },
    {
     "name": "stderr",
     "output_type": "stream",
     "text": [
      "/usr/lib/python3.10/multiprocessing/popen_fork.py:66: RuntimeWarning: os.fork() was called. os.fork() is incompatible with multithreaded code, and JAX is multithreaded, so this will likely lead to a deadlock.\n",
      "  self.pid = os.fork()\n",
      "/usr/lib/python3.10/multiprocessing/popen_fork.py:66: RuntimeWarning: os.fork() was called. os.fork() is incompatible with multithreaded code, and JAX is multithreaded, so this will likely lead to a deadlock.\n",
      "  self.pid = os.fork()\n"
     ]
    },
    {
     "name": "stdout",
     "output_type": "stream",
     "text": [
      "Epoch 292:\n",
      "\ttrain: loss 1.627 | loss id   1.60 | top_1_acc 0.9111 | top_5_acc 0.9933 | cos_auc: 0.9939 | cos_acc: 0.9569 | eu_auc: 0.9904 | eu_acc: 0.9474\n",
      "\ttest: cos_auc: 0.8130 | cos_acc: 0.8013 | eu_auc: 0.8176 | eu_acc: 0.8586\n",
      "\tSaving model and optimizer state to /kaggle/working/checkpoint/magface/normalmap/models/checkpoint.pth\n",
      "\tEpoch 292: EarlyStopping counter for 'test_cosine_auc': 4/50\n",
      "\tEpoch 292: EarlyStopping counter for 'test_cosine_accuracy': 75/50\n",
      "\tEpoch 292: EarlyStopping counter for 'test_euclidean_auc': 10/50\n",
      "\tEpoch 292: EarlyStopping counter for 'test_euclidean_accuracy': 38/50\n"
     ]
    },
    {
     "name": "stderr",
     "output_type": "stream",
     "text": [
      "/usr/lib/python3.10/multiprocessing/popen_fork.py:66: RuntimeWarning: os.fork() was called. os.fork() is incompatible with multithreaded code, and JAX is multithreaded, so this will likely lead to a deadlock.\n",
      "  self.pid = os.fork()\n",
      "/usr/lib/python3.10/multiprocessing/popen_fork.py:66: RuntimeWarning: os.fork() was called. os.fork() is incompatible with multithreaded code, and JAX is multithreaded, so this will likely lead to a deadlock.\n",
      "  self.pid = os.fork()\n"
     ]
    },
    {
     "name": "stdout",
     "output_type": "stream",
     "text": [
      "Epoch 293:\n",
      "\ttrain: loss 1.554 | loss id   1.53 | top_1_acc 0.9303 | top_5_acc 0.9865 | cos_auc: 0.9950 | cos_acc: 0.9592 | eu_auc: 0.9885 | eu_acc: 0.9639\n",
      "\ttest: cos_auc: 0.8398 | cos_acc: 0.8117 | eu_auc: 0.8209 | eu_acc: 0.8279\n",
      "\tSaving model and optimizer state to /kaggle/working/checkpoint/magface/normalmap/models/checkpoint.pth\n",
      "\tEpoch 293: EarlyStopping counter for 'test_cosine_auc': 5/50\n",
      "\tEpoch 293: EarlyStopping counter for 'test_cosine_accuracy': 76/50\n",
      "\tEpoch 293: EarlyStopping counter for 'test_euclidean_auc': 11/50\n",
      "\tEpoch 293: EarlyStopping counter for 'test_euclidean_accuracy': 39/50\n"
     ]
    },
    {
     "name": "stderr",
     "output_type": "stream",
     "text": [
      "/usr/lib/python3.10/multiprocessing/popen_fork.py:66: RuntimeWarning: os.fork() was called. os.fork() is incompatible with multithreaded code, and JAX is multithreaded, so this will likely lead to a deadlock.\n",
      "  self.pid = os.fork()\n",
      "/usr/lib/python3.10/multiprocessing/popen_fork.py:66: RuntimeWarning: os.fork() was called. os.fork() is incompatible with multithreaded code, and JAX is multithreaded, so this will likely lead to a deadlock.\n",
      "  self.pid = os.fork()\n"
     ]
    },
    {
     "name": "stdout",
     "output_type": "stream",
     "text": [
      "Epoch 294:\n",
      "\ttrain: loss 1.531 | loss id   1.51 | top_1_acc 0.9201 | top_5_acc 0.9865 | cos_auc: 0.9964 | cos_acc: 0.9647 | eu_auc: 0.9917 | eu_acc: 0.9661\n",
      "\ttest: cos_auc: 0.8119 | cos_acc: 0.8039 | eu_auc: 0.8313 | eu_acc: 0.7198\n",
      "\tSaving model and optimizer state to /kaggle/working/checkpoint/magface/normalmap/models/checkpoint.pth\n",
      "\tEpoch 294: EarlyStopping counter for 'test_cosine_auc': 6/50\n",
      "\tEpoch 294: EarlyStopping counter for 'test_cosine_accuracy': 77/50\n",
      "\tEpoch 294: EarlyStopping counter for 'test_euclidean_auc': 12/50\n",
      "\tEpoch 294: EarlyStopping counter for 'test_euclidean_accuracy': 40/50\n"
     ]
    },
    {
     "name": "stderr",
     "output_type": "stream",
     "text": [
      "/usr/lib/python3.10/multiprocessing/popen_fork.py:66: RuntimeWarning: os.fork() was called. os.fork() is incompatible with multithreaded code, and JAX is multithreaded, so this will likely lead to a deadlock.\n",
      "  self.pid = os.fork()\n",
      "/usr/lib/python3.10/multiprocessing/popen_fork.py:66: RuntimeWarning: os.fork() was called. os.fork() is incompatible with multithreaded code, and JAX is multithreaded, so this will likely lead to a deadlock.\n",
      "  self.pid = os.fork()\n"
     ]
    },
    {
     "name": "stdout",
     "output_type": "stream",
     "text": [
      "Epoch 295:\n",
      "\ttrain: loss 1.560 | loss id   1.54 | top_1_acc 0.9134 | top_5_acc 0.9933 | cos_auc: 0.9950 | cos_acc: 0.9627 | eu_auc: 0.9903 | eu_acc: 0.9481\n",
      "\ttest: cos_auc: 0.8203 | cos_acc: 0.7047 | eu_auc: 0.8387 | eu_acc: 0.8255\n",
      "\tSaving model and optimizer state to /kaggle/working/checkpoint/magface/normalmap/models/checkpoint.pth\n",
      "\tEpoch 295: EarlyStopping counter for 'test_cosine_auc': 7/50\n",
      "\tEpoch 295: EarlyStopping counter for 'test_cosine_accuracy': 78/50\n",
      "\tEpoch 295: EarlyStopping counter for 'test_euclidean_auc': 13/50\n",
      "\tEpoch 295: EarlyStopping counter for 'test_euclidean_accuracy': 41/50\n"
     ]
    },
    {
     "name": "stderr",
     "output_type": "stream",
     "text": [
      "/usr/lib/python3.10/multiprocessing/popen_fork.py:66: RuntimeWarning: os.fork() was called. os.fork() is incompatible with multithreaded code, and JAX is multithreaded, so this will likely lead to a deadlock.\n",
      "  self.pid = os.fork()\n",
      "/usr/lib/python3.10/multiprocessing/popen_fork.py:66: RuntimeWarning: os.fork() was called. os.fork() is incompatible with multithreaded code, and JAX is multithreaded, so this will likely lead to a deadlock.\n",
      "  self.pid = os.fork()\n"
     ]
    },
    {
     "name": "stdout",
     "output_type": "stream",
     "text": [
      "Epoch 296:\n",
      "\ttrain: loss 1.549 | loss id   1.53 | top_1_acc 0.9235 | top_5_acc 0.9899 | cos_auc: 0.9970 | cos_acc: 0.9731 | eu_auc: 0.9943 | eu_acc: 0.9622\n",
      "\ttest: cos_auc: 0.8277 | cos_acc: 0.6993 | eu_auc: 0.8348 | eu_acc: 0.7505\n",
      "\tSaving model and optimizer state to /kaggle/working/checkpoint/magface/normalmap/models/checkpoint.pth\n",
      "\tEpoch 296: EarlyStopping counter for 'test_cosine_auc': 8/50\n",
      "\tEpoch 296: EarlyStopping counter for 'test_cosine_accuracy': 79/50\n",
      "\tEpoch 296: EarlyStopping counter for 'test_euclidean_auc': 14/50\n",
      "\tEpoch 296: EarlyStopping counter for 'test_euclidean_accuracy': 42/50\n"
     ]
    },
    {
     "name": "stderr",
     "output_type": "stream",
     "text": [
      "/usr/lib/python3.10/multiprocessing/popen_fork.py:66: RuntimeWarning: os.fork() was called. os.fork() is incompatible with multithreaded code, and JAX is multithreaded, so this will likely lead to a deadlock.\n",
      "  self.pid = os.fork()\n",
      "/usr/lib/python3.10/multiprocessing/popen_fork.py:66: RuntimeWarning: os.fork() was called. os.fork() is incompatible with multithreaded code, and JAX is multithreaded, so this will likely lead to a deadlock.\n",
      "  self.pid = os.fork()\n"
     ]
    },
    {
     "name": "stdout",
     "output_type": "stream",
     "text": [
      "Epoch 297:\n",
      "\ttrain: loss 1.504 | loss id   1.48 | top_1_acc 0.9235 | top_5_acc 0.9899 | cos_auc: 0.9975 | cos_acc: 0.9781 | eu_auc: 0.9915 | eu_acc: 0.9613\n",
      "\ttest: cos_auc: 0.8084 | cos_acc: 0.8622 | eu_auc: 0.8097 | eu_acc: 0.9015\n",
      "\tSaving model and optimizer state to /kaggle/working/checkpoint/magface/normalmap/models/checkpoint.pth\n",
      "\tEpoch 297: EarlyStopping counter for 'test_cosine_auc': 9/50\n",
      "\tEpoch 297: EarlyStopping counter for 'test_cosine_accuracy': 80/50\n",
      "\tEpoch 297: EarlyStopping counter for 'test_euclidean_auc': 15/50\n",
      "\tEpoch 297: EarlyStopping counter for 'test_euclidean_accuracy': 43/50\n"
     ]
    },
    {
     "name": "stderr",
     "output_type": "stream",
     "text": [
      "/usr/lib/python3.10/multiprocessing/popen_fork.py:66: RuntimeWarning: os.fork() was called. os.fork() is incompatible with multithreaded code, and JAX is multithreaded, so this will likely lead to a deadlock.\n",
      "  self.pid = os.fork()\n",
      "/usr/lib/python3.10/multiprocessing/popen_fork.py:66: RuntimeWarning: os.fork() was called. os.fork() is incompatible with multithreaded code, and JAX is multithreaded, so this will likely lead to a deadlock.\n",
      "  self.pid = os.fork()\n"
     ]
    },
    {
     "name": "stdout",
     "output_type": "stream",
     "text": [
      "Epoch 298:\n",
      "\ttrain: loss 1.422 | loss id   1.40 | top_1_acc 0.9404 | top_5_acc 0.9944 | cos_auc: 0.9967 | cos_acc: 0.9743 | eu_auc: 0.9920 | eu_acc: 0.9548\n",
      "\ttest: cos_auc: 0.8227 | cos_acc: 0.7993 | eu_auc: 0.8276 | eu_acc: 0.8166\n",
      "\tSaving model and optimizer state to /kaggle/working/checkpoint/magface/normalmap/models/checkpoint.pth\n",
      "\tEpoch 298: EarlyStopping counter for 'test_cosine_auc': 10/50\n",
      "\tEpoch 298: EarlyStopping counter for 'test_cosine_accuracy': 81/50\n",
      "\tEpoch 298: EarlyStopping counter for 'test_euclidean_auc': 16/50\n",
      "\tEpoch 298: EarlyStopping counter for 'test_euclidean_accuracy': 44/50\n"
     ]
    },
    {
     "name": "stderr",
     "output_type": "stream",
     "text": [
      "/usr/lib/python3.10/multiprocessing/popen_fork.py:66: RuntimeWarning: os.fork() was called. os.fork() is incompatible with multithreaded code, and JAX is multithreaded, so this will likely lead to a deadlock.\n",
      "  self.pid = os.fork()\n",
      "/usr/lib/python3.10/multiprocessing/popen_fork.py:66: RuntimeWarning: os.fork() was called. os.fork() is incompatible with multithreaded code, and JAX is multithreaded, so this will likely lead to a deadlock.\n",
      "  self.pid = os.fork()\n"
     ]
    },
    {
     "name": "stdout",
     "output_type": "stream",
     "text": [
      "Epoch 299:\n",
      "\ttrain: loss 1.402 | loss id   1.38 | top_1_acc 0.9415 | top_5_acc 0.9933 | cos_auc: 0.9981 | cos_acc: 0.9775 | eu_auc: 0.9944 | eu_acc: 0.9735\n",
      "\ttest: cos_auc: 0.8211 | cos_acc: 0.7596 | eu_auc: 0.8149 | eu_acc: 0.7921\n",
      "\tSaving model and optimizer state to /kaggle/working/checkpoint/magface/normalmap/models/checkpoint.pth\n",
      "\tEpoch 299: EarlyStopping counter for 'test_cosine_auc': 11/50\n",
      "\tEpoch 299: EarlyStopping counter for 'test_cosine_accuracy': 82/50\n",
      "\tEpoch 299: EarlyStopping counter for 'test_euclidean_auc': 17/50\n",
      "\tEpoch 299: EarlyStopping counter for 'test_euclidean_accuracy': 45/50\n"
     ]
    },
    {
     "name": "stderr",
     "output_type": "stream",
     "text": [
      "/usr/lib/python3.10/multiprocessing/popen_fork.py:66: RuntimeWarning: os.fork() was called. os.fork() is incompatible with multithreaded code, and JAX is multithreaded, so this will likely lead to a deadlock.\n",
      "  self.pid = os.fork()\n",
      "/usr/lib/python3.10/multiprocessing/popen_fork.py:66: RuntimeWarning: os.fork() was called. os.fork() is incompatible with multithreaded code, and JAX is multithreaded, so this will likely lead to a deadlock.\n",
      "  self.pid = os.fork()\n"
     ]
    },
    {
     "name": "stdout",
     "output_type": "stream",
     "text": [
      "Epoch 300:\n",
      "\ttrain: loss 1.374 | loss id   1.35 | top_1_acc 0.9449 | top_5_acc 0.9933 | cos_auc: 0.9976 | cos_acc: 0.9766 | eu_auc: 0.9928 | eu_acc: 0.9588\n",
      "\ttest: cos_auc: 0.8199 | cos_acc: 0.7685 | eu_auc: 0.8098 | eu_acc: 0.8066\n",
      "\tSaving model and optimizer state to /kaggle/working/checkpoint/magface/normalmap/models/checkpoint.pth\n",
      "\tEpoch 300: EarlyStopping counter for 'test_cosine_auc': 12/50\n",
      "\tEpoch 300: EarlyStopping counter for 'test_cosine_accuracy': 83/50\n",
      "\tEpoch 300: EarlyStopping counter for 'test_euclidean_auc': 18/50\n",
      "\tEpoch 300: EarlyStopping counter for 'test_euclidean_accuracy': 46/50\n"
     ]
    },
    {
     "name": "stderr",
     "output_type": "stream",
     "text": [
      "/usr/lib/python3.10/multiprocessing/popen_fork.py:66: RuntimeWarning: os.fork() was called. os.fork() is incompatible with multithreaded code, and JAX is multithreaded, so this will likely lead to a deadlock.\n",
      "  self.pid = os.fork()\n",
      "/usr/lib/python3.10/multiprocessing/popen_fork.py:66: RuntimeWarning: os.fork() was called. os.fork() is incompatible with multithreaded code, and JAX is multithreaded, so this will likely lead to a deadlock.\n",
      "  self.pid = os.fork()\n"
     ]
    },
    {
     "name": "stdout",
     "output_type": "stream",
     "text": [
      "Epoch 301:\n",
      "\ttrain: loss 1.384 | loss id   1.36 | top_1_acc 0.9415 | top_5_acc 0.9944 | cos_auc: 0.9989 | cos_acc: 0.9794 | eu_auc: 0.9948 | eu_acc: 0.9716\n",
      "\ttest: cos_auc: 0.8202 | cos_acc: 0.7796 | eu_auc: 0.8140 | eu_acc: 0.8838\n",
      "\tSaving model and optimizer state to /kaggle/working/checkpoint/magface/normalmap/models/checkpoint.pth\n",
      "\tEpoch 301: EarlyStopping counter for 'test_cosine_auc': 13/50\n",
      "\tEpoch 301: EarlyStopping counter for 'test_cosine_accuracy': 84/50\n",
      "\tEpoch 301: EarlyStopping counter for 'test_euclidean_auc': 19/50\n",
      "\tEpoch 301: EarlyStopping counter for 'test_euclidean_accuracy': 47/50\n"
     ]
    },
    {
     "name": "stderr",
     "output_type": "stream",
     "text": [
      "/usr/lib/python3.10/multiprocessing/popen_fork.py:66: RuntimeWarning: os.fork() was called. os.fork() is incompatible with multithreaded code, and JAX is multithreaded, so this will likely lead to a deadlock.\n",
      "  self.pid = os.fork()\n",
      "/usr/lib/python3.10/multiprocessing/popen_fork.py:66: RuntimeWarning: os.fork() was called. os.fork() is incompatible with multithreaded code, and JAX is multithreaded, so this will likely lead to a deadlock.\n",
      "  self.pid = os.fork()\n"
     ]
    },
    {
     "name": "stdout",
     "output_type": "stream",
     "text": [
      "Epoch 302:\n",
      "\ttrain: loss 1.320 | loss id   1.30 | top_1_acc 0.9606 | top_5_acc 0.9966 | cos_auc: 0.9988 | cos_acc: 0.9853 | eu_auc: 0.9954 | eu_acc: 0.9714\n",
      "\ttest: cos_auc: 0.8141 | cos_acc: 0.7628 | eu_auc: 0.8074 | eu_acc: 0.8617\n",
      "\tSaving model and optimizer state to /kaggle/working/checkpoint/magface/normalmap/models/checkpoint.pth\n",
      "\tEpoch 302: EarlyStopping counter for 'test_cosine_auc': 14/50\n",
      "\tEpoch 302: EarlyStopping counter for 'test_cosine_accuracy': 85/50\n",
      "\tEpoch 302: EarlyStopping counter for 'test_euclidean_auc': 20/50\n",
      "\tEpoch 302: EarlyStopping counter for 'test_euclidean_accuracy': 48/50\n"
     ]
    },
    {
     "name": "stderr",
     "output_type": "stream",
     "text": [
      "/usr/lib/python3.10/multiprocessing/popen_fork.py:66: RuntimeWarning: os.fork() was called. os.fork() is incompatible with multithreaded code, and JAX is multithreaded, so this will likely lead to a deadlock.\n",
      "  self.pid = os.fork()\n",
      "/usr/lib/python3.10/multiprocessing/popen_fork.py:66: RuntimeWarning: os.fork() was called. os.fork() is incompatible with multithreaded code, and JAX is multithreaded, so this will likely lead to a deadlock.\n",
      "  self.pid = os.fork()\n"
     ]
    },
    {
     "name": "stdout",
     "output_type": "stream",
     "text": [
      "Epoch 303:\n",
      "\ttrain: loss 1.305 | loss id   1.28 | top_1_acc 0.9618 | top_5_acc 0.9955 | cos_auc: 0.9989 | cos_acc: 0.9847 | eu_auc: 0.9963 | eu_acc: 0.9775\n",
      "\ttest: cos_auc: 0.8133 | cos_acc: 0.8812 | eu_auc: 0.8085 | eu_acc: 0.8792\n",
      "\tSaving model and optimizer state to /kaggle/working/checkpoint/magface/normalmap/models/checkpoint.pth\n",
      "\tEpoch 303: EarlyStopping counter for 'test_cosine_auc': 15/50\n",
      "\tEpoch 303: EarlyStopping counter for 'test_cosine_accuracy': 86/50\n",
      "\tEpoch 303: EarlyStopping counter for 'test_euclidean_auc': 21/50\n",
      "\tEpoch 303: EarlyStopping counter for 'test_euclidean_accuracy': 49/50\n"
     ]
    },
    {
     "name": "stderr",
     "output_type": "stream",
     "text": [
      "/usr/lib/python3.10/multiprocessing/popen_fork.py:66: RuntimeWarning: os.fork() was called. os.fork() is incompatible with multithreaded code, and JAX is multithreaded, so this will likely lead to a deadlock.\n",
      "  self.pid = os.fork()\n",
      "/usr/lib/python3.10/multiprocessing/popen_fork.py:66: RuntimeWarning: os.fork() was called. os.fork() is incompatible with multithreaded code, and JAX is multithreaded, so this will likely lead to a deadlock.\n",
      "  self.pid = os.fork()\n"
     ]
    },
    {
     "name": "stdout",
     "output_type": "stream",
     "text": [
      "Epoch 304:\n",
      "\ttrain: loss 1.250 | loss id   1.23 | top_1_acc 0.9696 | top_5_acc 0.9966 | cos_auc: 0.9984 | cos_acc: 0.9848 | eu_auc: 0.9948 | eu_acc: 0.9756\n",
      "\ttest: cos_auc: 0.8135 | cos_acc: 0.8159 | eu_auc: 0.8110 | eu_acc: 0.8519\n",
      "\tSaving model and optimizer state to /kaggle/working/checkpoint/magface/normalmap/models/checkpoint.pth\n",
      "\tEpoch 304: EarlyStopping counter for 'test_cosine_auc': 16/50\n",
      "\tEpoch 304: EarlyStopping counter for 'test_cosine_accuracy': 87/50\n",
      "\tEpoch 304: EarlyStopping counter for 'test_euclidean_auc': 22/50\n",
      "\tEpoch 304: EarlyStopping counter for 'test_euclidean_accuracy': 50/50\n"
     ]
    },
    {
     "name": "stderr",
     "output_type": "stream",
     "text": [
      "/usr/lib/python3.10/multiprocessing/popen_fork.py:66: RuntimeWarning: os.fork() was called. os.fork() is incompatible with multithreaded code, and JAX is multithreaded, so this will likely lead to a deadlock.\n",
      "  self.pid = os.fork()\n",
      "/usr/lib/python3.10/multiprocessing/popen_fork.py:66: RuntimeWarning: os.fork() was called. os.fork() is incompatible with multithreaded code, and JAX is multithreaded, so this will likely lead to a deadlock.\n",
      "  self.pid = os.fork()\n"
     ]
    },
    {
     "name": "stdout",
     "output_type": "stream",
     "text": [
      "Epoch 305:\n",
      "\ttrain: loss 1.256 | loss id   1.23 | top_1_acc 0.9685 | top_5_acc 0.9978 | cos_auc: 0.9991 | cos_acc: 0.9847 | eu_auc: 0.9969 | eu_acc: 0.9794\n",
      "\ttest: cos_auc: 0.8078 | cos_acc: 0.7726 | eu_auc: 0.8146 | eu_acc: 0.8534\n",
      "\tSaving model and optimizer state to /kaggle/working/checkpoint/magface/normalmap/models/checkpoint.pth\n",
      "\tEpoch 305: EarlyStopping counter for 'test_cosine_auc': 17/50\n",
      "\tEpoch 305: EarlyStopping counter for 'test_cosine_accuracy': 88/50\n",
      "\tEpoch 305: EarlyStopping counter for 'test_euclidean_auc': 23/50\n",
      "\tEpoch 305: EarlyStopping counter for 'test_euclidean_accuracy': 51/50\n"
     ]
    },
    {
     "name": "stderr",
     "output_type": "stream",
     "text": [
      "/usr/lib/python3.10/multiprocessing/popen_fork.py:66: RuntimeWarning: os.fork() was called. os.fork() is incompatible with multithreaded code, and JAX is multithreaded, so this will likely lead to a deadlock.\n",
      "  self.pid = os.fork()\n",
      "/usr/lib/python3.10/multiprocessing/popen_fork.py:66: RuntimeWarning: os.fork() was called. os.fork() is incompatible with multithreaded code, and JAX is multithreaded, so this will likely lead to a deadlock.\n",
      "  self.pid = os.fork()\n"
     ]
    },
    {
     "name": "stdout",
     "output_type": "stream",
     "text": [
      "Epoch 306:\n",
      "\ttrain: loss 1.207 | loss id   1.18 | top_1_acc 0.9696 | top_5_acc 0.9955 | cos_auc: 0.9992 | cos_acc: 0.9888 | eu_auc: 0.9971 | eu_acc: 0.9823\n",
      "\ttest: cos_auc: 0.8272 | cos_acc: 0.7158 | eu_auc: 0.8144 | eu_acc: 0.8485\n",
      "\tSaving model and optimizer state to /kaggle/working/checkpoint/magface/normalmap/models/checkpoint.pth\n",
      "\tEpoch 306: EarlyStopping counter for 'test_cosine_auc': 18/50\n",
      "\tEpoch 306: EarlyStopping counter for 'test_cosine_accuracy': 89/50\n",
      "\tEpoch 306: EarlyStopping counter for 'test_euclidean_auc': 24/50\n",
      "\tEpoch 306: EarlyStopping counter for 'test_euclidean_accuracy': 52/50\n"
     ]
    },
    {
     "name": "stderr",
     "output_type": "stream",
     "text": [
      "/usr/lib/python3.10/multiprocessing/popen_fork.py:66: RuntimeWarning: os.fork() was called. os.fork() is incompatible with multithreaded code, and JAX is multithreaded, so this will likely lead to a deadlock.\n",
      "  self.pid = os.fork()\n",
      "/usr/lib/python3.10/multiprocessing/popen_fork.py:66: RuntimeWarning: os.fork() was called. os.fork() is incompatible with multithreaded code, and JAX is multithreaded, so this will likely lead to a deadlock.\n",
      "  self.pid = os.fork()\n"
     ]
    },
    {
     "name": "stdout",
     "output_type": "stream",
     "text": [
      "Epoch 307:\n",
      "\ttrain: loss 1.203 | loss id   1.18 | top_1_acc 0.9595 | top_5_acc 0.9955 | cos_auc: 0.9996 | cos_acc: 0.9914 | eu_auc: 0.9976 | eu_acc: 0.9819\n",
      "\ttest: cos_auc: 0.8225 | cos_acc: 0.8365 | eu_auc: 0.8201 | eu_acc: 0.8255\n",
      "\tSaving model and optimizer state to /kaggle/working/checkpoint/magface/normalmap/models/checkpoint.pth\n",
      "\tEpoch 307: EarlyStopping counter for 'test_cosine_auc': 19/50\n",
      "\tEpoch 307: EarlyStopping counter for 'test_cosine_accuracy': 90/50\n",
      "\tEpoch 307: EarlyStopping counter for 'test_euclidean_auc': 25/50\n",
      "\tEpoch 307: EarlyStopping counter for 'test_euclidean_accuracy': 53/50\n"
     ]
    },
    {
     "name": "stderr",
     "output_type": "stream",
     "text": [
      "/usr/lib/python3.10/multiprocessing/popen_fork.py:66: RuntimeWarning: os.fork() was called. os.fork() is incompatible with multithreaded code, and JAX is multithreaded, so this will likely lead to a deadlock.\n",
      "  self.pid = os.fork()\n",
      "/usr/lib/python3.10/multiprocessing/popen_fork.py:66: RuntimeWarning: os.fork() was called. os.fork() is incompatible with multithreaded code, and JAX is multithreaded, so this will likely lead to a deadlock.\n",
      "  self.pid = os.fork()\n"
     ]
    },
    {
     "name": "stdout",
     "output_type": "stream",
     "text": [
      "Epoch 308:\n",
      "\ttrain: loss 1.149 | loss id   1.13 | top_1_acc 0.9786 | top_5_acc 0.9989 | cos_auc: 0.9995 | cos_acc: 0.9887 | eu_auc: 0.9981 | eu_acc: 0.9838\n",
      "\ttest: cos_auc: 0.8152 | cos_acc: 0.7741 | eu_auc: 0.8169 | eu_acc: 0.8974\n",
      "\tSaving model and optimizer state to /kaggle/working/checkpoint/magface/normalmap/models/checkpoint.pth\n",
      "\tEpoch 308: EarlyStopping counter for 'test_cosine_auc': 20/50\n",
      "\tEpoch 308: EarlyStopping counter for 'test_cosine_accuracy': 91/50\n",
      "\tEpoch 308: EarlyStopping counter for 'test_euclidean_auc': 26/50\n",
      "\tEpoch 308: EarlyStopping counter for 'test_euclidean_accuracy': 54/50\n"
     ]
    },
    {
     "name": "stderr",
     "output_type": "stream",
     "text": [
      "/usr/lib/python3.10/multiprocessing/popen_fork.py:66: RuntimeWarning: os.fork() was called. os.fork() is incompatible with multithreaded code, and JAX is multithreaded, so this will likely lead to a deadlock.\n",
      "  self.pid = os.fork()\n",
      "/usr/lib/python3.10/multiprocessing/popen_fork.py:66: RuntimeWarning: os.fork() was called. os.fork() is incompatible with multithreaded code, and JAX is multithreaded, so this will likely lead to a deadlock.\n",
      "  self.pid = os.fork()\n"
     ]
    },
    {
     "name": "stdout",
     "output_type": "stream",
     "text": [
      "Epoch 309:\n",
      "\ttrain: loss 1.128 | loss id   1.11 | top_1_acc 0.9831 | top_5_acc 0.9989 | cos_auc: 0.9996 | cos_acc: 0.9914 | eu_auc: 0.9985 | eu_acc: 0.9880\n",
      "\ttest: cos_auc: 0.8186 | cos_acc: 0.7246 | eu_auc: 0.8101 | eu_acc: 0.8210\n",
      "\tSaving model and optimizer state to /kaggle/working/checkpoint/magface/normalmap/models/checkpoint.pth\n",
      "\tEpoch 309: EarlyStopping counter for 'test_cosine_auc': 21/50\n",
      "\tEpoch 309: EarlyStopping counter for 'test_cosine_accuracy': 92/50\n",
      "\tEpoch 309: EarlyStopping counter for 'test_euclidean_auc': 27/50\n",
      "\tEpoch 309: EarlyStopping counter for 'test_euclidean_accuracy': 55/50\n"
     ]
    },
    {
     "name": "stderr",
     "output_type": "stream",
     "text": [
      "/usr/lib/python3.10/multiprocessing/popen_fork.py:66: RuntimeWarning: os.fork() was called. os.fork() is incompatible with multithreaded code, and JAX is multithreaded, so this will likely lead to a deadlock.\n",
      "  self.pid = os.fork()\n",
      "/usr/lib/python3.10/multiprocessing/popen_fork.py:66: RuntimeWarning: os.fork() was called. os.fork() is incompatible with multithreaded code, and JAX is multithreaded, so this will likely lead to a deadlock.\n",
      "  self.pid = os.fork()\n",
      "/usr/lib/python3.10/multiprocessing/popen_fork.py:66: RuntimeWarning: os.fork() was called. os.fork() is incompatible with multithreaded code, and JAX is multithreaded, so this will likely lead to a deadlock.\n",
      "  self.pid = os.fork()\n"
     ]
    },
    {
     "name": "stdout",
     "output_type": "stream",
     "text": [
      "Epoch 310:\n",
      "\ttrain: loss 1.133 | loss id   1.11 | top_1_acc 0.9809 | top_5_acc 1.0000 | cos_auc: 0.9996 | cos_acc: 0.9896 | eu_auc: 0.9980 | eu_acc: 0.9800\n",
      "\ttest: cos_auc: 0.8229 | cos_acc: 0.7266 | eu_auc: 0.8195 | eu_acc: 0.8466\n",
      "\tSaving model and optimizer state to /kaggle/working/checkpoint/magface/normalmap/models/checkpoint.pth\n",
      "\tEpoch 310: EarlyStopping counter for 'test_cosine_auc': 22/50\n",
      "\tEpoch 310: EarlyStopping counter for 'test_cosine_accuracy': 93/50\n",
      "\tEpoch 310: EarlyStopping counter for 'test_euclidean_auc': 28/50\n",
      "\tEpoch 310: EarlyStopping counter for 'test_euclidean_accuracy': 56/50\n"
     ]
    },
    {
     "name": "stderr",
     "output_type": "stream",
     "text": [
      "/usr/lib/python3.10/multiprocessing/popen_fork.py:66: RuntimeWarning: os.fork() was called. os.fork() is incompatible with multithreaded code, and JAX is multithreaded, so this will likely lead to a deadlock.\n",
      "  self.pid = os.fork()\n",
      "/usr/lib/python3.10/multiprocessing/popen_fork.py:66: RuntimeWarning: os.fork() was called. os.fork() is incompatible with multithreaded code, and JAX is multithreaded, so this will likely lead to a deadlock.\n",
      "  self.pid = os.fork()\n"
     ]
    },
    {
     "name": "stdout",
     "output_type": "stream",
     "text": [
      "Epoch 311:\n",
      "\ttrain: loss 1.082 | loss id   1.06 | top_1_acc 0.9865 | top_5_acc 1.0000 | cos_auc: 0.9998 | cos_acc: 0.9931 | eu_auc: 0.9989 | eu_acc: 0.9856\n",
      "\ttest: cos_auc: 0.8237 | cos_acc: 0.7098 | eu_auc: 0.8171 | eu_acc: 0.8177\n",
      "\tSaving model and optimizer state to /kaggle/working/checkpoint/magface/normalmap/models/checkpoint.pth\n",
      "\tEpoch 311: EarlyStopping counter for 'test_cosine_auc': 23/50\n",
      "\tEpoch 311: EarlyStopping counter for 'test_cosine_accuracy': 94/50\n",
      "\tEpoch 311: EarlyStopping counter for 'test_euclidean_auc': 29/50\n",
      "\tEpoch 311: EarlyStopping counter for 'test_euclidean_accuracy': 57/50\n"
     ]
    },
    {
     "name": "stderr",
     "output_type": "stream",
     "text": [
      "/usr/lib/python3.10/multiprocessing/popen_fork.py:66: RuntimeWarning: os.fork() was called. os.fork() is incompatible with multithreaded code, and JAX is multithreaded, so this will likely lead to a deadlock.\n",
      "  self.pid = os.fork()\n",
      "/usr/lib/python3.10/multiprocessing/popen_fork.py:66: RuntimeWarning: os.fork() was called. os.fork() is incompatible with multithreaded code, and JAX is multithreaded, so this will likely lead to a deadlock.\n",
      "  self.pid = os.fork()\n"
     ]
    },
    {
     "name": "stdout",
     "output_type": "stream",
     "text": [
      "Epoch 312:\n",
      "\ttrain: loss 1.074 | loss id   1.05 | top_1_acc 0.9865 | top_5_acc 1.0000 | cos_auc: 0.9993 | cos_acc: 0.9908 | eu_auc: 0.9971 | eu_acc: 0.9838\n",
      "\ttest: cos_auc: 0.8168 | cos_acc: 0.8415 | eu_auc: 0.8159 | eu_acc: 0.8615\n",
      "\tSaving model and optimizer state to /kaggle/working/checkpoint/magface/normalmap/models/checkpoint.pth\n",
      "\tEpoch 312: EarlyStopping counter for 'test_cosine_auc': 24/50\n",
      "\tEpoch 312: EarlyStopping counter for 'test_cosine_accuracy': 95/50\n",
      "\tEpoch 312: EarlyStopping counter for 'test_euclidean_auc': 30/50\n",
      "\tEpoch 312: EarlyStopping counter for 'test_euclidean_accuracy': 58/50\n"
     ]
    },
    {
     "name": "stderr",
     "output_type": "stream",
     "text": [
      "/usr/lib/python3.10/multiprocessing/popen_fork.py:66: RuntimeWarning: os.fork() was called. os.fork() is incompatible with multithreaded code, and JAX is multithreaded, so this will likely lead to a deadlock.\n",
      "  self.pid = os.fork()\n",
      "/usr/lib/python3.10/multiprocessing/popen_fork.py:66: RuntimeWarning: os.fork() was called. os.fork() is incompatible with multithreaded code, and JAX is multithreaded, so this will likely lead to a deadlock.\n",
      "  self.pid = os.fork()\n"
     ]
    },
    {
     "name": "stdout",
     "output_type": "stream",
     "text": [
      "Epoch 313:\n",
      "\ttrain: loss 1.078 | loss id   1.05 | top_1_acc 0.9764 | top_5_acc 0.9966 | cos_auc: 0.9995 | cos_acc: 0.9897 | eu_auc: 0.9982 | eu_acc: 0.9741\n",
      "\ttest: cos_auc: 0.8241 | cos_acc: 0.7298 | eu_auc: 0.8193 | eu_acc: 0.8487\n",
      "\tSaving model and optimizer state to /kaggle/working/checkpoint/magface/normalmap/models/checkpoint.pth\n",
      "\tEpoch 313: EarlyStopping counter for 'test_cosine_auc': 25/50\n",
      "\tEpoch 313: EarlyStopping counter for 'test_cosine_accuracy': 96/50\n",
      "\tEpoch 313: EarlyStopping counter for 'test_euclidean_auc': 31/50\n",
      "\tEpoch 313: EarlyStopping counter for 'test_euclidean_accuracy': 59/50\n"
     ]
    },
    {
     "name": "stderr",
     "output_type": "stream",
     "text": [
      "/usr/lib/python3.10/multiprocessing/popen_fork.py:66: RuntimeWarning: os.fork() was called. os.fork() is incompatible with multithreaded code, and JAX is multithreaded, so this will likely lead to a deadlock.\n",
      "  self.pid = os.fork()\n",
      "/usr/lib/python3.10/multiprocessing/popen_fork.py:66: RuntimeWarning: os.fork() was called. os.fork() is incompatible with multithreaded code, and JAX is multithreaded, so this will likely lead to a deadlock.\n",
      "  self.pid = os.fork()\n"
     ]
    },
    {
     "name": "stdout",
     "output_type": "stream",
     "text": [
      "Epoch 314:\n",
      "\ttrain: loss 1.063 | loss id   1.04 | top_1_acc 0.9910 | top_5_acc 0.9989 | cos_auc: 0.9997 | cos_acc: 0.9885 | eu_auc: 0.9983 | eu_acc: 0.9885\n",
      "\ttest: cos_auc: 0.8224 | cos_acc: 0.7089 | eu_auc: 0.8183 | eu_acc: 0.8495\n",
      "\tSaving model and optimizer state to /kaggle/working/checkpoint/magface/normalmap/models/checkpoint.pth\n",
      "\tEpoch 314: EarlyStopping counter for 'test_cosine_auc': 26/50\n",
      "\tEpoch 314: EarlyStopping counter for 'test_cosine_accuracy': 97/50\n",
      "\tEpoch 314: EarlyStopping counter for 'test_euclidean_auc': 32/50\n",
      "\tEpoch 314: EarlyStopping counter for 'test_euclidean_accuracy': 60/50\n"
     ]
    },
    {
     "name": "stderr",
     "output_type": "stream",
     "text": [
      "/usr/lib/python3.10/multiprocessing/popen_fork.py:66: RuntimeWarning: os.fork() was called. os.fork() is incompatible with multithreaded code, and JAX is multithreaded, so this will likely lead to a deadlock.\n",
      "  self.pid = os.fork()\n",
      "/usr/lib/python3.10/multiprocessing/popen_fork.py:66: RuntimeWarning: os.fork() was called. os.fork() is incompatible with multithreaded code, and JAX is multithreaded, so this will likely lead to a deadlock.\n",
      "  self.pid = os.fork()\n"
     ]
    },
    {
     "name": "stdout",
     "output_type": "stream",
     "text": [
      "Epoch 315:\n",
      "\ttrain: loss 1.045 | loss id   1.02 | top_1_acc 0.9820 | top_5_acc 0.9978 | cos_auc: 0.9998 | cos_acc: 0.9925 | eu_auc: 0.9990 | eu_acc: 0.9854\n",
      "\ttest: cos_auc: 0.8230 | cos_acc: 0.6983 | eu_auc: 0.8207 | eu_acc: 0.8494\n",
      "\tSaving model and optimizer state to /kaggle/working/checkpoint/magface/normalmap/models/checkpoint.pth\n",
      "\tEpoch 315: EarlyStopping counter for 'test_cosine_auc': 27/50\n",
      "\tEpoch 315: EarlyStopping counter for 'test_cosine_accuracy': 98/50\n",
      "\tEpoch 315: EarlyStopping counter for 'test_euclidean_auc': 33/50\n",
      "\tEpoch 315: EarlyStopping counter for 'test_euclidean_accuracy': 61/50\n"
     ]
    },
    {
     "name": "stderr",
     "output_type": "stream",
     "text": [
      "/usr/lib/python3.10/multiprocessing/popen_fork.py:66: RuntimeWarning: os.fork() was called. os.fork() is incompatible with multithreaded code, and JAX is multithreaded, so this will likely lead to a deadlock.\n",
      "  self.pid = os.fork()\n",
      "/usr/lib/python3.10/multiprocessing/popen_fork.py:66: RuntimeWarning: os.fork() was called. os.fork() is incompatible with multithreaded code, and JAX is multithreaded, so this will likely lead to a deadlock.\n",
      "  self.pid = os.fork()\n"
     ]
    },
    {
     "name": "stdout",
     "output_type": "stream",
     "text": [
      "Epoch 316:\n",
      "\ttrain: loss 1.067 | loss id   1.04 | top_1_acc 0.9820 | top_5_acc 1.0000 | cos_auc: 0.9998 | cos_acc: 0.9886 | eu_auc: 0.9986 | eu_acc: 0.9886\n",
      "\ttest: cos_auc: 0.8275 | cos_acc: 0.7693 | eu_auc: 0.8194 | eu_acc: 0.8786\n",
      "\tSaving model and optimizer state to /kaggle/working/checkpoint/magface/normalmap/models/checkpoint.pth\n",
      "\tEpoch 316: EarlyStopping counter for 'test_cosine_auc': 28/50\n",
      "\tEpoch 316: EarlyStopping counter for 'test_cosine_accuracy': 99/50\n",
      "\tEpoch 316: EarlyStopping counter for 'test_euclidean_auc': 34/50\n",
      "\tEpoch 316: EarlyStopping counter for 'test_euclidean_accuracy': 62/50\n"
     ]
    },
    {
     "name": "stderr",
     "output_type": "stream",
     "text": [
      "/usr/lib/python3.10/multiprocessing/popen_fork.py:66: RuntimeWarning: os.fork() was called. os.fork() is incompatible with multithreaded code, and JAX is multithreaded, so this will likely lead to a deadlock.\n",
      "  self.pid = os.fork()\n",
      "/usr/lib/python3.10/multiprocessing/popen_fork.py:66: RuntimeWarning: os.fork() was called. os.fork() is incompatible with multithreaded code, and JAX is multithreaded, so this will likely lead to a deadlock.\n",
      "  self.pid = os.fork()\n",
      "/usr/lib/python3.10/multiprocessing/popen_fork.py:66: RuntimeWarning: os.fork() was called. os.fork() is incompatible with multithreaded code, and JAX is multithreaded, so this will likely lead to a deadlock.\n",
      "  self.pid = os.fork()\n"
     ]
    },
    {
     "name": "stdout",
     "output_type": "stream",
     "text": [
      "Epoch 317:\n",
      "\ttrain: loss 1.069 | loss id   1.05 | top_1_acc 0.9820 | top_5_acc 0.9989 | cos_auc: 0.9997 | cos_acc: 0.9915 | eu_auc: 0.9990 | eu_acc: 0.9893\n",
      "\ttest: cos_auc: 0.8254 | cos_acc: 0.8153 | eu_auc: 0.8180 | eu_acc: 0.8867\n",
      "\tSaving model and optimizer state to /kaggle/working/checkpoint/magface/normalmap/models/checkpoint.pth\n",
      "\tEpoch 317: EarlyStopping counter for 'test_cosine_auc': 29/50\n",
      "\tEpoch 317: EarlyStopping counter for 'test_cosine_accuracy': 100/50\n",
      "\tEpoch 317: EarlyStopping counter for 'test_euclidean_auc': 35/50\n",
      "\tEpoch 317: EarlyStopping counter for 'test_euclidean_accuracy': 63/50\n"
     ]
    },
    {
     "name": "stderr",
     "output_type": "stream",
     "text": [
      "/usr/lib/python3.10/multiprocessing/popen_fork.py:66: RuntimeWarning: os.fork() was called. os.fork() is incompatible with multithreaded code, and JAX is multithreaded, so this will likely lead to a deadlock.\n",
      "  self.pid = os.fork()\n",
      "/usr/lib/python3.10/multiprocessing/popen_fork.py:66: RuntimeWarning: os.fork() was called. os.fork() is incompatible with multithreaded code, and JAX is multithreaded, so this will likely lead to a deadlock.\n",
      "  self.pid = os.fork()\n"
     ]
    },
    {
     "name": "stdout",
     "output_type": "stream",
     "text": [
      "Epoch 318:\n",
      "\ttrain: loss 0.999 | loss id   0.98 | top_1_acc 0.9910 | top_5_acc 1.0000 | cos_auc: 0.9996 | cos_acc: 0.9928 | eu_auc: 0.9981 | eu_acc: 0.9874\n",
      "\ttest: cos_auc: 0.8215 | cos_acc: 0.8071 | eu_auc: 0.8193 | eu_acc: 0.8182\n",
      "\tSaving model and optimizer state to /kaggle/working/checkpoint/magface/normalmap/models/checkpoint.pth\n",
      "\tEpoch 318: EarlyStopping counter for 'test_cosine_auc': 30/50\n",
      "\tEpoch 318: EarlyStopping counter for 'test_cosine_accuracy': 101/50\n",
      "\tEpoch 318: EarlyStopping counter for 'test_euclidean_auc': 36/50\n",
      "\tEpoch 318: EarlyStopping counter for 'test_euclidean_accuracy': 64/50\n"
     ]
    },
    {
     "name": "stderr",
     "output_type": "stream",
     "text": [
      "/usr/lib/python3.10/multiprocessing/popen_fork.py:66: RuntimeWarning: os.fork() was called. os.fork() is incompatible with multithreaded code, and JAX is multithreaded, so this will likely lead to a deadlock.\n",
      "  self.pid = os.fork()\n",
      "/usr/lib/python3.10/multiprocessing/popen_fork.py:66: RuntimeWarning: os.fork() was called. os.fork() is incompatible with multithreaded code, and JAX is multithreaded, so this will likely lead to a deadlock.\n",
      "  self.pid = os.fork()\n"
     ]
    },
    {
     "name": "stdout",
     "output_type": "stream",
     "text": [
      "Epoch 319:\n",
      "\ttrain: loss 1.060 | loss id   1.04 | top_1_acc 0.9843 | top_5_acc 1.0000 | cos_auc: 0.9996 | cos_acc: 0.9903 | eu_auc: 0.9985 | eu_acc: 0.9860\n",
      "\ttest: cos_auc: 0.8221 | cos_acc: 0.7917 | eu_auc: 0.8173 | eu_acc: 0.8783\n",
      "\tSaving model and optimizer state to /kaggle/working/checkpoint/magface/normalmap/models/checkpoint.pth\n",
      "\tEpoch 319: EarlyStopping counter for 'test_cosine_auc': 31/50\n",
      "\tEpoch 319: EarlyStopping counter for 'test_cosine_accuracy': 102/50\n",
      "\tEpoch 319: EarlyStopping counter for 'test_euclidean_auc': 37/50\n",
      "\tEpoch 319: EarlyStopping counter for 'test_euclidean_accuracy': 65/50\n"
     ]
    },
    {
     "name": "stderr",
     "output_type": "stream",
     "text": [
      "/usr/lib/python3.10/multiprocessing/popen_fork.py:66: RuntimeWarning: os.fork() was called. os.fork() is incompatible with multithreaded code, and JAX is multithreaded, so this will likely lead to a deadlock.\n",
      "  self.pid = os.fork()\n",
      "/usr/lib/python3.10/multiprocessing/popen_fork.py:66: RuntimeWarning: os.fork() was called. os.fork() is incompatible with multithreaded code, and JAX is multithreaded, so this will likely lead to a deadlock.\n",
      "  self.pid = os.fork()\n",
      "/usr/lib/python3.10/multiprocessing/popen_fork.py:66: RuntimeWarning: os.fork() was called. os.fork() is incompatible with multithreaded code, and JAX is multithreaded, so this will likely lead to a deadlock.\n",
      "  self.pid = os.fork()\n"
     ]
    },
    {
     "name": "stdout",
     "output_type": "stream",
     "text": [
      "Epoch 320:\n",
      "\ttrain: loss 1.055 | loss id   1.03 | top_1_acc 0.9843 | top_5_acc 0.9989 | cos_auc: 0.9997 | cos_acc: 0.9939 | eu_auc: 0.9988 | eu_acc: 0.9888\n",
      "\ttest: cos_auc: 0.8232 | cos_acc: 0.8130 | eu_auc: 0.8194 | eu_acc: 0.8301\n",
      "\tSaving model and optimizer state to /kaggle/working/checkpoint/magface/normalmap/models/checkpoint.pth\n",
      "\tEpoch 320: EarlyStopping counter for 'test_cosine_auc': 32/50\n",
      "\tEpoch 320: EarlyStopping counter for 'test_cosine_accuracy': 103/50\n",
      "\tEpoch 320: EarlyStopping counter for 'test_euclidean_auc': 38/50\n",
      "\tEpoch 320: EarlyStopping counter for 'test_euclidean_accuracy': 66/50\n"
     ]
    },
    {
     "name": "stderr",
     "output_type": "stream",
     "text": [
      "/usr/lib/python3.10/multiprocessing/popen_fork.py:66: RuntimeWarning: os.fork() was called. os.fork() is incompatible with multithreaded code, and JAX is multithreaded, so this will likely lead to a deadlock.\n",
      "  self.pid = os.fork()\n",
      "/usr/lib/python3.10/multiprocessing/popen_fork.py:66: RuntimeWarning: os.fork() was called. os.fork() is incompatible with multithreaded code, and JAX is multithreaded, so this will likely lead to a deadlock.\n",
      "  self.pid = os.fork()\n"
     ]
    },
    {
     "name": "stdout",
     "output_type": "stream",
     "text": [
      "Epoch 321:\n",
      "\ttrain: loss 1.323 | loss id   1.30 | top_1_acc 0.9629 | top_5_acc 0.9955 | cos_auc: 0.9974 | cos_acc: 0.9702 | eu_auc: 0.9942 | eu_acc: 0.9658\n",
      "\ttest: cos_auc: 0.8367 | cos_acc: 0.7538 | eu_auc: 0.8197 | eu_acc: 0.8357\n",
      "\tSaving model and optimizer state to /kaggle/working/checkpoint/magface/normalmap/models/checkpoint.pth\n",
      "\tEpoch 321: EarlyStopping counter for 'test_cosine_auc': 33/50\n",
      "\tEpoch 321: EarlyStopping counter for 'test_cosine_accuracy': 104/50\n",
      "\tEpoch 321: EarlyStopping counter for 'test_euclidean_auc': 39/50\n",
      "\tEpoch 321: EarlyStopping counter for 'test_euclidean_accuracy': 67/50\n"
     ]
    },
    {
     "name": "stderr",
     "output_type": "stream",
     "text": [
      "/usr/lib/python3.10/multiprocessing/popen_fork.py:66: RuntimeWarning: os.fork() was called. os.fork() is incompatible with multithreaded code, and JAX is multithreaded, so this will likely lead to a deadlock.\n",
      "  self.pid = os.fork()\n",
      "/usr/lib/python3.10/multiprocessing/popen_fork.py:66: RuntimeWarning: os.fork() was called. os.fork() is incompatible with multithreaded code, and JAX is multithreaded, so this will likely lead to a deadlock.\n",
      "  self.pid = os.fork()\n"
     ]
    },
    {
     "name": "stdout",
     "output_type": "stream",
     "text": [
      "Epoch 322:\n",
      "\ttrain: loss 1.440 | loss id   1.42 | top_1_acc 0.9325 | top_5_acc 0.9955 | cos_auc: 0.9980 | cos_acc: 0.9790 | eu_auc: 0.9947 | eu_acc: 0.9634\n",
      "\ttest: cos_auc: 0.8191 | cos_acc: 0.8465 | eu_auc: 0.8050 | eu_acc: 0.8330\n",
      "\tSaving model and optimizer state to /kaggle/working/checkpoint/magface/normalmap/models/checkpoint.pth\n",
      "\tEpoch 322: EarlyStopping counter for 'test_cosine_auc': 34/50\n",
      "\tEpoch 322: EarlyStopping counter for 'test_cosine_accuracy': 105/50\n",
      "\tEpoch 322: EarlyStopping counter for 'test_euclidean_auc': 40/50\n",
      "\tEpoch 322: EarlyStopping counter for 'test_euclidean_accuracy': 68/50\n"
     ]
    },
    {
     "name": "stderr",
     "output_type": "stream",
     "text": [
      "/usr/lib/python3.10/multiprocessing/popen_fork.py:66: RuntimeWarning: os.fork() was called. os.fork() is incompatible with multithreaded code, and JAX is multithreaded, so this will likely lead to a deadlock.\n",
      "  self.pid = os.fork()\n",
      "/usr/lib/python3.10/multiprocessing/popen_fork.py:66: RuntimeWarning: os.fork() was called. os.fork() is incompatible with multithreaded code, and JAX is multithreaded, so this will likely lead to a deadlock.\n",
      "  self.pid = os.fork()\n"
     ]
    },
    {
     "name": "stdout",
     "output_type": "stream",
     "text": [
      "Epoch 323:\n",
      "\ttrain: loss 1.444 | loss id   1.42 | top_1_acc 0.9381 | top_5_acc 0.9966 | cos_auc: 0.9960 | cos_acc: 0.9640 | eu_auc: 0.9924 | eu_acc: 0.9602\n",
      "\ttest: cos_auc: 0.8320 | cos_acc: 0.7608 | eu_auc: 0.8203 | eu_acc: 0.7612\n",
      "\tSaving model and optimizer state to /kaggle/working/checkpoint/magface/normalmap/models/checkpoint.pth\n",
      "\tEpoch 323: EarlyStopping counter for 'test_cosine_auc': 35/50\n",
      "\tEpoch 323: EarlyStopping counter for 'test_cosine_accuracy': 106/50\n",
      "\tEpoch 323: EarlyStopping counter for 'test_euclidean_auc': 41/50\n",
      "\tEpoch 323: EarlyStopping counter for 'test_euclidean_accuracy': 69/50\n"
     ]
    },
    {
     "name": "stderr",
     "output_type": "stream",
     "text": [
      "/usr/lib/python3.10/multiprocessing/popen_fork.py:66: RuntimeWarning: os.fork() was called. os.fork() is incompatible with multithreaded code, and JAX is multithreaded, so this will likely lead to a deadlock.\n",
      "  self.pid = os.fork()\n",
      "/usr/lib/python3.10/multiprocessing/popen_fork.py:66: RuntimeWarning: os.fork() was called. os.fork() is incompatible with multithreaded code, and JAX is multithreaded, so this will likely lead to a deadlock.\n",
      "  self.pid = os.fork()\n"
     ]
    },
    {
     "name": "stdout",
     "output_type": "stream",
     "text": [
      "Epoch 324:\n",
      "\ttrain: loss 1.449 | loss id   1.43 | top_1_acc 0.9303 | top_5_acc 0.9933 | cos_auc: 0.9983 | cos_acc: 0.9787 | eu_auc: 0.9933 | eu_acc: 0.9691\n",
      "\ttest: cos_auc: 0.8212 | cos_acc: 0.7420 | eu_auc: 0.8071 | eu_acc: 0.8518\n",
      "\tSaving model and optimizer state to /kaggle/working/checkpoint/magface/normalmap/models/checkpoint.pth\n",
      "\tEpoch 324: EarlyStopping counter for 'test_cosine_auc': 36/50\n",
      "\tEpoch 324: EarlyStopping counter for 'test_cosine_accuracy': 107/50\n",
      "\tEpoch 324: EarlyStopping counter for 'test_euclidean_auc': 42/50\n",
      "\tEpoch 324: EarlyStopping counter for 'test_euclidean_accuracy': 70/50\n"
     ]
    },
    {
     "name": "stderr",
     "output_type": "stream",
     "text": [
      "/usr/lib/python3.10/multiprocessing/popen_fork.py:66: RuntimeWarning: os.fork() was called. os.fork() is incompatible with multithreaded code, and JAX is multithreaded, so this will likely lead to a deadlock.\n",
      "  self.pid = os.fork()\n",
      "/usr/lib/python3.10/multiprocessing/popen_fork.py:66: RuntimeWarning: os.fork() was called. os.fork() is incompatible with multithreaded code, and JAX is multithreaded, so this will likely lead to a deadlock.\n",
      "  self.pid = os.fork()\n"
     ]
    },
    {
     "name": "stdout",
     "output_type": "stream",
     "text": [
      "Epoch 325:\n",
      "\ttrain: loss 1.391 | loss id   1.37 | top_1_acc 0.9483 | top_5_acc 0.9955 | cos_auc: 0.9985 | cos_acc: 0.9724 | eu_auc: 0.9962 | eu_acc: 0.9679\n",
      "\ttest: cos_auc: 0.8380 | cos_acc: 0.8345 | eu_auc: 0.7986 | eu_acc: 0.8791\n",
      "\tSaving model and optimizer state to /kaggle/working/checkpoint/magface/normalmap/models/checkpoint.pth\n",
      "\tEpoch 325: EarlyStopping counter for 'test_cosine_auc': 37/50\n",
      "\tEpoch 325: EarlyStopping counter for 'test_cosine_accuracy': 108/50\n",
      "\tEpoch 325: EarlyStopping counter for 'test_euclidean_auc': 43/50\n",
      "\tEpoch 325: EarlyStopping counter for 'test_euclidean_accuracy': 71/50\n"
     ]
    },
    {
     "name": "stderr",
     "output_type": "stream",
     "text": [
      "/usr/lib/python3.10/multiprocessing/popen_fork.py:66: RuntimeWarning: os.fork() was called. os.fork() is incompatible with multithreaded code, and JAX is multithreaded, so this will likely lead to a deadlock.\n",
      "  self.pid = os.fork()\n",
      "/usr/lib/python3.10/multiprocessing/popen_fork.py:66: RuntimeWarning: os.fork() was called. os.fork() is incompatible with multithreaded code, and JAX is multithreaded, so this will likely lead to a deadlock.\n",
      "  self.pid = os.fork()\n"
     ]
    },
    {
     "name": "stdout",
     "output_type": "stream",
     "text": [
      "Epoch 326:\n",
      "\ttrain: loss 1.412 | loss id   1.39 | top_1_acc 0.9426 | top_5_acc 0.9899 | cos_auc: 0.9981 | cos_acc: 0.9823 | eu_auc: 0.9970 | eu_acc: 0.9766\n",
      "\ttest: cos_auc: 0.8368 | cos_acc: 0.8275 | eu_auc: 0.8317 | eu_acc: 0.8355\n",
      "\tSaving model and optimizer state to /kaggle/working/checkpoint/magface/normalmap/models/checkpoint.pth\n",
      "\tEpoch 326: EarlyStopping counter for 'test_cosine_auc': 38/50\n",
      "\tEpoch 326: EarlyStopping counter for 'test_cosine_accuracy': 109/50\n",
      "\tEpoch 326: EarlyStopping counter for 'test_euclidean_auc': 44/50\n",
      "\tEpoch 326: EarlyStopping counter for 'test_euclidean_accuracy': 72/50\n"
     ]
    },
    {
     "name": "stderr",
     "output_type": "stream",
     "text": [
      "/usr/lib/python3.10/multiprocessing/popen_fork.py:66: RuntimeWarning: os.fork() was called. os.fork() is incompatible with multithreaded code, and JAX is multithreaded, so this will likely lead to a deadlock.\n",
      "  self.pid = os.fork()\n",
      "/usr/lib/python3.10/multiprocessing/popen_fork.py:66: RuntimeWarning: os.fork() was called. os.fork() is incompatible with multithreaded code, and JAX is multithreaded, so this will likely lead to a deadlock.\n",
      "  self.pid = os.fork()\n"
     ]
    },
    {
     "name": "stdout",
     "output_type": "stream",
     "text": [
      "Epoch 327:\n",
      "\ttrain: loss 1.330 | loss id   1.31 | top_1_acc 0.9550 | top_5_acc 0.9944 | cos_auc: 0.9980 | cos_acc: 0.9778 | eu_auc: 0.9936 | eu_acc: 0.9600\n",
      "\ttest: cos_auc: 0.8154 | cos_acc: 0.7320 | eu_auc: 0.8070 | eu_acc: 0.8968\n",
      "\tSaving model and optimizer state to /kaggle/working/checkpoint/magface/normalmap/models/checkpoint.pth\n",
      "\tEpoch 327: EarlyStopping counter for 'test_cosine_auc': 39/50\n",
      "\tEpoch 327: EarlyStopping counter for 'test_cosine_accuracy': 110/50\n",
      "\tEpoch 327: EarlyStopping counter for 'test_euclidean_auc': 45/50\n",
      "\tEpoch 327: EarlyStopping counter for 'test_euclidean_accuracy': 73/50\n"
     ]
    },
    {
     "name": "stderr",
     "output_type": "stream",
     "text": [
      "/usr/lib/python3.10/multiprocessing/popen_fork.py:66: RuntimeWarning: os.fork() was called. os.fork() is incompatible with multithreaded code, and JAX is multithreaded, so this will likely lead to a deadlock.\n",
      "  self.pid = os.fork()\n",
      "/usr/lib/python3.10/multiprocessing/popen_fork.py:66: RuntimeWarning: os.fork() was called. os.fork() is incompatible with multithreaded code, and JAX is multithreaded, so this will likely lead to a deadlock.\n",
      "  self.pid = os.fork()\n"
     ]
    },
    {
     "name": "stdout",
     "output_type": "stream",
     "text": [
      "Epoch 328:\n",
      "\ttrain: loss 1.328 | loss id   1.30 | top_1_acc 0.9528 | top_5_acc 0.9955 | cos_auc: 0.9965 | cos_acc: 0.9739 | eu_auc: 0.9927 | eu_acc: 0.9703\n",
      "\ttest: cos_auc: 0.8020 | cos_acc: 0.7490 | eu_auc: 0.7945 | eu_acc: 0.7890\n",
      "\tSaving model and optimizer state to /kaggle/working/checkpoint/magface/normalmap/models/checkpoint.pth\n",
      "\tEpoch 328: EarlyStopping counter for 'test_cosine_auc': 40/50\n",
      "\tEpoch 328: EarlyStopping counter for 'test_cosine_accuracy': 111/50\n",
      "\tEpoch 328: EarlyStopping counter for 'test_euclidean_auc': 46/50\n",
      "\tEpoch 328: EarlyStopping counter for 'test_euclidean_accuracy': 74/50\n"
     ]
    },
    {
     "name": "stderr",
     "output_type": "stream",
     "text": [
      "/usr/lib/python3.10/multiprocessing/popen_fork.py:66: RuntimeWarning: os.fork() was called. os.fork() is incompatible with multithreaded code, and JAX is multithreaded, so this will likely lead to a deadlock.\n",
      "  self.pid = os.fork()\n",
      "/usr/lib/python3.10/multiprocessing/popen_fork.py:66: RuntimeWarning: os.fork() was called. os.fork() is incompatible with multithreaded code, and JAX is multithreaded, so this will likely lead to a deadlock.\n",
      "  self.pid = os.fork()\n"
     ]
    },
    {
     "name": "stdout",
     "output_type": "stream",
     "text": [
      "Epoch 329:\n",
      "\ttrain: loss 1.304 | loss id   1.28 | top_1_acc 0.9595 | top_5_acc 0.9966 | cos_auc: 0.9988 | cos_acc: 0.9838 | eu_auc: 0.9965 | eu_acc: 0.9753\n",
      "\ttest: cos_auc: 0.8173 | cos_acc: 0.8667 | eu_auc: 0.8210 | eu_acc: 0.7816\n",
      "\tSaving model and optimizer state to /kaggle/working/checkpoint/magface/normalmap/models/checkpoint.pth\n",
      "\tEpoch 329: EarlyStopping counter for 'test_cosine_auc': 41/50\n",
      "\tEpoch 329: EarlyStopping counter for 'test_cosine_accuracy': 112/50\n",
      "\tEpoch 329: EarlyStopping counter for 'test_euclidean_auc': 47/50\n",
      "\tEpoch 329: EarlyStopping counter for 'test_euclidean_accuracy': 75/50\n"
     ]
    },
    {
     "name": "stderr",
     "output_type": "stream",
     "text": [
      "/usr/lib/python3.10/multiprocessing/popen_fork.py:66: RuntimeWarning: os.fork() was called. os.fork() is incompatible with multithreaded code, and JAX is multithreaded, so this will likely lead to a deadlock.\n",
      "  self.pid = os.fork()\n",
      "/usr/lib/python3.10/multiprocessing/popen_fork.py:66: RuntimeWarning: os.fork() was called. os.fork() is incompatible with multithreaded code, and JAX is multithreaded, so this will likely lead to a deadlock.\n",
      "  self.pid = os.fork()\n"
     ]
    },
    {
     "name": "stdout",
     "output_type": "stream",
     "text": [
      "Epoch 330:\n",
      "\ttrain: loss 1.269 | loss id   1.25 | top_1_acc 0.9516 | top_5_acc 0.9966 | cos_auc: 0.9979 | cos_acc: 0.9814 | eu_auc: 0.9957 | eu_acc: 0.9715\n",
      "\ttest: cos_auc: 0.8382 | cos_acc: 0.7998 | eu_auc: 0.7947 | eu_acc: 0.8237\n",
      "\tSaving model and optimizer state to /kaggle/working/checkpoint/magface/normalmap/models/checkpoint.pth\n",
      "\tEpoch 330: EarlyStopping counter for 'test_cosine_auc': 42/50\n",
      "\tEpoch 330: EarlyStopping counter for 'test_cosine_accuracy': 113/50\n",
      "\tEpoch 330: EarlyStopping counter for 'test_euclidean_auc': 48/50\n",
      "\tEpoch 330: EarlyStopping counter for 'test_euclidean_accuracy': 76/50\n"
     ]
    },
    {
     "name": "stderr",
     "output_type": "stream",
     "text": [
      "/usr/lib/python3.10/multiprocessing/popen_fork.py:66: RuntimeWarning: os.fork() was called. os.fork() is incompatible with multithreaded code, and JAX is multithreaded, so this will likely lead to a deadlock.\n",
      "  self.pid = os.fork()\n",
      "/usr/lib/python3.10/multiprocessing/popen_fork.py:66: RuntimeWarning: os.fork() was called. os.fork() is incompatible with multithreaded code, and JAX is multithreaded, so this will likely lead to a deadlock.\n",
      "  self.pid = os.fork()\n"
     ]
    },
    {
     "name": "stdout",
     "output_type": "stream",
     "text": [
      "Epoch 331:\n",
      "\ttrain: loss 1.211 | loss id   1.19 | top_1_acc 0.9764 | top_5_acc 1.0000 | cos_auc: 0.9986 | cos_acc: 0.9842 | eu_auc: 0.9959 | eu_acc: 0.9627\n",
      "\ttest: cos_auc: 0.8434 | cos_acc: 0.8655 | eu_auc: 0.8212 | eu_acc: 0.8237\n",
      "\tSaving model and optimizer state to /kaggle/working/checkpoint/magface/normalmap/models/checkpoint.pth\n",
      "\tEpoch 331: EarlyStopping counter for 'test_cosine_auc': 43/50\n",
      "\tEpoch 331: EarlyStopping counter for 'test_cosine_accuracy': 114/50\n",
      "\tEpoch 331: EarlyStopping counter for 'test_euclidean_auc': 49/50\n",
      "\tEpoch 331: EarlyStopping counter for 'test_euclidean_accuracy': 77/50\n"
     ]
    },
    {
     "name": "stderr",
     "output_type": "stream",
     "text": [
      "/usr/lib/python3.10/multiprocessing/popen_fork.py:66: RuntimeWarning: os.fork() was called. os.fork() is incompatible with multithreaded code, and JAX is multithreaded, so this will likely lead to a deadlock.\n",
      "  self.pid = os.fork()\n",
      "/usr/lib/python3.10/multiprocessing/popen_fork.py:66: RuntimeWarning: os.fork() was called. os.fork() is incompatible with multithreaded code, and JAX is multithreaded, so this will likely lead to a deadlock.\n",
      "  self.pid = os.fork()\n"
     ]
    },
    {
     "name": "stdout",
     "output_type": "stream",
     "text": [
      "Epoch 332:\n",
      "\ttrain: loss 1.247 | loss id   1.22 | top_1_acc 0.9618 | top_5_acc 0.9978 | cos_auc: 0.9987 | cos_acc: 0.9788 | eu_auc: 0.9973 | eu_acc: 0.9777\n",
      "\ttest: cos_auc: 0.8342 | cos_acc: 0.7641 | eu_auc: 0.8103 | eu_acc: 0.8139\n",
      "\tSaving model and optimizer state to /kaggle/working/checkpoint/magface/normalmap/models/checkpoint.pth\n",
      "\tEpoch 332: EarlyStopping counter for 'test_cosine_auc': 44/50\n",
      "\tEpoch 332: EarlyStopping counter for 'test_cosine_accuracy': 115/50\n",
      "\tEpoch 332: EarlyStopping counter for 'test_euclidean_auc': 50/50\n",
      "\tEpoch 332: EarlyStopping counter for 'test_euclidean_accuracy': 78/50\n"
     ]
    },
    {
     "name": "stderr",
     "output_type": "stream",
     "text": [
      "/usr/lib/python3.10/multiprocessing/popen_fork.py:66: RuntimeWarning: os.fork() was called. os.fork() is incompatible with multithreaded code, and JAX is multithreaded, so this will likely lead to a deadlock.\n",
      "  self.pid = os.fork()\n",
      "/usr/lib/python3.10/multiprocessing/popen_fork.py:66: RuntimeWarning: os.fork() was called. os.fork() is incompatible with multithreaded code, and JAX is multithreaded, so this will likely lead to a deadlock.\n",
      "  self.pid = os.fork()\n"
     ]
    },
    {
     "name": "stdout",
     "output_type": "stream",
     "text": [
      "Epoch 333:\n",
      "\ttrain: loss 1.165 | loss id   1.14 | top_1_acc 0.9764 | top_5_acc 0.9966 | cos_auc: 0.9991 | cos_acc: 0.9855 | eu_auc: 0.9974 | eu_acc: 0.9753\n",
      "\ttest: cos_auc: 0.8522 | cos_acc: 0.8037 | eu_auc: 0.8228 | eu_acc: 0.8433\n",
      "\tSaving model and optimizer state to /kaggle/working/checkpoint/magface/normalmap/models/checkpoint.pth\n",
      "\tEpoch 333: EarlyStopping counter for 'test_cosine_auc': 45/50\n",
      "\tEpoch 333: EarlyStopping counter for 'test_cosine_accuracy': 116/50\n",
      "\tEpoch 333: EarlyStopping counter for 'test_euclidean_auc': 51/50\n",
      "\tEpoch 333: EarlyStopping counter for 'test_euclidean_accuracy': 79/50\n"
     ]
    },
    {
     "name": "stderr",
     "output_type": "stream",
     "text": [
      "/usr/lib/python3.10/multiprocessing/popen_fork.py:66: RuntimeWarning: os.fork() was called. os.fork() is incompatible with multithreaded code, and JAX is multithreaded, so this will likely lead to a deadlock.\n",
      "  self.pid = os.fork()\n",
      "/usr/lib/python3.10/multiprocessing/popen_fork.py:66: RuntimeWarning: os.fork() was called. os.fork() is incompatible with multithreaded code, and JAX is multithreaded, so this will likely lead to a deadlock.\n",
      "  self.pid = os.fork()\n"
     ]
    },
    {
     "name": "stdout",
     "output_type": "stream",
     "text": [
      "Epoch 334:\n",
      "\ttrain: loss 1.198 | loss id   1.17 | top_1_acc 0.9730 | top_5_acc 0.9966 | cos_auc: 0.9996 | cos_acc: 0.9925 | eu_auc: 0.9979 | eu_acc: 0.9846\n",
      "\ttest: cos_auc: 0.8479 | cos_acc: 0.7390 | eu_auc: 0.8166 | eu_acc: 0.8222\n",
      "\tSaving model and optimizer state to /kaggle/working/checkpoint/magface/normalmap/models/checkpoint.pth\n",
      "\tEpoch 334: EarlyStopping counter for 'test_cosine_auc': 46/50\n",
      "\tEpoch 334: EarlyStopping counter for 'test_cosine_accuracy': 117/50\n",
      "\tEpoch 334: EarlyStopping counter for 'test_euclidean_auc': 52/50\n",
      "\tEpoch 334: EarlyStopping counter for 'test_euclidean_accuracy': 80/50\n"
     ]
    },
    {
     "name": "stderr",
     "output_type": "stream",
     "text": [
      "/usr/lib/python3.10/multiprocessing/popen_fork.py:66: RuntimeWarning: os.fork() was called. os.fork() is incompatible with multithreaded code, and JAX is multithreaded, so this will likely lead to a deadlock.\n",
      "  self.pid = os.fork()\n",
      "/usr/lib/python3.10/multiprocessing/popen_fork.py:66: RuntimeWarning: os.fork() was called. os.fork() is incompatible with multithreaded code, and JAX is multithreaded, so this will likely lead to a deadlock.\n",
      "  self.pid = os.fork()\n"
     ]
    },
    {
     "name": "stdout",
     "output_type": "stream",
     "text": [
      "Epoch 335:\n",
      "\ttrain: loss 1.152 | loss id   1.13 | top_1_acc 0.9775 | top_5_acc 0.9966 | cos_auc: 0.9996 | cos_acc: 0.9934 | eu_auc: 0.9980 | eu_acc: 0.9851\n",
      "\ttest: cos_auc: 0.8576 | cos_acc: 0.8173 | eu_auc: 0.8191 | eu_acc: 0.8021\n",
      "\tSaving model and optimizer state to /kaggle/working/checkpoint/magface/normalmap/models/checkpoint.pth\n",
      "\tSaved best model weights for 'test_cosine_auc' at epoch 335 to '/kaggle/working/checkpoint/magface/normalmap/models/best_test_cosine_auc_335.pth'\n",
      "\tEpoch 335: EarlyStopping counter for 'test_cosine_accuracy': 118/50\n",
      "\tEpoch 335: EarlyStopping counter for 'test_euclidean_auc': 53/50\n",
      "\tEpoch 335: EarlyStopping counter for 'test_euclidean_accuracy': 81/50\n"
     ]
    },
    {
     "name": "stderr",
     "output_type": "stream",
     "text": [
      "/usr/lib/python3.10/multiprocessing/popen_fork.py:66: RuntimeWarning: os.fork() was called. os.fork() is incompatible with multithreaded code, and JAX is multithreaded, so this will likely lead to a deadlock.\n",
      "  self.pid = os.fork()\n",
      "/usr/lib/python3.10/multiprocessing/popen_fork.py:66: RuntimeWarning: os.fork() was called. os.fork() is incompatible with multithreaded code, and JAX is multithreaded, so this will likely lead to a deadlock.\n",
      "  self.pid = os.fork()\n"
     ]
    },
    {
     "name": "stdout",
     "output_type": "stream",
     "text": [
      "Epoch 336:\n",
      "\ttrain: loss 1.135 | loss id   1.11 | top_1_acc 0.9741 | top_5_acc 0.9966 | cos_auc: 0.9995 | cos_acc: 0.9903 | eu_auc: 0.9976 | eu_acc: 0.9819\n",
      "\ttest: cos_auc: 0.8443 | cos_acc: 0.8900 | eu_auc: 0.8219 | eu_acc: 0.7388\n",
      "\tSaving model and optimizer state to /kaggle/working/checkpoint/magface/normalmap/models/checkpoint.pth\n",
      "\tEpoch 336: EarlyStopping counter for 'test_cosine_auc': 1/50\n",
      "\tEpoch 336: EarlyStopping counter for 'test_cosine_accuracy': 119/50\n",
      "\tEpoch 336: EarlyStopping counter for 'test_euclidean_auc': 54/50\n",
      "\tEpoch 336: EarlyStopping counter for 'test_euclidean_accuracy': 82/50\n"
     ]
    },
    {
     "name": "stderr",
     "output_type": "stream",
     "text": [
      "/usr/lib/python3.10/multiprocessing/popen_fork.py:66: RuntimeWarning: os.fork() was called. os.fork() is incompatible with multithreaded code, and JAX is multithreaded, so this will likely lead to a deadlock.\n",
      "  self.pid = os.fork()\n",
      "/usr/lib/python3.10/multiprocessing/popen_fork.py:66: RuntimeWarning: os.fork() was called. os.fork() is incompatible with multithreaded code, and JAX is multithreaded, so this will likely lead to a deadlock.\n",
      "  self.pid = os.fork()\n"
     ]
    },
    {
     "name": "stdout",
     "output_type": "stream",
     "text": [
      "Epoch 337:\n",
      "\ttrain: loss 1.054 | loss id   1.03 | top_1_acc 0.9753 | top_5_acc 0.9989 | cos_auc: 0.9997 | cos_acc: 0.9923 | eu_auc: 0.9987 | eu_acc: 0.9793\n",
      "\ttest: cos_auc: 0.8550 | cos_acc: 0.7586 | eu_auc: 0.8284 | eu_acc: 0.8118\n",
      "\tSaving model and optimizer state to /kaggle/working/checkpoint/magface/normalmap/models/checkpoint.pth\n",
      "\tEpoch 337: EarlyStopping counter for 'test_cosine_auc': 2/50\n",
      "\tEpoch 337: EarlyStopping counter for 'test_cosine_accuracy': 120/50\n",
      "\tEpoch 337: EarlyStopping counter for 'test_euclidean_auc': 55/50\n",
      "\tEpoch 337: EarlyStopping counter for 'test_euclidean_accuracy': 83/50\n"
     ]
    },
    {
     "name": "stderr",
     "output_type": "stream",
     "text": [
      "/usr/lib/python3.10/multiprocessing/popen_fork.py:66: RuntimeWarning: os.fork() was called. os.fork() is incompatible with multithreaded code, and JAX is multithreaded, so this will likely lead to a deadlock.\n",
      "  self.pid = os.fork()\n",
      "/usr/lib/python3.10/multiprocessing/popen_fork.py:66: RuntimeWarning: os.fork() was called. os.fork() is incompatible with multithreaded code, and JAX is multithreaded, so this will likely lead to a deadlock.\n",
      "  self.pid = os.fork()\n"
     ]
    },
    {
     "name": "stdout",
     "output_type": "stream",
     "text": [
      "Epoch 338:\n",
      "\ttrain: loss 1.052 | loss id   1.03 | top_1_acc 0.9854 | top_5_acc 0.9978 | cos_auc: 0.9997 | cos_acc: 0.9913 | eu_auc: 0.9990 | eu_acc: 0.9890\n",
      "\ttest: cos_auc: 0.8420 | cos_acc: 0.7150 | eu_auc: 0.8325 | eu_acc: 0.7293\n",
      "\tSaving model and optimizer state to /kaggle/working/checkpoint/magface/normalmap/models/checkpoint.pth\n",
      "\tEpoch 338: EarlyStopping counter for 'test_cosine_auc': 3/50\n",
      "\tEpoch 338: EarlyStopping counter for 'test_cosine_accuracy': 121/50\n",
      "\tEpoch 338: EarlyStopping counter for 'test_euclidean_auc': 56/50\n",
      "\tEpoch 338: EarlyStopping counter for 'test_euclidean_accuracy': 84/50\n"
     ]
    },
    {
     "name": "stderr",
     "output_type": "stream",
     "text": [
      "/usr/lib/python3.10/multiprocessing/popen_fork.py:66: RuntimeWarning: os.fork() was called. os.fork() is incompatible with multithreaded code, and JAX is multithreaded, so this will likely lead to a deadlock.\n",
      "  self.pid = os.fork()\n",
      "/usr/lib/python3.10/multiprocessing/popen_fork.py:66: RuntimeWarning: os.fork() was called. os.fork() is incompatible with multithreaded code, and JAX is multithreaded, so this will likely lead to a deadlock.\n",
      "  self.pid = os.fork()\n"
     ]
    },
    {
     "name": "stdout",
     "output_type": "stream",
     "text": [
      "Epoch 339:\n",
      "\ttrain: loss 1.018 | loss id   1.00 | top_1_acc 0.9843 | top_5_acc 0.9989 | cos_auc: 0.9999 | cos_acc: 0.9962 | eu_auc: 0.9993 | eu_acc: 0.9923\n",
      "\ttest: cos_auc: 0.8498 | cos_acc: 0.8119 | eu_auc: 0.8330 | eu_acc: 0.7756\n",
      "\tSaving model and optimizer state to /kaggle/working/checkpoint/magface/normalmap/models/checkpoint.pth\n",
      "\tEpoch 339: EarlyStopping counter for 'test_cosine_auc': 4/50\n",
      "\tEpoch 339: EarlyStopping counter for 'test_cosine_accuracy': 122/50\n",
      "\tEpoch 339: EarlyStopping counter for 'test_euclidean_auc': 57/50\n",
      "\tEpoch 339: EarlyStopping counter for 'test_euclidean_accuracy': 85/50\n"
     ]
    },
    {
     "name": "stderr",
     "output_type": "stream",
     "text": [
      "/usr/lib/python3.10/multiprocessing/popen_fork.py:66: RuntimeWarning: os.fork() was called. os.fork() is incompatible with multithreaded code, and JAX is multithreaded, so this will likely lead to a deadlock.\n",
      "  self.pid = os.fork()\n",
      "/usr/lib/python3.10/multiprocessing/popen_fork.py:66: RuntimeWarning: os.fork() was called. os.fork() is incompatible with multithreaded code, and JAX is multithreaded, so this will likely lead to a deadlock.\n",
      "  self.pid = os.fork()\n"
     ]
    },
    {
     "name": "stdout",
     "output_type": "stream",
     "text": [
      "Epoch 340:\n",
      "\ttrain: loss 0.988 | loss id   0.96 | top_1_acc 0.9865 | top_5_acc 1.0000 | cos_auc: 0.9999 | cos_acc: 0.9957 | eu_auc: 0.9993 | eu_acc: 0.9902\n",
      "\ttest: cos_auc: 0.8435 | cos_acc: 0.8453 | eu_auc: 0.8336 | eu_acc: 0.7156\n",
      "\tSaving model and optimizer state to /kaggle/working/checkpoint/magface/normalmap/models/checkpoint.pth\n",
      "\tEpoch 340: EarlyStopping counter for 'test_cosine_auc': 5/50\n",
      "\tEpoch 340: EarlyStopping counter for 'test_cosine_accuracy': 123/50\n",
      "\tEpoch 340: EarlyStopping counter for 'test_euclidean_auc': 58/50\n",
      "\tEpoch 340: EarlyStopping counter for 'test_euclidean_accuracy': 86/50\n"
     ]
    },
    {
     "name": "stderr",
     "output_type": "stream",
     "text": [
      "/usr/lib/python3.10/multiprocessing/popen_fork.py:66: RuntimeWarning: os.fork() was called. os.fork() is incompatible with multithreaded code, and JAX is multithreaded, so this will likely lead to a deadlock.\n",
      "  self.pid = os.fork()\n",
      "/usr/lib/python3.10/multiprocessing/popen_fork.py:66: RuntimeWarning: os.fork() was called. os.fork() is incompatible with multithreaded code, and JAX is multithreaded, so this will likely lead to a deadlock.\n",
      "  self.pid = os.fork()\n"
     ]
    },
    {
     "name": "stdout",
     "output_type": "stream",
     "text": [
      "Epoch 341:\n",
      "\ttrain: loss 0.944 | loss id   0.92 | top_1_acc 0.9888 | top_5_acc 0.9989 | cos_auc: 0.9999 | cos_acc: 0.9943 | eu_auc: 0.9991 | eu_acc: 0.9923\n",
      "\ttest: cos_auc: 0.8355 | cos_acc: 0.7401 | eu_auc: 0.8269 | eu_acc: 0.8657\n",
      "\tSaving model and optimizer state to /kaggle/working/checkpoint/magface/normalmap/models/checkpoint.pth\n",
      "\tEpoch 341: EarlyStopping counter for 'test_cosine_auc': 6/50\n",
      "\tEpoch 341: EarlyStopping counter for 'test_cosine_accuracy': 124/50\n",
      "\tEpoch 341: EarlyStopping counter for 'test_euclidean_auc': 59/50\n",
      "\tEpoch 341: EarlyStopping counter for 'test_euclidean_accuracy': 87/50\n"
     ]
    },
    {
     "name": "stderr",
     "output_type": "stream",
     "text": [
      "/usr/lib/python3.10/multiprocessing/popen_fork.py:66: RuntimeWarning: os.fork() was called. os.fork() is incompatible with multithreaded code, and JAX is multithreaded, so this will likely lead to a deadlock.\n",
      "  self.pid = os.fork()\n",
      "/usr/lib/python3.10/multiprocessing/popen_fork.py:66: RuntimeWarning: os.fork() was called. os.fork() is incompatible with multithreaded code, and JAX is multithreaded, so this will likely lead to a deadlock.\n",
      "  self.pid = os.fork()\n"
     ]
    },
    {
     "name": "stdout",
     "output_type": "stream",
     "text": [
      "Epoch 342:\n",
      "\ttrain: loss 0.904 | loss id   0.88 | top_1_acc 0.9888 | top_5_acc 1.0000 | cos_auc: 1.0000 | cos_acc: 0.9958 | eu_auc: 0.9995 | eu_acc: 0.9875\n",
      "\ttest: cos_auc: 0.8499 | cos_acc: 0.7329 | eu_auc: 0.8259 | eu_acc: 0.8147\n",
      "\tSaving model and optimizer state to /kaggle/working/checkpoint/magface/normalmap/models/checkpoint.pth\n",
      "\tEpoch 342: EarlyStopping counter for 'test_cosine_auc': 7/50\n",
      "\tEpoch 342: EarlyStopping counter for 'test_cosine_accuracy': 125/50\n",
      "\tEpoch 342: EarlyStopping counter for 'test_euclidean_auc': 60/50\n",
      "\tEpoch 342: EarlyStopping counter for 'test_euclidean_accuracy': 88/50\n"
     ]
    },
    {
     "name": "stderr",
     "output_type": "stream",
     "text": [
      "/usr/lib/python3.10/multiprocessing/popen_fork.py:66: RuntimeWarning: os.fork() was called. os.fork() is incompatible with multithreaded code, and JAX is multithreaded, so this will likely lead to a deadlock.\n",
      "  self.pid = os.fork()\n",
      "/usr/lib/python3.10/multiprocessing/popen_fork.py:66: RuntimeWarning: os.fork() was called. os.fork() is incompatible with multithreaded code, and JAX is multithreaded, so this will likely lead to a deadlock.\n",
      "  self.pid = os.fork()\n"
     ]
    },
    {
     "name": "stdout",
     "output_type": "stream",
     "text": [
      "Epoch 343:\n",
      "\ttrain: loss 0.874 | loss id   0.85 | top_1_acc 0.9978 | top_5_acc 1.0000 | cos_auc: 0.9999 | cos_acc: 0.9948 | eu_auc: 0.9993 | eu_acc: 0.9868\n",
      "\ttest: cos_auc: 0.8437 | cos_acc: 0.8701 | eu_auc: 0.8232 | eu_acc: 0.8234\n",
      "\tSaving model and optimizer state to /kaggle/working/checkpoint/magface/normalmap/models/checkpoint.pth\n",
      "\tEpoch 343: EarlyStopping counter for 'test_cosine_auc': 8/50\n",
      "\tEpoch 343: EarlyStopping counter for 'test_cosine_accuracy': 126/50\n",
      "\tEpoch 343: EarlyStopping counter for 'test_euclidean_auc': 61/50\n",
      "\tEpoch 343: EarlyStopping counter for 'test_euclidean_accuracy': 89/50\n"
     ]
    },
    {
     "name": "stderr",
     "output_type": "stream",
     "text": [
      "/usr/lib/python3.10/multiprocessing/popen_fork.py:66: RuntimeWarning: os.fork() was called. os.fork() is incompatible with multithreaded code, and JAX is multithreaded, so this will likely lead to a deadlock.\n",
      "  self.pid = os.fork()\n",
      "/usr/lib/python3.10/multiprocessing/popen_fork.py:66: RuntimeWarning: os.fork() was called. os.fork() is incompatible with multithreaded code, and JAX is multithreaded, so this will likely lead to a deadlock.\n",
      "  self.pid = os.fork()\n"
     ]
    },
    {
     "name": "stdout",
     "output_type": "stream",
     "text": [
      "Epoch 344:\n",
      "\ttrain: loss 0.863 | loss id   0.84 | top_1_acc 0.9876 | top_5_acc 1.0000 | cos_auc: 1.0000 | cos_acc: 0.9960 | eu_auc: 0.9997 | eu_acc: 0.9901\n",
      "\ttest: cos_auc: 0.8593 | cos_acc: 0.7068 | eu_auc: 0.8311 | eu_acc: 0.8446\n",
      "\tSaving model and optimizer state to /kaggle/working/checkpoint/magface/normalmap/models/checkpoint.pth\n",
      "\tSaved best model weights for 'test_cosine_auc' at epoch 344 to '/kaggle/working/checkpoint/magface/normalmap/models/best_test_cosine_auc_344.pth'\n",
      "\tEpoch 344: EarlyStopping counter for 'test_cosine_accuracy': 127/50\n",
      "\tEpoch 344: EarlyStopping counter for 'test_euclidean_auc': 62/50\n",
      "\tEpoch 344: EarlyStopping counter for 'test_euclidean_accuracy': 90/50\n"
     ]
    },
    {
     "name": "stderr",
     "output_type": "stream",
     "text": [
      "/usr/lib/python3.10/multiprocessing/popen_fork.py:66: RuntimeWarning: os.fork() was called. os.fork() is incompatible with multithreaded code, and JAX is multithreaded, so this will likely lead to a deadlock.\n",
      "  self.pid = os.fork()\n",
      "/usr/lib/python3.10/multiprocessing/popen_fork.py:66: RuntimeWarning: os.fork() was called. os.fork() is incompatible with multithreaded code, and JAX is multithreaded, so this will likely lead to a deadlock.\n",
      "  self.pid = os.fork()\n"
     ]
    },
    {
     "name": "stdout",
     "output_type": "stream",
     "text": [
      "Epoch 345:\n",
      "\ttrain: loss 0.860 | loss id   0.84 | top_1_acc 0.9910 | top_5_acc 1.0000 | cos_auc: 1.0000 | cos_acc: 0.9978 | eu_auc: 0.9996 | eu_acc: 0.9927\n",
      "\ttest: cos_auc: 0.8560 | cos_acc: 0.8073 | eu_auc: 0.8374 | eu_acc: 0.8085\n",
      "\tSaving model and optimizer state to /kaggle/working/checkpoint/magface/normalmap/models/checkpoint.pth\n",
      "\tEpoch 345: EarlyStopping counter for 'test_cosine_auc': 1/50\n",
      "\tEpoch 345: EarlyStopping counter for 'test_cosine_accuracy': 128/50\n",
      "\tEpoch 345: EarlyStopping counter for 'test_euclidean_auc': 63/50\n",
      "\tEpoch 345: EarlyStopping counter for 'test_euclidean_accuracy': 91/50\n"
     ]
    },
    {
     "name": "stderr",
     "output_type": "stream",
     "text": [
      "/usr/lib/python3.10/multiprocessing/popen_fork.py:66: RuntimeWarning: os.fork() was called. os.fork() is incompatible with multithreaded code, and JAX is multithreaded, so this will likely lead to a deadlock.\n",
      "  self.pid = os.fork()\n",
      "/usr/lib/python3.10/multiprocessing/popen_fork.py:66: RuntimeWarning: os.fork() was called. os.fork() is incompatible with multithreaded code, and JAX is multithreaded, so this will likely lead to a deadlock.\n",
      "  self.pid = os.fork()\n"
     ]
    },
    {
     "name": "stdout",
     "output_type": "stream",
     "text": [
      "Epoch 346:\n",
      "\ttrain: loss 0.803 | loss id   0.78 | top_1_acc 0.9955 | top_5_acc 1.0000 | cos_auc: 0.9999 | cos_acc: 0.9944 | eu_auc: 0.9995 | eu_acc: 0.9955\n",
      "\ttest: cos_auc: 0.8482 | cos_acc: 0.8158 | eu_auc: 0.8406 | eu_acc: 0.7833\n",
      "\tSaving model and optimizer state to /kaggle/working/checkpoint/magface/normalmap/models/checkpoint.pth\n",
      "\tEpoch 346: EarlyStopping counter for 'test_cosine_auc': 2/50\n",
      "\tEpoch 346: EarlyStopping counter for 'test_cosine_accuracy': 129/50\n",
      "\tEpoch 346: EarlyStopping counter for 'test_euclidean_auc': 64/50\n",
      "\tEpoch 346: EarlyStopping counter for 'test_euclidean_accuracy': 92/50\n"
     ]
    },
    {
     "name": "stderr",
     "output_type": "stream",
     "text": [
      "/usr/lib/python3.10/multiprocessing/popen_fork.py:66: RuntimeWarning: os.fork() was called. os.fork() is incompatible with multithreaded code, and JAX is multithreaded, so this will likely lead to a deadlock.\n",
      "  self.pid = os.fork()\n",
      "/usr/lib/python3.10/multiprocessing/popen_fork.py:66: RuntimeWarning: os.fork() was called. os.fork() is incompatible with multithreaded code, and JAX is multithreaded, so this will likely lead to a deadlock.\n",
      "  self.pid = os.fork()\n"
     ]
    },
    {
     "name": "stdout",
     "output_type": "stream",
     "text": [
      "Epoch 347:\n",
      "\ttrain: loss 0.773 | loss id   0.75 | top_1_acc 0.9978 | top_5_acc 1.0000 | cos_auc: 1.0000 | cos_acc: 0.9980 | eu_auc: 0.9994 | eu_acc: 0.9932\n",
      "\ttest: cos_auc: 0.8528 | cos_acc: 0.9016 | eu_auc: 0.8325 | eu_acc: 0.7585\n",
      "\tSaving model and optimizer state to /kaggle/working/checkpoint/magface/normalmap/models/checkpoint.pth\n",
      "\tEpoch 347: EarlyStopping counter for 'test_cosine_auc': 3/50\n",
      "\tEpoch 347: EarlyStopping counter for 'test_cosine_accuracy': 130/50\n",
      "\tEpoch 347: EarlyStopping counter for 'test_euclidean_auc': 65/50\n",
      "\tEpoch 347: EarlyStopping counter for 'test_euclidean_accuracy': 93/50\n"
     ]
    },
    {
     "name": "stderr",
     "output_type": "stream",
     "text": [
      "/usr/lib/python3.10/multiprocessing/popen_fork.py:66: RuntimeWarning: os.fork() was called. os.fork() is incompatible with multithreaded code, and JAX is multithreaded, so this will likely lead to a deadlock.\n",
      "  self.pid = os.fork()\n",
      "/usr/lib/python3.10/multiprocessing/popen_fork.py:66: RuntimeWarning: os.fork() was called. os.fork() is incompatible with multithreaded code, and JAX is multithreaded, so this will likely lead to a deadlock.\n",
      "  self.pid = os.fork()\n"
     ]
    },
    {
     "name": "stdout",
     "output_type": "stream",
     "text": [
      "Epoch 348:\n",
      "\ttrain: loss 0.774 | loss id   0.75 | top_1_acc 0.9966 | top_5_acc 1.0000 | cos_auc: 0.9999 | cos_acc: 0.9984 | eu_auc: 0.9995 | eu_acc: 0.9941\n",
      "\ttest: cos_auc: 0.8441 | cos_acc: 0.7144 | eu_auc: 0.8282 | eu_acc: 0.7590\n",
      "\tSaving model and optimizer state to /kaggle/working/checkpoint/magface/normalmap/models/checkpoint.pth\n",
      "\tEpoch 348: EarlyStopping counter for 'test_cosine_auc': 4/50\n",
      "\tEpoch 348: EarlyStopping counter for 'test_cosine_accuracy': 131/50\n",
      "\tEpoch 348: EarlyStopping counter for 'test_euclidean_auc': 66/50\n",
      "\tEpoch 348: EarlyStopping counter for 'test_euclidean_accuracy': 94/50\n"
     ]
    },
    {
     "name": "stderr",
     "output_type": "stream",
     "text": [
      "/usr/lib/python3.10/multiprocessing/popen_fork.py:66: RuntimeWarning: os.fork() was called. os.fork() is incompatible with multithreaded code, and JAX is multithreaded, so this will likely lead to a deadlock.\n",
      "  self.pid = os.fork()\n",
      "/usr/lib/python3.10/multiprocessing/popen_fork.py:66: RuntimeWarning: os.fork() was called. os.fork() is incompatible with multithreaded code, and JAX is multithreaded, so this will likely lead to a deadlock.\n",
      "  self.pid = os.fork()\n"
     ]
    },
    {
     "name": "stdout",
     "output_type": "stream",
     "text": [
      "Epoch 349:\n",
      "\ttrain: loss 0.766 | loss id   0.74 | top_1_acc 0.9944 | top_5_acc 1.0000 | cos_auc: 1.0000 | cos_acc: 0.9978 | eu_auc: 0.9997 | eu_acc: 0.9927\n",
      "\ttest: cos_auc: 0.8531 | cos_acc: 0.7870 | eu_auc: 0.8195 | eu_acc: 0.8265\n",
      "\tSaving model and optimizer state to /kaggle/working/checkpoint/magface/normalmap/models/checkpoint.pth\n",
      "\tEpoch 349: EarlyStopping counter for 'test_cosine_auc': 5/50\n",
      "\tEpoch 349: EarlyStopping counter for 'test_cosine_accuracy': 132/50\n",
      "\tEpoch 349: EarlyStopping counter for 'test_euclidean_auc': 67/50\n",
      "\tEpoch 349: EarlyStopping counter for 'test_euclidean_accuracy': 95/50\n"
     ]
    },
    {
     "name": "stderr",
     "output_type": "stream",
     "text": [
      "/usr/lib/python3.10/multiprocessing/popen_fork.py:66: RuntimeWarning: os.fork() was called. os.fork() is incompatible with multithreaded code, and JAX is multithreaded, so this will likely lead to a deadlock.\n",
      "  self.pid = os.fork()\n",
      "/usr/lib/python3.10/multiprocessing/popen_fork.py:66: RuntimeWarning: os.fork() was called. os.fork() is incompatible with multithreaded code, and JAX is multithreaded, so this will likely lead to a deadlock.\n",
      "  self.pid = os.fork()\n"
     ]
    },
    {
     "name": "stdout",
     "output_type": "stream",
     "text": [
      "Epoch 350:\n",
      "\ttrain: loss 0.716 | loss id   0.69 | top_1_acc 0.9955 | top_5_acc 1.0000 | cos_auc: 0.9999 | cos_acc: 0.9989 | eu_auc: 0.9996 | eu_acc: 0.9965\n",
      "\ttest: cos_auc: 0.8499 | cos_acc: 0.7987 | eu_auc: 0.8360 | eu_acc: 0.7542\n",
      "\tSaving model and optimizer state to /kaggle/working/checkpoint/magface/normalmap/models/checkpoint.pth\n",
      "\tEpoch 350: EarlyStopping counter for 'test_cosine_auc': 6/50\n",
      "\tEpoch 350: EarlyStopping counter for 'test_cosine_accuracy': 133/50\n",
      "\tEpoch 350: EarlyStopping counter for 'test_euclidean_auc': 68/50\n",
      "\tEpoch 350: EarlyStopping counter for 'test_euclidean_accuracy': 96/50\n"
     ]
    },
    {
     "name": "stderr",
     "output_type": "stream",
     "text": [
      "/usr/lib/python3.10/multiprocessing/popen_fork.py:66: RuntimeWarning: os.fork() was called. os.fork() is incompatible with multithreaded code, and JAX is multithreaded, so this will likely lead to a deadlock.\n",
      "  self.pid = os.fork()\n",
      "/usr/lib/python3.10/multiprocessing/popen_fork.py:66: RuntimeWarning: os.fork() was called. os.fork() is incompatible with multithreaded code, and JAX is multithreaded, so this will likely lead to a deadlock.\n",
      "  self.pid = os.fork()\n"
     ]
    },
    {
     "name": "stdout",
     "output_type": "stream",
     "text": [
      "Epoch 351:\n",
      "\ttrain: loss 0.739 | loss id   0.72 | top_1_acc 0.9966 | top_5_acc 1.0000 | cos_auc: 1.0000 | cos_acc: 0.9988 | eu_auc: 0.9998 | eu_acc: 0.9949\n",
      "\ttest: cos_auc: 0.8553 | cos_acc: 0.8241 | eu_auc: 0.8267 | eu_acc: 0.8117\n",
      "\tSaving model and optimizer state to /kaggle/working/checkpoint/magface/normalmap/models/checkpoint.pth\n",
      "\tEpoch 351: EarlyStopping counter for 'test_cosine_auc': 7/50\n",
      "\tEpoch 351: EarlyStopping counter for 'test_cosine_accuracy': 134/50\n",
      "\tEpoch 351: EarlyStopping counter for 'test_euclidean_auc': 69/50\n",
      "\tEpoch 351: EarlyStopping counter for 'test_euclidean_accuracy': 97/50\n"
     ]
    },
    {
     "name": "stderr",
     "output_type": "stream",
     "text": [
      "/usr/lib/python3.10/multiprocessing/popen_fork.py:66: RuntimeWarning: os.fork() was called. os.fork() is incompatible with multithreaded code, and JAX is multithreaded, so this will likely lead to a deadlock.\n",
      "  self.pid = os.fork()\n",
      "/usr/lib/python3.10/multiprocessing/popen_fork.py:66: RuntimeWarning: os.fork() was called. os.fork() is incompatible with multithreaded code, and JAX is multithreaded, so this will likely lead to a deadlock.\n",
      "  self.pid = os.fork()\n"
     ]
    },
    {
     "name": "stdout",
     "output_type": "stream",
     "text": [
      "Epoch 352:\n",
      "\ttrain: loss 0.680 | loss id   0.66 | top_1_acc 0.9933 | top_5_acc 1.0000 | cos_auc: 1.0000 | cos_acc: 0.9986 | eu_auc: 0.9996 | eu_acc: 0.9957\n",
      "\ttest: cos_auc: 0.8551 | cos_acc: 0.7409 | eu_auc: 0.8284 | eu_acc: 0.7641\n",
      "\tSaving model and optimizer state to /kaggle/working/checkpoint/magface/normalmap/models/checkpoint.pth\n",
      "\tEpoch 352: EarlyStopping counter for 'test_cosine_auc': 8/50\n",
      "\tEpoch 352: EarlyStopping counter for 'test_cosine_accuracy': 135/50\n",
      "\tEpoch 352: EarlyStopping counter for 'test_euclidean_auc': 70/50\n",
      "\tEpoch 352: EarlyStopping counter for 'test_euclidean_accuracy': 98/50\n"
     ]
    },
    {
     "name": "stderr",
     "output_type": "stream",
     "text": [
      "/usr/lib/python3.10/multiprocessing/popen_fork.py:66: RuntimeWarning: os.fork() was called. os.fork() is incompatible with multithreaded code, and JAX is multithreaded, so this will likely lead to a deadlock.\n",
      "  self.pid = os.fork()\n",
      "/usr/lib/python3.10/multiprocessing/popen_fork.py:66: RuntimeWarning: os.fork() was called. os.fork() is incompatible with multithreaded code, and JAX is multithreaded, so this will likely lead to a deadlock.\n",
      "  self.pid = os.fork()\n"
     ]
    },
    {
     "name": "stdout",
     "output_type": "stream",
     "text": [
      "Epoch 353:\n",
      "\ttrain: loss 0.676 | loss id   0.65 | top_1_acc 0.9989 | top_5_acc 1.0000 | cos_auc: 1.0000 | cos_acc: 0.9993 | eu_auc: 0.9999 | eu_acc: 0.9943\n",
      "\ttest: cos_auc: 0.8583 | cos_acc: 0.7927 | eu_auc: 0.8304 | eu_acc: 0.7937\n",
      "\tSaving model and optimizer state to /kaggle/working/checkpoint/magface/normalmap/models/checkpoint.pth\n",
      "\tEpoch 353: EarlyStopping counter for 'test_cosine_auc': 9/50\n",
      "\tEpoch 353: EarlyStopping counter for 'test_cosine_accuracy': 136/50\n",
      "\tEpoch 353: EarlyStopping counter for 'test_euclidean_auc': 71/50\n",
      "\tEpoch 353: EarlyStopping counter for 'test_euclidean_accuracy': 99/50\n"
     ]
    },
    {
     "name": "stderr",
     "output_type": "stream",
     "text": [
      "/usr/lib/python3.10/multiprocessing/popen_fork.py:66: RuntimeWarning: os.fork() was called. os.fork() is incompatible with multithreaded code, and JAX is multithreaded, so this will likely lead to a deadlock.\n",
      "  self.pid = os.fork()\n",
      "/usr/lib/python3.10/multiprocessing/popen_fork.py:66: RuntimeWarning: os.fork() was called. os.fork() is incompatible with multithreaded code, and JAX is multithreaded, so this will likely lead to a deadlock.\n",
      "  self.pid = os.fork()\n"
     ]
    },
    {
     "name": "stdout",
     "output_type": "stream",
     "text": [
      "Epoch 354:\n",
      "\ttrain: loss 0.699 | loss id   0.68 | top_1_acc 0.9966 | top_5_acc 0.9989 | cos_auc: 1.0000 | cos_acc: 0.9992 | eu_auc: 0.9997 | eu_acc: 0.9959\n",
      "\ttest: cos_auc: 0.8590 | cos_acc: 0.7264 | eu_auc: 0.8315 | eu_acc: 0.7608\n",
      "\tSaving model and optimizer state to /kaggle/working/checkpoint/magface/normalmap/models/checkpoint.pth\n",
      "\tEpoch 354: EarlyStopping counter for 'test_cosine_auc': 10/50\n",
      "\tEpoch 354: EarlyStopping counter for 'test_cosine_accuracy': 137/50\n",
      "\tEpoch 354: EarlyStopping counter for 'test_euclidean_auc': 72/50\n",
      "\tEpoch 354: EarlyStopping counter for 'test_euclidean_accuracy': 100/50\n"
     ]
    },
    {
     "name": "stderr",
     "output_type": "stream",
     "text": [
      "/usr/lib/python3.10/multiprocessing/popen_fork.py:66: RuntimeWarning: os.fork() was called. os.fork() is incompatible with multithreaded code, and JAX is multithreaded, so this will likely lead to a deadlock.\n",
      "  self.pid = os.fork()\n",
      "/usr/lib/python3.10/multiprocessing/popen_fork.py:66: RuntimeWarning: os.fork() was called. os.fork() is incompatible with multithreaded code, and JAX is multithreaded, so this will likely lead to a deadlock.\n",
      "  self.pid = os.fork()\n"
     ]
    },
    {
     "name": "stdout",
     "output_type": "stream",
     "text": [
      "Epoch 355:\n",
      "\ttrain: loss 0.660 | loss id   0.64 | top_1_acc 0.9989 | top_5_acc 1.0000 | cos_auc: 1.0000 | cos_acc: 0.9987 | eu_auc: 0.9999 | eu_acc: 0.9972\n",
      "\ttest: cos_auc: 0.8632 | cos_acc: 0.7749 | eu_auc: 0.8356 | eu_acc: 0.7985\n",
      "\tSaving model and optimizer state to /kaggle/working/checkpoint/magface/normalmap/models/checkpoint.pth\n",
      "\tSaved best model weights for 'test_cosine_auc' at epoch 355 to '/kaggle/working/checkpoint/magface/normalmap/models/best_test_cosine_auc_355.pth'\n",
      "\tEpoch 355: EarlyStopping counter for 'test_cosine_accuracy': 138/50\n",
      "\tEpoch 355: EarlyStopping counter for 'test_euclidean_auc': 73/50\n",
      "\tEpoch 355: EarlyStopping counter for 'test_euclidean_accuracy': 101/50\n"
     ]
    },
    {
     "name": "stderr",
     "output_type": "stream",
     "text": [
      "/usr/lib/python3.10/multiprocessing/popen_fork.py:66: RuntimeWarning: os.fork() was called. os.fork() is incompatible with multithreaded code, and JAX is multithreaded, so this will likely lead to a deadlock.\n",
      "  self.pid = os.fork()\n",
      "/usr/lib/python3.10/multiprocessing/popen_fork.py:66: RuntimeWarning: os.fork() was called. os.fork() is incompatible with multithreaded code, and JAX is multithreaded, so this will likely lead to a deadlock.\n",
      "  self.pid = os.fork()\n"
     ]
    },
    {
     "name": "stdout",
     "output_type": "stream",
     "text": [
      "Epoch 356:\n",
      "\ttrain: loss 0.675 | loss id   0.65 | top_1_acc 0.9978 | top_5_acc 1.0000 | cos_auc: 1.0000 | cos_acc: 0.9994 | eu_auc: 0.9998 | eu_acc: 0.9957\n",
      "\ttest: cos_auc: 0.8601 | cos_acc: 0.7437 | eu_auc: 0.8333 | eu_acc: 0.7997\n",
      "\tSaving model and optimizer state to /kaggle/working/checkpoint/magface/normalmap/models/checkpoint.pth\n",
      "\tEpoch 356: EarlyStopping counter for 'test_cosine_auc': 1/50\n",
      "\tEpoch 356: EarlyStopping counter for 'test_cosine_accuracy': 139/50\n",
      "\tEpoch 356: EarlyStopping counter for 'test_euclidean_auc': 74/50\n",
      "\tEpoch 356: EarlyStopping counter for 'test_euclidean_accuracy': 102/50\n"
     ]
    },
    {
     "name": "stderr",
     "output_type": "stream",
     "text": [
      "/usr/lib/python3.10/multiprocessing/popen_fork.py:66: RuntimeWarning: os.fork() was called. os.fork() is incompatible with multithreaded code, and JAX is multithreaded, so this will likely lead to a deadlock.\n",
      "  self.pid = os.fork()\n",
      "/usr/lib/python3.10/multiprocessing/popen_fork.py:66: RuntimeWarning: os.fork() was called. os.fork() is incompatible with multithreaded code, and JAX is multithreaded, so this will likely lead to a deadlock.\n",
      "  self.pid = os.fork()\n"
     ]
    },
    {
     "name": "stdout",
     "output_type": "stream",
     "text": [
      "Epoch 357:\n",
      "\ttrain: loss 0.650 | loss id   0.63 | top_1_acc 0.9955 | top_5_acc 1.0000 | cos_auc: 1.0000 | cos_acc: 0.9990 | eu_auc: 0.9998 | eu_acc: 0.9954\n",
      "\ttest: cos_auc: 0.8604 | cos_acc: 0.8230 | eu_auc: 0.8337 | eu_acc: 0.8078\n",
      "\tSaving model and optimizer state to /kaggle/working/checkpoint/magface/normalmap/models/checkpoint.pth\n",
      "\tEpoch 357: EarlyStopping counter for 'test_cosine_auc': 2/50\n",
      "\tEpoch 357: EarlyStopping counter for 'test_cosine_accuracy': 140/50\n",
      "\tEpoch 357: EarlyStopping counter for 'test_euclidean_auc': 75/50\n",
      "\tEpoch 357: EarlyStopping counter for 'test_euclidean_accuracy': 103/50\n"
     ]
    },
    {
     "name": "stderr",
     "output_type": "stream",
     "text": [
      "/usr/lib/python3.10/multiprocessing/popen_fork.py:66: RuntimeWarning: os.fork() was called. os.fork() is incompatible with multithreaded code, and JAX is multithreaded, so this will likely lead to a deadlock.\n",
      "  self.pid = os.fork()\n",
      "/usr/lib/python3.10/multiprocessing/popen_fork.py:66: RuntimeWarning: os.fork() was called. os.fork() is incompatible with multithreaded code, and JAX is multithreaded, so this will likely lead to a deadlock.\n",
      "  self.pid = os.fork()\n"
     ]
    },
    {
     "name": "stdout",
     "output_type": "stream",
     "text": [
      "Epoch 358:\n",
      "\ttrain: loss 0.624 | loss id   0.60 | top_1_acc 0.9989 | top_5_acc 1.0000 | cos_auc: 1.0000 | cos_acc: 0.9986 | eu_auc: 0.9996 | eu_acc: 0.9949\n",
      "\ttest: cos_auc: 0.8603 | cos_acc: 0.8205 | eu_auc: 0.8363 | eu_acc: 0.8155\n",
      "\tSaving model and optimizer state to /kaggle/working/checkpoint/magface/normalmap/models/checkpoint.pth\n",
      "\tEpoch 358: EarlyStopping counter for 'test_cosine_auc': 3/50\n",
      "\tEpoch 358: EarlyStopping counter for 'test_cosine_accuracy': 141/50\n",
      "\tEpoch 358: EarlyStopping counter for 'test_euclidean_auc': 76/50\n",
      "\tEpoch 358: EarlyStopping counter for 'test_euclidean_accuracy': 104/50\n"
     ]
    },
    {
     "name": "stderr",
     "output_type": "stream",
     "text": [
      "/usr/lib/python3.10/multiprocessing/popen_fork.py:66: RuntimeWarning: os.fork() was called. os.fork() is incompatible with multithreaded code, and JAX is multithreaded, so this will likely lead to a deadlock.\n",
      "  self.pid = os.fork()\n",
      "/usr/lib/python3.10/multiprocessing/popen_fork.py:66: RuntimeWarning: os.fork() was called. os.fork() is incompatible with multithreaded code, and JAX is multithreaded, so this will likely lead to a deadlock.\n",
      "  self.pid = os.fork()\n"
     ]
    },
    {
     "name": "stdout",
     "output_type": "stream",
     "text": [
      "Epoch 359:\n",
      "\ttrain: loss 0.624 | loss id   0.60 | top_1_acc 1.0000 | top_5_acc 1.0000 | cos_auc: 1.0000 | cos_acc: 0.9995 | eu_auc: 0.9996 | eu_acc: 0.9951\n",
      "\ttest: cos_auc: 0.8644 | cos_acc: 0.7942 | eu_auc: 0.8345 | eu_acc: 0.7905\n",
      "\tSaving model and optimizer state to /kaggle/working/checkpoint/magface/normalmap/models/checkpoint.pth\n",
      "\tSaved best model weights for 'test_cosine_auc' at epoch 359 to '/kaggle/working/checkpoint/magface/normalmap/models/best_test_cosine_auc_359.pth'\n",
      "\tEpoch 359: EarlyStopping counter for 'test_cosine_accuracy': 142/50\n",
      "\tEpoch 359: EarlyStopping counter for 'test_euclidean_auc': 77/50\n",
      "\tEpoch 359: EarlyStopping counter for 'test_euclidean_accuracy': 105/50\n"
     ]
    },
    {
     "name": "stderr",
     "output_type": "stream",
     "text": [
      "/usr/lib/python3.10/multiprocessing/popen_fork.py:66: RuntimeWarning: os.fork() was called. os.fork() is incompatible with multithreaded code, and JAX is multithreaded, so this will likely lead to a deadlock.\n",
      "  self.pid = os.fork()\n",
      "/usr/lib/python3.10/multiprocessing/popen_fork.py:66: RuntimeWarning: os.fork() was called. os.fork() is incompatible with multithreaded code, and JAX is multithreaded, so this will likely lead to a deadlock.\n",
      "  self.pid = os.fork()\n"
     ]
    },
    {
     "name": "stdout",
     "output_type": "stream",
     "text": [
      "Epoch 360:\n",
      "\ttrain: loss 0.654 | loss id   0.63 | top_1_acc 0.9966 | top_5_acc 0.9989 | cos_auc: 1.0000 | cos_acc: 0.9995 | eu_auc: 0.9999 | eu_acc: 0.9958\n",
      "\ttest: cos_auc: 0.8628 | cos_acc: 0.8094 | eu_auc: 0.8343 | eu_acc: 0.7706\n",
      "\tSaving model and optimizer state to /kaggle/working/checkpoint/magface/normalmap/models/checkpoint.pth\n",
      "\tEpoch 360: EarlyStopping counter for 'test_cosine_auc': 1/50\n",
      "\tEpoch 360: EarlyStopping counter for 'test_cosine_accuracy': 143/50\n",
      "\tEpoch 360: EarlyStopping counter for 'test_euclidean_auc': 78/50\n",
      "\tEpoch 360: EarlyStopping counter for 'test_euclidean_accuracy': 106/50\n"
     ]
    },
    {
     "name": "stderr",
     "output_type": "stream",
     "text": [
      "/usr/lib/python3.10/multiprocessing/popen_fork.py:66: RuntimeWarning: os.fork() was called. os.fork() is incompatible with multithreaded code, and JAX is multithreaded, so this will likely lead to a deadlock.\n",
      "  self.pid = os.fork()\n",
      "/usr/lib/python3.10/multiprocessing/popen_fork.py:66: RuntimeWarning: os.fork() was called. os.fork() is incompatible with multithreaded code, and JAX is multithreaded, so this will likely lead to a deadlock.\n",
      "  self.pid = os.fork()\n"
     ]
    },
    {
     "name": "stdout",
     "output_type": "stream",
     "text": [
      "Epoch 361:\n",
      "\ttrain: loss 0.963 | loss id   0.94 | top_1_acc 0.9820 | top_5_acc 0.9978 | cos_auc: 0.9998 | cos_acc: 0.9940 | eu_auc: 0.9981 | eu_acc: 0.9756\n",
      "\ttest: cos_auc: 0.8267 | cos_acc: 0.8908 | eu_auc: 0.8095 | eu_acc: 0.8987\n",
      "\tSaving model and optimizer state to /kaggle/working/checkpoint/magface/normalmap/models/checkpoint.pth\n",
      "\tEpoch 361: EarlyStopping counter for 'test_cosine_auc': 2/50\n",
      "\tEpoch 361: EarlyStopping counter for 'test_cosine_accuracy': 144/50\n",
      "\tEpoch 361: EarlyStopping counter for 'test_euclidean_auc': 79/50\n",
      "\tEpoch 361: EarlyStopping counter for 'test_euclidean_accuracy': 107/50\n"
     ]
    },
    {
     "name": "stderr",
     "output_type": "stream",
     "text": [
      "/usr/lib/python3.10/multiprocessing/popen_fork.py:66: RuntimeWarning: os.fork() was called. os.fork() is incompatible with multithreaded code, and JAX is multithreaded, so this will likely lead to a deadlock.\n",
      "  self.pid = os.fork()\n",
      "/usr/lib/python3.10/multiprocessing/popen_fork.py:66: RuntimeWarning: os.fork() was called. os.fork() is incompatible with multithreaded code, and JAX is multithreaded, so this will likely lead to a deadlock.\n",
      "  self.pid = os.fork()\n"
     ]
    },
    {
     "name": "stdout",
     "output_type": "stream",
     "text": [
      "Epoch 362:\n",
      "\ttrain: loss 1.087 | loss id   1.06 | top_1_acc 0.9798 | top_5_acc 0.9966 | cos_auc: 0.9995 | cos_acc: 0.9869 | eu_auc: 0.9971 | eu_acc: 0.9825\n",
      "\ttest: cos_auc: 0.8439 | cos_acc: 0.7373 | eu_auc: 0.8050 | eu_acc: 0.8022\n",
      "\tSaving model and optimizer state to /kaggle/working/checkpoint/magface/normalmap/models/checkpoint.pth\n",
      "\tEpoch 362: EarlyStopping counter for 'test_cosine_auc': 3/50\n",
      "\tEpoch 362: EarlyStopping counter for 'test_cosine_accuracy': 145/50\n",
      "\tEpoch 362: EarlyStopping counter for 'test_euclidean_auc': 80/50\n",
      "\tEpoch 362: EarlyStopping counter for 'test_euclidean_accuracy': 108/50\n"
     ]
    },
    {
     "name": "stderr",
     "output_type": "stream",
     "text": [
      "/usr/lib/python3.10/multiprocessing/popen_fork.py:66: RuntimeWarning: os.fork() was called. os.fork() is incompatible with multithreaded code, and JAX is multithreaded, so this will likely lead to a deadlock.\n",
      "  self.pid = os.fork()\n",
      "/usr/lib/python3.10/multiprocessing/popen_fork.py:66: RuntimeWarning: os.fork() was called. os.fork() is incompatible with multithreaded code, and JAX is multithreaded, so this will likely lead to a deadlock.\n",
      "  self.pid = os.fork()\n"
     ]
    },
    {
     "name": "stdout",
     "output_type": "stream",
     "text": [
      "Epoch 363:\n",
      "\ttrain: loss 1.136 | loss id   1.11 | top_1_acc 0.9764 | top_5_acc 0.9989 | cos_auc: 0.9996 | cos_acc: 0.9924 | eu_auc: 0.9987 | eu_acc: 0.9776\n",
      "\ttest: cos_auc: 0.8359 | cos_acc: 0.8005 | eu_auc: 0.7942 | eu_acc: 0.8049\n",
      "\tSaving model and optimizer state to /kaggle/working/checkpoint/magface/normalmap/models/checkpoint.pth\n",
      "\tEpoch 363: EarlyStopping counter for 'test_cosine_auc': 4/50\n",
      "\tEpoch 363: EarlyStopping counter for 'test_cosine_accuracy': 146/50\n",
      "\tEpoch 363: EarlyStopping counter for 'test_euclidean_auc': 81/50\n",
      "\tEpoch 363: EarlyStopping counter for 'test_euclidean_accuracy': 109/50\n"
     ]
    },
    {
     "name": "stderr",
     "output_type": "stream",
     "text": [
      "/usr/lib/python3.10/multiprocessing/popen_fork.py:66: RuntimeWarning: os.fork() was called. os.fork() is incompatible with multithreaded code, and JAX is multithreaded, so this will likely lead to a deadlock.\n",
      "  self.pid = os.fork()\n",
      "/usr/lib/python3.10/multiprocessing/popen_fork.py:66: RuntimeWarning: os.fork() was called. os.fork() is incompatible with multithreaded code, and JAX is multithreaded, so this will likely lead to a deadlock.\n",
      "  self.pid = os.fork()\n",
      "/usr/lib/python3.10/multiprocessing/popen_fork.py:66: RuntimeWarning: os.fork() was called. os.fork() is incompatible with multithreaded code, and JAX is multithreaded, so this will likely lead to a deadlock.\n",
      "  self.pid = os.fork()\n"
     ]
    },
    {
     "name": "stdout",
     "output_type": "stream",
     "text": [
      "Epoch 364:\n",
      "\ttrain: loss 1.076 | loss id   1.05 | top_1_acc 0.9831 | top_5_acc 0.9989 | cos_auc: 0.9998 | cos_acc: 0.9909 | eu_auc: 0.9984 | eu_acc: 0.9831\n",
      "\ttest: cos_auc: 0.8433 | cos_acc: 0.7705 | eu_auc: 0.8233 | eu_acc: 0.7316\n",
      "\tSaving model and optimizer state to /kaggle/working/checkpoint/magface/normalmap/models/checkpoint.pth\n",
      "\tEpoch 364: EarlyStopping counter for 'test_cosine_auc': 5/50\n",
      "\tEpoch 364: EarlyStopping counter for 'test_cosine_accuracy': 147/50\n",
      "\tEpoch 364: EarlyStopping counter for 'test_euclidean_auc': 82/50\n",
      "\tEpoch 364: EarlyStopping counter for 'test_euclidean_accuracy': 110/50\n"
     ]
    },
    {
     "name": "stderr",
     "output_type": "stream",
     "text": [
      "/usr/lib/python3.10/multiprocessing/popen_fork.py:66: RuntimeWarning: os.fork() was called. os.fork() is incompatible with multithreaded code, and JAX is multithreaded, so this will likely lead to a deadlock.\n",
      "  self.pid = os.fork()\n",
      "/usr/lib/python3.10/multiprocessing/popen_fork.py:66: RuntimeWarning: os.fork() was called. os.fork() is incompatible with multithreaded code, and JAX is multithreaded, so this will likely lead to a deadlock.\n",
      "  self.pid = os.fork()\n",
      "/usr/lib/python3.10/multiprocessing/popen_fork.py:66: RuntimeWarning: os.fork() was called. os.fork() is incompatible with multithreaded code, and JAX is multithreaded, so this will likely lead to a deadlock.\n",
      "  self.pid = os.fork()\n"
     ]
    },
    {
     "name": "stdout",
     "output_type": "stream",
     "text": [
      "Epoch 365:\n",
      "\ttrain: loss 1.018 | loss id   1.00 | top_1_acc 0.9854 | top_5_acc 0.9978 | cos_auc: 0.9991 | cos_acc: 0.9906 | eu_auc: 0.9986 | eu_acc: 0.9889\n",
      "\ttest: cos_auc: 0.8457 | cos_acc: 0.7015 | eu_auc: 0.8066 | eu_acc: 0.8582\n",
      "\tSaving model and optimizer state to /kaggle/working/checkpoint/magface/normalmap/models/checkpoint.pth\n",
      "\tEpoch 365: EarlyStopping counter for 'test_cosine_auc': 6/50\n",
      "\tEpoch 365: EarlyStopping counter for 'test_cosine_accuracy': 148/50\n",
      "\tEpoch 365: EarlyStopping counter for 'test_euclidean_auc': 83/50\n",
      "\tEpoch 365: EarlyStopping counter for 'test_euclidean_accuracy': 111/50\n"
     ]
    },
    {
     "name": "stderr",
     "output_type": "stream",
     "text": [
      "/usr/lib/python3.10/multiprocessing/popen_fork.py:66: RuntimeWarning: os.fork() was called. os.fork() is incompatible with multithreaded code, and JAX is multithreaded, so this will likely lead to a deadlock.\n",
      "  self.pid = os.fork()\n",
      "/usr/lib/python3.10/multiprocessing/popen_fork.py:66: RuntimeWarning: os.fork() was called. os.fork() is incompatible with multithreaded code, and JAX is multithreaded, so this will likely lead to a deadlock.\n",
      "  self.pid = os.fork()\n"
     ]
    },
    {
     "name": "stdout",
     "output_type": "stream",
     "text": [
      "Epoch 366:\n",
      "\ttrain: loss 1.030 | loss id   1.01 | top_1_acc 0.9786 | top_5_acc 0.9989 | cos_auc: 0.9995 | cos_acc: 0.9965 | eu_auc: 0.9990 | eu_acc: 0.9889\n",
      "\ttest: cos_auc: 0.8543 | cos_acc: 0.8145 | eu_auc: 0.8343 | eu_acc: 0.7280\n",
      "\tSaving model and optimizer state to /kaggle/working/checkpoint/magface/normalmap/models/checkpoint.pth\n",
      "\tEpoch 366: EarlyStopping counter for 'test_cosine_auc': 7/50\n",
      "\tEpoch 366: EarlyStopping counter for 'test_cosine_accuracy': 149/50\n",
      "\tEpoch 366: EarlyStopping counter for 'test_euclidean_auc': 84/50\n",
      "\tEpoch 366: EarlyStopping counter for 'test_euclidean_accuracy': 112/50\n"
     ]
    },
    {
     "name": "stderr",
     "output_type": "stream",
     "text": [
      "/usr/lib/python3.10/multiprocessing/popen_fork.py:66: RuntimeWarning: os.fork() was called. os.fork() is incompatible with multithreaded code, and JAX is multithreaded, so this will likely lead to a deadlock.\n",
      "  self.pid = os.fork()\n",
      "/usr/lib/python3.10/multiprocessing/popen_fork.py:66: RuntimeWarning: os.fork() was called. os.fork() is incompatible with multithreaded code, and JAX is multithreaded, so this will likely lead to a deadlock.\n",
      "  self.pid = os.fork()\n"
     ]
    },
    {
     "name": "stdout",
     "output_type": "stream",
     "text": [
      "Epoch 367:\n",
      "\ttrain: loss 1.049 | loss id   1.03 | top_1_acc 0.9820 | top_5_acc 0.9966 | cos_auc: 0.9995 | cos_acc: 0.9958 | eu_auc: 0.9985 | eu_acc: 0.9817\n",
      "\ttest: cos_auc: 0.8690 | cos_acc: 0.7137 | eu_auc: 0.8274 | eu_acc: 0.8145\n",
      "\tSaving model and optimizer state to /kaggle/working/checkpoint/magface/normalmap/models/checkpoint.pth\n",
      "\tSaved best model weights for 'test_cosine_auc' at epoch 367 to '/kaggle/working/checkpoint/magface/normalmap/models/best_test_cosine_auc_367.pth'\n",
      "\tEpoch 367: EarlyStopping counter for 'test_cosine_accuracy': 150/50\n",
      "\tEpoch 367: EarlyStopping counter for 'test_euclidean_auc': 85/50\n",
      "\tEpoch 367: EarlyStopping counter for 'test_euclidean_accuracy': 113/50\n"
     ]
    },
    {
     "name": "stderr",
     "output_type": "stream",
     "text": [
      "/usr/lib/python3.10/multiprocessing/popen_fork.py:66: RuntimeWarning: os.fork() was called. os.fork() is incompatible with multithreaded code, and JAX is multithreaded, so this will likely lead to a deadlock.\n",
      "  self.pid = os.fork()\n",
      "/usr/lib/python3.10/multiprocessing/popen_fork.py:66: RuntimeWarning: os.fork() was called. os.fork() is incompatible with multithreaded code, and JAX is multithreaded, so this will likely lead to a deadlock.\n",
      "  self.pid = os.fork()\n"
     ]
    },
    {
     "name": "stdout",
     "output_type": "stream",
     "text": [
      "Epoch 368:\n",
      "\ttrain: loss 1.024 | loss id   1.00 | top_1_acc 0.9910 | top_5_acc 1.0000 | cos_auc: 0.9994 | cos_acc: 0.9975 | eu_auc: 0.9989 | eu_acc: 0.9817\n",
      "\ttest: cos_auc: 0.8571 | cos_acc: 0.7922 | eu_auc: 0.8154 | eu_acc: 0.8121\n",
      "\tSaving model and optimizer state to /kaggle/working/checkpoint/magface/normalmap/models/checkpoint.pth\n",
      "\tEpoch 368: EarlyStopping counter for 'test_cosine_auc': 1/50\n",
      "\tEpoch 368: EarlyStopping counter for 'test_cosine_accuracy': 151/50\n",
      "\tEpoch 368: EarlyStopping counter for 'test_euclidean_auc': 86/50\n",
      "\tEpoch 368: EarlyStopping counter for 'test_euclidean_accuracy': 114/50\n"
     ]
    },
    {
     "name": "stderr",
     "output_type": "stream",
     "text": [
      "/usr/lib/python3.10/multiprocessing/popen_fork.py:66: RuntimeWarning: os.fork() was called. os.fork() is incompatible with multithreaded code, and JAX is multithreaded, so this will likely lead to a deadlock.\n",
      "  self.pid = os.fork()\n",
      "/usr/lib/python3.10/multiprocessing/popen_fork.py:66: RuntimeWarning: os.fork() was called. os.fork() is incompatible with multithreaded code, and JAX is multithreaded, so this will likely lead to a deadlock.\n",
      "  self.pid = os.fork()\n"
     ]
    },
    {
     "name": "stdout",
     "output_type": "stream",
     "text": [
      "Epoch 369:\n",
      "\ttrain: loss 1.017 | loss id   0.99 | top_1_acc 0.9820 | top_5_acc 0.9966 | cos_auc: 0.9999 | cos_acc: 0.9978 | eu_auc: 0.9990 | eu_acc: 0.9837\n",
      "\ttest: cos_auc: 0.8597 | cos_acc: 0.8113 | eu_auc: 0.8283 | eu_acc: 0.8154\n",
      "\tSaving model and optimizer state to /kaggle/working/checkpoint/magface/normalmap/models/checkpoint.pth\n",
      "\tEpoch 369: EarlyStopping counter for 'test_cosine_auc': 2/50\n",
      "\tEpoch 369: EarlyStopping counter for 'test_cosine_accuracy': 152/50\n",
      "\tEpoch 369: EarlyStopping counter for 'test_euclidean_auc': 87/50\n",
      "\tEpoch 369: EarlyStopping counter for 'test_euclidean_accuracy': 115/50\n"
     ]
    },
    {
     "name": "stderr",
     "output_type": "stream",
     "text": [
      "/usr/lib/python3.10/multiprocessing/popen_fork.py:66: RuntimeWarning: os.fork() was called. os.fork() is incompatible with multithreaded code, and JAX is multithreaded, so this will likely lead to a deadlock.\n",
      "  self.pid = os.fork()\n",
      "/usr/lib/python3.10/multiprocessing/popen_fork.py:66: RuntimeWarning: os.fork() was called. os.fork() is incompatible with multithreaded code, and JAX is multithreaded, so this will likely lead to a deadlock.\n",
      "  self.pid = os.fork()\n"
     ]
    },
    {
     "name": "stdout",
     "output_type": "stream",
     "text": [
      "Epoch 370:\n",
      "\ttrain: loss 0.942 | loss id   0.92 | top_1_acc 0.9910 | top_5_acc 1.0000 | cos_auc: 0.9998 | cos_acc: 0.9954 | eu_auc: 0.9986 | eu_acc: 0.9877\n",
      "\ttest: cos_auc: 0.8678 | cos_acc: 0.7164 | eu_auc: 0.8164 | eu_acc: 0.8495\n",
      "\tSaving model and optimizer state to /kaggle/working/checkpoint/magface/normalmap/models/checkpoint.pth\n",
      "\tEpoch 370: EarlyStopping counter for 'test_cosine_auc': 3/50\n",
      "\tEpoch 370: EarlyStopping counter for 'test_cosine_accuracy': 153/50\n",
      "\tEpoch 370: EarlyStopping counter for 'test_euclidean_auc': 88/50\n",
      "\tEpoch 370: EarlyStopping counter for 'test_euclidean_accuracy': 116/50\n"
     ]
    },
    {
     "name": "stderr",
     "output_type": "stream",
     "text": [
      "/usr/lib/python3.10/multiprocessing/popen_fork.py:66: RuntimeWarning: os.fork() was called. os.fork() is incompatible with multithreaded code, and JAX is multithreaded, so this will likely lead to a deadlock.\n",
      "  self.pid = os.fork()\n",
      "/usr/lib/python3.10/multiprocessing/popen_fork.py:66: RuntimeWarning: os.fork() was called. os.fork() is incompatible with multithreaded code, and JAX is multithreaded, so this will likely lead to a deadlock.\n",
      "  self.pid = os.fork()\n"
     ]
    },
    {
     "name": "stdout",
     "output_type": "stream",
     "text": [
      "Epoch 371:\n",
      "\ttrain: loss 0.923 | loss id   0.90 | top_1_acc 0.9876 | top_5_acc 1.0000 | cos_auc: 0.9996 | cos_acc: 0.9928 | eu_auc: 0.9987 | eu_acc: 0.9889\n",
      "\ttest: cos_auc: 0.8592 | cos_acc: 0.7414 | eu_auc: 0.8305 | eu_acc: 0.7470\n",
      "\tSaving model and optimizer state to /kaggle/working/checkpoint/magface/normalmap/models/checkpoint.pth\n",
      "\tEpoch 371: EarlyStopping counter for 'test_cosine_auc': 4/50\n",
      "\tEpoch 371: EarlyStopping counter for 'test_cosine_accuracy': 154/50\n",
      "\tEpoch 371: EarlyStopping counter for 'test_euclidean_auc': 89/50\n",
      "\tEpoch 371: EarlyStopping counter for 'test_euclidean_accuracy': 117/50\n"
     ]
    },
    {
     "name": "stderr",
     "output_type": "stream",
     "text": [
      "/usr/lib/python3.10/multiprocessing/popen_fork.py:66: RuntimeWarning: os.fork() was called. os.fork() is incompatible with multithreaded code, and JAX is multithreaded, so this will likely lead to a deadlock.\n",
      "  self.pid = os.fork()\n",
      "/usr/lib/python3.10/multiprocessing/popen_fork.py:66: RuntimeWarning: os.fork() was called. os.fork() is incompatible with multithreaded code, and JAX is multithreaded, so this will likely lead to a deadlock.\n",
      "  self.pid = os.fork()\n"
     ]
    },
    {
     "name": "stdout",
     "output_type": "stream",
     "text": [
      "Epoch 372:\n",
      "\ttrain: loss 0.928 | loss id   0.90 | top_1_acc 0.9888 | top_5_acc 1.0000 | cos_auc: 0.9999 | cos_acc: 0.9983 | eu_auc: 0.9990 | eu_acc: 0.9861\n",
      "\ttest: cos_auc: 0.8391 | cos_acc: 0.7922 | eu_auc: 0.8130 | eu_acc: 0.8417\n",
      "\tSaving model and optimizer state to /kaggle/working/checkpoint/magface/normalmap/models/checkpoint.pth\n",
      "\tEpoch 372: EarlyStopping counter for 'test_cosine_auc': 5/50\n",
      "\tEpoch 372: EarlyStopping counter for 'test_cosine_accuracy': 155/50\n",
      "\tEpoch 372: EarlyStopping counter for 'test_euclidean_auc': 90/50\n",
      "\tEpoch 372: EarlyStopping counter for 'test_euclidean_accuracy': 118/50\n"
     ]
    },
    {
     "name": "stderr",
     "output_type": "stream",
     "text": [
      "/usr/lib/python3.10/multiprocessing/popen_fork.py:66: RuntimeWarning: os.fork() was called. os.fork() is incompatible with multithreaded code, and JAX is multithreaded, so this will likely lead to a deadlock.\n",
      "  self.pid = os.fork()\n",
      "/usr/lib/python3.10/multiprocessing/popen_fork.py:66: RuntimeWarning: os.fork() was called. os.fork() is incompatible with multithreaded code, and JAX is multithreaded, so this will likely lead to a deadlock.\n",
      "  self.pid = os.fork()\n"
     ]
    },
    {
     "name": "stdout",
     "output_type": "stream",
     "text": [
      "Epoch 373:\n",
      "\ttrain: loss 0.864 | loss id   0.84 | top_1_acc 0.9876 | top_5_acc 0.9989 | cos_auc: 1.0000 | cos_acc: 0.9985 | eu_auc: 0.9987 | eu_acc: 0.9856\n",
      "\ttest: cos_auc: 0.8531 | cos_acc: 0.8489 | eu_auc: 0.8147 | eu_acc: 0.7744\n",
      "\tSaving model and optimizer state to /kaggle/working/checkpoint/magface/normalmap/models/checkpoint.pth\n",
      "\tEpoch 373: EarlyStopping counter for 'test_cosine_auc': 6/50\n",
      "\tEpoch 373: EarlyStopping counter for 'test_cosine_accuracy': 156/50\n",
      "\tEpoch 373: EarlyStopping counter for 'test_euclidean_auc': 91/50\n",
      "\tEpoch 373: EarlyStopping counter for 'test_euclidean_accuracy': 119/50\n"
     ]
    },
    {
     "name": "stderr",
     "output_type": "stream",
     "text": [
      "/usr/lib/python3.10/multiprocessing/popen_fork.py:66: RuntimeWarning: os.fork() was called. os.fork() is incompatible with multithreaded code, and JAX is multithreaded, so this will likely lead to a deadlock.\n",
      "  self.pid = os.fork()\n",
      "/usr/lib/python3.10/multiprocessing/popen_fork.py:66: RuntimeWarning: os.fork() was called. os.fork() is incompatible with multithreaded code, and JAX is multithreaded, so this will likely lead to a deadlock.\n",
      "  self.pid = os.fork()\n"
     ]
    },
    {
     "name": "stdout",
     "output_type": "stream",
     "text": [
      "Epoch 374:\n",
      "\ttrain: loss 0.862 | loss id   0.84 | top_1_acc 0.9854 | top_5_acc 0.9978 | cos_auc: 1.0000 | cos_acc: 0.9987 | eu_auc: 0.9997 | eu_acc: 0.9929\n",
      "\ttest: cos_auc: 0.8598 | cos_acc: 0.7737 | eu_auc: 0.8164 | eu_acc: 0.8291\n",
      "\tSaving model and optimizer state to /kaggle/working/checkpoint/magface/normalmap/models/checkpoint.pth\n",
      "\tEpoch 374: EarlyStopping counter for 'test_cosine_auc': 7/50\n",
      "\tEpoch 374: EarlyStopping counter for 'test_cosine_accuracy': 157/50\n",
      "\tEpoch 374: EarlyStopping counter for 'test_euclidean_auc': 92/50\n",
      "\tEpoch 374: EarlyStopping counter for 'test_euclidean_accuracy': 120/50\n"
     ]
    },
    {
     "name": "stderr",
     "output_type": "stream",
     "text": [
      "/usr/lib/python3.10/multiprocessing/popen_fork.py:66: RuntimeWarning: os.fork() was called. os.fork() is incompatible with multithreaded code, and JAX is multithreaded, so this will likely lead to a deadlock.\n",
      "  self.pid = os.fork()\n",
      "/usr/lib/python3.10/multiprocessing/popen_fork.py:66: RuntimeWarning: os.fork() was called. os.fork() is incompatible with multithreaded code, and JAX is multithreaded, so this will likely lead to a deadlock.\n",
      "  self.pid = os.fork()\n"
     ]
    },
    {
     "name": "stdout",
     "output_type": "stream",
     "text": [
      "Epoch 375:\n",
      "\ttrain: loss 0.853 | loss id   0.83 | top_1_acc 0.9876 | top_5_acc 1.0000 | cos_auc: 1.0000 | cos_acc: 0.9985 | eu_auc: 0.9996 | eu_acc: 0.9952\n",
      "\ttest: cos_auc: 0.8622 | cos_acc: 0.8912 | eu_auc: 0.8184 | eu_acc: 0.8094\n",
      "\tSaving model and optimizer state to /kaggle/working/checkpoint/magface/normalmap/models/checkpoint.pth\n",
      "\tEpoch 375: EarlyStopping counter for 'test_cosine_auc': 8/50\n",
      "\tEpoch 375: EarlyStopping counter for 'test_cosine_accuracy': 158/50\n",
      "\tEpoch 375: EarlyStopping counter for 'test_euclidean_auc': 93/50\n",
      "\tEpoch 375: EarlyStopping counter for 'test_euclidean_accuracy': 121/50\n"
     ]
    },
    {
     "name": "stderr",
     "output_type": "stream",
     "text": [
      "/usr/lib/python3.10/multiprocessing/popen_fork.py:66: RuntimeWarning: os.fork() was called. os.fork() is incompatible with multithreaded code, and JAX is multithreaded, so this will likely lead to a deadlock.\n",
      "  self.pid = os.fork()\n",
      "/usr/lib/python3.10/multiprocessing/popen_fork.py:66: RuntimeWarning: os.fork() was called. os.fork() is incompatible with multithreaded code, and JAX is multithreaded, so this will likely lead to a deadlock.\n",
      "  self.pid = os.fork()\n"
     ]
    },
    {
     "name": "stdout",
     "output_type": "stream",
     "text": [
      "Epoch 376:\n",
      "\ttrain: loss 0.803 | loss id   0.78 | top_1_acc 0.9921 | top_5_acc 1.0000 | cos_auc: 1.0000 | cos_acc: 0.9985 | eu_auc: 0.9993 | eu_acc: 0.9922\n",
      "\ttest: cos_auc: 0.8558 | cos_acc: 0.8217 | eu_auc: 0.8067 | eu_acc: 0.8338\n",
      "\tSaving model and optimizer state to /kaggle/working/checkpoint/magface/normalmap/models/checkpoint.pth\n",
      "\tEpoch 376: EarlyStopping counter for 'test_cosine_auc': 9/50\n",
      "\tEpoch 376: EarlyStopping counter for 'test_cosine_accuracy': 159/50\n",
      "\tEpoch 376: EarlyStopping counter for 'test_euclidean_auc': 94/50\n",
      "\tEpoch 376: EarlyStopping counter for 'test_euclidean_accuracy': 122/50\n"
     ]
    },
    {
     "name": "stderr",
     "output_type": "stream",
     "text": [
      "/usr/lib/python3.10/multiprocessing/popen_fork.py:66: RuntimeWarning: os.fork() was called. os.fork() is incompatible with multithreaded code, and JAX is multithreaded, so this will likely lead to a deadlock.\n",
      "  self.pid = os.fork()\n",
      "/usr/lib/python3.10/multiprocessing/popen_fork.py:66: RuntimeWarning: os.fork() was called. os.fork() is incompatible with multithreaded code, and JAX is multithreaded, so this will likely lead to a deadlock.\n",
      "  self.pid = os.fork()\n"
     ]
    },
    {
     "name": "stdout",
     "output_type": "stream",
     "text": [
      "Epoch 377:\n",
      "\ttrain: loss 0.749 | loss id   0.73 | top_1_acc 0.9966 | top_5_acc 1.0000 | cos_auc: 0.9999 | cos_acc: 0.9961 | eu_auc: 0.9996 | eu_acc: 0.9929\n",
      "\ttest: cos_auc: 0.8777 | cos_acc: 0.7282 | eu_auc: 0.8234 | eu_acc: 0.8238\n",
      "\tSaving model and optimizer state to /kaggle/working/checkpoint/magface/normalmap/models/checkpoint.pth\n",
      "\tSaved best model weights for 'test_cosine_auc' at epoch 377 to '/kaggle/working/checkpoint/magface/normalmap/models/best_test_cosine_auc_377.pth'\n",
      "\tEpoch 377: EarlyStopping counter for 'test_cosine_accuracy': 160/50\n",
      "\tEpoch 377: EarlyStopping counter for 'test_euclidean_auc': 95/50\n",
      "\tEpoch 377: EarlyStopping counter for 'test_euclidean_accuracy': 123/50\n"
     ]
    },
    {
     "name": "stderr",
     "output_type": "stream",
     "text": [
      "/usr/lib/python3.10/multiprocessing/popen_fork.py:66: RuntimeWarning: os.fork() was called. os.fork() is incompatible with multithreaded code, and JAX is multithreaded, so this will likely lead to a deadlock.\n",
      "  self.pid = os.fork()\n",
      "/usr/lib/python3.10/multiprocessing/popen_fork.py:66: RuntimeWarning: os.fork() was called. os.fork() is incompatible with multithreaded code, and JAX is multithreaded, so this will likely lead to a deadlock.\n",
      "  self.pid = os.fork()\n"
     ]
    },
    {
     "name": "stdout",
     "output_type": "stream",
     "text": [
      "Epoch 378:\n",
      "\ttrain: loss 0.743 | loss id   0.72 | top_1_acc 0.9955 | top_5_acc 1.0000 | cos_auc: 0.9999 | cos_acc: 0.9978 | eu_auc: 0.9994 | eu_acc: 0.9907\n",
      "\ttest: cos_auc: 0.8790 | cos_acc: 0.7816 | eu_auc: 0.8396 | eu_acc: 0.7521\n",
      "\tSaving model and optimizer state to /kaggle/working/checkpoint/magface/normalmap/models/checkpoint.pth\n",
      "\tSaved best model weights for 'test_cosine_auc' at epoch 378 to '/kaggle/working/checkpoint/magface/normalmap/models/best_test_cosine_auc_378.pth'\n",
      "\tEpoch 378: EarlyStopping counter for 'test_cosine_accuracy': 161/50\n",
      "\tEpoch 378: EarlyStopping counter for 'test_euclidean_auc': 96/50\n",
      "\tEpoch 378: EarlyStopping counter for 'test_euclidean_accuracy': 124/50\n"
     ]
    },
    {
     "name": "stderr",
     "output_type": "stream",
     "text": [
      "/usr/lib/python3.10/multiprocessing/popen_fork.py:66: RuntimeWarning: os.fork() was called. os.fork() is incompatible with multithreaded code, and JAX is multithreaded, so this will likely lead to a deadlock.\n",
      "  self.pid = os.fork()\n",
      "/usr/lib/python3.10/multiprocessing/popen_fork.py:66: RuntimeWarning: os.fork() was called. os.fork() is incompatible with multithreaded code, and JAX is multithreaded, so this will likely lead to a deadlock.\n",
      "  self.pid = os.fork()\n"
     ]
    },
    {
     "name": "stdout",
     "output_type": "stream",
     "text": [
      "Epoch 379:\n",
      "\ttrain: loss 0.735 | loss id   0.71 | top_1_acc 0.9989 | top_5_acc 1.0000 | cos_auc: 1.0000 | cos_acc: 0.9995 | eu_auc: 0.9997 | eu_acc: 0.9939\n",
      "\ttest: cos_auc: 0.8768 | cos_acc: 0.8378 | eu_auc: 0.8214 | eu_acc: 0.8289\n",
      "\tSaving model and optimizer state to /kaggle/working/checkpoint/magface/normalmap/models/checkpoint.pth\n",
      "\tEpoch 379: EarlyStopping counter for 'test_cosine_auc': 1/50\n",
      "\tEpoch 379: EarlyStopping counter for 'test_cosine_accuracy': 162/50\n",
      "\tEpoch 379: EarlyStopping counter for 'test_euclidean_auc': 97/50\n",
      "\tEpoch 379: EarlyStopping counter for 'test_euclidean_accuracy': 125/50\n"
     ]
    },
    {
     "name": "stderr",
     "output_type": "stream",
     "text": [
      "/usr/lib/python3.10/multiprocessing/popen_fork.py:66: RuntimeWarning: os.fork() was called. os.fork() is incompatible with multithreaded code, and JAX is multithreaded, so this will likely lead to a deadlock.\n",
      "  self.pid = os.fork()\n",
      "/usr/lib/python3.10/multiprocessing/popen_fork.py:66: RuntimeWarning: os.fork() was called. os.fork() is incompatible with multithreaded code, and JAX is multithreaded, so this will likely lead to a deadlock.\n",
      "  self.pid = os.fork()\n"
     ]
    },
    {
     "name": "stdout",
     "output_type": "stream",
     "text": [
      "Epoch 380:\n",
      "\ttrain: loss 0.690 | loss id   0.67 | top_1_acc 0.9966 | top_5_acc 1.0000 | cos_auc: 1.0000 | cos_acc: 0.9991 | eu_auc: 0.9998 | eu_acc: 0.9925\n",
      "\ttest: cos_auc: 0.8622 | cos_acc: 0.7923 | eu_auc: 0.8203 | eu_acc: 0.7716\n",
      "\tSaving model and optimizer state to /kaggle/working/checkpoint/magface/normalmap/models/checkpoint.pth\n",
      "\tEpoch 380: EarlyStopping counter for 'test_cosine_auc': 2/50\n",
      "\tEpoch 380: EarlyStopping counter for 'test_cosine_accuracy': 163/50\n",
      "\tEpoch 380: EarlyStopping counter for 'test_euclidean_auc': 98/50\n",
      "\tEpoch 380: EarlyStopping counter for 'test_euclidean_accuracy': 126/50\n"
     ]
    },
    {
     "name": "stderr",
     "output_type": "stream",
     "text": [
      "/usr/lib/python3.10/multiprocessing/popen_fork.py:66: RuntimeWarning: os.fork() was called. os.fork() is incompatible with multithreaded code, and JAX is multithreaded, so this will likely lead to a deadlock.\n",
      "  self.pid = os.fork()\n",
      "/usr/lib/python3.10/multiprocessing/popen_fork.py:66: RuntimeWarning: os.fork() was called. os.fork() is incompatible with multithreaded code, and JAX is multithreaded, so this will likely lead to a deadlock.\n",
      "  self.pid = os.fork()\n"
     ]
    },
    {
     "name": "stdout",
     "output_type": "stream",
     "text": [
      "Epoch 381:\n",
      "\ttrain: loss 0.657 | loss id   0.63 | top_1_acc 0.9966 | top_5_acc 1.0000 | cos_auc: 1.0000 | cos_acc: 1.0000 | eu_auc: 0.9998 | eu_acc: 0.9951\n",
      "\ttest: cos_auc: 0.8370 | cos_acc: 0.7758 | eu_auc: 0.8070 | eu_acc: 0.8803\n",
      "\tSaving model and optimizer state to /kaggle/working/checkpoint/magface/normalmap/models/checkpoint.pth\n",
      "\tEpoch 381: EarlyStopping counter for 'test_cosine_auc': 3/50\n",
      "\tEpoch 381: EarlyStopping counter for 'test_cosine_accuracy': 164/50\n",
      "\tEpoch 381: EarlyStopping counter for 'test_euclidean_auc': 99/50\n",
      "\tEpoch 381: EarlyStopping counter for 'test_euclidean_accuracy': 127/50\n"
     ]
    },
    {
     "name": "stderr",
     "output_type": "stream",
     "text": [
      "/usr/lib/python3.10/multiprocessing/popen_fork.py:66: RuntimeWarning: os.fork() was called. os.fork() is incompatible with multithreaded code, and JAX is multithreaded, so this will likely lead to a deadlock.\n",
      "  self.pid = os.fork()\n",
      "/usr/lib/python3.10/multiprocessing/popen_fork.py:66: RuntimeWarning: os.fork() was called. os.fork() is incompatible with multithreaded code, and JAX is multithreaded, so this will likely lead to a deadlock.\n",
      "  self.pid = os.fork()\n"
     ]
    },
    {
     "name": "stdout",
     "output_type": "stream",
     "text": [
      "Epoch 382:\n",
      "\ttrain: loss 0.637 | loss id   0.61 | top_1_acc 1.0000 | top_5_acc 1.0000 | cos_auc: 1.0000 | cos_acc: 0.9994 | eu_auc: 0.9999 | eu_acc: 0.9962\n",
      "\ttest: cos_auc: 0.8531 | cos_acc: 0.8772 | eu_auc: 0.8226 | eu_acc: 0.7566\n",
      "\tSaving model and optimizer state to /kaggle/working/checkpoint/magface/normalmap/models/checkpoint.pth\n",
      "\tEpoch 382: EarlyStopping counter for 'test_cosine_auc': 4/50\n",
      "\tEpoch 382: EarlyStopping counter for 'test_cosine_accuracy': 165/50\n",
      "\tEpoch 382: EarlyStopping counter for 'test_euclidean_auc': 100/50\n",
      "\tEpoch 382: EarlyStopping counter for 'test_euclidean_accuracy': 128/50\n"
     ]
    },
    {
     "name": "stderr",
     "output_type": "stream",
     "text": [
      "/usr/lib/python3.10/multiprocessing/popen_fork.py:66: RuntimeWarning: os.fork() was called. os.fork() is incompatible with multithreaded code, and JAX is multithreaded, so this will likely lead to a deadlock.\n",
      "  self.pid = os.fork()\n",
      "/usr/lib/python3.10/multiprocessing/popen_fork.py:66: RuntimeWarning: os.fork() was called. os.fork() is incompatible with multithreaded code, and JAX is multithreaded, so this will likely lead to a deadlock.\n",
      "  self.pid = os.fork()\n"
     ]
    },
    {
     "name": "stdout",
     "output_type": "stream",
     "text": [
      "Epoch 383:\n",
      "\ttrain: loss 0.627 | loss id   0.60 | top_1_acc 0.9955 | top_5_acc 0.9978 | cos_auc: 1.0000 | cos_acc: 0.9992 | eu_auc: 0.9998 | eu_acc: 0.9942\n",
      "\ttest: cos_auc: 0.8712 | cos_acc: 0.8358 | eu_auc: 0.8226 | eu_acc: 0.8667\n",
      "\tSaving model and optimizer state to /kaggle/working/checkpoint/magface/normalmap/models/checkpoint.pth\n",
      "\tEpoch 383: EarlyStopping counter for 'test_cosine_auc': 5/50\n",
      "\tEpoch 383: EarlyStopping counter for 'test_cosine_accuracy': 166/50\n",
      "\tEpoch 383: EarlyStopping counter for 'test_euclidean_auc': 101/50\n",
      "\tEpoch 383: EarlyStopping counter for 'test_euclidean_accuracy': 129/50\n"
     ]
    },
    {
     "name": "stderr",
     "output_type": "stream",
     "text": [
      "/usr/lib/python3.10/multiprocessing/popen_fork.py:66: RuntimeWarning: os.fork() was called. os.fork() is incompatible with multithreaded code, and JAX is multithreaded, so this will likely lead to a deadlock.\n",
      "  self.pid = os.fork()\n",
      "/usr/lib/python3.10/multiprocessing/popen_fork.py:66: RuntimeWarning: os.fork() was called. os.fork() is incompatible with multithreaded code, and JAX is multithreaded, so this will likely lead to a deadlock.\n",
      "  self.pid = os.fork()\n"
     ]
    },
    {
     "name": "stdout",
     "output_type": "stream",
     "text": [
      "Epoch 384:\n",
      "\ttrain: loss 0.579 | loss id   0.56 | top_1_acc 1.0000 | top_5_acc 1.0000 | cos_auc: 1.0000 | cos_acc: 0.9997 | eu_auc: 0.9998 | eu_acc: 0.9963\n",
      "\ttest: cos_auc: 0.8514 | cos_acc: 0.8518 | eu_auc: 0.8064 | eu_acc: 0.8581\n",
      "\tSaving model and optimizer state to /kaggle/working/checkpoint/magface/normalmap/models/checkpoint.pth\n",
      "\tEpoch 384: EarlyStopping counter for 'test_cosine_auc': 6/50\n",
      "\tEpoch 384: EarlyStopping counter for 'test_cosine_accuracy': 167/50\n",
      "\tEpoch 384: EarlyStopping counter for 'test_euclidean_auc': 102/50\n",
      "\tEpoch 384: EarlyStopping counter for 'test_euclidean_accuracy': 130/50\n"
     ]
    },
    {
     "name": "stderr",
     "output_type": "stream",
     "text": [
      "/usr/lib/python3.10/multiprocessing/popen_fork.py:66: RuntimeWarning: os.fork() was called. os.fork() is incompatible with multithreaded code, and JAX is multithreaded, so this will likely lead to a deadlock.\n",
      "  self.pid = os.fork()\n",
      "/usr/lib/python3.10/multiprocessing/popen_fork.py:66: RuntimeWarning: os.fork() was called. os.fork() is incompatible with multithreaded code, and JAX is multithreaded, so this will likely lead to a deadlock.\n",
      "  self.pid = os.fork()\n"
     ]
    },
    {
     "name": "stdout",
     "output_type": "stream",
     "text": [
      "Epoch 385:\n",
      "\ttrain: loss 0.543 | loss id   0.52 | top_1_acc 1.0000 | top_5_acc 1.0000 | cos_auc: 1.0000 | cos_acc: 0.9997 | eu_auc: 0.9999 | eu_acc: 0.9976\n",
      "\ttest: cos_auc: 0.8571 | cos_acc: 0.8417 | eu_auc: 0.8156 | eu_acc: 0.7933\n",
      "\tSaving model and optimizer state to /kaggle/working/checkpoint/magface/normalmap/models/checkpoint.pth\n",
      "\tEpoch 385: EarlyStopping counter for 'test_cosine_auc': 7/50\n",
      "\tEpoch 385: EarlyStopping counter for 'test_cosine_accuracy': 168/50\n",
      "\tEpoch 385: EarlyStopping counter for 'test_euclidean_auc': 103/50\n",
      "\tEpoch 385: EarlyStopping counter for 'test_euclidean_accuracy': 131/50\n"
     ]
    },
    {
     "name": "stderr",
     "output_type": "stream",
     "text": [
      "/usr/lib/python3.10/multiprocessing/popen_fork.py:66: RuntimeWarning: os.fork() was called. os.fork() is incompatible with multithreaded code, and JAX is multithreaded, so this will likely lead to a deadlock.\n",
      "  self.pid = os.fork()\n",
      "/usr/lib/python3.10/multiprocessing/popen_fork.py:66: RuntimeWarning: os.fork() was called. os.fork() is incompatible with multithreaded code, and JAX is multithreaded, so this will likely lead to a deadlock.\n",
      "  self.pid = os.fork()\n"
     ]
    },
    {
     "name": "stdout",
     "output_type": "stream",
     "text": [
      "Epoch 386:\n",
      "\ttrain: loss 0.548 | loss id   0.53 | top_1_acc 0.9989 | top_5_acc 1.0000 | cos_auc: 1.0000 | cos_acc: 0.9999 | eu_auc: 0.9996 | eu_acc: 0.9960\n",
      "\ttest: cos_auc: 0.8600 | cos_acc: 0.8402 | eu_auc: 0.8253 | eu_acc: 0.8141\n",
      "\tSaving model and optimizer state to /kaggle/working/checkpoint/magface/normalmap/models/checkpoint.pth\n",
      "\tEpoch 386: EarlyStopping counter for 'test_cosine_auc': 8/50\n",
      "\tEpoch 386: EarlyStopping counter for 'test_cosine_accuracy': 169/50\n",
      "\tEpoch 386: EarlyStopping counter for 'test_euclidean_auc': 104/50\n",
      "\tEpoch 386: EarlyStopping counter for 'test_euclidean_accuracy': 132/50\n"
     ]
    },
    {
     "name": "stderr",
     "output_type": "stream",
     "text": [
      "/usr/lib/python3.10/multiprocessing/popen_fork.py:66: RuntimeWarning: os.fork() was called. os.fork() is incompatible with multithreaded code, and JAX is multithreaded, so this will likely lead to a deadlock.\n",
      "  self.pid = os.fork()\n",
      "/usr/lib/python3.10/multiprocessing/popen_fork.py:66: RuntimeWarning: os.fork() was called. os.fork() is incompatible with multithreaded code, and JAX is multithreaded, so this will likely lead to a deadlock.\n",
      "  self.pid = os.fork()\n"
     ]
    },
    {
     "name": "stdout",
     "output_type": "stream",
     "text": [
      "Epoch 387:\n",
      "\ttrain: loss 0.537 | loss id   0.51 | top_1_acc 1.0000 | top_5_acc 1.0000 | cos_auc: 1.0000 | cos_acc: 1.0000 | eu_auc: 0.9997 | eu_acc: 0.9967\n",
      "\ttest: cos_auc: 0.8627 | cos_acc: 0.7758 | eu_auc: 0.8140 | eu_acc: 0.8411\n",
      "\tSaving model and optimizer state to /kaggle/working/checkpoint/magface/normalmap/models/checkpoint.pth\n",
      "\tEpoch 387: EarlyStopping counter for 'test_cosine_auc': 9/50\n",
      "\tEpoch 387: EarlyStopping counter for 'test_cosine_accuracy': 170/50\n",
      "\tEpoch 387: EarlyStopping counter for 'test_euclidean_auc': 105/50\n",
      "\tEpoch 387: EarlyStopping counter for 'test_euclidean_accuracy': 133/50\n"
     ]
    },
    {
     "name": "stderr",
     "output_type": "stream",
     "text": [
      "/usr/lib/python3.10/multiprocessing/popen_fork.py:66: RuntimeWarning: os.fork() was called. os.fork() is incompatible with multithreaded code, and JAX is multithreaded, so this will likely lead to a deadlock.\n",
      "  self.pid = os.fork()\n",
      "/usr/lib/python3.10/multiprocessing/popen_fork.py:66: RuntimeWarning: os.fork() was called. os.fork() is incompatible with multithreaded code, and JAX is multithreaded, so this will likely lead to a deadlock.\n",
      "  self.pid = os.fork()\n"
     ]
    },
    {
     "name": "stdout",
     "output_type": "stream",
     "text": [
      "Epoch 388:\n",
      "\ttrain: loss 0.463 | loss id   0.44 | top_1_acc 1.0000 | top_5_acc 1.0000 | cos_auc: 1.0000 | cos_acc: 1.0000 | eu_auc: 0.9998 | eu_acc: 0.9959\n",
      "\ttest: cos_auc: 0.8640 | cos_acc: 0.8058 | eu_auc: 0.8114 | eu_acc: 0.8475\n",
      "\tSaving model and optimizer state to /kaggle/working/checkpoint/magface/normalmap/models/checkpoint.pth\n",
      "\tEpoch 388: EarlyStopping counter for 'test_cosine_auc': 10/50\n",
      "\tEpoch 388: EarlyStopping counter for 'test_cosine_accuracy': 171/50\n",
      "\tEpoch 388: EarlyStopping counter for 'test_euclidean_auc': 106/50\n",
      "\tEpoch 388: EarlyStopping counter for 'test_euclidean_accuracy': 134/50\n"
     ]
    },
    {
     "name": "stderr",
     "output_type": "stream",
     "text": [
      "/usr/lib/python3.10/multiprocessing/popen_fork.py:66: RuntimeWarning: os.fork() was called. os.fork() is incompatible with multithreaded code, and JAX is multithreaded, so this will likely lead to a deadlock.\n",
      "  self.pid = os.fork()\n",
      "/usr/lib/python3.10/multiprocessing/popen_fork.py:66: RuntimeWarning: os.fork() was called. os.fork() is incompatible with multithreaded code, and JAX is multithreaded, so this will likely lead to a deadlock.\n",
      "  self.pid = os.fork()\n"
     ]
    },
    {
     "name": "stdout",
     "output_type": "stream",
     "text": [
      "Epoch 389:\n",
      "\ttrain: loss 0.462 | loss id   0.44 | top_1_acc 0.9989 | top_5_acc 1.0000 | cos_auc: 1.0000 | cos_acc: 0.9999 | eu_auc: 0.9999 | eu_acc: 0.9964\n",
      "\ttest: cos_auc: 0.8758 | cos_acc: 0.8189 | eu_auc: 0.8183 | eu_acc: 0.8247\n",
      "\tSaving model and optimizer state to /kaggle/working/checkpoint/magface/normalmap/models/checkpoint.pth\n",
      "\tEpoch 389: EarlyStopping counter for 'test_cosine_auc': 11/50\n",
      "\tEpoch 389: EarlyStopping counter for 'test_cosine_accuracy': 172/50\n",
      "\tEpoch 389: EarlyStopping counter for 'test_euclidean_auc': 107/50\n",
      "\tEpoch 389: EarlyStopping counter for 'test_euclidean_accuracy': 135/50\n"
     ]
    },
    {
     "name": "stderr",
     "output_type": "stream",
     "text": [
      "/usr/lib/python3.10/multiprocessing/popen_fork.py:66: RuntimeWarning: os.fork() was called. os.fork() is incompatible with multithreaded code, and JAX is multithreaded, so this will likely lead to a deadlock.\n",
      "  self.pid = os.fork()\n",
      "/usr/lib/python3.10/multiprocessing/popen_fork.py:66: RuntimeWarning: os.fork() was called. os.fork() is incompatible with multithreaded code, and JAX is multithreaded, so this will likely lead to a deadlock.\n",
      "  self.pid = os.fork()\n"
     ]
    },
    {
     "name": "stdout",
     "output_type": "stream",
     "text": [
      "Epoch 390:\n",
      "\ttrain: loss 0.472 | loss id   0.45 | top_1_acc 1.0000 | top_5_acc 1.0000 | cos_auc: 1.0000 | cos_acc: 0.9998 | eu_auc: 0.9998 | eu_acc: 0.9978\n",
      "\ttest: cos_auc: 0.8696 | cos_acc: 0.7922 | eu_auc: 0.8158 | eu_acc: 0.7941\n",
      "\tSaving model and optimizer state to /kaggle/working/checkpoint/magface/normalmap/models/checkpoint.pth\n",
      "\tEpoch 390: EarlyStopping counter for 'test_cosine_auc': 12/50\n",
      "\tEpoch 390: EarlyStopping counter for 'test_cosine_accuracy': 173/50\n",
      "\tEpoch 390: EarlyStopping counter for 'test_euclidean_auc': 108/50\n",
      "\tEpoch 390: EarlyStopping counter for 'test_euclidean_accuracy': 136/50\n"
     ]
    },
    {
     "name": "stderr",
     "output_type": "stream",
     "text": [
      "/usr/lib/python3.10/multiprocessing/popen_fork.py:66: RuntimeWarning: os.fork() was called. os.fork() is incompatible with multithreaded code, and JAX is multithreaded, so this will likely lead to a deadlock.\n",
      "  self.pid = os.fork()\n",
      "/usr/lib/python3.10/multiprocessing/popen_fork.py:66: RuntimeWarning: os.fork() was called. os.fork() is incompatible with multithreaded code, and JAX is multithreaded, so this will likely lead to a deadlock.\n",
      "  self.pid = os.fork()\n"
     ]
    },
    {
     "name": "stdout",
     "output_type": "stream",
     "text": [
      "Epoch 391:\n",
      "\ttrain: loss 0.471 | loss id   0.45 | top_1_acc 1.0000 | top_5_acc 1.0000 | cos_auc: 1.0000 | cos_acc: 1.0000 | eu_auc: 0.9999 | eu_acc: 0.9975\n",
      "\ttest: cos_auc: 0.8716 | cos_acc: 0.8037 | eu_auc: 0.8159 | eu_acc: 0.8431\n",
      "\tSaving model and optimizer state to /kaggle/working/checkpoint/magface/normalmap/models/checkpoint.pth\n",
      "\tEpoch 391: EarlyStopping counter for 'test_cosine_auc': 13/50\n",
      "\tEpoch 391: EarlyStopping counter for 'test_cosine_accuracy': 174/50\n",
      "\tEpoch 391: EarlyStopping counter for 'test_euclidean_auc': 109/50\n",
      "\tEpoch 391: EarlyStopping counter for 'test_euclidean_accuracy': 137/50\n"
     ]
    },
    {
     "name": "stderr",
     "output_type": "stream",
     "text": [
      "/usr/lib/python3.10/multiprocessing/popen_fork.py:66: RuntimeWarning: os.fork() was called. os.fork() is incompatible with multithreaded code, and JAX is multithreaded, so this will likely lead to a deadlock.\n",
      "  self.pid = os.fork()\n",
      "/usr/lib/python3.10/multiprocessing/popen_fork.py:66: RuntimeWarning: os.fork() was called. os.fork() is incompatible with multithreaded code, and JAX is multithreaded, so this will likely lead to a deadlock.\n",
      "  self.pid = os.fork()\n"
     ]
    },
    {
     "name": "stdout",
     "output_type": "stream",
     "text": [
      "Epoch 392:\n",
      "\ttrain: loss 0.429 | loss id   0.41 | top_1_acc 1.0000 | top_5_acc 1.0000 | cos_auc: 1.0000 | cos_acc: 1.0000 | eu_auc: 0.9999 | eu_acc: 0.9970\n",
      "\ttest: cos_auc: 0.8636 | cos_acc: 0.8075 | eu_auc: 0.8166 | eu_acc: 0.7916\n",
      "\tSaving model and optimizer state to /kaggle/working/checkpoint/magface/normalmap/models/checkpoint.pth\n",
      "\tEpoch 392: EarlyStopping counter for 'test_cosine_auc': 14/50\n",
      "\tEpoch 392: EarlyStopping counter for 'test_cosine_accuracy': 175/50\n",
      "\tEpoch 392: EarlyStopping counter for 'test_euclidean_auc': 110/50\n",
      "\tEpoch 392: EarlyStopping counter for 'test_euclidean_accuracy': 138/50\n"
     ]
    },
    {
     "name": "stderr",
     "output_type": "stream",
     "text": [
      "/usr/lib/python3.10/multiprocessing/popen_fork.py:66: RuntimeWarning: os.fork() was called. os.fork() is incompatible with multithreaded code, and JAX is multithreaded, so this will likely lead to a deadlock.\n",
      "  self.pid = os.fork()\n",
      "/usr/lib/python3.10/multiprocessing/popen_fork.py:66: RuntimeWarning: os.fork() was called. os.fork() is incompatible with multithreaded code, and JAX is multithreaded, so this will likely lead to a deadlock.\n",
      "  self.pid = os.fork()\n"
     ]
    },
    {
     "name": "stdout",
     "output_type": "stream",
     "text": [
      "Epoch 393:\n",
      "\ttrain: loss 0.414 | loss id   0.39 | top_1_acc 1.0000 | top_5_acc 1.0000 | cos_auc: 1.0000 | cos_acc: 1.0000 | eu_auc: 0.9999 | eu_acc: 0.9971\n",
      "\ttest: cos_auc: 0.8684 | cos_acc: 0.7570 | eu_auc: 0.8192 | eu_acc: 0.7738\n",
      "\tSaving model and optimizer state to /kaggle/working/checkpoint/magface/normalmap/models/checkpoint.pth\n",
      "\tEpoch 393: EarlyStopping counter for 'test_cosine_auc': 15/50\n",
      "\tEpoch 393: EarlyStopping counter for 'test_cosine_accuracy': 176/50\n",
      "\tEpoch 393: EarlyStopping counter for 'test_euclidean_auc': 111/50\n",
      "\tEpoch 393: EarlyStopping counter for 'test_euclidean_accuracy': 139/50\n"
     ]
    },
    {
     "name": "stderr",
     "output_type": "stream",
     "text": [
      "/usr/lib/python3.10/multiprocessing/popen_fork.py:66: RuntimeWarning: os.fork() was called. os.fork() is incompatible with multithreaded code, and JAX is multithreaded, so this will likely lead to a deadlock.\n",
      "  self.pid = os.fork()\n",
      "/usr/lib/python3.10/multiprocessing/popen_fork.py:66: RuntimeWarning: os.fork() was called. os.fork() is incompatible with multithreaded code, and JAX is multithreaded, so this will likely lead to a deadlock.\n",
      "  self.pid = os.fork()\n"
     ]
    },
    {
     "name": "stdout",
     "output_type": "stream",
     "text": [
      "Epoch 394:\n",
      "\ttrain: loss 0.423 | loss id   0.40 | top_1_acc 1.0000 | top_5_acc 1.0000 | cos_auc: 0.9999 | cos_acc: 0.9996 | eu_auc: 0.9998 | eu_acc: 0.9968\n",
      "\ttest: cos_auc: 0.8659 | cos_acc: 0.8083 | eu_auc: 0.8188 | eu_acc: 0.7982\n",
      "\tSaving model and optimizer state to /kaggle/working/checkpoint/magface/normalmap/models/checkpoint.pth\n",
      "\tEpoch 394: EarlyStopping counter for 'test_cosine_auc': 16/50\n",
      "\tEpoch 394: EarlyStopping counter for 'test_cosine_accuracy': 177/50\n",
      "\tEpoch 394: EarlyStopping counter for 'test_euclidean_auc': 112/50\n",
      "\tEpoch 394: EarlyStopping counter for 'test_euclidean_accuracy': 140/50\n"
     ]
    },
    {
     "name": "stderr",
     "output_type": "stream",
     "text": [
      "/usr/lib/python3.10/multiprocessing/popen_fork.py:66: RuntimeWarning: os.fork() was called. os.fork() is incompatible with multithreaded code, and JAX is multithreaded, so this will likely lead to a deadlock.\n",
      "  self.pid = os.fork()\n",
      "/usr/lib/python3.10/multiprocessing/popen_fork.py:66: RuntimeWarning: os.fork() was called. os.fork() is incompatible with multithreaded code, and JAX is multithreaded, so this will likely lead to a deadlock.\n",
      "  self.pid = os.fork()\n"
     ]
    },
    {
     "name": "stdout",
     "output_type": "stream",
     "text": [
      "Epoch 395:\n",
      "\ttrain: loss 0.443 | loss id   0.42 | top_1_acc 0.9978 | top_5_acc 1.0000 | cos_auc: 1.0000 | cos_acc: 0.9999 | eu_auc: 0.9999 | eu_acc: 0.9982\n",
      "\ttest: cos_auc: 0.8697 | cos_acc: 0.8446 | eu_auc: 0.8188 | eu_acc: 0.8039\n",
      "\tSaving model and optimizer state to /kaggle/working/checkpoint/magface/normalmap/models/checkpoint.pth\n",
      "\tEpoch 395: EarlyStopping counter for 'test_cosine_auc': 17/50\n",
      "\tEpoch 395: EarlyStopping counter for 'test_cosine_accuracy': 178/50\n",
      "\tEpoch 395: EarlyStopping counter for 'test_euclidean_auc': 113/50\n",
      "\tEpoch 395: EarlyStopping counter for 'test_euclidean_accuracy': 141/50\n"
     ]
    },
    {
     "name": "stderr",
     "output_type": "stream",
     "text": [
      "/usr/lib/python3.10/multiprocessing/popen_fork.py:66: RuntimeWarning: os.fork() was called. os.fork() is incompatible with multithreaded code, and JAX is multithreaded, so this will likely lead to a deadlock.\n",
      "  self.pid = os.fork()\n",
      "/usr/lib/python3.10/multiprocessing/popen_fork.py:66: RuntimeWarning: os.fork() was called. os.fork() is incompatible with multithreaded code, and JAX is multithreaded, so this will likely lead to a deadlock.\n",
      "  self.pid = os.fork()\n"
     ]
    },
    {
     "name": "stdout",
     "output_type": "stream",
     "text": [
      "Epoch 396:\n",
      "\ttrain: loss 0.384 | loss id   0.36 | top_1_acc 1.0000 | top_5_acc 1.0000 | cos_auc: 1.0000 | cos_acc: 1.0000 | eu_auc: 1.0000 | eu_acc: 0.9982\n",
      "\ttest: cos_auc: 0.8703 | cos_acc: 0.8347 | eu_auc: 0.8185 | eu_acc: 0.8450\n",
      "\tSaving model and optimizer state to /kaggle/working/checkpoint/magface/normalmap/models/checkpoint.pth\n",
      "\tEpoch 396: EarlyStopping counter for 'test_cosine_auc': 18/50\n",
      "\tEpoch 396: EarlyStopping counter for 'test_cosine_accuracy': 179/50\n",
      "\tEpoch 396: EarlyStopping counter for 'test_euclidean_auc': 114/50\n",
      "\tEpoch 396: EarlyStopping counter for 'test_euclidean_accuracy': 142/50\n"
     ]
    },
    {
     "name": "stderr",
     "output_type": "stream",
     "text": [
      "/usr/lib/python3.10/multiprocessing/popen_fork.py:66: RuntimeWarning: os.fork() was called. os.fork() is incompatible with multithreaded code, and JAX is multithreaded, so this will likely lead to a deadlock.\n",
      "  self.pid = os.fork()\n",
      "/usr/lib/python3.10/multiprocessing/popen_fork.py:66: RuntimeWarning: os.fork() was called. os.fork() is incompatible with multithreaded code, and JAX is multithreaded, so this will likely lead to a deadlock.\n",
      "  self.pid = os.fork()\n"
     ]
    },
    {
     "name": "stdout",
     "output_type": "stream",
     "text": [
      "Epoch 397:\n",
      "\ttrain: loss 0.382 | loss id   0.36 | top_1_acc 0.9989 | top_5_acc 1.0000 | cos_auc: 1.0000 | cos_acc: 0.9999 | eu_auc: 0.9999 | eu_acc: 0.9960\n",
      "\ttest: cos_auc: 0.8713 | cos_acc: 0.7538 | eu_auc: 0.8185 | eu_acc: 0.7906\n",
      "\tSaving model and optimizer state to /kaggle/working/checkpoint/magface/normalmap/models/checkpoint.pth\n",
      "\tEpoch 397: EarlyStopping counter for 'test_cosine_auc': 19/50\n",
      "\tEpoch 397: EarlyStopping counter for 'test_cosine_accuracy': 180/50\n",
      "\tEpoch 397: EarlyStopping counter for 'test_euclidean_auc': 115/50\n",
      "\tEpoch 397: EarlyStopping counter for 'test_euclidean_accuracy': 143/50\n"
     ]
    },
    {
     "name": "stderr",
     "output_type": "stream",
     "text": [
      "/usr/lib/python3.10/multiprocessing/popen_fork.py:66: RuntimeWarning: os.fork() was called. os.fork() is incompatible with multithreaded code, and JAX is multithreaded, so this will likely lead to a deadlock.\n",
      "  self.pid = os.fork()\n",
      "/usr/lib/python3.10/multiprocessing/popen_fork.py:66: RuntimeWarning: os.fork() was called. os.fork() is incompatible with multithreaded code, and JAX is multithreaded, so this will likely lead to a deadlock.\n",
      "  self.pid = os.fork()\n"
     ]
    },
    {
     "name": "stdout",
     "output_type": "stream",
     "text": [
      "Epoch 398:\n",
      "\ttrain: loss 0.383 | loss id   0.36 | top_1_acc 1.0000 | top_5_acc 1.0000 | cos_auc: 1.0000 | cos_acc: 1.0000 | eu_auc: 1.0000 | eu_acc: 0.9983\n",
      "\ttest: cos_auc: 0.8720 | cos_acc: 0.8161 | eu_auc: 0.8187 | eu_acc: 0.7913\n",
      "\tSaving model and optimizer state to /kaggle/working/checkpoint/magface/normalmap/models/checkpoint.pth\n",
      "\tEpoch 398: EarlyStopping counter for 'test_cosine_auc': 20/50\n",
      "\tEpoch 398: EarlyStopping counter for 'test_cosine_accuracy': 181/50\n",
      "\tEpoch 398: EarlyStopping counter for 'test_euclidean_auc': 116/50\n",
      "\tEpoch 398: EarlyStopping counter for 'test_euclidean_accuracy': 144/50\n"
     ]
    },
    {
     "name": "stderr",
     "output_type": "stream",
     "text": [
      "/usr/lib/python3.10/multiprocessing/popen_fork.py:66: RuntimeWarning: os.fork() was called. os.fork() is incompatible with multithreaded code, and JAX is multithreaded, so this will likely lead to a deadlock.\n",
      "  self.pid = os.fork()\n",
      "/usr/lib/python3.10/multiprocessing/popen_fork.py:66: RuntimeWarning: os.fork() was called. os.fork() is incompatible with multithreaded code, and JAX is multithreaded, so this will likely lead to a deadlock.\n",
      "  self.pid = os.fork()\n"
     ]
    },
    {
     "name": "stdout",
     "output_type": "stream",
     "text": [
      "Epoch 399:\n",
      "\ttrain: loss 0.365 | loss id   0.34 | top_1_acc 1.0000 | top_5_acc 1.0000 | cos_auc: 1.0000 | cos_acc: 1.0000 | eu_auc: 0.9999 | eu_acc: 0.9972\n",
      "\ttest: cos_auc: 0.8705 | cos_acc: 0.7473 | eu_auc: 0.8200 | eu_acc: 0.8445\n",
      "\tSaving model and optimizer state to /kaggle/working/checkpoint/magface/normalmap/models/checkpoint.pth\n",
      "\tEpoch 399: EarlyStopping counter for 'test_cosine_auc': 21/50\n",
      "\tEpoch 399: EarlyStopping counter for 'test_cosine_accuracy': 182/50\n",
      "\tEpoch 399: EarlyStopping counter for 'test_euclidean_auc': 117/50\n",
      "\tEpoch 399: EarlyStopping counter for 'test_euclidean_accuracy': 145/50\n"
     ]
    },
    {
     "name": "stderr",
     "output_type": "stream",
     "text": [
      "/usr/lib/python3.10/multiprocessing/popen_fork.py:66: RuntimeWarning: os.fork() was called. os.fork() is incompatible with multithreaded code, and JAX is multithreaded, so this will likely lead to a deadlock.\n",
      "  self.pid = os.fork()\n",
      "/usr/lib/python3.10/multiprocessing/popen_fork.py:66: RuntimeWarning: os.fork() was called. os.fork() is incompatible with multithreaded code, and JAX is multithreaded, so this will likely lead to a deadlock.\n",
      "  self.pid = os.fork()\n"
     ]
    },
    {
     "name": "stdout",
     "output_type": "stream",
     "text": [
      "Epoch 400:\n",
      "\ttrain: loss 0.356 | loss id   0.33 | top_1_acc 1.0000 | top_5_acc 1.0000 | cos_auc: 1.0000 | cos_acc: 0.9995 | eu_auc: 0.9999 | eu_acc: 0.9970\n",
      "\ttest: cos_auc: 0.8682 | cos_acc: 0.8363 | eu_auc: 0.8194 | eu_acc: 0.8041\n",
      "\tSaving model and optimizer state to /kaggle/working/checkpoint/magface/normalmap/models/checkpoint.pth\n",
      "\tEpoch 400: EarlyStopping counter for 'test_cosine_auc': 22/50\n",
      "\tEpoch 400: EarlyStopping counter for 'test_cosine_accuracy': 183/50\n",
      "\tEpoch 400: EarlyStopping counter for 'test_euclidean_auc': 118/50\n",
      "\tEpoch 400: EarlyStopping counter for 'test_euclidean_accuracy': 146/50\n"
     ]
    },
    {
     "name": "stderr",
     "output_type": "stream",
     "text": [
      "/usr/lib/python3.10/multiprocessing/popen_fork.py:66: RuntimeWarning: os.fork() was called. os.fork() is incompatible with multithreaded code, and JAX is multithreaded, so this will likely lead to a deadlock.\n",
      "  self.pid = os.fork()\n",
      "/usr/lib/python3.10/multiprocessing/popen_fork.py:66: RuntimeWarning: os.fork() was called. os.fork() is incompatible with multithreaded code, and JAX is multithreaded, so this will likely lead to a deadlock.\n",
      "  self.pid = os.fork()\n"
     ]
    },
    {
     "name": "stdout",
     "output_type": "stream",
     "text": [
      "Epoch 401:\n",
      "\ttrain: loss 0.711 | loss id   0.69 | top_1_acc 0.9989 | top_5_acc 1.0000 | cos_auc: 0.9997 | cos_acc: 0.9926 | eu_auc: 0.9984 | eu_acc: 0.9835\n",
      "\ttest: cos_auc: 0.8383 | cos_acc: 0.8513 | eu_auc: 0.7990 | eu_acc: 0.8495\n",
      "\tSaving model and optimizer state to /kaggle/working/checkpoint/magface/normalmap/models/checkpoint.pth\n",
      "\tEpoch 401: EarlyStopping counter for 'test_cosine_auc': 23/50\n",
      "\tEpoch 401: EarlyStopping counter for 'test_cosine_accuracy': 184/50\n",
      "\tEpoch 401: EarlyStopping counter for 'test_euclidean_auc': 119/50\n",
      "\tEpoch 401: EarlyStopping counter for 'test_euclidean_accuracy': 147/50\n"
     ]
    },
    {
     "name": "stderr",
     "output_type": "stream",
     "text": [
      "/usr/lib/python3.10/multiprocessing/popen_fork.py:66: RuntimeWarning: os.fork() was called. os.fork() is incompatible with multithreaded code, and JAX is multithreaded, so this will likely lead to a deadlock.\n",
      "  self.pid = os.fork()\n",
      "/usr/lib/python3.10/multiprocessing/popen_fork.py:66: RuntimeWarning: os.fork() was called. os.fork() is incompatible with multithreaded code, and JAX is multithreaded, so this will likely lead to a deadlock.\n",
      "  self.pid = os.fork()\n"
     ]
    },
    {
     "name": "stdout",
     "output_type": "stream",
     "text": [
      "Epoch 402:\n",
      "\ttrain: loss 0.795 | loss id   0.77 | top_1_acc 0.9978 | top_5_acc 1.0000 | cos_auc: 0.9999 | cos_acc: 0.9967 | eu_auc: 0.9986 | eu_acc: 0.9886\n",
      "\ttest: cos_auc: 0.8548 | cos_acc: 0.8782 | eu_auc: 0.8187 | eu_acc: 0.8784\n",
      "\tSaving model and optimizer state to /kaggle/working/checkpoint/magface/normalmap/models/checkpoint.pth\n",
      "\tEpoch 402: EarlyStopping counter for 'test_cosine_auc': 24/50\n",
      "\tEpoch 402: EarlyStopping counter for 'test_cosine_accuracy': 185/50\n",
      "\tEpoch 402: EarlyStopping counter for 'test_euclidean_auc': 120/50\n",
      "\tEpoch 402: EarlyStopping counter for 'test_euclidean_accuracy': 148/50\n"
     ]
    },
    {
     "name": "stderr",
     "output_type": "stream",
     "text": [
      "/usr/lib/python3.10/multiprocessing/popen_fork.py:66: RuntimeWarning: os.fork() was called. os.fork() is incompatible with multithreaded code, and JAX is multithreaded, so this will likely lead to a deadlock.\n",
      "  self.pid = os.fork()\n",
      "/usr/lib/python3.10/multiprocessing/popen_fork.py:66: RuntimeWarning: os.fork() was called. os.fork() is incompatible with multithreaded code, and JAX is multithreaded, so this will likely lead to a deadlock.\n",
      "  self.pid = os.fork()\n"
     ]
    },
    {
     "name": "stdout",
     "output_type": "stream",
     "text": [
      "Epoch 403:\n",
      "\ttrain: loss 0.864 | loss id   0.84 | top_1_acc 0.9989 | top_5_acc 1.0000 | cos_auc: 1.0000 | cos_acc: 0.9992 | eu_auc: 0.9997 | eu_acc: 0.9904\n",
      "\ttest: cos_auc: 0.8572 | cos_acc: 0.8429 | eu_auc: 0.8058 | eu_acc: 0.7494\n",
      "\tSaving model and optimizer state to /kaggle/working/checkpoint/magface/normalmap/models/checkpoint.pth\n",
      "\tEpoch 403: EarlyStopping counter for 'test_cosine_auc': 25/50\n",
      "\tEpoch 403: EarlyStopping counter for 'test_cosine_accuracy': 186/50\n",
      "\tEpoch 403: EarlyStopping counter for 'test_euclidean_auc': 121/50\n",
      "\tEpoch 403: EarlyStopping counter for 'test_euclidean_accuracy': 149/50\n"
     ]
    },
    {
     "name": "stderr",
     "output_type": "stream",
     "text": [
      "/usr/lib/python3.10/multiprocessing/popen_fork.py:66: RuntimeWarning: os.fork() was called. os.fork() is incompatible with multithreaded code, and JAX is multithreaded, so this will likely lead to a deadlock.\n",
      "  self.pid = os.fork()\n",
      "/usr/lib/python3.10/multiprocessing/popen_fork.py:66: RuntimeWarning: os.fork() was called. os.fork() is incompatible with multithreaded code, and JAX is multithreaded, so this will likely lead to a deadlock.\n",
      "  self.pid = os.fork()\n"
     ]
    },
    {
     "name": "stdout",
     "output_type": "stream",
     "text": [
      "Epoch 404:\n",
      "\ttrain: loss 0.782 | loss id   0.76 | top_1_acc 0.9966 | top_5_acc 0.9989 | cos_auc: 0.9999 | cos_acc: 0.9966 | eu_auc: 0.9992 | eu_acc: 0.9898\n",
      "\ttest: cos_auc: 0.8365 | cos_acc: 0.7496 | eu_auc: 0.7998 | eu_acc: 0.8641\n",
      "\tSaving model and optimizer state to /kaggle/working/checkpoint/magface/normalmap/models/checkpoint.pth\n",
      "\tEpoch 404: EarlyStopping counter for 'test_cosine_auc': 26/50\n",
      "\tEpoch 404: EarlyStopping counter for 'test_cosine_accuracy': 187/50\n",
      "\tEpoch 404: EarlyStopping counter for 'test_euclidean_auc': 122/50\n",
      "\tEpoch 404: EarlyStopping counter for 'test_euclidean_accuracy': 150/50\n"
     ]
    },
    {
     "name": "stderr",
     "output_type": "stream",
     "text": [
      "/usr/lib/python3.10/multiprocessing/popen_fork.py:66: RuntimeWarning: os.fork() was called. os.fork() is incompatible with multithreaded code, and JAX is multithreaded, so this will likely lead to a deadlock.\n",
      "  self.pid = os.fork()\n",
      "/usr/lib/python3.10/multiprocessing/popen_fork.py:66: RuntimeWarning: os.fork() was called. os.fork() is incompatible with multithreaded code, and JAX is multithreaded, so this will likely lead to a deadlock.\n",
      "  self.pid = os.fork()\n"
     ]
    },
    {
     "name": "stdout",
     "output_type": "stream",
     "text": [
      "Epoch 405:\n",
      "\ttrain: loss 0.828 | loss id   0.80 | top_1_acc 0.9933 | top_5_acc 1.0000 | cos_auc: 1.0000 | cos_acc: 0.9982 | eu_auc: 0.9988 | eu_acc: 0.9882\n",
      "\ttest: cos_auc: 0.8271 | cos_acc: 0.7480 | eu_auc: 0.7905 | eu_acc: 0.8851\n",
      "\tSaving model and optimizer state to /kaggle/working/checkpoint/magface/normalmap/models/checkpoint.pth\n",
      "\tEpoch 405: EarlyStopping counter for 'test_cosine_auc': 27/50\n",
      "\tEpoch 405: EarlyStopping counter for 'test_cosine_accuracy': 188/50\n",
      "\tEpoch 405: EarlyStopping counter for 'test_euclidean_auc': 123/50\n",
      "\tEpoch 405: EarlyStopping counter for 'test_euclidean_accuracy': 151/50\n"
     ]
    },
    {
     "name": "stderr",
     "output_type": "stream",
     "text": [
      "/usr/lib/python3.10/multiprocessing/popen_fork.py:66: RuntimeWarning: os.fork() was called. os.fork() is incompatible with multithreaded code, and JAX is multithreaded, so this will likely lead to a deadlock.\n",
      "  self.pid = os.fork()\n",
      "/usr/lib/python3.10/multiprocessing/popen_fork.py:66: RuntimeWarning: os.fork() was called. os.fork() is incompatible with multithreaded code, and JAX is multithreaded, so this will likely lead to a deadlock.\n",
      "  self.pid = os.fork()\n"
     ]
    },
    {
     "name": "stdout",
     "output_type": "stream",
     "text": [
      "Epoch 406:\n",
      "\ttrain: loss 0.846 | loss id   0.82 | top_1_acc 0.9944 | top_5_acc 1.0000 | cos_auc: 1.0000 | cos_acc: 0.9987 | eu_auc: 0.9992 | eu_acc: 0.9882\n",
      "\ttest: cos_auc: 0.8669 | cos_acc: 0.7645 | eu_auc: 0.8125 | eu_acc: 0.8595\n",
      "\tSaving model and optimizer state to /kaggle/working/checkpoint/magface/normalmap/models/checkpoint.pth\n",
      "\tEpoch 406: EarlyStopping counter for 'test_cosine_auc': 28/50\n",
      "\tEpoch 406: EarlyStopping counter for 'test_cosine_accuracy': 189/50\n",
      "\tEpoch 406: EarlyStopping counter for 'test_euclidean_auc': 124/50\n",
      "\tEpoch 406: EarlyStopping counter for 'test_euclidean_accuracy': 152/50\n"
     ]
    },
    {
     "name": "stderr",
     "output_type": "stream",
     "text": [
      "/usr/lib/python3.10/multiprocessing/popen_fork.py:66: RuntimeWarning: os.fork() was called. os.fork() is incompatible with multithreaded code, and JAX is multithreaded, so this will likely lead to a deadlock.\n",
      "  self.pid = os.fork()\n",
      "/usr/lib/python3.10/multiprocessing/popen_fork.py:66: RuntimeWarning: os.fork() was called. os.fork() is incompatible with multithreaded code, and JAX is multithreaded, so this will likely lead to a deadlock.\n",
      "  self.pid = os.fork()\n"
     ]
    },
    {
     "name": "stdout",
     "output_type": "stream",
     "text": [
      "Epoch 407:\n",
      "\ttrain: loss 0.817 | loss id   0.79 | top_1_acc 0.9944 | top_5_acc 1.0000 | cos_auc: 1.0000 | cos_acc: 0.9972 | eu_auc: 0.9990 | eu_acc: 0.9791\n",
      "\ttest: cos_auc: 0.8844 | cos_acc: 0.7782 | eu_auc: 0.8236 | eu_acc: 0.7752\n",
      "\tSaving model and optimizer state to /kaggle/working/checkpoint/magface/normalmap/models/checkpoint.pth\n",
      "\tSaved best model weights for 'test_cosine_auc' at epoch 407 to '/kaggle/working/checkpoint/magface/normalmap/models/best_test_cosine_auc_407.pth'\n",
      "\tEpoch 407: EarlyStopping counter for 'test_cosine_accuracy': 190/50\n",
      "\tEpoch 407: EarlyStopping counter for 'test_euclidean_auc': 125/50\n",
      "\tEpoch 407: EarlyStopping counter for 'test_euclidean_accuracy': 153/50\n"
     ]
    },
    {
     "name": "stderr",
     "output_type": "stream",
     "text": [
      "/usr/lib/python3.10/multiprocessing/popen_fork.py:66: RuntimeWarning: os.fork() was called. os.fork() is incompatible with multithreaded code, and JAX is multithreaded, so this will likely lead to a deadlock.\n",
      "  self.pid = os.fork()\n",
      "/usr/lib/python3.10/multiprocessing/popen_fork.py:66: RuntimeWarning: os.fork() was called. os.fork() is incompatible with multithreaded code, and JAX is multithreaded, so this will likely lead to a deadlock.\n",
      "  self.pid = os.fork()\n"
     ]
    },
    {
     "name": "stdout",
     "output_type": "stream",
     "text": [
      "Epoch 408:\n",
      "\ttrain: loss 0.762 | loss id   0.74 | top_1_acc 0.9955 | top_5_acc 1.0000 | cos_auc: 1.0000 | cos_acc: 0.9983 | eu_auc: 0.9992 | eu_acc: 0.9892\n",
      "\ttest: cos_auc: 0.8574 | cos_acc: 0.8733 | eu_auc: 0.7998 | eu_acc: 0.7977\n",
      "\tSaving model and optimizer state to /kaggle/working/checkpoint/magface/normalmap/models/checkpoint.pth\n",
      "\tEpoch 408: EarlyStopping counter for 'test_cosine_auc': 1/50\n",
      "\tEpoch 408: EarlyStopping counter for 'test_cosine_accuracy': 191/50\n",
      "\tEpoch 408: EarlyStopping counter for 'test_euclidean_auc': 126/50\n",
      "\tEpoch 408: EarlyStopping counter for 'test_euclidean_accuracy': 154/50\n"
     ]
    },
    {
     "name": "stderr",
     "output_type": "stream",
     "text": [
      "/usr/lib/python3.10/multiprocessing/popen_fork.py:66: RuntimeWarning: os.fork() was called. os.fork() is incompatible with multithreaded code, and JAX is multithreaded, so this will likely lead to a deadlock.\n",
      "  self.pid = os.fork()\n",
      "/usr/lib/python3.10/multiprocessing/popen_fork.py:66: RuntimeWarning: os.fork() was called. os.fork() is incompatible with multithreaded code, and JAX is multithreaded, so this will likely lead to a deadlock.\n",
      "  self.pid = os.fork()\n"
     ]
    },
    {
     "name": "stdout",
     "output_type": "stream",
     "text": [
      "Epoch 409:\n",
      "\ttrain: loss 0.713 | loss id   0.69 | top_1_acc 0.9955 | top_5_acc 0.9989 | cos_auc: 0.9995 | cos_acc: 0.9956 | eu_auc: 0.9989 | eu_acc: 0.9905\n",
      "\ttest: cos_auc: 0.8466 | cos_acc: 0.8354 | eu_auc: 0.8025 | eu_acc: 0.8573\n",
      "\tSaving model and optimizer state to /kaggle/working/checkpoint/magface/normalmap/models/checkpoint.pth\n",
      "\tEpoch 409: EarlyStopping counter for 'test_cosine_auc': 2/50\n",
      "\tEpoch 409: EarlyStopping counter for 'test_cosine_accuracy': 192/50\n",
      "\tEpoch 409: EarlyStopping counter for 'test_euclidean_auc': 127/50\n",
      "\tEpoch 409: EarlyStopping counter for 'test_euclidean_accuracy': 155/50\n"
     ]
    },
    {
     "name": "stderr",
     "output_type": "stream",
     "text": [
      "/usr/lib/python3.10/multiprocessing/popen_fork.py:66: RuntimeWarning: os.fork() was called. os.fork() is incompatible with multithreaded code, and JAX is multithreaded, so this will likely lead to a deadlock.\n",
      "  self.pid = os.fork()\n",
      "/usr/lib/python3.10/multiprocessing/popen_fork.py:66: RuntimeWarning: os.fork() was called. os.fork() is incompatible with multithreaded code, and JAX is multithreaded, so this will likely lead to a deadlock.\n",
      "  self.pid = os.fork()\n",
      "/usr/lib/python3.10/multiprocessing/popen_fork.py:66: RuntimeWarning: os.fork() was called. os.fork() is incompatible with multithreaded code, and JAX is multithreaded, so this will likely lead to a deadlock.\n",
      "  self.pid = os.fork()\n"
     ]
    },
    {
     "name": "stdout",
     "output_type": "stream",
     "text": [
      "Epoch 410:\n",
      "\ttrain: loss 0.735 | loss id   0.71 | top_1_acc 0.9966 | top_5_acc 1.0000 | cos_auc: 1.0000 | cos_acc: 0.9995 | eu_auc: 0.9977 | eu_acc: 0.9921\n",
      "\ttest: cos_auc: 0.8687 | cos_acc: 0.8017 | eu_auc: 0.8170 | eu_acc: 0.7892\n",
      "\tSaving model and optimizer state to /kaggle/working/checkpoint/magface/normalmap/models/checkpoint.pth\n",
      "\tEpoch 410: EarlyStopping counter for 'test_cosine_auc': 3/50\n",
      "\tEpoch 410: EarlyStopping counter for 'test_cosine_accuracy': 193/50\n",
      "\tEpoch 410: EarlyStopping counter for 'test_euclidean_auc': 128/50\n",
      "\tEpoch 410: EarlyStopping counter for 'test_euclidean_accuracy': 156/50\n"
     ]
    },
    {
     "name": "stderr",
     "output_type": "stream",
     "text": [
      "/usr/lib/python3.10/multiprocessing/popen_fork.py:66: RuntimeWarning: os.fork() was called. os.fork() is incompatible with multithreaded code, and JAX is multithreaded, so this will likely lead to a deadlock.\n",
      "  self.pid = os.fork()\n",
      "/usr/lib/python3.10/multiprocessing/popen_fork.py:66: RuntimeWarning: os.fork() was called. os.fork() is incompatible with multithreaded code, and JAX is multithreaded, so this will likely lead to a deadlock.\n",
      "  self.pid = os.fork()\n"
     ]
    },
    {
     "name": "stdout",
     "output_type": "stream",
     "text": [
      "Epoch 411:\n",
      "\ttrain: loss 0.696 | loss id   0.67 | top_1_acc 0.9978 | top_5_acc 1.0000 | cos_auc: 1.0000 | cos_acc: 0.9990 | eu_auc: 0.9986 | eu_acc: 0.9897\n",
      "\ttest: cos_auc: 0.8353 | cos_acc: 0.7846 | eu_auc: 0.8052 | eu_acc: 0.6363\n",
      "\tSaving model and optimizer state to /kaggle/working/checkpoint/magface/normalmap/models/checkpoint.pth\n",
      "\tEpoch 411: EarlyStopping counter for 'test_cosine_auc': 4/50\n",
      "\tEpoch 411: EarlyStopping counter for 'test_cosine_accuracy': 194/50\n",
      "\tEpoch 411: EarlyStopping counter for 'test_euclidean_auc': 129/50\n",
      "\tEpoch 411: EarlyStopping counter for 'test_euclidean_accuracy': 157/50\n"
     ]
    },
    {
     "name": "stderr",
     "output_type": "stream",
     "text": [
      "/usr/lib/python3.10/multiprocessing/popen_fork.py:66: RuntimeWarning: os.fork() was called. os.fork() is incompatible with multithreaded code, and JAX is multithreaded, so this will likely lead to a deadlock.\n",
      "  self.pid = os.fork()\n",
      "/usr/lib/python3.10/multiprocessing/popen_fork.py:66: RuntimeWarning: os.fork() was called. os.fork() is incompatible with multithreaded code, and JAX is multithreaded, so this will likely lead to a deadlock.\n",
      "  self.pid = os.fork()\n"
     ]
    },
    {
     "name": "stdout",
     "output_type": "stream",
     "text": [
      "Epoch 412:\n",
      "\ttrain: loss 0.678 | loss id   0.65 | top_1_acc 0.9966 | top_5_acc 0.9989 | cos_auc: 1.0000 | cos_acc: 0.9991 | eu_auc: 0.9996 | eu_acc: 0.9909\n",
      "\ttest: cos_auc: 0.8692 | cos_acc: 0.7572 | eu_auc: 0.8228 | eu_acc: 0.8824\n",
      "\tSaving model and optimizer state to /kaggle/working/checkpoint/magface/normalmap/models/checkpoint.pth\n",
      "\tEpoch 412: EarlyStopping counter for 'test_cosine_auc': 5/50\n",
      "\tEpoch 412: EarlyStopping counter for 'test_cosine_accuracy': 195/50\n",
      "\tEpoch 412: EarlyStopping counter for 'test_euclidean_auc': 130/50\n",
      "\tEpoch 412: EarlyStopping counter for 'test_euclidean_accuracy': 158/50\n"
     ]
    },
    {
     "name": "stderr",
     "output_type": "stream",
     "text": [
      "/usr/lib/python3.10/multiprocessing/popen_fork.py:66: RuntimeWarning: os.fork() was called. os.fork() is incompatible with multithreaded code, and JAX is multithreaded, so this will likely lead to a deadlock.\n",
      "  self.pid = os.fork()\n",
      "/usr/lib/python3.10/multiprocessing/popen_fork.py:66: RuntimeWarning: os.fork() was called. os.fork() is incompatible with multithreaded code, and JAX is multithreaded, so this will likely lead to a deadlock.\n",
      "  self.pid = os.fork()\n"
     ]
    },
    {
     "name": "stdout",
     "output_type": "stream",
     "text": [
      "Epoch 413:\n",
      "\ttrain: loss 0.644 | loss id   0.62 | top_1_acc 0.9978 | top_5_acc 0.9989 | cos_auc: 1.0000 | cos_acc: 0.9992 | eu_auc: 0.9995 | eu_acc: 0.9948\n",
      "\ttest: cos_auc: 0.8498 | cos_acc: 0.7905 | eu_auc: 0.8211 | eu_acc: 0.7794\n",
      "\tSaving model and optimizer state to /kaggle/working/checkpoint/magface/normalmap/models/checkpoint.pth\n",
      "\tEpoch 413: EarlyStopping counter for 'test_cosine_auc': 6/50\n",
      "\tEpoch 413: EarlyStopping counter for 'test_cosine_accuracy': 196/50\n",
      "\tEpoch 413: EarlyStopping counter for 'test_euclidean_auc': 131/50\n",
      "\tEpoch 413: EarlyStopping counter for 'test_euclidean_accuracy': 159/50\n"
     ]
    },
    {
     "name": "stderr",
     "output_type": "stream",
     "text": [
      "/usr/lib/python3.10/multiprocessing/popen_fork.py:66: RuntimeWarning: os.fork() was called. os.fork() is incompatible with multithreaded code, and JAX is multithreaded, so this will likely lead to a deadlock.\n",
      "  self.pid = os.fork()\n",
      "/usr/lib/python3.10/multiprocessing/popen_fork.py:66: RuntimeWarning: os.fork() was called. os.fork() is incompatible with multithreaded code, and JAX is multithreaded, so this will likely lead to a deadlock.\n",
      "  self.pid = os.fork()\n"
     ]
    },
    {
     "name": "stdout",
     "output_type": "stream",
     "text": [
      "Epoch 414:\n",
      "\ttrain: loss 0.629 | loss id   0.61 | top_1_acc 0.9955 | top_5_acc 1.0000 | cos_auc: 1.0000 | cos_acc: 0.9997 | eu_auc: 0.9995 | eu_acc: 0.9923\n",
      "\ttest: cos_auc: 0.8645 | cos_acc: 0.8205 | eu_auc: 0.8255 | eu_acc: 0.7501\n",
      "\tSaving model and optimizer state to /kaggle/working/checkpoint/magface/normalmap/models/checkpoint.pth\n",
      "\tEpoch 414: EarlyStopping counter for 'test_cosine_auc': 7/50\n",
      "\tEpoch 414: EarlyStopping counter for 'test_cosine_accuracy': 197/50\n",
      "\tEpoch 414: EarlyStopping counter for 'test_euclidean_auc': 132/50\n",
      "\tEpoch 414: EarlyStopping counter for 'test_euclidean_accuracy': 160/50\n"
     ]
    },
    {
     "name": "stderr",
     "output_type": "stream",
     "text": [
      "/usr/lib/python3.10/multiprocessing/popen_fork.py:66: RuntimeWarning: os.fork() was called. os.fork() is incompatible with multithreaded code, and JAX is multithreaded, so this will likely lead to a deadlock.\n",
      "  self.pid = os.fork()\n",
      "/usr/lib/python3.10/multiprocessing/popen_fork.py:66: RuntimeWarning: os.fork() was called. os.fork() is incompatible with multithreaded code, and JAX is multithreaded, so this will likely lead to a deadlock.\n",
      "  self.pid = os.fork()\n"
     ]
    },
    {
     "name": "stdout",
     "output_type": "stream",
     "text": [
      "Epoch 415:\n",
      "\ttrain: loss 0.605 | loss id   0.58 | top_1_acc 1.0000 | top_5_acc 1.0000 | cos_auc: 1.0000 | cos_acc: 0.9992 | eu_auc: 0.9995 | eu_acc: 0.9955\n",
      "\ttest: cos_auc: 0.8423 | cos_acc: 0.7625 | eu_auc: 0.8146 | eu_acc: 0.7894\n",
      "\tSaving model and optimizer state to /kaggle/working/checkpoint/magface/normalmap/models/checkpoint.pth\n",
      "\tEpoch 415: EarlyStopping counter for 'test_cosine_auc': 8/50\n",
      "\tEpoch 415: EarlyStopping counter for 'test_cosine_accuracy': 198/50\n",
      "\tEpoch 415: EarlyStopping counter for 'test_euclidean_auc': 133/50\n",
      "\tEpoch 415: EarlyStopping counter for 'test_euclidean_accuracy': 161/50\n"
     ]
    },
    {
     "name": "stderr",
     "output_type": "stream",
     "text": [
      "/usr/lib/python3.10/multiprocessing/popen_fork.py:66: RuntimeWarning: os.fork() was called. os.fork() is incompatible with multithreaded code, and JAX is multithreaded, so this will likely lead to a deadlock.\n",
      "  self.pid = os.fork()\n",
      "/usr/lib/python3.10/multiprocessing/popen_fork.py:66: RuntimeWarning: os.fork() was called. os.fork() is incompatible with multithreaded code, and JAX is multithreaded, so this will likely lead to a deadlock.\n",
      "  self.pid = os.fork()\n"
     ]
    },
    {
     "name": "stdout",
     "output_type": "stream",
     "text": [
      "Epoch 416:\n",
      "\ttrain: loss 0.581 | loss id   0.56 | top_1_acc 0.9978 | top_5_acc 1.0000 | cos_auc: 1.0000 | cos_acc: 0.9999 | eu_auc: 0.9997 | eu_acc: 0.9953\n",
      "\ttest: cos_auc: 0.8693 | cos_acc: 0.7666 | eu_auc: 0.8072 | eu_acc: 0.7790\n",
      "\tSaving model and optimizer state to /kaggle/working/checkpoint/magface/normalmap/models/checkpoint.pth\n",
      "\tEpoch 416: EarlyStopping counter for 'test_cosine_auc': 9/50\n",
      "\tEpoch 416: EarlyStopping counter for 'test_cosine_accuracy': 199/50\n",
      "\tEpoch 416: EarlyStopping counter for 'test_euclidean_auc': 134/50\n",
      "\tEpoch 416: EarlyStopping counter for 'test_euclidean_accuracy': 162/50\n"
     ]
    },
    {
     "name": "stderr",
     "output_type": "stream",
     "text": [
      "/usr/lib/python3.10/multiprocessing/popen_fork.py:66: RuntimeWarning: os.fork() was called. os.fork() is incompatible with multithreaded code, and JAX is multithreaded, so this will likely lead to a deadlock.\n",
      "  self.pid = os.fork()\n",
      "/usr/lib/python3.10/multiprocessing/popen_fork.py:66: RuntimeWarning: os.fork() was called. os.fork() is incompatible with multithreaded code, and JAX is multithreaded, so this will likely lead to a deadlock.\n",
      "  self.pid = os.fork()\n"
     ]
    },
    {
     "name": "stdout",
     "output_type": "stream",
     "text": [
      "Epoch 417:\n",
      "\ttrain: loss 0.523 | loss id   0.50 | top_1_acc 0.9989 | top_5_acc 1.0000 | cos_auc: 1.0000 | cos_acc: 0.9999 | eu_auc: 0.9997 | eu_acc: 0.9938\n",
      "\ttest: cos_auc: 0.8710 | cos_acc: 0.7725 | eu_auc: 0.8134 | eu_acc: 0.8085\n",
      "\tSaving model and optimizer state to /kaggle/working/checkpoint/magface/normalmap/models/checkpoint.pth\n",
      "\tEpoch 417: EarlyStopping counter for 'test_cosine_auc': 10/50\n",
      "\tEpoch 417: EarlyStopping counter for 'test_cosine_accuracy': 200/50\n",
      "\tEpoch 417: EarlyStopping counter for 'test_euclidean_auc': 135/50\n",
      "\tEpoch 417: EarlyStopping counter for 'test_euclidean_accuracy': 163/50\n"
     ]
    },
    {
     "name": "stderr",
     "output_type": "stream",
     "text": [
      "/usr/lib/python3.10/multiprocessing/popen_fork.py:66: RuntimeWarning: os.fork() was called. os.fork() is incompatible with multithreaded code, and JAX is multithreaded, so this will likely lead to a deadlock.\n",
      "  self.pid = os.fork()\n",
      "/usr/lib/python3.10/multiprocessing/popen_fork.py:66: RuntimeWarning: os.fork() was called. os.fork() is incompatible with multithreaded code, and JAX is multithreaded, so this will likely lead to a deadlock.\n",
      "  self.pid = os.fork()\n"
     ]
    },
    {
     "name": "stdout",
     "output_type": "stream",
     "text": [
      "Epoch 418:\n",
      "\ttrain: loss 0.488 | loss id   0.46 | top_1_acc 0.9989 | top_5_acc 1.0000 | cos_auc: 1.0000 | cos_acc: 0.9996 | eu_auc: 0.9996 | eu_acc: 0.9964\n",
      "\ttest: cos_auc: 0.8720 | cos_acc: 0.8243 | eu_auc: 0.8314 | eu_acc: 0.8042\n",
      "\tSaving model and optimizer state to /kaggle/working/checkpoint/magface/normalmap/models/checkpoint.pth\n",
      "\tEpoch 418: EarlyStopping counter for 'test_cosine_auc': 11/50\n",
      "\tEpoch 418: EarlyStopping counter for 'test_cosine_accuracy': 201/50\n",
      "\tEpoch 418: EarlyStopping counter for 'test_euclidean_auc': 136/50\n",
      "\tEpoch 418: EarlyStopping counter for 'test_euclidean_accuracy': 164/50\n"
     ]
    },
    {
     "name": "stderr",
     "output_type": "stream",
     "text": [
      "/usr/lib/python3.10/multiprocessing/popen_fork.py:66: RuntimeWarning: os.fork() was called. os.fork() is incompatible with multithreaded code, and JAX is multithreaded, so this will likely lead to a deadlock.\n",
      "  self.pid = os.fork()\n",
      "/usr/lib/python3.10/multiprocessing/popen_fork.py:66: RuntimeWarning: os.fork() was called. os.fork() is incompatible with multithreaded code, and JAX is multithreaded, so this will likely lead to a deadlock.\n",
      "  self.pid = os.fork()\n"
     ]
    },
    {
     "name": "stdout",
     "output_type": "stream",
     "text": [
      "Epoch 419:\n",
      "\ttrain: loss 0.523 | loss id   0.50 | top_1_acc 0.9989 | top_5_acc 1.0000 | cos_auc: 1.0000 | cos_acc: 1.0000 | eu_auc: 0.9995 | eu_acc: 0.9957\n",
      "\ttest: cos_auc: 0.8556 | cos_acc: 0.8980 | eu_auc: 0.8073 | eu_acc: 0.8514\n",
      "\tSaving model and optimizer state to /kaggle/working/checkpoint/magface/normalmap/models/checkpoint.pth\n",
      "\tEpoch 419: EarlyStopping counter for 'test_cosine_auc': 12/50\n",
      "\tEpoch 419: EarlyStopping counter for 'test_cosine_accuracy': 202/50\n",
      "\tEpoch 419: EarlyStopping counter for 'test_euclidean_auc': 137/50\n",
      "\tEpoch 419: EarlyStopping counter for 'test_euclidean_accuracy': 165/50\n"
     ]
    },
    {
     "name": "stderr",
     "output_type": "stream",
     "text": [
      "/usr/lib/python3.10/multiprocessing/popen_fork.py:66: RuntimeWarning: os.fork() was called. os.fork() is incompatible with multithreaded code, and JAX is multithreaded, so this will likely lead to a deadlock.\n",
      "  self.pid = os.fork()\n",
      "/usr/lib/python3.10/multiprocessing/popen_fork.py:66: RuntimeWarning: os.fork() was called. os.fork() is incompatible with multithreaded code, and JAX is multithreaded, so this will likely lead to a deadlock.\n",
      "  self.pid = os.fork()\n"
     ]
    },
    {
     "name": "stdout",
     "output_type": "stream",
     "text": [
      "Epoch 420:\n",
      "\ttrain: loss 0.488 | loss id   0.46 | top_1_acc 1.0000 | top_5_acc 1.0000 | cos_auc: 1.0000 | cos_acc: 1.0000 | eu_auc: 0.9998 | eu_acc: 0.9948\n",
      "\ttest: cos_auc: 0.8758 | cos_acc: 0.8515 | eu_auc: 0.8318 | eu_acc: 0.8349\n",
      "\tSaving model and optimizer state to /kaggle/working/checkpoint/magface/normalmap/models/checkpoint.pth\n",
      "\tEpoch 420: EarlyStopping counter for 'test_cosine_auc': 13/50\n",
      "\tEpoch 420: EarlyStopping counter for 'test_cosine_accuracy': 203/50\n",
      "\tEpoch 420: EarlyStopping counter for 'test_euclidean_auc': 138/50\n",
      "\tEpoch 420: EarlyStopping counter for 'test_euclidean_accuracy': 166/50\n"
     ]
    },
    {
     "name": "stderr",
     "output_type": "stream",
     "text": [
      "/usr/lib/python3.10/multiprocessing/popen_fork.py:66: RuntimeWarning: os.fork() was called. os.fork() is incompatible with multithreaded code, and JAX is multithreaded, so this will likely lead to a deadlock.\n",
      "  self.pid = os.fork()\n",
      "/usr/lib/python3.10/multiprocessing/popen_fork.py:66: RuntimeWarning: os.fork() was called. os.fork() is incompatible with multithreaded code, and JAX is multithreaded, so this will likely lead to a deadlock.\n",
      "  self.pid = os.fork()\n"
     ]
    },
    {
     "name": "stdout",
     "output_type": "stream",
     "text": [
      "Epoch 421:\n",
      "\ttrain: loss 0.429 | loss id   0.41 | top_1_acc 1.0000 | top_5_acc 1.0000 | cos_auc: 1.0000 | cos_acc: 1.0000 | eu_auc: 0.9998 | eu_acc: 0.9943\n",
      "\ttest: cos_auc: 0.8785 | cos_acc: 0.8123 | eu_auc: 0.8215 | eu_acc: 0.7865\n",
      "\tSaving model and optimizer state to /kaggle/working/checkpoint/magface/normalmap/models/checkpoint.pth\n",
      "\tEpoch 421: EarlyStopping counter for 'test_cosine_auc': 14/50\n",
      "\tEpoch 421: EarlyStopping counter for 'test_cosine_accuracy': 204/50\n",
      "\tEpoch 421: EarlyStopping counter for 'test_euclidean_auc': 139/50\n",
      "\tEpoch 421: EarlyStopping counter for 'test_euclidean_accuracy': 167/50\n"
     ]
    },
    {
     "name": "stderr",
     "output_type": "stream",
     "text": [
      "/usr/lib/python3.10/multiprocessing/popen_fork.py:66: RuntimeWarning: os.fork() was called. os.fork() is incompatible with multithreaded code, and JAX is multithreaded, so this will likely lead to a deadlock.\n",
      "  self.pid = os.fork()\n",
      "/usr/lib/python3.10/multiprocessing/popen_fork.py:66: RuntimeWarning: os.fork() was called. os.fork() is incompatible with multithreaded code, and JAX is multithreaded, so this will likely lead to a deadlock.\n",
      "  self.pid = os.fork()\n"
     ]
    },
    {
     "name": "stdout",
     "output_type": "stream",
     "text": [
      "Epoch 422:\n",
      "\ttrain: loss 0.438 | loss id   0.41 | top_1_acc 1.0000 | top_5_acc 1.0000 | cos_auc: 1.0000 | cos_acc: 0.9994 | eu_auc: 0.9998 | eu_acc: 0.9975\n",
      "\ttest: cos_auc: 0.8747 | cos_acc: 0.8800 | eu_auc: 0.8186 | eu_acc: 0.7758\n",
      "\tSaving model and optimizer state to /kaggle/working/checkpoint/magface/normalmap/models/checkpoint.pth\n",
      "\tEpoch 422: EarlyStopping counter for 'test_cosine_auc': 15/50\n",
      "\tEpoch 422: EarlyStopping counter for 'test_cosine_accuracy': 205/50\n",
      "\tEpoch 422: EarlyStopping counter for 'test_euclidean_auc': 140/50\n",
      "\tEpoch 422: EarlyStopping counter for 'test_euclidean_accuracy': 168/50\n"
     ]
    },
    {
     "name": "stderr",
     "output_type": "stream",
     "text": [
      "/usr/lib/python3.10/multiprocessing/popen_fork.py:66: RuntimeWarning: os.fork() was called. os.fork() is incompatible with multithreaded code, and JAX is multithreaded, so this will likely lead to a deadlock.\n",
      "  self.pid = os.fork()\n",
      "/usr/lib/python3.10/multiprocessing/popen_fork.py:66: RuntimeWarning: os.fork() was called. os.fork() is incompatible with multithreaded code, and JAX is multithreaded, so this will likely lead to a deadlock.\n",
      "  self.pid = os.fork()\n"
     ]
    },
    {
     "name": "stdout",
     "output_type": "stream",
     "text": [
      "Epoch 423:\n",
      "\ttrain: loss 0.408 | loss id   0.38 | top_1_acc 1.0000 | top_5_acc 1.0000 | cos_auc: 1.0000 | cos_acc: 1.0000 | eu_auc: 0.9999 | eu_acc: 0.9960\n",
      "\ttest: cos_auc: 0.8503 | cos_acc: 0.8699 | eu_auc: 0.8183 | eu_acc: 0.7180\n",
      "\tSaving model and optimizer state to /kaggle/working/checkpoint/magface/normalmap/models/checkpoint.pth\n",
      "\tEpoch 423: EarlyStopping counter for 'test_cosine_auc': 16/50\n",
      "\tEpoch 423: EarlyStopping counter for 'test_cosine_accuracy': 206/50\n",
      "\tEpoch 423: EarlyStopping counter for 'test_euclidean_auc': 141/50\n",
      "\tEpoch 423: EarlyStopping counter for 'test_euclidean_accuracy': 169/50\n"
     ]
    },
    {
     "name": "stderr",
     "output_type": "stream",
     "text": [
      "/usr/lib/python3.10/multiprocessing/popen_fork.py:66: RuntimeWarning: os.fork() was called. os.fork() is incompatible with multithreaded code, and JAX is multithreaded, so this will likely lead to a deadlock.\n",
      "  self.pid = os.fork()\n",
      "/usr/lib/python3.10/multiprocessing/popen_fork.py:66: RuntimeWarning: os.fork() was called. os.fork() is incompatible with multithreaded code, and JAX is multithreaded, so this will likely lead to a deadlock.\n",
      "  self.pid = os.fork()\n"
     ]
    },
    {
     "name": "stdout",
     "output_type": "stream",
     "text": [
      "Epoch 424:\n",
      "\ttrain: loss 0.388 | loss id   0.37 | top_1_acc 1.0000 | top_5_acc 1.0000 | cos_auc: 1.0000 | cos_acc: 1.0000 | eu_auc: 0.9994 | eu_acc: 0.9974\n",
      "\ttest: cos_auc: 0.8664 | cos_acc: 0.7385 | eu_auc: 0.8239 | eu_acc: 0.8585\n",
      "\tSaving model and optimizer state to /kaggle/working/checkpoint/magface/normalmap/models/checkpoint.pth\n",
      "\tEpoch 424: EarlyStopping counter for 'test_cosine_auc': 17/50\n",
      "\tEpoch 424: EarlyStopping counter for 'test_cosine_accuracy': 207/50\n",
      "\tEpoch 424: EarlyStopping counter for 'test_euclidean_auc': 142/50\n",
      "\tEpoch 424: EarlyStopping counter for 'test_euclidean_accuracy': 170/50\n"
     ]
    },
    {
     "name": "stderr",
     "output_type": "stream",
     "text": [
      "/usr/lib/python3.10/multiprocessing/popen_fork.py:66: RuntimeWarning: os.fork() was called. os.fork() is incompatible with multithreaded code, and JAX is multithreaded, so this will likely lead to a deadlock.\n",
      "  self.pid = os.fork()\n",
      "/usr/lib/python3.10/multiprocessing/popen_fork.py:66: RuntimeWarning: os.fork() was called. os.fork() is incompatible with multithreaded code, and JAX is multithreaded, so this will likely lead to a deadlock.\n",
      "  self.pid = os.fork()\n"
     ]
    },
    {
     "name": "stdout",
     "output_type": "stream",
     "text": [
      "Epoch 425:\n",
      "\ttrain: loss 0.387 | loss id   0.36 | top_1_acc 1.0000 | top_5_acc 1.0000 | cos_auc: 1.0000 | cos_acc: 1.0000 | eu_auc: 0.9998 | eu_acc: 0.9975\n",
      "\ttest: cos_auc: 0.8585 | cos_acc: 0.8327 | eu_auc: 0.8227 | eu_acc: 0.7513\n",
      "\tSaving model and optimizer state to /kaggle/working/checkpoint/magface/normalmap/models/checkpoint.pth\n",
      "\tEpoch 425: EarlyStopping counter for 'test_cosine_auc': 18/50\n",
      "\tEpoch 425: EarlyStopping counter for 'test_cosine_accuracy': 208/50\n",
      "\tEpoch 425: EarlyStopping counter for 'test_euclidean_auc': 143/50\n",
      "\tEpoch 425: EarlyStopping counter for 'test_euclidean_accuracy': 171/50\n"
     ]
    },
    {
     "name": "stderr",
     "output_type": "stream",
     "text": [
      "/usr/lib/python3.10/multiprocessing/popen_fork.py:66: RuntimeWarning: os.fork() was called. os.fork() is incompatible with multithreaded code, and JAX is multithreaded, so this will likely lead to a deadlock.\n",
      "  self.pid = os.fork()\n",
      "/usr/lib/python3.10/multiprocessing/popen_fork.py:66: RuntimeWarning: os.fork() was called. os.fork() is incompatible with multithreaded code, and JAX is multithreaded, so this will likely lead to a deadlock.\n",
      "  self.pid = os.fork()\n",
      "/usr/lib/python3.10/multiprocessing/popen_fork.py:66: RuntimeWarning: os.fork() was called. os.fork() is incompatible with multithreaded code, and JAX is multithreaded, so this will likely lead to a deadlock.\n",
      "  self.pid = os.fork()\n"
     ]
    },
    {
     "name": "stdout",
     "output_type": "stream",
     "text": [
      "Epoch 426:\n",
      "\ttrain: loss 0.378 | loss id   0.36 | top_1_acc 1.0000 | top_5_acc 1.0000 | cos_auc: 1.0000 | cos_acc: 0.9993 | eu_auc: 0.9999 | eu_acc: 0.9973\n",
      "\ttest: cos_auc: 0.8570 | cos_acc: 0.7962 | eu_auc: 0.8157 | eu_acc: 0.8215\n",
      "\tSaving model and optimizer state to /kaggle/working/checkpoint/magface/normalmap/models/checkpoint.pth\n",
      "\tEpoch 426: EarlyStopping counter for 'test_cosine_auc': 19/50\n",
      "\tEpoch 426: EarlyStopping counter for 'test_cosine_accuracy': 209/50\n",
      "\tEpoch 426: EarlyStopping counter for 'test_euclidean_auc': 144/50\n",
      "\tEpoch 426: EarlyStopping counter for 'test_euclidean_accuracy': 172/50\n"
     ]
    },
    {
     "name": "stderr",
     "output_type": "stream",
     "text": [
      "/usr/lib/python3.10/multiprocessing/popen_fork.py:66: RuntimeWarning: os.fork() was called. os.fork() is incompatible with multithreaded code, and JAX is multithreaded, so this will likely lead to a deadlock.\n",
      "  self.pid = os.fork()\n",
      "/usr/lib/python3.10/multiprocessing/popen_fork.py:66: RuntimeWarning: os.fork() was called. os.fork() is incompatible with multithreaded code, and JAX is multithreaded, so this will likely lead to a deadlock.\n",
      "  self.pid = os.fork()\n",
      "/usr/lib/python3.10/multiprocessing/popen_fork.py:66: RuntimeWarning: os.fork() was called. os.fork() is incompatible with multithreaded code, and JAX is multithreaded, so this will likely lead to a deadlock.\n",
      "  self.pid = os.fork()\n"
     ]
    },
    {
     "name": "stdout",
     "output_type": "stream",
     "text": [
      "Epoch 427:\n",
      "\ttrain: loss 0.340 | loss id   0.32 | top_1_acc 1.0000 | top_5_acc 1.0000 | cos_auc: 1.0000 | cos_acc: 1.0000 | eu_auc: 0.9997 | eu_acc: 0.9980\n",
      "\ttest: cos_auc: 0.8605 | cos_acc: 0.8787 | eu_auc: 0.8183 | eu_acc: 0.8125\n",
      "\tSaving model and optimizer state to /kaggle/working/checkpoint/magface/normalmap/models/checkpoint.pth\n",
      "\tEpoch 427: EarlyStopping counter for 'test_cosine_auc': 20/50\n",
      "\tEpoch 427: EarlyStopping counter for 'test_cosine_accuracy': 210/50\n",
      "\tEpoch 427: EarlyStopping counter for 'test_euclidean_auc': 145/50\n",
      "\tEpoch 427: EarlyStopping counter for 'test_euclidean_accuracy': 173/50\n"
     ]
    },
    {
     "name": "stderr",
     "output_type": "stream",
     "text": [
      "/usr/lib/python3.10/multiprocessing/popen_fork.py:66: RuntimeWarning: os.fork() was called. os.fork() is incompatible with multithreaded code, and JAX is multithreaded, so this will likely lead to a deadlock.\n",
      "  self.pid = os.fork()\n",
      "/usr/lib/python3.10/multiprocessing/popen_fork.py:66: RuntimeWarning: os.fork() was called. os.fork() is incompatible with multithreaded code, and JAX is multithreaded, so this will likely lead to a deadlock.\n",
      "  self.pid = os.fork()\n"
     ]
    },
    {
     "name": "stdout",
     "output_type": "stream",
     "text": [
      "Epoch 428:\n",
      "\ttrain: loss 0.319 | loss id   0.30 | top_1_acc 1.0000 | top_5_acc 1.0000 | cos_auc: 1.0000 | cos_acc: 1.0000 | eu_auc: 0.9997 | eu_acc: 0.9965\n",
      "\ttest: cos_auc: 0.8458 | cos_acc: 0.8742 | eu_auc: 0.8195 | eu_acc: 0.8391\n",
      "\tSaving model and optimizer state to /kaggle/working/checkpoint/magface/normalmap/models/checkpoint.pth\n",
      "\tEpoch 428: EarlyStopping counter for 'test_cosine_auc': 21/50\n",
      "\tEpoch 428: EarlyStopping counter for 'test_cosine_accuracy': 211/50\n",
      "\tEpoch 428: EarlyStopping counter for 'test_euclidean_auc': 146/50\n",
      "\tEpoch 428: EarlyStopping counter for 'test_euclidean_accuracy': 174/50\n"
     ]
    },
    {
     "name": "stderr",
     "output_type": "stream",
     "text": [
      "/usr/lib/python3.10/multiprocessing/popen_fork.py:66: RuntimeWarning: os.fork() was called. os.fork() is incompatible with multithreaded code, and JAX is multithreaded, so this will likely lead to a deadlock.\n",
      "  self.pid = os.fork()\n",
      "/usr/lib/python3.10/multiprocessing/popen_fork.py:66: RuntimeWarning: os.fork() was called. os.fork() is incompatible with multithreaded code, and JAX is multithreaded, so this will likely lead to a deadlock.\n",
      "  self.pid = os.fork()\n"
     ]
    },
    {
     "name": "stdout",
     "output_type": "stream",
     "text": [
      "Epoch 429:\n",
      "\ttrain: loss 0.303 | loss id   0.28 | top_1_acc 1.0000 | top_5_acc 1.0000 | cos_auc: 1.0000 | cos_acc: 0.9997 | eu_auc: 0.9991 | eu_acc: 0.9982\n",
      "\ttest: cos_auc: 0.8580 | cos_acc: 0.7514 | eu_auc: 0.8200 | eu_acc: 0.8214\n",
      "\tSaving model and optimizer state to /kaggle/working/checkpoint/magface/normalmap/models/checkpoint.pth\n",
      "\tEpoch 429: EarlyStopping counter for 'test_cosine_auc': 22/50\n",
      "\tEpoch 429: EarlyStopping counter for 'test_cosine_accuracy': 212/50\n",
      "\tEpoch 429: EarlyStopping counter for 'test_euclidean_auc': 147/50\n",
      "\tEpoch 429: EarlyStopping counter for 'test_euclidean_accuracy': 175/50\n"
     ]
    },
    {
     "name": "stderr",
     "output_type": "stream",
     "text": [
      "/usr/lib/python3.10/multiprocessing/popen_fork.py:66: RuntimeWarning: os.fork() was called. os.fork() is incompatible with multithreaded code, and JAX is multithreaded, so this will likely lead to a deadlock.\n",
      "  self.pid = os.fork()\n",
      "/usr/lib/python3.10/multiprocessing/popen_fork.py:66: RuntimeWarning: os.fork() was called. os.fork() is incompatible with multithreaded code, and JAX is multithreaded, so this will likely lead to a deadlock.\n",
      "  self.pid = os.fork()\n"
     ]
    },
    {
     "name": "stdout",
     "output_type": "stream",
     "text": [
      "Epoch 430:\n",
      "\ttrain: loss 0.295 | loss id   0.27 | top_1_acc 1.0000 | top_5_acc 1.0000 | cos_auc: 1.0000 | cos_acc: 1.0000 | eu_auc: 0.9999 | eu_acc: 0.9980\n",
      "\ttest: cos_auc: 0.8630 | cos_acc: 0.8105 | eu_auc: 0.8217 | eu_acc: 0.8050\n",
      "\tSaving model and optimizer state to /kaggle/working/checkpoint/magface/normalmap/models/checkpoint.pth\n",
      "\tEpoch 430: EarlyStopping counter for 'test_cosine_auc': 23/50\n",
      "\tEpoch 430: EarlyStopping counter for 'test_cosine_accuracy': 213/50\n",
      "\tEpoch 430: EarlyStopping counter for 'test_euclidean_auc': 148/50\n",
      "\tEpoch 430: EarlyStopping counter for 'test_euclidean_accuracy': 176/50\n"
     ]
    },
    {
     "name": "stderr",
     "output_type": "stream",
     "text": [
      "/usr/lib/python3.10/multiprocessing/popen_fork.py:66: RuntimeWarning: os.fork() was called. os.fork() is incompatible with multithreaded code, and JAX is multithreaded, so this will likely lead to a deadlock.\n",
      "  self.pid = os.fork()\n",
      "/usr/lib/python3.10/multiprocessing/popen_fork.py:66: RuntimeWarning: os.fork() was called. os.fork() is incompatible with multithreaded code, and JAX is multithreaded, so this will likely lead to a deadlock.\n",
      "  self.pid = os.fork()\n"
     ]
    },
    {
     "name": "stdout",
     "output_type": "stream",
     "text": [
      "Epoch 431:\n",
      "\ttrain: loss 0.302 | loss id   0.28 | top_1_acc 1.0000 | top_5_acc 1.0000 | cos_auc: 1.0000 | cos_acc: 1.0000 | eu_auc: 0.9998 | eu_acc: 0.9964\n",
      "\ttest: cos_auc: 0.8634 | cos_acc: 0.8402 | eu_auc: 0.8201 | eu_acc: 0.8303\n",
      "\tSaving model and optimizer state to /kaggle/working/checkpoint/magface/normalmap/models/checkpoint.pth\n",
      "\tEpoch 431: EarlyStopping counter for 'test_cosine_auc': 24/50\n",
      "\tEpoch 431: EarlyStopping counter for 'test_cosine_accuracy': 214/50\n",
      "\tEpoch 431: EarlyStopping counter for 'test_euclidean_auc': 149/50\n",
      "\tEpoch 431: EarlyStopping counter for 'test_euclidean_accuracy': 177/50\n"
     ]
    },
    {
     "name": "stderr",
     "output_type": "stream",
     "text": [
      "/usr/lib/python3.10/multiprocessing/popen_fork.py:66: RuntimeWarning: os.fork() was called. os.fork() is incompatible with multithreaded code, and JAX is multithreaded, so this will likely lead to a deadlock.\n",
      "  self.pid = os.fork()\n",
      "/usr/lib/python3.10/multiprocessing/popen_fork.py:66: RuntimeWarning: os.fork() was called. os.fork() is incompatible with multithreaded code, and JAX is multithreaded, so this will likely lead to a deadlock.\n",
      "  self.pid = os.fork()\n"
     ]
    },
    {
     "name": "stdout",
     "output_type": "stream",
     "text": [
      "Epoch 432:\n",
      "\ttrain: loss 0.277 | loss id   0.25 | top_1_acc 1.0000 | top_5_acc 1.0000 | cos_auc: 1.0000 | cos_acc: 1.0000 | eu_auc: 0.9999 | eu_acc: 0.9980\n",
      "\ttest: cos_auc: 0.8580 | cos_acc: 0.8595 | eu_auc: 0.8142 | eu_acc: 0.8191\n",
      "\tSaving model and optimizer state to /kaggle/working/checkpoint/magface/normalmap/models/checkpoint.pth\n",
      "\tEpoch 432: EarlyStopping counter for 'test_cosine_auc': 25/50\n",
      "\tEpoch 432: EarlyStopping counter for 'test_cosine_accuracy': 215/50\n",
      "\tEpoch 432: EarlyStopping counter for 'test_euclidean_auc': 150/50\n",
      "\tEpoch 432: EarlyStopping counter for 'test_euclidean_accuracy': 178/50\n"
     ]
    },
    {
     "name": "stderr",
     "output_type": "stream",
     "text": [
      "/usr/lib/python3.10/multiprocessing/popen_fork.py:66: RuntimeWarning: os.fork() was called. os.fork() is incompatible with multithreaded code, and JAX is multithreaded, so this will likely lead to a deadlock.\n",
      "  self.pid = os.fork()\n",
      "/usr/lib/python3.10/multiprocessing/popen_fork.py:66: RuntimeWarning: os.fork() was called. os.fork() is incompatible with multithreaded code, and JAX is multithreaded, so this will likely lead to a deadlock.\n",
      "  self.pid = os.fork()\n"
     ]
    },
    {
     "name": "stdout",
     "output_type": "stream",
     "text": [
      "Epoch 433:\n",
      "\ttrain: loss 0.229 | loss id   0.21 | top_1_acc 1.0000 | top_5_acc 1.0000 | cos_auc: 1.0000 | cos_acc: 1.0000 | eu_auc: 0.9998 | eu_acc: 0.9986\n",
      "\ttest: cos_auc: 0.8603 | cos_acc: 0.8735 | eu_auc: 0.8147 | eu_acc: 0.8357\n",
      "\tSaving model and optimizer state to /kaggle/working/checkpoint/magface/normalmap/models/checkpoint.pth\n",
      "\tEpoch 433: EarlyStopping counter for 'test_cosine_auc': 26/50\n",
      "\tEpoch 433: EarlyStopping counter for 'test_cosine_accuracy': 216/50\n",
      "\tEpoch 433: EarlyStopping counter for 'test_euclidean_auc': 151/50\n",
      "\tEpoch 433: EarlyStopping counter for 'test_euclidean_accuracy': 179/50\n"
     ]
    },
    {
     "name": "stderr",
     "output_type": "stream",
     "text": [
      "/usr/lib/python3.10/multiprocessing/popen_fork.py:66: RuntimeWarning: os.fork() was called. os.fork() is incompatible with multithreaded code, and JAX is multithreaded, so this will likely lead to a deadlock.\n",
      "  self.pid = os.fork()\n",
      "/usr/lib/python3.10/multiprocessing/popen_fork.py:66: RuntimeWarning: os.fork() was called. os.fork() is incompatible with multithreaded code, and JAX is multithreaded, so this will likely lead to a deadlock.\n",
      "  self.pid = os.fork()\n"
     ]
    },
    {
     "name": "stdout",
     "output_type": "stream",
     "text": [
      "Epoch 434:\n",
      "\ttrain: loss 0.276 | loss id   0.25 | top_1_acc 0.9989 | top_5_acc 1.0000 | cos_auc: 1.0000 | cos_acc: 1.0000 | eu_auc: 0.9999 | eu_acc: 0.9990\n",
      "\ttest: cos_auc: 0.8646 | cos_acc: 0.8513 | eu_auc: 0.8183 | eu_acc: 0.8654\n",
      "\tSaving model and optimizer state to /kaggle/working/checkpoint/magface/normalmap/models/checkpoint.pth\n",
      "\tEpoch 434: EarlyStopping counter for 'test_cosine_auc': 27/50\n",
      "\tEpoch 434: EarlyStopping counter for 'test_cosine_accuracy': 217/50\n",
      "\tEpoch 434: EarlyStopping counter for 'test_euclidean_auc': 152/50\n",
      "\tEpoch 434: EarlyStopping counter for 'test_euclidean_accuracy': 180/50\n"
     ]
    },
    {
     "name": "stderr",
     "output_type": "stream",
     "text": [
      "/usr/lib/python3.10/multiprocessing/popen_fork.py:66: RuntimeWarning: os.fork() was called. os.fork() is incompatible with multithreaded code, and JAX is multithreaded, so this will likely lead to a deadlock.\n",
      "  self.pid = os.fork()\n",
      "/usr/lib/python3.10/multiprocessing/popen_fork.py:66: RuntimeWarning: os.fork() was called. os.fork() is incompatible with multithreaded code, and JAX is multithreaded, so this will likely lead to a deadlock.\n",
      "  self.pid = os.fork()\n",
      "/usr/lib/python3.10/multiprocessing/popen_fork.py:66: RuntimeWarning: os.fork() was called. os.fork() is incompatible with multithreaded code, and JAX is multithreaded, so this will likely lead to a deadlock.\n",
      "  self.pid = os.fork()\n"
     ]
    },
    {
     "name": "stdout",
     "output_type": "stream",
     "text": [
      "Epoch 435:\n",
      "\ttrain: loss 0.242 | loss id   0.22 | top_1_acc 1.0000 | top_5_acc 1.0000 | cos_auc: 1.0000 | cos_acc: 1.0000 | eu_auc: 0.9999 | eu_acc: 0.9965\n",
      "\ttest: cos_auc: 0.8670 | cos_acc: 0.7943 | eu_auc: 0.8227 | eu_acc: 0.8619\n",
      "\tSaving model and optimizer state to /kaggle/working/checkpoint/magface/normalmap/models/checkpoint.pth\n",
      "\tEpoch 435: EarlyStopping counter for 'test_cosine_auc': 28/50\n",
      "\tEpoch 435: EarlyStopping counter for 'test_cosine_accuracy': 218/50\n",
      "\tEpoch 435: EarlyStopping counter for 'test_euclidean_auc': 153/50\n",
      "\tEpoch 435: EarlyStopping counter for 'test_euclidean_accuracy': 181/50\n"
     ]
    },
    {
     "name": "stderr",
     "output_type": "stream",
     "text": [
      "/usr/lib/python3.10/multiprocessing/popen_fork.py:66: RuntimeWarning: os.fork() was called. os.fork() is incompatible with multithreaded code, and JAX is multithreaded, so this will likely lead to a deadlock.\n",
      "  self.pid = os.fork()\n",
      "/usr/lib/python3.10/multiprocessing/popen_fork.py:66: RuntimeWarning: os.fork() was called. os.fork() is incompatible with multithreaded code, and JAX is multithreaded, so this will likely lead to a deadlock.\n",
      "  self.pid = os.fork()\n"
     ]
    },
    {
     "name": "stdout",
     "output_type": "stream",
     "text": [
      "Epoch 436:\n",
      "\ttrain: loss 0.250 | loss id   0.23 | top_1_acc 1.0000 | top_5_acc 1.0000 | cos_auc: 1.0000 | cos_acc: 1.0000 | eu_auc: 0.9999 | eu_acc: 0.9977\n",
      "\ttest: cos_auc: 0.8618 | cos_acc: 0.8749 | eu_auc: 0.8199 | eu_acc: 0.8610\n",
      "\tSaving model and optimizer state to /kaggle/working/checkpoint/magface/normalmap/models/checkpoint.pth\n",
      "\tEpoch 436: EarlyStopping counter for 'test_cosine_auc': 29/50\n",
      "\tEpoch 436: EarlyStopping counter for 'test_cosine_accuracy': 219/50\n",
      "\tEpoch 436: EarlyStopping counter for 'test_euclidean_auc': 154/50\n",
      "\tEpoch 436: EarlyStopping counter for 'test_euclidean_accuracy': 182/50\n"
     ]
    },
    {
     "name": "stderr",
     "output_type": "stream",
     "text": [
      "/usr/lib/python3.10/multiprocessing/popen_fork.py:66: RuntimeWarning: os.fork() was called. os.fork() is incompatible with multithreaded code, and JAX is multithreaded, so this will likely lead to a deadlock.\n",
      "  self.pid = os.fork()\n",
      "/usr/lib/python3.10/multiprocessing/popen_fork.py:66: RuntimeWarning: os.fork() was called. os.fork() is incompatible with multithreaded code, and JAX is multithreaded, so this will likely lead to a deadlock.\n",
      "  self.pid = os.fork()\n"
     ]
    },
    {
     "name": "stdout",
     "output_type": "stream",
     "text": [
      "Epoch 437:\n",
      "\ttrain: loss 0.235 | loss id   0.21 | top_1_acc 1.0000 | top_5_acc 1.0000 | cos_auc: 1.0000 | cos_acc: 1.0000 | eu_auc: 0.9999 | eu_acc: 0.9987\n",
      "\ttest: cos_auc: 0.8629 | cos_acc: 0.7805 | eu_auc: 0.8198 | eu_acc: 0.8569\n",
      "\tSaving model and optimizer state to /kaggle/working/checkpoint/magface/normalmap/models/checkpoint.pth\n",
      "\tEpoch 437: EarlyStopping counter for 'test_cosine_auc': 30/50\n",
      "\tEpoch 437: EarlyStopping counter for 'test_cosine_accuracy': 220/50\n",
      "\tEpoch 437: EarlyStopping counter for 'test_euclidean_auc': 155/50\n",
      "\tEpoch 437: EarlyStopping counter for 'test_euclidean_accuracy': 183/50\n"
     ]
    },
    {
     "name": "stderr",
     "output_type": "stream",
     "text": [
      "/usr/lib/python3.10/multiprocessing/popen_fork.py:66: RuntimeWarning: os.fork() was called. os.fork() is incompatible with multithreaded code, and JAX is multithreaded, so this will likely lead to a deadlock.\n",
      "  self.pid = os.fork()\n",
      "/usr/lib/python3.10/multiprocessing/popen_fork.py:66: RuntimeWarning: os.fork() was called. os.fork() is incompatible with multithreaded code, and JAX is multithreaded, so this will likely lead to a deadlock.\n",
      "  self.pid = os.fork()\n"
     ]
    },
    {
     "name": "stdout",
     "output_type": "stream",
     "text": [
      "Epoch 438:\n",
      "\ttrain: loss 0.247 | loss id   0.22 | top_1_acc 1.0000 | top_5_acc 1.0000 | cos_auc: 1.0000 | cos_acc: 1.0000 | eu_auc: 0.9999 | eu_acc: 0.9961\n",
      "\ttest: cos_auc: 0.8612 | cos_acc: 0.7289 | eu_auc: 0.8160 | eu_acc: 0.8399\n",
      "\tSaving model and optimizer state to /kaggle/working/checkpoint/magface/normalmap/models/checkpoint.pth\n",
      "\tEpoch 438: EarlyStopping counter for 'test_cosine_auc': 31/50\n",
      "\tEpoch 438: EarlyStopping counter for 'test_cosine_accuracy': 221/50\n",
      "\tEpoch 438: EarlyStopping counter for 'test_euclidean_auc': 156/50\n",
      "\tEpoch 438: EarlyStopping counter for 'test_euclidean_accuracy': 184/50\n"
     ]
    },
    {
     "name": "stderr",
     "output_type": "stream",
     "text": [
      "/usr/lib/python3.10/multiprocessing/popen_fork.py:66: RuntimeWarning: os.fork() was called. os.fork() is incompatible with multithreaded code, and JAX is multithreaded, so this will likely lead to a deadlock.\n",
      "  self.pid = os.fork()\n",
      "/usr/lib/python3.10/multiprocessing/popen_fork.py:66: RuntimeWarning: os.fork() was called. os.fork() is incompatible with multithreaded code, and JAX is multithreaded, so this will likely lead to a deadlock.\n",
      "  self.pid = os.fork()\n"
     ]
    },
    {
     "name": "stdout",
     "output_type": "stream",
     "text": [
      "Epoch 439:\n",
      "\ttrain: loss 0.241 | loss id   0.22 | top_1_acc 0.9989 | top_5_acc 1.0000 | cos_auc: 1.0000 | cos_acc: 1.0000 | eu_auc: 0.9999 | eu_acc: 0.9974\n",
      "\ttest: cos_auc: 0.8598 | cos_acc: 0.8726 | eu_auc: 0.8179 | eu_acc: 0.8607\n",
      "\tSaving model and optimizer state to /kaggle/working/checkpoint/magface/normalmap/models/checkpoint.pth\n",
      "\tEpoch 439: EarlyStopping counter for 'test_cosine_auc': 32/50\n",
      "\tEpoch 439: EarlyStopping counter for 'test_cosine_accuracy': 222/50\n",
      "\tEpoch 439: EarlyStopping counter for 'test_euclidean_auc': 157/50\n",
      "\tEpoch 439: EarlyStopping counter for 'test_euclidean_accuracy': 185/50\n"
     ]
    },
    {
     "name": "stderr",
     "output_type": "stream",
     "text": [
      "/usr/lib/python3.10/multiprocessing/popen_fork.py:66: RuntimeWarning: os.fork() was called. os.fork() is incompatible with multithreaded code, and JAX is multithreaded, so this will likely lead to a deadlock.\n",
      "  self.pid = os.fork()\n",
      "/usr/lib/python3.10/multiprocessing/popen_fork.py:66: RuntimeWarning: os.fork() was called. os.fork() is incompatible with multithreaded code, and JAX is multithreaded, so this will likely lead to a deadlock.\n",
      "  self.pid = os.fork()\n"
     ]
    },
    {
     "name": "stdout",
     "output_type": "stream",
     "text": [
      "Epoch 440:\n",
      "\ttrain: loss 0.214 | loss id   0.19 | top_1_acc 1.0000 | top_5_acc 1.0000 | cos_auc: 1.0000 | cos_acc: 1.0000 | eu_auc: 0.9996 | eu_acc: 0.9946\n",
      "\ttest: cos_auc: 0.8591 | cos_acc: 0.8434 | eu_auc: 0.8162 | eu_acc: 0.8519\n",
      "\tSaving model and optimizer state to /kaggle/working/checkpoint/magface/normalmap/models/checkpoint.pth\n",
      "\tEpoch 440: EarlyStopping counter for 'test_cosine_auc': 33/50\n",
      "\tEpoch 440: EarlyStopping counter for 'test_cosine_accuracy': 223/50\n",
      "\tEpoch 440: EarlyStopping counter for 'test_euclidean_auc': 158/50\n",
      "\tEpoch 440: EarlyStopping counter for 'test_euclidean_accuracy': 186/50\n"
     ]
    },
    {
     "name": "stderr",
     "output_type": "stream",
     "text": [
      "/usr/lib/python3.10/multiprocessing/popen_fork.py:66: RuntimeWarning: os.fork() was called. os.fork() is incompatible with multithreaded code, and JAX is multithreaded, so this will likely lead to a deadlock.\n",
      "  self.pid = os.fork()\n",
      "/usr/lib/python3.10/multiprocessing/popen_fork.py:66: RuntimeWarning: os.fork() was called. os.fork() is incompatible with multithreaded code, and JAX is multithreaded, so this will likely lead to a deadlock.\n",
      "  self.pid = os.fork()\n"
     ]
    },
    {
     "name": "stdout",
     "output_type": "stream",
     "text": [
      "Epoch 441:\n",
      "\ttrain: loss 0.504 | loss id   0.48 | top_1_acc 1.0000 | top_5_acc 1.0000 | cos_auc: 1.0000 | cos_acc: 0.9985 | eu_auc: 0.9997 | eu_acc: 0.9944\n",
      "\ttest: cos_auc: 0.8464 | cos_acc: 0.8581 | eu_auc: 0.8137 | eu_acc: 0.8119\n",
      "\tSaving model and optimizer state to /kaggle/working/checkpoint/magface/normalmap/models/checkpoint.pth\n",
      "\tEpoch 441: EarlyStopping counter for 'test_cosine_auc': 34/50\n",
      "\tEpoch 441: EarlyStopping counter for 'test_cosine_accuracy': 224/50\n",
      "\tEpoch 441: EarlyStopping counter for 'test_euclidean_auc': 159/50\n",
      "\tEpoch 441: EarlyStopping counter for 'test_euclidean_accuracy': 187/50\n"
     ]
    },
    {
     "name": "stderr",
     "output_type": "stream",
     "text": [
      "/usr/lib/python3.10/multiprocessing/popen_fork.py:66: RuntimeWarning: os.fork() was called. os.fork() is incompatible with multithreaded code, and JAX is multithreaded, so this will likely lead to a deadlock.\n",
      "  self.pid = os.fork()\n",
      "/usr/lib/python3.10/multiprocessing/popen_fork.py:66: RuntimeWarning: os.fork() was called. os.fork() is incompatible with multithreaded code, and JAX is multithreaded, so this will likely lead to a deadlock.\n",
      "  self.pid = os.fork()\n"
     ]
    },
    {
     "name": "stdout",
     "output_type": "stream",
     "text": [
      "Epoch 442:\n",
      "\ttrain: loss 0.700 | loss id   0.68 | top_1_acc 0.9978 | top_5_acc 0.9989 | cos_auc: 0.9993 | cos_acc: 0.9943 | eu_auc: 0.9971 | eu_acc: 0.9846\n",
      "\ttest: cos_auc: 0.8234 | cos_acc: 0.7817 | eu_auc: 0.7922 | eu_acc: 0.7974\n",
      "\tSaving model and optimizer state to /kaggle/working/checkpoint/magface/normalmap/models/checkpoint.pth\n",
      "\tEpoch 442: EarlyStopping counter for 'test_cosine_auc': 35/50\n",
      "\tEpoch 442: EarlyStopping counter for 'test_cosine_accuracy': 225/50\n",
      "\tEpoch 442: EarlyStopping counter for 'test_euclidean_auc': 160/50\n",
      "\tEpoch 442: EarlyStopping counter for 'test_euclidean_accuracy': 188/50\n"
     ]
    },
    {
     "name": "stderr",
     "output_type": "stream",
     "text": [
      "/usr/lib/python3.10/multiprocessing/popen_fork.py:66: RuntimeWarning: os.fork() was called. os.fork() is incompatible with multithreaded code, and JAX is multithreaded, so this will likely lead to a deadlock.\n",
      "  self.pid = os.fork()\n",
      "/usr/lib/python3.10/multiprocessing/popen_fork.py:66: RuntimeWarning: os.fork() was called. os.fork() is incompatible with multithreaded code, and JAX is multithreaded, so this will likely lead to a deadlock.\n",
      "  self.pid = os.fork()\n"
     ]
    },
    {
     "name": "stdout",
     "output_type": "stream",
     "text": [
      "Epoch 443:\n",
      "\ttrain: loss 0.690 | loss id   0.67 | top_1_acc 1.0000 | top_5_acc 1.0000 | cos_auc: 1.0000 | cos_acc: 0.9990 | eu_auc: 0.9996 | eu_acc: 0.9946\n",
      "\ttest: cos_auc: 0.8526 | cos_acc: 0.8025 | eu_auc: 0.8071 | eu_acc: 0.8254\n",
      "\tSaving model and optimizer state to /kaggle/working/checkpoint/magface/normalmap/models/checkpoint.pth\n",
      "\tEpoch 443: EarlyStopping counter for 'test_cosine_auc': 36/50\n",
      "\tEpoch 443: EarlyStopping counter for 'test_cosine_accuracy': 226/50\n",
      "\tEpoch 443: EarlyStopping counter for 'test_euclidean_auc': 161/50\n",
      "\tEpoch 443: EarlyStopping counter for 'test_euclidean_accuracy': 189/50\n"
     ]
    },
    {
     "name": "stderr",
     "output_type": "stream",
     "text": [
      "/usr/lib/python3.10/multiprocessing/popen_fork.py:66: RuntimeWarning: os.fork() was called. os.fork() is incompatible with multithreaded code, and JAX is multithreaded, so this will likely lead to a deadlock.\n",
      "  self.pid = os.fork()\n",
      "/usr/lib/python3.10/multiprocessing/popen_fork.py:66: RuntimeWarning: os.fork() was called. os.fork() is incompatible with multithreaded code, and JAX is multithreaded, so this will likely lead to a deadlock.\n",
      "  self.pid = os.fork()\n"
     ]
    },
    {
     "name": "stdout",
     "output_type": "stream",
     "text": [
      "Epoch 444:\n",
      "\ttrain: loss 0.660 | loss id   0.64 | top_1_acc 0.9966 | top_5_acc 1.0000 | cos_auc: 1.0000 | cos_acc: 0.9991 | eu_auc: 0.9984 | eu_acc: 0.9917\n",
      "\ttest: cos_auc: 0.8300 | cos_acc: 0.8111 | eu_auc: 0.7998 | eu_acc: 0.8351\n",
      "\tSaving model and optimizer state to /kaggle/working/checkpoint/magface/normalmap/models/checkpoint.pth\n",
      "\tEpoch 444: EarlyStopping counter for 'test_cosine_auc': 37/50\n",
      "\tEpoch 444: EarlyStopping counter for 'test_cosine_accuracy': 227/50\n",
      "\tEpoch 444: EarlyStopping counter for 'test_euclidean_auc': 162/50\n",
      "\tEpoch 444: EarlyStopping counter for 'test_euclidean_accuracy': 190/50\n"
     ]
    },
    {
     "name": "stderr",
     "output_type": "stream",
     "text": [
      "/usr/lib/python3.10/multiprocessing/popen_fork.py:66: RuntimeWarning: os.fork() was called. os.fork() is incompatible with multithreaded code, and JAX is multithreaded, so this will likely lead to a deadlock.\n",
      "  self.pid = os.fork()\n",
      "/usr/lib/python3.10/multiprocessing/popen_fork.py:66: RuntimeWarning: os.fork() was called. os.fork() is incompatible with multithreaded code, and JAX is multithreaded, so this will likely lead to a deadlock.\n",
      "  self.pid = os.fork()\n"
     ]
    },
    {
     "name": "stdout",
     "output_type": "stream",
     "text": [
      "Epoch 445:\n",
      "\ttrain: loss 0.648 | loss id   0.62 | top_1_acc 0.9978 | top_5_acc 1.0000 | cos_auc: 1.0000 | cos_acc: 0.9999 | eu_auc: 0.9995 | eu_acc: 0.9932\n",
      "\ttest: cos_auc: 0.8502 | cos_acc: 0.8557 | eu_auc: 0.8198 | eu_acc: 0.8173\n",
      "\tSaving model and optimizer state to /kaggle/working/checkpoint/magface/normalmap/models/checkpoint.pth\n",
      "\tEpoch 445: EarlyStopping counter for 'test_cosine_auc': 38/50\n",
      "\tEpoch 445: EarlyStopping counter for 'test_cosine_accuracy': 228/50\n",
      "\tEpoch 445: EarlyStopping counter for 'test_euclidean_auc': 163/50\n",
      "\tEpoch 445: EarlyStopping counter for 'test_euclidean_accuracy': 191/50\n"
     ]
    },
    {
     "name": "stderr",
     "output_type": "stream",
     "text": [
      "/usr/lib/python3.10/multiprocessing/popen_fork.py:66: RuntimeWarning: os.fork() was called. os.fork() is incompatible with multithreaded code, and JAX is multithreaded, so this will likely lead to a deadlock.\n",
      "  self.pid = os.fork()\n",
      "/usr/lib/python3.10/multiprocessing/popen_fork.py:66: RuntimeWarning: os.fork() was called. os.fork() is incompatible with multithreaded code, and JAX is multithreaded, so this will likely lead to a deadlock.\n",
      "  self.pid = os.fork()\n"
     ]
    },
    {
     "name": "stdout",
     "output_type": "stream",
     "text": [
      "Epoch 446:\n",
      "\ttrain: loss 0.619 | loss id   0.60 | top_1_acc 0.9989 | top_5_acc 1.0000 | cos_auc: 0.9999 | cos_acc: 0.9998 | eu_auc: 0.9992 | eu_acc: 0.9923\n",
      "\ttest: cos_auc: 0.8591 | cos_acc: 0.8161 | eu_auc: 0.8052 | eu_acc: 0.7694\n",
      "\tSaving model and optimizer state to /kaggle/working/checkpoint/magface/normalmap/models/checkpoint.pth\n",
      "\tEpoch 446: EarlyStopping counter for 'test_cosine_auc': 39/50\n",
      "\tEpoch 446: EarlyStopping counter for 'test_cosine_accuracy': 229/50\n",
      "\tEpoch 446: EarlyStopping counter for 'test_euclidean_auc': 164/50\n",
      "\tEpoch 446: EarlyStopping counter for 'test_euclidean_accuracy': 192/50\n"
     ]
    },
    {
     "name": "stderr",
     "output_type": "stream",
     "text": [
      "/usr/lib/python3.10/multiprocessing/popen_fork.py:66: RuntimeWarning: os.fork() was called. os.fork() is incompatible with multithreaded code, and JAX is multithreaded, so this will likely lead to a deadlock.\n",
      "  self.pid = os.fork()\n",
      "/usr/lib/python3.10/multiprocessing/popen_fork.py:66: RuntimeWarning: os.fork() was called. os.fork() is incompatible with multithreaded code, and JAX is multithreaded, so this will likely lead to a deadlock.\n",
      "  self.pid = os.fork()\n"
     ]
    },
    {
     "name": "stdout",
     "output_type": "stream",
     "text": [
      "Epoch 447:\n",
      "\ttrain: loss 0.655 | loss id   0.63 | top_1_acc 0.9989 | top_5_acc 1.0000 | cos_auc: 0.9999 | cos_acc: 0.9983 | eu_auc: 0.9988 | eu_acc: 0.9846\n",
      "\ttest: cos_auc: 0.8205 | cos_acc: 0.7770 | eu_auc: 0.8061 | eu_acc: 0.7880\n",
      "\tSaving model and optimizer state to /kaggle/working/checkpoint/magface/normalmap/models/checkpoint.pth\n",
      "\tEpoch 447: EarlyStopping counter for 'test_cosine_auc': 40/50\n",
      "\tEpoch 447: EarlyStopping counter for 'test_cosine_accuracy': 230/50\n",
      "\tEpoch 447: EarlyStopping counter for 'test_euclidean_auc': 165/50\n",
      "\tEpoch 447: EarlyStopping counter for 'test_euclidean_accuracy': 193/50\n"
     ]
    },
    {
     "name": "stderr",
     "output_type": "stream",
     "text": [
      "/usr/lib/python3.10/multiprocessing/popen_fork.py:66: RuntimeWarning: os.fork() was called. os.fork() is incompatible with multithreaded code, and JAX is multithreaded, so this will likely lead to a deadlock.\n",
      "  self.pid = os.fork()\n",
      "/usr/lib/python3.10/multiprocessing/popen_fork.py:66: RuntimeWarning: os.fork() was called. os.fork() is incompatible with multithreaded code, and JAX is multithreaded, so this will likely lead to a deadlock.\n",
      "  self.pid = os.fork()\n"
     ]
    },
    {
     "name": "stdout",
     "output_type": "stream",
     "text": [
      "Epoch 448:\n",
      "\ttrain: loss 0.566 | loss id   0.54 | top_1_acc 1.0000 | top_5_acc 1.0000 | cos_auc: 1.0000 | cos_acc: 0.9993 | eu_auc: 0.9997 | eu_acc: 0.9925\n",
      "\ttest: cos_auc: 0.8519 | cos_acc: 0.8146 | eu_auc: 0.8221 | eu_acc: 0.7858\n",
      "\tSaving model and optimizer state to /kaggle/working/checkpoint/magface/normalmap/models/checkpoint.pth\n",
      "\tEpoch 448: EarlyStopping counter for 'test_cosine_auc': 41/50\n",
      "\tEpoch 448: EarlyStopping counter for 'test_cosine_accuracy': 231/50\n",
      "\tEpoch 448: EarlyStopping counter for 'test_euclidean_auc': 166/50\n",
      "\tEpoch 448: EarlyStopping counter for 'test_euclidean_accuracy': 194/50\n"
     ]
    },
    {
     "name": "stderr",
     "output_type": "stream",
     "text": [
      "/usr/lib/python3.10/multiprocessing/popen_fork.py:66: RuntimeWarning: os.fork() was called. os.fork() is incompatible with multithreaded code, and JAX is multithreaded, so this will likely lead to a deadlock.\n",
      "  self.pid = os.fork()\n",
      "/usr/lib/python3.10/multiprocessing/popen_fork.py:66: RuntimeWarning: os.fork() was called. os.fork() is incompatible with multithreaded code, and JAX is multithreaded, so this will likely lead to a deadlock.\n",
      "  self.pid = os.fork()\n"
     ]
    },
    {
     "name": "stdout",
     "output_type": "stream",
     "text": [
      "Epoch 449:\n",
      "\ttrain: loss 0.566 | loss id   0.54 | top_1_acc 0.9978 | top_5_acc 1.0000 | cos_auc: 1.0000 | cos_acc: 0.9997 | eu_auc: 0.9996 | eu_acc: 0.9908\n",
      "\ttest: cos_auc: 0.8271 | cos_acc: 0.8431 | eu_auc: 0.8014 | eu_acc: 0.7904\n",
      "\tSaving model and optimizer state to /kaggle/working/checkpoint/magface/normalmap/models/checkpoint.pth\n",
      "\tEpoch 449: EarlyStopping counter for 'test_cosine_auc': 42/50\n",
      "\tEpoch 449: EarlyStopping counter for 'test_cosine_accuracy': 232/50\n",
      "\tEpoch 449: EarlyStopping counter for 'test_euclidean_auc': 167/50\n",
      "\tEpoch 449: EarlyStopping counter for 'test_euclidean_accuracy': 195/50\n"
     ]
    },
    {
     "name": "stderr",
     "output_type": "stream",
     "text": [
      "/usr/lib/python3.10/multiprocessing/popen_fork.py:66: RuntimeWarning: os.fork() was called. os.fork() is incompatible with multithreaded code, and JAX is multithreaded, so this will likely lead to a deadlock.\n",
      "  self.pid = os.fork()\n",
      "/usr/lib/python3.10/multiprocessing/popen_fork.py:66: RuntimeWarning: os.fork() was called. os.fork() is incompatible with multithreaded code, and JAX is multithreaded, so this will likely lead to a deadlock.\n",
      "  self.pid = os.fork()\n"
     ]
    },
    {
     "name": "stdout",
     "output_type": "stream",
     "text": [
      "Epoch 450:\n",
      "\ttrain: loss 0.533 | loss id   0.51 | top_1_acc 1.0000 | top_5_acc 1.0000 | cos_auc: 1.0000 | cos_acc: 1.0000 | eu_auc: 0.9996 | eu_acc: 0.9872\n",
      "\ttest: cos_auc: 0.8640 | cos_acc: 0.8091 | eu_auc: 0.8246 | eu_acc: 0.8218\n",
      "\tSaving model and optimizer state to /kaggle/working/checkpoint/magface/normalmap/models/checkpoint.pth\n",
      "\tEpoch 450: EarlyStopping counter for 'test_cosine_auc': 43/50\n",
      "\tEpoch 450: EarlyStopping counter for 'test_cosine_accuracy': 233/50\n",
      "\tEpoch 450: EarlyStopping counter for 'test_euclidean_auc': 168/50\n",
      "\tEpoch 450: EarlyStopping counter for 'test_euclidean_accuracy': 196/50\n"
     ]
    },
    {
     "name": "stderr",
     "output_type": "stream",
     "text": [
      "/usr/lib/python3.10/multiprocessing/popen_fork.py:66: RuntimeWarning: os.fork() was called. os.fork() is incompatible with multithreaded code, and JAX is multithreaded, so this will likely lead to a deadlock.\n",
      "  self.pid = os.fork()\n",
      "/usr/lib/python3.10/multiprocessing/popen_fork.py:66: RuntimeWarning: os.fork() was called. os.fork() is incompatible with multithreaded code, and JAX is multithreaded, so this will likely lead to a deadlock.\n",
      "  self.pid = os.fork()\n"
     ]
    },
    {
     "name": "stdout",
     "output_type": "stream",
     "text": [
      "Epoch 451:\n",
      "\ttrain: loss 0.563 | loss id   0.54 | top_1_acc 0.9989 | top_5_acc 1.0000 | cos_auc: 1.0000 | cos_acc: 0.9995 | eu_auc: 0.9997 | eu_acc: 0.9922\n",
      "\ttest: cos_auc: 0.8481 | cos_acc: 0.8888 | eu_auc: 0.8159 | eu_acc: 0.8079\n",
      "\tSaving model and optimizer state to /kaggle/working/checkpoint/magface/normalmap/models/checkpoint.pth\n",
      "\tEpoch 451: EarlyStopping counter for 'test_cosine_auc': 44/50\n",
      "\tEpoch 451: EarlyStopping counter for 'test_cosine_accuracy': 234/50\n",
      "\tEpoch 451: EarlyStopping counter for 'test_euclidean_auc': 169/50\n",
      "\tEpoch 451: EarlyStopping counter for 'test_euclidean_accuracy': 197/50\n"
     ]
    },
    {
     "name": "stderr",
     "output_type": "stream",
     "text": [
      "/usr/lib/python3.10/multiprocessing/popen_fork.py:66: RuntimeWarning: os.fork() was called. os.fork() is incompatible with multithreaded code, and JAX is multithreaded, so this will likely lead to a deadlock.\n",
      "  self.pid = os.fork()\n",
      "/usr/lib/python3.10/multiprocessing/popen_fork.py:66: RuntimeWarning: os.fork() was called. os.fork() is incompatible with multithreaded code, and JAX is multithreaded, so this will likely lead to a deadlock.\n",
      "  self.pid = os.fork()\n"
     ]
    },
    {
     "name": "stdout",
     "output_type": "stream",
     "text": [
      "Epoch 452:\n",
      "\ttrain: loss 0.501 | loss id   0.48 | top_1_acc 0.9989 | top_5_acc 0.9989 | cos_auc: 1.0000 | cos_acc: 0.9998 | eu_auc: 0.9995 | eu_acc: 0.9927\n",
      "\ttest: cos_auc: 0.8631 | cos_acc: 0.8162 | eu_auc: 0.8080 | eu_acc: 0.7717\n",
      "\tSaving model and optimizer state to /kaggle/working/checkpoint/magface/normalmap/models/checkpoint.pth\n",
      "\tEpoch 452: EarlyStopping counter for 'test_cosine_auc': 45/50\n",
      "\tEpoch 452: EarlyStopping counter for 'test_cosine_accuracy': 235/50\n",
      "\tEpoch 452: EarlyStopping counter for 'test_euclidean_auc': 170/50\n",
      "\tEpoch 452: EarlyStopping counter for 'test_euclidean_accuracy': 198/50\n"
     ]
    },
    {
     "name": "stderr",
     "output_type": "stream",
     "text": [
      "/usr/lib/python3.10/multiprocessing/popen_fork.py:66: RuntimeWarning: os.fork() was called. os.fork() is incompatible with multithreaded code, and JAX is multithreaded, so this will likely lead to a deadlock.\n",
      "  self.pid = os.fork()\n",
      "/usr/lib/python3.10/multiprocessing/popen_fork.py:66: RuntimeWarning: os.fork() was called. os.fork() is incompatible with multithreaded code, and JAX is multithreaded, so this will likely lead to a deadlock.\n",
      "  self.pid = os.fork()\n"
     ]
    },
    {
     "name": "stdout",
     "output_type": "stream",
     "text": [
      "Epoch 453:\n",
      "\ttrain: loss 0.520 | loss id   0.50 | top_1_acc 1.0000 | top_5_acc 1.0000 | cos_auc: 1.0000 | cos_acc: 1.0000 | eu_auc: 0.9998 | eu_acc: 0.9924\n",
      "\ttest: cos_auc: 0.8708 | cos_acc: 0.7961 | eu_auc: 0.8230 | eu_acc: 0.8185\n",
      "\tSaving model and optimizer state to /kaggle/working/checkpoint/magface/normalmap/models/checkpoint.pth\n",
      "\tEpoch 453: EarlyStopping counter for 'test_cosine_auc': 46/50\n",
      "\tEpoch 453: EarlyStopping counter for 'test_cosine_accuracy': 236/50\n",
      "\tEpoch 453: EarlyStopping counter for 'test_euclidean_auc': 171/50\n",
      "\tEpoch 453: EarlyStopping counter for 'test_euclidean_accuracy': 199/50\n"
     ]
    },
    {
     "name": "stderr",
     "output_type": "stream",
     "text": [
      "/usr/lib/python3.10/multiprocessing/popen_fork.py:66: RuntimeWarning: os.fork() was called. os.fork() is incompatible with multithreaded code, and JAX is multithreaded, so this will likely lead to a deadlock.\n",
      "  self.pid = os.fork()\n",
      "/usr/lib/python3.10/multiprocessing/popen_fork.py:66: RuntimeWarning: os.fork() was called. os.fork() is incompatible with multithreaded code, and JAX is multithreaded, so this will likely lead to a deadlock.\n",
      "  self.pid = os.fork()\n"
     ]
    },
    {
     "name": "stdout",
     "output_type": "stream",
     "text": [
      "Epoch 454:\n",
      "\ttrain: loss 0.512 | loss id   0.49 | top_1_acc 1.0000 | top_5_acc 1.0000 | cos_auc: 1.0000 | cos_acc: 0.9999 | eu_auc: 0.9984 | eu_acc: 0.9912\n",
      "\ttest: cos_auc: 0.8690 | cos_acc: 0.8059 | eu_auc: 0.7934 | eu_acc: 0.8074\n",
      "\tSaving model and optimizer state to /kaggle/working/checkpoint/magface/normalmap/models/checkpoint.pth\n",
      "\tEpoch 454: EarlyStopping counter for 'test_cosine_auc': 47/50\n",
      "\tEpoch 454: EarlyStopping counter for 'test_cosine_accuracy': 237/50\n",
      "\tEpoch 454: EarlyStopping counter for 'test_euclidean_auc': 172/50\n",
      "\tEpoch 454: EarlyStopping counter for 'test_euclidean_accuracy': 200/50\n"
     ]
    },
    {
     "name": "stderr",
     "output_type": "stream",
     "text": [
      "/usr/lib/python3.10/multiprocessing/popen_fork.py:66: RuntimeWarning: os.fork() was called. os.fork() is incompatible with multithreaded code, and JAX is multithreaded, so this will likely lead to a deadlock.\n",
      "  self.pid = os.fork()\n",
      "/usr/lib/python3.10/multiprocessing/popen_fork.py:66: RuntimeWarning: os.fork() was called. os.fork() is incompatible with multithreaded code, and JAX is multithreaded, so this will likely lead to a deadlock.\n",
      "  self.pid = os.fork()\n"
     ]
    },
    {
     "name": "stdout",
     "output_type": "stream",
     "text": [
      "Epoch 455:\n",
      "\ttrain: loss 0.476 | loss id   0.45 | top_1_acc 0.9966 | top_5_acc 0.9989 | cos_auc: 1.0000 | cos_acc: 0.9994 | eu_auc: 0.9993 | eu_acc: 0.9923\n",
      "\ttest: cos_auc: 0.8564 | cos_acc: 0.8275 | eu_auc: 0.8009 | eu_acc: 0.7584\n",
      "\tSaving model and optimizer state to /kaggle/working/checkpoint/magface/normalmap/models/checkpoint.pth\n",
      "\tEpoch 455: EarlyStopping counter for 'test_cosine_auc': 48/50\n",
      "\tEpoch 455: EarlyStopping counter for 'test_cosine_accuracy': 238/50\n",
      "\tEpoch 455: EarlyStopping counter for 'test_euclidean_auc': 173/50\n",
      "\tEpoch 455: EarlyStopping counter for 'test_euclidean_accuracy': 201/50\n"
     ]
    },
    {
     "name": "stderr",
     "output_type": "stream",
     "text": [
      "/usr/lib/python3.10/multiprocessing/popen_fork.py:66: RuntimeWarning: os.fork() was called. os.fork() is incompatible with multithreaded code, and JAX is multithreaded, so this will likely lead to a deadlock.\n",
      "  self.pid = os.fork()\n",
      "/usr/lib/python3.10/multiprocessing/popen_fork.py:66: RuntimeWarning: os.fork() was called. os.fork() is incompatible with multithreaded code, and JAX is multithreaded, so this will likely lead to a deadlock.\n",
      "  self.pid = os.fork()\n"
     ]
    },
    {
     "name": "stdout",
     "output_type": "stream",
     "text": [
      "Epoch 456:\n",
      "\ttrain: loss 0.408 | loss id   0.39 | top_1_acc 1.0000 | top_5_acc 1.0000 | cos_auc: 1.0000 | cos_acc: 1.0000 | eu_auc: 0.9994 | eu_acc: 0.9911\n",
      "\ttest: cos_auc: 0.8720 | cos_acc: 0.8598 | eu_auc: 0.8117 | eu_acc: 0.7593\n",
      "\tSaving model and optimizer state to /kaggle/working/checkpoint/magface/normalmap/models/checkpoint.pth\n",
      "\tEpoch 456: EarlyStopping counter for 'test_cosine_auc': 49/50\n",
      "\tEpoch 456: EarlyStopping counter for 'test_cosine_accuracy': 239/50\n",
      "\tEpoch 456: EarlyStopping counter for 'test_euclidean_auc': 174/50\n",
      "\tEpoch 456: EarlyStopping counter for 'test_euclidean_accuracy': 202/50\n"
     ]
    },
    {
     "name": "stderr",
     "output_type": "stream",
     "text": [
      "/usr/lib/python3.10/multiprocessing/popen_fork.py:66: RuntimeWarning: os.fork() was called. os.fork() is incompatible with multithreaded code, and JAX is multithreaded, so this will likely lead to a deadlock.\n",
      "  self.pid = os.fork()\n",
      "/usr/lib/python3.10/multiprocessing/popen_fork.py:66: RuntimeWarning: os.fork() was called. os.fork() is incompatible with multithreaded code, and JAX is multithreaded, so this will likely lead to a deadlock.\n",
      "  self.pid = os.fork()\n"
     ]
    },
    {
     "name": "stdout",
     "output_type": "stream",
     "text": [
      "Epoch 457:\n",
      "\ttrain: loss 0.403 | loss id   0.38 | top_1_acc 0.9989 | top_5_acc 1.0000 | cos_auc: 1.0000 | cos_acc: 1.0000 | eu_auc: 0.9998 | eu_acc: 0.9959\n",
      "\ttest: cos_auc: 0.8678 | cos_acc: 0.8214 | eu_auc: 0.8102 | eu_acc: 0.6700\n",
      "\tSaving model and optimizer state to /kaggle/working/checkpoint/magface/normalmap/models/checkpoint.pth\n",
      "\tEpoch 457: EarlyStopping counter for 'test_cosine_auc': 50/50\n",
      "\tEpoch 457: EarlyStopping counter for 'test_cosine_accuracy': 240/50\n",
      "\tEpoch 457: EarlyStopping counter for 'test_euclidean_auc': 175/50\n",
      "\tEpoch 457: EarlyStopping counter for 'test_euclidean_accuracy': 203/50\n",
      "\tEarly stopping triggered at epoch 457 as all metrics exceeded patience.\n"
     ]
    }
   ],
   "source": [
    "fit(CONFIGURATION, 0, model, device, train_dataloader, test_dataloader, criterion, optimizer, scheduler, early_stopping, modle_checkpoint)"
   ]
  }
 ],
 "metadata": {
  "kaggle": {
   "accelerator": "gpu",
   "dataSources": [
    {
     "datasetId": 6338037,
     "sourceId": 10247612,
     "sourceType": "datasetVersion"
    }
   ],
   "isGpuEnabled": true,
   "isInternetEnabled": true,
   "language": "python",
   "sourceType": "notebook"
  },
  "kernelspec": {
   "display_name": "Python 3",
   "language": "python",
   "name": "python3"
  },
  "language_info": {
   "codemirror_mode": {
    "name": "ipython",
    "version": 3
   },
   "file_extension": ".py",
   "mimetype": "text/x-python",
   "name": "python",
   "nbconvert_exporter": "python",
   "pygments_lexer": "ipython3",
   "version": "3.10.12"
  },
  "papermill": {
   "default_parameters": {},
   "duration": 12958.999089,
   "end_time": "2024-12-20T09:46:59.588578",
   "environment_variables": {},
   "exception": null,
   "input_path": "__notebook__.ipynb",
   "output_path": "__notebook__.ipynb",
   "parameters": {},
   "start_time": "2024-12-20T06:11:00.589489",
   "version": "2.6.0"
  }
 },
 "nbformat": 4,
 "nbformat_minor": 5
}
