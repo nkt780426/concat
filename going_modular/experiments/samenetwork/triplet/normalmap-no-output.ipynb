{
 "cells": [
  {
   "cell_type": "code",
   "execution_count": null,
   "metadata": {
    "_cell_guid": "b1076dfc-b9ad-4769-8c92-a6c4dae69d19",
    "_uuid": "8f2839f25d086af736a60e9eeb907d3b93b6e0e5",
    "execution": {
     "iopub.execute_input": "2024-12-19T16:54:49.584531Z",
     "iopub.status.busy": "2024-12-19T16:54:49.584324Z",
     "iopub.status.idle": "2024-12-19T16:54:53.074000Z",
     "shell.execute_reply": "2024-12-19T16:54:53.072885Z",
     "shell.execute_reply.started": "2024-12-19T16:54:49.584513Z"
    },
    "trusted": true
   },
   "outputs": [],
   "source": [
    "!git clone https://github.com/nkt780426/Bachelor-s-Project.git"
   ]
  },
  {
   "cell_type": "code",
   "execution_count": null,
   "metadata": {
    "execution": {
     "iopub.execute_input": "2024-12-19T16:55:10.994332Z",
     "iopub.status.busy": "2024-12-19T16:55:10.993982Z",
     "iopub.status.idle": "2024-12-19T16:55:11.111776Z",
     "shell.execute_reply": "2024-12-19T16:55:11.110789Z",
     "shell.execute_reply.started": "2024-12-19T16:55:10.994303Z"
    },
    "trusted": true
   },
   "outputs": [],
   "source": [
    "!mv Bachelor-s-Project/going_modular ."
   ]
  },
  {
   "cell_type": "code",
   "execution_count": 1,
   "metadata": {
    "execution": {
     "iopub.execute_input": "2024-12-20T01:51:01.453912Z",
     "iopub.status.busy": "2024-12-20T01:51:01.453658Z",
     "iopub.status.idle": "2024-12-20T01:51:01.583905Z",
     "shell.execute_reply": "2024-12-20T01:51:01.582894Z",
     "shell.execute_reply.started": "2024-12-20T01:51:01.453882Z"
    },
    "trusted": true
   },
   "outputs": [
    {
     "name": "stdout",
     "output_type": "stream",
     "text": [
      "total 12\n",
      "drwxr-xr-x 3 root root 4096 Dec 20 01:50 .\n",
      "drwxr-xr-x 5 root root 4096 Dec 20 01:50 ..\n",
      "drwxr-xr-x 2 root root 4096 Dec 20 01:50 .virtual_documents\n"
     ]
    }
   ],
   "source": [
    "!ls -la"
   ]
  },
  {
   "cell_type": "code",
   "execution_count": null,
   "metadata": {
    "execution": {
     "iopub.execute_input": "2024-12-19T17:14:34.161167Z",
     "iopub.status.busy": "2024-12-19T17:14:34.160905Z",
     "iopub.status.idle": "2024-12-19T17:14:34.278336Z",
     "shell.execute_reply": "2024-12-19T17:14:34.277230Z",
     "shell.execute_reply.started": "2024-12-19T17:14:34.161141Z"
    },
    "trusted": true
   },
   "outputs": [],
   "source": [
    "# !rm -rf checkpoint/"
   ]
  },
  {
   "cell_type": "code",
   "execution_count": null,
   "metadata": {
    "execution": {
     "iopub.execute_input": "2024-12-19T17:15:10.902900Z",
     "iopub.status.busy": "2024-12-19T17:15:10.902399Z",
     "iopub.status.idle": "2024-12-19T17:15:11.022551Z",
     "shell.execute_reply": "2024-12-19T17:15:11.021416Z",
     "shell.execute_reply.started": "2024-12-19T17:15:10.902849Z"
    },
    "trusted": true
   },
   "outputs": [],
   "source": [
    "# !rm -rf going_modular"
   ]
  },
  {
   "cell_type": "code",
   "execution_count": null,
   "metadata": {
    "execution": {
     "iopub.execute_input": "2024-12-19T17:01:26.606212Z",
     "iopub.status.busy": "2024-12-19T17:01:26.605566Z",
     "iopub.status.idle": "2024-12-19T17:01:27.345728Z",
     "shell.execute_reply": "2024-12-19T17:01:27.344784Z",
     "shell.execute_reply.started": "2024-12-19T17:01:26.606182Z"
    },
    "trusted": true
   },
   "outputs": [],
   "source": [
    "import warnings\n",
    "warnings.filterwarnings(\"ignore\")\n",
    "\n",
    "import torch\n",
    "from torchvision import transforms\n",
    "from torch.utils.data import DataLoader\n",
    "from torch.optim import Adam\n",
    "from torch.optim.lr_scheduler import CosineAnnealingWarmRestarts\n",
    "import albumentations as A\n",
    "\n",
    "\n",
    "from going_modular.model.backbone.iresnet import iresnet18\n",
    "from going_modular.model.TripletFaceRecognition import TripletNet\n",
    "from going_modular.dataloader.triplet import TripletDataset\n",
    "from going_modular.loss.TripletLoss import TripletLoss\n",
    "from going_modular.train_eval.triplet.train import fit\n",
    "from going_modular.dataloader.triplet import CustomExrDataset\n",
    "from going_modular.utils.MultiMetricEarlyStopping import MultiMetricEarlyStopping\n",
    "from going_modular.utils.ModelCheckPoint import ModelCheckpoint\n",
    "from going_modular.utils.transforms import RandomResizedCropRect, GaussianNoise\n",
    "\n",
    "import os\n",
    "\n",
    "device = \"cuda\" if torch.cuda.is_available() else \"cpu\"\n",
    "print(device)\n",
    "os.environ[\"PYTORCH_CUDA_ALLOC_CONF\"] = \"expandable_segments:True\"\n",
    "\n",
    "# Đặt seed toàn cục\n",
    "seed = 42\n",
    "torch.manual_seed(seed)\n",
    "\n",
    "CONFIGURATION = {\n",
    "    # Thư mục\n",
    "    'type': 'albedo',\n",
    "    'train_dir': '/kaggle/input/hoangvn-3dfacerecognition/Albedo/train',\n",
    "    'test_dir': '/kaggle/input/hoangvn-3dfacerecognition/Albedo/test',\n",
    "    \n",
    "    # Cấu hình train\n",
    "    'epochs': 400,\n",
    "    'num_workers': 4,\n",
    "    'batch_size': 16,\n",
    "    'image_size': 256,\n",
    "    'embedding_size': 512,\n",
    "    \n",
    "    'start_lr': 1e-4,\n",
    "    'weight_decay': 5e-4,\n",
    "    'momentum': 0.9,\n",
    "    'alpha': 0.9,\n",
    "    \n",
    "    # triplet\n",
    "    'margin': 1.,\n",
    "}\n",
    "\n",
    "train_transform = A.Compose([\n",
    "    RandomResizedCropRect(256),\n",
    "    GaussianNoise(),\n",
    "])\n",
    "\n",
    "test_transform = A.Compose([\n",
    "    A.Resize(height=CONFIGURATION['image_size'], width=CONFIGURATION['image_size'])\n",
    "])\n",
    "\n",
    "triplet_train_dataset = TripletDataset(data_dir=CONFIGURATION['train_dir'], transform=train_transform, train=True)\n",
    "triplet_test_dataset = TripletDataset(data_dir=CONFIGURATION['train_dir'], transform=test_transform, train=False)\n",
    "\n",
    "triplet_train_loader = DataLoader(\n",
    "    triplet_train_dataset, \n",
    "    batch_size=CONFIGURATION['batch_size'], \n",
    "    shuffle=True,\n",
    "    num_workers=4,\n",
    "    pin_memory=True\n",
    ")\n",
    "\n",
    "triplet_test_loader = DataLoader(\n",
    "    triplet_test_dataset, \n",
    "    batch_size=CONFIGURATION['batch_size'], \n",
    "    shuffle=False,\n",
    "    num_workers=4,\n",
    "    pin_memory=True\n",
    ")\n",
    "\n",
    "roc_train_dataset = CustomExrDataset(CONFIGURATION['train_dir'], transform=train_transform, type=CONFIGURATION['type'])\n",
    "roc_train_loader = DataLoader(\n",
    "    roc_train_dataset,\n",
    "    num_workers=4,\n",
    "    batch_size=CONFIGURATION['batch_size'],\n",
    ")\n",
    "\n",
    "roc_test_dataset = CustomExrDataset(CONFIGURATION['test_dir'], transform=test_transform, type=CONFIGURATION['type'])\n",
    "roc_test_loader = DataLoader(\n",
    "    roc_test_dataset,\n",
    "    num_workers=4,\n",
    "    batch_size=CONFIGURATION['batch_size'],\n",
    ")\n",
    "\n",
    "backbone = iresnet18(num_classes=CONFIGURATION['embedding_size']).to(device)\n",
    "model = TripletNet(backbone).to(device)\n",
    "criterion = TripletLoss(CONFIGURATION['margin'])\n",
    "optimizer = Adam(model.parameters(), lr=CONFIGURATION['start_lr'])\n",
    "scheduler = CosineAnnealingWarmRestarts(optimizer, T_0=50, T_mult=1, eta_min=1e-6)\n",
    "\n",
    "earlystop_dir = os.path.abspath('checkpoint/new/' + CONFIGURATION['type'] + '/models')\n",
    "\n",
    "early_max_stopping = MultiMetricEarlyStopping(\n",
    "    monitor_keys=['cosine_auc', 'euclidean_auc'],\n",
    "    patience=1000,\n",
    "    mode='max',\n",
    "    verbose=,\n",
    "    save_dir=earlystop_dir,\n",
    "    start_from_epoch=40\n",
    ")      \n",
    "\n",
    "checkpoint_path = os.path.abspath('checkpoint/new/' + CONFIGURATION['type'] + '/models/checkpoint.pth')\n",
    "modle_checkpoint = ModelCheckpoint(filepath=checkpoint_path, verbose=1)"
   ]
  },
  {
   "cell_type": "code",
   "execution_count": null,
   "metadata": {
    "execution": {
     "iopub.execute_input": "2024-12-19T17:01:37.563103Z",
     "iopub.status.busy": "2024-12-19T17:01:37.562809Z",
     "iopub.status.idle": "2024-12-19T17:02:18.897716Z",
     "shell.execute_reply": "2024-12-19T17:02:18.896107Z",
     "shell.execute_reply.started": "2024-12-19T17:01:37.563082Z"
    },
    "trusted": true
   },
   "outputs": [],
   "source": [
    "fit(\n",
    "    conf=CONFIGURATION,\n",
    "    start_epoch=0,\n",
    "    model=model,\n",
    "    triplet_train_loader=triplet_train_loader, \n",
    "    triplet_test_loader=triplet_test_loader, \n",
    "    criterion=criterion,\n",
    "    optimizer=optimizer, \n",
    "    scheduler=scheduler, \n",
    "    epochs=CONFIGURATION['epochs'], \n",
    "    device=device, \n",
    "    roc_train_loader=roc_train_loader, \n",
    "    roc_test_loader=roc_test_loader,\n",
    "    early_max_stopping=early_max_stopping,\n",
    "    model_checkpoint=modle_checkpoint\n",
    ")"
   ]
  },
  {
   "cell_type": "code",
   "execution_count": null,
   "metadata": {
    "trusted": true
   },
   "outputs": [],
   "source": []
  }
 ],
 "metadata": {
  "kaggle": {
   "accelerator": "gpu",
   "dataSources": [
    {
     "datasetId": 6338037,
     "sourceId": 10247612,
     "sourceType": "datasetVersion"
    }
   ],
   "dockerImageVersionId": 30823,
   "isGpuEnabled": true,
   "isInternetEnabled": true,
   "language": "python",
   "sourceType": "notebook"
  },
  "kernelspec": {
   "display_name": "Python 3",
   "language": "python",
   "name": "python3"
  },
  "language_info": {
   "codemirror_mode": {
    "name": "ipython",
    "version": 3
   },
   "file_extension": ".py",
   "mimetype": "text/x-python",
   "name": "python",
   "nbconvert_exporter": "python",
   "pygments_lexer": "ipython3",
   "version": "3.10.12"
  }
 },
 "nbformat": 4,
 "nbformat_minor": 4
}
