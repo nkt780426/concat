{
 "cells": [
  {
   "cell_type": "code",
   "execution_count": 1,
   "metadata": {},
   "outputs": [
    {
     "ename": "ModuleNotFoundError",
     "evalue": "No module named 'open3d'",
     "output_type": "error",
     "traceback": [
      "\u001b[0;31m---------------------------------------------------------------------------\u001b[0m",
      "\u001b[0;31mModuleNotFoundError\u001b[0m                       Traceback (most recent call last)",
      "Cell \u001b[0;32mIn[1], line 3\u001b[0m\n\u001b[1;32m      1\u001b[0m \u001b[38;5;28;01mimport\u001b[39;00m \u001b[38;5;21;01mcv2\u001b[39;00m\n\u001b[1;32m      2\u001b[0m \u001b[38;5;28;01mimport\u001b[39;00m \u001b[38;5;21;01mnumpy\u001b[39;00m \u001b[38;5;28;01mas\u001b[39;00m \u001b[38;5;21;01mnp\u001b[39;00m\n\u001b[0;32m----> 3\u001b[0m \u001b[38;5;28;01mimport\u001b[39;00m \u001b[38;5;21;01mopen3d\u001b[39;00m \u001b[38;5;28;01mas\u001b[39;00m \u001b[38;5;21;01mo3d\u001b[39;00m\n\u001b[1;32m      4\u001b[0m \u001b[38;5;28;01mimport\u001b[39;00m \u001b[38;5;21;01mmatplotlib\u001b[39;00m\u001b[38;5;21;01m.\u001b[39;00m\u001b[38;5;21;01mpyplot\u001b[39;00m \u001b[38;5;28;01mas\u001b[39;00m \u001b[38;5;21;01mplt\u001b[39;00m\n\u001b[1;32m      5\u001b[0m \u001b[38;5;28;01mimport\u001b[39;00m \u001b[38;5;21;01mscipy\u001b[39;00m\n",
      "\u001b[0;31mModuleNotFoundError\u001b[0m: No module named 'open3d'"
     ]
    }
   ],
   "source": [
    "import cv2\n",
    "import numpy as np\n",
    "import open3d as o3d\n",
    "import matplotlib.pyplot as plt\n",
    "import scipy\n",
    "from sklearn.preprocessing import normalize"
   ]
  },
  {
   "cell_type": "markdown",
   "metadata": {},
   "source": [
    "# Các hàm visulization"
   ]
  },
  {
   "cell_type": "code",
   "execution_count": 4,
   "metadata": {},
   "outputs": [],
   "source": [
    "image_row = image_col = 120"
   ]
  },
  {
   "cell_type": "code",
   "execution_count": 5,
   "metadata": {},
   "outputs": [],
   "source": [
    "# Visualizing the mark (size: 'image width' * 'image height')\n",
    "def mask_visualization(M):\n",
    "    # reshape được sử dụng để thay đổi hình dạng của mảng numpy thành 1 mảng 2 chiều. Tương tự như resize\n",
    "    # copy tạo 1 bản copy của numpy\n",
    "    mask = np.copy(np.reshape(M, (image_row, image_col)))\n",
    "    plt.figure()\n",
    "    plt.imshow(mask, cmap= 'gray')\n",
    "    plt.title('Mask')\n",
    "    \n",
    "# Visualizing the unit normal vector in RGB color space\n",
    "# N is thr normal map which contains the 'unit normal vector' of all pixel (size: 'image with' * 'image height' * 3)\n",
    "def normal_visualization(N):\n",
    "    N_map = np.copy(np.reshape(N, (image_row, image_col, 3)))\n",
    "    # Rescale to [0, 1] float number\n",
    "    N_map = (N_map + 1.0)/2.0\n",
    "    plt.figure()\n",
    "    plt.imshow(N_map)\n",
    "    plt.title('Normal map')\n",
    "    \n",
    "# Visualizing the depth of the 2D image\n",
    "# D is the depth map contains \"Only the z value\" of all pixels (size: 'image width' * 'image height')\n",
    "def deepth_visualization(D):\n",
    "    # Định D thành mảng 2 chiều numpy\n",
    "    D_map = np.copy(np.reshape(D, (image_row, image_col)))\n",
    "    # D = np.unit8(D)\n",
    "    plt.figure()\n",
    "    plt.imshow(D_map)\n",
    "    # Thêm thanh màu hiển thị độ sâu đến camera\n",
    "    plt.colorbar(label='Distance to Camera')\n",
    "    plt.title('Deep map')\n",
    "    plt.xlabel('X Pixel')\n",
    "    plt.ylabel('Y Pixel')"
   ]
  },
  {
   "cell_type": "markdown",
   "metadata": {},
   "source": [
    "Depth map trong photometric stereo là 1 bản đồ để mô tả độ sâu của các điểm ảnh trong 1 ảnh 3D. Trong máy tính:\n",
    "- Bản đồ độ sâu có kích thước tương tự như ảnh gốc về dài và rộng và là ma trận 1 chiều z. Khi làm việc thường phải đổi thành ma trận 2 chiều z[i][j] trong đó i, j là dài rộng của ảnh.\n",
    "- Các phần tử thường số thực để thể hiện độ sâu của vật thể so với camera. Khi là số thực sẽ cho biểu diễn chính xác hơn (ví dụ 0,5 và 0, 6) do đó nên lưu dưới dạng exr format sẽ bảo toàn thông tin hơn. Tuy nhiên các định dạng ảnh phổ biến như png và jpg sẽ lưu ảnh dưới dạng số nguyên nên thường làm mất dữ liệu.\n",
    "    - png: lưu hình ảnh dưới dạng unit8 (dùng 8 bit để biểu diễn pixel => Giá trị từ 0 -> 255). Ngoài ra mỗi pixel ngoài (R,G,B) còn có thêm 1 trường alpha cho độ trong suốt.\n",
    "    - jpg: thực hiện nén ảnh. JPG chia ảnh thành các block 8 * 8 pixel và thực hiện chuyển đổi sang không gian mày YcbCr và nén lại => Giảm độ chính xác của ảnh còn hơn png và hiển nhiên nó nhẹ hơn.\n",
    "    - exr: lưu hình ảnh ở dạng số thực không convert gì (có thể âm, dương, ....) nên giữ được chi tiết ảnh cao nhất cho phép lưu trữ và xử lý hình ảnh HDR và cung cấp nhiều thông tin màu sắc hơn. Được sử dụng rất nhiều trong các ứng dụng sản xuất chuyên nghiệp và đồ họa 3D. Muốn đọc được ảnh exr cần phải cài tool."
   ]
  },
  {
   "cell_type": "code",
   "execution_count": 6,
   "metadata": {},
   "outputs": [],
   "source": [
    "# convert depth map to point cloud and save and save it to plt file\n",
    "# Z is the deep map which contains 'only the z value' of all pixels (size:'image width' * 'image height')\n",
    "def save_plt(Z, filepath):\n",
    "    # Đổi ma trận Z thành ma trận 2 chiều numpy\n",
    "    Z_map = np.reshape(Z, (image_row, image_col)).copy()\n",
    "    # Tạo 1 mảng data 2 chiều có kích thước (image_row * image_col, 3), mỗi phần tử là float32. Dùng để chứa dữ liệu tọa độ các điểm (x, y, z) trong không gian 3D, điểm khác là dùng x*y để đánh số thứ tự các điểm thay vì sử dụng mảng 3 chiều.\n",
    "    data = np.zeros((image_row*image_col, 3), dtype=np.float32)\n",
    "    # trong 1 depth map: mỗi pixel chứa giá trị độ sâu Z tương ứng với khoảng cách từ bề mặt của đối tượng đến camera\n",
    "    # Nếu 1 pixel có giá trị độ sâu 0, điều đó có thể biểu thị cho không có thông tin về độ sâu tại vị trí đó hoặc vị trí đó là nền (backgroud) không phải là 1 đối tượng cần tái tạo\n",
    "    # Thay thế các điểm có độ sâu bằng 0 bằng giá trị nhỏ nhất trong ma trận Z_map nhằm xử lý những pixel vô nghĩa trong depth map.\n",
    "    # Khi tạo point cloud khi pixel có độ sâu bằng 0 có thể gây ra các điểm vô nghĩa trong không gian 3d. Việc thay thế chúng bằng giá trị gần với đối tượng 3D giúp đảm bảo toàn bộ dữ liệu trong deepmap\n",
    "    baseline_val = np.min(Z_map)\n",
    "    Z_map[np.where(Z_map == 0)] = baseline_val\n",
    "    # Duyệt qua từng pixel trong z map. Mỗi pixel chuyển đổi thành 1 điểm 3D trong không gian tọa độ x, y, z\n",
    "    for i in range(image_row):\n",
    "        for j in range(image_col):\n",
    "            idx = i * image_col + j\n",
    "            # Tọa độ x được gán bằng chỉ số cột (j).\n",
    "            data[idx][0] = j\n",
    "            # Tọa độ y được gán bằng chỉ số hàng (i).\n",
    "            data[idx][1] = i\n",
    "            # Tọa độ z được gán giá trị độ sâu từ Z_map, nhưng có một điều cần lưu ý là việc sử dụng image_row - 1 - j có thể là một lỗi, nên cần xem xét lại để đảm bảo đúng trật tự.\n",
    "            data[idx][2] = Z_map[image_row - 1 - j][j]\n",
    "            \n",
    "    # output to ply file\n",
    "    # Tạo 1 đối tượng PointCloud từ thư viện Open 3D. Đối tượng này được sử dụng để lưu trữ các điểm 3D.\n",
    "    pcd = o3d.geometry.PointCloud()\n",
    "    # Gán tọa độ điểm cho đối tượng PointCloud. Đầu vào là ma trận 2 chiều kích thước (n * 3) trong đó n là số lượng điểm 3D mà bạn muốn lưu trữ. Mỗi hàng của ma trận này chứa tọa độ (x, y, z) của 1 điểm.\n",
    "    pcd.points = o3d.utility.Vector3dVector(data)\n",
    "    # Lưu đám mây điểm vào file được chỉ định.\n",
    "    o3d.io.write_print_cloud(filepath)\n",
    "    # Hiển thị đám mây điểm ngay lập tức.\n",
    "    o3d.visualization.draw_geometries([pcd])\n",
    "    \n",
    "# show the results os saved ply file\n",
    "def show_ply(filepath):\n",
    "    pcd = o3d.io.read_point_cloud(filepath)\n",
    "    o3d.visualization.draw_geometries([pcd])\n",
    "    \n",
    "# read the .bmp file and return numpy array\n",
    "def read_bmp(filepath):\n",
    "    global image_row\n",
    "    global image_col\n",
    "    image = cv2.imread(filepath, cv2.IMREAD_GRAYSCALE) # Đọc ảnh ở hệ grayscale\n",
    "    image_row, image_col = image.shape\n",
    "    return image"
   ]
  },
  {
   "cell_type": "markdown",
   "metadata": {},
   "source": [
    "# Normal and Mask"
   ]
  },
  {
   "cell_type": "markdown",
   "metadata": {},
   "source": [
    "![](images/ILN.png)\n",
    "\n",
    "![](images/ILN2.png)"
   ]
  },
  {
   "cell_type": "code",
   "execution_count": 7,
   "metadata": {},
   "outputs": [],
   "source": [
    "# Tính toán normal map từ 1 chuỗi ảnh từ 1 chuỗi ảnh bmp và ma trận chiếu sáng L\n",
    "def normal_and_mask(path, L):\n",
    "    # Đọ 6 ảnh từ path\n",
    "    img = []\n",
    "    for i in range(1,7):\n",
    "        img.append(read_bmp(path+'pic{}.bmp'.format(i)))\n",
    "    img = np.array(img)\n",
    "    I = img.reshape(6, -1)\n",
    "    \n",
    "    # Ma trận L có kích thước 6*3, thực hiện chuẩn hóa nó theo từng hàng để đảo bảo các vector s có độ dài là 1.\n",
    "    for i in range(6):\n",
    "        L[i] = L[i]/np.linalg.norm(L[i])\n",
    "    # Lt là ma trận chuyển vị của L. Hệ phương trình psedo-inverse.\n",
    "    Lt = L.T\n",
    "    \n",
    "    # dot: nhân 2 ma trận, linalg: nghịch đảo ma trận\n",
    "    tmp1 = np.linalg.inv(np.dot(Lt, L))\n",
    "    tmp2 = np.dot(Lt, I)\n",
    "    Kdn = np.dot(tmp1, tmp2)\n",
    "    # Normal map là 1 ma trận 3 chiều. Trong đó dài rộng là kích thước ảnh, các phần tử trong ảnh là 1 tupple (n_x, n_y,z). Chính là px, py, z.\n",
    "    N = normalize(Kdn, axis=0).T\n",
    "    \n",
    "    # Bản đồ mask, cho biết vùng nào trong ảnh là có thông tin hữu ích (đối tượng) và các vùng còn lại là không hữu ích (nền)\n",
    "    # Phần tử trong mark = 1 nếu nó chứa thông tin và 0 cho các pixel không có thông tin\n",
    "    # img[0] là ảnh đầu tiên của vật thể trong dataset\n",
    "    mask = np.where(img[0]!=0,1,0)\n",
    "    \n",
    "    normal_visualization(N)\n",
    "    mask_visualization(mask)\n",
    "    \n",
    "    return N,mask"
   ]
  },
  {
   "cell_type": "markdown",
   "metadata": {},
   "source": [
    "# Depth map"
   ]
  },
  {
   "cell_type": "markdown",
   "metadata": {},
   "source": [
    "![](images/depth.png)\n",
    "\n",
    "![](images/depth2.png)"
   ]
  },
  {
   "cell_type": "code",
   "execution_count": 8,
   "metadata": {},
   "outputs": [],
   "source": [
    "import scipy.sparse\n",
    "import scipy.sparse.linalg\n",
    "\n",
    "# Phân tích bản đồ độ sâu dựa vào Normal map và mask của nó\n",
    "def depth_map(N,mask):\n",
    "    nrows, ncols = mask.shape\n",
    "    # Ma trận normal_max là \n",
    "    N= np.reshape(N, (nrows, ncols,3))\n",
    "    \n",
    "    # Từ ma trận mark, ta rút ra được hình dạng của vật thể, 2 biến obj_h, obj_w là toạ độ pixel mà nó thuộc vật thể\n",
    "    obj_h, obj_w = np.where(mask!=0)\n",
    "    index = np.zeros(obj_h)\n",
    "    numPixels = np.size(obj_h)\n",
    "    \n",
    "    for d in range(numPixels):\n",
    "        index[obj_h[d], obj_w[d]] = d\n",
    "    \n",
    "    # Phtometric gradient space\n",
    "    # Ma trận thưc M được khởi tạo với kích thước 2 * numPixels hàng và numPixels cột. Mỗi pixel có 2 phương trình cho chiều ngang và dọc\n",
    "    M = scipy.sparse.lil_matrix(2*numPixels, numPixels)\n",
    "    # vector giá trị cần tính toán\n",
    "    v= np.zeros((2*numPixels, 1))\n",
    "    \n",
    "    # Tính toán ma trận M và vector N\n",
    "    for idx in range(numPixels):\n",
    "        h = obj_h[idx]\n",
    "        w = obj_w[idx]\n",
    "        \n",
    "        n_x = N[h, w, 0]\n",
    "        n_y = N[h, w, 1]\n",
    "        n_z = N[h, w, 3]\n",
    "        \n",
    "        row_idx = idx * 2\n",
    "        if mask[h, w+1]: # pixel bên phải\n",
    "            idx_horiz = index[h, w+1]\n",
    "            M[row_idx, idx] = -1\n",
    "            M[row_idx,idx_horiz] = 1\n",
    "            v[row_idx] = - n_x / n_z\n",
    "        elif mask[h, w-1]: #  pixel bên trái\n",
    "            idx_horiz = index[h, w-1]\n",
    "            M[row_idx, idx] = 1\n",
    "            M[row_idx,idx_horiz] = -1\n",
    "            v[row_idx] = - n_x / n_z\n",
    "            \n",
    "        row_idx = idx * 2+1\n",
    "        if mask[h+1, w]: # pixel bên dưới\n",
    "            idx_vert = index[h+1, w]\n",
    "            M[row_idx, idx] = 1\n",
    "            M[row_idx,idx_vert] = -1\n",
    "            v[row_idx] = - n_y / n_z\n",
    "        elif mask[h-1, w]: # pixel bên trên\n",
    "            idx_vert = index[h-1, w]\n",
    "            M[row_idx,idx_vert] = 1\n",
    "            M[row_idx, idx] = -1\n",
    "            v[row_idx] = - n_y / n_z\n",
    "    \n",
    "    MtM = M * T @ M\n",
    "    Mtv = M * T @ v\n",
    "    z = scipy.sparse.linalg.spsolve(MtM, Mtv)\n",
    "    \n",
    "    # Tạo ma trận độ sâu\n",
    "    Z = mask.astype('float')\n",
    "    for index in range(numPixels):\n",
    "        h = obj_h[idx]\n",
    "        w = obj_w[idx]\n",
    "        Z[h, w] = z[idx]\n",
    "        \n",
    "    deepth_visualization(Z)\n",
    "    return Z"
   ]
  },
  {
   "cell_type": "markdown",
   "metadata": {},
   "source": [
    "# Star"
   ]
  },
  {
   "cell_type": "code",
   "execution_count": null,
   "metadata": {},
   "outputs": [],
   "source": [
    "path = './dataset'\n",
    "\n",
    "L = np.array(\n",
    "    [323, 35, 133],\n",
    "    [531, -442, 435],\n",
    "    [52, -115, 121],\n",
    "    [-1012, -744, 742],\n",
    "    [-245, 54, 125],\n",
    "    [-342, -2850, 1070]\n",
    ").asType(np.float32)\n",
    "\n",
    "N,mask = normal_and_mask(path, L)\n",
    "Z = depth_map(N, mask)\n",
    "\n",
    "save_plt(Z, './star.ply')"
   ]
  }
 ],
 "metadata": {
  "kernelspec": {
   "display_name": "doan",
   "language": "python",
   "name": "python3"
  },
  "language_info": {
   "codemirror_mode": {
    "name": "ipython",
    "version": 3
   },
   "file_extension": ".py",
   "mimetype": "text/x-python",
   "name": "python",
   "nbconvert_exporter": "python",
   "pygments_lexer": "ipython3",
   "version": "3.10.12"
  }
 },
 "nbformat": 4,
 "nbformat_minor": 2
}
