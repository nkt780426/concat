{
 "cells": [
  {
   "cell_type": "code",
   "execution_count": 1,
   "id": "4a061a53",
   "metadata": {
    "_cell_guid": "b1076dfc-b9ad-4769-8c92-a6c4dae69d19",
    "_uuid": "8f2839f25d086af736a60e9eeb907d3b93b6e0e5",
    "execution": {
     "iopub.execute_input": "2024-12-19T17:33:54.075201Z",
     "iopub.status.busy": "2024-12-19T17:33:54.074953Z",
     "iopub.status.idle": "2024-12-19T17:33:57.527353Z",
     "shell.execute_reply": "2024-12-19T17:33:57.526503Z"
    },
    "papermill": {
     "duration": 3.456777,
     "end_time": "2024-12-19T17:33:57.529095",
     "exception": false,
     "start_time": "2024-12-19T17:33:54.072318",
     "status": "completed"
    },
    "tags": []
   },
   "outputs": [
    {
     "name": "stdout",
     "output_type": "stream",
     "text": [
      "Cloning into 'Bachelor-s-Project'...\r\n",
      "remote: Enumerating objects: 524, done.\u001b[K\r\n",
      "remote: Counting objects: 100% (116/116), done.\u001b[K\r\n",
      "remote: Compressing objects: 100% (84/84), done.\u001b[K\r\n",
      "remote: Total 524 (delta 24), reused 88 (delta 23), pack-reused 408 (from 1)\u001b[K\r\n",
      "Receiving objects: 100% (524/524), 76.95 MiB | 42.36 MiB/s, done.\r\n",
      "Resolving deltas: 100% (25/25), done.\r\n"
     ]
    }
   ],
   "source": [
    "!git clone https://github.com/nkt780426/Bachelor-s-Project.git"
   ]
  },
  {
   "cell_type": "code",
   "execution_count": 2,
   "id": "346d6e14",
   "metadata": {
    "execution": {
     "iopub.execute_input": "2024-12-19T17:33:57.537196Z",
     "iopub.status.busy": "2024-12-19T17:33:57.536945Z",
     "iopub.status.idle": "2024-12-19T17:33:57.654621Z",
     "shell.execute_reply": "2024-12-19T17:33:57.653598Z"
    },
    "papermill": {
     "duration": 0.12288,
     "end_time": "2024-12-19T17:33:57.655914",
     "exception": false,
     "start_time": "2024-12-19T17:33:57.533034",
     "status": "completed"
    },
    "tags": []
   },
   "outputs": [],
   "source": [
    "!mv Bachelor-s-Project/going_modular ."
   ]
  },
  {
   "cell_type": "code",
   "execution_count": 3,
   "id": "c2417a63",
   "metadata": {
    "execution": {
     "iopub.execute_input": "2024-12-19T17:33:57.663129Z",
     "iopub.status.busy": "2024-12-19T17:33:57.662885Z",
     "iopub.status.idle": "2024-12-19T17:33:57.780758Z",
     "shell.execute_reply": "2024-12-19T17:33:57.779776Z"
    },
    "papermill": {
     "duration": 0.122877,
     "end_time": "2024-12-19T17:33:57.782012",
     "exception": false,
     "start_time": "2024-12-19T17:33:57.659135",
     "status": "completed"
    },
    "tags": []
   },
   "outputs": [
    {
     "name": "stdout",
     "output_type": "stream",
     "text": [
      "total 48\r\n",
      "drwxr-xr-x 4 root root  4096 Dec 19 17:33 .\r\n",
      "drwxr-xr-x 6 root root  4096 Dec 19 17:33 ..\r\n",
      "drwxr-xr-x 5 root root  4096 Dec 19 17:33 Bachelor-s-Project\r\n",
      "drwxr-xr-x 7 root root  4096 Dec 19 17:33 going_modular\r\n",
      "---------- 1 root root 30615 Dec 19 17:33 __notebook__.ipynb\r\n"
     ]
    }
   ],
   "source": [
    "!ls -la"
   ]
  },
  {
   "cell_type": "code",
   "execution_count": 4,
   "id": "0c8331e1",
   "metadata": {
    "execution": {
     "iopub.execute_input": "2024-12-19T17:33:57.789487Z",
     "iopub.status.busy": "2024-12-19T17:33:57.789220Z",
     "iopub.status.idle": "2024-12-19T17:34:13.575355Z",
     "shell.execute_reply": "2024-12-19T17:34:13.574340Z"
    },
    "papermill": {
     "duration": 15.792004,
     "end_time": "2024-12-19T17:34:13.577190",
     "exception": false,
     "start_time": "2024-12-19T17:33:57.785186",
     "status": "completed"
    },
    "tags": []
   },
   "outputs": [],
   "source": [
    "import warnings\n",
    "warnings.filterwarnings(\"ignore\")\n",
    "import torch\n",
    "from torchvision import transforms\n",
    "from torch.utils.data import DataLoader\n",
    "from torch.optim import Adam\n",
    "from torch.optim.lr_scheduler import CosineAnnealingWarmRestarts\n",
    "import albumentations as A\n",
    "\n",
    "from going_modular.model.backbone.iresnet import iresnet18\n",
    "from going_modular.model.TripletFaceRecognition import EmbeddingNet, TripletNet\n",
    "from going_modular.dataloader.triplet import TripletDataset\n",
    "from going_modular.loss.TripletLoss import TripletLoss\n",
    "from going_modular.train_eval.triplet.train import fit\n",
    "from going_modular.dataloader.triplet import CustomExrDatasetConcat\n",
    "from going_modular.utils.MultiMetricEarlyStopping import MultiMetricEarlyStopping\n",
    "from going_modular.utils.ModelCheckPoint import ModelCheckpoint\n",
    "from going_modular.utils.transforms import RandomResizedCropRect, GaussianNoise\n",
    "\n",
    "import os\n",
    "\n",
    "import warnings\n",
    "warnings.filterwarnings(\"ignore\")\n",
    "\n",
    "device = \"cuda\" if torch.cuda.is_available() else \"cpu\"\n",
    "os.environ[\"PYTORCH_CUDA_ALLOC_CONF\"] = \"expandable_segments:True\"\n",
    "\n",
    "# Đặt seed toàn cục\n",
    "seed = 42\n",
    "torch.manual_seed(seed)\n",
    "\n",
    "CONFIGURATION = {\n",
    "    # Thư mục\n",
    "    'type': 'normalmap',\n",
    "    'train_dir': '/kaggle/input/hoangvn-3dfacerecognition/Normal_Map/train',\n",
    "    'test_dir': '/kaggle/input/hoangvn-3dfacerecognition/Normal_Map/test',\n",
    "    \n",
    "    # Cấu hình train\n",
    "    'epochs': 400,\n",
    "    'num_workers': 4,\n",
    "    'batch_size': 16,\n",
    "    'image_size': 256,\n",
    "    'embedding_size': 512,\n",
    "    \n",
    "    'start_lr': 1e-4,\n",
    "    'weight_decay': 5e-4,\n",
    "    'momentum': 0.9,\n",
    "    'alpha': 0.9,\n",
    "    \n",
    "    # triplet\n",
    "    'margin': 1.,\n",
    "}\n",
    "\n",
    "train_transform = A.Compose([\n",
    "    RandomResizedCropRect(256),\n",
    "    GaussianNoise(),\n",
    "])\n",
    "\n",
    "test_transform = A.Compose([\n",
    "    A.Resize(height=CONFIGURATION['image_size'], width=CONFIGURATION['image_size'])\n",
    "])\n",
    "\n",
    "triplet_train_dataset = TripletDataset(data_dir=CONFIGURATION['train_dir'], transform=train_transform, type=CONFIGURATION['type'], train=True)\n",
    "triplet_test_dataset = TripletDataset(data_dir=CONFIGURATION['train_dir'], transform=test_transform, type=CONFIGURATION['type'], train=False)\n",
    "\n",
    "triplet_train_loader = DataLoader(\n",
    "    triplet_train_dataset, \n",
    "    batch_size=CONFIGURATION['batch_size'], \n",
    "    shuffle=True,\n",
    "    num_workers=4,\n",
    "    pin_memory=True\n",
    ")\n",
    "\n",
    "triplet_test_loader = DataLoader(\n",
    "    triplet_test_dataset, \n",
    "    batch_size=CONFIGURATION['batch_size'], \n",
    "    shuffle=False,\n",
    "    num_workers=4,\n",
    "    pin_memory=True\n",
    ")\n",
    "\n",
    "roc_train_dataset = CustomExrDatasetConcat(CONFIGURATION['train_dir'], transform=train_transform, type=CONFIGURATION['type'])\n",
    "roc_train_loader = DataLoader(\n",
    "    roc_train_dataset,\n",
    "    num_workers=4,\n",
    "    batch_size=CONFIGURATION['batch_size'],\n",
    ")\n",
    "\n",
    "roc_test_dataset = CustomExrDatasetConcat(CONFIGURATION['test_dir'], transform=test_transform, type=CONFIGURATION['type'])\n",
    "roc_test_loader = DataLoader(\n",
    "    roc_test_dataset,\n",
    "    num_workers=4,\n",
    "    batch_size=CONFIGURATION['batch_size'],\n",
    ")\n",
    "\n",
    "embedding_net = iresnet18(num_classes=CONFIGURATION['embedding_size']).to(device)\n",
    "model = TripletNet(embedding_net).to(device)\n",
    "criterion = TripletLoss(CONFIGURATION['margin'])\n",
    "optimizer = Adam(model.parameters(), lr=CONFIGURATION['start_lr'])\n",
    "scheduler = CosineAnnealingWarmRestarts(optimizer, T_0=50, T_mult=1, eta_min=1e-6)\n",
    "\n",
    "earlystop_dir = os.path.abspath('checkpoint/new/' + CONFIGURATION['type'] + '/models')\n",
    "\n",
    "early_max_stopping = MultiMetricEarlyStopping(\n",
    "    monitor_keys=['cosine_auc', 'euclidean_auc'],\n",
    "    patience=50,\n",
    "    mode='max',\n",
    "    verbose=1,\n",
    "    save_dir=earlystop_dir,\n",
    "    start_from_epoch=40\n",
    ")      \n",
    "\n",
    "checkpoint_path = os.path.abspath('checkpoint/triplet/' + CONFIGURATION['type'] + '/models/checkpoint.pth')\n",
    "modle_checkpoint = ModelCheckpoint(filepath=checkpoint_path, verbose=1)"
   ]
  },
  {
   "cell_type": "code",
   "execution_count": null,
   "id": "904808ce",
   "metadata": {
    "papermill": {
     "duration": 0.00308,
     "end_time": "2024-12-19T17:34:13.584019",
     "exception": false,
     "start_time": "2024-12-19T17:34:13.580939",
     "status": "completed"
    },
    "tags": []
   },
   "outputs": [],
   "source": []
  }
 ],
 "metadata": {
  "kaggle": {
   "accelerator": "gpu",
   "dataSources": [
    {
     "datasetId": 6338037,
     "sourceId": 10247612,
     "sourceType": "datasetVersion"
    }
   ],
   "isGpuEnabled": true,
   "isInternetEnabled": true,
   "language": "python",
   "sourceType": "notebook"
  },
  "kernelspec": {
   "display_name": "Python 3",
   "language": "python",
   "name": "python3"
  },
  "language_info": {
   "codemirror_mode": {
    "name": "ipython",
    "version": 3
   },
   "file_extension": ".py",
   "mimetype": "text/x-python",
   "name": "python",
   "nbconvert_exporter": "python",
   "pygments_lexer": "ipython3",
   "version": "3.10.12"
  },
  "papermill": {
   "default_parameters": {},
   "duration": 24.69754,
   "end_time": "2024-12-19T17:34:16.660912",
   "environment_variables": {},
   "exception": null,
   "input_path": "__notebook__.ipynb",
   "output_path": "__notebook__.ipynb",
   "parameters": {},
   "start_time": "2024-12-19T17:33:51.963372",
   "version": "2.6.0"
  }
 },
 "nbformat": 4,
 "nbformat_minor": 5
}
