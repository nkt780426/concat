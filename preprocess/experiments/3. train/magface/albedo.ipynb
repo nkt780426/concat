{
 "cells": [
  {
   "cell_type": "code",
   "execution_count": null,
   "metadata": {},
   "outputs": [],
   "source": [
    "import os\n",
    "\n",
    "import torch\n",
    "from torchinfo import summary\n",
    "from torch.optim.lr_scheduler import CosineAnnealingWarmRestarts\n",
    "from torchvision import transforms\n",
    "from torchvision.transforms import InterpolationMode\n",
    "\n",
    "from going_modular.dataloader.magface import create_magface_dataloader\n",
    "from going_modular.model.MagFaceRecognition import MagFaceRecognition\n",
    "from going_modular.train_eval.train import fit\n",
    "from going_modular.loss.MagLoss import MagLoss\n",
    "from going_modular.utils.MultiMetricEarlyStopping import MultiMetricEarlyStopping\n",
    "from going_modular.utils.ModelCheckPoint import ModelCheckpoint\n",
    "\n",
    "device = \"cuda\" if torch.cuda.is_available() else \"cpu\"\n",
    "os.environ[\"PYTORCH_CUDA_ALLOC_CONF\"] = \"expandable_segments:True\"\n",
    "\n",
    "# Đặt seed toàn cục\n",
    "seed = 42\n",
    "torch.manual_seed(seed)\n",
    "\n",
    "CONFIGURATION = {\n",
    "    # Thư mục\n",
    "    'type': 'albedo',\n",
    "    'train_dir': './Dataset/Albedo/train',\n",
    "    'test_dir': './Dataset/Albedo/test',\n",
    "    \n",
    "    # Cấu hình train\n",
    "    'backbone': 'iresnet18',\n",
    "    'epochs': 1000,\n",
    "    'num_workers': 4,\n",
    "    'batch_size': 16,\n",
    "    'image_size': 224,\n",
    "    'num_class': len(os.listdir('./Dataset/Albedo/train')),\n",
    "    'embedding_size': 512,\n",
    "    \n",
    "    'learning_rate': 0.2,\n",
    "    'weight_decay': 5e-4,\n",
    "    'momentum': 0.9,\n",
    "    'alpha': 0.9,\n",
    "    \n",
    "    # Hàm m(ai) giúp thay đổi ai từ 0.25 đến 1.6\n",
    "    'scale': 64,\n",
    "    'lambda_g': 20,\n",
    "    'l_margin': 0.45, \n",
    "    'u_margin': 0.8,\n",
    "    'l_a': 10, \n",
    "    'u_a': 110,\n",
    "}\n",
    "\n",
    "train_transform = transforms.Compose([\n",
    "    transforms.RandomCrop(224),\n",
    "])\n",
    "\n",
    "test_transform = transforms.Compose([\n",
    "    transforms.Resize((224,224), interpolation=InterpolationMode.BILINEAR)\n",
    "])\n",
    "\n",
    "train_dataloader, val_dataloader = create_magface_dataloader(CONFIGURATION, train_transform, test_transform)\n",
    "\n",
    "model = MagFaceRecognition(CONFIGURATION).to(device)\n",
    "criterion = MagLoss(conf = CONFIGURATION)\n",
    "\n",
    "optimizer = torch.optim.Adam(model.parameters(), lr=CONFIGURATION['learning_rate'])\n",
    "scheduler = CosineAnnealingWarmRestarts(optimizer, T_0=40, T_mult=1, eta_min=1e-6)\n",
    "checkpoint_path = os.path.abspath('checkpoint/magface/albedo/' + CONFIGURATION['backbone'] + '/models/checkpoint.pth')\n",
    "modle_checkpoint = ModelCheckpoint(filepath=checkpoint_path, verbose=1)\n",
    "earlystop_dir = os.path.abspath('checkpoint/magface/albedo/' + CONFIGURATION['backbone'] + '/models')\n",
    "early_stopping = MultiMetricEarlyStopping(\n",
    "    monitor_keys=['val_euclidean_accuracy', 'val_cosine_accuracy', 'val_auc_euclidean', 'val_auc_cosine'],\n",
    "    patience=40,\n",
    "    mode='max',\n",
    "    verbose=1,\n",
    "    save_dir=earlystop_dir,\n",
    "    start_from_epoch=40\n",
    ")            "
   ]
  },
  {
   "cell_type": "code",
   "execution_count": null,
   "metadata": {},
   "outputs": [],
   "source": [
    "fit(CONFIGURATION, 0, model, device, train_dataloader, val_dataloader, criterion, optimizer, scheduler, early_stopping, modle_checkpoint)"
   ]
  },
  {
   "cell_type": "code",
   "execution_count": null,
   "metadata": {},
   "outputs": [],
   "source": [
    "checkpoint = torch.load('checkpoint/magface/' + CONFIGURATION['type'] + '/' + CONFIGURATION['backbone'] + '/models/checkpoint.pth')\n",
    "model.load_state_dict(checkpoint['model_state_dict'])\n",
    "optimizer.load_state_dict(checkpoint['optimizer_state_dict'])\n",
    "epoch = checkpoint['epoch']\n",
    "print(epoch)"
   ]
  },
  {
   "cell_type": "code",
   "execution_count": null,
   "metadata": {},
   "outputs": [],
   "source": [
    "fit(CONFIGURATION, 246, model, device, train_dataloader, val_dataloader, criterion, optimizer, scheduler, early_stopping, modle_checkpoint)"
   ]
  },
  {
   "cell_type": "code",
   "execution_count": null,
   "metadata": {},
   "outputs": [],
   "source": []
  }
 ],
 "metadata": {
  "kernelspec": {
   "display_name": "torch",
   "language": "python",
   "name": "python3"
  },
  "language_info": {
   "codemirror_mode": {
    "name": "ipython",
    "version": 3
   },
   "file_extension": ".py",
   "mimetype": "text/x-python",
   "name": "python",
   "nbconvert_exporter": "python",
   "pygments_lexer": "ipython3",
   "version": "3.10.12"
  }
 },
 "nbformat": 4,
 "nbformat_minor": 2
}
